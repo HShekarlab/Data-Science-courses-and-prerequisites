{
 "cells": [
  {
   "cell_type": "code",
   "execution_count": 1,
   "id": "21b7d0c3-4890-4be3-9d46-a8d4e004d33b",
   "metadata": {},
   "outputs": [
    {
     "ename": "SyntaxError",
     "evalue": "unterminated string literal (detected at line 1) (2484373182.py, line 1)",
     "output_type": "error",
     "traceback": [
      "\u001b[1;36m  Cell \u001b[1;32mIn[1], line 1\u001b[1;36m\u001b[0m\n\u001b[1;33m    'I'm into Data Science'\u001b[0m\n\u001b[1;37m                          ^\u001b[0m\n\u001b[1;31mSyntaxError\u001b[0m\u001b[1;31m:\u001b[0m unterminated string literal (detected at line 1)\n"
     ]
    }
   ],
   "source": [
    "'I'm into Data Science'"
   ]
  },
  {
   "cell_type": "code",
   "execution_count": 2,
   "id": "74708169-8fc2-4c0f-bdbf-0d3c7a9b56a4",
   "metadata": {},
   "outputs": [
    {
     "data": {
      "text/plain": [
       "\"I'm into Data Science\""
      ]
     },
     "execution_count": 2,
     "metadata": {},
     "output_type": "execute_result"
    }
   ],
   "source": [
    "\"I'm into Data Science\""
   ]
  },
  {
   "cell_type": "code",
   "execution_count": 3,
   "id": "8bef2c9e-3000-4695-82b5-c4f48eaaf84e",
   "metadata": {},
   "outputs": [],
   "source": [
    "question = \"what are you studying?\"\n",
    "answer = \"Data Science\""
   ]
  },
  {
   "cell_type": "code",
   "execution_count": 4,
   "id": "9b9d841f-d601-41cd-967f-3195dd7535d9",
   "metadata": {},
   "outputs": [
    {
     "data": {
      "text/plain": [
       "'what are you studying? Data Science'"
      ]
     },
     "execution_count": 4,
     "metadata": {},
     "output_type": "execute_result"
    }
   ],
   "source": [
    "question + \" \" + answer"
   ]
  },
  {
   "cell_type": "code",
   "execution_count": 5,
   "id": "c2e2ffb1-0946-420e-9d5f-c221a39fc75d",
   "metadata": {},
   "outputs": [
    {
     "data": {
      "text/plain": [
       "'what are you studying?'"
      ]
     },
     "execution_count": 5,
     "metadata": {},
     "output_type": "execute_result"
    }
   ],
   "source": [
    "question"
   ]
  },
  {
   "cell_type": "code",
   "execution_count": 6,
   "id": "146baa8b-2702-438a-8269-05fea36d32fe",
   "metadata": {},
   "outputs": [
    {
     "name": "stdout",
     "output_type": "stream",
     "text": [
      "what are you studying?\n"
     ]
    }
   ],
   "source": [
    "print(question)"
   ]
  },
  {
   "cell_type": "code",
   "execution_count": 7,
   "id": "1120dca7-87ef-4271-bb5f-d46eef12dda1",
   "metadata": {},
   "outputs": [
    {
     "data": {
      "text/plain": [
       "'Data Science'"
      ]
     },
     "execution_count": 7,
     "metadata": {},
     "output_type": "execute_result"
    }
   ],
   "source": [
    "question\n",
    "answer"
   ]
  },
  {
   "cell_type": "code",
   "execution_count": 8,
   "id": "de730afd-9ef8-452c-8adc-e4aea24f8c5a",
   "metadata": {},
   "outputs": [
    {
     "name": "stdout",
     "output_type": "stream",
     "text": [
      "what are you studying?\n",
      "Data Science\n"
     ]
    }
   ],
   "source": [
    "print(question)\n",
    "print(answer)"
   ]
  },
  {
   "cell_type": "code",
   "execution_count": 9,
   "id": "6070ac6a-0f6f-4fac-b3e7-51af9c7f61f2",
   "metadata": {},
   "outputs": [
    {
     "name": "stdout",
     "output_type": "stream",
     "text": [
      "what are you studying?\n",
      "Data Science\n"
     ]
    }
   ],
   "source": [
    "print(question + \"\\n\" + answer)"
   ]
  },
  {
   "cell_type": "code",
   "execution_count": 10,
   "id": "cad84415-83c1-4243-903b-17ebf9370bbe",
   "metadata": {},
   "outputs": [
    {
     "data": {
      "text/plain": [
       "str"
      ]
     },
     "execution_count": 10,
     "metadata": {},
     "output_type": "execute_result"
    }
   ],
   "source": [
    "type(answer)"
   ]
  },
  {
   "cell_type": "code",
   "execution_count": 11,
   "id": "1fc066db-a181-41e4-baa7-1543d7d8876c",
   "metadata": {},
   "outputs": [
    {
     "data": {
      "text/plain": [
       "12"
      ]
     },
     "execution_count": 11,
     "metadata": {},
     "output_type": "execute_result"
    }
   ],
   "source": [
    "len(answer)"
   ]
  },
  {
   "cell_type": "code",
   "execution_count": 12,
   "id": "2aa54e4f-5d63-4eb3-b91d-b2e15edad793",
   "metadata": {},
   "outputs": [
    {
     "data": {
      "text/plain": [
       "'D'"
      ]
     },
     "execution_count": 12,
     "metadata": {},
     "output_type": "execute_result"
    }
   ],
   "source": [
    "answer[0]"
   ]
  },
  {
   "cell_type": "code",
   "execution_count": 13,
   "id": "86c49d61-b9ad-4bd5-937c-c1b2c13f04c3",
   "metadata": {},
   "outputs": [
    {
     "data": {
      "text/plain": [
       "'t'"
      ]
     },
     "execution_count": 13,
     "metadata": {},
     "output_type": "execute_result"
    }
   ],
   "source": [
    "answer[2]"
   ]
  },
  {
   "cell_type": "code",
   "execution_count": 14,
   "id": "9f36a084-632d-4d57-b9b3-9284f9c9ac7f",
   "metadata": {},
   "outputs": [
    {
     "data": {
      "text/plain": [
       "'S'"
      ]
     },
     "execution_count": 14,
     "metadata": {},
     "output_type": "execute_result"
    }
   ],
   "source": [
    "answer[5]"
   ]
  },
  {
   "cell_type": "code",
   "execution_count": 15,
   "id": "e9554f8a-20f5-4710-a378-d46ea69ba2c8",
   "metadata": {},
   "outputs": [
    {
     "data": {
      "text/plain": [
       "'e'"
      ]
     },
     "execution_count": 15,
     "metadata": {},
     "output_type": "execute_result"
    }
   ],
   "source": [
    "answer[11]"
   ]
  },
  {
   "cell_type": "code",
   "execution_count": 16,
   "id": "ffdcd968-c6f2-445f-a57f-ccc62acb3c28",
   "metadata": {},
   "outputs": [
    {
     "data": {
      "text/plain": [
       "'e'"
      ]
     },
     "execution_count": 16,
     "metadata": {},
     "output_type": "execute_result"
    }
   ],
   "source": [
    "answer[-1]"
   ]
  },
  {
   "cell_type": "code",
   "execution_count": 17,
   "id": "05ee8d4e-ed90-42c8-802e-1e16b4ac34f4",
   "metadata": {},
   "outputs": [
    {
     "data": {
      "text/plain": [
       "'ta Science'"
      ]
     },
     "execution_count": 17,
     "metadata": {},
     "output_type": "execute_result"
    }
   ],
   "source": [
    "answer[2:]"
   ]
  },
  {
   "cell_type": "code",
   "execution_count": 18,
   "id": "32af1c4c-4b46-4855-9a74-5a5178a2e01d",
   "metadata": {},
   "outputs": [
    {
     "data": {
      "text/plain": [
       "'ta S'"
      ]
     },
     "execution_count": 18,
     "metadata": {},
     "output_type": "execute_result"
    }
   ],
   "source": [
    "answer[2: 6]"
   ]
  },
  {
   "cell_type": "code",
   "execution_count": 19,
   "id": "5b14b9b2-eb0d-4595-b3b2-74769fab222b",
   "metadata": {},
   "outputs": [
    {
     "data": {
      "text/plain": [
       "'Dt '"
      ]
     },
     "execution_count": 19,
     "metadata": {},
     "output_type": "execute_result"
    }
   ],
   "source": [
    "answer[:6:2]"
   ]
  },
  {
   "cell_type": "code",
   "execution_count": 20,
   "id": "7900f947-15e5-4fae-a94d-cb1442fc8231",
   "metadata": {},
   "outputs": [
    {
     "data": {
      "text/plain": [
       "'ecneicS ataD'"
      ]
     },
     "execution_count": 20,
     "metadata": {},
     "output_type": "execute_result"
    }
   ],
   "source": [
    "answer[::-1]"
   ]
  },
  {
   "cell_type": "code",
   "execution_count": 21,
   "id": "79f9bdf3-b45d-4e38-a612-3f7e31f12728",
   "metadata": {},
   "outputs": [],
   "source": [
    "answer_up = answer.upper()"
   ]
  },
  {
   "cell_type": "code",
   "execution_count": 22,
   "id": "c49805e1-a779-44e2-b080-bb34aafa7e59",
   "metadata": {},
   "outputs": [
    {
     "data": {
      "text/plain": [
       "'Data Science'"
      ]
     },
     "execution_count": 22,
     "metadata": {},
     "output_type": "execute_result"
    }
   ],
   "source": [
    "answer"
   ]
  },
  {
   "cell_type": "code",
   "execution_count": 23,
   "id": "a3176e4d-9acd-4a96-85bb-0b7d01c25824",
   "metadata": {},
   "outputs": [
    {
     "data": {
      "text/plain": [
       "'DATA SCIENCE'"
      ]
     },
     "execution_count": 23,
     "metadata": {},
     "output_type": "execute_result"
    }
   ],
   "source": [
    "answer_up"
   ]
  },
  {
   "cell_type": "code",
   "execution_count": 24,
   "id": "a152d69d-ed8d-4342-871a-8fd45b5836a7",
   "metadata": {},
   "outputs": [],
   "source": [
    "answer_l = answer.lower()"
   ]
  },
  {
   "cell_type": "code",
   "execution_count": 25,
   "id": "1a5ddd59-2075-451e-9c77-73c515d71f17",
   "metadata": {},
   "outputs": [
    {
     "data": {
      "text/plain": [
       "'data science'"
      ]
     },
     "execution_count": 25,
     "metadata": {},
     "output_type": "execute_result"
    }
   ],
   "source": [
    "answer_l"
   ]
  },
  {
   "cell_type": "code",
   "execution_count": 26,
   "id": "6c3d7232-4240-470a-9ac7-6728e29ea228",
   "metadata": {},
   "outputs": [
    {
     "data": {
      "text/plain": [
       "2"
      ]
     },
     "execution_count": 26,
     "metadata": {},
     "output_type": "execute_result"
    }
   ],
   "source": [
    "answer.find(\"t\")"
   ]
  },
  {
   "cell_type": "code",
   "execution_count": 27,
   "id": "ec3b630b-dcc9-430c-ae07-4dc1390190c9",
   "metadata": {},
   "outputs": [
    {
     "data": {
      "text/plain": [
       "5"
      ]
     },
     "execution_count": 27,
     "metadata": {},
     "output_type": "execute_result"
    }
   ],
   "source": [
    "answer.find(\"Science\")"
   ]
  },
  {
   "cell_type": "code",
   "execution_count": 28,
   "id": "2d837479-2ebe-41f0-b09a-a8f4e85fa823",
   "metadata": {},
   "outputs": [
    {
     "data": {
      "text/plain": [
       "-1"
      ]
     },
     "execution_count": 28,
     "metadata": {},
     "output_type": "execute_result"
    }
   ],
   "source": [
    "answer.find(\"science\")"
   ]
  }
 ],
 "metadata": {
  "kernelspec": {
   "display_name": "Python 3 (ipykernel)",
   "language": "python",
   "name": "python3"
  },
  "language_info": {
   "codemirror_mode": {
    "name": "ipython",
    "version": 3
   },
   "file_extension": ".py",
   "mimetype": "text/x-python",
   "name": "python",
   "nbconvert_exporter": "python",
   "pygments_lexer": "ipython3",
   "version": "3.12.1"
  }
 },
 "nbformat": 4,
 "nbformat_minor": 5
}
