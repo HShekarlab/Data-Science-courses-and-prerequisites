{
 "cells": [
  {
   "cell_type": "code",
   "execution_count": 1,
   "id": "a272aeaf-9794-423d-a4fb-43bb8c5e81ee",
   "metadata": {},
   "outputs": [
    {
     "data": {
      "text/html": [
       "\n",
       "        <iframe\n",
       "            width=\"100%\"\n",
       "            height=\"650\"\n",
       "            src=\"http://127.0.0.1:8050/\"\n",
       "            frameborder=\"0\"\n",
       "            allowfullscreen\n",
       "            \n",
       "        ></iframe>\n",
       "        "
      ],
      "text/plain": [
       "<IPython.lib.display.IFrame at 0x16b456557f0>"
      ]
     },
     "metadata": {},
     "output_type": "display_data"
    }
   ],
   "source": [
    "import pandas as pd\n",
    "import plotly.express as px\n",
    "from dash import Dash, html, dcc, Input, Output, State\n",
    "\n",
    "happiness = pd.read_csv(\"world_happiness.csv\")\n",
    "\n",
    "\n",
    "app = Dash()\n",
    "\n",
    "app.layout = html.Div([\n",
    "    \n",
    "    html.H1(\"World Happiness Dashboard\"),  \n",
    "    \n",
    "    html.P([\"This dashboard shows the happiness score.\",\n",
    "            html.Br(),\n",
    "            html.A(\"World Happiness Report Data Source\",\n",
    "                   href= \"https://worldhappiness.report\",\n",
    "                   target= \"_blank\")]),\n",
    "    dcc.RadioItems(id= \"region-radio\",\n",
    "                   options= happiness[\"region\"].unique(),\n",
    "                   value= \"North America\"),\n",
    "    dcc.Dropdown(id= \"country-dropdown\"),\n",
    "    dcc.RadioItems(id= \"data-radio\",\n",
    "                   options= {\"happiness_score\": \"Happiness Score\", \n",
    "                             \"happiness_rank\": \"Happiness Rank\"},\n",
    "                  value= \"happiness_score\"),\n",
    "    html.Br(),\n",
    "    html.Button(id= \"submit-button\",\n",
    "                n_clicks= 0,\n",
    "                children= \"Update the output\"),\n",
    "    dcc.Graph(id= \"happiness-graph\"),\n",
    "    html.Div(id= \"average-div\")\n",
    "    \n",
    "])\n",
    "\n",
    "\n",
    "@app.callback(\n",
    "    Output(\"country-dropdown\", \"options\"),\n",
    "    Output(\"country-dropdown\", \"value\"),\n",
    "    Input(\"region-radio\", \"value\")\n",
    ")\n",
    "\n",
    "def Update_DropDown(selected_region):\n",
    "    filtered_happiness = happiness[happiness[\"region\"] == selected_region]\n",
    "    country_option = filtered_happiness[\"country\"].unique()\n",
    "    return country_option, country_option[0]\n",
    "\n",
    "\n",
    "@app.callback(\n",
    "    Output(\"happiness-graph\", \"figure\"),\n",
    "    Output(\"average-div\", \"children\"),\n",
    "    Input(\"submit-button\", \"n_clicks\"),\n",
    "    State(\"country-dropdown\", \"value\"),\n",
    "    State(\"data-radio\", \"value\")\n",
    ")\n",
    "\n",
    "def Update_Graph(button_click, selected_country, selected_data):\n",
    "    filtered_happiness = happiness[happiness[\"country\"] == selected_country]\n",
    "    line_figure = px.line(filtered_happiness, \n",
    "                      x = \"year\", y = \"happiness_score\", \n",
    "                      title= f\"{selected_data} in {selected_country}\")\n",
    "    selected_average = filtered_happiness[selected_data].mean()\n",
    "    return line_figure, f\"The Average {selected_data} for {selected_country} is {selected_average}\" \n",
    "\n",
    "\n",
    "\n",
    "if __name__ == \"__main__\":\n",
    "    app.run_server(debug= True)"
   ]
  }
 ],
 "metadata": {
  "kernelspec": {
   "display_name": "Python 3 (ipykernel)",
   "language": "python",
   "name": "python3"
  },
  "language_info": {
   "codemirror_mode": {
    "name": "ipython",
    "version": 3
   },
   "file_extension": ".py",
   "mimetype": "text/x-python",
   "name": "python",
   "nbconvert_exporter": "python",
   "pygments_lexer": "ipython3",
   "version": "3.12.1"
  }
 },
 "nbformat": 4,
 "nbformat_minor": 5
}
