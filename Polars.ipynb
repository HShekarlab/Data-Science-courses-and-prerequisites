{
 "cells": [
  {
   "cell_type": "code",
   "execution_count": 1,
   "id": "cf9d5ffa-a949-41fe-b76e-6042e1b01706",
   "metadata": {},
   "outputs": [],
   "source": [
    "import numpy as np\n",
    "import pandas as pd\n",
    "import polars as pl\n",
    "from datetime import date, datetime"
   ]
  },
  {
   "cell_type": "markdown",
   "id": "ac44f1ea-f6ec-4e34-ba4d-0583eb3c7b18",
   "metadata": {},
   "source": [
    "**Series**"
   ]
  },
  {
   "cell_type": "code",
   "execution_count": 2,
   "id": "8da91b01-86a6-495b-8ae3-33fa9e0b939e",
   "metadata": {},
   "outputs": [
    {
     "data": {
      "text/html": [
       "<div><style>\n",
       ".dataframe > thead > tr,\n",
       ".dataframe > tbody > tr {\n",
       "  text-align: right;\n",
       "  white-space: pre-wrap;\n",
       "}\n",
       "</style>\n",
       "<small>shape: (5,)</small><table border=\"1\" class=\"dataframe\"><thead><tr><th>a</th></tr><tr><td>i64</td></tr></thead><tbody><tr><td>1</td></tr><tr><td>2</td></tr><tr><td>3</td></tr><tr><td>4</td></tr><tr><td>5</td></tr></tbody></table></div>"
      ],
      "text/plain": [
       "shape: (5,)\n",
       "Series: 'a' [i64]\n",
       "[\n",
       "\t1\n",
       "\t2\n",
       "\t3\n",
       "\t4\n",
       "\t5\n",
       "]"
      ]
     },
     "execution_count": 2,
     "metadata": {},
     "output_type": "execute_result"
    }
   ],
   "source": [
    "s = pl.Series(\"a\", [1, 2, 3, 4, 5])\n",
    "s"
   ]
  },
  {
   "cell_type": "code",
   "execution_count": 3,
   "id": "6ec59b5c-c5a7-40a1-b711-4f0819bb7001",
   "metadata": {},
   "outputs": [
    {
     "name": "stdout",
     "output_type": "stream",
     "text": [
      "shape: (5,)\n",
      "Series: 'a' [i64]\n",
      "[\n",
      "\t1\n",
      "\t2\n",
      "\t3\n",
      "\t4\n",
      "\t5\n",
      "]\n"
     ]
    }
   ],
   "source": [
    "print(s)"
   ]
  },
  {
   "cell_type": "markdown",
   "id": "05c9507d-5bc3-40ea-8e19-ab4ac4dab650",
   "metadata": {},
   "source": [
    "**DataFrame**"
   ]
  },
  {
   "cell_type": "code",
   "execution_count": 4,
   "id": "7551e155-0c3f-4f65-b309-a8b07aff9687",
   "metadata": {},
   "outputs": [
    {
     "data": {
      "text/html": [
       "<div><style>\n",
       ".dataframe > thead > tr,\n",
       ".dataframe > tbody > tr {\n",
       "  text-align: right;\n",
       "  white-space: pre-wrap;\n",
       "}\n",
       "</style>\n",
       "<small>shape: (5, 3)</small><table border=\"1\" class=\"dataframe\"><thead><tr><th>integer</th><th>date</th><th>float</th></tr><tr><td>i64</td><td>datetime[μs]</td><td>f64</td></tr></thead><tbody><tr><td>1</td><td>2024-01-01 00:00:00</td><td>4.0</td></tr><tr><td>2</td><td>2024-01-02 00:00:00</td><td>5.0</td></tr><tr><td>3</td><td>2024-01-03 00:00:00</td><td>6.0</td></tr><tr><td>4</td><td>2024-01-04 00:00:00</td><td>7.0</td></tr><tr><td>5</td><td>2024-01-05 00:00:00</td><td>8.0</td></tr></tbody></table></div>"
      ],
      "text/plain": [
       "shape: (5, 3)\n",
       "┌─────────┬─────────────────────┬───────┐\n",
       "│ integer ┆ date                ┆ float │\n",
       "│ ---     ┆ ---                 ┆ ---   │\n",
       "│ i64     ┆ datetime[μs]        ┆ f64   │\n",
       "╞═════════╪═════════════════════╪═══════╡\n",
       "│ 1       ┆ 2024-01-01 00:00:00 ┆ 4.0   │\n",
       "│ 2       ┆ 2024-01-02 00:00:00 ┆ 5.0   │\n",
       "│ 3       ┆ 2024-01-03 00:00:00 ┆ 6.0   │\n",
       "│ 4       ┆ 2024-01-04 00:00:00 ┆ 7.0   │\n",
       "│ 5       ┆ 2024-01-05 00:00:00 ┆ 8.0   │\n",
       "└─────────┴─────────────────────┴───────┘"
      ]
     },
     "execution_count": 4,
     "metadata": {},
     "output_type": "execute_result"
    }
   ],
   "source": [
    "df = pl.DataFrame(\n",
    "                  {\"integer\": [1, 2, 3, 4, 5],\n",
    "                   \"date\": [datetime(2024, 1, 1),\n",
    "                            datetime(2024, 1, 2),\n",
    "                            datetime(2024, 1, 3),\n",
    "                            datetime(2024, 1, 4),\n",
    "                            datetime(2024, 1, 5)],\n",
    "                   \"float\": [4.0, 5.0, 6.0, 7.0, 8.0]}\n",
    "                 )\n",
    "\n",
    "df"
   ]
  },
  {
   "cell_type": "code",
   "execution_count": 5,
   "id": "cbdb4f16-bdb9-4069-b93b-607b68c7b469",
   "metadata": {},
   "outputs": [
    {
     "name": "stdout",
     "output_type": "stream",
     "text": [
      "shape: (5, 3)\n",
      "┌─────────┬─────────────────────┬───────┐\n",
      "│ integer ┆ date                ┆ float │\n",
      "│ ---     ┆ ---                 ┆ ---   │\n",
      "│ i64     ┆ datetime[μs]        ┆ f64   │\n",
      "╞═════════╪═════════════════════╪═══════╡\n",
      "│ 1       ┆ 2024-01-01 00:00:00 ┆ 4.0   │\n",
      "│ 2       ┆ 2024-01-02 00:00:00 ┆ 5.0   │\n",
      "│ 3       ┆ 2024-01-03 00:00:00 ┆ 6.0   │\n",
      "│ 4       ┆ 2024-01-04 00:00:00 ┆ 7.0   │\n",
      "│ 5       ┆ 2024-01-05 00:00:00 ┆ 8.0   │\n",
      "└─────────┴─────────────────────┴───────┘\n"
     ]
    }
   ],
   "source": [
    "print(df)"
   ]
  },
  {
   "cell_type": "code",
   "execution_count": 6,
   "id": "83f71900-5142-48fd-b198-bcfa3423f761",
   "metadata": {},
   "outputs": [
    {
     "name": "stdout",
     "output_type": "stream",
     "text": [
      "shape: (3, 3)\n",
      "┌─────────┬─────────────────────┬───────┐\n",
      "│ integer ┆ date                ┆ float │\n",
      "│ ---     ┆ ---                 ┆ ---   │\n",
      "│ i64     ┆ datetime[μs]        ┆ f64   │\n",
      "╞═════════╪═════════════════════╪═══════╡\n",
      "│ 1       ┆ 2024-01-01 00:00:00 ┆ 4.0   │\n",
      "│ 2       ┆ 2024-01-02 00:00:00 ┆ 5.0   │\n",
      "│ 3       ┆ 2024-01-03 00:00:00 ┆ 6.0   │\n",
      "└─────────┴─────────────────────┴───────┘\n"
     ]
    }
   ],
   "source": [
    "print(df.head(3))"
   ]
  },
  {
   "cell_type": "code",
   "execution_count": 7,
   "id": "5a6bb76f-9b68-4200-b4e6-70e70c71c389",
   "metadata": {},
   "outputs": [
    {
     "name": "stdout",
     "output_type": "stream",
     "text": [
      "shape: (2, 3)\n",
      "┌─────────┬─────────────────────┬───────┐\n",
      "│ integer ┆ date                ┆ float │\n",
      "│ ---     ┆ ---                 ┆ ---   │\n",
      "│ i64     ┆ datetime[μs]        ┆ f64   │\n",
      "╞═════════╪═════════════════════╪═══════╡\n",
      "│ 4       ┆ 2024-01-04 00:00:00 ┆ 7.0   │\n",
      "│ 5       ┆ 2024-01-05 00:00:00 ┆ 8.0   │\n",
      "└─────────┴─────────────────────┴───────┘\n"
     ]
    }
   ],
   "source": [
    "print(df.tail(2))"
   ]
  },
  {
   "cell_type": "code",
   "execution_count": 8,
   "id": "e2ecea22-cbc2-49c9-9e80-765ad3b9204e",
   "metadata": {},
   "outputs": [
    {
     "name": "stdout",
     "output_type": "stream",
     "text": [
      "shape: (2, 3)\n",
      "┌─────────┬─────────────────────┬───────┐\n",
      "│ integer ┆ date                ┆ float │\n",
      "│ ---     ┆ ---                 ┆ ---   │\n",
      "│ i64     ┆ datetime[μs]        ┆ f64   │\n",
      "╞═════════╪═════════════════════╪═══════╡\n",
      "│ 5       ┆ 2024-01-05 00:00:00 ┆ 8.0   │\n",
      "│ 2       ┆ 2024-01-02 00:00:00 ┆ 5.0   │\n",
      "└─────────┴─────────────────────┴───────┘\n"
     ]
    }
   ],
   "source": [
    "print(df.sample(2))"
   ]
  },
  {
   "cell_type": "code",
   "execution_count": 9,
   "id": "80d42075-5b48-4ceb-9cb9-c9add8dca017",
   "metadata": {},
   "outputs": [
    {
     "data": {
      "text/plain": [
       "OrderedDict([('integer', Int64),\n",
       "             ('date', Datetime(time_unit='us', time_zone=None)),\n",
       "             ('float', Float64)])"
      ]
     },
     "execution_count": 9,
     "metadata": {},
     "output_type": "execute_result"
    }
   ],
   "source": [
    "df.schema"
   ]
  },
  {
   "cell_type": "code",
   "execution_count": 10,
   "id": "b8bce9c9-7878-49ff-94d4-67d2e92045b0",
   "metadata": {},
   "outputs": [
    {
     "data": {
      "text/html": [
       "<div><style>\n",
       ".dataframe > thead > tr,\n",
       ".dataframe > tbody > tr {\n",
       "  text-align: right;\n",
       "  white-space: pre-wrap;\n",
       "}\n",
       "</style>\n",
       "<small>shape: (9, 4)</small><table border=\"1\" class=\"dataframe\"><thead><tr><th>statistic</th><th>integer</th><th>date</th><th>float</th></tr><tr><td>str</td><td>f64</td><td>str</td><td>f64</td></tr></thead><tbody><tr><td>&quot;count&quot;</td><td>5.0</td><td>&quot;5&quot;</td><td>5.0</td></tr><tr><td>&quot;null_count&quot;</td><td>0.0</td><td>&quot;0&quot;</td><td>0.0</td></tr><tr><td>&quot;mean&quot;</td><td>3.0</td><td>&quot;2024-01-03 00:…</td><td>6.0</td></tr><tr><td>&quot;std&quot;</td><td>1.581139</td><td>null</td><td>1.581139</td></tr><tr><td>&quot;min&quot;</td><td>1.0</td><td>&quot;2024-01-01 00:…</td><td>4.0</td></tr><tr><td>&quot;25%&quot;</td><td>2.0</td><td>&quot;2024-01-02 00:…</td><td>5.0</td></tr><tr><td>&quot;50%&quot;</td><td>3.0</td><td>&quot;2024-01-03 00:…</td><td>6.0</td></tr><tr><td>&quot;75%&quot;</td><td>4.0</td><td>&quot;2024-01-04 00:…</td><td>7.0</td></tr><tr><td>&quot;max&quot;</td><td>5.0</td><td>&quot;2024-01-05 00:…</td><td>8.0</td></tr></tbody></table></div>"
      ],
      "text/plain": [
       "shape: (9, 4)\n",
       "┌────────────┬──────────┬─────────────────────┬──────────┐\n",
       "│ statistic  ┆ integer  ┆ date                ┆ float    │\n",
       "│ ---        ┆ ---      ┆ ---                 ┆ ---      │\n",
       "│ str        ┆ f64      ┆ str                 ┆ f64      │\n",
       "╞════════════╪══════════╪═════════════════════╪══════════╡\n",
       "│ count      ┆ 5.0      ┆ 5                   ┆ 5.0      │\n",
       "│ null_count ┆ 0.0      ┆ 0                   ┆ 0.0      │\n",
       "│ mean       ┆ 3.0      ┆ 2024-01-03 00:00:00 ┆ 6.0      │\n",
       "│ std        ┆ 1.581139 ┆ null                ┆ 1.581139 │\n",
       "│ min        ┆ 1.0      ┆ 2024-01-01 00:00:00 ┆ 4.0      │\n",
       "│ 25%        ┆ 2.0      ┆ 2024-01-02 00:00:00 ┆ 5.0      │\n",
       "│ 50%        ┆ 3.0      ┆ 2024-01-03 00:00:00 ┆ 6.0      │\n",
       "│ 75%        ┆ 4.0      ┆ 2024-01-04 00:00:00 ┆ 7.0      │\n",
       "│ max        ┆ 5.0      ┆ 2024-01-05 00:00:00 ┆ 8.0      │\n",
       "└────────────┴──────────┴─────────────────────┴──────────┘"
      ]
     },
     "execution_count": 10,
     "metadata": {},
     "output_type": "execute_result"
    }
   ],
   "source": [
    "df.describe()"
   ]
  },
  {
   "cell_type": "code",
   "execution_count": 11,
   "id": "543c5f00-44f3-4edb-a5b6-77829f3edd43",
   "metadata": {},
   "outputs": [
    {
     "name": "stdout",
     "output_type": "stream",
     "text": [
      "shape: (9, 4)\n",
      "┌────────────┬──────────┬─────────────────────┬──────────┐\n",
      "│ statistic  ┆ integer  ┆ date                ┆ float    │\n",
      "│ ---        ┆ ---      ┆ ---                 ┆ ---      │\n",
      "│ str        ┆ f64      ┆ str                 ┆ f64      │\n",
      "╞════════════╪══════════╪═════════════════════╪══════════╡\n",
      "│ count      ┆ 5.0      ┆ 5                   ┆ 5.0      │\n",
      "│ null_count ┆ 0.0      ┆ 0                   ┆ 0.0      │\n",
      "│ mean       ┆ 3.0      ┆ 2024-01-03 00:00:00 ┆ 6.0      │\n",
      "│ std        ┆ 1.581139 ┆ null                ┆ 1.581139 │\n",
      "│ min        ┆ 1.0      ┆ 2024-01-01 00:00:00 ┆ 4.0      │\n",
      "│ 25%        ┆ 2.0      ┆ 2024-01-02 00:00:00 ┆ 5.0      │\n",
      "│ 50%        ┆ 3.0      ┆ 2024-01-03 00:00:00 ┆ 6.0      │\n",
      "│ 75%        ┆ 4.0      ┆ 2024-01-04 00:00:00 ┆ 7.0      │\n",
      "│ max        ┆ 5.0      ┆ 2024-01-05 00:00:00 ┆ 8.0      │\n",
      "└────────────┴──────────┴─────────────────────┴──────────┘\n"
     ]
    }
   ],
   "source": [
    "print(df.describe())"
   ]
  },
  {
   "cell_type": "markdown",
   "id": "dd4e45d3-058c-4320-ad20-6c38b1d841ab",
   "metadata": {},
   "source": [
    "## Basic operators"
   ]
  },
  {
   "cell_type": "code",
   "execution_count": 12,
   "id": "0855ee64-d53a-4ba6-a3c3-6c20e7b607e2",
   "metadata": {},
   "outputs": [
    {
     "name": "stdout",
     "output_type": "stream",
     "text": [
      "shape: (5, 4)\n",
      "┌───────┬────────┬──────────┬────────┐\n",
      "│ value ┆ names  ┆ random   ┆ groups │\n",
      "│ ---   ┆ ---    ┆ ---      ┆ ---    │\n",
      "│ i64   ┆ str    ┆ f64      ┆ str    │\n",
      "╞═══════╪════════╪══════════╪════════╡\n",
      "│ 1     ┆ Acacia ┆ 0.998341 ┆ A      │\n",
      "│ 2     ┆ Iris   ┆ 0.394864 ┆ A      │\n",
      "│ 3     ┆ Orchid ┆ 0.35846  ┆ B      │\n",
      "│ null  ┆ Azalea ┆ 0.850184 ┆ C      │\n",
      "│ 5     ┆ null   ┆ 0.441949 ┆ B      │\n",
      "└───────┴────────┴──────────┴────────┘\n"
     ]
    }
   ],
   "source": [
    "df = pl.DataFrame(\n",
    "                  {\"value\": [1, 2, 3, None, 5],\n",
    "                   \"names\": [\"Acacia\", \"Iris\", \"Orchid\", \"Azalea\", None],\n",
    "                   \"random\": np.random.rand(5),\n",
    "                   \"groups\": [\"A\", \"A\", \"B\", \"C\", \"B\"]}\n",
    "                 )\n",
    "\n",
    "print(df)"
   ]
  },
  {
   "cell_type": "markdown",
   "id": "8c2b1c4f-3ecf-4588-9c18-a51c487ea597",
   "metadata": {},
   "source": [
    "**Numerical**"
   ]
  },
  {
   "cell_type": "code",
   "execution_count": 13,
   "id": "3b8acb63-19c5-430d-bf4e-965c8985c36e",
   "metadata": {},
   "outputs": [
    {
     "name": "stdout",
     "output_type": "stream",
     "text": [
      "shape: (5, 4)\n",
      "┌───────────┬───────────┬────────────────┬────────────────┐\n",
      "│ value + 5 ┆ value - 5 ┆ value * random ┆ value / random │\n",
      "│ ---       ┆ ---       ┆ ---            ┆ ---            │\n",
      "│ i64       ┆ i64       ┆ f64            ┆ f64            │\n",
      "╞═══════════╪═══════════╪════════════════╪════════════════╡\n",
      "│ 6         ┆ -4        ┆ 0.998341       ┆ 1.001662       │\n",
      "│ 7         ┆ -3        ┆ 0.789729       ┆ 5.065031       │\n",
      "│ 8         ┆ -2        ┆ 1.07538        ┆ 8.369135       │\n",
      "│ null      ┆ null      ┆ null           ┆ null           │\n",
      "│ 10        ┆ 0         ┆ 2.209747       ┆ 11.313512      │\n",
      "└───────────┴───────────┴────────────────┴────────────────┘\n"
     ]
    }
   ],
   "source": [
    "df_numerical = df.select(\n",
    "                         (pl.col(\"value\") + 5).alias(\"value + 5\"),\n",
    "                         (pl.col(\"value\") - 5).alias(\"value - 5\"),\n",
    "                         (pl.col(\"value\") * pl.col(\"random\")).alias(\"value * random\"),\n",
    "                         (pl.col(\"value\") / pl.col(\"random\")).alias(\"value / random\"),\n",
    "                        )\n",
    "\n",
    "print(df_numerical)"
   ]
  },
  {
   "cell_type": "markdown",
   "id": "0cb3121d-b4bc-444a-9dc9-4156f1209017",
   "metadata": {},
   "source": [
    "**Logical**"
   ]
  },
  {
   "cell_type": "code",
   "execution_count": 14,
   "id": "bc1c5f13-b753-42e9-88d1-ef2a03cd842f",
   "metadata": {},
   "outputs": [
    {
     "name": "stdout",
     "output_type": "stream",
     "text": [
      "shape: (5, 6)\n",
      "┌───────────┬───────────────┬────────────┬────────────┬──────────┬─────────┐\n",
      "│ value > 1 ┆ random <= 0.5 ┆ value != 1 ┆ value == 1 ┆ and_expr ┆ or_expr │\n",
      "│ ---       ┆ ---           ┆ ---        ┆ ---        ┆ ---      ┆ ---     │\n",
      "│ bool      ┆ bool          ┆ bool       ┆ bool       ┆ bool     ┆ bool    │\n",
      "╞═══════════╪═══════════════╪════════════╪════════════╪══════════╪═════════╡\n",
      "│ false     ┆ false         ┆ false      ┆ true       ┆ false    ┆ false   │\n",
      "│ true      ┆ true          ┆ true       ┆ false      ┆ true     ┆ true    │\n",
      "│ true      ┆ true          ┆ true       ┆ false      ┆ true     ┆ true    │\n",
      "│ null      ┆ false         ┆ null       ┆ null       ┆ false    ┆ null    │\n",
      "│ true      ┆ true          ┆ true       ┆ false      ┆ true     ┆ true    │\n",
      "└───────────┴───────────────┴────────────┴────────────┴──────────┴─────────┘\n"
     ]
    }
   ],
   "source": [
    "df_logical = df.select(\n",
    "                       (pl.col(\"value\") > 1).alias(\"value > 1\"),\n",
    "                       (pl.col(\"random\") <= 0.5).alias(\"random <= 0.5\"),\n",
    "                       (pl.col(\"value\") != 1).alias(\"value != 1\"),\n",
    "                       (pl.col(\"value\") == 1).alias(\"value == 1\"),\n",
    "                       ((pl.col(\"random\") <= 0.5) & (pl.col(\"value\") > 1)).alias(\"and_expr\"), \n",
    "                       ((pl.col(\"random\") <= 0.5) | (pl.col(\"value\") > 1)).alias(\"or_expr\")\n",
    "                      )\n",
    "\n",
    "print(df_logical)"
   ]
  },
  {
   "cell_type": "code",
   "execution_count": 15,
   "id": "f985c0f1-8d7b-4fab-bb2c-a24423467258",
   "metadata": {},
   "outputs": [
    {
     "name": "stdout",
     "output_type": "stream",
     "text": [
      "shape: (5, 4)\n",
      "┌───────┬────────┬────────────┬───────────┐\n",
      "│ value ┆ names  ┆ first name ┆ 10x value │\n",
      "│ ---   ┆ ---    ┆ ---        ┆ ---       │\n",
      "│ i64   ┆ str    ┆ str        ┆ f64       │\n",
      "╞═══════╪════════╪════════════╪═══════════╡\n",
      "│ 11    ┆ null   ┆ Acacia     ┆ 27.5      │\n",
      "│ 11    ┆ Acacia ┆ Acacia     ┆ 27.5      │\n",
      "│ 11    ┆ Azalea ┆ Acacia     ┆ 27.5      │\n",
      "│ 11    ┆ Iris   ┆ Acacia     ┆ 27.5      │\n",
      "│ 11    ┆ Orchid ┆ Acacia     ┆ 27.5      │\n",
      "└───────┴────────┴────────────┴───────────┘\n"
     ]
    }
   ],
   "source": [
    "df_select = df.select(pl.sum(\"value\"),\n",
    "                      pl.col(\"names\").sort(),\n",
    "                      pl.col(\"names\").first().alias(\"first name\"),\n",
    "                      (pl.mean(\"value\") * 10).alias(\"10x value\"))\n",
    "\n",
    "print(df_select)"
   ]
  },
  {
   "cell_type": "code",
   "execution_count": 16,
   "id": "2d22a620-ddb2-4b19-b915-55c0ca8777d8",
   "metadata": {},
   "outputs": [
    {
     "name": "stdout",
     "output_type": "stream",
     "text": [
      "shape: (5, 6)\n",
      "┌───────┬────────┬──────────┬────────┬───────────┬───────┐\n",
      "│ value ┆ names  ┆ random   ┆ groups ┆ sum_value ┆ count │\n",
      "│ ---   ┆ ---    ┆ ---      ┆ ---    ┆ ---       ┆ ---   │\n",
      "│ i64   ┆ str    ┆ f64      ┆ str    ┆ i64       ┆ u32   │\n",
      "╞═══════╪════════╪══════════╪════════╪═══════════╪═══════╡\n",
      "│ 1     ┆ Acacia ┆ 0.998341 ┆ A      ┆ 11        ┆ 5     │\n",
      "│ 2     ┆ Iris   ┆ 0.394864 ┆ A      ┆ 11        ┆ 5     │\n",
      "│ 3     ┆ Orchid ┆ 0.35846  ┆ B      ┆ 11        ┆ 5     │\n",
      "│ null  ┆ Azalea ┆ 0.850184 ┆ C      ┆ 11        ┆ 5     │\n",
      "│ 5     ┆ null   ┆ 0.441949 ┆ B      ┆ 11        ┆ 5     │\n",
      "└───────┴────────┴──────────┴────────┴───────────┴───────┘\n"
     ]
    }
   ],
   "source": [
    "df = df.with_columns(pl.sum(\"value\").alias(\"sum_value\"),\n",
    "                     pl.col(\"random\").count().alias(\"count\"))\n",
    "\n",
    "print(df)"
   ]
  },
  {
   "cell_type": "code",
   "execution_count": 17,
   "id": "d3de71c4-5873-40aa-a0fe-5cf69ffdfe3c",
   "metadata": {},
   "outputs": [
    {
     "name": "stdout",
     "output_type": "stream",
     "text": [
      "shape: (3, 6)\n",
      "┌───────┬────────┬──────────┬────────┬───────────┬───────┐\n",
      "│ value ┆ names  ┆ random   ┆ groups ┆ sum_value ┆ count │\n",
      "│ ---   ┆ ---    ┆ ---      ┆ ---    ┆ ---       ┆ ---   │\n",
      "│ i64   ┆ str    ┆ f64      ┆ str    ┆ i64       ┆ u32   │\n",
      "╞═══════╪════════╪══════════╪════════╪═══════════╪═══════╡\n",
      "│ 2     ┆ Iris   ┆ 0.394864 ┆ A      ┆ 11        ┆ 5     │\n",
      "│ 3     ┆ Orchid ┆ 0.35846  ┆ B      ┆ 11        ┆ 5     │\n",
      "│ 5     ┆ null   ┆ 0.441949 ┆ B      ┆ 11        ┆ 5     │\n",
      "└───────┴────────┴──────────┴────────┴───────────┴───────┘\n"
     ]
    }
   ],
   "source": [
    "df_filter = df.filter(pl.col(\"value\") > 1)\n",
    "print(df_filter)"
   ]
  },
  {
   "cell_type": "code",
   "execution_count": 18,
   "id": "ffb54973-bb53-4727-b626-47f5c2971e96",
   "metadata": {},
   "outputs": [
    {
     "name": "stdout",
     "output_type": "stream",
     "text": [
      "shape: (2, 6)\n",
      "┌───────┬────────┬──────────┬────────┬───────────┬───────┐\n",
      "│ value ┆ names  ┆ random   ┆ groups ┆ sum_value ┆ count │\n",
      "│ ---   ┆ ---    ┆ ---      ┆ ---    ┆ ---       ┆ ---   │\n",
      "│ i64   ┆ str    ┆ f64      ┆ str    ┆ i64       ┆ u32   │\n",
      "╞═══════╪════════╪══════════╪════════╪═══════════╪═══════╡\n",
      "│ 3     ┆ Orchid ┆ 0.35846  ┆ B      ┆ 11        ┆ 5     │\n",
      "│ 5     ┆ null   ┆ 0.441949 ┆ B      ┆ 11        ┆ 5     │\n",
      "└───────┴────────┴──────────┴────────┴───────────┴───────┘\n"
     ]
    }
   ],
   "source": [
    "df_filter = df.filter(pl.col(\"groups\") == \"B\")\n",
    "print(df_filter)"
   ]
  },
  {
   "cell_type": "code",
   "execution_count": 19,
   "id": "ac644bd4-35b7-48ab-99cc-6e5db452fcfa",
   "metadata": {},
   "outputs": [
    {
     "name": "stdout",
     "output_type": "stream",
     "text": [
      "shape: (3, 5)\n",
      "┌────────┬───────┬───────┬──────────┬────────────────────┐\n",
      "│ groups ┆ value ┆ count ┆ sum 1    ┆ reverse name       │\n",
      "│ ---    ┆ ---   ┆ ---   ┆ ---      ┆ ---                │\n",
      "│ str    ┆ i64   ┆ u32   ┆ f64      ┆ list[str]          │\n",
      "╞════════╪═══════╪═══════╪══════════╪════════════════════╡\n",
      "│ B      ┆ 8     ┆ 2     ┆ 0.35846  ┆ [null, \"Orchid\"]   │\n",
      "│ C      ┆ 0     ┆ 1     ┆ 0.850184 ┆ [\"Azalea\"]         │\n",
      "│ A      ┆ 3     ┆ 2     ┆ 1.393205 ┆ [\"Iris\", \"Acacia\"] │\n",
      "└────────┴───────┴───────┴──────────┴────────────────────┘\n"
     ]
    }
   ],
   "source": [
    "df_group = df.group_by(\"groups\").agg(pl.sum(\"value\"),\n",
    "                                     pl.col(\"random\").count().alias(\"count\"),\n",
    "                                     pl.col(\"random\").filter(pl.col(\"names\").is_not_null()).sum().alias(\"sum 1\"),\n",
    "                                     pl.col(\"names\").reverse().alias(\"reverse name\")\n",
    "                                    )\n",
    "\n",
    "print(df_group)"
   ]
  },
  {
   "cell_type": "markdown",
   "id": "323f3455-1c0b-4303-acff-0274084c16d2",
   "metadata": {},
   "source": [
    "## Column selections"
   ]
  },
  {
   "cell_type": "code",
   "execution_count": 20,
   "id": "d76cc1f6-e789-4c40-adb6-c72bc24316bf",
   "metadata": {},
   "outputs": [
    {
     "name": "stdout",
     "output_type": "stream",
     "text": [
      "shape: (3, 7)\n",
      "┌───────┬─────┬────────┬────────────┬───────────┬────────────┬─────────────────────┐\n",
      "│ index ┆ id  ┆ place  ┆ date       ┆ sales     ┆ has_people ┆ logged_at           │\n",
      "│ ---   ┆ --- ┆ ---    ┆ ---        ┆ ---       ┆ ---        ┆ ---                 │\n",
      "│ u32   ┆ i64 ┆ str    ┆ date       ┆ f64       ┆ bool       ┆ datetime[μs]        │\n",
      "╞═══════╪═════╪════════╪════════════╪═══════════╪════════════╪═════════════════════╡\n",
      "│ 0     ┆ 9   ┆ Mars   ┆ 2024-01-01 ┆ 33.4      ┆ false      ┆ 2024-12-01 00:00:00 │\n",
      "│ 1     ┆ 4   ┆ Earth  ┆ 2024-01-02 ┆ 2142134.1 ┆ true       ┆ 2024-12-01 00:00:01 │\n",
      "│ 2     ┆ 2   ┆ Saturn ┆ 2024-01-03 ┆ 44.7      ┆ false      ┆ 2024-12-01 00:00:02 │\n",
      "└───────┴─────┴────────┴────────────┴───────────┴────────────┴─────────────────────┘\n"
     ]
    }
   ],
   "source": [
    "df = pl.DataFrame(\n",
    "                  {\"id\": [9, 4, 2],\n",
    "                   \"place\": [\"Mars\", \"Earth\", \"Saturn\"],\n",
    "                   \"date\": pl.date_range(date(2024, 1, 1), date(2024, 1, 3), \"1d\", eager= True),\n",
    "                   \"sales\": [33.4, 2142134.1, 44.7],\n",
    "                   \"has_people\": [False, True, False],\n",
    "                   \"logged_at\": pl.datetime_range(datetime(2024, 12, 1), datetime(2024, 12, 1, 0, 0, 2), \"1s\", eager= True)}\n",
    "                 ).with_row_index(\"index\")\n",
    "\n",
    "print(df)"
   ]
  },
  {
   "cell_type": "code",
   "execution_count": 21,
   "id": "63c07c6c-50a0-4a50-a591-ffd9a841642d",
   "metadata": {},
   "outputs": [
    {
     "name": "stdout",
     "output_type": "stream",
     "text": [
      "shape: (3, 7)\n",
      "┌───────┬─────┬────────┬────────────┬───────────┬────────────┬─────────────────────┐\n",
      "│ index ┆ id  ┆ place  ┆ date       ┆ sales     ┆ has_people ┆ logged_at           │\n",
      "│ ---   ┆ --- ┆ ---    ┆ ---        ┆ ---       ┆ ---        ┆ ---                 │\n",
      "│ u32   ┆ i64 ┆ str    ┆ date       ┆ f64       ┆ bool       ┆ datetime[μs]        │\n",
      "╞═══════╪═════╪════════╪════════════╪═══════════╪════════════╪═════════════════════╡\n",
      "│ 0     ┆ 9   ┆ Mars   ┆ 2024-01-01 ┆ 33.4      ┆ false      ┆ 2024-12-01 00:00:00 │\n",
      "│ 1     ┆ 4   ┆ Earth  ┆ 2024-01-02 ┆ 2142134.1 ┆ true       ┆ 2024-12-01 00:00:01 │\n",
      "│ 2     ┆ 2   ┆ Saturn ┆ 2024-01-03 ┆ 44.7      ┆ false      ┆ 2024-12-01 00:00:02 │\n",
      "└───────┴─────┴────────┴────────────┴───────────┴────────────┴─────────────────────┘\n"
     ]
    }
   ],
   "source": [
    "out = df.select(pl.all())  # df.select(pl.col(\"*\"))\n",
    "print(out)"
   ]
  },
  {
   "cell_type": "code",
   "execution_count": 22,
   "id": "d8b91a0f-9039-4a48-9bb6-b7a5beb88496",
   "metadata": {},
   "outputs": [
    {
     "name": "stdout",
     "output_type": "stream",
     "text": [
      "shape: (3, 5)\n",
      "┌─────┬────────┬────────────┬───────────┬────────────┐\n",
      "│ id  ┆ place  ┆ date       ┆ sales     ┆ has_people │\n",
      "│ --- ┆ ---    ┆ ---        ┆ ---       ┆ ---        │\n",
      "│ i64 ┆ str    ┆ date       ┆ f64       ┆ bool       │\n",
      "╞═════╪════════╪════════════╪═══════════╪════════════╡\n",
      "│ 9   ┆ Mars   ┆ 2024-01-01 ┆ 33.4      ┆ false      │\n",
      "│ 4   ┆ Earth  ┆ 2024-01-02 ┆ 2142134.1 ┆ true       │\n",
      "│ 2   ┆ Saturn ┆ 2024-01-03 ┆ 44.7      ┆ false      │\n",
      "└─────┴────────┴────────────┴───────────┴────────────┘\n"
     ]
    }
   ],
   "source": [
    "out = df.select(pl.col(\"*\").exclude(\"logged_at\", \"index\"))\n",
    "print(out)"
   ]
  },
  {
   "cell_type": "code",
   "execution_count": 23,
   "id": "e8d88c2f-3a88-48cf-8d92-ba17f16908db",
   "metadata": {},
   "outputs": [
    {
     "name": "stdout",
     "output_type": "stream",
     "text": [
      "shape: (3, 2)\n",
      "┌─────────────┬─────────────┐\n",
      "│ date        ┆ logged_at   │\n",
      "│ ---         ┆ ---         │\n",
      "│ str         ┆ str         │\n",
      "╞═════════════╪═════════════╡\n",
      "│ 2024-Jan-01 ┆ 2024-Dec-01 │\n",
      "│ 2024-Jan-02 ┆ 2024-Dec-01 │\n",
      "│ 2024-Jan-03 ┆ 2024-Dec-01 │\n",
      "└─────────────┴─────────────┘\n"
     ]
    }
   ],
   "source": [
    "out = df.select(pl.col(\"date\", \"logged_at\").dt.to_string(\"%Y-%h-%d\"))\n",
    "print(out)"
   ]
  },
  {
   "cell_type": "code",
   "execution_count": 24,
   "id": "44bccb53-495d-4f78-8761-25e0aa8c8f1f",
   "metadata": {},
   "outputs": [
    {
     "name": "stdout",
     "output_type": "stream",
     "text": [
      "shape: (1, 3)\n",
      "┌───────┬─────┬────────────┐\n",
      "│ index ┆ id  ┆ has_people │\n",
      "│ ---   ┆ --- ┆ ---        │\n",
      "│ u32   ┆ u32 ┆ u32        │\n",
      "╞═══════╪═════╪════════════╡\n",
      "│ 3     ┆ 3   ┆ 2          │\n",
      "└───────┴─────┴────────────┘\n"
     ]
    }
   ],
   "source": [
    "out = df.select(pl.col(pl.Int64, pl.UInt32, pl.Boolean).n_unique())\n",
    "print(out)"
   ]
  },
  {
   "cell_type": "markdown",
   "id": "0c9013f4-d275-43d7-a856-e7587a6483af",
   "metadata": {},
   "source": [
    "**selectors**"
   ]
  },
  {
   "cell_type": "code",
   "execution_count": 25,
   "id": "ae551b65-adf3-4020-834b-0c16043b6485",
   "metadata": {},
   "outputs": [],
   "source": [
    "import polars.selectors as cs"
   ]
  },
  {
   "cell_type": "code",
   "execution_count": 26,
   "id": "2b5b1969-2ae1-4a93-9bf0-6266f1f47e1f",
   "metadata": {},
   "outputs": [
    {
     "name": "stdout",
     "output_type": "stream",
     "text": [
      "shape: (3, 3)\n",
      "┌───────┬─────┬────────┐\n",
      "│ index ┆ id  ┆ place  │\n",
      "│ ---   ┆ --- ┆ ---    │\n",
      "│ u32   ┆ i64 ┆ str    │\n",
      "╞═══════╪═════╪════════╡\n",
      "│ 0     ┆ 9   ┆ Mars   │\n",
      "│ 1     ┆ 4   ┆ Earth  │\n",
      "│ 2     ┆ 2   ┆ Saturn │\n",
      "└───────┴─────┴────────┘\n"
     ]
    }
   ],
   "source": [
    "out = df.select(cs.integer(), cs.string())\n",
    "print(out)"
   ]
  },
  {
   "cell_type": "code",
   "execution_count": 27,
   "id": "87b833de-c204-464d-8696-be6ec28699ec",
   "metadata": {},
   "outputs": [
    {
     "name": "stdout",
     "output_type": "stream",
     "text": [
      "shape: (3, 2)\n",
      "┌─────┬───────────┐\n",
      "│ id  ┆ sales     │\n",
      "│ --- ┆ ---       │\n",
      "│ i64 ┆ f64       │\n",
      "╞═════╪═══════════╡\n",
      "│ 9   ┆ 33.4      │\n",
      "│ 4   ┆ 2142134.1 │\n",
      "│ 2   ┆ 44.7      │\n",
      "└─────┴───────────┘\n"
     ]
    }
   ],
   "source": [
    "out = df.select(cs.numeric() - cs.first())\n",
    "print(out)"
   ]
  },
  {
   "cell_type": "code",
   "execution_count": 28,
   "id": "67077486-9b73-4789-9baa-4a21b2f0a671",
   "metadata": {},
   "outputs": [
    {
     "name": "stdout",
     "output_type": "stream",
     "text": [
      "shape: (3, 2)\n",
      "┌─────────────┬─────────────┐\n",
      "│ date        ┆ logged_at   │\n",
      "│ ---         ┆ ---         │\n",
      "│ str         ┆ str         │\n",
      "╞═════════════╪═════════════╡\n",
      "│ 2024-Jan-01 ┆ 2024-Dec-01 │\n",
      "│ 2024-Jan-02 ┆ 2024-Dec-01 │\n",
      "│ 2024-Jan-03 ┆ 2024-Dec-01 │\n",
      "└─────────────┴─────────────┘\n"
     ]
    }
   ],
   "source": [
    "out = df.select(cs.temporal().as_expr().dt.to_string(\"%Y-%h-%d\"))\n",
    "print(out)"
   ]
  },
  {
   "cell_type": "markdown",
   "id": "5785799a-fb7f-4fea-9b59-771a94cc2e2f",
   "metadata": {},
   "source": [
    "## Strings"
   ]
  },
  {
   "cell_type": "code",
   "execution_count": 29,
   "id": "adf6e102-8a26-40fc-940f-f525e77dedb1",
   "metadata": {},
   "outputs": [
    {
     "name": "stdout",
     "output_type": "stream",
     "text": [
      "shape: (8, 1)\n",
      "┌─────────────┐\n",
      "│ animal      │\n",
      "│ ---         │\n",
      "│ str         │\n",
      "╞═════════════╡\n",
      "│ Crab        │\n",
      "│ cat and dog │\n",
      "│ rab$bit     │\n",
      "│ null        │\n",
      "│ Horse       │\n",
      "│ tiger       │\n",
      "│ Elephant    │\n",
      "│ null        │\n",
      "└─────────────┘\n"
     ]
    }
   ],
   "source": [
    "df = pl.DataFrame(\n",
    "                  {\"animal\": [\"Crab\", \"cat and dog\", \"rab$bit\", None, \"Horse\", \"tiger\", \"Elephant\", None]}\n",
    "                 )\n",
    "\n",
    "print(df)"
   ]
  },
  {
   "cell_type": "code",
   "execution_count": 30,
   "id": "3a7cd9b1-37de-4c35-8ef2-9fd601001729",
   "metadata": {},
   "outputs": [
    {
     "name": "stdout",
     "output_type": "stream",
     "text": [
      "shape: (8, 3)\n",
      "┌─────────────┬────────────┬──────────────┐\n",
      "│ animal      ┆ byte_count ┆ letter_count │\n",
      "│ ---         ┆ ---        ┆ ---          │\n",
      "│ str         ┆ u32        ┆ u32          │\n",
      "╞═════════════╪════════════╪══════════════╡\n",
      "│ Crab        ┆ 4          ┆ 4            │\n",
      "│ cat and dog ┆ 11         ┆ 11           │\n",
      "│ rab$bit     ┆ 7          ┆ 7            │\n",
      "│ null        ┆ null       ┆ null         │\n",
      "│ Horse       ┆ 5          ┆ 5            │\n",
      "│ tiger       ┆ 5          ┆ 5            │\n",
      "│ Elephant    ┆ 8          ┆ 8            │\n",
      "│ null        ┆ null       ┆ null         │\n",
      "└─────────────┴────────────┴──────────────┘\n"
     ]
    }
   ],
   "source": [
    "out = df.select(pl.col(\"animal\"),\n",
    "                pl.col(\"animal\").str.len_bytes().alias(\"byte_count\"),\n",
    "                pl.col(\"animal\").str.len_chars().alias(\"letter_count\")\n",
    "               )\n",
    "print(out)"
   ]
  },
  {
   "cell_type": "markdown",
   "id": "41198a7a-3b55-4fd7-a0ad-ed24c8a2cf4e",
   "metadata": {},
   "source": [
    "**String parsing**"
   ]
  },
  {
   "cell_type": "code",
   "execution_count": 31,
   "id": "93ae646a-1ee6-4f10-8c91-4e1802f3f352",
   "metadata": {},
   "outputs": [
    {
     "name": "stdout",
     "output_type": "stream",
     "text": [
      "shape: (8, 5)\n",
      "┌─────────────┬───────┬─────────┬─────────────────┬───────────────┐\n",
      "│ animal      ┆ regex ┆ literal ┆ start_with: rab ┆ end_with: dog │\n",
      "│ ---         ┆ ---   ┆ ---     ┆ ---             ┆ ---           │\n",
      "│ str         ┆ bool  ┆ bool    ┆ bool            ┆ bool          │\n",
      "╞═════════════╪═══════╪═════════╪═════════════════╪═══════════════╡\n",
      "│ Crab        ┆ false ┆ false   ┆ false           ┆ false         │\n",
      "│ cat and dog ┆ true  ┆ false   ┆ false           ┆ true          │\n",
      "│ rab$bit     ┆ true  ┆ true    ┆ true            ┆ false         │\n",
      "│ null        ┆ null  ┆ null    ┆ null            ┆ null          │\n",
      "│ Horse       ┆ false ┆ false   ┆ false           ┆ false         │\n",
      "│ tiger       ┆ false ┆ false   ┆ false           ┆ false         │\n",
      "│ Elephant    ┆ false ┆ false   ┆ false           ┆ false         │\n",
      "│ null        ┆ null  ┆ null    ┆ null            ┆ null          │\n",
      "└─────────────┴───────┴─────────┴─────────────────┴───────────────┘\n"
     ]
    }
   ],
   "source": [
    "out = df.select(pl.col(\"animal\"),\n",
    "                pl.col(\"animal\").str.contains(\"cat|bit\").alias(\"regex\"),\n",
    "                pl.col(\"animal\").str.contains(\"rab$\", literal= True).alias(\"literal\"),\n",
    "                pl.col(\"animal\").str.starts_with(\"rab\").alias(\"start_with: rab\"),\n",
    "                pl.col(\"animal\").str.ends_with(\"dog\").alias(\"end_with: dog\")\n",
    "               )\n",
    "\n",
    "print(out)"
   ]
  },
  {
   "cell_type": "code",
   "execution_count": 32,
   "id": "c8df2b05-6108-4910-bd68-e6195d667b44",
   "metadata": {},
   "outputs": [
    {
     "name": "stdout",
     "output_type": "stream",
     "text": [
      "shape: (4, 1)\n",
      "┌────────────────┐\n",
      "│ data           │\n",
      "│ ---            │\n",
      "│ str            │\n",
      "╞════════════════╡\n",
      "│ 123 bla 45 asd │\n",
      "│ xyz 678 910t   │\n",
      "│ bar            │\n",
      "│ null           │\n",
      "└────────────────┘\n"
     ]
    }
   ],
   "source": [
    "df = pl.DataFrame(\n",
    "                  {\"data\": [\"123 bla 45 asd\", \"xyz 678 910t\", \"bar\", None]}\n",
    "                 )\n",
    "print(df)"
   ]
  },
  {
   "cell_type": "code",
   "execution_count": 33,
   "id": "103f8d07-0e9e-48f5-8f05-45bd05cb440b",
   "metadata": {},
   "outputs": [
    {
     "name": "stdout",
     "output_type": "stream",
     "text": [
      "shape: (4, 1)\n",
      "┌────────────────┐\n",
      "│ extracted_nrs  │\n",
      "│ ---            │\n",
      "│ list[str]      │\n",
      "╞════════════════╡\n",
      "│ [\"123\", \"45\"]  │\n",
      "│ [\"678\", \"910\"] │\n",
      "│ []             │\n",
      "│ null           │\n",
      "└────────────────┘\n"
     ]
    }
   ],
   "source": [
    "out = df.select(\n",
    "                pl.col(\"data\").str.extract_all(r\"\\d+\").alias(\"extracted_nrs\")\n",
    "               )\n",
    "\n",
    "print(out)"
   ]
  },
  {
   "cell_type": "code",
   "execution_count": 34,
   "id": "d9b89a06-68b1-4764-ad99-b2bb73e76c1a",
   "metadata": {},
   "outputs": [
    {
     "name": "stdout",
     "output_type": "stream",
     "text": [
      "shape: (2, 2)\n",
      "┌─────┬────────┐\n",
      "│ id  ┆ text   │\n",
      "│ --- ┆ ---    │\n",
      "│ i64 ┆ str    │\n",
      "╞═════╪════════╡\n",
      "│ 1   ┆ 123abc │\n",
      "│ 2   ┆ abc456 │\n",
      "└─────┴────────┘\n"
     ]
    }
   ],
   "source": [
    "df = pl.DataFrame(\n",
    "                  {\"id\": [1, 2], \n",
    "                   \"text\": [\"123abc\", \"abc456\"]\n",
    "                  }\n",
    "                 )\n",
    "\n",
    "print(df)"
   ]
  },
  {
   "cell_type": "code",
   "execution_count": 35,
   "id": "afcc21a0-8399-4358-8350-b2a4e83b5543",
   "metadata": {},
   "outputs": [
    {
     "name": "stdout",
     "output_type": "stream",
     "text": [
      "shape: (2, 3)\n",
      "┌─────┬────────┬──────────────────┐\n",
      "│ id  ┆ text   ┆ text_replace_all │\n",
      "│ --- ┆ ---    ┆ ---              │\n",
      "│ i64 ┆ str    ┆ str              │\n",
      "╞═════╪════════╪══════════════════╡\n",
      "│ 1   ┆ 123ABC ┆ 123-bc           │\n",
      "│ 2   ┆ abc456 ┆ -bc456           │\n",
      "└─────┴────────┴──────────────────┘\n"
     ]
    }
   ],
   "source": [
    "out = df.with_columns(\n",
    "                      pl.col(\"text\").str.replace(r\"abc\\b\", \"ABC\"),\n",
    "                      pl.col(\"text\").str.replace_all(\"a\", \"-\", literal= True).alias(\"text_replace_all\")\n",
    "                     )\n",
    "print(out)"
   ]
  },
  {
   "cell_type": "markdown",
   "id": "011d3098-94fc-4ce0-b365-05ccfb898be8",
   "metadata": {},
   "source": [
    "## Aggregation"
   ]
  },
  {
   "cell_type": "code",
   "execution_count": 36,
   "id": "37d2d248-97af-43e5-8f2b-e46734e70b21",
   "metadata": {},
   "outputs": [
    {
     "name": "stdout",
     "output_type": "stream",
     "text": [
      "shape: (12_141, 36)\n",
      "┌───────────┬────────────┬─────────────┬────────┬───┬──────────────────┬──────────────────┬──────────┬─────────────────┐\n",
      "│ last_name ┆ first_name ┆ middle_name ┆ suffix ┆ … ┆ ballotpedia_id   ┆ washington_post_ ┆ icpsr_id ┆ wikipedia_id    │\n",
      "│ ---       ┆ ---        ┆ ---         ┆ ---    ┆   ┆ ---              ┆ id               ┆ ---      ┆ ---             │\n",
      "│ str       ┆ cat        ┆ str         ┆ str    ┆   ┆ str              ┆ ---              ┆ i64      ┆ str             │\n",
      "│           ┆            ┆             ┆        ┆   ┆                  ┆ str              ┆          ┆                 │\n",
      "╞═══════════╪════════════╪═════════════╪════════╪═══╪══════════════════╪══════════════════╪══════════╪═════════════════╡\n",
      "│ Bassett   ┆ Richard    ┆ null        ┆ null   ┆ … ┆ null             ┆ null             ┆ 507      ┆ Richard Bassett │\n",
      "│           ┆            ┆             ┆        ┆   ┆                  ┆                  ┆          ┆ (Delaware       │\n",
      "│           ┆            ┆             ┆        ┆   ┆                  ┆                  ┆          ┆ politi…         │\n",
      "│ Bland     ┆ Theodorick ┆ null        ┆ null   ┆ … ┆ null             ┆ null             ┆ 786      ┆ Theodorick      │\n",
      "│           ┆            ┆             ┆        ┆   ┆                  ┆                  ┆          ┆ Bland           │\n",
      "│           ┆            ┆             ┆        ┆   ┆                  ┆                  ┆          ┆ (congressman)   │\n",
      "│ Burke     ┆ Aedanus    ┆ null        ┆ null   ┆ … ┆ null             ┆ null             ┆ 1260     ┆ Aedanus Burke   │\n",
      "│ Carroll   ┆ Daniel     ┆ null        ┆ null   ┆ … ┆ null             ┆ null             ┆ 1538     ┆ Daniel Carroll  │\n",
      "│ Clymer    ┆ George     ┆ null        ┆ null   ┆ … ┆ null             ┆ null             ┆ 1859     ┆ George Clymer   │\n",
      "│ …         ┆ …          ┆ …           ┆ …      ┆ … ┆ …                ┆ …                ┆ …        ┆ …               │\n",
      "│ Feinstein ┆ Dianne     ┆ null        ┆ null   ┆ … ┆ Dianne Feinstein ┆ null             ┆ 49300    ┆ Dianne          │\n",
      "│           ┆            ┆             ┆        ┆   ┆                  ┆                  ┆          ┆ Feinstein       │\n",
      "│ Cicilline ┆ David      ┆ N.          ┆ null   ┆ … ┆ David N.         ┆ null             ┆ 21172    ┆ David Cicilline │\n",
      "│           ┆            ┆             ┆        ┆   ┆ Cicilline        ┆                  ┆          ┆                 │\n",
      "│ Stewart   ┆ Chris      ┆ null        ┆ null   ┆ … ┆ Chris Stewart    ┆ null             ┆ 21367    ┆ Chris Stewart   │\n",
      "│           ┆            ┆             ┆        ┆   ┆                  ┆                  ┆          ┆ (politician)    │\n",
      "│ Santos    ┆ George     ┆ Anthony     ┆ null   ┆ … ┆ George           ┆ null             ┆ null     ┆ George Santos   │\n",
      "│           ┆            ┆ Devolder    ┆        ┆   ┆ Devolder-Santos  ┆                  ┆          ┆                 │\n",
      "│ McCarthy  ┆ Kevin      ┆ null        ┆ null   ┆ … ┆ Kevin McCarthy   ┆ null             ┆ 20703    ┆ Kevin McCarthy  │\n",
      "│           ┆            ┆             ┆        ┆   ┆ (California)     ┆                  ┆          ┆                 │\n",
      "└───────────┴────────────┴─────────────┴────────┴───┴──────────────────┴──────────────────┴──────────┴─────────────────┘\n"
     ]
    }
   ],
   "source": [
    "url = \"https://theunitedstates.io/congress-legislators/legislators-historical.csv\"\n",
    "\n",
    "dtypes = {\n",
    "          \"first_name\": pl.Categorical,\n",
    "          \"gender\": pl.Categorical,\n",
    "          \"type\": pl.Categorical,\n",
    "          \"state\": pl.Categorical,\n",
    "          \"party\": pl.Categorical\n",
    "         }\n",
    "\n",
    "dataset = pl.read_csv(url, dtypes=dtypes).with_columns(pl.col(\"birthday\").str.to_date(strict= False))\n",
    "\n",
    "print(dataset)"
   ]
  },
  {
   "cell_type": "markdown",
   "id": "839806ba-8b40-486e-99dd-43c3703ec744",
   "metadata": {},
   "source": [
    "**Basic aggregations**"
   ]
  },
  {
   "cell_type": "code",
   "execution_count": 37,
   "id": "bec4093f-b158-4418-b385-52a3e82f559a",
   "metadata": {},
   "outputs": [
    {
     "name": "stdout",
     "output_type": "stream",
     "text": [
      "shape: (5, 4)\n",
      "┌────────────┬──────┬───────────────────┬───────────┐\n",
      "│ first_name ┆ len  ┆ gender            ┆ last_name │\n",
      "│ ---        ┆ ---  ┆ ---               ┆ ---       │\n",
      "│ cat        ┆ u32  ┆ list[cat]         ┆ str       │\n",
      "╞════════════╪══════╪═══════════════════╪═══════════╡\n",
      "│ John       ┆ 1256 ┆ [\"M\", \"M\", … \"M\"] ┆ Walker    │\n",
      "│ William    ┆ 1022 ┆ [\"M\", \"M\", … \"M\"] ┆ Few       │\n",
      "│ James      ┆ 714  ┆ [\"M\", \"M\", … \"M\"] ┆ Armstrong │\n",
      "│ Thomas     ┆ 454  ┆ [\"M\", \"M\", … \"M\"] ┆ Tucker    │\n",
      "│ Charles    ┆ 439  ┆ [\"M\", \"M\", … \"M\"] ┆ Carroll   │\n",
      "└────────────┴──────┴───────────────────┴───────────┘\n"
     ]
    }
   ],
   "source": [
    "q = (dataset.lazy().group_by(\"first_name\").agg(\n",
    "                                                pl.len(),\n",
    "                                                pl.col(\"gender\"),\n",
    "                                                pl.first(\"last_name\")).sort(\"len\", descending= True).limit(5)\n",
    "    )\n",
    "\n",
    "df = q.collect()\n",
    "print(df)"
   ]
  },
  {
   "cell_type": "markdown",
   "id": "76ea0480-316c-4d0c-bf54-565f36e02e53",
   "metadata": {},
   "source": [
    "## Missing data"
   ]
  },
  {
   "cell_type": "code",
   "execution_count": 38,
   "id": "1302d3aa-71e7-43b4-82dd-ef8e5d9949d9",
   "metadata": {},
   "outputs": [
    {
     "name": "stdout",
     "output_type": "stream",
     "text": [
      "shape: (3, 2)\n",
      "┌───────┬───────┐\n",
      "│ col_1 ┆ col_2 │\n",
      "│ ---   ┆ ---   │\n",
      "│ i64   ┆ i64   │\n",
      "╞═══════╪═══════╡\n",
      "│ 1     ┆ 4     │\n",
      "│ 2     ┆ null  │\n",
      "│ 3     ┆ 5     │\n",
      "└───────┴───────┘\n"
     ]
    }
   ],
   "source": [
    "df = pl.DataFrame(\n",
    "                  {\"col_1\": [1, 2, 3],\n",
    "                   \"col_2\": [4, None, 5]}\n",
    "                 )\n",
    "\n",
    "print(df)"
   ]
  },
  {
   "cell_type": "code",
   "execution_count": 39,
   "id": "02a1c69e-7062-4f4d-bf66-135171d1e8c6",
   "metadata": {},
   "outputs": [
    {
     "name": "stdout",
     "output_type": "stream",
     "text": [
      "shape: (1, 2)\n",
      "┌───────┬───────┐\n",
      "│ col_1 ┆ col_2 │\n",
      "│ ---   ┆ ---   │\n",
      "│ u32   ┆ u32   │\n",
      "╞═══════╪═══════╡\n",
      "│ 0     ┆ 1     │\n",
      "└───────┴───────┘\n"
     ]
    }
   ],
   "source": [
    "null_count_df = df.null_count()\n",
    "print(null_count_df)"
   ]
  },
  {
   "cell_type": "code",
   "execution_count": 40,
   "id": "a3eb3776-b910-4b32-89a9-db22744bd607",
   "metadata": {},
   "outputs": [
    {
     "name": "stdout",
     "output_type": "stream",
     "text": [
      "shape: (3, 2)\n",
      "┌───────┬───────┐\n",
      "│ col_1 ┆ col_2 │\n",
      "│ ---   ┆ ---   │\n",
      "│ bool  ┆ bool  │\n",
      "╞═══════╪═══════╡\n",
      "│ false ┆ false │\n",
      "│ false ┆ true  │\n",
      "│ false ┆ false │\n",
      "└───────┴───────┘\n"
     ]
    }
   ],
   "source": [
    "is_null_df = df.select(pl.col(\"col_1\", \"col_2\").is_null())\n",
    "print(is_null_df)"
   ]
  },
  {
   "cell_type": "markdown",
   "id": "93415e54-82d9-40fb-ad15-42f1f0d62d46",
   "metadata": {},
   "source": [
    "**Filling missing data**"
   ]
  },
  {
   "cell_type": "markdown",
   "id": "aaeda734-9f1b-4093-9af7-f8c0dc4950f1",
   "metadata": {},
   "source": [
    "*Fill with specified literal value*"
   ]
  },
  {
   "cell_type": "code",
   "execution_count": 41,
   "id": "5c369d0b-907e-4e52-a763-cd2ed631ce02",
   "metadata": {},
   "outputs": [
    {
     "name": "stdout",
     "output_type": "stream",
     "text": [
      "shape: (3, 2)\n",
      "┌───────┬───────┐\n",
      "│ col_1 ┆ col_2 │\n",
      "│ ---   ┆ ---   │\n",
      "│ i64   ┆ i64   │\n",
      "╞═══════╪═══════╡\n",
      "│ 1     ┆ 4     │\n",
      "│ 2     ┆ 100   │\n",
      "│ 3     ┆ 5     │\n",
      "└───────┴───────┘\n"
     ]
    }
   ],
   "source": [
    "fill_literal_df = df.with_columns(\n",
    "                                  pl.col(\"col_2\").fill_null(pl.lit(100))\n",
    "                                 )\n",
    "print(fill_literal_df)"
   ]
  },
  {
   "cell_type": "markdown",
   "id": "b69565ea-c74c-4939-bb6b-21466a640777",
   "metadata": {},
   "source": [
    "*Fill with a strategy*"
   ]
  },
  {
   "cell_type": "code",
   "execution_count": 42,
   "id": "6122da1c-3260-4bbf-a6b7-079ec77636d2",
   "metadata": {},
   "outputs": [
    {
     "name": "stdout",
     "output_type": "stream",
     "text": [
      "shape: (3, 2)\n",
      "┌───────┬───────┐\n",
      "│ col_1 ┆ col_2 │\n",
      "│ ---   ┆ ---   │\n",
      "│ i64   ┆ i64   │\n",
      "╞═══════╪═══════╡\n",
      "│ 1     ┆ 4     │\n",
      "│ 2     ┆ 4     │\n",
      "│ 3     ┆ 5     │\n",
      "└───────┴───────┘\n"
     ]
    }
   ],
   "source": [
    "fill_forward_df = df.with_columns(\n",
    "                                  pl.col(\"col_2\").fill_null(strategy= \"forward\")\n",
    "                                 )\n",
    "print(fill_forward_df)"
   ]
  },
  {
   "cell_type": "markdown",
   "id": "8269ec62-efa1-43fb-8348-97b032f38df2",
   "metadata": {},
   "source": [
    "*Fill with an expression*"
   ]
  },
  {
   "cell_type": "code",
   "execution_count": 43,
   "id": "857e1e70-258e-47ee-a3d1-45e3d6b9f0e9",
   "metadata": {},
   "outputs": [
    {
     "name": "stdout",
     "output_type": "stream",
     "text": [
      "shape: (3, 2)\n",
      "┌───────┬───────┐\n",
      "│ col_1 ┆ col_2 │\n",
      "│ ---   ┆ ---   │\n",
      "│ i64   ┆ f64   │\n",
      "╞═══════╪═══════╡\n",
      "│ 1     ┆ 4.0   │\n",
      "│ 2     ┆ 4.5   │\n",
      "│ 3     ┆ 5.0   │\n",
      "└───────┴───────┘\n"
     ]
    }
   ],
   "source": [
    "fill_median_df = df.with_columns(\n",
    "                                 pl.col(\"col_2\").fill_null(pl.median(\"col_2\"))\n",
    "                                )\n",
    "print(fill_median_df)"
   ]
  },
  {
   "cell_type": "markdown",
   "id": "e2e10fd6-6348-4c86-acf2-a2763b841ee7",
   "metadata": {},
   "source": [
    "*Fill with interpolation*"
   ]
  },
  {
   "cell_type": "code",
   "execution_count": 44,
   "id": "92965912-1edd-44a8-9cd4-9c00e5a4e2f6",
   "metadata": {},
   "outputs": [
    {
     "name": "stdout",
     "output_type": "stream",
     "text": [
      "shape: (3, 2)\n",
      "┌───────┬───────┐\n",
      "│ col_1 ┆ col_2 │\n",
      "│ ---   ┆ ---   │\n",
      "│ i64   ┆ f64   │\n",
      "╞═══════╪═══════╡\n",
      "│ 1     ┆ 4.0   │\n",
      "│ 2     ┆ 4.5   │\n",
      "│ 3     ┆ 5.0   │\n",
      "└───────┴───────┘\n"
     ]
    }
   ],
   "source": [
    "fill_interpolation_df = df.with_columns(\n",
    "                                        pl.col(\"col_2\").interpolate()\n",
    "                                       )\n",
    "print(fill_interpolation_df)"
   ]
  },
  {
   "cell_type": "markdown",
   "id": "92926f33-fbb5-41da-bfc0-008d1cb0150b",
   "metadata": {},
   "source": [
    "**NotaNumber or NaN values**"
   ]
  },
  {
   "cell_type": "code",
   "execution_count": 45,
   "id": "9321e4e9-8d5c-44e7-89de-b084ec9cbcdf",
   "metadata": {},
   "outputs": [
    {
     "name": "stdout",
     "output_type": "stream",
     "text": [
      "shape: (4, 1)\n",
      "┌───────┐\n",
      "│ value │\n",
      "│ ---   │\n",
      "│ f64   │\n",
      "╞═══════╡\n",
      "│ 1.0   │\n",
      "│ NaN   │\n",
      "│ NaN   │\n",
      "│ 3.0   │\n",
      "└───────┘\n"
     ]
    }
   ],
   "source": [
    "nan_df = pl.DataFrame(\n",
    "                      {\"value\": [1.0, np.nan, float(\"nan\"), 3.0]}\n",
    "                     )\n",
    "print(nan_df)"
   ]
  },
  {
   "cell_type": "code",
   "execution_count": 46,
   "id": "67bd7e94-9557-4cac-b36e-1cb4ae8f3efb",
   "metadata": {},
   "outputs": [
    {
     "name": "stdout",
     "output_type": "stream",
     "text": [
      "shape: (1, 1)\n",
      "┌───────┐\n",
      "│ value │\n",
      "│ ---   │\n",
      "│ f64   │\n",
      "╞═══════╡\n",
      "│ 2.0   │\n",
      "└───────┘\n"
     ]
    }
   ],
   "source": [
    "mean_nan_df = nan_df.with_columns(\n",
    "                                  pl.col(\"value\").fill_nan(None).alias(\"value\")\n",
    "                                 ).mean()\n",
    "print(mean_nan_df)"
   ]
  },
  {
   "cell_type": "markdown",
   "id": "7a058e6a-a80e-4840-bc42-dfecf4820ad6",
   "metadata": {},
   "source": [
    "## Join strategies"
   ]
  },
  {
   "cell_type": "code",
   "execution_count": 47,
   "id": "59fde365-c74b-4089-94f5-f6cdcba53909",
   "metadata": {},
   "outputs": [
    {
     "name": "stdout",
     "output_type": "stream",
     "text": [
      "shape: (3, 2)\n",
      "┌─────────────┬─────────┐\n",
      "│ customer_id ┆ name    │\n",
      "│ ---         ┆ ---     │\n",
      "│ i64         ┆ str     │\n",
      "╞═════════════╪═════════╡\n",
      "│ 1           ┆ Alice   │\n",
      "│ 2           ┆ Bob     │\n",
      "│ 3           ┆ Charlie │\n",
      "└─────────────┴─────────┘\n"
     ]
    }
   ],
   "source": [
    "df_customers = pl.DataFrame(\n",
    "                            {\"customer_id\": [1, 2, 3],\n",
    "                             \"name\": [\"Alice\", \"Bob\", \"Charlie\"]}\n",
    "                           )\n",
    "print(df_customers)"
   ]
  },
  {
   "cell_type": "code",
   "execution_count": 48,
   "id": "3f0517aa-bc1d-4acc-8199-1f1886563fc9",
   "metadata": {},
   "outputs": [
    {
     "name": "stdout",
     "output_type": "stream",
     "text": [
      "shape: (3, 3)\n",
      "┌──────────┬─────────────┬────────┐\n",
      "│ order_id ┆ customer_id ┆ amount │\n",
      "│ ---      ┆ ---         ┆ ---    │\n",
      "│ str      ┆ i64         ┆ i64    │\n",
      "╞══════════╪═════════════╪════════╡\n",
      "│ a        ┆ 1           ┆ 100    │\n",
      "│ b        ┆ 2           ┆ 200    │\n",
      "│ c        ┆ 2           ┆ 300    │\n",
      "└──────────┴─────────────┴────────┘\n"
     ]
    }
   ],
   "source": [
    "df_orders = pl.DataFrame(\n",
    "                         {\"order_id\": [\"a\", \"b\", \"c\"],\n",
    "                          \"customer_id\": [1, 2, 2],\n",
    "                          \"amount\": [100, 200, 300]}\n",
    "                        )\n",
    "print(df_orders)"
   ]
  },
  {
   "cell_type": "markdown",
   "id": "1b58d802-c1cc-4611-89fc-fa51aa0fb2a2",
   "metadata": {},
   "source": [
    "**Inner join**"
   ]
  },
  {
   "cell_type": "code",
   "execution_count": 49,
   "id": "9f0e35c4-d0de-4cb6-98c3-fc3ef57ba90f",
   "metadata": {},
   "outputs": [
    {
     "name": "stdout",
     "output_type": "stream",
     "text": [
      "shape: (3, 4)\n",
      "┌─────────────┬───────┬──────────┬────────┐\n",
      "│ customer_id ┆ name  ┆ order_id ┆ amount │\n",
      "│ ---         ┆ ---   ┆ ---      ┆ ---    │\n",
      "│ i64         ┆ str   ┆ str      ┆ i64    │\n",
      "╞═════════════╪═══════╪══════════╪════════╡\n",
      "│ 1           ┆ Alice ┆ a        ┆ 100    │\n",
      "│ 2           ┆ Bob   ┆ b        ┆ 200    │\n",
      "│ 2           ┆ Bob   ┆ c        ┆ 300    │\n",
      "└─────────────┴───────┴──────────┴────────┘\n"
     ]
    }
   ],
   "source": [
    "df_inner_join = df_customers.join(df_orders, on= \"customer_id\", how= \"inner\")\n",
    "print(df_inner_join)"
   ]
  },
  {
   "cell_type": "markdown",
   "id": "d5995fb2-e7ee-4927-ab77-c311466d393e",
   "metadata": {},
   "source": [
    "**Left join**"
   ]
  },
  {
   "cell_type": "code",
   "execution_count": 50,
   "id": "a1ac9afe-6b7f-4027-817e-e1321ad0471f",
   "metadata": {},
   "outputs": [
    {
     "name": "stdout",
     "output_type": "stream",
     "text": [
      "shape: (4, 4)\n",
      "┌─────────────┬─────────┬──────────┬────────┐\n",
      "│ customer_id ┆ name    ┆ order_id ┆ amount │\n",
      "│ ---         ┆ ---     ┆ ---      ┆ ---    │\n",
      "│ i64         ┆ str     ┆ str      ┆ i64    │\n",
      "╞═════════════╪═════════╪══════════╪════════╡\n",
      "│ 1           ┆ Alice   ┆ a        ┆ 100    │\n",
      "│ 2           ┆ Bob     ┆ b        ┆ 200    │\n",
      "│ 2           ┆ Bob     ┆ c        ┆ 300    │\n",
      "│ 3           ┆ Charlie ┆ null     ┆ null   │\n",
      "└─────────────┴─────────┴──────────┴────────┘\n"
     ]
    }
   ],
   "source": [
    "df_left_join = df_customers.join(df_orders, on= \"customer_id\", how= \"left\")\n",
    "print(df_left_join)"
   ]
  },
  {
   "cell_type": "markdown",
   "id": "27962ce9-dfbd-46b3-997e-26c9994c5f4b",
   "metadata": {},
   "source": [
    "**Outer join**"
   ]
  },
  {
   "cell_type": "code",
   "execution_count": 51,
   "id": "10abd365-c034-4b5b-8988-dd34aaba6977",
   "metadata": {},
   "outputs": [
    {
     "name": "stdout",
     "output_type": "stream",
     "text": [
      "shape: (4, 5)\n",
      "┌─────────────┬─────────┬──────────┬───────────────────┬────────┐\n",
      "│ customer_id ┆ name    ┆ order_id ┆ customer_id_right ┆ amount │\n",
      "│ ---         ┆ ---     ┆ ---      ┆ ---               ┆ ---    │\n",
      "│ i64         ┆ str     ┆ str      ┆ i64               ┆ i64    │\n",
      "╞═════════════╪═════════╪══════════╪═══════════════════╪════════╡\n",
      "│ 1           ┆ Alice   ┆ a        ┆ 1                 ┆ 100    │\n",
      "│ 2           ┆ Bob     ┆ b        ┆ 2                 ┆ 200    │\n",
      "│ 2           ┆ Bob     ┆ c        ┆ 2                 ┆ 300    │\n",
      "│ 3           ┆ Charlie ┆ null     ┆ null              ┆ null   │\n",
      "└─────────────┴─────────┴──────────┴───────────────────┴────────┘\n"
     ]
    }
   ],
   "source": [
    "df_outer_join = df_customers.join(df_orders, on= \"customer_id\", how= \"outer\")\n",
    "print(df_outer_join)"
   ]
  },
  {
   "cell_type": "markdown",
   "id": "006d4c71-3861-4696-ab15-9078a43c0bba",
   "metadata": {},
   "source": [
    "**Cross join**"
   ]
  },
  {
   "cell_type": "code",
   "execution_count": 52,
   "id": "b5727fa3-1bb4-4b81-8a4b-9a005c4f1b3b",
   "metadata": {},
   "outputs": [],
   "source": [
    "df_colors = pl.DataFrame(\n",
    "                         {\"color\": [\"red\", \"blue\", \"green\"]}\n",
    "                        )\n",
    "\n",
    "\n",
    "df_sizes = pl.DataFrame(\n",
    "                        {\"size\": [\"S\", \"M\", \"L\"]}\n",
    "                       )"
   ]
  },
  {
   "cell_type": "code",
   "execution_count": 53,
   "id": "48c888ed-1bcd-430d-a393-bfbf38c918f7",
   "metadata": {},
   "outputs": [
    {
     "name": "stdout",
     "output_type": "stream",
     "text": [
      "shape: (9, 2)\n",
      "┌───────┬──────┐\n",
      "│ color ┆ size │\n",
      "│ ---   ┆ ---  │\n",
      "│ str   ┆ str  │\n",
      "╞═══════╪══════╡\n",
      "│ red   ┆ S    │\n",
      "│ red   ┆ M    │\n",
      "│ red   ┆ L    │\n",
      "│ blue  ┆ S    │\n",
      "│ blue  ┆ M    │\n",
      "│ blue  ┆ L    │\n",
      "│ green ┆ S    │\n",
      "│ green ┆ M    │\n",
      "│ green ┆ L    │\n",
      "└───────┴──────┘\n"
     ]
    }
   ],
   "source": [
    "df_cross_join = df_colors.join(df_sizes, how= \"cross\")\n",
    "print(df_cross_join)"
   ]
  },
  {
   "cell_type": "markdown",
   "id": "d218a150-4389-4d47-9ba2-68a1817bb4c8",
   "metadata": {},
   "source": [
    "**Semi join**"
   ]
  },
  {
   "cell_type": "code",
   "execution_count": 54,
   "id": "a1d38442-dd77-4c45-9482-b77364c53ec9",
   "metadata": {},
   "outputs": [
    {
     "name": "stdout",
     "output_type": "stream",
     "text": [
      "shape: (2, 2)\n",
      "┌─────────────┬───────┐\n",
      "│ customer_id ┆ name  │\n",
      "│ ---         ┆ ---   │\n",
      "│ i64         ┆ str   │\n",
      "╞═════════════╪═══════╡\n",
      "│ 1           ┆ Alice │\n",
      "│ 2           ┆ Bob   │\n",
      "└─────────────┴───────┘\n"
     ]
    }
   ],
   "source": [
    "df_semi_join = df_customers.join(df_orders, on= \"customer_id\", how= \"semi\")\n",
    "print(df_semi_join)"
   ]
  },
  {
   "cell_type": "code",
   "execution_count": 55,
   "id": "55f0c6bd-b503-4d0f-b1f7-23c6570b820d",
   "metadata": {},
   "outputs": [
    {
     "name": "stdout",
     "output_type": "stream",
     "text": [
      "shape: (8, 4)\n",
      "┌─────┬──────────┬───────┬─────┐\n",
      "│ a   ┆ b        ┆ d     ┆ y   │\n",
      "│ --- ┆ ---      ┆ ---   ┆ --- │\n",
      "│ i64 ┆ f64      ┆ f64   ┆ str │\n",
      "╞═════╪══════════╪═══════╪═════╡\n",
      "│ 0   ┆ 0.642785 ┆ 1.0   ┆ A   │\n",
      "│ 1   ┆ 0.036642 ┆ 2.0   ┆ A   │\n",
      "│ 2   ┆ 0.875009 ┆ NaN   ┆ A   │\n",
      "│ 3   ┆ 0.85431  ┆ NaN   ┆ B   │\n",
      "│ 4   ┆ 0.728842 ┆ 0.0   ┆ B   │\n",
      "│ 5   ┆ 0.064174 ┆ -5.0  ┆ C   │\n",
      "│ 6   ┆ 0.505543 ┆ -42.0 ┆ X   │\n",
      "│ 7   ┆ 0.185856 ┆ null  ┆ X   │\n",
      "└─────┴──────────┴───────┴─────┘\n"
     ]
    }
   ],
   "source": [
    "df = pl.DataFrame(\n",
    "                  {\"a\": range(8),\n",
    "                   \"b\": np.random.rand(8),\n",
    "                   \"d\": [1, 2.0, float(\"nan\"), float(\"nan\"), 0, -5, -42, None]}\n",
    "                )\n",
    "\n",
    "df_2 = pl.DataFrame(\n",
    "                    {\"x\": range(8),\n",
    "                     \"y\": [\"A\", \"A\", \"A\", \"B\", \"B\", \"C\", \"X\", \"X\"]}\n",
    "                   )\n",
    "\n",
    "joined = df.join(df_2, left_on= \"a\", right_on= \"x\")\n",
    "print(joined)"
   ]
  },
  {
   "cell_type": "markdown",
   "id": "8882531c-b032-4c10-bddb-a46878fd4029",
   "metadata": {},
   "source": [
    "## Concatenation"
   ]
  },
  {
   "cell_type": "code",
   "execution_count": 56,
   "id": "01549a07-39ae-4719-a0b1-85315ac5ec7b",
   "metadata": {},
   "outputs": [
    {
     "name": "stdout",
     "output_type": "stream",
     "text": [
      "shape: (2, 2)\n",
      "┌─────┬─────┐\n",
      "│ a   ┆ b   │\n",
      "│ --- ┆ --- │\n",
      "│ i64 ┆ i64 │\n",
      "╞═════╪═════╡\n",
      "│ 1   ┆ 3   │\n",
      "│ 2   ┆ 4   │\n",
      "└─────┴─────┘\n"
     ]
    }
   ],
   "source": [
    "df_v1 = pl.DataFrame(\n",
    "                     {\"a\": [1],\n",
    "                      \"b\": [3]}\n",
    "                    )\n",
    "\n",
    "df_v2 = pl.DataFrame(\n",
    "                     {\"a\": [2],\n",
    "                      \"b\": [4]}\n",
    "                    )\n",
    "\n",
    "df_vertical_concat = pl.concat([df_v1, df_v2], how= \"vertical\")\n",
    "\n",
    "print(df_vertical_concat)"
   ]
  },
  {
   "cell_type": "code",
   "execution_count": 57,
   "id": "6174d327-6476-494f-967c-db53d91718ae",
   "metadata": {},
   "outputs": [
    {
     "name": "stdout",
     "output_type": "stream",
     "text": [
      "shape: (2, 5)\n",
      "┌─────┬─────┬─────┬─────┬─────┐\n",
      "│ l1  ┆ l2  ┆ r1  ┆ r2  ┆ r3  │\n",
      "│ --- ┆ --- ┆ --- ┆ --- ┆ --- │\n",
      "│ i64 ┆ i64 ┆ i64 ┆ i64 ┆ i64 │\n",
      "╞═════╪═════╪═════╪═════╪═════╡\n",
      "│ 1   ┆ 3   ┆ 5   ┆ 7   ┆ 9   │\n",
      "│ 2   ┆ 4   ┆ 6   ┆ 8   ┆ 10  │\n",
      "└─────┴─────┴─────┴─────┴─────┘\n"
     ]
    }
   ],
   "source": [
    "df_h1 = pl.DataFrame(\n",
    "                     {\"l1\": [1, 2],\n",
    "                      \"l2\": [3, 4]}\n",
    "                    )\n",
    "\n",
    "df_h2 = pl.DataFrame(\n",
    "                     {\"r1\": [5, 6],\n",
    "                      \"r2\": [7, 8],\n",
    "                      \"r3\": [9, 10]}\n",
    "                    )\n",
    "\n",
    "df_horizontal_concat = pl.concat([df_h1, df_h2], how= \"horizontal\")\n",
    "\n",
    "print(df_horizontal_concat)"
   ]
  },
  {
   "cell_type": "code",
   "execution_count": 58,
   "id": "ed7357ed-b2e0-4373-9e72-29df6e20b0aa",
   "metadata": {},
   "outputs": [
    {
     "name": "stdout",
     "output_type": "stream",
     "text": [
      "shape: (2, 3)\n",
      "┌─────┬──────┬──────┐\n",
      "│ a   ┆ b    ┆ d    │\n",
      "│ --- ┆ ---  ┆ ---  │\n",
      "│ i64 ┆ i64  ┆ i64  │\n",
      "╞═════╪══════╪══════╡\n",
      "│ 1   ┆ 3    ┆ null │\n",
      "│ 2   ┆ null ┆ 4    │\n",
      "└─────┴──────┴──────┘\n"
     ]
    }
   ],
   "source": [
    "df_d1 = pl.DataFrame(\n",
    "                     {\"a\": [1],\n",
    "                      \"b\": [3]}\n",
    "                    )\n",
    "\n",
    "df_d2 = pl.DataFrame(\n",
    "                     {\"a\": [2],\n",
    "                      \"d\": [4]}\n",
    "                    )\n",
    "\n",
    "df_diagonal_concat = pl.concat([df_d1, df_d2], how= \"diagonal\")\n",
    "\n",
    "print(df_diagonal_concat)"
   ]
  },
  {
   "cell_type": "markdown",
   "id": "b2032ca6-e3f2-4901-a736-8a7717d4b56e",
   "metadata": {},
   "source": [
    "**Reading & writing**"
   ]
  },
  {
   "cell_type": "code",
   "execution_count": 59,
   "id": "2f38b88e-ef20-44ed-becf-6f564f6ad6a6",
   "metadata": {},
   "outputs": [
    {
     "name": "stdout",
     "output_type": "stream",
     "text": [
      "shape: (6, 4)\n",
      "┌─────────┬─────────────────────┬───────┬────────┐\n",
      "│ integer ┆ date                ┆ float ┆ string │\n",
      "│ ---     ┆ ---                 ┆ ---   ┆ ---    │\n",
      "│ i64     ┆ datetime[μs]        ┆ f64   ┆ str    │\n",
      "╞═════════╪═════════════════════╪═══════╪════════╡\n",
      "│ 1       ┆ 2024-01-11 00:00:00 ┆ 4.0   ┆ a      │\n",
      "│ 2       ┆ 2024-07-02 00:00:00 ┆ 5.0   ┆ b      │\n",
      "│ 3       ┆ 2024-03-03 00:00:00 ┆ 6.0   ┆ c      │\n",
      "│ 4       ┆ 2024-09-11 00:00:00 ┆ 7.0   ┆ d      │\n",
      "│ 5       ┆ 2024-02-15 00:00:00 ┆ 8.0   ┆ e      │\n",
      "│ 6       ┆ 2024-10-24 00:00:00 ┆ 9.0   ┆ f      │\n",
      "└─────────┴─────────────────────┴───────┴────────┘\n"
     ]
    }
   ],
   "source": [
    "df = pl.DataFrame(\n",
    "                  {\"integer\": [1, 2, 3, 4, 5, 6],\n",
    "                   \"date\": [datetime(2024, 1, 11),\n",
    "                            datetime(2024, 7, 2),\n",
    "                            datetime(2024, 3, 3),\n",
    "                            datetime(2024, 9, 11),\n",
    "                            datetime(2024, 2, 15),\n",
    "                            datetime(2024, 10, 24)\n",
    "                          ],\n",
    "                   \"float\": [4.0, 5.0, 6.0, 7.0, 8.0, 9.0],\n",
    "                   \"string\": [\"a\", \"b\", \"c\", \"d\", \"e\", \"f\"]\n",
    "                  }\n",
    "                 )\n",
    "\n",
    "print(df)"
   ]
  },
  {
   "cell_type": "code",
   "execution_count": 60,
   "id": "5540d375-9ed2-405e-8042-66063ef2c37c",
   "metadata": {},
   "outputs": [],
   "source": [
    "df.write_csv(\"df_1.csv\")"
   ]
  },
  {
   "cell_type": "code",
   "execution_count": 61,
   "id": "25c0171b-8e00-4e98-a142-ad3c204220bd",
   "metadata": {},
   "outputs": [
    {
     "name": "stdout",
     "output_type": "stream",
     "text": [
      "shape: (6, 4)\n",
      "┌─────────┬────────────────────────────┬───────┬────────┐\n",
      "│ integer ┆ date                       ┆ float ┆ string │\n",
      "│ ---     ┆ ---                        ┆ ---   ┆ ---    │\n",
      "│ i64     ┆ str                        ┆ f64   ┆ str    │\n",
      "╞═════════╪════════════════════════════╪═══════╪════════╡\n",
      "│ 1       ┆ 2024-01-11T00:00:00.000000 ┆ 4.0   ┆ a      │\n",
      "│ 2       ┆ 2024-07-02T00:00:00.000000 ┆ 5.0   ┆ b      │\n",
      "│ 3       ┆ 2024-03-03T00:00:00.000000 ┆ 6.0   ┆ c      │\n",
      "│ 4       ┆ 2024-09-11T00:00:00.000000 ┆ 7.0   ┆ d      │\n",
      "│ 5       ┆ 2024-02-15T00:00:00.000000 ┆ 8.0   ┆ e      │\n",
      "│ 6       ┆ 2024-10-24T00:00:00.000000 ┆ 9.0   ┆ f      │\n",
      "└─────────┴────────────────────────────┴───────┴────────┘\n"
     ]
    }
   ],
   "source": [
    "df_csv = pl.read_csv(\"df_1.csv\")\n",
    "print(df_csv)"
   ]
  },
  {
   "cell_type": "code",
   "execution_count": 62,
   "id": "f12bdaba-55e4-4ec1-acce-ed98b544c959",
   "metadata": {},
   "outputs": [
    {
     "name": "stdout",
     "output_type": "stream",
     "text": [
      "shape: (6, 4)\n",
      "┌─────────┬─────────────────────┬───────┬────────┐\n",
      "│ integer ┆ date                ┆ float ┆ string │\n",
      "│ ---     ┆ ---                 ┆ ---   ┆ ---    │\n",
      "│ i64     ┆ datetime[μs]        ┆ f64   ┆ str    │\n",
      "╞═════════╪═════════════════════╪═══════╪════════╡\n",
      "│ 1       ┆ 2024-01-11 00:00:00 ┆ 4.0   ┆ a      │\n",
      "│ 2       ┆ 2024-07-02 00:00:00 ┆ 5.0   ┆ b      │\n",
      "│ 3       ┆ 2024-03-03 00:00:00 ┆ 6.0   ┆ c      │\n",
      "│ 4       ┆ 2024-09-11 00:00:00 ┆ 7.0   ┆ d      │\n",
      "│ 5       ┆ 2024-02-15 00:00:00 ┆ 8.0   ┆ e      │\n",
      "│ 6       ┆ 2024-10-24 00:00:00 ┆ 9.0   ┆ f      │\n",
      "└─────────┴─────────────────────┴───────┴────────┘\n"
     ]
    }
   ],
   "source": [
    "print(df.select(pl.col(\"*\")))"
   ]
  },
  {
   "cell_type": "code",
   "execution_count": 63,
   "id": "e2c15fdd-65a8-4329-822f-c788d75a7a0c",
   "metadata": {},
   "outputs": [
    {
     "name": "stdout",
     "output_type": "stream",
     "text": [
      "shape: (6, 1)\n",
      "┌─────────────────────┐\n",
      "│ date                │\n",
      "│ ---                 │\n",
      "│ datetime[μs]        │\n",
      "╞═════════════════════╡\n",
      "│ 2024-01-11 00:00:00 │\n",
      "│ 2024-07-02 00:00:00 │\n",
      "│ 2024-03-03 00:00:00 │\n",
      "│ 2024-09-11 00:00:00 │\n",
      "│ 2024-02-15 00:00:00 │\n",
      "│ 2024-10-24 00:00:00 │\n",
      "└─────────────────────┘\n"
     ]
    }
   ],
   "source": [
    "print(df.select(pl.col(\"date\")))"
   ]
  },
  {
   "cell_type": "markdown",
   "id": "0f5f5163-e7ec-41ff-a3bd-a4ae943cae5c",
   "metadata": {},
   "source": [
    "**Filter**"
   ]
  },
  {
   "cell_type": "code",
   "execution_count": 64,
   "id": "dfda0931-bb69-4393-adc7-729ec4cc14a0",
   "metadata": {},
   "outputs": [
    {
     "name": "stdout",
     "output_type": "stream",
     "text": [
      "shape: (4, 4)\n",
      "┌─────────┬─────────────────────┬───────┬────────┐\n",
      "│ integer ┆ date                ┆ float ┆ string │\n",
      "│ ---     ┆ ---                 ┆ ---   ┆ ---    │\n",
      "│ i64     ┆ datetime[μs]        ┆ f64   ┆ str    │\n",
      "╞═════════╪═════════════════════╪═══════╪════════╡\n",
      "│ 2       ┆ 2024-07-02 00:00:00 ┆ 5.0   ┆ b      │\n",
      "│ 3       ┆ 2024-03-03 00:00:00 ┆ 6.0   ┆ c      │\n",
      "│ 4       ┆ 2024-09-11 00:00:00 ┆ 7.0   ┆ d      │\n",
      "│ 6       ┆ 2024-10-24 00:00:00 ┆ 9.0   ┆ f      │\n",
      "└─────────┴─────────────────────┴───────┴────────┘\n"
     ]
    }
   ],
   "source": [
    "print(df.filter(\n",
    "                pl.col(\"date\").is_between(datetime(2024, 2, 20), datetime(2024, 10, 27))\n",
    "                )\n",
    "     )                                    "
   ]
  },
  {
   "cell_type": "code",
   "execution_count": 65,
   "id": "d63ee757-7d96-4692-b59a-2a004dd08f2a",
   "metadata": {},
   "outputs": [
    {
     "name": "stdout",
     "output_type": "stream",
     "text": [
      "shape: (6, 6)\n",
      "┌─────────┬─────────────────────┬───────┬────────┬───────────┬───────────┐\n",
      "│ integer ┆ date                ┆ float ┆ string ┆ sum float ┆ float + 4 │\n",
      "│ ---     ┆ ---                 ┆ ---   ┆ ---    ┆ ---       ┆ ---       │\n",
      "│ i64     ┆ datetime[μs]        ┆ f64   ┆ str    ┆ f64       ┆ f64       │\n",
      "╞═════════╪═════════════════════╪═══════╪════════╪═══════════╪═══════════╡\n",
      "│ 1       ┆ 2024-01-11 00:00:00 ┆ 4.0   ┆ a      ┆ 39.0      ┆ 8.0       │\n",
      "│ 2       ┆ 2024-07-02 00:00:00 ┆ 5.0   ┆ b      ┆ 39.0      ┆ 9.0       │\n",
      "│ 3       ┆ 2024-03-03 00:00:00 ┆ 6.0   ┆ c      ┆ 39.0      ┆ 10.0      │\n",
      "│ 4       ┆ 2024-09-11 00:00:00 ┆ 7.0   ┆ d      ┆ 39.0      ┆ 11.0      │\n",
      "│ 5       ┆ 2024-02-15 00:00:00 ┆ 8.0   ┆ e      ┆ 39.0      ┆ 12.0      │\n",
      "│ 6       ┆ 2024-10-24 00:00:00 ┆ 9.0   ┆ f      ┆ 39.0      ┆ 13.0      │\n",
      "└─────────┴─────────────────────┴───────┴────────┴───────────┴───────────┘\n"
     ]
    }
   ],
   "source": [
    "print(df.with_columns(\n",
    "                      pl.col(\"float\").sum().alias(\"sum float\"), \n",
    "                      (pl.col(\"float\") + 4).alias(\"float + 4\"))\n",
    "     )"
   ]
  },
  {
   "cell_type": "markdown",
   "id": "6d850383-16df-4d54-874c-4a72fe08baf7",
   "metadata": {},
   "source": [
    "**Group by**"
   ]
  },
  {
   "cell_type": "code",
   "execution_count": 66,
   "id": "0ae4213b-e26d-44a1-9885-a6b8e869d4f6",
   "metadata": {},
   "outputs": [
    {
     "name": "stdout",
     "output_type": "stream",
     "text": [
      "shape: (8, 2)\n",
      "┌─────┬─────┐\n",
      "│ x   ┆ y   │\n",
      "│ --- ┆ --- │\n",
      "│ i64 ┆ str │\n",
      "╞═════╪═════╡\n",
      "│ 0   ┆ A   │\n",
      "│ 1   ┆ A   │\n",
      "│ 2   ┆ A   │\n",
      "│ 3   ┆ B   │\n",
      "│ 4   ┆ B   │\n",
      "│ 5   ┆ C   │\n",
      "│ 6   ┆ X   │\n",
      "│ 7   ┆ X   │\n",
      "└─────┴─────┘\n"
     ]
    }
   ],
   "source": [
    "df_1 = pl.DataFrame(\n",
    "                    {\"x\": range(8),\n",
    "                     \"y\": [\"A\", \"A\", \"A\", \"B\", \"B\", \"C\", \"X\", \"X\"]}\n",
    "                   )\n",
    "\n",
    "print(df_1)"
   ]
  },
  {
   "cell_type": "code",
   "execution_count": 67,
   "id": "1dd09fee-a932-4518-adb9-24192cdf6b44",
   "metadata": {},
   "outputs": [
    {
     "name": "stdout",
     "output_type": "stream",
     "text": [
      "shape: (4, 3)\n",
      "┌─────┬───────┬─────┐\n",
      "│ y   ┆ count ┆ sum │\n",
      "│ --- ┆ ---   ┆ --- │\n",
      "│ str ┆ u32   ┆ i64 │\n",
      "╞═════╪═══════╪═════╡\n",
      "│ A   ┆ 3     ┆ 3   │\n",
      "│ B   ┆ 2     ┆ 7   │\n",
      "│ C   ┆ 1     ┆ 5   │\n",
      "│ X   ┆ 2     ┆ 13  │\n",
      "└─────┴───────┴─────┘\n"
     ]
    }
   ],
   "source": [
    "print(df_1.group_by(\"y\", maintain_order= True).agg(\n",
    "                                                   pl.col(\"*\").count().alias(\"count\"),\n",
    "                                                   pl.col(\"*\").sum().alias(\"sum\")\n",
    "                                                  )\n",
    "     )"
   ]
  }
 ],
 "metadata": {
  "kernelspec": {
   "display_name": "Python 3 (ipykernel)",
   "language": "python",
   "name": "python3"
  },
  "language_info": {
   "codemirror_mode": {
    "name": "ipython",
    "version": 3
   },
   "file_extension": ".py",
   "mimetype": "text/x-python",
   "name": "python",
   "nbconvert_exporter": "python",
   "pygments_lexer": "ipython3",
   "version": "3.12.1"
  }
 },
 "nbformat": 4,
 "nbformat_minor": 5
}
