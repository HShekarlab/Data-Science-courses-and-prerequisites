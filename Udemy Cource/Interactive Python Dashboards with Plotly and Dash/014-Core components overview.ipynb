{
 "cells": [
  {
   "cell_type": "code",
   "execution_count": 1,
   "id": "cfdd9832-3b29-4a05-a809-addfc2b0081d",
   "metadata": {},
   "outputs": [],
   "source": [
    "import pandas as pd\n",
    "import plotly.express as px\n",
    "from dash import Dash, html, dcc"
   ]
  },
  {
   "cell_type": "code",
   "execution_count": 2,
   "id": "7f89774f-9cb4-4cd7-aa0c-f3c02cac2505",
   "metadata": {},
   "outputs": [
    {
     "data": {
      "text/html": [
       "<div>\n",
       "<style scoped>\n",
       "    .dataframe tbody tr th:only-of-type {\n",
       "        vertical-align: middle;\n",
       "    }\n",
       "\n",
       "    .dataframe tbody tr th {\n",
       "        vertical-align: top;\n",
       "    }\n",
       "\n",
       "    .dataframe thead th {\n",
       "        text-align: right;\n",
       "    }\n",
       "</style>\n",
       "<table border=\"1\" class=\"dataframe\">\n",
       "  <thead>\n",
       "    <tr style=\"text-align: right;\">\n",
       "      <th></th>\n",
       "      <th>country</th>\n",
       "      <th>region</th>\n",
       "      <th>happiness_rank</th>\n",
       "      <th>happiness_score</th>\n",
       "      <th>year</th>\n",
       "    </tr>\n",
       "  </thead>\n",
       "  <tbody>\n",
       "    <tr>\n",
       "      <th>0</th>\n",
       "      <td>Australia</td>\n",
       "      <td>Australia and New Zealand</td>\n",
       "      <td>10</td>\n",
       "      <td>7.284</td>\n",
       "      <td>2015</td>\n",
       "    </tr>\n",
       "    <tr>\n",
       "      <th>1</th>\n",
       "      <td>Australia</td>\n",
       "      <td>Australia and New Zealand</td>\n",
       "      <td>9</td>\n",
       "      <td>7.313</td>\n",
       "      <td>2016</td>\n",
       "    </tr>\n",
       "    <tr>\n",
       "      <th>2</th>\n",
       "      <td>Australia</td>\n",
       "      <td>Australia and New Zealand</td>\n",
       "      <td>10</td>\n",
       "      <td>7.284</td>\n",
       "      <td>2017</td>\n",
       "    </tr>\n",
       "    <tr>\n",
       "      <th>3</th>\n",
       "      <td>Australia</td>\n",
       "      <td>Australia and New Zealand</td>\n",
       "      <td>10</td>\n",
       "      <td>7.272</td>\n",
       "      <td>2018</td>\n",
       "    </tr>\n",
       "    <tr>\n",
       "      <th>4</th>\n",
       "      <td>Australia</td>\n",
       "      <td>Australia and New Zealand</td>\n",
       "      <td>11</td>\n",
       "      <td>7.228</td>\n",
       "      <td>2019</td>\n",
       "    </tr>\n",
       "  </tbody>\n",
       "</table>\n",
       "</div>"
      ],
      "text/plain": [
       "     country                     region  happiness_rank  happiness_score  year\n",
       "0  Australia  Australia and New Zealand              10            7.284  2015\n",
       "1  Australia  Australia and New Zealand               9            7.313  2016\n",
       "2  Australia  Australia and New Zealand              10            7.284  2017\n",
       "3  Australia  Australia and New Zealand              10            7.272  2018\n",
       "4  Australia  Australia and New Zealand              11            7.228  2019"
      ]
     },
     "execution_count": 2,
     "metadata": {},
     "output_type": "execute_result"
    }
   ],
   "source": [
    "happiness = pd.read_csv(\"world_happiness.csv\")\n",
    "happiness.head()"
   ]
  },
  {
   "cell_type": "code",
   "execution_count": 3,
   "id": "a272aeaf-9794-423d-a4fb-43bb8c5e81ee",
   "metadata": {},
   "outputs": [
    {
     "data": {
      "text/html": [
       "\n",
       "        <iframe\n",
       "            width=\"100%\"\n",
       "            height=\"650\"\n",
       "            src=\"http://127.0.0.1:8050/\"\n",
       "            frameborder=\"0\"\n",
       "            allowfullscreen\n",
       "            \n",
       "        ></iframe>\n",
       "        "
      ],
      "text/plain": [
       "<IPython.lib.display.IFrame at 0x17da3725310>"
      ]
     },
     "metadata": {},
     "output_type": "display_data"
    }
   ],
   "source": [
    "line_figure = px.line(happiness[happiness[\"country\"] == \"United States\"], \n",
    "                      x = \"year\", \n",
    "                      y = \"happiness_score\", \n",
    "                      title= \"Happiness Score in the USA\")\n",
    "\n",
    "\n",
    "app = Dash()\n",
    "\n",
    "app.layout = html.Div([\n",
    "    \n",
    "    html.H1(\"World Happiness Dashboard\"),  \n",
    "    \n",
    "    html.P([\"This dashboard shows the happiness score.\",\n",
    "            html.Br(),\n",
    "            html.A(\"World Happiness Report Data Source\",\n",
    "                   href= \"https://worldhappiness.report\",\n",
    "                   target= \"_blank\")]),\n",
    "    \n",
    "    dcc.RadioItems(options= happiness[\"region\"].unique(),\n",
    "                   value= \"North America\"),\n",
    "    \n",
    "    dcc.Checklist(options= happiness[\"region\"].unique(),\n",
    "                  value= [\"North America\"]),\n",
    "    \n",
    "    dcc.Dropdown(options= happiness[\"country\"].unique(),\n",
    "                 value= \"United States\"),\n",
    "    \n",
    "    dcc.Graph(figure= line_figure)\n",
    "    \n",
    "])\n",
    "\n",
    "\n",
    "if __name__ == \"__main__\":\n",
    "    app.run_server(debug= True)"
   ]
  }
 ],
 "metadata": {
  "kernelspec": {
   "display_name": "Python 3 (ipykernel)",
   "language": "python",
   "name": "python3"
  },
  "language_info": {
   "codemirror_mode": {
    "name": "ipython",
    "version": 3
   },
   "file_extension": ".py",
   "mimetype": "text/x-python",
   "name": "python",
   "nbconvert_exporter": "python",
   "pygments_lexer": "ipython3",
   "version": "3.12.1"
  }
 },
 "nbformat": 4,
 "nbformat_minor": 5
}
