{
 "cells": [
  {
   "cell_type": "code",
   "execution_count": 1,
   "id": "3a595e9f-d403-4238-a2f2-ee84e2815a70",
   "metadata": {},
   "outputs": [],
   "source": [
    "import numpy as np"
   ]
  },
  {
   "cell_type": "code",
   "execution_count": 2,
   "id": "1821bf5b-ed10-4265-9697-3ee6c0d8a125",
   "metadata": {},
   "outputs": [
    {
     "data": {
      "text/plain": [
       "array([1, 2, 3, 4])"
      ]
     },
     "execution_count": 2,
     "metadata": {},
     "output_type": "execute_result"
    }
   ],
   "source": [
    "A_1 = np.array([1, 2, 3, 4])\n",
    "A_1"
   ]
  },
  {
   "cell_type": "code",
   "execution_count": 3,
   "id": "b24edb14-5964-49e1-a025-8f01aeb1323c",
   "metadata": {},
   "outputs": [
    {
     "data": {
      "text/plain": [
       "numpy.ndarray"
      ]
     },
     "execution_count": 3,
     "metadata": {},
     "output_type": "execute_result"
    }
   ],
   "source": [
    "type(A_1)"
   ]
  },
  {
   "cell_type": "markdown",
   "id": "f78a802a-b913-42b0-abda-6562f6057598",
   "metadata": {},
   "source": [
    "*shape : to check the shape of the array*"
   ]
  },
  {
   "cell_type": "code",
   "execution_count": 4,
   "id": "e4787b26-7c63-4ae8-b954-2ed1e8d43e8c",
   "metadata": {},
   "outputs": [
    {
     "data": {
      "text/plain": [
       "(4,)"
      ]
     },
     "execution_count": 4,
     "metadata": {},
     "output_type": "execute_result"
    }
   ],
   "source": [
    "A_1.shape"
   ]
  },
  {
   "cell_type": "markdown",
   "id": "055d6ca2-fc68-42ce-a9be-410620d123bf",
   "metadata": {},
   "source": [
    "*ndim : to check the dimension (rank) of the array*"
   ]
  },
  {
   "cell_type": "code",
   "execution_count": 5,
   "id": "2bd94dbf-f6f0-4538-b85b-94689c82d61e",
   "metadata": {},
   "outputs": [
    {
     "data": {
      "text/plain": [
       "1"
      ]
     },
     "execution_count": 5,
     "metadata": {},
     "output_type": "execute_result"
    }
   ],
   "source": [
    "A_1.ndim"
   ]
  },
  {
   "cell_type": "markdown",
   "id": "433cc73b-ae14-4bd1-b793-9bce8486d7bd",
   "metadata": {},
   "source": [
    "*size : to check the no. of elements in the array*"
   ]
  },
  {
   "cell_type": "code",
   "execution_count": 6,
   "id": "c591b919-b06a-4001-8b76-366906c4cbe7",
   "metadata": {},
   "outputs": [
    {
     "data": {
      "text/plain": [
       "4"
      ]
     },
     "execution_count": 6,
     "metadata": {},
     "output_type": "execute_result"
    }
   ],
   "source": [
    "A_1.size"
   ]
  },
  {
   "cell_type": "code",
   "execution_count": 7,
   "id": "44ad5622-734d-4a27-b1d7-c640b500a920",
   "metadata": {},
   "outputs": [
    {
     "data": {
      "text/plain": [
       "array([[1, 2, 3, 4],\n",
       "       [5, 6, 7, 8]])"
      ]
     },
     "execution_count": 7,
     "metadata": {},
     "output_type": "execute_result"
    }
   ],
   "source": [
    "A_2 = np.array([[1, 2, 3, 4], [5, 6, 7, 8]])\n",
    "A_2"
   ]
  },
  {
   "cell_type": "code",
   "execution_count": 8,
   "id": "6a85d432-e2e4-48f5-b568-b3a9b4d4a731",
   "metadata": {},
   "outputs": [
    {
     "data": {
      "text/plain": [
       "numpy.ndarray"
      ]
     },
     "execution_count": 8,
     "metadata": {},
     "output_type": "execute_result"
    }
   ],
   "source": [
    "type(A_2)"
   ]
  },
  {
   "cell_type": "code",
   "execution_count": 9,
   "id": "a8f03732-d15e-424b-8e75-179a13717457",
   "metadata": {},
   "outputs": [
    {
     "data": {
      "text/plain": [
       "(2, 4)"
      ]
     },
     "execution_count": 9,
     "metadata": {},
     "output_type": "execute_result"
    }
   ],
   "source": [
    "A_2.shape"
   ]
  },
  {
   "cell_type": "code",
   "execution_count": 10,
   "id": "0f943b48-ad06-4b94-8ace-8b7b3a7142c7",
   "metadata": {},
   "outputs": [
    {
     "data": {
      "text/plain": [
       "2"
      ]
     },
     "execution_count": 10,
     "metadata": {},
     "output_type": "execute_result"
    }
   ],
   "source": [
    "A_2.ndim"
   ]
  },
  {
   "cell_type": "code",
   "execution_count": 11,
   "id": "1529f949-74c2-4ed0-ac9a-af2aa084a164",
   "metadata": {},
   "outputs": [
    {
     "data": {
      "text/plain": [
       "8"
      ]
     },
     "execution_count": 11,
     "metadata": {},
     "output_type": "execute_result"
    }
   ],
   "source": [
    "A_2.size"
   ]
  },
  {
   "cell_type": "code",
   "execution_count": 12,
   "id": "1ac2447d-834c-4edc-9e90-293a5adc00ac",
   "metadata": {},
   "outputs": [
    {
     "data": {
      "text/plain": [
       "array([[[1, 2, 3],\n",
       "        [4, 5, 6],\n",
       "        [7, 8, 9]]])"
      ]
     },
     "execution_count": 12,
     "metadata": {},
     "output_type": "execute_result"
    }
   ],
   "source": [
    "A_3 = np.array([[[1, 2, 3], [4, 5, 6], [7, 8, 9]]])\n",
    "A_3"
   ]
  },
  {
   "cell_type": "code",
   "execution_count": 13,
   "id": "891146bf-71d3-4bec-bc47-05a89dbe7bc2",
   "metadata": {},
   "outputs": [
    {
     "data": {
      "text/plain": [
       "numpy.ndarray"
      ]
     },
     "execution_count": 13,
     "metadata": {},
     "output_type": "execute_result"
    }
   ],
   "source": [
    "type(A_3)"
   ]
  },
  {
   "cell_type": "code",
   "execution_count": 14,
   "id": "028c2983-116b-4c9b-84ee-261241059973",
   "metadata": {},
   "outputs": [
    {
     "data": {
      "text/plain": [
       "(1, 3, 3)"
      ]
     },
     "execution_count": 14,
     "metadata": {},
     "output_type": "execute_result"
    }
   ],
   "source": [
    "A_3.shape"
   ]
  },
  {
   "cell_type": "code",
   "execution_count": 15,
   "id": "0682b9e3-cbbe-42e8-a697-361336cebaa7",
   "metadata": {},
   "outputs": [
    {
     "data": {
      "text/plain": [
       "3"
      ]
     },
     "execution_count": 15,
     "metadata": {},
     "output_type": "execute_result"
    }
   ],
   "source": [
    "A_3.ndim"
   ]
  },
  {
   "cell_type": "code",
   "execution_count": 16,
   "id": "1708355d-bf05-4d64-b35d-3d6e363971c1",
   "metadata": {},
   "outputs": [
    {
     "data": {
      "text/plain": [
       "9"
      ]
     },
     "execution_count": 16,
     "metadata": {},
     "output_type": "execute_result"
    }
   ],
   "source": [
    "A_3.size"
   ]
  }
 ],
 "metadata": {
  "kernelspec": {
   "display_name": "Python 3 (ipykernel)",
   "language": "python",
   "name": "python3"
  },
  "language_info": {
   "codemirror_mode": {
    "name": "ipython",
    "version": 3
   },
   "file_extension": ".py",
   "mimetype": "text/x-python",
   "name": "python",
   "nbconvert_exporter": "python",
   "pygments_lexer": "ipython3",
   "version": "3.10.7"
  }
 },
 "nbformat": 4,
 "nbformat_minor": 5
}
