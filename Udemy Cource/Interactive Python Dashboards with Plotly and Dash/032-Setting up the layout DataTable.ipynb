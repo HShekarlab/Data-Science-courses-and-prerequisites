{
 "cells": [
  {
   "cell_type": "code",
   "execution_count": 1,
   "id": "6dcaf124-8ceb-49bc-99da-3ed924f0c434",
   "metadata": {},
   "outputs": [
    {
     "data": {
      "text/html": [
       "\n",
       "        <iframe\n",
       "            width=\"100%\"\n",
       "            height=\"650\"\n",
       "            src=\"http://127.0.0.1:8050/\"\n",
       "            frameborder=\"0\"\n",
       "            allowfullscreen\n",
       "            \n",
       "        ></iframe>\n",
       "        "
      ],
      "text/plain": [
       "<IPython.lib.display.IFrame at 0x21e66dd7cb0>"
      ]
     },
     "metadata": {},
     "output_type": "display_data"
    }
   ],
   "source": [
    "import pandas as pd\n",
    "import plotly.express as px\n",
    "from dash import Dash, html, dcc, dash_table\n",
    "import dash_bootstrap_components as dbc\n",
    "\n",
    "\n",
    "electricity = pd.read_csv(\"Electricity_European.csv\")\n",
    "\n",
    "min_year= electricity[\"year\"].min()\n",
    "max_year= electricity[\"year\"].max()\n",
    "\n",
    "avg_price_electricity = electricity.groupby(\"Country\")[\"Price (EUR/MWhe)\"].mean().reset_index()\n",
    "\n",
    "map_fig = px.choropleth(avg_price_electricity,\n",
    "                        locations= \"Country\", \n",
    "                        locationmode= \"country names\", \n",
    "                        color= \"Price (EUR/MWhe)\", \n",
    "                        scope= \"europe\", \n",
    "                        color_continuous_scale= \"rainbow\")\n",
    "\n",
    "app = Dash(external_stylesheets= [dbc.themes.SOLAR])\n",
    "\n",
    "app.layout = html.Div([\n",
    "    html.H1(\"Electricity Price by Europen\"), \n",
    "    dcc.RangeSlider(id= \"year_slider\", \n",
    "                    min= min_year,\n",
    "                    max= max_year, \n",
    "                    value= [min_year, max_year],\n",
    "                    marks= {i: str(i) for i in range(min_year, max_year + 1)}), \n",
    "    dcc.Graph(id= \"map_graph\", figure= map_fig), \n",
    "    dash_table.DataTable(id= \"price-info\", \n",
    "                         data= electricity.to_dict(\"records\"))\n",
    "])\n",
    "\n",
    "if __name__ == \"__main__\":\n",
    "    app.run_server(debug= True)"
   ]
  }
 ],
 "metadata": {
  "kernelspec": {
   "display_name": "Python 3 (ipykernel)",
   "language": "python",
   "name": "python3"
  },
  "language_info": {
   "codemirror_mode": {
    "name": "ipython",
    "version": 3
   },
   "file_extension": ".py",
   "mimetype": "text/x-python",
   "name": "python",
   "nbconvert_exporter": "python",
   "pygments_lexer": "ipython3",
   "version": "3.12.1"
  }
 },
 "nbformat": 4,
 "nbformat_minor": 5
}
