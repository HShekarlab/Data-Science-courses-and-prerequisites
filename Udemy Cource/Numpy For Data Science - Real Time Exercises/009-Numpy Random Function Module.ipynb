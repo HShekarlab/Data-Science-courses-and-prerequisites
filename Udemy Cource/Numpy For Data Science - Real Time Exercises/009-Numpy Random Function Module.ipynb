{
 "cells": [
  {
   "cell_type": "markdown",
   "id": "27321f46-800d-4b11-b072-36162577d1e9",
   "metadata": {},
   "source": [
    "### The Random Module contain the functions which are used for generating random numbers."
   ]
  },
  {
   "cell_type": "code",
   "execution_count": 1,
   "id": "c411abad-1bcc-4986-b39b-45c58df47d29",
   "metadata": {},
   "outputs": [],
   "source": [
    "import numpy as np\n",
    "from numpy import random"
   ]
  },
  {
   "cell_type": "markdown",
   "id": "ad0a82f6-2bbd-41c6-bbb3-ed597c028bb2",
   "metadata": {},
   "source": [
    "#### 1. Random Function\n",
    "\n",
    "It returns random float number(s) between 0 and 1."
   ]
  },
  {
   "cell_type": "code",
   "execution_count": 2,
   "id": "4c8a3bce-2727-464e-9d03-a63415e2546d",
   "metadata": {},
   "outputs": [
    {
     "data": {
      "text/plain": [
       "0.5284839701094396"
      ]
     },
     "execution_count": 2,
     "metadata": {},
     "output_type": "execute_result"
    }
   ],
   "source": [
    "np.random.random()"
   ]
  },
  {
   "cell_type": "code",
   "execution_count": 3,
   "id": "c3d69c9f-370a-4ae5-8968-185a2f7b13c3",
   "metadata": {},
   "outputs": [
    {
     "data": {
      "text/plain": [
       "array([0.75164908, 0.47269127, 0.38896356, 0.58991037, 0.82407943])"
      ]
     },
     "execution_count": 3,
     "metadata": {},
     "output_type": "execute_result"
    }
   ],
   "source": [
    "np.random.random(5)"
   ]
  },
  {
   "cell_type": "code",
   "execution_count": 4,
   "id": "6e9227c4-9ddc-4458-88ed-54a5a19095ac",
   "metadata": {},
   "outputs": [
    {
     "ename": "TypeError",
     "evalue": "random() takes at most 1 positional argument (2 given)",
     "output_type": "error",
     "traceback": [
      "\u001b[1;31m---------------------------------------------------------------------------\u001b[0m",
      "\u001b[1;31mTypeError\u001b[0m                                 Traceback (most recent call last)",
      "Cell \u001b[1;32mIn[4], line 1\u001b[0m\n\u001b[1;32m----> 1\u001b[0m \u001b[43mnp\u001b[49m\u001b[38;5;241;43m.\u001b[39;49m\u001b[43mrandom\u001b[49m\u001b[38;5;241;43m.\u001b[39;49m\u001b[43mrandom\u001b[49m\u001b[43m(\u001b[49m\u001b[38;5;241;43m2\u001b[39;49m\u001b[43m,\u001b[49m\u001b[43m \u001b[49m\u001b[38;5;241;43m3\u001b[39;49m\u001b[43m)\u001b[49m\n",
      "File \u001b[1;32mmtrand.pyx:438\u001b[0m, in \u001b[0;36mnumpy.random.mtrand.RandomState.random\u001b[1;34m()\u001b[0m\n",
      "\u001b[1;31mTypeError\u001b[0m: random() takes at most 1 positional argument (2 given)"
     ]
    }
   ],
   "source": [
    "np.random.random(2, 3)"
   ]
  },
  {
   "cell_type": "code",
   "execution_count": 5,
   "id": "696b61cd-e249-448f-8769-8cf063eb8305",
   "metadata": {},
   "outputs": [
    {
     "data": {
      "text/plain": [
       "array([[0.89993966, 0.51152594, 0.80319554],\n",
       "       [0.18171762, 0.34944973, 0.86227267]])"
      ]
     },
     "execution_count": 5,
     "metadata": {},
     "output_type": "execute_result"
    }
   ],
   "source": [
    "np.random.random((2, 3))"
   ]
  },
  {
   "cell_type": "code",
   "execution_count": 6,
   "id": "edb8519b-3567-4d75-9e72-f31dc1ed994f",
   "metadata": {},
   "outputs": [
    {
     "data": {
      "text/plain": [
       "array([[[0.14571066, 0.65049934, 0.43266876, 0.29476395, 0.49529634],\n",
       "        [0.68095317, 0.26347622, 0.67889226, 0.04290437, 0.76510086]],\n",
       "\n",
       "       [[0.04589128, 0.64248892, 0.44475725, 0.32985577, 0.17768007],\n",
       "        [0.5833216 , 0.86455275, 0.9078908 , 0.90582454, 0.13492574]],\n",
       "\n",
       "       [[0.73067637, 0.42924628, 0.03787081, 0.19086001, 0.96091082],\n",
       "        [0.26100056, 0.25991228, 0.83178798, 0.78361584, 0.50947134]]])"
      ]
     },
     "execution_count": 6,
     "metadata": {},
     "output_type": "execute_result"
    }
   ],
   "source": [
    "np.random.random((3, 2, 5))"
   ]
  },
  {
   "cell_type": "markdown",
   "id": "79dcd47e-0392-47ac-9366-c52a703c60a2",
   "metadata": {},
   "source": [
    "#### 2. Randint Function\n",
    "- It generates random integer number(s) between given range. \n",
    "- By default, the range starts from 0.\n",
    "- The numbers can repeat."
   ]
  },
  {
   "cell_type": "code",
   "execution_count": 7,
   "id": "3b776065-74cd-42a7-a0d1-3c34b3a3e77b",
   "metadata": {},
   "outputs": [
    {
     "data": {
      "text/plain": [
       "35"
      ]
     },
     "execution_count": 7,
     "metadata": {},
     "output_type": "execute_result"
    }
   ],
   "source": [
    "np.random.randint(2, 45)"
   ]
  },
  {
   "cell_type": "code",
   "execution_count": 8,
   "id": "3bbc21d5-6618-4731-b0ae-16c88888e711",
   "metadata": {},
   "outputs": [
    {
     "data": {
      "text/plain": [
       "array([ 7, 20, 21, 23, 11, 26,  7, 22,  8])"
      ]
     },
     "execution_count": 8,
     "metadata": {},
     "output_type": "execute_result"
    }
   ],
   "source": [
    "np.random.randint(3, 30, 9)"
   ]
  },
  {
   "cell_type": "code",
   "execution_count": 9,
   "id": "933224e4-9f42-4482-89cf-c6d45be88086",
   "metadata": {},
   "outputs": [
    {
     "data": {
      "text/plain": [
       "2"
      ]
     },
     "execution_count": 9,
     "metadata": {},
     "output_type": "execute_result"
    }
   ],
   "source": [
    "np.random.randint(5)"
   ]
  },
  {
   "cell_type": "code",
   "execution_count": 10,
   "id": "993b927e-6911-4278-ade7-53ab797a1164",
   "metadata": {},
   "outputs": [
    {
     "data": {
      "text/plain": [
       "2"
      ]
     },
     "execution_count": 10,
     "metadata": {},
     "output_type": "execute_result"
    }
   ],
   "source": [
    "np.random.randint(5)"
   ]
  },
  {
   "cell_type": "markdown",
   "id": "5537ec67-b195-41a5-a81b-106c65512c5d",
   "metadata": {},
   "source": [
    "##### 3. Rand Function\n",
    "\n",
    "It returns random float number(s) between 0 and 1."
   ]
  },
  {
   "cell_type": "code",
   "execution_count": 11,
   "id": "1f554efd-5105-49ec-9c14-e7dfcddbbee7",
   "metadata": {},
   "outputs": [
    {
     "data": {
      "text/plain": [
       "0.07875316960273293"
      ]
     },
     "execution_count": 11,
     "metadata": {},
     "output_type": "execute_result"
    }
   ],
   "source": [
    "np.random.rand()"
   ]
  },
  {
   "cell_type": "code",
   "execution_count": 12,
   "id": "1216f1eb-400d-4c60-a14b-b68504958fdd",
   "metadata": {},
   "outputs": [
    {
     "data": {
      "text/plain": [
       "array([0.43315642, 0.07556248, 0.14245222, 0.58802423, 0.49266315])"
      ]
     },
     "execution_count": 12,
     "metadata": {},
     "output_type": "execute_result"
    }
   ],
   "source": [
    "np.random.rand(5)"
   ]
  },
  {
   "cell_type": "code",
   "execution_count": 13,
   "id": "8bd18a90-0328-485c-a90e-bd0c6fea1553",
   "metadata": {},
   "outputs": [
    {
     "data": {
      "text/plain": [
       "array([[0.70638917, 0.50600123, 0.57930652, 0.57459698],\n",
       "       [0.45062043, 0.94065217, 0.28876512, 0.06146827],\n",
       "       [0.48172395, 0.1165485 , 0.67757561, 0.81838711]])"
      ]
     },
     "execution_count": 13,
     "metadata": {},
     "output_type": "execute_result"
    }
   ],
   "source": [
    "np.random.rand(3, 4)"
   ]
  },
  {
   "cell_type": "code",
   "execution_count": 14,
   "id": "108823b8-6c66-4865-882a-d7a0765eff14",
   "metadata": {},
   "outputs": [
    {
     "data": {
      "text/plain": [
       "array([[[0.50563172, 0.73822019, 0.00919723, 0.05396245, 0.47045158],\n",
       "        [0.76122797, 0.67869079, 0.47922279, 0.8901119 , 0.4569685 ],\n",
       "        [0.13770837, 0.69982198, 0.38408248, 0.72357063, 0.78700123],\n",
       "        [0.43500435, 0.61871732, 0.3166691 , 0.50855653, 0.72245438]],\n",
       "\n",
       "       [[0.53628729, 0.80751034, 0.80819294, 0.41065566, 0.11651258],\n",
       "        [0.95369327, 0.74085103, 0.66426215, 0.65000642, 0.16700846],\n",
       "        [0.53634467, 0.47929215, 0.628152  , 0.67064765, 0.49513272],\n",
       "        [0.34177707, 0.57443692, 0.37099758, 0.18530285, 0.85259459]],\n",
       "\n",
       "       [[0.22944161, 0.36964708, 0.18881326, 0.30392265, 0.13243249],\n",
       "        [0.72467909, 0.64755264, 0.72751599, 0.39900684, 0.25771046],\n",
       "        [0.61412636, 0.45852015, 0.54059652, 0.09670046, 0.89990758],\n",
       "        [0.77871302, 0.70367659, 0.22060815, 0.6923378 , 0.60762403]]])"
      ]
     },
     "execution_count": 14,
     "metadata": {},
     "output_type": "execute_result"
    }
   ],
   "source": [
    "np.random.rand(3, 4, 5)"
   ]
  },
  {
   "cell_type": "markdown",
   "id": "2e5a369e-b51f-49af-a4e4-eb1b4a67bf70",
   "metadata": {},
   "source": [
    "##### 4. Randn Function\n",
    "\n",
    "It returns random float numbers (postive and negative both) in the form of array."
   ]
  },
  {
   "cell_type": "code",
   "execution_count": 15,
   "id": "803213f4-d29a-468c-a95a-d5e4a21812c4",
   "metadata": {},
   "outputs": [
    {
     "data": {
      "text/plain": [
       "1.645918916517589"
      ]
     },
     "execution_count": 15,
     "metadata": {},
     "output_type": "execute_result"
    }
   ],
   "source": [
    "np.random.randn()"
   ]
  },
  {
   "cell_type": "code",
   "execution_count": 16,
   "id": "3760c3d5-32e4-4c3e-bee5-59df9294e858",
   "metadata": {},
   "outputs": [
    {
     "data": {
      "text/plain": [
       "array([ 0.61679535,  0.84424033, -0.65205494, -0.16129225, -1.80430155,\n",
       "       -0.16441292])"
      ]
     },
     "execution_count": 16,
     "metadata": {},
     "output_type": "execute_result"
    }
   ],
   "source": [
    "np.random.randn(6)"
   ]
  },
  {
   "cell_type": "code",
   "execution_count": 17,
   "id": "178174dc-01ba-4acd-b799-d89286128f61",
   "metadata": {},
   "outputs": [
    {
     "data": {
      "text/plain": [
       "array([[[ 1.05409194,  0.49165335,  0.45620032,  0.79767023],\n",
       "        [ 0.11948229,  1.12178884,  0.59118604,  0.99406383],\n",
       "        [ 1.45633018,  0.08354195, -0.09115142, -0.98603018],\n",
       "        [-2.50253341, -0.35238478, -0.34677547,  0.32033156]],\n",
       "\n",
       "       [[-1.33090825,  0.54132919,  0.42145532, -0.9048122 ],\n",
       "        [-0.54669384,  0.5699388 ,  1.39751983, -0.04943119],\n",
       "        [ 0.41625472, -2.05554118,  0.23581767,  1.28895761],\n",
       "        [ 1.19580457, -0.55598412,  0.64410063,  0.04450891]],\n",
       "\n",
       "       [[-1.51696737, -0.57892788,  0.42477102,  0.10650876],\n",
       "        [-0.16600045,  0.67100365, -0.62158031, -0.27985637],\n",
       "        [-1.84576363, -0.79834589,  0.25735279,  0.13856929],\n",
       "        [-1.75698091, -2.22492664, -0.9270626 ,  0.66375028]]])"
      ]
     },
     "execution_count": 17,
     "metadata": {},
     "output_type": "execute_result"
    }
   ],
   "source": [
    "np.random.randn(3, 4, 4)"
   ]
  },
  {
   "cell_type": "markdown",
   "id": "feaaf43d-4046-4803-b7f6-cc83ab5658e8",
   "metadata": {},
   "source": [
    "#### 5. Uniform Function\n",
    "\n",
    "- It returns random float number(s) between the given range of values.\n",
    "- The random numbers can't repeat.\n",
    "- By default, the range starts from 0.\n",
    "- If nothing is passed in (), it will return a float number between 0 and 1."
   ]
  },
  {
   "cell_type": "code",
   "execution_count": 18,
   "id": "92830e19-9aac-457a-9576-91f32cefd503",
   "metadata": {},
   "outputs": [
    {
     "data": {
      "text/plain": [
       "5.742271735560595"
      ]
     },
     "execution_count": 18,
     "metadata": {},
     "output_type": "execute_result"
    }
   ],
   "source": [
    "np.random.uniform(8, 3)"
   ]
  },
  {
   "cell_type": "code",
   "execution_count": 19,
   "id": "483e54e5-2cd7-45e9-a5df-0c6915c9ca1a",
   "metadata": {},
   "outputs": [
    {
     "data": {
      "text/plain": [
       "array([4.47242304, 9.63992567, 4.2959932 , 4.64730486, 6.12333365,\n",
       "       4.44016719, 9.10966098, 7.82947357, 3.96729876, 8.45841557,\n",
       "       9.82987682, 9.73791903])"
      ]
     },
     "execution_count": 19,
     "metadata": {},
     "output_type": "execute_result"
    }
   ],
   "source": [
    "np.random.uniform(3, 10, 12)"
   ]
  },
  {
   "cell_type": "code",
   "execution_count": 20,
   "id": "0e886306-afcd-4be2-89f9-2a6fa604bbf0",
   "metadata": {},
   "outputs": [
    {
     "data": {
      "text/plain": [
       "1.3267164332307049"
      ]
     },
     "execution_count": 20,
     "metadata": {},
     "output_type": "execute_result"
    }
   ],
   "source": [
    "np.random.uniform(5)"
   ]
  },
  {
   "cell_type": "code",
   "execution_count": 21,
   "id": "835c84e7-834f-4a10-99ff-d6ce4c6de445",
   "metadata": {},
   "outputs": [
    {
     "data": {
      "text/plain": [
       "2.344537438980698"
      ]
     },
     "execution_count": 21,
     "metadata": {},
     "output_type": "execute_result"
    }
   ],
   "source": [
    "np.random.uniform(5)"
   ]
  },
  {
   "cell_type": "code",
   "execution_count": 22,
   "id": "90ac07ed-2bc6-41cf-95c6-89007f3cc0c0",
   "metadata": {},
   "outputs": [
    {
     "data": {
      "text/plain": [
       "0.33493956024056526"
      ]
     },
     "execution_count": 22,
     "metadata": {},
     "output_type": "execute_result"
    }
   ],
   "source": [
    "np.random.uniform()"
   ]
  },
  {
   "cell_type": "markdown",
   "id": "fff70f6d-e46d-4309-9b49-df0998797eaf",
   "metadata": {},
   "source": [
    "#### 6. Choice Function\n",
    "- It returns random integer number(s) from the given sequence.\n",
    "- The range starts from 0 by default.\n",
    "- If only 1 element is passed, then it will return a number between 0 and that element.\n",
    "- By default, replace = True , which means the numbers can repeat."
   ]
  },
  {
   "cell_type": "code",
   "execution_count": 23,
   "id": "e9b1d6a1-304f-4133-baec-3436e618b5dc",
   "metadata": {},
   "outputs": [
    {
     "data": {
      "text/plain": [
       "37"
      ]
     },
     "execution_count": 23,
     "metadata": {},
     "output_type": "execute_result"
    }
   ],
   "source": [
    "np.random.choice([6, 11, 8, 5, 46, 37, 13, 15, 7, 66, 1, 9, 51])"
   ]
  },
  {
   "cell_type": "code",
   "execution_count": 24,
   "id": "8d879d96-1776-48c7-a3ef-a2ff42205ae4",
   "metadata": {},
   "outputs": [
    {
     "data": {
      "text/plain": [
       "array([ 7,  8, 11])"
      ]
     },
     "execution_count": 24,
     "metadata": {},
     "output_type": "execute_result"
    }
   ],
   "source": [
    "np.random.choice([6, 11, 8, 5, 46, 37, 13, 15, 7, 66, 1, 9, 51], 3)"
   ]
  },
  {
   "cell_type": "code",
   "execution_count": 25,
   "id": "3cf90c32-d0a8-465b-9135-ccdb46cd09b5",
   "metadata": {},
   "outputs": [
    {
     "data": {
      "text/plain": [
       "array([ 8,  7, 11,  8,  5,  4, 10,  7,  6, 14,  4,  7, 11,  0, 10,  3,  0,\n",
       "        5,  6, 14,  3,  9,  8,  5, 11,  4, 12,  5, 10, 10,  4,  5,  8,  3,\n",
       "       11, 14, 13,  9,  1,  8,  0, 12, 14, 11,  3,  8, 11,  3,  5, 10,  8,\n",
       "        6,  7,  1, 10,  8,  5, 14,  3, 11,  1, 11, 13,  3,  1,  2,  8,  4,\n",
       "       12,  8,  2,  2,  1, 11,  4, 12,  8, 12,  0, 12,  8,  0,  8,  9, 14,\n",
       "        1, 11,  2, 12,  2,  8,  9, 10,  1,  3,  1, 11, 14,  5, 14,  4, 14,\n",
       "        8,  5,  1,  0,  5,  7,  0,  8, 10,  6,  2,  5, 13,  2,  3,  1,  2,\n",
       "       10])"
      ]
     },
     "execution_count": 25,
     "metadata": {},
     "output_type": "execute_result"
    }
   ],
   "source": [
    "np.random.choice(15, 120)"
   ]
  },
  {
   "cell_type": "code",
   "execution_count": 26,
   "id": "083ee3f8-bddb-4cd8-922f-fc671f3234aa",
   "metadata": {},
   "outputs": [
    {
     "data": {
      "text/plain": [
       "6"
      ]
     },
     "execution_count": 26,
     "metadata": {},
     "output_type": "execute_result"
    }
   ],
   "source": [
    "np.random.choice(19)"
   ]
  },
  {
   "cell_type": "code",
   "execution_count": 27,
   "id": "369834f3-08cd-45f1-ae27-406ecaeb4396",
   "metadata": {},
   "outputs": [
    {
     "data": {
      "text/plain": [
       "array([ 7,  5, 46,  7,  1, 51, 15])"
      ]
     },
     "execution_count": 27,
     "metadata": {},
     "output_type": "execute_result"
    }
   ],
   "source": [
    "np.random.choice([6, 11, 8, 5, 46, 37, 13, 15, 7, 66, 1, 9, 51], size= 7)"
   ]
  },
  {
   "cell_type": "code",
   "execution_count": 28,
   "id": "fb53d520-c715-4976-b4bd-d8c4e3f40849",
   "metadata": {},
   "outputs": [
    {
     "data": {
      "text/plain": [
       "array([ 9, 46, 11,  8, 66,  6,  5])"
      ]
     },
     "execution_count": 28,
     "metadata": {},
     "output_type": "execute_result"
    }
   ],
   "source": [
    "np.random.choice([6, 11, 8, 5, 46, 37, 13, 15, 7, 66, 1, 9, 51], size= 7, replace= False)"
   ]
  },
  {
   "cell_type": "code",
   "execution_count": 29,
   "id": "a6ee198e-b29f-4878-8910-37e5f721a51f",
   "metadata": {},
   "outputs": [
    {
     "ename": "ValueError",
     "evalue": "Cannot take a larger sample than population when 'replace=False'",
     "output_type": "error",
     "traceback": [
      "\u001b[1;31m---------------------------------------------------------------------------\u001b[0m",
      "\u001b[1;31mValueError\u001b[0m                                Traceback (most recent call last)",
      "Cell \u001b[1;32mIn[29], line 1\u001b[0m\n\u001b[1;32m----> 1\u001b[0m \u001b[43mnp\u001b[49m\u001b[38;5;241;43m.\u001b[39;49m\u001b[43mrandom\u001b[49m\u001b[38;5;241;43m.\u001b[39;49m\u001b[43mchoice\u001b[49m\u001b[43m(\u001b[49m\u001b[43m[\u001b[49m\u001b[38;5;241;43m6\u001b[39;49m\u001b[43m,\u001b[49m\u001b[43m \u001b[49m\u001b[38;5;241;43m11\u001b[39;49m\u001b[43m,\u001b[49m\u001b[43m \u001b[49m\u001b[38;5;241;43m8\u001b[39;49m\u001b[43m,\u001b[49m\u001b[43m \u001b[49m\u001b[38;5;241;43m5\u001b[39;49m\u001b[43m,\u001b[49m\u001b[43m \u001b[49m\u001b[38;5;241;43m46\u001b[39;49m\u001b[43m,\u001b[49m\u001b[43m \u001b[49m\u001b[38;5;241;43m37\u001b[39;49m\u001b[43m,\u001b[49m\u001b[43m \u001b[49m\u001b[38;5;241;43m13\u001b[39;49m\u001b[43m,\u001b[49m\u001b[43m \u001b[49m\u001b[38;5;241;43m15\u001b[39;49m\u001b[43m,\u001b[49m\u001b[43m \u001b[49m\u001b[38;5;241;43m7\u001b[39;49m\u001b[43m,\u001b[49m\u001b[43m \u001b[49m\u001b[38;5;241;43m66\u001b[39;49m\u001b[43m,\u001b[49m\u001b[43m \u001b[49m\u001b[38;5;241;43m1\u001b[39;49m\u001b[43m,\u001b[49m\u001b[43m \u001b[49m\u001b[38;5;241;43m9\u001b[39;49m\u001b[43m,\u001b[49m\u001b[43m \u001b[49m\u001b[38;5;241;43m51\u001b[39;49m\u001b[43m]\u001b[49m\u001b[43m,\u001b[49m\u001b[43m \u001b[49m\u001b[43msize\u001b[49m\u001b[38;5;241;43m=\u001b[39;49m\u001b[43m \u001b[49m\u001b[38;5;241;43m25\u001b[39;49m\u001b[43m,\u001b[49m\u001b[43m \u001b[49m\u001b[43mreplace\u001b[49m\u001b[38;5;241;43m=\u001b[39;49m\u001b[43m \u001b[49m\u001b[38;5;28;43;01mFalse\u001b[39;49;00m\u001b[43m)\u001b[49m\n",
      "File \u001b[1;32mmtrand.pyx:984\u001b[0m, in \u001b[0;36mnumpy.random.mtrand.RandomState.choice\u001b[1;34m()\u001b[0m\n",
      "\u001b[1;31mValueError\u001b[0m: Cannot take a larger sample than population when 'replace=False'"
     ]
    }
   ],
   "source": [
    "np.random.choice([6, 11, 8, 5, 46, 37, 13, 15, 7, 66, 1, 9, 51], size= 25, replace= False)"
   ]
  },
  {
   "cell_type": "code",
   "execution_count": 30,
   "id": "5986cba9-2a4a-465e-a480-2c550ec39042",
   "metadata": {},
   "outputs": [
    {
     "data": {
      "text/plain": [
       "array([ 1, 66,  6, 46,  5,  1,  9,  1, 46, 46,  7,  5, 13,  5, 66,  7, 13,\n",
       "       15, 66, 51,  7, 13,  1, 15, 51])"
      ]
     },
     "execution_count": 30,
     "metadata": {},
     "output_type": "execute_result"
    }
   ],
   "source": [
    "np.random.choice([6, 11, 8, 5, 46, 37, 13, 15, 7, 66, 1, 9, 51], size= 25, replace= True)"
   ]
  }
 ],
 "metadata": {
  "kernelspec": {
   "display_name": "Python 3 (ipykernel)",
   "language": "python",
   "name": "python3"
  },
  "language_info": {
   "codemirror_mode": {
    "name": "ipython",
    "version": 3
   },
   "file_extension": ".py",
   "mimetype": "text/x-python",
   "name": "python",
   "nbconvert_exporter": "python",
   "pygments_lexer": "ipython3",
   "version": "3.10.7"
  }
 },
 "nbformat": 4,
 "nbformat_minor": 5
}
