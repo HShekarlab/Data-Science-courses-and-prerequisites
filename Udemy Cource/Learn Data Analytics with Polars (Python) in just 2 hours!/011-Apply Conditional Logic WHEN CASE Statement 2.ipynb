{
 "cells": [
  {
   "cell_type": "code",
   "execution_count": 1,
   "id": "d6181aaa-9f4b-4d44-a751-dd953d786049",
   "metadata": {},
   "outputs": [],
   "source": [
    "import polars as pl"
   ]
  },
  {
   "cell_type": "code",
   "execution_count": 2,
   "id": "2f3e485b-8ebf-442b-aace-cf49102b7fd9",
   "metadata": {},
   "outputs": [],
   "source": [
    "df = pl.read_csv(\"weather.csv\", has_header= True)"
   ]
  },
  {
   "cell_type": "code",
   "execution_count": 3,
   "id": "228ed8bb-9355-4294-bfca-3369257b82b2",
   "metadata": {},
   "outputs": [
    {
     "data": {
      "text/html": [
       "<div><style>\n",
       ".dataframe > thead > tr,\n",
       ".dataframe > tbody > tr {\n",
       "  text-align: right;\n",
       "  white-space: pre-wrap;\n",
       "}\n",
       "</style>\n",
       "<small>shape: (5, 2)</small><table border=\"1\" class=\"dataframe\"><thead><tr><th>Station.State</th><th>Is_It_Alaska</th></tr><tr><td>str</td><td>bool</td></tr></thead><tbody><tr><td>&quot;Alabama&quot;</td><td>false</td></tr><tr><td>&quot;Alabama&quot;</td><td>false</td></tr><tr><td>&quot;Alabama&quot;</td><td>false</td></tr><tr><td>&quot;Alabama&quot;</td><td>false</td></tr><tr><td>&quot;Alaska&quot;</td><td>true</td></tr></tbody></table></div>"
      ],
      "text/plain": [
       "shape: (5, 2)\n",
       "┌───────────────┬──────────────┐\n",
       "│ Station.State ┆ Is_It_Alaska │\n",
       "│ ---           ┆ ---          │\n",
       "│ str           ┆ bool         │\n",
       "╞═══════════════╪══════════════╡\n",
       "│ Alabama       ┆ false        │\n",
       "│ Alabama       ┆ false        │\n",
       "│ Alabama       ┆ false        │\n",
       "│ Alabama       ┆ false        │\n",
       "│ Alaska        ┆ true         │\n",
       "└───────────────┴──────────────┘"
      ]
     },
     "execution_count": 3,
     "metadata": {},
     "output_type": "execute_result"
    }
   ],
   "source": [
    "df.select(\n",
    "          pl.col(\"Station.State\"),\n",
    "          pl.when(pl.col(\"Station.State\") == \"Alaska\")\n",
    "            .then(pl.lit(True))\n",
    "            .otherwise(pl.lit(False))\n",
    "          .alias(\"Is_It_Alaska\")\n",
    ").head(5)"
   ]
  },
  {
   "cell_type": "code",
   "execution_count": 4,
   "id": "2624b721-47af-498c-ac1f-dedfb60538c6",
   "metadata": {},
   "outputs": [
    {
     "data": {
      "text/html": [
       "<div><style>\n",
       ".dataframe > thead > tr,\n",
       ".dataframe > tbody > tr {\n",
       "  text-align: right;\n",
       "  white-space: pre-wrap;\n",
       "}\n",
       "</style>\n",
       "<small>shape: (5, 2)</small><table border=\"1\" class=\"dataframe\"><thead><tr><th>Station.State</th><th>Is_It_Countries</th></tr><tr><td>str</td><td>bool</td></tr></thead><tbody><tr><td>&quot;Alabama&quot;</td><td>false</td></tr><tr><td>&quot;Alabama&quot;</td><td>false</td></tr><tr><td>&quot;Alabama&quot;</td><td>false</td></tr><tr><td>&quot;Alabama&quot;</td><td>false</td></tr><tr><td>&quot;Alaska&quot;</td><td>true</td></tr></tbody></table></div>"
      ],
      "text/plain": [
       "shape: (5, 2)\n",
       "┌───────────────┬─────────────────┐\n",
       "│ Station.State ┆ Is_It_Countries │\n",
       "│ ---           ┆ ---             │\n",
       "│ str           ┆ bool            │\n",
       "╞═══════════════╪═════════════════╡\n",
       "│ Alabama       ┆ false           │\n",
       "│ Alabama       ┆ false           │\n",
       "│ Alabama       ┆ false           │\n",
       "│ Alabama       ┆ false           │\n",
       "│ Alaska        ┆ true            │\n",
       "└───────────────┴─────────────────┘"
      ]
     },
     "execution_count": 4,
     "metadata": {},
     "output_type": "execute_result"
    }
   ],
   "source": [
    "countries = [\"Alaska\", \"Wyoming\"]\n",
    "\n",
    "df.select(\n",
    "          pl.col(\"Station.State\"),\n",
    "          pl.when(pl.col(\"Station.State\").is_in(countries))\n",
    "            .then(pl.lit(True))\n",
    "            .otherwise(pl.lit(False))\n",
    "          .alias(\"Is_It_Countries\")\n",
    ").head(5)"
   ]
  }
 ],
 "metadata": {
  "kernelspec": {
   "display_name": "Python 3 (ipykernel)",
   "language": "python",
   "name": "python3"
  },
  "language_info": {
   "codemirror_mode": {
    "name": "ipython",
    "version": 3
   },
   "file_extension": ".py",
   "mimetype": "text/x-python",
   "name": "python",
   "nbconvert_exporter": "python",
   "pygments_lexer": "ipython3",
   "version": "3.12.1"
  }
 },
 "nbformat": 4,
 "nbformat_minor": 5
}
