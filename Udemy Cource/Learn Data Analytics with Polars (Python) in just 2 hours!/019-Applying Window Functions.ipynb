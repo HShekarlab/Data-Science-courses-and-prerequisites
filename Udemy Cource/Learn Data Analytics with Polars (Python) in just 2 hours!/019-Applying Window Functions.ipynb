{
 "cells": [
  {
   "cell_type": "code",
   "execution_count": 1,
   "id": "d6b206ec-8f69-4d97-9741-776d0783660e",
   "metadata": {},
   "outputs": [],
   "source": [
    "import polars as pl"
   ]
  },
  {
   "cell_type": "code",
   "execution_count": 2,
   "id": "9ad892f1-7fad-429f-a4fd-1e6d1ae802f1",
   "metadata": {},
   "outputs": [],
   "source": [
    "df = pl.read_csv(\"weather.csv\", has_header= True)"
   ]
  },
  {
   "cell_type": "code",
   "execution_count": 3,
   "id": "c9602b6e-370a-40b0-bb02-3f6d71125c9c",
   "metadata": {},
   "outputs": [
    {
     "data": {
      "text/html": [
       "<div><style>\n",
       ".dataframe > thead > tr,\n",
       ".dataframe > tbody > tr {\n",
       "  text-align: right;\n",
       "  white-space: pre-wrap;\n",
       "}\n",
       "</style>\n",
       "<small>shape: (7, 3)</small><table border=\"1\" class=\"dataframe\"><thead><tr><th>Station.State</th><th>Station.Location</th><th>Data.Temperature.Avg Temp</th></tr><tr><td>str</td><td>str</td><td>i64</td></tr></thead><tbody><tr><td>&quot;Alabama&quot;</td><td>&quot;Birmingham, AL…</td><td>14104</td></tr><tr><td>&quot;Alabama&quot;</td><td>&quot;Huntsville, AL…</td><td>14104</td></tr><tr><td>&quot;Alabama&quot;</td><td>&quot;Mobile, AL&quot;</td><td>14104</td></tr><tr><td>&quot;Alabama&quot;</td><td>&quot;Montgomery, AL…</td><td>14104</td></tr><tr><td>&quot;Alaska&quot;</td><td>&quot;Anchorage, AK&quot;</td><td>70750</td></tr><tr><td>&quot;Alaska&quot;</td><td>&quot;Annette, AK&quot;</td><td>70750</td></tr><tr><td>&quot;Alaska&quot;</td><td>&quot;Bethel, AK&quot;</td><td>70750</td></tr></tbody></table></div>"
      ],
      "text/plain": [
       "shape: (7, 3)\n",
       "┌───────────────┬──────────────────┬───────────────────────────┐\n",
       "│ Station.State ┆ Station.Location ┆ Data.Temperature.Avg Temp │\n",
       "│ ---           ┆ ---              ┆ ---                       │\n",
       "│ str           ┆ str              ┆ i64                       │\n",
       "╞═══════════════╪══════════════════╪═══════════════════════════╡\n",
       "│ Alabama       ┆ Birmingham, AL   ┆ 14104                     │\n",
       "│ Alabama       ┆ Huntsville, AL   ┆ 14104                     │\n",
       "│ Alabama       ┆ Mobile, AL       ┆ 14104                     │\n",
       "│ Alabama       ┆ Montgomery, AL   ┆ 14104                     │\n",
       "│ Alaska        ┆ Anchorage, AK    ┆ 70750                     │\n",
       "│ Alaska        ┆ Annette, AK      ┆ 70750                     │\n",
       "│ Alaska        ┆ Bethel, AK       ┆ 70750                     │\n",
       "└───────────────┴──────────────────┴───────────────────────────┘"
      ]
     },
     "execution_count": 3,
     "metadata": {},
     "output_type": "execute_result"
    }
   ],
   "source": [
    "df.select(\n",
    "          pl.col(\"Station.State\"),\n",
    "          pl.col(\"Station.Location\"),\n",
    "          pl.col(\"Data.Temperature.Avg Temp\").sum().over(\"Station.State\")          \n",
    ").head(7)"
   ]
  },
  {
   "cell_type": "code",
   "execution_count": 4,
   "id": "9f05182d-b685-4e1b-9bff-22b5110b9397",
   "metadata": {},
   "outputs": [
    {
     "data": {
      "text/html": [
       "<div><style>\n",
       ".dataframe > thead > tr,\n",
       ".dataframe > tbody > tr {\n",
       "  text-align: right;\n",
       "  white-space: pre-wrap;\n",
       "}\n",
       "</style>\n",
       "<small>shape: (7, 4)</small><table border=\"1\" class=\"dataframe\"><thead><tr><th>Station.State</th><th>Station.Location</th><th>Data.Temperature.Avg Temp</th><th>window_temp_avg</th></tr><tr><td>str</td><td>str</td><td>i64</td><td>i64</td></tr></thead><tbody><tr><td>&quot;Alabama&quot;</td><td>&quot;Birmingham, AL…</td><td>39</td><td>14104</td></tr><tr><td>&quot;Alabama&quot;</td><td>&quot;Huntsville, AL…</td><td>39</td><td>14104</td></tr><tr><td>&quot;Alabama&quot;</td><td>&quot;Mobile, AL&quot;</td><td>46</td><td>14104</td></tr><tr><td>&quot;Alabama&quot;</td><td>&quot;Montgomery, AL…</td><td>45</td><td>14104</td></tr><tr><td>&quot;Alaska&quot;</td><td>&quot;Anchorage, AK&quot;</td><td>34</td><td>70750</td></tr><tr><td>&quot;Alaska&quot;</td><td>&quot;Annette, AK&quot;</td><td>38</td><td>70750</td></tr><tr><td>&quot;Alaska&quot;</td><td>&quot;Bethel, AK&quot;</td><td>30</td><td>70750</td></tr></tbody></table></div>"
      ],
      "text/plain": [
       "shape: (7, 4)\n",
       "┌───────────────┬──────────────────┬───────────────────────────┬─────────────────┐\n",
       "│ Station.State ┆ Station.Location ┆ Data.Temperature.Avg Temp ┆ window_temp_avg │\n",
       "│ ---           ┆ ---              ┆ ---                       ┆ ---             │\n",
       "│ str           ┆ str              ┆ i64                       ┆ i64             │\n",
       "╞═══════════════╪══════════════════╪═══════════════════════════╪═════════════════╡\n",
       "│ Alabama       ┆ Birmingham, AL   ┆ 39                        ┆ 14104           │\n",
       "│ Alabama       ┆ Huntsville, AL   ┆ 39                        ┆ 14104           │\n",
       "│ Alabama       ┆ Mobile, AL       ┆ 46                        ┆ 14104           │\n",
       "│ Alabama       ┆ Montgomery, AL   ┆ 45                        ┆ 14104           │\n",
       "│ Alaska        ┆ Anchorage, AK    ┆ 34                        ┆ 70750           │\n",
       "│ Alaska        ┆ Annette, AK      ┆ 38                        ┆ 70750           │\n",
       "│ Alaska        ┆ Bethel, AK       ┆ 30                        ┆ 70750           │\n",
       "└───────────────┴──────────────────┴───────────────────────────┴─────────────────┘"
      ]
     },
     "execution_count": 4,
     "metadata": {},
     "output_type": "execute_result"
    }
   ],
   "source": [
    "df.select(\n",
    "          pl.col(\"Station.State\"),\n",
    "          pl.col(\"Station.Location\"),\n",
    "          pl.col(\"Data.Temperature.Avg Temp\"),\n",
    "          pl.col(\"Data.Temperature.Avg Temp\").sum().over(\"Station.State\").alias(\"window_temp_avg\")        \n",
    ").head(7)"
   ]
  },
  {
   "cell_type": "code",
   "execution_count": 5,
   "id": "b14a6167-4e7e-4cd6-9000-00d1684cb071",
   "metadata": {},
   "outputs": [
    {
     "data": {
      "text/html": [
       "<div><style>\n",
       ".dataframe > thead > tr,\n",
       ".dataframe > tbody > tr {\n",
       "  text-align: right;\n",
       "  white-space: pre-wrap;\n",
       "}\n",
       "</style>\n",
       "<small>shape: (7, 4)</small><table border=\"1\" class=\"dataframe\"><thead><tr><th>Station.State</th><th>Station.Location</th><th>Data.Temperature.Avg Temp</th><th>window_temp_avg</th></tr><tr><td>str</td><td>str</td><td>i64</td><td>i64</td></tr></thead><tbody><tr><td>&quot;Alabama&quot;</td><td>&quot;Birmingham, AL…</td><td>39</td><td>86</td></tr><tr><td>&quot;Alabama&quot;</td><td>&quot;Huntsville, AL…</td><td>39</td><td>86</td></tr><tr><td>&quot;Alabama&quot;</td><td>&quot;Mobile, AL&quot;</td><td>46</td><td>86</td></tr><tr><td>&quot;Alabama&quot;</td><td>&quot;Montgomery, AL…</td><td>45</td><td>86</td></tr><tr><td>&quot;Alaska&quot;</td><td>&quot;Anchorage, AK&quot;</td><td>34</td><td>69</td></tr><tr><td>&quot;Alaska&quot;</td><td>&quot;Annette, AK&quot;</td><td>38</td><td>69</td></tr><tr><td>&quot;Alaska&quot;</td><td>&quot;Bethel, AK&quot;</td><td>30</td><td>69</td></tr></tbody></table></div>"
      ],
      "text/plain": [
       "shape: (7, 4)\n",
       "┌───────────────┬──────────────────┬───────────────────────────┬─────────────────┐\n",
       "│ Station.State ┆ Station.Location ┆ Data.Temperature.Avg Temp ┆ window_temp_avg │\n",
       "│ ---           ┆ ---              ┆ ---                       ┆ ---             │\n",
       "│ str           ┆ str              ┆ i64                       ┆ i64             │\n",
       "╞═══════════════╪══════════════════╪═══════════════════════════╪═════════════════╡\n",
       "│ Alabama       ┆ Birmingham, AL   ┆ 39                        ┆ 86              │\n",
       "│ Alabama       ┆ Huntsville, AL   ┆ 39                        ┆ 86              │\n",
       "│ Alabama       ┆ Mobile, AL       ┆ 46                        ┆ 86              │\n",
       "│ Alabama       ┆ Montgomery, AL   ┆ 45                        ┆ 86              │\n",
       "│ Alaska        ┆ Anchorage, AK    ┆ 34                        ┆ 69              │\n",
       "│ Alaska        ┆ Annette, AK      ┆ 38                        ┆ 69              │\n",
       "│ Alaska        ┆ Bethel, AK       ┆ 30                        ┆ 69              │\n",
       "└───────────────┴──────────────────┴───────────────────────────┴─────────────────┘"
      ]
     },
     "execution_count": 5,
     "metadata": {},
     "output_type": "execute_result"
    }
   ],
   "source": [
    "df.select(\n",
    "          pl.col(\"Station.State\"),\n",
    "          pl.col(\"Station.Location\"),\n",
    "          pl.col(\"Data.Temperature.Avg Temp\"),\n",
    "          pl.col(\"Data.Temperature.Avg Temp\").max().over(\"Station.State\").alias(\"window_temp_avg\")        \n",
    ").head(7)"
   ]
  },
  {
   "cell_type": "code",
   "execution_count": 6,
   "id": "14155f20-a7c3-4a51-aecb-6f3e98c20fcb",
   "metadata": {},
   "outputs": [
    {
     "data": {
      "text/html": [
       "<div><style>\n",
       ".dataframe > thead > tr,\n",
       ".dataframe > tbody > tr {\n",
       "  text-align: right;\n",
       "  white-space: pre-wrap;\n",
       "}\n",
       "</style>\n",
       "<small>shape: (7, 4)</small><table border=\"1\" class=\"dataframe\"><thead><tr><th>Station.State</th><th>Station.Location</th><th>Data.Temperature.Avg Temp</th><th>window_temp_avg</th></tr><tr><td>str</td><td>str</td><td>i64</td><td>i64</td></tr></thead><tbody><tr><td>&quot;Alabama&quot;</td><td>&quot;Birmingham, AL…</td><td>39</td><td>33</td></tr><tr><td>&quot;Alabama&quot;</td><td>&quot;Huntsville, AL…</td><td>39</td><td>33</td></tr><tr><td>&quot;Alabama&quot;</td><td>&quot;Mobile, AL&quot;</td><td>46</td><td>33</td></tr><tr><td>&quot;Alabama&quot;</td><td>&quot;Montgomery, AL…</td><td>45</td><td>33</td></tr><tr><td>&quot;Alaska&quot;</td><td>&quot;Anchorage, AK&quot;</td><td>34</td><td>-27</td></tr><tr><td>&quot;Alaska&quot;</td><td>&quot;Annette, AK&quot;</td><td>38</td><td>-27</td></tr><tr><td>&quot;Alaska&quot;</td><td>&quot;Bethel, AK&quot;</td><td>30</td><td>-27</td></tr></tbody></table></div>"
      ],
      "text/plain": [
       "shape: (7, 4)\n",
       "┌───────────────┬──────────────────┬───────────────────────────┬─────────────────┐\n",
       "│ Station.State ┆ Station.Location ┆ Data.Temperature.Avg Temp ┆ window_temp_avg │\n",
       "│ ---           ┆ ---              ┆ ---                       ┆ ---             │\n",
       "│ str           ┆ str              ┆ i64                       ┆ i64             │\n",
       "╞═══════════════╪══════════════════╪═══════════════════════════╪═════════════════╡\n",
       "│ Alabama       ┆ Birmingham, AL   ┆ 39                        ┆ 33              │\n",
       "│ Alabama       ┆ Huntsville, AL   ┆ 39                        ┆ 33              │\n",
       "│ Alabama       ┆ Mobile, AL       ┆ 46                        ┆ 33              │\n",
       "│ Alabama       ┆ Montgomery, AL   ┆ 45                        ┆ 33              │\n",
       "│ Alaska        ┆ Anchorage, AK    ┆ 34                        ┆ -27             │\n",
       "│ Alaska        ┆ Annette, AK      ┆ 38                        ┆ -27             │\n",
       "│ Alaska        ┆ Bethel, AK       ┆ 30                        ┆ -27             │\n",
       "└───────────────┴──────────────────┴───────────────────────────┴─────────────────┘"
      ]
     },
     "execution_count": 6,
     "metadata": {},
     "output_type": "execute_result"
    }
   ],
   "source": [
    "df.select(\n",
    "          pl.col(\"Station.State\"),\n",
    "          pl.col(\"Station.Location\"),\n",
    "          pl.col(\"Data.Temperature.Avg Temp\"),\n",
    "          pl.col(\"Data.Temperature.Avg Temp\").min().over(\"Station.State\").alias(\"window_temp_avg\")        \n",
    ").head(7)"
   ]
  },
  {
   "cell_type": "code",
   "execution_count": 7,
   "id": "a2e9907c-e775-4367-ac1d-0c2181dc41f8",
   "metadata": {},
   "outputs": [
    {
     "data": {
      "text/html": [
       "<div><style>\n",
       ".dataframe > thead > tr,\n",
       ".dataframe > tbody > tr {\n",
       "  text-align: right;\n",
       "  white-space: pre-wrap;\n",
       "}\n",
       "</style>\n",
       "<small>shape: (7, 4)</small><table border=\"1\" class=\"dataframe\"><thead><tr><th>Station.State</th><th>Station.Location</th><th>Data.Temperature.Avg Temp</th><th>window_temp_avg</th></tr><tr><td>str</td><td>str</td><td>i64</td><td>f64</td></tr></thead><tbody><tr><td>&quot;Alabama&quot;</td><td>&quot;Birmingham, AL…</td><td>39</td><td>66.528302</td></tr><tr><td>&quot;Alabama&quot;</td><td>&quot;Huntsville, AL…</td><td>39</td><td>66.528302</td></tr><tr><td>&quot;Alabama&quot;</td><td>&quot;Mobile, AL&quot;</td><td>46</td><td>66.528302</td></tr><tr><td>&quot;Alabama&quot;</td><td>&quot;Montgomery, AL…</td><td>45</td><td>66.528302</td></tr><tr><td>&quot;Alaska&quot;</td><td>&quot;Anchorage, AK&quot;</td><td>34</td><td>41.15765</td></tr><tr><td>&quot;Alaska&quot;</td><td>&quot;Annette, AK&quot;</td><td>38</td><td>41.15765</td></tr><tr><td>&quot;Alaska&quot;</td><td>&quot;Bethel, AK&quot;</td><td>30</td><td>41.15765</td></tr></tbody></table></div>"
      ],
      "text/plain": [
       "shape: (7, 4)\n",
       "┌───────────────┬──────────────────┬───────────────────────────┬─────────────────┐\n",
       "│ Station.State ┆ Station.Location ┆ Data.Temperature.Avg Temp ┆ window_temp_avg │\n",
       "│ ---           ┆ ---              ┆ ---                       ┆ ---             │\n",
       "│ str           ┆ str              ┆ i64                       ┆ f64             │\n",
       "╞═══════════════╪══════════════════╪═══════════════════════════╪═════════════════╡\n",
       "│ Alabama       ┆ Birmingham, AL   ┆ 39                        ┆ 66.528302       │\n",
       "│ Alabama       ┆ Huntsville, AL   ┆ 39                        ┆ 66.528302       │\n",
       "│ Alabama       ┆ Mobile, AL       ┆ 46                        ┆ 66.528302       │\n",
       "│ Alabama       ┆ Montgomery, AL   ┆ 45                        ┆ 66.528302       │\n",
       "│ Alaska        ┆ Anchorage, AK    ┆ 34                        ┆ 41.15765        │\n",
       "│ Alaska        ┆ Annette, AK      ┆ 38                        ┆ 41.15765        │\n",
       "│ Alaska        ┆ Bethel, AK       ┆ 30                        ┆ 41.15765        │\n",
       "└───────────────┴──────────────────┴───────────────────────────┴─────────────────┘"
      ]
     },
     "execution_count": 7,
     "metadata": {},
     "output_type": "execute_result"
    }
   ],
   "source": [
    "df.select(\n",
    "          pl.col(\"Station.State\"),\n",
    "          pl.col(\"Station.Location\"),\n",
    "          pl.col(\"Data.Temperature.Avg Temp\"),\n",
    "          pl.col(\"Data.Temperature.Avg Temp\").mean().over(\"Station.State\").alias(\"window_temp_avg\")        \n",
    ").head(7)"
   ]
  }
 ],
 "metadata": {
  "kernelspec": {
   "display_name": "Python 3 (ipykernel)",
   "language": "python",
   "name": "python3"
  },
  "language_info": {
   "codemirror_mode": {
    "name": "ipython",
    "version": 3
   },
   "file_extension": ".py",
   "mimetype": "text/x-python",
   "name": "python",
   "nbconvert_exporter": "python",
   "pygments_lexer": "ipython3",
   "version": "3.12.1"
  }
 },
 "nbformat": 4,
 "nbformat_minor": 5
}
