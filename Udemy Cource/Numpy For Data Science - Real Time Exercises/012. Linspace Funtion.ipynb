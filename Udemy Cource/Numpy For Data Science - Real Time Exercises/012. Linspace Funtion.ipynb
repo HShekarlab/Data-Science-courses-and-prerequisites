{
 "cells": [
  {
   "cell_type": "code",
   "execution_count": 1,
   "id": "07fff81d-d946-43db-b6de-1d8d92f62912",
   "metadata": {},
   "outputs": [],
   "source": [
    "import numpy as np"
   ]
  },
  {
   "cell_type": "code",
   "execution_count": 2,
   "id": "bc58ba75-3c8f-46b2-be84-3219a226e9d8",
   "metadata": {},
   "outputs": [
    {
     "data": {
      "text/plain": [
       "array([ 5. , 12.5, 20. , 27.5, 35. , 42.5, 50. ])"
      ]
     },
     "execution_count": 2,
     "metadata": {},
     "output_type": "execute_result"
    }
   ],
   "source": [
    "np.linspace(5, 50, num= 7)"
   ]
  },
  {
   "cell_type": "code",
   "execution_count": 3,
   "id": "4b6ad346-a281-4aee-a074-cb6621965df1",
   "metadata": {},
   "outputs": [
    {
     "data": {
      "text/plain": [
       "array([ 5. , 12.5, 20. , 27.5, 35. , 42.5, 50. ])"
      ]
     },
     "execution_count": 3,
     "metadata": {},
     "output_type": "execute_result"
    }
   ],
   "source": [
    "np.linspace(5, 50, num= 7, endpoint= True)"
   ]
  },
  {
   "cell_type": "code",
   "execution_count": 4,
   "id": "ea550a1c-64ae-47f1-b1f3-3da34634fe3a",
   "metadata": {},
   "outputs": [
    {
     "data": {
      "text/plain": [
       "array([ 5.        , 11.42857143, 17.85714286, 24.28571429, 30.71428571,\n",
       "       37.14285714, 43.57142857])"
      ]
     },
     "execution_count": 4,
     "metadata": {},
     "output_type": "execute_result"
    }
   ],
   "source": [
    "np.linspace(5, 50, num= 7, endpoint= False)"
   ]
  },
  {
   "cell_type": "code",
   "execution_count": 5,
   "id": "23e881c4-2101-43ea-a054-161d0da87acf",
   "metadata": {},
   "outputs": [
    {
     "data": {
      "text/plain": [
       "(array([ 5. , 12.5, 20. , 27.5, 35. , 42.5, 50. ]), 7.5)"
      ]
     },
     "execution_count": 5,
     "metadata": {},
     "output_type": "execute_result"
    }
   ],
   "source": [
    "np.linspace(5, 50, num= 7, endpoint= True, retstep= True)"
   ]
  },
  {
   "cell_type": "code",
   "execution_count": 6,
   "id": "5c2c637a-6632-4c4c-9c32-5ea548089ad0",
   "metadata": {},
   "outputs": [
    {
     "data": {
      "text/plain": [
       "(array([ 5.        , 11.42857143, 17.85714286, 24.28571429, 30.71428571,\n",
       "        37.14285714, 43.57142857]),\n",
       " 6.428571428571429)"
      ]
     },
     "execution_count": 6,
     "metadata": {},
     "output_type": "execute_result"
    }
   ],
   "source": [
    "np.linspace(5, 50, num= 7, endpoint= False, retstep= True)"
   ]
  },
  {
   "cell_type": "code",
   "execution_count": 7,
   "id": "c6710c70-eef3-4221-bea8-eddd502daca2",
   "metadata": {},
   "outputs": [
    {
     "data": {
      "text/plain": [
       "array([ 5, 11, 17, 24, 30, 37, 43])"
      ]
     },
     "execution_count": 7,
     "metadata": {},
     "output_type": "execute_result"
    }
   ],
   "source": [
    "np.linspace(5, 50, num= 7, endpoint= False, dtype= int)"
   ]
  },
  {
   "cell_type": "code",
   "execution_count": 8,
   "id": "21125b65-5600-4b73-9b42-61edabb953a3",
   "metadata": {},
   "outputs": [
    {
     "data": {
      "text/plain": [
       "array([ 5, 12, 20, 27, 35, 42, 50])"
      ]
     },
     "execution_count": 8,
     "metadata": {},
     "output_type": "execute_result"
    }
   ],
   "source": [
    "np.linspace(5, 50, num= 7, endpoint= True, dtype= int)"
   ]
  }
 ],
 "metadata": {
  "kernelspec": {
   "display_name": "Python 3 (ipykernel)",
   "language": "python",
   "name": "python3"
  },
  "language_info": {
   "codemirror_mode": {
    "name": "ipython",
    "version": 3
   },
   "file_extension": ".py",
   "mimetype": "text/x-python",
   "name": "python",
   "nbconvert_exporter": "python",
   "pygments_lexer": "ipython3",
   "version": "3.10.7"
  }
 },
 "nbformat": 4,
 "nbformat_minor": 5
}
