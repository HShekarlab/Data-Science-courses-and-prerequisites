{
 "cells": [
  {
   "cell_type": "code",
   "execution_count": 1,
   "id": "354eb765-f397-46d6-924a-548383a0bed3",
   "metadata": {},
   "outputs": [],
   "source": [
    "import polars as pl"
   ]
  },
  {
   "cell_type": "code",
   "execution_count": 2,
   "id": "6001fc83-5f4b-46c3-b241-a3d35c3220fe",
   "metadata": {},
   "outputs": [],
   "source": [
    "df = pl.read_csv(\"weather.csv\", has_header= True)"
   ]
  },
  {
   "cell_type": "code",
   "execution_count": 3,
   "id": "7289e05f-d165-4c60-94d7-012ad7c734d9",
   "metadata": {},
   "outputs": [
    {
     "data": {
      "text/html": [
       "<div><style>\n",
       ".dataframe > thead > tr,\n",
       ".dataframe > tbody > tr {\n",
       "  text-align: right;\n",
       "  white-space: pre-wrap;\n",
       "}\n",
       "</style>\n",
       "<small>shape: (7, 3)</small><table border=\"1\" class=\"dataframe\"><thead><tr><th>Date.Full</th><th>Data.Temperature.Avg Temp</th><th>max</th></tr><tr><td>str</td><td>i64</td><td>i64</td></tr></thead><tbody><tr><td>&quot;2016-01-03&quot;</td><td>39</td><td>null</td></tr><tr><td>&quot;2016-01-03&quot;</td><td>39</td><td>39</td></tr><tr><td>&quot;2016-01-03&quot;</td><td>46</td><td>46</td></tr><tr><td>&quot;2016-01-03&quot;</td><td>45</td><td>46</td></tr><tr><td>&quot;2016-01-03&quot;</td><td>34</td><td>45</td></tr><tr><td>&quot;2016-01-03&quot;</td><td>38</td><td>38</td></tr><tr><td>&quot;2016-01-03&quot;</td><td>30</td><td>38</td></tr></tbody></table></div>"
      ],
      "text/plain": [
       "shape: (7, 3)\n",
       "┌────────────┬───────────────────────────┬──────┐\n",
       "│ Date.Full  ┆ Data.Temperature.Avg Temp ┆ max  │\n",
       "│ ---        ┆ ---                       ┆ ---  │\n",
       "│ str        ┆ i64                       ┆ i64  │\n",
       "╞════════════╪═══════════════════════════╪══════╡\n",
       "│ 2016-01-03 ┆ 39                        ┆ null │\n",
       "│ 2016-01-03 ┆ 39                        ┆ 39   │\n",
       "│ 2016-01-03 ┆ 46                        ┆ 46   │\n",
       "│ 2016-01-03 ┆ 45                        ┆ 46   │\n",
       "│ 2016-01-03 ┆ 34                        ┆ 45   │\n",
       "│ 2016-01-03 ┆ 38                        ┆ 38   │\n",
       "│ 2016-01-03 ┆ 30                        ┆ 38   │\n",
       "└────────────┴───────────────────────────┴──────┘"
      ]
     },
     "execution_count": 3,
     "metadata": {},
     "output_type": "execute_result"
    }
   ],
   "source": [
    "df.sort(\"Date.Full\", descending= False).select(\n",
    "                                               pl.col(\"Date.Full\"),\n",
    "                                               pl.col(\"Data.Temperature.Avg Temp\"),\n",
    "                                               pl.col(\"Data.Temperature.Avg Temp\").rolling_max(window_size= 2).alias(\"max\")).head(7)"
   ]
  },
  {
   "cell_type": "code",
   "execution_count": 4,
   "id": "a6587d42-52ce-426c-81c8-4345a0f1790a",
   "metadata": {},
   "outputs": [
    {
     "data": {
      "text/html": [
       "<div><style>\n",
       ".dataframe > thead > tr,\n",
       ".dataframe > tbody > tr {\n",
       "  text-align: right;\n",
       "  white-space: pre-wrap;\n",
       "}\n",
       "</style>\n",
       "<small>shape: (7, 3)</small><table border=\"1\" class=\"dataframe\"><thead><tr><th>Date.Full</th><th>Data.Temperature.Avg Temp</th><th>max</th></tr><tr><td>str</td><td>i64</td><td>i64</td></tr></thead><tbody><tr><td>&quot;2016-01-03&quot;</td><td>39</td><td>null</td></tr><tr><td>&quot;2016-01-03&quot;</td><td>39</td><td>null</td></tr><tr><td>&quot;2016-01-03&quot;</td><td>46</td><td>null</td></tr><tr><td>&quot;2016-01-03&quot;</td><td>45</td><td>null</td></tr><tr><td>&quot;2016-01-03&quot;</td><td>34</td><td>46</td></tr><tr><td>&quot;2016-01-03&quot;</td><td>38</td><td>46</td></tr><tr><td>&quot;2016-01-03&quot;</td><td>30</td><td>46</td></tr></tbody></table></div>"
      ],
      "text/plain": [
       "shape: (7, 3)\n",
       "┌────────────┬───────────────────────────┬──────┐\n",
       "│ Date.Full  ┆ Data.Temperature.Avg Temp ┆ max  │\n",
       "│ ---        ┆ ---                       ┆ ---  │\n",
       "│ str        ┆ i64                       ┆ i64  │\n",
       "╞════════════╪═══════════════════════════╪══════╡\n",
       "│ 2016-01-03 ┆ 39                        ┆ null │\n",
       "│ 2016-01-03 ┆ 39                        ┆ null │\n",
       "│ 2016-01-03 ┆ 46                        ┆ null │\n",
       "│ 2016-01-03 ┆ 45                        ┆ null │\n",
       "│ 2016-01-03 ┆ 34                        ┆ 46   │\n",
       "│ 2016-01-03 ┆ 38                        ┆ 46   │\n",
       "│ 2016-01-03 ┆ 30                        ┆ 46   │\n",
       "└────────────┴───────────────────────────┴──────┘"
      ]
     },
     "execution_count": 4,
     "metadata": {},
     "output_type": "execute_result"
    }
   ],
   "source": [
    "df.sort(\"Date.Full\", descending= False).select(\n",
    "                                               pl.col(\"Date.Full\"),\n",
    "                                               pl.col(\"Data.Temperature.Avg Temp\"),\n",
    "                                               pl.col(\"Data.Temperature.Avg Temp\").rolling_max(window_size= 5).alias(\"max\")).head(7)"
   ]
  },
  {
   "cell_type": "code",
   "execution_count": 5,
   "id": "b58ad94b-16a5-4c2f-aca7-6eefff73ca21",
   "metadata": {},
   "outputs": [
    {
     "data": {
      "text/html": [
       "<div><style>\n",
       ".dataframe > thead > tr,\n",
       ".dataframe > tbody > tr {\n",
       "  text-align: right;\n",
       "  white-space: pre-wrap;\n",
       "}\n",
       "</style>\n",
       "<small>shape: (7, 9)</small><table border=\"1\" class=\"dataframe\"><thead><tr><th>Date.Full</th><th>Data.Temperature.Avg Temp</th><th>max</th><th>min</th><th>mean</th><th>median</th><th>std</th><th>sum</th><th>var</th></tr><tr><td>str</td><td>i64</td><td>i64</td><td>i64</td><td>f64</td><td>f64</td><td>f64</td><td>i64</td><td>f64</td></tr></thead><tbody><tr><td>&quot;2016-01-03&quot;</td><td>39</td><td>null</td><td>null</td><td>null</td><td>null</td><td>null</td><td>null</td><td>null</td></tr><tr><td>&quot;2016-01-03&quot;</td><td>39</td><td>39</td><td>39</td><td>39.0</td><td>39.0</td><td>0.0</td><td>78</td><td>0.0</td></tr><tr><td>&quot;2016-01-03&quot;</td><td>46</td><td>46</td><td>39</td><td>42.5</td><td>42.5</td><td>4.949747</td><td>85</td><td>24.5</td></tr><tr><td>&quot;2016-01-03&quot;</td><td>45</td><td>46</td><td>45</td><td>45.5</td><td>45.5</td><td>0.707107</td><td>91</td><td>0.5</td></tr><tr><td>&quot;2016-01-03&quot;</td><td>34</td><td>45</td><td>34</td><td>39.5</td><td>39.5</td><td>7.778175</td><td>79</td><td>60.5</td></tr><tr><td>&quot;2016-01-03&quot;</td><td>38</td><td>38</td><td>34</td><td>36.0</td><td>36.0</td><td>2.828427</td><td>72</td><td>8.0</td></tr><tr><td>&quot;2016-01-03&quot;</td><td>30</td><td>38</td><td>30</td><td>34.0</td><td>34.0</td><td>5.656854</td><td>68</td><td>32.0</td></tr></tbody></table></div>"
      ],
      "text/plain": [
       "shape: (7, 9)\n",
       "┌────────────┬───────────────────────────┬──────┬──────┬───┬────────┬──────────┬──────┬──────┐\n",
       "│ Date.Full  ┆ Data.Temperature.Avg Temp ┆ max  ┆ min  ┆ … ┆ median ┆ std      ┆ sum  ┆ var  │\n",
       "│ ---        ┆ ---                       ┆ ---  ┆ ---  ┆   ┆ ---    ┆ ---      ┆ ---  ┆ ---  │\n",
       "│ str        ┆ i64                       ┆ i64  ┆ i64  ┆   ┆ f64    ┆ f64      ┆ i64  ┆ f64  │\n",
       "╞════════════╪═══════════════════════════╪══════╪══════╪═══╪════════╪══════════╪══════╪══════╡\n",
       "│ 2016-01-03 ┆ 39                        ┆ null ┆ null ┆ … ┆ null   ┆ null     ┆ null ┆ null │\n",
       "│ 2016-01-03 ┆ 39                        ┆ 39   ┆ 39   ┆ … ┆ 39.0   ┆ 0.0      ┆ 78   ┆ 0.0  │\n",
       "│ 2016-01-03 ┆ 46                        ┆ 46   ┆ 39   ┆ … ┆ 42.5   ┆ 4.949747 ┆ 85   ┆ 24.5 │\n",
       "│ 2016-01-03 ┆ 45                        ┆ 46   ┆ 45   ┆ … ┆ 45.5   ┆ 0.707107 ┆ 91   ┆ 0.5  │\n",
       "│ 2016-01-03 ┆ 34                        ┆ 45   ┆ 34   ┆ … ┆ 39.5   ┆ 7.778175 ┆ 79   ┆ 60.5 │\n",
       "│ 2016-01-03 ┆ 38                        ┆ 38   ┆ 34   ┆ … ┆ 36.0   ┆ 2.828427 ┆ 72   ┆ 8.0  │\n",
       "│ 2016-01-03 ┆ 30                        ┆ 38   ┆ 30   ┆ … ┆ 34.0   ┆ 5.656854 ┆ 68   ┆ 32.0 │\n",
       "└────────────┴───────────────────────────┴──────┴──────┴───┴────────┴──────────┴──────┴──────┘"
      ]
     },
     "execution_count": 5,
     "metadata": {},
     "output_type": "execute_result"
    }
   ],
   "source": [
    "df.sort(\"Date.Full\", descending= False).select(\n",
    "                                               pl.col(\"Date.Full\"),\n",
    "                                               pl.col(\"Data.Temperature.Avg Temp\"),\n",
    "                                               pl.col(\"Data.Temperature.Avg Temp\").rolling_max(window_size= 2).alias(\"max\"),\n",
    "                                               pl.col(\"Data.Temperature.Avg Temp\").rolling_min(window_size= 2).alias(\"min\"),\n",
    "                                               pl.col(\"Data.Temperature.Avg Temp\").rolling_mean(window_size= 2).alias(\"mean\"),\n",
    "                                               pl.col(\"Data.Temperature.Avg Temp\").rolling_median(window_size= 2).alias(\"median\"),\n",
    "                                               pl.col(\"Data.Temperature.Avg Temp\").rolling_std(window_size= 2).alias(\"std\"),\n",
    "                                               pl.col(\"Data.Temperature.Avg Temp\").rolling_sum(window_size= 2).alias(\"sum\"),\n",
    "                                               pl.col(\"Data.Temperature.Avg Temp\").rolling_var(window_size= 2).alias(\"var\")).head(7)"
   ]
  },
  {
   "cell_type": "code",
   "execution_count": 6,
   "id": "657eaa9c-0dc1-4766-a3ee-358cac07536b",
   "metadata": {},
   "outputs": [
    {
     "data": {
      "text/html": [
       "<div><style>\n",
       ".dataframe > thead > tr,\n",
       ".dataframe > tbody > tr {\n",
       "  text-align: right;\n",
       "  white-space: pre-wrap;\n",
       "}\n",
       "</style>\n",
       "<small>shape: (10, 9)</small><table border=\"1\" class=\"dataframe\"><thead><tr><th>Date.Full</th><th>Data.Temperature.Avg Temp</th><th>max</th><th>min</th><th>mean</th><th>median</th><th>std</th><th>sum</th><th>var</th></tr><tr><td>str</td><td>i64</td><td>i64</td><td>i64</td><td>f64</td><td>f64</td><td>f64</td><td>i64</td><td>f64</td></tr></thead><tbody><tr><td>&quot;2016-01-03&quot;</td><td>39</td><td>null</td><td>null</td><td>null</td><td>null</td><td>null</td><td>null</td><td>null</td></tr><tr><td>&quot;2016-01-03&quot;</td><td>39</td><td>39</td><td>null</td><td>null</td><td>null</td><td>null</td><td>78</td><td>null</td></tr><tr><td>&quot;2016-01-03&quot;</td><td>46</td><td>46</td><td>39</td><td>null</td><td>null</td><td>4.041452</td><td>85</td><td>null</td></tr><tr><td>&quot;2016-01-03&quot;</td><td>45</td><td>46</td><td>39</td><td>42.25</td><td>null</td><td>3.785939</td><td>91</td><td>14.25</td></tr><tr><td>&quot;2016-01-03&quot;</td><td>34</td><td>45</td><td>34</td><td>41.0</td><td>39.0</td><td>6.658328</td><td>79</td><td>31.333333</td></tr><tr><td>&quot;2016-01-03&quot;</td><td>38</td><td>38</td><td>34</td><td>40.75</td><td>39.0</td><td>5.567764</td><td>72</td><td>32.916667</td></tr><tr><td>&quot;2016-01-03&quot;</td><td>30</td><td>38</td><td>30</td><td>36.75</td><td>38.0</td><td>4.0</td><td>68</td><td>40.916667</td></tr><tr><td>&quot;2016-01-03&quot;</td><td>22</td><td>30</td><td>22</td><td>31.0</td><td>34.0</td><td>8.0</td><td>52</td><td>46.666667</td></tr><tr><td>&quot;2016-01-03&quot;</td><td>34</td><td>34</td><td>22</td><td>31.0</td><td>34.0</td><td>6.110101</td><td>56</td><td>46.666667</td></tr><tr><td>&quot;2016-01-03&quot;</td><td>38</td><td>38</td><td>22</td><td>31.0</td><td>34.0</td><td>8.326664</td><td>72</td><td>46.666667</td></tr></tbody></table></div>"
      ],
      "text/plain": [
       "shape: (10, 9)\n",
       "┌────────────┬───────────────────────────┬──────┬──────┬───┬────────┬──────────┬──────┬───────────┐\n",
       "│ Date.Full  ┆ Data.Temperature.Avg Temp ┆ max  ┆ min  ┆ … ┆ median ┆ std      ┆ sum  ┆ var       │\n",
       "│ ---        ┆ ---                       ┆ ---  ┆ ---  ┆   ┆ ---    ┆ ---      ┆ ---  ┆ ---       │\n",
       "│ str        ┆ i64                       ┆ i64  ┆ i64  ┆   ┆ f64    ┆ f64      ┆ i64  ┆ f64       │\n",
       "╞════════════╪═══════════════════════════╪══════╪══════╪═══╪════════╪══════════╪══════╪═══════════╡\n",
       "│ 2016-01-03 ┆ 39                        ┆ null ┆ null ┆ … ┆ null   ┆ null     ┆ null ┆ null      │\n",
       "│ 2016-01-03 ┆ 39                        ┆ 39   ┆ null ┆ … ┆ null   ┆ null     ┆ 78   ┆ null      │\n",
       "│ 2016-01-03 ┆ 46                        ┆ 46   ┆ 39   ┆ … ┆ null   ┆ 4.041452 ┆ 85   ┆ null      │\n",
       "│ 2016-01-03 ┆ 45                        ┆ 46   ┆ 39   ┆ … ┆ null   ┆ 3.785939 ┆ 91   ┆ 14.25     │\n",
       "│ 2016-01-03 ┆ 34                        ┆ 45   ┆ 34   ┆ … ┆ 39.0   ┆ 6.658328 ┆ 79   ┆ 31.333333 │\n",
       "│ 2016-01-03 ┆ 38                        ┆ 38   ┆ 34   ┆ … ┆ 39.0   ┆ 5.567764 ┆ 72   ┆ 32.916667 │\n",
       "│ 2016-01-03 ┆ 30                        ┆ 38   ┆ 30   ┆ … ┆ 38.0   ┆ 4.0      ┆ 68   ┆ 40.916667 │\n",
       "│ 2016-01-03 ┆ 22                        ┆ 30   ┆ 22   ┆ … ┆ 34.0   ┆ 8.0      ┆ 52   ┆ 46.666667 │\n",
       "│ 2016-01-03 ┆ 34                        ┆ 34   ┆ 22   ┆ … ┆ 34.0   ┆ 6.110101 ┆ 56   ┆ 46.666667 │\n",
       "│ 2016-01-03 ┆ 38                        ┆ 38   ┆ 22   ┆ … ┆ 34.0   ┆ 8.326664 ┆ 72   ┆ 46.666667 │\n",
       "└────────────┴───────────────────────────┴──────┴──────┴───┴────────┴──────────┴──────┴───────────┘"
      ]
     },
     "execution_count": 6,
     "metadata": {},
     "output_type": "execute_result"
    }
   ],
   "source": [
    "df.sort(\"Date.Full\", descending= False).select(\n",
    "                                               pl.col(\"Date.Full\"),\n",
    "                                               pl.col(\"Data.Temperature.Avg Temp\"),\n",
    "                                               pl.col(\"Data.Temperature.Avg Temp\").rolling_max(window_size= 2).alias(\"max\"),\n",
    "                                               pl.col(\"Data.Temperature.Avg Temp\").rolling_min(window_size= 3).alias(\"min\"),\n",
    "                                               pl.col(\"Data.Temperature.Avg Temp\").rolling_mean(window_size= 4).alias(\"mean\"),\n",
    "                                               pl.col(\"Data.Temperature.Avg Temp\").rolling_median(window_size= 5).alias(\"median\"),\n",
    "                                               pl.col(\"Data.Temperature.Avg Temp\").rolling_std(window_size= 3).alias(\"std\"),\n",
    "                                               pl.col(\"Data.Temperature.Avg Temp\").rolling_sum(window_size= 2).alias(\"sum\"),\n",
    "                                               pl.col(\"Data.Temperature.Avg Temp\").rolling_var(window_size= 4).alias(\"var\")).head(10)"
   ]
  }
 ],
 "metadata": {
  "kernelspec": {
   "display_name": "Python 3 (ipykernel)",
   "language": "python",
   "name": "python3"
  },
  "language_info": {
   "codemirror_mode": {
    "name": "ipython",
    "version": 3
   },
   "file_extension": ".py",
   "mimetype": "text/x-python",
   "name": "python",
   "nbconvert_exporter": "python",
   "pygments_lexer": "ipython3",
   "version": "3.12.1"
  }
 },
 "nbformat": 4,
 "nbformat_minor": 5
}
