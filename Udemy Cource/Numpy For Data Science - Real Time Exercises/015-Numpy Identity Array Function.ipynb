{
 "cells": [
  {
   "cell_type": "markdown",
   "id": "c5e30a86-4d44-44c9-ab1c-a4f15518beda",
   "metadata": {},
   "source": [
    "#### It returns an identity array i.e., a square array with 1 on the main diagonal and all other elements are 0."
   ]
  },
  {
   "cell_type": "markdown",
   "id": "c496fe16-89bf-43e7-9fd5-c39479225ebd",
   "metadata": {},
   "source": [
    "###### Syntax :\n",
    "    np.identity(shape, dtype)\n",
    "\n",
    "- It takes a single integer value only as shape.\n",
    "- The No. of Rows and No. of Columns will be equal to the given integer value.\n",
    "- The default datatype is float"
   ]
  },
  {
   "cell_type": "code",
   "execution_count": 1,
   "id": "6d9799f0-ab62-44ca-99fc-9c0794782334",
   "metadata": {},
   "outputs": [],
   "source": [
    "import numpy as np"
   ]
  },
  {
   "cell_type": "code",
   "execution_count": 2,
   "id": "5c079858-fba0-4df9-9e0c-ede22fc17a5e",
   "metadata": {},
   "outputs": [
    {
     "data": {
      "text/plain": [
       "array([[1., 0., 0., 0.],\n",
       "       [0., 1., 0., 0.],\n",
       "       [0., 0., 1., 0.],\n",
       "       [0., 0., 0., 1.]])"
      ]
     },
     "execution_count": 2,
     "metadata": {},
     "output_type": "execute_result"
    }
   ],
   "source": [
    "A = np.identity(4)\n",
    "A"
   ]
  },
  {
   "cell_type": "code",
   "execution_count": 3,
   "id": "99af3025-4158-4d2c-95f6-9c87f9566e3c",
   "metadata": {},
   "outputs": [
    {
     "data": {
      "text/plain": [
       "array([[1, 0, 0, 0, 0],\n",
       "       [0, 1, 0, 0, 0],\n",
       "       [0, 0, 1, 0, 0],\n",
       "       [0, 0, 0, 1, 0],\n",
       "       [0, 0, 0, 0, 1]])"
      ]
     },
     "execution_count": 3,
     "metadata": {},
     "output_type": "execute_result"
    }
   ],
   "source": [
    "np.identity(5, dtype= int)"
   ]
  },
  {
   "cell_type": "code",
   "execution_count": 4,
   "id": "8bac7b69-121c-49d4-9349-9ce685154482",
   "metadata": {},
   "outputs": [
    {
     "data": {
      "text/plain": [
       "2"
      ]
     },
     "execution_count": 4,
     "metadata": {},
     "output_type": "execute_result"
    }
   ],
   "source": [
    "A.ndim"
   ]
  },
  {
   "cell_type": "code",
   "execution_count": 5,
   "id": "80a2fcdb-99ca-4e62-921c-daf7dbba112d",
   "metadata": {},
   "outputs": [
    {
     "data": {
      "text/plain": [
       "16"
      ]
     },
     "execution_count": 5,
     "metadata": {},
     "output_type": "execute_result"
    }
   ],
   "source": [
    "A.size"
   ]
  },
  {
   "cell_type": "code",
   "execution_count": 6,
   "id": "7a1a84a7-5fcc-4d6f-a0e8-60e2a43c5aac",
   "metadata": {},
   "outputs": [
    {
     "data": {
      "text/plain": [
       "(4, 4)"
      ]
     },
     "execution_count": 6,
     "metadata": {},
     "output_type": "execute_result"
    }
   ],
   "source": [
    "A.shape"
   ]
  },
  {
   "cell_type": "code",
   "execution_count": 7,
   "id": "e3aa8b86-9a80-4ad7-94e3-ba481d3ce16a",
   "metadata": {},
   "outputs": [
    {
     "data": {
      "text/plain": [
       "array([[25.,  0.,  0.,  0.],\n",
       "       [ 0., 25.,  0.,  0.],\n",
       "       [ 0.,  0., 25.,  0.],\n",
       "       [ 0.,  0.,  0., 25.]])"
      ]
     },
     "execution_count": 7,
     "metadata": {},
     "output_type": "execute_result"
    }
   ],
   "source": [
    "A * 25"
   ]
  },
  {
   "cell_type": "code",
   "execution_count": 8,
   "id": "3f4bd35b-a7e2-4164-9aa8-2e5d3a1fc5f3",
   "metadata": {},
   "outputs": [
    {
     "data": {
      "text/plain": [
       "array([[7.41268, 0.     , 0.     , 0.     ],\n",
       "       [0.     , 7.41268, 0.     , 0.     ],\n",
       "       [0.     , 0.     , 7.41268, 0.     ],\n",
       "       [0.     , 0.     , 0.     , 7.41268]])"
      ]
     },
     "execution_count": 8,
     "metadata": {},
     "output_type": "execute_result"
    }
   ],
   "source": [
    "A * 7.41268"
   ]
  },
  {
   "cell_type": "code",
   "execution_count": 9,
   "id": "03c9a391-cf03-4d5c-a54f-34ce992c15e4",
   "metadata": {},
   "outputs": [
    {
     "data": {
      "text/plain": [
       "array([[8., 7., 7., 7.],\n",
       "       [7., 8., 7., 7.],\n",
       "       [7., 7., 8., 7.],\n",
       "       [7., 7., 7., 8.]])"
      ]
     },
     "execution_count": 9,
     "metadata": {},
     "output_type": "execute_result"
    }
   ],
   "source": [
    "A + 7"
   ]
  }
 ],
 "metadata": {
  "kernelspec": {
   "display_name": "Python 3 (ipykernel)",
   "language": "python",
   "name": "python3"
  },
  "language_info": {
   "codemirror_mode": {
    "name": "ipython",
    "version": 3
   },
   "file_extension": ".py",
   "mimetype": "text/x-python",
   "name": "python",
   "nbconvert_exporter": "python",
   "pygments_lexer": "ipython3",
   "version": "3.10.7"
  }
 },
 "nbformat": 4,
 "nbformat_minor": 5
}
