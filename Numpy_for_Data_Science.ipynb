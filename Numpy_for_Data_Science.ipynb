{
  "nbformat": 4,
  "nbformat_minor": 0,
  "metadata": {
    "colab": {
      "provenance": []
    },
    "kernelspec": {
      "name": "python3",
      "display_name": "Python 3"
    },
    "language_info": {
      "name": "python"
    }
  },
  "cells": [
    {
      "cell_type": "code",
      "execution_count": 1,
      "metadata": {
        "id": "0MZdnicTg_5U"
      },
      "outputs": [],
      "source": [
        "import numpy as np"
      ]
    },
    {
      "cell_type": "markdown",
      "source": [
        "**Array Dimensions**"
      ],
      "metadata": {
        "id": "_x9m6v81z02K"
      }
    },
    {
      "cell_type": "code",
      "source": [
        "Array_D_0 = np.array(35)\n",
        "print(Array_D_0)"
      ],
      "metadata": {
        "colab": {
          "base_uri": "https://localhost:8080/"
        },
        "id": "3LonNQFHiUxr",
        "outputId": "06802b4e-8681-4cc8-c8fb-8fd9619e4df0"
      },
      "execution_count": 2,
      "outputs": [
        {
          "output_type": "stream",
          "name": "stdout",
          "text": [
            "35\n"
          ]
        }
      ]
    },
    {
      "cell_type": "code",
      "source": [
        "print(f\"matrix Array_D_0 is {Array_D_0.ndim} dimention\")"
      ],
      "metadata": {
        "colab": {
          "base_uri": "https://localhost:8080/"
        },
        "id": "MykP5KVPjAqQ",
        "outputId": "86ad651c-33a5-4f23-f472-3afc3fb441f9"
      },
      "execution_count": 3,
      "outputs": [
        {
          "output_type": "stream",
          "name": "stdout",
          "text": [
            "matrix Array_D_0 is 0 dimention\n"
          ]
        }
      ]
    },
    {
      "cell_type": "code",
      "source": [
        "print(f\"Array_D_0 Shape is : {Array_D_0.shape}\")"
      ],
      "metadata": {
        "colab": {
          "base_uri": "https://localhost:8080/"
        },
        "id": "0j7V4RRAmNgW",
        "outputId": "b416f601-579f-4159-aba0-59742f28eb79"
      },
      "execution_count": 4,
      "outputs": [
        {
          "output_type": "stream",
          "name": "stdout",
          "text": [
            "Array_D_0 Shape is : ()\n"
          ]
        }
      ]
    },
    {
      "cell_type": "code",
      "source": [
        "Array_D_1 = np.array([1, 2, 3, 4])\n",
        "print(Array_D_1)"
      ],
      "metadata": {
        "colab": {
          "base_uri": "https://localhost:8080/"
        },
        "id": "RAFqocdpjK1w",
        "outputId": "794e0202-ef73-4825-9a10-f0cf70533faf"
      },
      "execution_count": 5,
      "outputs": [
        {
          "output_type": "stream",
          "name": "stdout",
          "text": [
            "[1 2 3 4]\n"
          ]
        }
      ]
    },
    {
      "cell_type": "code",
      "source": [
        "\n",
        "print(f\"matrix Array_D_1 is {Array_D_1.ndim} dimention\")"
      ],
      "metadata": {
        "colab": {
          "base_uri": "https://localhost:8080/"
        },
        "id": "uUcL8y-4jaie",
        "outputId": "0f42d69c-12d6-4a0a-87bb-6ccd6d746e87"
      },
      "execution_count": 6,
      "outputs": [
        {
          "output_type": "stream",
          "name": "stdout",
          "text": [
            "matrix Array_D_1 is 1 dimention\n"
          ]
        }
      ]
    },
    {
      "cell_type": "code",
      "source": [
        "print(f\"Array_D_1 Shape is : {Array_D_1.shape}\")"
      ],
      "metadata": {
        "colab": {
          "base_uri": "https://localhost:8080/"
        },
        "id": "mFDvimFSmTP6",
        "outputId": "4b3caa62-6826-44a3-a276-34f5a8aab13d"
      },
      "execution_count": 7,
      "outputs": [
        {
          "output_type": "stream",
          "name": "stdout",
          "text": [
            "Array_D_1 Shape is : (4,)\n"
          ]
        }
      ]
    },
    {
      "cell_type": "code",
      "source": [
        "Array_D_2 = np.array([[1, 2, 3],\n",
        "                      [4, 5, 6]])\n",
        "print(Array_D_2)"
      ],
      "metadata": {
        "colab": {
          "base_uri": "https://localhost:8080/"
        },
        "id": "-LHFywOkjeK3",
        "outputId": "7f489cb4-85a3-452f-e7dd-99a585d745ff"
      },
      "execution_count": 8,
      "outputs": [
        {
          "output_type": "stream",
          "name": "stdout",
          "text": [
            "[[1 2 3]\n",
            " [4 5 6]]\n"
          ]
        }
      ]
    },
    {
      "cell_type": "code",
      "source": [
        "print(f\"matrix Array_D_2 is {Array_D_2.ndim} dimention\")"
      ],
      "metadata": {
        "colab": {
          "base_uri": "https://localhost:8080/"
        },
        "id": "sHgfwLDGjq2Q",
        "outputId": "06eea829-3eaf-41ef-d356-662f8fb1b7ce"
      },
      "execution_count": 9,
      "outputs": [
        {
          "output_type": "stream",
          "name": "stdout",
          "text": [
            "matrix Array_D_2 is 2 dimention\n"
          ]
        }
      ]
    },
    {
      "cell_type": "code",
      "source": [
        "print(f\"Array_D_2 Shape is : {Array_D_2.shape}\")"
      ],
      "metadata": {
        "colab": {
          "base_uri": "https://localhost:8080/"
        },
        "id": "HaSuQ8RqmXVp",
        "outputId": "0ab57b9b-9725-462e-be3d-2153e52d9fd8"
      },
      "execution_count": 10,
      "outputs": [
        {
          "output_type": "stream",
          "name": "stdout",
          "text": [
            "Array_D_2 Shape is : (2, 3)\n"
          ]
        }
      ]
    },
    {
      "cell_type": "code",
      "source": [
        "Array_D_3 = np.array([[[1, 2, 3], [4, 5, 6]],\n",
        "                      [[7, 8, 9], [10, 11, 12]]])\n",
        "print(Array_D_3)"
      ],
      "metadata": {
        "colab": {
          "base_uri": "https://localhost:8080/"
        },
        "id": "oA9FQmyKjv_U",
        "outputId": "bcfc955d-0e22-4532-f404-e9876f068137"
      },
      "execution_count": 11,
      "outputs": [
        {
          "output_type": "stream",
          "name": "stdout",
          "text": [
            "[[[ 1  2  3]\n",
            "  [ 4  5  6]]\n",
            "\n",
            " [[ 7  8  9]\n",
            "  [10 11 12]]]\n"
          ]
        }
      ]
    },
    {
      "cell_type": "code",
      "source": [
        "print(f\"matrix Array_D_3 is {Array_D_3.ndim} dimention\")"
      ],
      "metadata": {
        "colab": {
          "base_uri": "https://localhost:8080/"
        },
        "id": "5ZnPepNpkS1t",
        "outputId": "52fea1c4-0638-492c-aba0-23fce41d0a3a"
      },
      "execution_count": 12,
      "outputs": [
        {
          "output_type": "stream",
          "name": "stdout",
          "text": [
            "matrix Array_D_3 is 3 dimention\n"
          ]
        }
      ]
    },
    {
      "cell_type": "code",
      "source": [
        "print(f\"Array_D_3 Shape is : {Array_D_3.shape}\")"
      ],
      "metadata": {
        "colab": {
          "base_uri": "https://localhost:8080/"
        },
        "id": "RbfraXN3ma7o",
        "outputId": "eb10709b-6c1f-46a7-fc8d-96aa06c29736"
      },
      "execution_count": 13,
      "outputs": [
        {
          "output_type": "stream",
          "name": "stdout",
          "text": [
            "Array_D_3 Shape is : (2, 2, 3)\n"
          ]
        }
      ]
    },
    {
      "cell_type": "markdown",
      "source": [
        "**sum(), max(), min() and mean()**"
      ],
      "metadata": {
        "id": "orknzVhz8ZTu"
      }
    },
    {
      "cell_type": "code",
      "source": [
        "Array_1 = np.array([[2, 8, 11, 3, 15],\n",
        "                    [6, 1, 9, 25, 19],\n",
        "                    [14, 5, 7, 4, 8]])\n",
        "\n",
        "print(Array_1)"
      ],
      "metadata": {
        "colab": {
          "base_uri": "https://localhost:8080/"
        },
        "id": "DMfBzTQRkjp0",
        "outputId": "88197f0a-7f59-438c-e10b-f8cdf42af62d"
      },
      "execution_count": 14,
      "outputs": [
        {
          "output_type": "stream",
          "name": "stdout",
          "text": [
            "[[ 2  8 11  3 15]\n",
            " [ 6  1  9 25 19]\n",
            " [14  5  7  4  8]]\n"
          ]
        }
      ]
    },
    {
      "cell_type": "code",
      "source": [
        "print(f\"matrix Array_1 is {Array_1.ndim} dimention\")"
      ],
      "metadata": {
        "colab": {
          "base_uri": "https://localhost:8080/"
        },
        "id": "FPrJAdpOlMxu",
        "outputId": "7fdfe75a-3d5b-4337-8550-d2112ffe9f6a"
      },
      "execution_count": 15,
      "outputs": [
        {
          "output_type": "stream",
          "name": "stdout",
          "text": [
            "matrix Array_1 is 2 dimention\n"
          ]
        }
      ]
    },
    {
      "cell_type": "code",
      "source": [
        "print(f\"Array_1 Shape is : {Array_1.shape}\")"
      ],
      "metadata": {
        "colab": {
          "base_uri": "https://localhost:8080/"
        },
        "id": "ULlYWG5umd8n",
        "outputId": "4bfb7215-cc2d-467e-b1ec-b40f2bbcf2de"
      },
      "execution_count": 16,
      "outputs": [
        {
          "output_type": "stream",
          "name": "stdout",
          "text": [
            "Array_1 Shape is : (3, 5)\n"
          ]
        }
      ]
    },
    {
      "cell_type": "code",
      "source": [
        "print(f\"sum is : {Array_1.sum()}\")"
      ],
      "metadata": {
        "colab": {
          "base_uri": "https://localhost:8080/"
        },
        "id": "RbckLjK_tyCi",
        "outputId": "cf8302af-9d67-43f2-a0d6-037a958ecaef"
      },
      "execution_count": 17,
      "outputs": [
        {
          "output_type": "stream",
          "name": "stdout",
          "text": [
            "sum is : 137\n"
          ]
        }
      ]
    },
    {
      "cell_type": "code",
      "source": [
        "print(f\"sum of each column is : {Array_1.sum(axis=0)}\")"
      ],
      "metadata": {
        "colab": {
          "base_uri": "https://localhost:8080/"
        },
        "id": "RnOGAWZRt3L0",
        "outputId": "a1c06720-7cc3-4200-e63f-f29761d3b6ba"
      },
      "execution_count": 18,
      "outputs": [
        {
          "output_type": "stream",
          "name": "stdout",
          "text": [
            "sum of each column is : [22 14 27 32 42]\n"
          ]
        }
      ]
    },
    {
      "cell_type": "code",
      "source": [
        "print(f\"sum of each row is : {Array_1.sum(axis=1)}\")"
      ],
      "metadata": {
        "colab": {
          "base_uri": "https://localhost:8080/"
        },
        "id": "JmzYEVyEt9EI",
        "outputId": "3149c28a-94f6-4501-ad7c-5c2942969331"
      },
      "execution_count": 19,
      "outputs": [
        {
          "output_type": "stream",
          "name": "stdout",
          "text": [
            "sum of each row is : [39 60 38]\n"
          ]
        }
      ]
    },
    {
      "cell_type": "code",
      "source": [
        "print(f\"max is : {Array_1.max()}\")"
      ],
      "metadata": {
        "colab": {
          "base_uri": "https://localhost:8080/"
        },
        "id": "Zr4VyEuzuAq_",
        "outputId": "8241a6c1-deb7-4f87-80cd-dad00f2fc1e0"
      },
      "execution_count": 20,
      "outputs": [
        {
          "output_type": "stream",
          "name": "stdout",
          "text": [
            "max is : 25\n"
          ]
        }
      ]
    },
    {
      "cell_type": "code",
      "source": [
        "print(f\"max of each column is : {Array_1.max(axis=0)}\")"
      ],
      "metadata": {
        "colab": {
          "base_uri": "https://localhost:8080/"
        },
        "id": "o7Z_JlCYuFFF",
        "outputId": "d20dcece-a306-445f-cae8-01b819a72e90"
      },
      "execution_count": 21,
      "outputs": [
        {
          "output_type": "stream",
          "name": "stdout",
          "text": [
            "max of each column is : [14  8 11 25 19]\n"
          ]
        }
      ]
    },
    {
      "cell_type": "code",
      "source": [
        "print(f\"max of each row is : {Array_1.max(axis=1)}\")"
      ],
      "metadata": {
        "colab": {
          "base_uri": "https://localhost:8080/"
        },
        "id": "eiCBLE3_uIXn",
        "outputId": "241c52a4-6dcc-44dc-a302-c985dbdbb444"
      },
      "execution_count": 22,
      "outputs": [
        {
          "output_type": "stream",
          "name": "stdout",
          "text": [
            "max of each row is : [15 25 14]\n"
          ]
        }
      ]
    },
    {
      "cell_type": "code",
      "source": [
        "print(f\"min is : {Array_1.min()}\")"
      ],
      "metadata": {
        "colab": {
          "base_uri": "https://localhost:8080/"
        },
        "id": "RqRjYCrUuNak",
        "outputId": "2fdf4ac9-eda7-45cc-f1fc-3847df3fbff5"
      },
      "execution_count": 23,
      "outputs": [
        {
          "output_type": "stream",
          "name": "stdout",
          "text": [
            "min is : 1\n"
          ]
        }
      ]
    },
    {
      "cell_type": "code",
      "source": [
        "print(f\"min of each column is : {Array_1.min(axis=0)}\")"
      ],
      "metadata": {
        "colab": {
          "base_uri": "https://localhost:8080/"
        },
        "id": "4gB94NpY0O2m",
        "outputId": "87633ead-ec0b-4320-fbfe-6796cc64171a"
      },
      "execution_count": 24,
      "outputs": [
        {
          "output_type": "stream",
          "name": "stdout",
          "text": [
            "min of each column is : [2 1 7 3 8]\n"
          ]
        }
      ]
    },
    {
      "cell_type": "code",
      "source": [
        "print(f\"min of each row is : {Array_1.min(axis=0)}\")"
      ],
      "metadata": {
        "colab": {
          "base_uri": "https://localhost:8080/"
        },
        "id": "WWMerpXN0U6s",
        "outputId": "6647f442-370d-4d94-c425-ba965e9d0f43"
      },
      "execution_count": 25,
      "outputs": [
        {
          "output_type": "stream",
          "name": "stdout",
          "text": [
            "min of each row is : [2 1 7 3 8]\n"
          ]
        }
      ]
    },
    {
      "cell_type": "code",
      "source": [
        "print(f\"mean is : {Array_1.mean()}\")"
      ],
      "metadata": {
        "colab": {
          "base_uri": "https://localhost:8080/"
        },
        "id": "peG1hAIf0iZ-",
        "outputId": "12c3556a-a870-4394-8f6d-3445951dfe59"
      },
      "execution_count": 26,
      "outputs": [
        {
          "output_type": "stream",
          "name": "stdout",
          "text": [
            "mean is : 9.133333333333333\n"
          ]
        }
      ]
    },
    {
      "cell_type": "code",
      "source": [
        "print(f\"mean of each column is : {Array_1.mean(axis=0)}\")"
      ],
      "metadata": {
        "colab": {
          "base_uri": "https://localhost:8080/"
        },
        "id": "2JyYqlto0dpQ",
        "outputId": "377bb0aa-2746-4c03-ed4f-52c64e46a23f"
      },
      "execution_count": 27,
      "outputs": [
        {
          "output_type": "stream",
          "name": "stdout",
          "text": [
            "mean of each column is : [ 7.33333333  4.66666667  9.         10.66666667 14.        ]\n"
          ]
        }
      ]
    },
    {
      "cell_type": "code",
      "source": [
        "print(f\"mean of each row is : {Array_1.mean(axis=1)}\")"
      ],
      "metadata": {
        "colab": {
          "base_uri": "https://localhost:8080/"
        },
        "id": "Me7Up2wq0n_z",
        "outputId": "05022ea0-508c-444f-8696-6f245834d0c4"
      },
      "execution_count": 28,
      "outputs": [
        {
          "output_type": "stream",
          "name": "stdout",
          "text": [
            "mean of each row is : [ 7.8 12.   7.6]\n"
          ]
        }
      ]
    },
    {
      "cell_type": "code",
      "source": [
        "print(Array_1[1:3, 2:5])"
      ],
      "metadata": {
        "colab": {
          "base_uri": "https://localhost:8080/"
        },
        "id": "X6T29bkOlB8I",
        "outputId": "3147a221-40e1-4a7d-f5ef-c7097becdb05"
      },
      "execution_count": 29,
      "outputs": [
        {
          "output_type": "stream",
          "name": "stdout",
          "text": [
            "[[ 9 25 19]\n",
            " [ 7  4  8]]\n"
          ]
        }
      ]
    },
    {
      "cell_type": "code",
      "source": [
        "Array_1.ravel()"
      ],
      "metadata": {
        "colab": {
          "base_uri": "https://localhost:8080/"
        },
        "id": "6_rVdWkOqXOw",
        "outputId": "66e38344-e4f1-4ea7-d047-59a37342bfb3"
      },
      "execution_count": 30,
      "outputs": [
        {
          "output_type": "execute_result",
          "data": {
            "text/plain": [
              "array([ 2,  8, 11,  3, 15,  6,  1,  9, 25, 19, 14,  5,  7,  4,  8])"
            ]
          },
          "metadata": {},
          "execution_count": 30
        }
      ]
    },
    {
      "cell_type": "markdown",
      "source": [
        "ravel() ===> array flattened"
      ],
      "metadata": {
        "id": "YopMmxXkqfsK"
      }
    },
    {
      "cell_type": "code",
      "source": [
        "Array_1"
      ],
      "metadata": {
        "colab": {
          "base_uri": "https://localhost:8080/"
        },
        "id": "cHkdLFzTqta-",
        "outputId": "6971303c-3b68-4023-8588-5eb1adcc98e6"
      },
      "execution_count": 31,
      "outputs": [
        {
          "output_type": "execute_result",
          "data": {
            "text/plain": [
              "array([[ 2,  8, 11,  3, 15],\n",
              "       [ 6,  1,  9, 25, 19],\n",
              "       [14,  5,  7,  4,  8]])"
            ]
          },
          "metadata": {},
          "execution_count": 31
        }
      ]
    },
    {
      "cell_type": "code",
      "source": [
        "Array_1.T"
      ],
      "metadata": {
        "colab": {
          "base_uri": "https://localhost:8080/"
        },
        "id": "SzLVeWGJqv26",
        "outputId": "8c3fe936-8b7f-43be-aa1e-9f3d16d5cfd2"
      },
      "execution_count": 32,
      "outputs": [
        {
          "output_type": "execute_result",
          "data": {
            "text/plain": [
              "array([[ 2,  6, 14],\n",
              "       [ 8,  1,  5],\n",
              "       [11,  9,  7],\n",
              "       [ 3, 25,  4],\n",
              "       [15, 19,  8]])"
            ]
          },
          "metadata": {},
          "execution_count": 32
        }
      ]
    },
    {
      "cell_type": "markdown",
      "source": [
        "T ===> transposed"
      ],
      "metadata": {
        "id": "KjxCcizDq9gA"
      }
    },
    {
      "cell_type": "code",
      "source": [
        "Array_1.shape"
      ],
      "metadata": {
        "colab": {
          "base_uri": "https://localhost:8080/"
        },
        "id": "TiQEDPdSrA3u",
        "outputId": "0cf4cbd4-6750-4fb1-8277-62c382b1432a"
      },
      "execution_count": 33,
      "outputs": [
        {
          "output_type": "execute_result",
          "data": {
            "text/plain": [
              "(3, 5)"
            ]
          },
          "metadata": {},
          "execution_count": 33
        }
      ]
    },
    {
      "cell_type": "code",
      "source": [
        "Array_1.T.shape"
      ],
      "metadata": {
        "colab": {
          "base_uri": "https://localhost:8080/"
        },
        "id": "m_HYBMzsrEe4",
        "outputId": "cb9f2eff-dea1-4181-ec2b-a18ad8c76622"
      },
      "execution_count": 34,
      "outputs": [
        {
          "output_type": "execute_result",
          "data": {
            "text/plain": [
              "(5, 3)"
            ]
          },
          "metadata": {},
          "execution_count": 34
        }
      ]
    },
    {
      "cell_type": "markdown",
      "source": [
        "**Reshaping**"
      ],
      "metadata": {
        "id": "znEp6rZ07HJA"
      }
    },
    {
      "cell_type": "code",
      "source": [
        "Array_1.reshape(3, -1)"
      ],
      "metadata": {
        "colab": {
          "base_uri": "https://localhost:8080/"
        },
        "id": "YR-wux0vrN_4",
        "outputId": "80e2cd7f-c36b-4ba9-fb68-f43b40419d6b"
      },
      "execution_count": 35,
      "outputs": [
        {
          "output_type": "execute_result",
          "data": {
            "text/plain": [
              "array([[ 2,  8, 11,  3, 15],\n",
              "       [ 6,  1,  9, 25, 19],\n",
              "       [14,  5,  7,  4,  8]])"
            ]
          },
          "metadata": {},
          "execution_count": 35
        }
      ]
    },
    {
      "cell_type": "code",
      "source": [
        "Array_1.view()"
      ],
      "metadata": {
        "colab": {
          "base_uri": "https://localhost:8080/"
        },
        "id": "M7MLvbGQrpvF",
        "outputId": "2148a262-a1f2-4f8b-87c4-a868d427f15b"
      },
      "execution_count": 36,
      "outputs": [
        {
          "output_type": "execute_result",
          "data": {
            "text/plain": [
              "array([[ 2,  8, 11,  3, 15],\n",
              "       [ 6,  1,  9, 25, 19],\n",
              "       [14,  5,  7,  4,  8]])"
            ]
          },
          "metadata": {},
          "execution_count": 36
        }
      ]
    },
    {
      "cell_type": "code",
      "source": [
        "Array_1[1, 0] = 255\n",
        "Array_1"
      ],
      "metadata": {
        "colab": {
          "base_uri": "https://localhost:8080/"
        },
        "id": "iVp8KnVCruu3",
        "outputId": "61e94378-7bfd-41f5-a30e-97a0d67f325d"
      },
      "execution_count": 37,
      "outputs": [
        {
          "output_type": "execute_result",
          "data": {
            "text/plain": [
              "array([[  2,   8,  11,   3,  15],\n",
              "       [255,   1,   9,  25,  19],\n",
              "       [ 14,   5,   7,   4,   8]])"
            ]
          },
          "metadata": {},
          "execution_count": 37
        }
      ]
    },
    {
      "cell_type": "markdown",
      "source": [
        "**np.array()**"
      ],
      "metadata": {
        "id": "g0SPGo0o30AD"
      }
    },
    {
      "cell_type": "code",
      "source": [
        "Array_2 = np.array([1.63, 8.96, 7.53, 4.25], dtype= 'i')\n",
        "print(Array_2)"
      ],
      "metadata": {
        "colab": {
          "base_uri": "https://localhost:8080/"
        },
        "id": "0GoTVCirlQzn",
        "outputId": "110a2338-33b5-4d4d-b0cb-165191fe0e34"
      },
      "execution_count": 38,
      "outputs": [
        {
          "output_type": "stream",
          "name": "stdout",
          "text": [
            "[1 8 7 4]\n"
          ]
        }
      ]
    },
    {
      "cell_type": "code",
      "source": [
        "Array_3 = np.array([86.14, 53.7, 11.32, 43.26])\n",
        "print(Array_3)"
      ],
      "metadata": {
        "colab": {
          "base_uri": "https://localhost:8080/"
        },
        "id": "w1RPiJi_lexb",
        "outputId": "3b356a1c-3447-4da4-d96f-210848ce2352"
      },
      "execution_count": 39,
      "outputs": [
        {
          "output_type": "stream",
          "name": "stdout",
          "text": [
            "[86.14 53.7  11.32 43.26]\n"
          ]
        }
      ]
    },
    {
      "cell_type": "markdown",
      "source": [
        "**Type of Array**"
      ],
      "metadata": {
        "id": "zncwHXgc4Dla"
      }
    },
    {
      "cell_type": "code",
      "source": [
        "print(Array_3.astype(\"i\")) # or print(Array_3.astype(int))"
      ],
      "metadata": {
        "colab": {
          "base_uri": "https://localhost:8080/"
        },
        "id": "UBYnmP-PlrB6",
        "outputId": "0316d707-8526-438e-e042-a711d6034ccc"
      },
      "execution_count": 40,
      "outputs": [
        {
          "output_type": "stream",
          "name": "stdout",
          "text": [
            "[86 53 11 43]\n"
          ]
        }
      ]
    },
    {
      "cell_type": "code",
      "source": [
        "print(Array_3.astype(\"S\")) # or print(Array_3.astype(str))"
      ],
      "metadata": {
        "colab": {
          "base_uri": "https://localhost:8080/"
        },
        "id": "U__bff7rl0r1",
        "outputId": "649f1184-0c61-4af5-ec4b-06cb573fc852"
      },
      "execution_count": 41,
      "outputs": [
        {
          "output_type": "stream",
          "name": "stdout",
          "text": [
            "[b'86.14' b'53.7' b'11.32' b'43.26']\n"
          ]
        }
      ]
    },
    {
      "cell_type": "code",
      "source": [
        "print(Array_3.astype(\"F\"))"
      ],
      "metadata": {
        "colab": {
          "base_uri": "https://localhost:8080/"
        },
        "id": "M1xZvB3yl2Ly",
        "outputId": "5c65f9e2-a6ea-448c-f8fc-fe38c354727c"
      },
      "execution_count": 42,
      "outputs": [
        {
          "output_type": "stream",
          "name": "stdout",
          "text": [
            "[86.14+0.j 53.7 +0.j 11.32+0.j 43.26+0.j]\n"
          ]
        }
      ]
    },
    {
      "cell_type": "code",
      "source": [
        "print(Array_3.astype(bool))"
      ],
      "metadata": {
        "colab": {
          "base_uri": "https://localhost:8080/"
        },
        "id": "u4Rj93aal6gE",
        "outputId": "707154a6-210b-45b0-d729-65478575a3de"
      },
      "execution_count": 43,
      "outputs": [
        {
          "output_type": "stream",
          "name": "stdout",
          "text": [
            "[ True  True  True  True]\n"
          ]
        }
      ]
    },
    {
      "cell_type": "code",
      "source": [
        "Array_4 = np.array([4, 8, 3, 7, 11, 3, 5, 5, 1, 8, 9, 6, 3, 1, 5, 8])\n",
        "\n",
        "print(np.where(Array_4 == 5))"
      ],
      "metadata": {
        "colab": {
          "base_uri": "https://localhost:8080/"
        },
        "id": "xBgd8pmIl6_Y",
        "outputId": "2a518968-c37c-4a5e-cbc7-6f79831c4ce2"
      },
      "execution_count": 44,
      "outputs": [
        {
          "output_type": "stream",
          "name": "stdout",
          "text": [
            "(array([ 6,  7, 14]),)\n"
          ]
        }
      ]
    },
    {
      "cell_type": "code",
      "source": [
        "print(np.where(Array_4 == 4))"
      ],
      "metadata": {
        "colab": {
          "base_uri": "https://localhost:8080/"
        },
        "id": "Kt1YYZ-HmtMV",
        "outputId": "62eff5ba-5125-4ac9-eb9f-b0e6bc4864b4"
      },
      "execution_count": 45,
      "outputs": [
        {
          "output_type": "stream",
          "name": "stdout",
          "text": [
            "(array([0]),)\n"
          ]
        }
      ]
    },
    {
      "cell_type": "code",
      "source": [
        "print(np.where(Array_4 == 3))"
      ],
      "metadata": {
        "colab": {
          "base_uri": "https://localhost:8080/"
        },
        "id": "qBMqpUvamuyb",
        "outputId": "7a7bc6f9-03d3-4fed-ac2c-5f1c707b6b84"
      },
      "execution_count": 46,
      "outputs": [
        {
          "output_type": "stream",
          "name": "stdout",
          "text": [
            "(array([ 2,  5, 12]),)\n"
          ]
        }
      ]
    },
    {
      "cell_type": "code",
      "source": [
        "print(np.where(Array_4 == 1))"
      ],
      "metadata": {
        "colab": {
          "base_uri": "https://localhost:8080/"
        },
        "id": "KHXlpRpjmyOu",
        "outputId": "80b8e283-2bcb-4ecd-f17c-9657790a9943"
      },
      "execution_count": 47,
      "outputs": [
        {
          "output_type": "stream",
          "name": "stdout",
          "text": [
            "(array([ 8, 13]),)\n"
          ]
        }
      ]
    },
    {
      "cell_type": "code",
      "source": [
        "print(np.where(Array_4 == 11))"
      ],
      "metadata": {
        "colab": {
          "base_uri": "https://localhost:8080/"
        },
        "id": "tKTCt2eAm0Gt",
        "outputId": "5a070a50-0c4b-4901-a5f7-a5a9f3c8ff42"
      },
      "execution_count": 48,
      "outputs": [
        {
          "output_type": "stream",
          "name": "stdout",
          "text": [
            "(array([4]),)\n"
          ]
        }
      ]
    },
    {
      "cell_type": "code",
      "source": [
        "print(np.where(Array_4 % 2 == 0))"
      ],
      "metadata": {
        "colab": {
          "base_uri": "https://localhost:8080/"
        },
        "id": "FUw0Uvvxm0en",
        "outputId": "70ae79bc-44e4-4ed5-d084-6b758d72cfd8"
      },
      "execution_count": 49,
      "outputs": [
        {
          "output_type": "stream",
          "name": "stdout",
          "text": [
            "(array([ 0,  1,  9, 11, 15]),)\n"
          ]
        }
      ]
    },
    {
      "cell_type": "code",
      "source": [
        "print(np.where(Array_4 % 2 == 1))"
      ],
      "metadata": {
        "colab": {
          "base_uri": "https://localhost:8080/"
        },
        "id": "7HKKOqRXnO5j",
        "outputId": "63881234-1819-4712-ab04-8fd8c1d6f4d5"
      },
      "execution_count": 50,
      "outputs": [
        {
          "output_type": "stream",
          "name": "stdout",
          "text": [
            "(array([ 2,  3,  4,  5,  6,  7,  8, 10, 12, 13, 14]),)\n"
          ]
        }
      ]
    },
    {
      "cell_type": "code",
      "source": [
        "print(np.where(Array_4 % 2 != 0))"
      ],
      "metadata": {
        "colab": {
          "base_uri": "https://localhost:8080/"
        },
        "id": "viof3U5wnVgR",
        "outputId": "54b57ef6-9e38-4470-93bf-a4707dad2e8c"
      },
      "execution_count": 51,
      "outputs": [
        {
          "output_type": "stream",
          "name": "stdout",
          "text": [
            "(array([ 2,  3,  4,  5,  6,  7,  8, 10, 12, 13, 14]),)\n"
          ]
        }
      ]
    },
    {
      "cell_type": "markdown",
      "source": [
        "**Random Array**"
      ],
      "metadata": {
        "id": "0yXrnbSy4Mbp"
      }
    },
    {
      "cell_type": "code",
      "source": [
        "from numpy import random"
      ],
      "metadata": {
        "id": "uiWmDaM2nj3G"
      },
      "execution_count": 52,
      "outputs": []
    },
    {
      "cell_type": "code",
      "source": [
        "rand_1 = random.randint(100)\n",
        "rand_1"
      ],
      "metadata": {
        "colab": {
          "base_uri": "https://localhost:8080/"
        },
        "id": "0ISI98B9ogLk",
        "outputId": "7a5505a1-a96a-4011-a670-1a8540d9ae7d"
      },
      "execution_count": 53,
      "outputs": [
        {
          "output_type": "execute_result",
          "data": {
            "text/plain": [
              "99"
            ]
          },
          "metadata": {},
          "execution_count": 53
        }
      ]
    },
    {
      "cell_type": "code",
      "source": [
        "rand_2 = random.randint(100, size=5)\n",
        "rand_2"
      ],
      "metadata": {
        "colab": {
          "base_uri": "https://localhost:8080/"
        },
        "id": "-31xylaSoogQ",
        "outputId": "9449a6b7-ce75-4851-c108-be45a03bf3bb"
      },
      "execution_count": 54,
      "outputs": [
        {
          "output_type": "execute_result",
          "data": {
            "text/plain": [
              "array([54, 95, 43, 57, 25])"
            ]
          },
          "metadata": {},
          "execution_count": 54
        }
      ]
    },
    {
      "cell_type": "code",
      "source": [
        "rand_3 = random.randint(100, size=(3, 5))\n",
        "rand_3"
      ],
      "metadata": {
        "colab": {
          "base_uri": "https://localhost:8080/"
        },
        "id": "TDH-5UEpoxDc",
        "outputId": "e7c0968f-fdd1-4a77-f2b6-c8c2df3ac538"
      },
      "execution_count": 55,
      "outputs": [
        {
          "output_type": "execute_result",
          "data": {
            "text/plain": [
              "array([[26,  0, 57, 28,  1],\n",
              "       [11, 78, 11,  0, 63],\n",
              "       [56, 27, 92, 46, 55]])"
            ]
          },
          "metadata": {},
          "execution_count": 55
        }
      ]
    },
    {
      "cell_type": "code",
      "source": [
        "rand_4 = random.rand()\n",
        "rand_4"
      ],
      "metadata": {
        "colab": {
          "base_uri": "https://localhost:8080/"
        },
        "id": "mdDK1fFDo6Qi",
        "outputId": "e4b5784d-4c4f-4831-84a0-e8e12f55b0ea"
      },
      "execution_count": 56,
      "outputs": [
        {
          "output_type": "execute_result",
          "data": {
            "text/plain": [
              "0.6905610267693493"
            ]
          },
          "metadata": {},
          "execution_count": 56
        }
      ]
    },
    {
      "cell_type": "code",
      "source": [
        "rand_5 = random.rand(4)\n",
        "rand_5"
      ],
      "metadata": {
        "colab": {
          "base_uri": "https://localhost:8080/"
        },
        "id": "VPLb_iR_pGdU",
        "outputId": "b2f1b96a-e686-43dc-9178-411266fa6017"
      },
      "execution_count": 57,
      "outputs": [
        {
          "output_type": "execute_result",
          "data": {
            "text/plain": [
              "array([0.40840044, 0.50345024, 0.75244854, 0.57012253])"
            ]
          },
          "metadata": {},
          "execution_count": 57
        }
      ]
    },
    {
      "cell_type": "code",
      "source": [
        "rand_6 = random.rand(4, 3)\n",
        "rand_6"
      ],
      "metadata": {
        "colab": {
          "base_uri": "https://localhost:8080/"
        },
        "id": "_EryWRgepMSf",
        "outputId": "7c02414d-97ca-4b13-8ae6-8f9beb4eb236"
      },
      "execution_count": 58,
      "outputs": [
        {
          "output_type": "execute_result",
          "data": {
            "text/plain": [
              "array([[0.39057368, 0.61827729, 0.72274771],\n",
              "       [0.62170281, 0.99460736, 0.6912655 ],\n",
              "       [0.10917305, 0.73612334, 0.33656444],\n",
              "       [0.90237095, 0.75425707, 0.12930777]])"
            ]
          },
          "metadata": {},
          "execution_count": 58
        }
      ]
    },
    {
      "cell_type": "markdown",
      "source": [
        "**np.arange()**"
      ],
      "metadata": {
        "id": "KtRLeeAS4b_8"
      }
    },
    {
      "cell_type": "code",
      "source": [
        "np.arange(10)"
      ],
      "metadata": {
        "colab": {
          "base_uri": "https://localhost:8080/"
        },
        "id": "f-hylADRpcH9",
        "outputId": "80d1620f-b854-4b28-eaa6-a29641113b87"
      },
      "execution_count": 59,
      "outputs": [
        {
          "output_type": "execute_result",
          "data": {
            "text/plain": [
              "array([0, 1, 2, 3, 4, 5, 6, 7, 8, 9])"
            ]
          },
          "metadata": {},
          "execution_count": 59
        }
      ]
    },
    {
      "cell_type": "code",
      "source": [
        "np.arange(1, 50, 5)"
      ],
      "metadata": {
        "colab": {
          "base_uri": "https://localhost:8080/"
        },
        "id": "2mu4i8T_7uf_",
        "outputId": "ad1c7a74-9927-4299-e9d1-1eb1495d3d85"
      },
      "execution_count": 60,
      "outputs": [
        {
          "output_type": "execute_result",
          "data": {
            "text/plain": [
              "array([ 1,  6, 11, 16, 21, 26, 31, 36, 41, 46])"
            ]
          },
          "metadata": {},
          "execution_count": 60
        }
      ]
    },
    {
      "cell_type": "code",
      "source": [
        "np.arange(0, 25, step=3)"
      ],
      "metadata": {
        "colab": {
          "base_uri": "https://localhost:8080/"
        },
        "id": "p8PxZhJNpV1V",
        "outputId": "347766d0-3518-4056-f1ce-731917c77b36"
      },
      "execution_count": 61,
      "outputs": [
        {
          "output_type": "execute_result",
          "data": {
            "text/plain": [
              "array([ 0,  3,  6,  9, 12, 15, 18, 21, 24])"
            ]
          },
          "metadata": {},
          "execution_count": 61
        }
      ]
    },
    {
      "cell_type": "code",
      "source": [
        "np.arange(6)"
      ],
      "metadata": {
        "colab": {
          "base_uri": "https://localhost:8080/"
        },
        "id": "eCil3npDp0tk",
        "outputId": "17d2138c-edc1-4a37-87e2-914e00af38ef"
      },
      "execution_count": 62,
      "outputs": [
        {
          "output_type": "execute_result",
          "data": {
            "text/plain": [
              "array([0, 1, 2, 3, 4, 5])"
            ]
          },
          "metadata": {},
          "execution_count": 62
        }
      ]
    },
    {
      "cell_type": "code",
      "source": [
        "np.arange(6).reshape(2, 3)"
      ],
      "metadata": {
        "colab": {
          "base_uri": "https://localhost:8080/"
        },
        "id": "8-_Ptig2pl2x",
        "outputId": "93abca6b-d284-43d7-db68-cf2b19e519bf"
      },
      "execution_count": 63,
      "outputs": [
        {
          "output_type": "execute_result",
          "data": {
            "text/plain": [
              "array([[0, 1, 2],\n",
              "       [3, 4, 5]])"
            ]
          },
          "metadata": {},
          "execution_count": 63
        }
      ]
    },
    {
      "cell_type": "code",
      "source": [
        "np.arange(6).reshape(3, 2)"
      ],
      "metadata": {
        "colab": {
          "base_uri": "https://localhost:8080/"
        },
        "id": "CAcHzSWHpwxS",
        "outputId": "a1d4bada-169f-428f-8098-48fea32a1425"
      },
      "execution_count": 64,
      "outputs": [
        {
          "output_type": "execute_result",
          "data": {
            "text/plain": [
              "array([[0, 1],\n",
              "       [2, 3],\n",
              "       [4, 5]])"
            ]
          },
          "metadata": {},
          "execution_count": 64
        }
      ]
    },
    {
      "cell_type": "code",
      "source": [
        "np.arange(6).reshape(1, 4)"
      ],
      "metadata": {
        "colab": {
          "base_uri": "https://localhost:8080/",
          "height": 184
        },
        "id": "HdkHWs_vp6fS",
        "outputId": "5cc78f9f-fc30-43e0-dc1e-0971319316b9"
      },
      "execution_count": 65,
      "outputs": [
        {
          "output_type": "error",
          "ename": "ValueError",
          "evalue": "ignored",
          "traceback": [
            "\u001b[0;31m---------------------------------------------------------------------------\u001b[0m",
            "\u001b[0;31mValueError\u001b[0m                                Traceback (most recent call last)",
            "\u001b[0;32m<ipython-input-65-e4d990bd73c9>\u001b[0m in \u001b[0;36m<cell line: 1>\u001b[0;34m()\u001b[0m\n\u001b[0;32m----> 1\u001b[0;31m \u001b[0mnp\u001b[0m\u001b[0;34m.\u001b[0m\u001b[0marange\u001b[0m\u001b[0;34m(\u001b[0m\u001b[0;36m6\u001b[0m\u001b[0;34m)\u001b[0m\u001b[0;34m.\u001b[0m\u001b[0mreshape\u001b[0m\u001b[0;34m(\u001b[0m\u001b[0;36m1\u001b[0m\u001b[0;34m,\u001b[0m \u001b[0;36m4\u001b[0m\u001b[0;34m)\u001b[0m\u001b[0;34m\u001b[0m\u001b[0;34m\u001b[0m\u001b[0m\n\u001b[0m",
            "\u001b[0;31mValueError\u001b[0m: cannot reshape array of size 6 into shape (1,4)"
          ]
        }
      ]
    },
    {
      "cell_type": "markdown",
      "source": [
        "**np.linspace()**"
      ],
      "metadata": {
        "id": "d0-Pi02z4qN8"
      }
    },
    {
      "cell_type": "code",
      "source": [
        "np.linspace(1, 10, num=5)"
      ],
      "metadata": {
        "colab": {
          "base_uri": "https://localhost:8080/"
        },
        "id": "4gcMBUGKqDER",
        "outputId": "13eb2990-4508-4027-d8d1-b33ee3c0332c"
      },
      "execution_count": 66,
      "outputs": [
        {
          "output_type": "execute_result",
          "data": {
            "text/plain": [
              "array([ 1.  ,  3.25,  5.5 ,  7.75, 10.  ])"
            ]
          },
          "metadata": {},
          "execution_count": 66
        }
      ]
    },
    {
      "cell_type": "code",
      "source": [
        "np.linspace(1, 20, num=7)"
      ],
      "metadata": {
        "colab": {
          "base_uri": "https://localhost:8080/"
        },
        "id": "3bZbAPPtqNDi",
        "outputId": "ffd46a09-05c3-40d5-c639-55d1c106dbd7"
      },
      "execution_count": 67,
      "outputs": [
        {
          "output_type": "execute_result",
          "data": {
            "text/plain": [
              "array([ 1.        ,  4.16666667,  7.33333333, 10.5       , 13.66666667,\n",
              "       16.83333333, 20.        ])"
            ]
          },
          "metadata": {},
          "execution_count": 67
        }
      ]
    },
    {
      "cell_type": "code",
      "source": [
        "np.linspace(0, 2, 9)"
      ],
      "metadata": {
        "colab": {
          "base_uri": "https://localhost:8080/"
        },
        "id": "utHTvRKbqU4W",
        "outputId": "c1b0c29e-6cee-45c8-c45d-986401b7d88d"
      },
      "execution_count": 68,
      "outputs": [
        {
          "output_type": "execute_result",
          "data": {
            "text/plain": [
              "array([0.  , 0.25, 0.5 , 0.75, 1.  , 1.25, 1.5 , 1.75, 2.  ])"
            ]
          },
          "metadata": {},
          "execution_count": 68
        }
      ]
    },
    {
      "cell_type": "markdown",
      "source": [
        "**Zero Array**"
      ],
      "metadata": {
        "id": "dV14uYBw42fV"
      }
    },
    {
      "cell_type": "code",
      "source": [
        "np.zeros(5)"
      ],
      "metadata": {
        "colab": {
          "base_uri": "https://localhost:8080/"
        },
        "id": "93azS02Sqm76",
        "outputId": "40789beb-eff8-4ddd-80db-cb1fa1de6ffc"
      },
      "execution_count": 69,
      "outputs": [
        {
          "output_type": "execute_result",
          "data": {
            "text/plain": [
              "array([0., 0., 0., 0., 0.])"
            ]
          },
          "metadata": {},
          "execution_count": 69
        }
      ]
    },
    {
      "cell_type": "code",
      "source": [
        "np.zeros((3, 4))"
      ],
      "metadata": {
        "colab": {
          "base_uri": "https://localhost:8080/"
        },
        "id": "kaOF9B_C7EV8",
        "outputId": "e4d9e9dc-13ed-4f73-ad9d-e248e65e4f1a"
      },
      "execution_count": 70,
      "outputs": [
        {
          "output_type": "execute_result",
          "data": {
            "text/plain": [
              "array([[0., 0., 0., 0.],\n",
              "       [0., 0., 0., 0.],\n",
              "       [0., 0., 0., 0.]])"
            ]
          },
          "metadata": {},
          "execution_count": 70
        }
      ]
    },
    {
      "cell_type": "markdown",
      "source": [
        "**One Array**"
      ],
      "metadata": {
        "id": "_K6EqXLM46n3"
      }
    },
    {
      "cell_type": "code",
      "source": [
        "np.ones(7)"
      ],
      "metadata": {
        "colab": {
          "base_uri": "https://localhost:8080/"
        },
        "id": "6WBQ-_MSqvRi",
        "outputId": "a1cb1fa4-17ac-43be-db00-412eebe84c8c"
      },
      "execution_count": 71,
      "outputs": [
        {
          "output_type": "execute_result",
          "data": {
            "text/plain": [
              "array([1., 1., 1., 1., 1., 1., 1.])"
            ]
          },
          "metadata": {},
          "execution_count": 71
        }
      ]
    },
    {
      "cell_type": "code",
      "source": [
        "np.ones((3, 6))"
      ],
      "metadata": {
        "colab": {
          "base_uri": "https://localhost:8080/"
        },
        "id": "6I757UIA7LTN",
        "outputId": "425cad35-8099-4301-97cf-c5552e96d276"
      },
      "execution_count": 72,
      "outputs": [
        {
          "output_type": "execute_result",
          "data": {
            "text/plain": [
              "array([[1., 1., 1., 1., 1., 1.],\n",
              "       [1., 1., 1., 1., 1., 1.],\n",
              "       [1., 1., 1., 1., 1., 1.]])"
            ]
          },
          "metadata": {},
          "execution_count": 72
        }
      ]
    },
    {
      "cell_type": "code",
      "source": [
        "np.ones((3, 6), dtype=int)"
      ],
      "metadata": {
        "colab": {
          "base_uri": "https://localhost:8080/"
        },
        "id": "YV3bP5dX7ZHw",
        "outputId": "55d14eea-3100-4c49-c5e2-f3bdd8a3b3ad"
      },
      "execution_count": 73,
      "outputs": [
        {
          "output_type": "execute_result",
          "data": {
            "text/plain": [
              "array([[1, 1, 1, 1, 1, 1],\n",
              "       [1, 1, 1, 1, 1, 1],\n",
              "       [1, 1, 1, 1, 1, 1]])"
            ]
          },
          "metadata": {},
          "execution_count": 73
        }
      ]
    },
    {
      "cell_type": "markdown",
      "source": [
        "**Empty Array**"
      ],
      "metadata": {
        "id": "3mfX1C4K4_O_"
      }
    },
    {
      "cell_type": "code",
      "source": [
        "np.empty(4)"
      ],
      "metadata": {
        "colab": {
          "base_uri": "https://localhost:8080/"
        },
        "id": "s2Lr3qNVqyyg",
        "outputId": "6e6cb432-518d-4c69-f861-9891d0944c36"
      },
      "execution_count": 74,
      "outputs": [
        {
          "output_type": "execute_result",
          "data": {
            "text/plain": [
              "array([0.40840044, 0.50345024, 0.75244854, 0.57012253])"
            ]
          },
          "metadata": {},
          "execution_count": 74
        }
      ]
    },
    {
      "cell_type": "code",
      "source": [
        "np.empty((2, 3))"
      ],
      "metadata": {
        "colab": {
          "base_uri": "https://localhost:8080/"
        },
        "id": "ybPuNRPp7jb_",
        "outputId": "7d353224-6ace-4a1a-c9f3-4173732ec5c9"
      },
      "execution_count": 75,
      "outputs": [
        {
          "output_type": "execute_result",
          "data": {
            "text/plain": [
              "array([[0.0e+000, 4.9e-324, 9.9e-324],\n",
              "       [1.5e-323, 2.0e-323, 2.5e-323]])"
            ]
          },
          "metadata": {},
          "execution_count": 75
        }
      ]
    },
    {
      "cell_type": "markdown",
      "source": [
        "**Full Array**"
      ],
      "metadata": {
        "id": "LSIVStCA5FpF"
      }
    },
    {
      "cell_type": "code",
      "source": [
        "np.full(3, 4)"
      ],
      "metadata": {
        "colab": {
          "base_uri": "https://localhost:8080/"
        },
        "id": "BQRPfnkkq9yD",
        "outputId": "cf725ee6-adf5-4751-d5c7-bedf95f09299"
      },
      "execution_count": 76,
      "outputs": [
        {
          "output_type": "execute_result",
          "data": {
            "text/plain": [
              "array([4, 4, 4])"
            ]
          },
          "metadata": {},
          "execution_count": 76
        }
      ]
    },
    {
      "cell_type": "code",
      "source": [
        "np.full((3, 4), 5)"
      ],
      "metadata": {
        "colab": {
          "base_uri": "https://localhost:8080/"
        },
        "id": "RkrFShK4q3Br",
        "outputId": "1e6241a0-921f-45e2-fca4-e98181d7803f"
      },
      "execution_count": 77,
      "outputs": [
        {
          "output_type": "execute_result",
          "data": {
            "text/plain": [
              "array([[5, 5, 5, 5],\n",
              "       [5, 5, 5, 5],\n",
              "       [5, 5, 5, 5]])"
            ]
          },
          "metadata": {},
          "execution_count": 77
        }
      ]
    },
    {
      "cell_type": "markdown",
      "source": [
        "**Diagonal matrix**"
      ],
      "metadata": {
        "id": "RBnZrM0J5VzH"
      }
    },
    {
      "cell_type": "code",
      "source": [
        "np.eye(4)"
      ],
      "metadata": {
        "colab": {
          "base_uri": "https://localhost:8080/"
        },
        "id": "62XvWJ3FrAql",
        "outputId": "4640bb11-091f-4f5e-9b78-47e0f22fda75"
      },
      "execution_count": 78,
      "outputs": [
        {
          "output_type": "execute_result",
          "data": {
            "text/plain": [
              "array([[1., 0., 0., 0.],\n",
              "       [0., 1., 0., 0.],\n",
              "       [0., 0., 1., 0.],\n",
              "       [0., 0., 0., 1.]])"
            ]
          },
          "metadata": {},
          "execution_count": 78
        }
      ]
    },
    {
      "cell_type": "code",
      "source": [
        "rand_7 = np.arange(5)\n",
        "rand_7"
      ],
      "metadata": {
        "colab": {
          "base_uri": "https://localhost:8080/"
        },
        "id": "fnPo5dXbrMyz",
        "outputId": "40e3e034-1501-4596-9671-8cf204c9f4a7"
      },
      "execution_count": 79,
      "outputs": [
        {
          "output_type": "execute_result",
          "data": {
            "text/plain": [
              "array([0, 1, 2, 3, 4])"
            ]
          },
          "metadata": {},
          "execution_count": 79
        }
      ]
    },
    {
      "cell_type": "markdown",
      "source": [
        "**Radical**"
      ],
      "metadata": {
        "id": "7nOS6eYN5ezk"
      }
    },
    {
      "cell_type": "code",
      "source": [
        "np.sqrt(rand_7)"
      ],
      "metadata": {
        "colab": {
          "base_uri": "https://localhost:8080/"
        },
        "id": "qu2QX3a5rcaA",
        "outputId": "55377b19-6603-4ced-e5fc-9d1f5e951da6"
      },
      "execution_count": 80,
      "outputs": [
        {
          "output_type": "execute_result",
          "data": {
            "text/plain": [
              "array([0.        , 1.        , 1.41421356, 1.73205081, 2.        ])"
            ]
          },
          "metadata": {},
          "execution_count": 80
        }
      ]
    },
    {
      "cell_type": "markdown",
      "source": [
        "**Exponential**"
      ],
      "metadata": {
        "id": "yxscA9-C5r2i"
      }
    },
    {
      "cell_type": "code",
      "source": [
        "np.exp(rand_7)"
      ],
      "metadata": {
        "colab": {
          "base_uri": "https://localhost:8080/"
        },
        "id": "JtIb1XDSrm9k",
        "outputId": "ab34202d-9d7f-4df6-d76a-59d662e5c059"
      },
      "execution_count": 81,
      "outputs": [
        {
          "output_type": "execute_result",
          "data": {
            "text/plain": [
              "array([ 1.        ,  2.71828183,  7.3890561 , 20.08553692, 54.59815003])"
            ]
          },
          "metadata": {},
          "execution_count": 81
        }
      ]
    },
    {
      "cell_type": "markdown",
      "source": [
        "**np.ndarray()**"
      ],
      "metadata": {
        "id": "oZEtUoc-61Q4"
      }
    },
    {
      "cell_type": "code",
      "source": [
        "Array_5 = np.ndarray([1, 2, 3])\n",
        "Array_5"
      ],
      "metadata": {
        "colab": {
          "base_uri": "https://localhost:8080/"
        },
        "id": "hQtwOI6A8Byl",
        "outputId": "5a217310-ba28-4c6c-f2c1-04ddce12320c"
      },
      "execution_count": 82,
      "outputs": [
        {
          "output_type": "execute_result",
          "data": {
            "text/plain": [
              "array([[[0.0e+000, 4.9e-324, 9.9e-324],\n",
              "        [1.5e-323, 2.0e-323, 2.5e-323]]])"
            ]
          },
          "metadata": {},
          "execution_count": 82
        }
      ]
    },
    {
      "cell_type": "code",
      "source": [
        "Array_5.shape"
      ],
      "metadata": {
        "colab": {
          "base_uri": "https://localhost:8080/"
        },
        "id": "i5O3K6_Z5k8O",
        "outputId": "9f7c5c20-b0ed-4e70-cc12-401856d04703"
      },
      "execution_count": 83,
      "outputs": [
        {
          "output_type": "execute_result",
          "data": {
            "text/plain": [
              "(1, 2, 3)"
            ]
          },
          "metadata": {},
          "execution_count": 83
        }
      ]
    },
    {
      "cell_type": "code",
      "source": [
        "Array_6 = np.arange(15).reshape(3, 5)\n",
        "Array_6"
      ],
      "metadata": {
        "colab": {
          "base_uri": "https://localhost:8080/"
        },
        "id": "qukog_5Q5v8F",
        "outputId": "46196549-e5cb-4705-e07f-081596505d4d"
      },
      "execution_count": 84,
      "outputs": [
        {
          "output_type": "execute_result",
          "data": {
            "text/plain": [
              "array([[ 0,  1,  2,  3,  4],\n",
              "       [ 5,  6,  7,  8,  9],\n",
              "       [10, 11, 12, 13, 14]])"
            ]
          },
          "metadata": {},
          "execution_count": 84
        }
      ]
    },
    {
      "cell_type": "code",
      "source": [
        "print(Array_6.ndim)"
      ],
      "metadata": {
        "colab": {
          "base_uri": "https://localhost:8080/"
        },
        "id": "vtJWjYtY56ms",
        "outputId": "ed42d1f5-5109-47ec-9895-69d15263986b"
      },
      "execution_count": 85,
      "outputs": [
        {
          "output_type": "stream",
          "name": "stdout",
          "text": [
            "2\n"
          ]
        }
      ]
    },
    {
      "cell_type": "code",
      "source": [
        "type(Array_6)"
      ],
      "metadata": {
        "colab": {
          "base_uri": "https://localhost:8080/"
        },
        "id": "X9CGxPIB6iYv",
        "outputId": "df5f0e73-b253-41ec-cfed-e47470cc38ae"
      },
      "execution_count": 86,
      "outputs": [
        {
          "output_type": "execute_result",
          "data": {
            "text/plain": [
              "numpy.ndarray"
            ]
          },
          "metadata": {},
          "execution_count": 86
        }
      ]
    },
    {
      "cell_type": "code",
      "source": [
        "Array_6.dtype"
      ],
      "metadata": {
        "colab": {
          "base_uri": "https://localhost:8080/"
        },
        "id": "ApnpH4bR6TfI",
        "outputId": "c5353a98-f0ef-42cb-b817-66d052d44f17"
      },
      "execution_count": 87,
      "outputs": [
        {
          "output_type": "execute_result",
          "data": {
            "text/plain": [
              "dtype('int64')"
            ]
          },
          "metadata": {},
          "execution_count": 87
        }
      ]
    },
    {
      "cell_type": "code",
      "source": [
        "Array_6.dtype.name"
      ],
      "metadata": {
        "colab": {
          "base_uri": "https://localhost:8080/",
          "height": 35
        },
        "id": "fsvZ3rN46IQy",
        "outputId": "d380e567-dcb7-4ce7-c02a-9b440eab78eb"
      },
      "execution_count": 88,
      "outputs": [
        {
          "output_type": "execute_result",
          "data": {
            "text/plain": [
              "'int64'"
            ],
            "application/vnd.google.colaboratory.intrinsic+json": {
              "type": "string"
            }
          },
          "metadata": {},
          "execution_count": 88
        }
      ]
    },
    {
      "cell_type": "code",
      "source": [
        "Array_6.size"
      ],
      "metadata": {
        "colab": {
          "base_uri": "https://localhost:8080/"
        },
        "id": "LAztNij66Q5O",
        "outputId": "78d125fb-c2a9-43f0-af69-807c5a694b9b"
      },
      "execution_count": 89,
      "outputs": [
        {
          "output_type": "execute_result",
          "data": {
            "text/plain": [
              "15"
            ]
          },
          "metadata": {},
          "execution_count": 89
        }
      ]
    },
    {
      "cell_type": "code",
      "source": [
        "Array_6.itemsize"
      ],
      "metadata": {
        "colab": {
          "base_uri": "https://localhost:8080/"
        },
        "id": "6-788aze6bIj",
        "outputId": "46b704fc-961b-4784-f795-ac36f8b4c5f2"
      },
      "execution_count": 90,
      "outputs": [
        {
          "output_type": "execute_result",
          "data": {
            "text/plain": [
              "8"
            ]
          },
          "metadata": {},
          "execution_count": 90
        }
      ]
    },
    {
      "cell_type": "code",
      "source": [
        "np.arange(24).reshape(2, 3, 4)"
      ],
      "metadata": {
        "colab": {
          "base_uri": "https://localhost:8080/"
        },
        "id": "lVzMM_Fv8h-T",
        "outputId": "232cf472-48d0-4061-e47e-0cec7f7d17e0"
      },
      "execution_count": 91,
      "outputs": [
        {
          "output_type": "execute_result",
          "data": {
            "text/plain": [
              "array([[[ 0,  1,  2,  3],\n",
              "        [ 4,  5,  6,  7],\n",
              "        [ 8,  9, 10, 11]],\n",
              "\n",
              "       [[12, 13, 14, 15],\n",
              "        [16, 17, 18, 19],\n",
              "        [20, 21, 22, 23]]])"
            ]
          },
          "metadata": {},
          "execution_count": 91
        }
      ]
    },
    {
      "cell_type": "code",
      "source": [
        "Array_7 = np.array([4, 7, 3])\n",
        "Array_7"
      ],
      "metadata": {
        "colab": {
          "base_uri": "https://localhost:8080/"
        },
        "id": "KwzBxe2C6fSy",
        "outputId": "a0772b0d-ae8d-4b30-84ca-b4d9bb3db5e5"
      },
      "execution_count": 92,
      "outputs": [
        {
          "output_type": "execute_result",
          "data": {
            "text/plain": [
              "array([4, 7, 3])"
            ]
          },
          "metadata": {},
          "execution_count": 92
        }
      ]
    },
    {
      "cell_type": "code",
      "source": [
        "Array_8 = np.array([4, 7, 3], dtype=complex)\n",
        "Array_8"
      ],
      "metadata": {
        "colab": {
          "base_uri": "https://localhost:8080/"
        },
        "id": "gv2Sjj7260Ee",
        "outputId": "bd3d5121-e916-4f1f-91c0-e26e32687bd1"
      },
      "execution_count": 93,
      "outputs": [
        {
          "output_type": "execute_result",
          "data": {
            "text/plain": [
              "array([4.+0.j, 7.+0.j, 3.+0.j])"
            ]
          },
          "metadata": {},
          "execution_count": 93
        }
      ]
    },
    {
      "cell_type": "markdown",
      "source": [
        "**Elementary Arithmetic**"
      ],
      "metadata": {
        "id": "ls3-dkmd6I_H"
      }
    },
    {
      "cell_type": "code",
      "source": [
        "Array_9 = np.array([20, 30, 40, 50, 60, 70])\n",
        "Array_10 = np.arange(6)"
      ],
      "metadata": {
        "id": "lj30gufm6_WY"
      },
      "execution_count": 94,
      "outputs": []
    },
    {
      "cell_type": "code",
      "source": [
        "Array_9"
      ],
      "metadata": {
        "colab": {
          "base_uri": "https://localhost:8080/"
        },
        "id": "DSNFVCeD6NyF",
        "outputId": "c2ac5b38-c578-4541-a151-31c4beb7ac9f"
      },
      "execution_count": 95,
      "outputs": [
        {
          "output_type": "execute_result",
          "data": {
            "text/plain": [
              "array([20, 30, 40, 50, 60, 70])"
            ]
          },
          "metadata": {},
          "execution_count": 95
        }
      ]
    },
    {
      "cell_type": "code",
      "source": [
        "Array_10"
      ],
      "metadata": {
        "colab": {
          "base_uri": "https://localhost:8080/"
        },
        "id": "8Yvmts2P6QjE",
        "outputId": "c7101748-f786-44f1-a938-530a60445995"
      },
      "execution_count": 96,
      "outputs": [
        {
          "output_type": "execute_result",
          "data": {
            "text/plain": [
              "array([0, 1, 2, 3, 4, 5])"
            ]
          },
          "metadata": {},
          "execution_count": 96
        }
      ]
    },
    {
      "cell_type": "code",
      "source": [
        "Array_9 - Array_10"
      ],
      "metadata": {
        "colab": {
          "base_uri": "https://localhost:8080/"
        },
        "id": "MqWVGDga8_3h",
        "outputId": "091fd5c4-86f3-4320-dfdd-705fdea44ac1"
      },
      "execution_count": 97,
      "outputs": [
        {
          "output_type": "execute_result",
          "data": {
            "text/plain": [
              "array([20, 29, 38, 47, 56, 65])"
            ]
          },
          "metadata": {},
          "execution_count": 97
        }
      ]
    },
    {
      "cell_type": "code",
      "source": [
        "Array_10 ** 2"
      ],
      "metadata": {
        "colab": {
          "base_uri": "https://localhost:8080/"
        },
        "id": "CcwNELh_9Dsv",
        "outputId": "44094598-ee9f-42ff-d4b2-06232b00eb9a"
      },
      "execution_count": 98,
      "outputs": [
        {
          "output_type": "execute_result",
          "data": {
            "text/plain": [
              "array([ 0,  1,  4,  9, 16, 25])"
            ]
          },
          "metadata": {},
          "execution_count": 98
        }
      ]
    },
    {
      "cell_type": "code",
      "source": [
        "15 * np.sin(Array_9)"
      ],
      "metadata": {
        "colab": {
          "base_uri": "https://localhost:8080/"
        },
        "id": "-6xLflYL9Kfk",
        "outputId": "be3e7826-66c6-4c8f-dca6-fca7989f6f64"
      },
      "execution_count": 99,
      "outputs": [
        {
          "output_type": "execute_result",
          "data": {
            "text/plain": [
              "array([ 13.69417876, -14.82047436,  11.17669741,  -3.93562281,\n",
              "        -4.57215932,  11.60836022])"
            ]
          },
          "metadata": {},
          "execution_count": 99
        }
      ]
    },
    {
      "cell_type": "code",
      "source": [
        "Array_9 < 50"
      ],
      "metadata": {
        "colab": {
          "base_uri": "https://localhost:8080/"
        },
        "id": "3b2qlz4t9TGA",
        "outputId": "b395040f-f2ae-4ce6-a88f-2ab1503a953d"
      },
      "execution_count": 100,
      "outputs": [
        {
          "output_type": "execute_result",
          "data": {
            "text/plain": [
              "array([ True,  True,  True, False, False, False])"
            ]
          },
          "metadata": {},
          "execution_count": 100
        }
      ]
    },
    {
      "cell_type": "code",
      "source": [
        "Array_11 = np.array([[1, 1],\n",
        "                     [0, 1]])\n",
        "\n",
        "Array_12 = np.array([[2, 0],\n",
        "                     [3, 4]])"
      ],
      "metadata": {
        "id": "ATSMvK5X9WQE"
      },
      "execution_count": 101,
      "outputs": []
    },
    {
      "cell_type": "code",
      "source": [
        "Array_11 + Array_12"
      ],
      "metadata": {
        "colab": {
          "base_uri": "https://localhost:8080/"
        },
        "id": "73cVSswW9pY_",
        "outputId": "c28026de-04da-48bc-8017-421aedc199fd"
      },
      "execution_count": 102,
      "outputs": [
        {
          "output_type": "execute_result",
          "data": {
            "text/plain": [
              "array([[3, 1],\n",
              "       [3, 5]])"
            ]
          },
          "metadata": {},
          "execution_count": 102
        }
      ]
    },
    {
      "cell_type": "code",
      "source": [
        "Array_11 * Array_12"
      ],
      "metadata": {
        "colab": {
          "base_uri": "https://localhost:8080/"
        },
        "id": "VDLrZcKe9svt",
        "outputId": "5cef8394-315f-4dc0-b92c-2fd5b96d8d15"
      },
      "execution_count": 103,
      "outputs": [
        {
          "output_type": "execute_result",
          "data": {
            "text/plain": [
              "array([[2, 0],\n",
              "       [0, 4]])"
            ]
          },
          "metadata": {},
          "execution_count": 103
        }
      ]
    },
    {
      "cell_type": "code",
      "source": [
        "Array_11 @ Array_12"
      ],
      "metadata": {
        "colab": {
          "base_uri": "https://localhost:8080/"
        },
        "id": "NBjSd3kr9vjv",
        "outputId": "ff79f6b9-01f6-44b1-f795-83ab76374c52"
      },
      "execution_count": 104,
      "outputs": [
        {
          "output_type": "execute_result",
          "data": {
            "text/plain": [
              "array([[5, 4],\n",
              "       [3, 4]])"
            ]
          },
          "metadata": {},
          "execution_count": 104
        }
      ]
    },
    {
      "cell_type": "code",
      "source": [
        "Array_11.dot(Array_12)"
      ],
      "metadata": {
        "colab": {
          "base_uri": "https://localhost:8080/"
        },
        "id": "EUeHuty290ne",
        "outputId": "1f4e3cf2-d9a1-46cd-93ce-38e5b0eb514e"
      },
      "execution_count": 105,
      "outputs": [
        {
          "output_type": "execute_result",
          "data": {
            "text/plain": [
              "array([[5, 4],\n",
              "       [3, 4]])"
            ]
          },
          "metadata": {},
          "execution_count": 105
        }
      ]
    }
  ]
}