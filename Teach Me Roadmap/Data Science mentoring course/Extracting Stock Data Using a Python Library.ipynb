{
 "cells": [
  {
   "cell_type": "code",
   "execution_count": 1,
   "id": "0ac47ffd-773b-4383-b6c7-7c2f6cf62889",
   "metadata": {},
   "outputs": [],
   "source": [
    "import pandas as pd\n",
    "import yfinance as yf"
   ]
  },
  {
   "cell_type": "code",
   "execution_count": 2,
   "id": "acaaef2e-0743-4de3-86e1-c87d7e0bf20b",
   "metadata": {},
   "outputs": [],
   "source": [
    "Apple = yf.Ticker(\"AAPL\")"
   ]
  },
  {
   "cell_type": "code",
   "execution_count": 3,
   "id": "eaf50189-620b-4679-a107-31b0281d9170",
   "metadata": {},
   "outputs": [],
   "source": [
    "Apple_info = Apple.info"
   ]
  },
  {
   "cell_type": "code",
   "execution_count": 4,
   "id": "51dd57af-cd2a-4615-8155-7ea04fe5a33c",
   "metadata": {},
   "outputs": [
    {
     "data": {
      "text/plain": [
       "{'address1': 'One Apple Park Way',\n",
       " 'city': 'Cupertino',\n",
       " 'state': 'CA',\n",
       " 'zip': '95014',\n",
       " 'country': 'United States',\n",
       " 'phone': '408 996 1010',\n",
       " 'website': 'https://www.apple.com',\n",
       " 'industry': 'Consumer Electronics',\n",
       " 'industryKey': 'consumer-electronics',\n",
       " 'industryDisp': 'Consumer Electronics',\n",
       " 'sector': 'Technology',\n",
       " 'sectorKey': 'technology',\n",
       " 'sectorDisp': 'Technology',\n",
       " 'longBusinessSummary': 'Apple Inc. designs, manufactures, and markets smartphones, personal computers, tablets, wearables, and accessories worldwide. The company offers iPhone, a line of smartphones; Mac, a line of personal computers; iPad, a line of multi-purpose tablets; and wearables, home, and accessories comprising AirPods, Apple TV, Apple Watch, Beats products, and HomePod. It also provides AppleCare support and cloud services; and operates various platforms, including the App Store that allow customers to discover and download applications and digital content, such as books, music, video, games, and podcasts. In addition, the company offers various services, such as Apple Arcade, a game subscription service; Apple Fitness+, a personalized fitness service; Apple Music, which offers users a curated listening experience with on-demand radio stations; Apple News+, a subscription news and magazine service; Apple TV+, which offers exclusive original content; Apple Card, a co-branded credit card; and Apple Pay, a cashless payment service, as well as licenses its intellectual property. The company serves consumers, and small and mid-sized businesses; and the education, enterprise, and government markets. It distributes third-party applications for its products through the App Store. The company also sells its products through its retail and online stores, and direct sales force; and third-party cellular network carriers, wholesalers, retailers, and resellers. Apple Inc. was incorporated in 1977 and is headquartered in Cupertino, California.',\n",
       " 'fullTimeEmployees': 164000,\n",
       " 'companyOfficers': [{'maxAge': 1,\n",
       "   'name': 'Mr. Timothy D. Cook',\n",
       "   'age': 61,\n",
       "   'title': 'CEO & Director',\n",
       "   'yearBorn': 1961,\n",
       "   'fiscalYear': 2022,\n",
       "   'totalPay': 16425933,\n",
       "   'exercisedValue': 0,\n",
       "   'unexercisedValue': 0},\n",
       "  {'maxAge': 1,\n",
       "   'name': 'Mr. Luca  Maestri',\n",
       "   'age': 59,\n",
       "   'title': 'CFO & Sr. VP',\n",
       "   'yearBorn': 1963,\n",
       "   'fiscalYear': 2022,\n",
       "   'totalPay': 5019783,\n",
       "   'exercisedValue': 0,\n",
       "   'unexercisedValue': 0},\n",
       "  {'maxAge': 1,\n",
       "   'name': 'Mr. Jeffrey E. Williams',\n",
       "   'age': 58,\n",
       "   'title': 'Chief Operating Officer',\n",
       "   'yearBorn': 1964,\n",
       "   'fiscalYear': 2022,\n",
       "   'totalPay': 5018337,\n",
       "   'exercisedValue': 0,\n",
       "   'unexercisedValue': 0},\n",
       "  {'maxAge': 1,\n",
       "   'name': 'Ms. Katherine L. Adams',\n",
       "   'age': 58,\n",
       "   'title': 'Sr. VP, Gen. Counsel & Sec.',\n",
       "   'yearBorn': 1964,\n",
       "   'fiscalYear': 2022,\n",
       "   'totalPay': 5015208,\n",
       "   'exercisedValue': 0,\n",
       "   'unexercisedValue': 0},\n",
       "  {'maxAge': 1,\n",
       "   'name': \"Ms. Deirdre  O'Brien\",\n",
       "   'age': 55,\n",
       "   'title': 'Sr. VP of Retail',\n",
       "   'yearBorn': 1967,\n",
       "   'fiscalYear': 2022,\n",
       "   'totalPay': 5019783,\n",
       "   'exercisedValue': 0,\n",
       "   'unexercisedValue': 0},\n",
       "  {'maxAge': 1,\n",
       "   'name': 'Mr. Chris  Kondo',\n",
       "   'title': 'Sr. Director of Corp. Accounting',\n",
       "   'exercisedValue': 0,\n",
       "   'unexercisedValue': 0},\n",
       "  {'maxAge': 1,\n",
       "   'name': 'Mr. James  Wilson',\n",
       "   'title': 'Chief Technology Officer',\n",
       "   'exercisedValue': 0,\n",
       "   'unexercisedValue': 0},\n",
       "  {'maxAge': 1,\n",
       "   'name': 'Ms. Mary  Demby',\n",
       "   'title': 'Chief Information Officer',\n",
       "   'exercisedValue': 0,\n",
       "   'unexercisedValue': 0},\n",
       "  {'maxAge': 1,\n",
       "   'name': 'Ms. Nancy  Paxton',\n",
       "   'title': 'Sr. Director of Investor Relations & Treasury',\n",
       "   'exercisedValue': 0,\n",
       "   'unexercisedValue': 0},\n",
       "  {'maxAge': 1,\n",
       "   'name': 'Mr. Greg  Joswiak',\n",
       "   'title': 'Sr. VP of Worldwide Marketing',\n",
       "   'exercisedValue': 0,\n",
       "   'unexercisedValue': 0}],\n",
       " 'auditRisk': 4,\n",
       " 'boardRisk': 1,\n",
       " 'compensationRisk': 5,\n",
       " 'shareHolderRightsRisk': 1,\n",
       " 'overallRisk': 1,\n",
       " 'governanceEpochDate': 1695859200,\n",
       " 'compensationAsOfEpochDate': 1672444800,\n",
       " 'maxAge': 86400,\n",
       " 'priceHint': 2,\n",
       " 'previousClose': 170.69,\n",
       " 'open': 172.02,\n",
       " 'dayLow': 170.341,\n",
       " 'dayHigh': 173.07,\n",
       " 'regularMarketPreviousClose': 170.69,\n",
       " 'regularMarketOpen': 172.02,\n",
       " 'regularMarketDayLow': 170.341,\n",
       " 'regularMarketDayHigh': 173.07,\n",
       " 'dividendRate': 0.96,\n",
       " 'dividendYield': 0.0056,\n",
       " 'exDividendDate': 1691712000,\n",
       " 'payoutRatio': 0.156,\n",
       " 'fiveYearAvgDividendYield': 0.85,\n",
       " 'beta': 1.274896,\n",
       " 'trailingPE': 28.726511,\n",
       " 'forwardPE': 25.980274,\n",
       " 'volume': 49152786,\n",
       " 'regularMarketVolume': 49152786,\n",
       " 'averageVolume': 58032222,\n",
       " 'averageVolume10days': 58302360,\n",
       " 'averageDailyVolume10Day': 58302360,\n",
       " 'bid': 171.3,\n",
       " 'ask': 171.36,\n",
       " 'bidSize': 1200,\n",
       " 'askSize': 1400,\n",
       " 'marketCap': 2676731412480,\n",
       " 'fiftyTwoWeekLow': 124.17,\n",
       " 'fiftyTwoWeekHigh': 198.23,\n",
       " 'priceToSalesTrailing12Months': 6.9718714,\n",
       " 'fiftyDayAverage': 181.2658,\n",
       " 'twoHundredDayAverage': 166.22205,\n",
       " 'trailingAnnualDividendRate': 0.93,\n",
       " 'trailingAnnualDividendYield': 0.0054484736,\n",
       " 'currency': 'USD',\n",
       " 'enterpriseValue': 2723534864384,\n",
       " 'profitMargins': 0.24681,\n",
       " 'floatShares': 15617034345,\n",
       " 'sharesOutstanding': 15634199552,\n",
       " 'sharesShort': 107325921,\n",
       " 'sharesShortPriorMonth': 88852352,\n",
       " 'sharesShortPreviousMonthDate': 1692057600,\n",
       " 'dateShortInterest': 1694736000,\n",
       " 'sharesPercentSharesOut': 0.0069,\n",
       " 'heldPercentInsiders': 0.00071999995,\n",
       " 'heldPercentInstitutions': 0.61317,\n",
       " 'shortRatio': 1.72,\n",
       " 'shortPercentOfFloat': 0.0069,\n",
       " 'impliedSharesOutstanding': 15634199552,\n",
       " 'bookValue': 3.852,\n",
       " 'priceToBook': 44.44704,\n",
       " 'lastFiscalYearEnd': 1663977600,\n",
       " 'nextFiscalYearEnd': 1695513600,\n",
       " 'mostRecentQuarter': 1688169600,\n",
       " 'earningsQuarterlyGrowth': 0.023,\n",
       " 'netIncomeToCommon': 94760001536,\n",
       " 'trailingEps': 5.96,\n",
       " 'forwardEps': 6.59,\n",
       " 'pegRatio': 3.8,\n",
       " 'lastSplitFactor': '4:1',\n",
       " 'lastSplitDate': 1598832000,\n",
       " 'enterpriseToRevenue': 7.094,\n",
       " 'enterpriseToEbitda': 21.972,\n",
       " '52WeekChange': 0.20189536,\n",
       " 'SandP52WeekChange': 0.16572833,\n",
       " 'lastDividendValue': 0.24,\n",
       " 'lastDividendDate': 1691712000,\n",
       " 'exchange': 'NMS',\n",
       " 'quoteType': 'EQUITY',\n",
       " 'symbol': 'AAPL',\n",
       " 'underlyingSymbol': 'AAPL',\n",
       " 'shortName': 'Apple Inc.',\n",
       " 'longName': 'Apple Inc.',\n",
       " 'firstTradeDateEpochUtc': 345479400,\n",
       " 'timeZoneFullName': 'America/New_York',\n",
       " 'timeZoneShortName': 'EDT',\n",
       " 'uuid': '8b10e4ae-9eeb-3684-921a-9ab27e4d87aa',\n",
       " 'messageBoardId': 'finmb_24937',\n",
       " 'gmtOffSetMilliseconds': -14400000,\n",
       " 'currentPrice': 171.21,\n",
       " 'targetHighPrice': 240.0,\n",
       " 'targetLowPrice': 149.0,\n",
       " 'targetMeanPrice': 199.58,\n",
       " 'targetMedianPrice': 200.0,\n",
       " 'recommendationMean': 2.0,\n",
       " 'recommendationKey': 'buy',\n",
       " 'numberOfAnalystOpinions': 37,\n",
       " 'totalCash': 62482001920,\n",
       " 'totalCashPerShare': 3.996,\n",
       " 'ebitda': 123957002240,\n",
       " 'totalDebt': 109280002048,\n",
       " 'quickRatio': 0.814,\n",
       " 'currentRatio': 0.982,\n",
       " 'totalRevenue': 383932989440,\n",
       " 'debtToEquity': 181.305,\n",
       " 'revenuePerShare': 24.22,\n",
       " 'returnOnAssets': 0.20896,\n",
       " 'returnOnEquity': 1.60093,\n",
       " 'grossProfits': 170782000000,\n",
       " 'freeCashflow': 90680500224,\n",
       " 'operatingCashflow': 113071996928,\n",
       " 'earningsGrowth': 0.05,\n",
       " 'revenueGrowth': -0.014,\n",
       " 'grossMargins': 0.43449003,\n",
       " 'ebitdaMargins': 0.32286,\n",
       " 'operatingMargins': 0.29231,\n",
       " 'financialCurrency': 'USD',\n",
       " 'trailingPegRatio': 2.1803}"
      ]
     },
     "execution_count": 4,
     "metadata": {},
     "output_type": "execute_result"
    }
   ],
   "source": [
    "Apple_info"
   ]
  },
  {
   "cell_type": "code",
   "execution_count": 5,
   "id": "c53c6e14-8273-4bf6-97f2-70169c4ee512",
   "metadata": {},
   "outputs": [
    {
     "data": {
      "text/plain": [
       "'United States'"
      ]
     },
     "execution_count": 5,
     "metadata": {},
     "output_type": "execute_result"
    }
   ],
   "source": [
    "Apple_info[\"country\"]"
   ]
  },
  {
   "cell_type": "code",
   "execution_count": 6,
   "id": "520118a2-2f60-42c3-b81a-05072f9e22f1",
   "metadata": {},
   "outputs": [
    {
     "data": {
      "text/plain": [
       "'Consumer Electronics'"
      ]
     },
     "execution_count": 6,
     "metadata": {},
     "output_type": "execute_result"
    }
   ],
   "source": [
    "Apple_info[\"industry\"]"
   ]
  },
  {
   "cell_type": "code",
   "execution_count": 7,
   "id": "d25aa0f0-29c9-482e-bf69-6bb9f0e94de1",
   "metadata": {},
   "outputs": [],
   "source": [
    "Apple_share_price_data = Apple.history(period = \"max\")"
   ]
  },
  {
   "cell_type": "code",
   "execution_count": 8,
   "id": "b4ecb05c-1a62-4cfb-8f74-d5ba7313fb58",
   "metadata": {},
   "outputs": [
    {
     "data": {
      "text/html": [
       "<div>\n",
       "<style scoped>\n",
       "    .dataframe tbody tr th:only-of-type {\n",
       "        vertical-align: middle;\n",
       "    }\n",
       "\n",
       "    .dataframe tbody tr th {\n",
       "        vertical-align: top;\n",
       "    }\n",
       "\n",
       "    .dataframe thead th {\n",
       "        text-align: right;\n",
       "    }\n",
       "</style>\n",
       "<table border=\"1\" class=\"dataframe\">\n",
       "  <thead>\n",
       "    <tr style=\"text-align: right;\">\n",
       "      <th></th>\n",
       "      <th>Open</th>\n",
       "      <th>High</th>\n",
       "      <th>Low</th>\n",
       "      <th>Close</th>\n",
       "      <th>Volume</th>\n",
       "      <th>Dividends</th>\n",
       "      <th>Stock Splits</th>\n",
       "    </tr>\n",
       "    <tr>\n",
       "      <th>Date</th>\n",
       "      <th></th>\n",
       "      <th></th>\n",
       "      <th></th>\n",
       "      <th></th>\n",
       "      <th></th>\n",
       "      <th></th>\n",
       "      <th></th>\n",
       "    </tr>\n",
       "  </thead>\n",
       "  <tbody>\n",
       "    <tr>\n",
       "      <th>1980-12-12 00:00:00-05:00</th>\n",
       "      <td>0.099449</td>\n",
       "      <td>0.099882</td>\n",
       "      <td>0.099449</td>\n",
       "      <td>0.099449</td>\n",
       "      <td>469033600</td>\n",
       "      <td>0.0</td>\n",
       "      <td>0.0</td>\n",
       "    </tr>\n",
       "    <tr>\n",
       "      <th>1980-12-15 00:00:00-05:00</th>\n",
       "      <td>0.094694</td>\n",
       "      <td>0.094694</td>\n",
       "      <td>0.094261</td>\n",
       "      <td>0.094261</td>\n",
       "      <td>175884800</td>\n",
       "      <td>0.0</td>\n",
       "      <td>0.0</td>\n",
       "    </tr>\n",
       "    <tr>\n",
       "      <th>1980-12-16 00:00:00-05:00</th>\n",
       "      <td>0.087775</td>\n",
       "      <td>0.087775</td>\n",
       "      <td>0.087343</td>\n",
       "      <td>0.087343</td>\n",
       "      <td>105728000</td>\n",
       "      <td>0.0</td>\n",
       "      <td>0.0</td>\n",
       "    </tr>\n",
       "    <tr>\n",
       "      <th>1980-12-17 00:00:00-05:00</th>\n",
       "      <td>0.089504</td>\n",
       "      <td>0.089937</td>\n",
       "      <td>0.089504</td>\n",
       "      <td>0.089504</td>\n",
       "      <td>86441600</td>\n",
       "      <td>0.0</td>\n",
       "      <td>0.0</td>\n",
       "    </tr>\n",
       "    <tr>\n",
       "      <th>1980-12-18 00:00:00-05:00</th>\n",
       "      <td>0.092099</td>\n",
       "      <td>0.092532</td>\n",
       "      <td>0.092099</td>\n",
       "      <td>0.092099</td>\n",
       "      <td>73449600</td>\n",
       "      <td>0.0</td>\n",
       "      <td>0.0</td>\n",
       "    </tr>\n",
       "  </tbody>\n",
       "</table>\n",
       "</div>"
      ],
      "text/plain": [
       "                               Open      High       Low     Close     Volume  \\\n",
       "Date                                                                           \n",
       "1980-12-12 00:00:00-05:00  0.099449  0.099882  0.099449  0.099449  469033600   \n",
       "1980-12-15 00:00:00-05:00  0.094694  0.094694  0.094261  0.094261  175884800   \n",
       "1980-12-16 00:00:00-05:00  0.087775  0.087775  0.087343  0.087343  105728000   \n",
       "1980-12-17 00:00:00-05:00  0.089504  0.089937  0.089504  0.089504   86441600   \n",
       "1980-12-18 00:00:00-05:00  0.092099  0.092532  0.092099  0.092099   73449600   \n",
       "\n",
       "                           Dividends  Stock Splits  \n",
       "Date                                                \n",
       "1980-12-12 00:00:00-05:00        0.0           0.0  \n",
       "1980-12-15 00:00:00-05:00        0.0           0.0  \n",
       "1980-12-16 00:00:00-05:00        0.0           0.0  \n",
       "1980-12-17 00:00:00-05:00        0.0           0.0  \n",
       "1980-12-18 00:00:00-05:00        0.0           0.0  "
      ]
     },
     "execution_count": 8,
     "metadata": {},
     "output_type": "execute_result"
    }
   ],
   "source": [
    "Apple_share_price_data.head()"
   ]
  },
  {
   "cell_type": "code",
   "execution_count": 9,
   "id": "54ed50ed-3ffd-4391-a6d6-bc1ec7bc2b34",
   "metadata": {},
   "outputs": [
    {
     "data": {
      "text/html": [
       "<div>\n",
       "<style scoped>\n",
       "    .dataframe tbody tr th:only-of-type {\n",
       "        vertical-align: middle;\n",
       "    }\n",
       "\n",
       "    .dataframe tbody tr th {\n",
       "        vertical-align: top;\n",
       "    }\n",
       "\n",
       "    .dataframe thead th {\n",
       "        text-align: right;\n",
       "    }\n",
       "</style>\n",
       "<table border=\"1\" class=\"dataframe\">\n",
       "  <thead>\n",
       "    <tr style=\"text-align: right;\">\n",
       "      <th></th>\n",
       "      <th>Open</th>\n",
       "      <th>High</th>\n",
       "      <th>Low</th>\n",
       "      <th>Close</th>\n",
       "      <th>Volume</th>\n",
       "      <th>Dividends</th>\n",
       "      <th>Stock Splits</th>\n",
       "    </tr>\n",
       "    <tr>\n",
       "      <th>Date</th>\n",
       "      <th></th>\n",
       "      <th></th>\n",
       "      <th></th>\n",
       "      <th></th>\n",
       "      <th></th>\n",
       "      <th></th>\n",
       "      <th></th>\n",
       "    </tr>\n",
       "  </thead>\n",
       "  <tbody>\n",
       "    <tr>\n",
       "      <th>2023-09-25 00:00:00-04:00</th>\n",
       "      <td>174.199997</td>\n",
       "      <td>176.970001</td>\n",
       "      <td>174.149994</td>\n",
       "      <td>176.080002</td>\n",
       "      <td>46172700</td>\n",
       "      <td>0.0</td>\n",
       "      <td>0.0</td>\n",
       "    </tr>\n",
       "    <tr>\n",
       "      <th>2023-09-26 00:00:00-04:00</th>\n",
       "      <td>174.820007</td>\n",
       "      <td>175.199997</td>\n",
       "      <td>171.660004</td>\n",
       "      <td>171.960007</td>\n",
       "      <td>64588900</td>\n",
       "      <td>0.0</td>\n",
       "      <td>0.0</td>\n",
       "    </tr>\n",
       "    <tr>\n",
       "      <th>2023-09-27 00:00:00-04:00</th>\n",
       "      <td>172.619995</td>\n",
       "      <td>173.039993</td>\n",
       "      <td>169.050003</td>\n",
       "      <td>170.429993</td>\n",
       "      <td>66921800</td>\n",
       "      <td>0.0</td>\n",
       "      <td>0.0</td>\n",
       "    </tr>\n",
       "    <tr>\n",
       "      <th>2023-09-28 00:00:00-04:00</th>\n",
       "      <td>169.339996</td>\n",
       "      <td>172.029999</td>\n",
       "      <td>167.619995</td>\n",
       "      <td>170.690002</td>\n",
       "      <td>56294400</td>\n",
       "      <td>0.0</td>\n",
       "      <td>0.0</td>\n",
       "    </tr>\n",
       "    <tr>\n",
       "      <th>2023-09-29 00:00:00-04:00</th>\n",
       "      <td>172.020004</td>\n",
       "      <td>173.070007</td>\n",
       "      <td>170.339996</td>\n",
       "      <td>171.210007</td>\n",
       "      <td>51814200</td>\n",
       "      <td>0.0</td>\n",
       "      <td>0.0</td>\n",
       "    </tr>\n",
       "  </tbody>\n",
       "</table>\n",
       "</div>"
      ],
      "text/plain": [
       "                                 Open        High         Low       Close  \\\n",
       "Date                                                                        \n",
       "2023-09-25 00:00:00-04:00  174.199997  176.970001  174.149994  176.080002   \n",
       "2023-09-26 00:00:00-04:00  174.820007  175.199997  171.660004  171.960007   \n",
       "2023-09-27 00:00:00-04:00  172.619995  173.039993  169.050003  170.429993   \n",
       "2023-09-28 00:00:00-04:00  169.339996  172.029999  167.619995  170.690002   \n",
       "2023-09-29 00:00:00-04:00  172.020004  173.070007  170.339996  171.210007   \n",
       "\n",
       "                             Volume  Dividends  Stock Splits  \n",
       "Date                                                          \n",
       "2023-09-25 00:00:00-04:00  46172700        0.0           0.0  \n",
       "2023-09-26 00:00:00-04:00  64588900        0.0           0.0  \n",
       "2023-09-27 00:00:00-04:00  66921800        0.0           0.0  \n",
       "2023-09-28 00:00:00-04:00  56294400        0.0           0.0  \n",
       "2023-09-29 00:00:00-04:00  51814200        0.0           0.0  "
      ]
     },
     "execution_count": 9,
     "metadata": {},
     "output_type": "execute_result"
    }
   ],
   "source": [
    "Apple_share_price_data.tail()"
   ]
  },
  {
   "cell_type": "code",
   "execution_count": 10,
   "id": "78aa2edf-7a95-4529-834c-381928008fe6",
   "metadata": {},
   "outputs": [],
   "source": [
    "Apple_share_price_data.reset_index(inplace = True)"
   ]
  },
  {
   "cell_type": "code",
   "execution_count": 11,
   "id": "af247267-346d-4998-9313-2f31f3415f93",
   "metadata": {},
   "outputs": [
    {
     "data": {
      "text/plain": [
       "<Axes: xlabel='Date'>"
      ]
     },
     "execution_count": 11,
     "metadata": {},
     "output_type": "execute_result"
    },
    {
     "data": {
      "image/png": "[encoded data removed]",
      "text/plain": [
       "<Figure size 640x480 with 1 Axes>"
      ]
     },
     "metadata": {},
     "output_type": "display_data"
    }
   ],
   "source": [
    "Apple_share_price_data.plot(x = \"Date\", y = \"Open\")"
   ]
  },
  {
   "cell_type": "code",
   "execution_count": 12,
   "id": "c3141fd4-b35a-4a9f-a3ae-a2f3c702fb8f",
   "metadata": {},
   "outputs": [
    {
     "data": {
      "text/plain": [
       "<Axes: xlabel='Date'>"
      ]
     },
     "execution_count": 12,
     "metadata": {},
     "output_type": "execute_result"
    },
    {
     "data": {
      "image/png": "[encoded data removed]",
      "text/plain": [
       "<Figure size 640x480 with 1 Axes>"
      ]
     },
     "metadata": {},
     "output_type": "display_data"
    }
   ],
   "source": [
    "Apple_share_price_data.plot(x = \"Date\", y = \"High\")"
   ]
  },
  {
   "cell_type": "code",
   "execution_count": 13,
   "id": "dd63a718-59e8-41b6-9f58-910f0ace7771",
   "metadata": {},
   "outputs": [
    {
     "data": {
      "text/plain": [
       "<Axes: xlabel='Date'>"
      ]
     },
     "execution_count": 13,
     "metadata": {},
     "output_type": "execute_result"
    },
    {
     "data": {
      "image/png": "[encoded data removed]",
      "text/plain": [
       "<Figure size 640x480 with 1 Axes>"
      ]
     },
     "metadata": {},
     "output_type": "display_data"
    }
   ],
   "source": [
    "Apple_share_price_data.plot(x = \"Date\", y = \"Low\")"
   ]
  },
  {
   "cell_type": "code",
   "execution_count": 14,
   "id": "f46f8c30-464b-44aa-85b9-e361c030b679",
   "metadata": {},
   "outputs": [
    {
     "data": {
      "text/plain": [
       "Date\n",
       "1987-05-11 00:00:00-04:00    0.000536\n",
       "1987-08-10 00:00:00-04:00    0.000536\n",
       "1987-11-17 00:00:00-05:00    0.000714\n",
       "1988-02-12 00:00:00-05:00    0.000714\n",
       "1988-05-16 00:00:00-04:00    0.000714\n",
       "                               ...   \n",
       "2022-08-05 00:00:00-04:00    0.230000\n",
       "2022-11-04 00:00:00-04:00    0.230000\n",
       "2023-02-10 00:00:00-05:00    0.230000\n",
       "2023-05-12 00:00:00-04:00    0.240000\n",
       "2023-08-11 00:00:00-04:00    0.240000\n",
       "Name: Dividends, Length: 80, dtype: float64"
      ]
     },
     "execution_count": 14,
     "metadata": {},
     "output_type": "execute_result"
    }
   ],
   "source": [
    "Apple.dividends"
   ]
  },
  {
   "cell_type": "code",
   "execution_count": 15,
   "id": "6e0a5050-365f-4a90-bba5-5cd4d664badc",
   "metadata": {},
   "outputs": [
    {
     "data": {
      "text/plain": [
       "<Axes: xlabel='Date'>"
      ]
     },
     "execution_count": 15,
     "metadata": {},
     "output_type": "execute_result"
    },
    {
     "data": {
      "image/png": "[encoded data removed]",
      "text/plain": [
       "<Figure size 640x480 with 1 Axes>"
      ]
     },
     "metadata": {},
     "output_type": "display_data"
    }
   ],
   "source": [
    "Apple.dividends.plot()"
   ]
  },
  {
   "cell_type": "code",
   "execution_count": 16,
   "id": "c7aee8e9-5c23-4788-adc9-db823a01d1f2",
   "metadata": {},
   "outputs": [],
   "source": [
    "amd = yf.Ticker(\"AMD\")"
   ]
  },
  {
   "cell_type": "code",
   "execution_count": 17,
   "id": "cf6322d5-2357-4250-ae78-37b10f9c391e",
   "metadata": {},
   "outputs": [],
   "source": [
    "amd_info = amd.info"
   ]
  },
  {
   "cell_type": "code",
   "execution_count": 18,
   "id": "cee01782-25bd-4b91-ac46-ff42921e35bc",
   "metadata": {},
   "outputs": [
    {
     "data": {
      "text/plain": [
       "{'address1': '2485 Augustine Drive',\n",
       " 'city': 'Santa Clara',\n",
       " 'state': 'CA',\n",
       " 'zip': '95054',\n",
       " 'country': 'United States',\n",
       " 'phone': '408 749 4000',\n",
       " 'website': 'https://www.amd.com',\n",
       " 'industry': 'Semiconductors',\n",
       " 'industryKey': 'semiconductors',\n",
       " 'industryDisp': 'Semiconductors',\n",
       " 'sector': 'Technology',\n",
       " 'sectorKey': 'technology',\n",
       " 'sectorDisp': 'Technology',\n",
       " 'longBusinessSummary': 'Advanced Micro Devices, Inc. operates as a semiconductor company worldwide. It operates in four segments: Data Center, Client, Gaming, and Embedded segments. The company offers x86 microprocessors and graphics processing units (GPUs) as an accelerated processing unit, chipsets, data center, and professional GPUs; and embedded processors, and semi-custom system-on-chip (SoC) products, microprocessor and SoC development services and technology, data processing unites, field programmable gate arrays (FPGA), and adaptive SoC products. It also provides processors under the AMD Ryzen, AMD Ryzen PRO, Ryzen Threadripper, Ryzen Threadripper PRO, AMD Athlon, AMD Athlon PRO, and AMD PRO A-Series brand names; graphics under the AMD Radeon graphics and AMD Embedded Radeon graphics; and professional graphics under the AMD Radeon Pro graphics brand name. In addition, the company offers data center graphics under the Radeon Instinct and Radeon PRO V-series brands, as well as servers under the AMD Instinct accelerators brand; server microprocessors under the AMD EPYC brands; embedded processor solutions under the AMD Athlon, AMD Geode, AMD Ryzen, AMD EPYC, AMD R-Series, and G-Series brands; FPGA products under the Virtex-6, Virtex-7, Virtex UltraScale+, Kintex-7, Kintex UltraScale, Kintex UltraScale+, Artix-7, Artix UltraScale+, Spartan-6, and Spartan-7 brands; adaptive SOCs under the Zynq-7000, Zynq UltraScale+ MPSoC, Zynq UltraScale+ RFSoCs, Versal HBM, Versal Premium, Versal Prime, Versal AI Core, Versal AI Edge, Vitis, and Vivado brands; and compute and network acceleration board products under the Alveo brand. It serves original equipment and design manufacturers, public cloud service providers, system integrators, independent distributors, online and brick and mortar retailers, and add-in-board manufacturers through its direct sales force, independent distributors, and sales representatives. The company was incorporated in 1969 and is headquartered in Santa Clara, California.',\n",
       " 'fullTimeEmployees': 25000,\n",
       " 'companyOfficers': [{'maxAge': 1,\n",
       "   'name': 'Dr. Lisa T. Su Ph.D.',\n",
       "   'age': 52,\n",
       "   'title': 'Chair & CEO',\n",
       "   'yearBorn': 1970,\n",
       "   'fiscalYear': 2022,\n",
       "   'totalPay': 2120679,\n",
       "   'exercisedValue': 61926388,\n",
       "   'unexercisedValue': 84294872},\n",
       "  {'maxAge': 1,\n",
       "   'name': 'Mr. Victor  Peng',\n",
       "   'age': 62,\n",
       "   'title': 'Pres',\n",
       "   'yearBorn': 1960,\n",
       "   'fiscalYear': 2022,\n",
       "   'totalPay': 6091409,\n",
       "   'exercisedValue': 0,\n",
       "   'unexercisedValue': 0},\n",
       "  {'maxAge': 1,\n",
       "   'name': 'Mr. Mark D. Papermaster',\n",
       "   'age': 60,\n",
       "   'title': 'CTO and Exec. VP of Technology & Engineering',\n",
       "   'yearBorn': 1962,\n",
       "   'fiscalYear': 2022,\n",
       "   'totalPay': 1140933,\n",
       "   'exercisedValue': 4836541,\n",
       "   'unexercisedValue': 22460436},\n",
       "  {'maxAge': 1,\n",
       "   'name': 'Mr. Paul Darren Grasby',\n",
       "   'age': 52,\n",
       "   'title': 'Exec. VP of Strategic Partnerships & Pres EMEA',\n",
       "   'yearBorn': 1970,\n",
       "   'fiscalYear': 2022,\n",
       "   'totalPay': 921473,\n",
       "   'exercisedValue': 1077205,\n",
       "   'unexercisedValue': 432646},\n",
       "  {'maxAge': 1,\n",
       "   'name': 'Ms. Jean X. Hu',\n",
       "   'age': 59,\n",
       "   'title': 'Exec. VP, CFO & Treasurer',\n",
       "   'yearBorn': 1963,\n",
       "   'exercisedValue': 0,\n",
       "   'unexercisedValue': 0},\n",
       "  {'maxAge': 1,\n",
       "   'name': 'Mr. Keivan  Keshvari',\n",
       "   'title': 'Sr. VP of Global Operations',\n",
       "   'exercisedValue': 0,\n",
       "   'unexercisedValue': 0},\n",
       "  {'maxAge': 1,\n",
       "   'name': 'Ms. Darla M. Smith',\n",
       "   'age': 56,\n",
       "   'title': 'Corp. VP & Chief Accounting Officer',\n",
       "   'yearBorn': 1966,\n",
       "   'exercisedValue': 0,\n",
       "   'unexercisedValue': 0},\n",
       "  {'maxAge': 1,\n",
       "   'name': 'Mr. Hasmukh  Ranjan',\n",
       "   'title': 'Sr. VP & Chief Information Officer',\n",
       "   'exercisedValue': 0,\n",
       "   'unexercisedValue': 0},\n",
       "  {'maxAge': 1,\n",
       "   'name': 'Mr. Harry A. Wolin',\n",
       "   'age': 59,\n",
       "   'title': 'Sr. VP, Gen. Counsel & Corp. Sec.',\n",
       "   'yearBorn': 1963,\n",
       "   'fiscalYear': 2018,\n",
       "   'exercisedValue': 0,\n",
       "   'unexercisedValue': 0},\n",
       "  {'maxAge': 1,\n",
       "   'name': 'Ms. Ruth  Cotter',\n",
       "   'title': 'Sr. VP of Marketing, Communications & HR',\n",
       "   'exercisedValue': 0,\n",
       "   'unexercisedValue': 0}],\n",
       " 'auditRisk': 8,\n",
       " 'boardRisk': 4,\n",
       " 'compensationRisk': 7,\n",
       " 'shareHolderRightsRisk': 3,\n",
       " 'overallRisk': 5,\n",
       " 'governanceEpochDate': 1695859200,\n",
       " 'compensationAsOfEpochDate': 1672444800,\n",
       " 'maxAge': 86400,\n",
       " 'priceHint': 2,\n",
       " 'previousClose': 102.76,\n",
       " 'open': 104.69,\n",
       " 'dayLow': 102.56,\n",
       " 'dayHigh': 104.93,\n",
       " 'regularMarketPreviousClose': 102.76,\n",
       " 'regularMarketOpen': 104.69,\n",
       " 'regularMarketDayLow': 102.56,\n",
       " 'regularMarketDayHigh': 104.93,\n",
       " 'exDividendDate': 798940800,\n",
       " 'payoutRatio': 0.0,\n",
       " 'beta': 1.797026,\n",
       " 'forwardPE': 24.775904,\n",
       " 'volume': 55240180,\n",
       " 'regularMarketVolume': 55240180,\n",
       " 'averageVolume': 59639149,\n",
       " 'averageVolume10days': 52360720,\n",
       " 'averageDailyVolume10Day': 52360720,\n",
       " 'bid': 102.6,\n",
       " 'ask': 102.75,\n",
       " 'bidSize': 900,\n",
       " 'askSize': 800,\n",
       " 'marketCap': 166123192320,\n",
       " 'fiftyTwoWeekLow': 54.57,\n",
       " 'fiftyTwoWeekHigh': 132.83,\n",
       " 'priceToSalesTrailing12Months': 7.593856,\n",
       " 'fiftyDayAverage': 106.9644,\n",
       " 'twoHundredDayAverage': 95.92985,\n",
       " 'trailingAnnualDividendRate': 0.0,\n",
       " 'trailingAnnualDividendYield': 0.0,\n",
       " 'currency': 'USD',\n",
       " 'enterpriseValue': 162698330112,\n",
       " 'profitMargins': -0.00114,\n",
       " 'floatShares': 1605638061,\n",
       " 'sharesOutstanding': 1615670016,\n",
       " 'sharesShort': 30062210,\n",
       " 'sharesShortPriorMonth': 28845067,\n",
       " 'sharesShortPreviousMonthDate': 1692057600,\n",
       " 'dateShortInterest': 1694736000,\n",
       " 'sharesPercentSharesOut': 0.0186,\n",
       " 'heldPercentInsiders': 0.00477,\n",
       " 'heldPercentInstitutions': 0.74466,\n",
       " 'shortRatio': 0.53,\n",
       " 'shortPercentOfFloat': 0.0187,\n",
       " 'impliedSharesOutstanding': 1615670016,\n",
       " 'bookValue': 34.161,\n",
       " 'priceToBook': 3.009865,\n",
       " 'lastFiscalYearEnd': 1672444800,\n",
       " 'nextFiscalYearEnd': 1703980800,\n",
       " 'mostRecentQuarter': 1688169600,\n",
       " 'earningsQuarterlyGrowth': -0.94,\n",
       " 'netIncomeToCommon': -25000000,\n",
       " 'trailingEps': -0.04,\n",
       " 'forwardEps': 4.15,\n",
       " 'pegRatio': 4.16,\n",
       " 'lastSplitFactor': '2:1',\n",
       " 'lastSplitDate': 966902400,\n",
       " 'enterpriseToRevenue': 7.437,\n",
       " 'enterpriseToEbitda': 52.483,\n",
       " '52WeekChange': 0.55528665,\n",
       " 'SandP52WeekChange': 0.16572833,\n",
       " 'exchange': 'NMS',\n",
       " 'quoteType': 'EQUITY',\n",
       " 'symbol': 'AMD',\n",
       " 'underlyingSymbol': 'AMD',\n",
       " 'shortName': 'Advanced Micro Devices, Inc.',\n",
       " 'longName': 'Advanced Micro Devices, Inc.',\n",
       " 'firstTradeDateEpochUtc': 322151400,\n",
       " 'timeZoneFullName': 'America/New_York',\n",
       " 'timeZoneShortName': 'EDT',\n",
       " 'uuid': '48af4341-f745-363f-945f-a838eeabb062',\n",
       " 'messageBoardId': 'finmb_168864',\n",
       " 'gmtOffSetMilliseconds': -14400000,\n",
       " 'currentPrice': 102.82,\n",
       " 'targetHighPrice': 200.0,\n",
       " 'targetLowPrice': 60.0,\n",
       " 'targetMeanPrice': 138.53,\n",
       " 'targetMedianPrice': 142.5,\n",
       " 'recommendationMean': 2.0,\n",
       " 'recommendationKey': 'buy',\n",
       " 'numberOfAnalystOpinions': 38,\n",
       " 'totalCash': 6285000192,\n",
       " 'totalCashPerShare': 3.89,\n",
       " 'ebitda': 3100000000,\n",
       " 'totalDebt': 2860000000,\n",
       " 'quickRatio': 1.4,\n",
       " 'currentRatio': 2.18,\n",
       " 'totalRevenue': 21876000768,\n",
       " 'debtToEquity': 5.187,\n",
       " 'revenuePerShare': 13.554,\n",
       " 'returnOnAssets': -0.00349,\n",
       " 'returnOnEquity': -0.00045000002,\n",
       " 'grossProfits': 12051000000,\n",
       " 'freeCashflow': 3586374912,\n",
       " 'operatingCashflow': 2396999936,\n",
       " 'earningsGrowth': -0.938,\n",
       " 'revenueGrowth': -0.182,\n",
       " 'grossMargins': 0.49967998,\n",
       " 'ebitdaMargins': 0.14171,\n",
       " 'operatingMargins': -0.017280001,\n",
       " 'financialCurrency': 'USD',\n",
       " 'trailingPegRatio': 1.1759}"
      ]
     },
     "execution_count": 18,
     "metadata": {},
     "output_type": "execute_result"
    }
   ],
   "source": [
    "amd_info"
   ]
  },
  {
   "cell_type": "code",
   "execution_count": 19,
   "id": "fbf04b74-2e12-4bde-8ac9-e7e6ae66cd85",
   "metadata": {},
   "outputs": [
    {
     "data": {
      "text/plain": [
       "'United States'"
      ]
     },
     "execution_count": 19,
     "metadata": {},
     "output_type": "execute_result"
    }
   ],
   "source": [
    "amd_info[\"country\"]"
   ]
  },
  {
   "cell_type": "code",
   "execution_count": 20,
   "id": "abb10103-5811-41d7-abaf-fc06f98ae05b",
   "metadata": {},
   "outputs": [
    {
     "data": {
      "text/plain": [
       "'Technology'"
      ]
     },
     "execution_count": 20,
     "metadata": {},
     "output_type": "execute_result"
    }
   ],
   "source": [
    "amd_info[\"sector\"]"
   ]
  },
  {
   "cell_type": "code",
   "execution_count": 21,
   "id": "6e4df8e7-c314-49ee-9d49-036e5784eae7",
   "metadata": {},
   "outputs": [
    {
     "data": {
      "text/plain": [
       "'408 749 4000'"
      ]
     },
     "execution_count": 21,
     "metadata": {},
     "output_type": "execute_result"
    }
   ],
   "source": [
    "amd_info[\"phone\"]"
   ]
  },
  {
   "cell_type": "code",
   "execution_count": 22,
   "id": "8e51c127-518b-4764-8153-96d975db0369",
   "metadata": {},
   "outputs": [
    {
     "data": {
      "text/plain": [
       "'https://www.amd.com'"
      ]
     },
     "execution_count": 22,
     "metadata": {},
     "output_type": "execute_result"
    }
   ],
   "source": [
    "amd_info[\"website\"]"
   ]
  },
  {
   "cell_type": "code",
   "execution_count": 23,
   "id": "39494791-0108-44ea-97fe-10c9264595ea",
   "metadata": {},
   "outputs": [],
   "source": [
    "amd_share_price_data = amd.history(period = \"max\")"
   ]
  },
  {
   "cell_type": "code",
   "execution_count": 24,
   "id": "22607bbf-2ca4-40f9-ad3c-594d973257e6",
   "metadata": {},
   "outputs": [
    {
     "data": {
      "text/html": [
       "<div>\n",
       "<style scoped>\n",
       "    .dataframe tbody tr th:only-of-type {\n",
       "        vertical-align: middle;\n",
       "    }\n",
       "\n",
       "    .dataframe tbody tr th {\n",
       "        vertical-align: top;\n",
       "    }\n",
       "\n",
       "    .dataframe thead th {\n",
       "        text-align: right;\n",
       "    }\n",
       "</style>\n",
       "<table border=\"1\" class=\"dataframe\">\n",
       "  <thead>\n",
       "    <tr style=\"text-align: right;\">\n",
       "      <th></th>\n",
       "      <th>Open</th>\n",
       "      <th>High</th>\n",
       "      <th>Low</th>\n",
       "      <th>Close</th>\n",
       "      <th>Volume</th>\n",
       "      <th>Dividends</th>\n",
       "      <th>Stock Splits</th>\n",
       "    </tr>\n",
       "    <tr>\n",
       "      <th>Date</th>\n",
       "      <th></th>\n",
       "      <th></th>\n",
       "      <th></th>\n",
       "      <th></th>\n",
       "      <th></th>\n",
       "      <th></th>\n",
       "      <th></th>\n",
       "    </tr>\n",
       "  </thead>\n",
       "  <tbody>\n",
       "    <tr>\n",
       "      <th>1980-03-17 00:00:00-05:00</th>\n",
       "      <td>0.0</td>\n",
       "      <td>3.302083</td>\n",
       "      <td>3.125000</td>\n",
       "      <td>3.145833</td>\n",
       "      <td>219600</td>\n",
       "      <td>0.0</td>\n",
       "      <td>0.0</td>\n",
       "    </tr>\n",
       "    <tr>\n",
       "      <th>1980-03-18 00:00:00-05:00</th>\n",
       "      <td>0.0</td>\n",
       "      <td>3.125000</td>\n",
       "      <td>2.937500</td>\n",
       "      <td>3.031250</td>\n",
       "      <td>727200</td>\n",
       "      <td>0.0</td>\n",
       "      <td>0.0</td>\n",
       "    </tr>\n",
       "    <tr>\n",
       "      <th>1980-03-19 00:00:00-05:00</th>\n",
       "      <td>0.0</td>\n",
       "      <td>3.083333</td>\n",
       "      <td>3.020833</td>\n",
       "      <td>3.041667</td>\n",
       "      <td>295200</td>\n",
       "      <td>0.0</td>\n",
       "      <td>0.0</td>\n",
       "    </tr>\n",
       "    <tr>\n",
       "      <th>1980-03-20 00:00:00-05:00</th>\n",
       "      <td>0.0</td>\n",
       "      <td>3.062500</td>\n",
       "      <td>3.010417</td>\n",
       "      <td>3.010417</td>\n",
       "      <td>159600</td>\n",
       "      <td>0.0</td>\n",
       "      <td>0.0</td>\n",
       "    </tr>\n",
       "    <tr>\n",
       "      <th>1980-03-21 00:00:00-05:00</th>\n",
       "      <td>0.0</td>\n",
       "      <td>3.020833</td>\n",
       "      <td>2.906250</td>\n",
       "      <td>2.916667</td>\n",
       "      <td>130800</td>\n",
       "      <td>0.0</td>\n",
       "      <td>0.0</td>\n",
       "    </tr>\n",
       "  </tbody>\n",
       "</table>\n",
       "</div>"
      ],
      "text/plain": [
       "                           Open      High       Low     Close  Volume  \\\n",
       "Date                                                                    \n",
       "1980-03-17 00:00:00-05:00   0.0  3.302083  3.125000  3.145833  219600   \n",
       "1980-03-18 00:00:00-05:00   0.0  3.125000  2.937500  3.031250  727200   \n",
       "1980-03-19 00:00:00-05:00   0.0  3.083333  3.020833  3.041667  295200   \n",
       "1980-03-20 00:00:00-05:00   0.0  3.062500  3.010417  3.010417  159600   \n",
       "1980-03-21 00:00:00-05:00   0.0  3.020833  2.906250  2.916667  130800   \n",
       "\n",
       "                           Dividends  Stock Splits  \n",
       "Date                                                \n",
       "1980-03-17 00:00:00-05:00        0.0           0.0  \n",
       "1980-03-18 00:00:00-05:00        0.0           0.0  \n",
       "1980-03-19 00:00:00-05:00        0.0           0.0  \n",
       "1980-03-20 00:00:00-05:00        0.0           0.0  \n",
       "1980-03-21 00:00:00-05:00        0.0           0.0  "
      ]
     },
     "execution_count": 24,
     "metadata": {},
     "output_type": "execute_result"
    }
   ],
   "source": [
    "amd_share_price_data.head()"
   ]
  },
  {
   "cell_type": "code",
   "execution_count": 25,
   "id": "66f6d9b7-77f7-4ad6-bf5c-f7b50c48218b",
   "metadata": {},
   "outputs": [],
   "source": [
    "amd_share_price_data.reset_index(inplace = True)"
   ]
  },
  {
   "cell_type": "code",
   "execution_count": 26,
   "id": "0167061c-e608-4f67-9708-a899f9cb8636",
   "metadata": {},
   "outputs": [
    {
     "data": {
      "text/plain": [
       "<Axes: xlabel='Date'>"
      ]
     },
     "execution_count": 26,
     "metadata": {},
     "output_type": "execute_result"
    },
    {
     "data": {
      "image/png": "[encoded data removed]",
      "text/plain": [
       "<Figure size 640x480 with 1 Axes>"
      ]
     },
     "metadata": {},
     "output_type": "display_data"
    }
   ],
   "source": [
    "amd_share_price_data.plot(x = \"Date\", y = \"High\")"
   ]
  },
  {
   "cell_type": "code",
   "execution_count": 27,
   "id": "b9d268d9-461c-42bf-97a5-68f01119a335",
   "metadata": {},
   "outputs": [
    {
     "data": {
      "text/plain": [
       "<Axes: xlabel='Date'>"
      ]
     },
     "execution_count": 27,
     "metadata": {},
     "output_type": "execute_result"
    },
    {
     "data": {
      "image/png": "[encoded data removed]",
      "text/plain": [
       "<Figure size 640x480 with 1 Axes>"
      ]
     },
     "metadata": {},
     "output_type": "display_data"
    }
   ],
   "source": [
    "amd_share_price_data.plot(x = \"Date\", y = \"Low\")"
   ]
  }
 ],
 "metadata": {
  "kernelspec": {
   "display_name": "Python 3 (ipykernel)",
   "language": "python",
   "name": "python3"
  },
  "language_info": {
   "codemirror_mode": {
    "name": "ipython",
    "version": 3
   },
   "file_extension": ".py",
   "mimetype": "text/x-python",
   "name": "python",
   "nbconvert_exporter": "python",
   "pygments_lexer": "ipython3",
   "version": "3.10.7"
  }
 },
 "nbformat": 4,
 "nbformat_minor": 5
}
