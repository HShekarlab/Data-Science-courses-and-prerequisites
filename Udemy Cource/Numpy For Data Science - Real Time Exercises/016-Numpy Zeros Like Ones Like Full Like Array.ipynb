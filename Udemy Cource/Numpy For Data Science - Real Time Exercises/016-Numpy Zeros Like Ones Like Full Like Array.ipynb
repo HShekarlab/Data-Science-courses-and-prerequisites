{
 "cells": [
  {
   "cell_type": "code",
   "execution_count": 1,
   "id": "1a209abe-fc30-4abc-b1e6-c0c21cb812b9",
   "metadata": {},
   "outputs": [],
   "source": [
    "import numpy as np\n",
    "from numpy import random"
   ]
  },
  {
   "cell_type": "markdown",
   "id": "fe1cee63-4bd7-460f-99e6-f7e181d7919f",
   "metadata": {},
   "source": [
    "#### Ones Like Array - It returns an array of Ones, with the same shape & type as of the given array."
   ]
  },
  {
   "cell_type": "markdown",
   "id": "072edf43-9817-4bea-b685-788af80bb3fb",
   "metadata": {},
   "source": [
    "#### Syntax :\n",
    "    np.ones_like(array, dtype)"
   ]
  },
  {
   "cell_type": "code",
   "execution_count": 2,
   "id": "46986adb-c3e8-44b8-a2d8-0137c75ed2b9",
   "metadata": {},
   "outputs": [
    {
     "data": {
      "text/plain": [
       "array([21, 16, 35, 97])"
      ]
     },
     "execution_count": 2,
     "metadata": {},
     "output_type": "execute_result"
    }
   ],
   "source": [
    "A = np.array([21, 16, 35, 97])\n",
    "A"
   ]
  },
  {
   "cell_type": "code",
   "execution_count": 3,
   "id": "94faf51d-92db-486b-a516-2ec5e8792f87",
   "metadata": {},
   "outputs": [
    {
     "data": {
      "text/plain": [
       "array([[0.15371475, 0.32262146, 0.55121378, 0.86331787, 0.58877129],\n",
       "       [0.74299444, 0.81425184, 0.96747712, 0.48360444, 0.66900493],\n",
       "       [0.9420932 , 0.33975431, 0.68807856, 0.01974301, 0.20492343],\n",
       "       [0.11837723, 0.65001016, 0.99965317, 0.31357126, 0.77784118]])"
      ]
     },
     "execution_count": 3,
     "metadata": {},
     "output_type": "execute_result"
    }
   ],
   "source": [
    "B = np.random.random((4, 5))\n",
    "B"
   ]
  },
  {
   "cell_type": "code",
   "execution_count": 4,
   "id": "046af683-d830-4fa7-9575-37d312e6e62f",
   "metadata": {},
   "outputs": [
    {
     "data": {
      "text/plain": [
       "array([[-0.42346863,  0.27246404],\n",
       "       [ 0.42631526, -0.56721753],\n",
       "       [-1.512789  , -0.99475241],\n",
       "       [-0.19769131, -0.190236  ],\n",
       "       [-0.32975632, -0.08726034]])"
      ]
     },
     "execution_count": 4,
     "metadata": {},
     "output_type": "execute_result"
    }
   ],
   "source": [
    "C = np.random.randn(5, 2)\n",
    "C"
   ]
  },
  {
   "cell_type": "code",
   "execution_count": 5,
   "id": "635f82b0-8c21-4847-88de-cad9e5d40cd3",
   "metadata": {},
   "outputs": [
    {
     "data": {
      "text/plain": [
       "array([[[ 0.43463676,  0.73431708,  0.999424  ,  1.14135401],\n",
       "        [ 0.10749933, -0.46166899, -0.19070032, -0.52148052],\n",
       "        [-0.75262574, -0.1611996 ,  0.37563986,  1.1022082 ]],\n",
       "\n",
       "       [[ 0.62315122, -1.43175499,  1.7090328 ,  0.68211378],\n",
       "        [-0.55032015,  0.11646189, -0.97194624, -2.0884795 ],\n",
       "        [-1.65631323, -1.93449254,  1.58457732,  0.18632336]]])"
      ]
     },
     "execution_count": 5,
     "metadata": {},
     "output_type": "execute_result"
    }
   ],
   "source": [
    "D = np.random.randn(2, 3, 4)\n",
    "D"
   ]
  },
  {
   "cell_type": "code",
   "execution_count": 6,
   "id": "8d9ee271-c463-4f3e-b20d-a67038cb8efb",
   "metadata": {},
   "outputs": [
    {
     "data": {
      "text/plain": [
       "array([1, 1, 1, 1])"
      ]
     },
     "execution_count": 6,
     "metadata": {},
     "output_type": "execute_result"
    }
   ],
   "source": [
    "np.ones_like(A)"
   ]
  },
  {
   "cell_type": "code",
   "execution_count": 7,
   "id": "10ab90b5-30e6-4f21-b140-b9507a46a215",
   "metadata": {},
   "outputs": [
    {
     "data": {
      "text/plain": [
       "array([[1., 1., 1., 1., 1.],\n",
       "       [1., 1., 1., 1., 1.],\n",
       "       [1., 1., 1., 1., 1.],\n",
       "       [1., 1., 1., 1., 1.]])"
      ]
     },
     "execution_count": 7,
     "metadata": {},
     "output_type": "execute_result"
    }
   ],
   "source": [
    "np.ones_like(B)"
   ]
  },
  {
   "cell_type": "code",
   "execution_count": 8,
   "id": "4a17cc2e-60e3-41d5-8e53-cc7f459df872",
   "metadata": {},
   "outputs": [
    {
     "data": {
      "text/plain": [
       "array([[1, 1, 1, 1, 1],\n",
       "       [1, 1, 1, 1, 1],\n",
       "       [1, 1, 1, 1, 1],\n",
       "       [1, 1, 1, 1, 1]])"
      ]
     },
     "execution_count": 8,
     "metadata": {},
     "output_type": "execute_result"
    }
   ],
   "source": [
    "np.ones_like(B, dtype= int)"
   ]
  },
  {
   "cell_type": "markdown",
   "id": "52eeaeb5-7073-4cd5-a9a5-5abb03dc8d8c",
   "metadata": {},
   "source": [
    "#### Zeros Like Array - It returns an array of Zeros, with the same shape & type as of the given array."
   ]
  },
  {
   "cell_type": "markdown",
   "id": "619efdb8-1c0a-4802-803a-3001c2d4d316",
   "metadata": {},
   "source": [
    "#### Syntax :\n",
    "    np.zeros_like(array, dtype)"
   ]
  },
  {
   "cell_type": "code",
   "execution_count": 9,
   "id": "4fc61e5b-7353-483c-9c73-7dd672a5708f",
   "metadata": {},
   "outputs": [
    {
     "data": {
      "text/plain": [
       "array([0, 0, 0, 0])"
      ]
     },
     "execution_count": 9,
     "metadata": {},
     "output_type": "execute_result"
    }
   ],
   "source": [
    "np.zeros_like(A)"
   ]
  },
  {
   "cell_type": "code",
   "execution_count": 10,
   "id": "65454979-6cba-40b8-8d9a-ad3da0b68bd2",
   "metadata": {},
   "outputs": [
    {
     "data": {
      "text/plain": [
       "array([[-0.42346863,  0.27246404],\n",
       "       [ 0.42631526, -0.56721753],\n",
       "       [-1.512789  , -0.99475241],\n",
       "       [-0.19769131, -0.190236  ],\n",
       "       [-0.32975632, -0.08726034]])"
      ]
     },
     "execution_count": 10,
     "metadata": {},
     "output_type": "execute_result"
    }
   ],
   "source": [
    "C"
   ]
  },
  {
   "cell_type": "code",
   "execution_count": 11,
   "id": "08e7f340-4abd-41a5-85be-607800a3d86a",
   "metadata": {},
   "outputs": [
    {
     "data": {
      "text/plain": [
       "array([[0., 0.],\n",
       "       [0., 0.],\n",
       "       [0., 0.],\n",
       "       [0., 0.],\n",
       "       [0., 0.]])"
      ]
     },
     "execution_count": 11,
     "metadata": {},
     "output_type": "execute_result"
    }
   ],
   "source": [
    "np.zeros_like(C)"
   ]
  },
  {
   "cell_type": "code",
   "execution_count": 12,
   "id": "f0c53369-0d78-4142-a090-d60155133e5d",
   "metadata": {},
   "outputs": [
    {
     "data": {
      "text/plain": [
       "array([[0, 0],\n",
       "       [0, 0],\n",
       "       [0, 0],\n",
       "       [0, 0],\n",
       "       [0, 0]])"
      ]
     },
     "execution_count": 12,
     "metadata": {},
     "output_type": "execute_result"
    }
   ],
   "source": [
    "np.zeros_like(C, dtype= int)"
   ]
  },
  {
   "cell_type": "markdown",
   "id": "487a9d3c-f7c2-47ba-ad51-3f61828fd385",
   "metadata": {},
   "source": [
    "#### Full Like Array - It returns a full array of Constant element, with the same shape & type as of the given array."
   ]
  },
  {
   "cell_type": "markdown",
   "id": "b3ebb563-7ddd-4d8b-908c-179634c456ec",
   "metadata": {},
   "source": [
    "#### Syntax :\n",
    "    np.full_like(array, fill_value, dtype)"
   ]
  },
  {
   "cell_type": "code",
   "execution_count": 13,
   "id": "5885cdf3-9a31-49b6-9cbf-4cc47eecef01",
   "metadata": {},
   "outputs": [
    {
     "data": {
      "text/plain": [
       "array([21, 16, 35, 97])"
      ]
     },
     "execution_count": 13,
     "metadata": {},
     "output_type": "execute_result"
    }
   ],
   "source": [
    "A"
   ]
  },
  {
   "cell_type": "code",
   "execution_count": 14,
   "id": "4568fcc5-c269-4823-b235-ca4d31c6c592",
   "metadata": {},
   "outputs": [
    {
     "data": {
      "text/plain": [
       "array([7, 7, 7, 7])"
      ]
     },
     "execution_count": 14,
     "metadata": {},
     "output_type": "execute_result"
    }
   ],
   "source": [
    "np.full_like(A, 7)"
   ]
  },
  {
   "cell_type": "code",
   "execution_count": 15,
   "id": "be7323f0-ebd1-49ab-8680-85f76d36b11f",
   "metadata": {},
   "outputs": [
    {
     "data": {
      "text/plain": [
       "array([[[ 0.43463676,  0.73431708,  0.999424  ,  1.14135401],\n",
       "        [ 0.10749933, -0.46166899, -0.19070032, -0.52148052],\n",
       "        [-0.75262574, -0.1611996 ,  0.37563986,  1.1022082 ]],\n",
       "\n",
       "       [[ 0.62315122, -1.43175499,  1.7090328 ,  0.68211378],\n",
       "        [-0.55032015,  0.11646189, -0.97194624, -2.0884795 ],\n",
       "        [-1.65631323, -1.93449254,  1.58457732,  0.18632336]]])"
      ]
     },
     "execution_count": 15,
     "metadata": {},
     "output_type": "execute_result"
    }
   ],
   "source": [
    "D"
   ]
  },
  {
   "cell_type": "code",
   "execution_count": 16,
   "id": "01a57373-410c-4199-90ee-8f444209be3d",
   "metadata": {},
   "outputs": [
    {
     "data": {
      "text/plain": [
       "array([[[75., 75., 75., 75.],\n",
       "        [75., 75., 75., 75.],\n",
       "        [75., 75., 75., 75.]],\n",
       "\n",
       "       [[75., 75., 75., 75.],\n",
       "        [75., 75., 75., 75.],\n",
       "        [75., 75., 75., 75.]]])"
      ]
     },
     "execution_count": 16,
     "metadata": {},
     "output_type": "execute_result"
    }
   ],
   "source": [
    "np.full_like(D, 75)"
   ]
  },
  {
   "cell_type": "code",
   "execution_count": 17,
   "id": "9017280d-6b01-43e7-bd27-f97fddd08b51",
   "metadata": {},
   "outputs": [
    {
     "data": {
      "text/plain": [
       "array([[[-75, -75, -75, -75],\n",
       "        [-75, -75, -75, -75],\n",
       "        [-75, -75, -75, -75]],\n",
       "\n",
       "       [[-75, -75, -75, -75],\n",
       "        [-75, -75, -75, -75],\n",
       "        [-75, -75, -75, -75]]])"
      ]
     },
     "execution_count": 17,
     "metadata": {},
     "output_type": "execute_result"
    }
   ],
   "source": [
    "np.full_like(D, -75, int)"
   ]
  }
 ],
 "metadata": {
  "kernelspec": {
   "display_name": "Python 3 (ipykernel)",
   "language": "python",
   "name": "python3"
  },
  "language_info": {
   "codemirror_mode": {
    "name": "ipython",
    "version": 3
   },
   "file_extension": ".py",
   "mimetype": "text/x-python",
   "name": "python",
   "nbconvert_exporter": "python",
   "pygments_lexer": "ipython3",
   "version": "3.10.7"
  }
 },
 "nbformat": 4,
 "nbformat_minor": 5
}
