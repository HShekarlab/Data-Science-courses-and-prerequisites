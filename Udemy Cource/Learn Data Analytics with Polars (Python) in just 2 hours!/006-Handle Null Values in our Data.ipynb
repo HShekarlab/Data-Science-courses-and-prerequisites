{
 "cells": [
  {
   "cell_type": "code",
   "execution_count": 1,
   "id": "5c256027-4b0f-416a-8bce-85e27c41735c",
   "metadata": {},
   "outputs": [],
   "source": [
    "import polars as pl"
   ]
  },
  {
   "cell_type": "code",
   "execution_count": 2,
   "id": "53baf902-6551-454d-a9eb-081257eb8b68",
   "metadata": {},
   "outputs": [],
   "source": [
    "df = pl.read_csv(\"weather.csv\", has_header= True)"
   ]
  },
  {
   "cell_type": "code",
   "execution_count": 3,
   "id": "9c75252c-4908-413a-8646-b92b6c8c4f32",
   "metadata": {},
   "outputs": [
    {
     "data": {
      "text/plain": [
       "16743"
      ]
     },
     "execution_count": 3,
     "metadata": {},
     "output_type": "execute_result"
    }
   ],
   "source": [
    "df_no_null = df.filter(df[\"Date.Full\"].is_not_null())\n",
    "len(df_no_null)"
   ]
  },
  {
   "cell_type": "code",
   "execution_count": 4,
   "id": "2806e3c2-9600-45aa-9f56-b94564884003",
   "metadata": {},
   "outputs": [
    {
     "data": {
      "text/plain": [
       "16743"
      ]
     },
     "execution_count": 4,
     "metadata": {},
     "output_type": "execute_result"
    }
   ],
   "source": [
    "df_no_null = df.filter( (df[\"Date.Full\"].is_not_null()) & df[\"Station.State\"].is_not_null() )\n",
    "len(df_no_null)"
   ]
  },
  {
   "cell_type": "code",
   "execution_count": 5,
   "id": "5df86a33-0784-4e61-ae8c-03bae0c8dc71",
   "metadata": {},
   "outputs": [
    {
     "data": {
      "text/plain": [
       "16743"
      ]
     },
     "execution_count": 5,
     "metadata": {},
     "output_type": "execute_result"
    }
   ],
   "source": [
    "df_no_null = df.filter( (df[\"Date.Full\"].is_not_null()) | df[\"Station.State\"].is_not_null() )\n",
    "len(df_no_null)"
   ]
  },
  {
   "cell_type": "code",
   "execution_count": 6,
   "id": "9a2f6363-b7fd-4507-87b4-1566b44f41ff",
   "metadata": {},
   "outputs": [
    {
     "data": {
      "text/html": [
       "<div><style>\n",
       ".dataframe > thead > tr,\n",
       ".dataframe > tbody > tr {\n",
       "  text-align: right;\n",
       "  white-space: pre-wrap;\n",
       "}\n",
       "</style>\n",
       "<small>shape: (3, 14)</small><table border=\"1\" class=\"dataframe\"><thead><tr><th>Data.Precipitation</th><th>Date.Full</th><th>Date.Month</th><th>Date.Week of</th><th>Date.Year</th><th>Station.City</th><th>Station.Code</th><th>Station.Location</th><th>Station.State</th><th>Data.Temperature.Avg Temp</th><th>Data.Temperature.Max Temp</th><th>Data.Temperature.Min Temp</th><th>Data.Wind.Direction</th><th>Data.Wind.Speed</th></tr><tr><td>f64</td><td>str</td><td>i64</td><td>i64</td><td>i64</td><td>str</td><td>str</td><td>str</td><td>str</td><td>i64</td><td>i64</td><td>i64</td><td>i64</td><td>f64</td></tr></thead><tbody><tr><td>0.0</td><td>&quot;2016-01-03&quot;</td><td>1</td><td>3</td><td>2016</td><td>&quot;Birmingham&quot;</td><td>&quot;BHM&quot;</td><td>&quot;Birmingham, AL…</td><td>&quot;Alabama&quot;</td><td>39</td><td>46</td><td>32</td><td>33</td><td>4.33</td></tr><tr><td>0.0</td><td>&quot;2016-01-03&quot;</td><td>1</td><td>3</td><td>2016</td><td>&quot;Huntsville&quot;</td><td>&quot;HSV&quot;</td><td>&quot;Huntsville, AL…</td><td>&quot;Alabama&quot;</td><td>39</td><td>47</td><td>31</td><td>32</td><td>3.86</td></tr><tr><td>0.16</td><td>&quot;2016-01-03&quot;</td><td>1</td><td>3</td><td>2016</td><td>&quot;Mobile&quot;</td><td>&quot;MOB&quot;</td><td>&quot;Mobile, AL&quot;</td><td>&quot;Alabama&quot;</td><td>46</td><td>51</td><td>41</td><td>35</td><td>9.73</td></tr></tbody></table></div>"
      ],
      "text/plain": [
       "shape: (3, 14)\n",
       "┌──────────────┬────────────┬────────────┬──────────────┬───┬──────────────┬──────────────┬──────────────┬─────────────┐\n",
       "│ Data.Precipi ┆ Date.Full  ┆ Date.Month ┆ Date.Week of ┆ … ┆ Data.Tempera ┆ Data.Tempera ┆ Data.Wind.Di ┆ Data.Wind.S │\n",
       "│ tation       ┆ ---        ┆ ---        ┆ ---          ┆   ┆ ture.Max     ┆ ture.Min     ┆ rection      ┆ peed        │\n",
       "│ ---          ┆ str        ┆ i64        ┆ i64          ┆   ┆ Temp         ┆ Temp         ┆ ---          ┆ ---         │\n",
       "│ f64          ┆            ┆            ┆              ┆   ┆ ---          ┆ ---          ┆ i64          ┆ f64         │\n",
       "│              ┆            ┆            ┆              ┆   ┆ i64          ┆ i64          ┆              ┆             │\n",
       "╞══════════════╪════════════╪════════════╪══════════════╪═══╪══════════════╪══════════════╪══════════════╪═════════════╡\n",
       "│ 0.0          ┆ 2016-01-03 ┆ 1          ┆ 3            ┆ … ┆ 46           ┆ 32           ┆ 33           ┆ 4.33        │\n",
       "│ 0.0          ┆ 2016-01-03 ┆ 1          ┆ 3            ┆ … ┆ 47           ┆ 31           ┆ 32           ┆ 3.86        │\n",
       "│ 0.16         ┆ 2016-01-03 ┆ 1          ┆ 3            ┆ … ┆ 51           ┆ 41           ┆ 35           ┆ 9.73        │\n",
       "└──────────────┴────────────┴────────────┴──────────────┴───┴──────────────┴──────────────┴──────────────┴─────────────┘"
      ]
     },
     "execution_count": 6,
     "metadata": {},
     "output_type": "execute_result"
    }
   ],
   "source": [
    "df_no_null_2 = df.drop_nulls(subset= [\"Date.Full\", \"Station.State\", \"Station.City\", \"Station.Code\"])\n",
    "df_no_null_2.head(3)"
   ]
  },
  {
   "cell_type": "code",
   "execution_count": 7,
   "id": "f751110d-b421-4183-811d-3a7f9c207395",
   "metadata": {},
   "outputs": [
    {
     "data": {
      "text/plain": [
       "16743"
      ]
     },
     "execution_count": 7,
     "metadata": {},
     "output_type": "execute_result"
    }
   ],
   "source": [
    "len(df_no_null_2)"
   ]
  },
  {
   "cell_type": "code",
   "execution_count": 8,
   "id": "2bd15085-d508-4762-8bf0-a86596a104e1",
   "metadata": {},
   "outputs": [
    {
     "data": {
      "text/html": [
       "<div><style>\n",
       ".dataframe > thead > tr,\n",
       ".dataframe > tbody > tr {\n",
       "  text-align: right;\n",
       "  white-space: pre-wrap;\n",
       "}\n",
       "</style>\n",
       "<small>shape: (3, 14)</small><table border=\"1\" class=\"dataframe\"><thead><tr><th>Data.Precipitation</th><th>Date.Full</th><th>Date.Month</th><th>Date.Week of</th><th>Date.Year</th><th>Station.City</th><th>Station.Code</th><th>Station.Location</th><th>Station.State</th><th>Data.Temperature.Avg Temp</th><th>Data.Temperature.Max Temp</th><th>Data.Temperature.Min Temp</th><th>Data.Wind.Direction</th><th>Data.Wind.Speed</th></tr><tr><td>f64</td><td>str</td><td>i64</td><td>i64</td><td>i64</td><td>str</td><td>str</td><td>str</td><td>str</td><td>i64</td><td>i64</td><td>i64</td><td>i64</td><td>f64</td></tr></thead><tbody><tr><td>0.0</td><td>&quot;2016-01-03&quot;</td><td>1</td><td>3</td><td>2016</td><td>&quot;Birmingham&quot;</td><td>&quot;BHM&quot;</td><td>&quot;Birmingham, AL…</td><td>&quot;Alabama&quot;</td><td>39</td><td>46</td><td>32</td><td>33</td><td>4.33</td></tr><tr><td>0.0</td><td>&quot;2016-01-03&quot;</td><td>1</td><td>3</td><td>2016</td><td>&quot;Huntsville&quot;</td><td>&quot;HSV&quot;</td><td>&quot;Huntsville, AL…</td><td>&quot;Alabama&quot;</td><td>39</td><td>47</td><td>31</td><td>32</td><td>3.86</td></tr><tr><td>0.16</td><td>&quot;2016-01-03&quot;</td><td>1</td><td>3</td><td>2016</td><td>&quot;Mobile&quot;</td><td>&quot;MOB&quot;</td><td>&quot;Mobile, AL&quot;</td><td>&quot;Alabama&quot;</td><td>46</td><td>51</td><td>41</td><td>35</td><td>9.73</td></tr></tbody></table></div>"
      ],
      "text/plain": [
       "shape: (3, 14)\n",
       "┌──────────────┬────────────┬────────────┬──────────────┬───┬──────────────┬──────────────┬──────────────┬─────────────┐\n",
       "│ Data.Precipi ┆ Date.Full  ┆ Date.Month ┆ Date.Week of ┆ … ┆ Data.Tempera ┆ Data.Tempera ┆ Data.Wind.Di ┆ Data.Wind.S │\n",
       "│ tation       ┆ ---        ┆ ---        ┆ ---          ┆   ┆ ture.Max     ┆ ture.Min     ┆ rection      ┆ peed        │\n",
       "│ ---          ┆ str        ┆ i64        ┆ i64          ┆   ┆ Temp         ┆ Temp         ┆ ---          ┆ ---         │\n",
       "│ f64          ┆            ┆            ┆              ┆   ┆ ---          ┆ ---          ┆ i64          ┆ f64         │\n",
       "│              ┆            ┆            ┆              ┆   ┆ i64          ┆ i64          ┆              ┆             │\n",
       "╞══════════════╪════════════╪════════════╪══════════════╪═══╪══════════════╪══════════════╪══════════════╪═════════════╡\n",
       "│ 0.0          ┆ 2016-01-03 ┆ 1          ┆ 3            ┆ … ┆ 46           ┆ 32           ┆ 33           ┆ 4.33        │\n",
       "│ 0.0          ┆ 2016-01-03 ┆ 1          ┆ 3            ┆ … ┆ 47           ┆ 31           ┆ 32           ┆ 3.86        │\n",
       "│ 0.16         ┆ 2016-01-03 ┆ 1          ┆ 3            ┆ … ┆ 51           ┆ 41           ┆ 35           ┆ 9.73        │\n",
       "└──────────────┴────────────┴────────────┴──────────────┴───┴──────────────┴──────────────┴──────────────┴─────────────┘"
      ]
     },
     "execution_count": 8,
     "metadata": {},
     "output_type": "execute_result"
    }
   ],
   "source": [
    "df.with_columns(pl.col(\"Station.City\").fill_null(pl.lit(\"NO City\"))).head(3)"
   ]
  },
  {
   "cell_type": "code",
   "execution_count": 9,
   "id": "1dff88bb-ef76-450a-83e4-87ec8346d0ac",
   "metadata": {},
   "outputs": [
    {
     "data": {
      "text/html": [
       "<div><style>\n",
       ".dataframe > thead > tr,\n",
       ".dataframe > tbody > tr {\n",
       "  text-align: right;\n",
       "  white-space: pre-wrap;\n",
       "}\n",
       "</style>\n",
       "<small>shape: (3, 14)</small><table border=\"1\" class=\"dataframe\"><thead><tr><th>Data.Precipitation</th><th>Date.Full</th><th>Date.Month</th><th>Date.Week of</th><th>Date.Year</th><th>Station.City</th><th>Station.Code</th><th>Station.Location</th><th>Station.State</th><th>Data.Temperature.Avg Temp</th><th>Data.Temperature.Max Temp</th><th>Data.Temperature.Min Temp</th><th>Data.Wind.Direction</th><th>Data.Wind.Speed</th></tr><tr><td>f64</td><td>str</td><td>i64</td><td>i64</td><td>i64</td><td>str</td><td>str</td><td>str</td><td>str</td><td>f64</td><td>i64</td><td>i64</td><td>i64</td><td>f64</td></tr></thead><tbody><tr><td>0.0</td><td>&quot;2016-01-03&quot;</td><td>1</td><td>3</td><td>2016</td><td>&quot;Birmingham&quot;</td><td>&quot;BHM&quot;</td><td>&quot;Birmingham, AL…</td><td>&quot;Alabama&quot;</td><td>39.0</td><td>46</td><td>32</td><td>33</td><td>4.33</td></tr><tr><td>0.0</td><td>&quot;2016-01-03&quot;</td><td>1</td><td>3</td><td>2016</td><td>&quot;Huntsville&quot;</td><td>&quot;HSV&quot;</td><td>&quot;Huntsville, AL…</td><td>&quot;Alabama&quot;</td><td>39.0</td><td>47</td><td>31</td><td>32</td><td>3.86</td></tr><tr><td>0.16</td><td>&quot;2016-01-03&quot;</td><td>1</td><td>3</td><td>2016</td><td>&quot;Mobile&quot;</td><td>&quot;MOB&quot;</td><td>&quot;Mobile, AL&quot;</td><td>&quot;Alabama&quot;</td><td>46.0</td><td>51</td><td>41</td><td>35</td><td>9.73</td></tr></tbody></table></div>"
      ],
      "text/plain": [
       "shape: (3, 14)\n",
       "┌──────────────┬────────────┬────────────┬──────────────┬───┬──────────────┬──────────────┬──────────────┬─────────────┐\n",
       "│ Data.Precipi ┆ Date.Full  ┆ Date.Month ┆ Date.Week of ┆ … ┆ Data.Tempera ┆ Data.Tempera ┆ Data.Wind.Di ┆ Data.Wind.S │\n",
       "│ tation       ┆ ---        ┆ ---        ┆ ---          ┆   ┆ ture.Max     ┆ ture.Min     ┆ rection      ┆ peed        │\n",
       "│ ---          ┆ str        ┆ i64        ┆ i64          ┆   ┆ Temp         ┆ Temp         ┆ ---          ┆ ---         │\n",
       "│ f64          ┆            ┆            ┆              ┆   ┆ ---          ┆ ---          ┆ i64          ┆ f64         │\n",
       "│              ┆            ┆            ┆              ┆   ┆ i64          ┆ i64          ┆              ┆             │\n",
       "╞══════════════╪════════════╪════════════╪══════════════╪═══╪══════════════╪══════════════╪══════════════╪═════════════╡\n",
       "│ 0.0          ┆ 2016-01-03 ┆ 1          ┆ 3            ┆ … ┆ 46           ┆ 32           ┆ 33           ┆ 4.33        │\n",
       "│ 0.0          ┆ 2016-01-03 ┆ 1          ┆ 3            ┆ … ┆ 47           ┆ 31           ┆ 32           ┆ 3.86        │\n",
       "│ 0.16         ┆ 2016-01-03 ┆ 1          ┆ 3            ┆ … ┆ 51           ┆ 41           ┆ 35           ┆ 9.73        │\n",
       "└──────────────┴────────────┴────────────┴──────────────┴───┴──────────────┴──────────────┴──────────────┴─────────────┘"
      ]
     },
     "execution_count": 9,
     "metadata": {},
     "output_type": "execute_result"
    }
   ],
   "source": [
    "df.with_columns(pl.col(\"Data.Temperature.Avg Temp\").fill_null(pl.median(\"Data.Temperature.Avg Temp\"))).head(3)"
   ]
  },
  {
   "cell_type": "code",
   "execution_count": 10,
   "id": "adb08eb2-4f90-4c4f-b6fe-636ce5bc4e83",
   "metadata": {},
   "outputs": [
    {
     "data": {
      "text/html": [
       "<div><style>\n",
       ".dataframe > thead > tr,\n",
       ".dataframe > tbody > tr {\n",
       "  text-align: right;\n",
       "  white-space: pre-wrap;\n",
       "}\n",
       "</style>\n",
       "<small>shape: (16_743, 14)</small><table border=\"1\" class=\"dataframe\"><thead><tr><th>Data.Precipitation</th><th>Date.Full</th><th>Date.Month</th><th>Date.Week of</th><th>Date.Year</th><th>Station.City</th><th>Station.Code</th><th>Station.Location</th><th>Station.State</th><th>Data.Temperature.Avg Temp</th><th>Data.Temperature.Max Temp</th><th>Data.Temperature.Min Temp</th><th>Data.Wind.Direction</th><th>Data.Wind.Speed</th></tr><tr><td>f64</td><td>str</td><td>i64</td><td>i64</td><td>i64</td><td>str</td><td>str</td><td>str</td><td>str</td><td>i64</td><td>i64</td><td>i64</td><td>i64</td><td>f64</td></tr></thead><tbody><tr><td>0.0</td><td>&quot;2016-01-03&quot;</td><td>1</td><td>3</td><td>2016</td><td>&quot;Birmingham&quot;</td><td>&quot;BHM&quot;</td><td>&quot;Birmingham, AL…</td><td>&quot;Alabama&quot;</td><td>39</td><td>46</td><td>32</td><td>33</td><td>4.33</td></tr><tr><td>0.0</td><td>&quot;2016-01-03&quot;</td><td>1</td><td>3</td><td>2016</td><td>&quot;Huntsville&quot;</td><td>&quot;HSV&quot;</td><td>&quot;Huntsville, AL…</td><td>&quot;Alabama&quot;</td><td>39</td><td>47</td><td>31</td><td>32</td><td>3.86</td></tr><tr><td>0.16</td><td>&quot;2016-01-03&quot;</td><td>1</td><td>3</td><td>2016</td><td>&quot;Mobile&quot;</td><td>&quot;MOB&quot;</td><td>&quot;Mobile, AL&quot;</td><td>&quot;Alabama&quot;</td><td>46</td><td>51</td><td>41</td><td>35</td><td>9.73</td></tr><tr><td>0.0</td><td>&quot;2016-01-03&quot;</td><td>1</td><td>3</td><td>2016</td><td>&quot;Montgomery&quot;</td><td>&quot;MGM&quot;</td><td>&quot;Montgomery, AL…</td><td>&quot;Alabama&quot;</td><td>45</td><td>52</td><td>38</td><td>32</td><td>6.86</td></tr><tr><td>0.01</td><td>&quot;2016-01-03&quot;</td><td>1</td><td>3</td><td>2016</td><td>&quot;Anchorage&quot;</td><td>&quot;ANC&quot;</td><td>&quot;Anchorage, AK&quot;</td><td>&quot;Alaska&quot;</td><td>34</td><td>38</td><td>29</td><td>19</td><td>7.8</td></tr><tr><td>0.09</td><td>&quot;2016-01-03&quot;</td><td>1</td><td>3</td><td>2016</td><td>&quot;Annette&quot;</td><td>&quot;ANN&quot;</td><td>&quot;Annette, AK&quot;</td><td>&quot;Alaska&quot;</td><td>38</td><td>44</td><td>31</td><td>9</td><td>8.7</td></tr><tr><td>0.05</td><td>&quot;2016-01-03&quot;</td><td>1</td><td>3</td><td>2016</td><td>&quot;Bethel&quot;</td><td>&quot;BET&quot;</td><td>&quot;Bethel, AK&quot;</td><td>&quot;Alaska&quot;</td><td>30</td><td>36</td><td>24</td><td>9</td><td>16.46</td></tr><tr><td>0.15</td><td>&quot;2016-01-03&quot;</td><td>1</td><td>3</td><td>2016</td><td>&quot;Bettles&quot;</td><td>&quot;BTT&quot;</td><td>&quot;Bettles, AK&quot;</td><td>&quot;Alaska&quot;</td><td>22</td><td>32</td><td>9</td><td>2</td><td>3.1</td></tr><tr><td>0.6</td><td>&quot;2016-01-03&quot;</td><td>1</td><td>3</td><td>2016</td><td>&quot;Cold Bay&quot;</td><td>&quot;CDB&quot;</td><td>&quot;Cold Bay, AK&quot;</td><td>&quot;Alaska&quot;</td><td>34</td><td>36</td><td>31</td><td>20</td><td>9.1</td></tr><tr><td>2.15</td><td>&quot;2016-01-03&quot;</td><td>1</td><td>3</td><td>2016</td><td>&quot;Cordova&quot;</td><td>&quot;CDV&quot;</td><td>&quot;Cordova, AK&quot;</td><td>&quot;Alaska&quot;</td><td>38</td><td>43</td><td>33</td><td>9</td><td>9.76</td></tr><tr><td>0.0</td><td>&quot;2016-01-03&quot;</td><td>1</td><td>3</td><td>2016</td><td>&quot;Delta Junction…</td><td>&quot;BIG&quot;</td><td>&quot;Delta Junction…</td><td>&quot;Alaska&quot;</td><td>31</td><td>39</td><td>23</td><td>14</td><td>17.9</td></tr><tr><td>0.0</td><td>&quot;2016-01-03&quot;</td><td>1</td><td>3</td><td>2016</td><td>&quot;Fairbanks&quot;</td><td>&quot;FAI&quot;</td><td>&quot;Fairbanks, AK&quot;</td><td>&quot;Alaska&quot;</td><td>14</td><td>30</td><td>4</td><td>2</td><td>2.2</td></tr><tr><td>&hellip;</td><td>&hellip;</td><td>&hellip;</td><td>&hellip;</td><td>&hellip;</td><td>&hellip;</td><td>&hellip;</td><td>&hellip;</td><td>&hellip;</td><td>&hellip;</td><td>&hellip;</td><td>&hellip;</td><td>&hellip;</td><td>&hellip;</td></tr><tr><td>1.03</td><td>&quot;2017-01-01&quot;</td><td>1</td><td>1</td><td>2017</td><td>&quot;Charleston&quot;</td><td>&quot;CRW&quot;</td><td>&quot;Charleston, WV…</td><td>&quot;West Virginia&quot;</td><td>44</td><td>53</td><td>34</td><td>23</td><td>6.9</td></tr><tr><td>1.15</td><td>&quot;2017-01-01&quot;</td><td>1</td><td>1</td><td>2017</td><td>&quot;Elkins&quot;</td><td>&quot;EKN&quot;</td><td>&quot;Elkins, WV&quot;</td><td>&quot;West Virginia&quot;</td><td>38</td><td>49</td><td>27</td><td>23</td><td>7.08</td></tr><tr><td>0.61</td><td>&quot;2017-01-01&quot;</td><td>1</td><td>1</td><td>2017</td><td>&quot;Huntington&quot;</td><td>&quot;HTS&quot;</td><td>&quot;Huntington, WV…</td><td>&quot;West Virginia&quot;</td><td>44</td><td>53</td><td>35</td><td>22</td><td>7.68</td></tr><tr><td>0.35</td><td>&quot;2017-01-01&quot;</td><td>1</td><td>1</td><td>2017</td><td>&quot;Green Bay&quot;</td><td>&quot;GRB&quot;</td><td>&quot;Green Bay, WI&quot;</td><td>&quot;Wisconsin&quot;</td><td>28</td><td>34</td><td>21</td><td>24</td><td>10.53</td></tr><tr><td>0.04</td><td>&quot;2017-01-01&quot;</td><td>1</td><td>1</td><td>2017</td><td>&quot;La Crosse&quot;</td><td>&quot;LSE&quot;</td><td>&quot;La Crosse, WI&quot;</td><td>&quot;Wisconsin&quot;</td><td>28</td><td>35</td><td>20</td><td>25</td><td>9.51</td></tr><tr><td>0.11</td><td>&quot;2017-01-01&quot;</td><td>1</td><td>1</td><td>2017</td><td>&quot;Madison&quot;</td><td>&quot;MSN&quot;</td><td>&quot;Madison, WI&quot;</td><td>&quot;Wisconsin&quot;</td><td>27</td><td>34</td><td>19</td><td>25</td><td>6.33</td></tr><tr><td>0.15</td><td>&quot;2017-01-01&quot;</td><td>1</td><td>1</td><td>2017</td><td>&quot;Milwaukee&quot;</td><td>&quot;MKE&quot;</td><td>&quot;Milwaukee, WI&quot;</td><td>&quot;Wisconsin&quot;</td><td>31</td><td>38</td><td>23</td><td>25</td><td>10.98</td></tr><tr><td>0.08</td><td>&quot;2017-01-01&quot;</td><td>1</td><td>1</td><td>2017</td><td>&quot;Casper&quot;</td><td>&quot;CPR&quot;</td><td>&quot;Casper, WY&quot;</td><td>&quot;Wyoming&quot;</td><td>23</td><td>32</td><td>15</td><td>23</td><td>19.98</td></tr><tr><td>0.0</td><td>&quot;2017-01-01&quot;</td><td>1</td><td>1</td><td>2017</td><td>&quot;Cheyenne&quot;</td><td>&quot;CYS&quot;</td><td>&quot;Cheyenne, WY&quot;</td><td>&quot;Wyoming&quot;</td><td>32</td><td>42</td><td>21</td><td>26</td><td>15.16</td></tr><tr><td>0.0</td><td>&quot;2017-01-01&quot;</td><td>1</td><td>1</td><td>2017</td><td>&quot;Lander&quot;</td><td>&quot;LND&quot;</td><td>&quot;Lander, WY&quot;</td><td>&quot;Wyoming&quot;</td><td>17</td><td>29</td><td>4</td><td>26</td><td>1.65</td></tr><tr><td>0.06</td><td>&quot;2017-01-01&quot;</td><td>1</td><td>1</td><td>2017</td><td>&quot;Rawlins&quot;</td><td>&quot;RWL&quot;</td><td>&quot;Rawlins, WY&quot;</td><td>&quot;Wyoming&quot;</td><td>23</td><td>31</td><td>13</td><td>24</td><td>18.16</td></tr><tr><td>0.1</td><td>&quot;2017-01-01&quot;</td><td>1</td><td>1</td><td>2017</td><td>&quot;Sheridan&quot;</td><td>&quot;SHR&quot;</td><td>&quot;Sheridan, WY&quot;</td><td>&quot;Wyoming&quot;</td><td>21</td><td>34</td><td>8</td><td>23</td><td>7.51</td></tr></tbody></table></div>"
      ],
      "text/plain": [
       "shape: (16_743, 14)\n",
       "┌──────────────┬────────────┬────────────┬──────────────┬───┬──────────────┬──────────────┬──────────────┬─────────────┐\n",
       "│ Data.Precipi ┆ Date.Full  ┆ Date.Month ┆ Date.Week of ┆ … ┆ Data.Tempera ┆ Data.Tempera ┆ Data.Wind.Di ┆ Data.Wind.S │\n",
       "│ tation       ┆ ---        ┆ ---        ┆ ---          ┆   ┆ ture.Max     ┆ ture.Min     ┆ rection      ┆ peed        │\n",
       "│ ---          ┆ str        ┆ i64        ┆ i64          ┆   ┆ Temp         ┆ Temp         ┆ ---          ┆ ---         │\n",
       "│ f64          ┆            ┆            ┆              ┆   ┆ ---          ┆ ---          ┆ i64          ┆ f64         │\n",
       "│              ┆            ┆            ┆              ┆   ┆ i64          ┆ i64          ┆              ┆             │\n",
       "╞══════════════╪════════════╪════════════╪══════════════╪═══╪══════════════╪══════════════╪══════════════╪═════════════╡\n",
       "│ 0.0          ┆ 2016-01-03 ┆ 1          ┆ 3            ┆ … ┆ 46           ┆ 32           ┆ 33           ┆ 4.33        │\n",
       "│ 0.0          ┆ 2016-01-03 ┆ 1          ┆ 3            ┆ … ┆ 47           ┆ 31           ┆ 32           ┆ 3.86        │\n",
       "│ 0.16         ┆ 2016-01-03 ┆ 1          ┆ 3            ┆ … ┆ 51           ┆ 41           ┆ 35           ┆ 9.73        │\n",
       "│ 0.0          ┆ 2016-01-03 ┆ 1          ┆ 3            ┆ … ┆ 52           ┆ 38           ┆ 32           ┆ 6.86        │\n",
       "│ 0.01         ┆ 2016-01-03 ┆ 1          ┆ 3            ┆ … ┆ 38           ┆ 29           ┆ 19           ┆ 7.8         │\n",
       "│ …            ┆ …          ┆ …          ┆ …            ┆ … ┆ …            ┆ …            ┆ …            ┆ …           │\n",
       "│ 0.08         ┆ 2017-01-01 ┆ 1          ┆ 1            ┆ … ┆ 32           ┆ 15           ┆ 23           ┆ 19.98       │\n",
       "│ 0.0          ┆ 2017-01-01 ┆ 1          ┆ 1            ┆ … ┆ 42           ┆ 21           ┆ 26           ┆ 15.16       │\n",
       "│ 0.0          ┆ 2017-01-01 ┆ 1          ┆ 1            ┆ … ┆ 29           ┆ 4            ┆ 26           ┆ 1.65        │\n",
       "│ 0.06         ┆ 2017-01-01 ┆ 1          ┆ 1            ┆ … ┆ 31           ┆ 13           ┆ 24           ┆ 18.16       │\n",
       "│ 0.1          ┆ 2017-01-01 ┆ 1          ┆ 1            ┆ … ┆ 34           ┆ 8            ┆ 23           ┆ 7.51        │\n",
       "└──────────────┴────────────┴────────────┴──────────────┴───┴──────────────┴──────────────┴──────────────┴─────────────┘"
      ]
     },
     "execution_count": 10,
     "metadata": {},
     "output_type": "execute_result"
    }
   ],
   "source": [
    "df.fill_nan(750)"
   ]
  }
 ],
 "metadata": {
  "kernelspec": {
   "display_name": "Python 3 (ipykernel)",
   "language": "python",
   "name": "python3"
  },
  "language_info": {
   "codemirror_mode": {
    "name": "ipython",
    "version": 3
   },
   "file_extension": ".py",
   "mimetype": "text/x-python",
   "name": "python",
   "nbconvert_exporter": "python",
   "pygments_lexer": "ipython3",
   "version": "3.12.1"
  }
 },
 "nbformat": 4,
 "nbformat_minor": 5
}
