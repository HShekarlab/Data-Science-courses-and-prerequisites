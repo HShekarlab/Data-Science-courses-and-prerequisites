{
 "cells": [
  {
   "cell_type": "code",
   "execution_count": 1,
   "id": "211e5486-c7df-4340-967a-c4b20a3eb8f3",
   "metadata": {},
   "outputs": [],
   "source": [
    "import polars as pl"
   ]
  },
  {
   "cell_type": "code",
   "execution_count": 2,
   "id": "a1036d38-fb2f-4016-b8a9-42c07fb5ae27",
   "metadata": {},
   "outputs": [],
   "source": [
    "df = pl.read_csv(\"weather.csv\", has_header= True)"
   ]
  },
  {
   "cell_type": "code",
   "execution_count": 3,
   "id": "061a8ae8-e45b-488b-aee0-2ff9995c6a9e",
   "metadata": {},
   "outputs": [
    {
     "data": {
      "text/html": [
       "<div><style>\n",
       ".dataframe > thead > tr,\n",
       ".dataframe > tbody > tr {\n",
       "  text-align: right;\n",
       "  white-space: pre-wrap;\n",
       "}\n",
       "</style>\n",
       "<small>shape: (5, 2)</small><table border=\"1\" class=\"dataframe\"><thead><tr><th>Data.Temperature.Avg Temp</th><th>Temperature</th></tr><tr><td>i64</td><td>str</td></tr></thead><tbody><tr><td>39</td><td>&quot;Warm&quot;</td></tr><tr><td>39</td><td>&quot;Warm&quot;</td></tr><tr><td>46</td><td>&quot;Hot&quot;</td></tr><tr><td>45</td><td>&quot;Hot&quot;</td></tr><tr><td>34</td><td>&quot;Warm&quot;</td></tr></tbody></table></div>"
      ],
      "text/plain": [
       "shape: (5, 2)\n",
       "┌───────────────────────────┬─────────────┐\n",
       "│ Data.Temperature.Avg Temp ┆ Temperature │\n",
       "│ ---                       ┆ ---         │\n",
       "│ i64                       ┆ str         │\n",
       "╞═══════════════════════════╪═════════════╡\n",
       "│ 39                        ┆ Warm        │\n",
       "│ 39                        ┆ Warm        │\n",
       "│ 46                        ┆ Hot         │\n",
       "│ 45                        ┆ Hot         │\n",
       "│ 34                        ┆ Warm        │\n",
       "└───────────────────────────┴─────────────┘"
      ]
     },
     "execution_count": 3,
     "metadata": {},
     "output_type": "execute_result"
    }
   ],
   "source": [
    "df.select(\n",
    "          pl.col(\"Data.Temperature.Avg Temp\"),\n",
    "          pl.when(pl.col(\"Data.Temperature.Avg Temp\") > 40)\n",
    "            .then(pl.lit(\"Hot\"))\n",
    "            .otherwise(pl.lit(\"Warm\"))\n",
    "          .alias(\"Temperature\")\n",
    ").head(5)"
   ]
  }
 ],
 "metadata": {
  "kernelspec": {
   "display_name": "Python 3 (ipykernel)",
   "language": "python",
   "name": "python3"
  },
  "language_info": {
   "codemirror_mode": {
    "name": "ipython",
    "version": 3
   },
   "file_extension": ".py",
   "mimetype": "text/x-python",
   "name": "python",
   "nbconvert_exporter": "python",
   "pygments_lexer": "ipython3",
   "version": "3.12.1"
  }
 },
 "nbformat": 4,
 "nbformat_minor": 5
}
