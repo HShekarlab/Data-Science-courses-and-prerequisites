{
 "cells": [
  {
   "cell_type": "code",
   "execution_count": 1,
   "id": "407c3ab3-fc64-4131-b8a0-cdd335ed831e",
   "metadata": {},
   "outputs": [],
   "source": [
    "import polars as pl"
   ]
  },
  {
   "cell_type": "code",
   "execution_count": 2,
   "id": "427233f9-804f-43b5-8c57-fe9ba0ff8ac7",
   "metadata": {},
   "outputs": [],
   "source": [
    "df = pl.read_csv(\"weather.csv\", has_header= True)"
   ]
  },
  {
   "cell_type": "code",
   "execution_count": 3,
   "id": "b096e603-d029-4494-b75d-884fa35d5e8b",
   "metadata": {},
   "outputs": [
    {
     "data": {
      "text/html": [
       "<div><style>\n",
       ".dataframe > thead > tr,\n",
       ".dataframe > tbody > tr {\n",
       "  text-align: right;\n",
       "  white-space: pre-wrap;\n",
       "}\n",
       "</style>\n",
       "<small>shape: (3, 14)</small><table border=\"1\" class=\"dataframe\"><thead><tr><th>Data.Precipitation</th><th>Date.Full</th><th>Date.Month</th><th>Date.Week of</th><th>Date.Year</th><th>Station.City</th><th>Station.Code</th><th>Station.Location</th><th>Station.State</th><th>Data.Temperature.Avg Temp</th><th>Data.Temperature.Max Temp</th><th>Data.Temperature.Min Temp</th><th>Data.Wind.Direction</th><th>Data.Wind.Speed</th></tr><tr><td>f64</td><td>str</td><td>i64</td><td>i64</td><td>i64</td><td>str</td><td>str</td><td>str</td><td>str</td><td>i64</td><td>i64</td><td>i64</td><td>i64</td><td>f64</td></tr></thead><tbody><tr><td>0.01</td><td>&quot;2016-01-03&quot;</td><td>1</td><td>3</td><td>2016</td><td>&quot;Anchorage&quot;</td><td>&quot;ANC&quot;</td><td>&quot;Anchorage, AK&quot;</td><td>&quot;Alaska&quot;</td><td>34</td><td>38</td><td>29</td><td>19</td><td>7.8</td></tr><tr><td>0.09</td><td>&quot;2016-01-03&quot;</td><td>1</td><td>3</td><td>2016</td><td>&quot;Annette&quot;</td><td>&quot;ANN&quot;</td><td>&quot;Annette, AK&quot;</td><td>&quot;Alaska&quot;</td><td>38</td><td>44</td><td>31</td><td>9</td><td>8.7</td></tr><tr><td>0.05</td><td>&quot;2016-01-03&quot;</td><td>1</td><td>3</td><td>2016</td><td>&quot;Bethel&quot;</td><td>&quot;BET&quot;</td><td>&quot;Bethel, AK&quot;</td><td>&quot;Alaska&quot;</td><td>30</td><td>36</td><td>24</td><td>9</td><td>16.46</td></tr></tbody></table></div>"
      ],
      "text/plain": [
       "shape: (3, 14)\n",
       "┌──────────────┬────────────┬────────────┬──────────────┬───┬──────────────┬──────────────┬──────────────┬─────────────┐\n",
       "│ Data.Precipi ┆ Date.Full  ┆ Date.Month ┆ Date.Week of ┆ … ┆ Data.Tempera ┆ Data.Tempera ┆ Data.Wind.Di ┆ Data.Wind.S │\n",
       "│ tation       ┆ ---        ┆ ---        ┆ ---          ┆   ┆ ture.Max     ┆ ture.Min     ┆ rection      ┆ peed        │\n",
       "│ ---          ┆ str        ┆ i64        ┆ i64          ┆   ┆ Temp         ┆ Temp         ┆ ---          ┆ ---         │\n",
       "│ f64          ┆            ┆            ┆              ┆   ┆ ---          ┆ ---          ┆ i64          ┆ f64         │\n",
       "│              ┆            ┆            ┆              ┆   ┆ i64          ┆ i64          ┆              ┆             │\n",
       "╞══════════════╪════════════╪════════════╪══════════════╪═══╪══════════════╪══════════════╪══════════════╪═════════════╡\n",
       "│ 0.01         ┆ 2016-01-03 ┆ 1          ┆ 3            ┆ … ┆ 38           ┆ 29           ┆ 19           ┆ 7.8         │\n",
       "│ 0.09         ┆ 2016-01-03 ┆ 1          ┆ 3            ┆ … ┆ 44           ┆ 31           ┆ 9            ┆ 8.7         │\n",
       "│ 0.05         ┆ 2016-01-03 ┆ 1          ┆ 3            ┆ … ┆ 36           ┆ 24           ┆ 9            ┆ 16.46       │\n",
       "└──────────────┴────────────┴────────────┴──────────────┴───┴──────────────┴──────────────┴──────────────┴─────────────┘"
      ]
     },
     "execution_count": 3,
     "metadata": {},
     "output_type": "execute_result"
    }
   ],
   "source": [
    "df.filter(pl.col(\"Station.State\") == \"Alaska\").head(3)"
   ]
  },
  {
   "cell_type": "code",
   "execution_count": 4,
   "id": "71708175-ca1f-408c-a3cb-e8a645ce9635",
   "metadata": {},
   "outputs": [
    {
     "data": {
      "text/html": [
       "<div><style>\n",
       ".dataframe > thead > tr,\n",
       ".dataframe > tbody > tr {\n",
       "  text-align: right;\n",
       "  white-space: pre-wrap;\n",
       "}\n",
       "</style>\n",
       "<small>shape: (3, 14)</small><table border=\"1\" class=\"dataframe\"><thead><tr><th>Data.Precipitation</th><th>Date.Full</th><th>Date.Month</th><th>Date.Week of</th><th>Date.Year</th><th>Station.City</th><th>Station.Code</th><th>Station.Location</th><th>Station.State</th><th>Data.Temperature.Avg Temp</th><th>Data.Temperature.Max Temp</th><th>Data.Temperature.Min Temp</th><th>Data.Wind.Direction</th><th>Data.Wind.Speed</th></tr><tr><td>f64</td><td>str</td><td>i64</td><td>i64</td><td>i64</td><td>str</td><td>str</td><td>str</td><td>str</td><td>i64</td><td>i64</td><td>i64</td><td>i64</td><td>f64</td></tr></thead><tbody><tr><td>0.09</td><td>&quot;2016-01-03&quot;</td><td>1</td><td>3</td><td>2016</td><td>&quot;Annette&quot;</td><td>&quot;ANN&quot;</td><td>&quot;Annette, AK&quot;</td><td>&quot;Alaska&quot;</td><td>38</td><td>44</td><td>31</td><td>9</td><td>8.7</td></tr><tr><td>0.48</td><td>&quot;2016-01-10&quot;</td><td>1</td><td>10</td><td>2016</td><td>&quot;Annette&quot;</td><td>&quot;ANN&quot;</td><td>&quot;Annette, AK&quot;</td><td>&quot;Alaska&quot;</td><td>36</td><td>43</td><td>27</td><td>24</td><td>5.42</td></tr><tr><td>2.59</td><td>&quot;2016-01-17&quot;</td><td>1</td><td>17</td><td>2016</td><td>&quot;Annette&quot;</td><td>&quot;ANN&quot;</td><td>&quot;Annette, AK&quot;</td><td>&quot;Alaska&quot;</td><td>43</td><td>46</td><td>38</td><td>10</td><td>8.68</td></tr></tbody></table></div>"
      ],
      "text/plain": [
       "shape: (3, 14)\n",
       "┌──────────────┬────────────┬────────────┬──────────────┬───┬──────────────┬──────────────┬──────────────┬─────────────┐\n",
       "│ Data.Precipi ┆ Date.Full  ┆ Date.Month ┆ Date.Week of ┆ … ┆ Data.Tempera ┆ Data.Tempera ┆ Data.Wind.Di ┆ Data.Wind.S │\n",
       "│ tation       ┆ ---        ┆ ---        ┆ ---          ┆   ┆ ture.Max     ┆ ture.Min     ┆ rection      ┆ peed        │\n",
       "│ ---          ┆ str        ┆ i64        ┆ i64          ┆   ┆ Temp         ┆ Temp         ┆ ---          ┆ ---         │\n",
       "│ f64          ┆            ┆            ┆              ┆   ┆ ---          ┆ ---          ┆ i64          ┆ f64         │\n",
       "│              ┆            ┆            ┆              ┆   ┆ i64          ┆ i64          ┆              ┆             │\n",
       "╞══════════════╪════════════╪════════════╪══════════════╪═══╪══════════════╪══════════════╪══════════════╪═════════════╡\n",
       "│ 0.09         ┆ 2016-01-03 ┆ 1          ┆ 3            ┆ … ┆ 44           ┆ 31           ┆ 9            ┆ 8.7         │\n",
       "│ 0.48         ┆ 2016-01-10 ┆ 1          ┆ 10           ┆ … ┆ 43           ┆ 27           ┆ 24           ┆ 5.42        │\n",
       "│ 2.59         ┆ 2016-01-17 ┆ 1          ┆ 17           ┆ … ┆ 46           ┆ 38           ┆ 10           ┆ 8.68        │\n",
       "└──────────────┴────────────┴────────────┴──────────────┴───┴──────────────┴──────────────┴──────────────┴─────────────┘"
      ]
     },
     "execution_count": 4,
     "metadata": {},
     "output_type": "execute_result"
    }
   ],
   "source": [
    "df.filter( (pl.col(\"Station.State\") == \"Alaska\") & (pl.col(\"Station.City\") == \"Annette\") ).head(3)"
   ]
  },
  {
   "cell_type": "code",
   "execution_count": 5,
   "id": "50f52cc6-a573-491d-9702-ba4bdd0c4c55",
   "metadata": {},
   "outputs": [
    {
     "data": {
      "text/html": [
       "<div><style>\n",
       ".dataframe > thead > tr,\n",
       ".dataframe > tbody > tr {\n",
       "  text-align: right;\n",
       "  white-space: pre-wrap;\n",
       "}\n",
       "</style>\n",
       "<small>shape: (3, 14)</small><table border=\"1\" class=\"dataframe\"><thead><tr><th>Data.Precipitation</th><th>Date.Full</th><th>Date.Month</th><th>Date.Week of</th><th>Date.Year</th><th>Station.City</th><th>Station.Code</th><th>Station.Location</th><th>Station.State</th><th>Data.Temperature.Avg Temp</th><th>Data.Temperature.Max Temp</th><th>Data.Temperature.Min Temp</th><th>Data.Wind.Direction</th><th>Data.Wind.Speed</th></tr><tr><td>f64</td><td>str</td><td>i64</td><td>i64</td><td>i64</td><td>str</td><td>str</td><td>str</td><td>str</td><td>i64</td><td>i64</td><td>i64</td><td>i64</td><td>f64</td></tr></thead><tbody><tr><td>0.01</td><td>&quot;2016-01-03&quot;</td><td>1</td><td>3</td><td>2016</td><td>&quot;Anchorage&quot;</td><td>&quot;ANC&quot;</td><td>&quot;Anchorage, AK&quot;</td><td>&quot;Alaska&quot;</td><td>34</td><td>38</td><td>29</td><td>19</td><td>7.8</td></tr><tr><td>0.09</td><td>&quot;2016-01-03&quot;</td><td>1</td><td>3</td><td>2016</td><td>&quot;Annette&quot;</td><td>&quot;ANN&quot;</td><td>&quot;Annette, AK&quot;</td><td>&quot;Alaska&quot;</td><td>38</td><td>44</td><td>31</td><td>9</td><td>8.7</td></tr><tr><td>0.05</td><td>&quot;2016-01-03&quot;</td><td>1</td><td>3</td><td>2016</td><td>&quot;Bethel&quot;</td><td>&quot;BET&quot;</td><td>&quot;Bethel, AK&quot;</td><td>&quot;Alaska&quot;</td><td>30</td><td>36</td><td>24</td><td>9</td><td>16.46</td></tr></tbody></table></div>"
      ],
      "text/plain": [
       "shape: (3, 14)\n",
       "┌──────────────┬────────────┬────────────┬──────────────┬───┬──────────────┬──────────────┬──────────────┬─────────────┐\n",
       "│ Data.Precipi ┆ Date.Full  ┆ Date.Month ┆ Date.Week of ┆ … ┆ Data.Tempera ┆ Data.Tempera ┆ Data.Wind.Di ┆ Data.Wind.S │\n",
       "│ tation       ┆ ---        ┆ ---        ┆ ---          ┆   ┆ ture.Max     ┆ ture.Min     ┆ rection      ┆ peed        │\n",
       "│ ---          ┆ str        ┆ i64        ┆ i64          ┆   ┆ Temp         ┆ Temp         ┆ ---          ┆ ---         │\n",
       "│ f64          ┆            ┆            ┆              ┆   ┆ ---          ┆ ---          ┆ i64          ┆ f64         │\n",
       "│              ┆            ┆            ┆              ┆   ┆ i64          ┆ i64          ┆              ┆             │\n",
       "╞══════════════╪════════════╪════════════╪══════════════╪═══╪══════════════╪══════════════╪══════════════╪═════════════╡\n",
       "│ 0.01         ┆ 2016-01-03 ┆ 1          ┆ 3            ┆ … ┆ 38           ┆ 29           ┆ 19           ┆ 7.8         │\n",
       "│ 0.09         ┆ 2016-01-03 ┆ 1          ┆ 3            ┆ … ┆ 44           ┆ 31           ┆ 9            ┆ 8.7         │\n",
       "│ 0.05         ┆ 2016-01-03 ┆ 1          ┆ 3            ┆ … ┆ 36           ┆ 24           ┆ 9            ┆ 16.46       │\n",
       "└──────────────┴────────────┴────────────┴──────────────┴───┴──────────────┴──────────────┴──────────────┴─────────────┘"
      ]
     },
     "execution_count": 5,
     "metadata": {},
     "output_type": "execute_result"
    }
   ],
   "source": [
    "df.filter( (pl.col(\"Station.State\") == \"Alaska\") | (pl.col(\"Station.City\") == \"Annette\") ).head(3)"
   ]
  }
 ],
 "metadata": {
  "kernelspec": {
   "display_name": "Python 3 (ipykernel)",
   "language": "python",
   "name": "python3"
  },
  "language_info": {
   "codemirror_mode": {
    "name": "ipython",
    "version": 3
   },
   "file_extension": ".py",
   "mimetype": "text/x-python",
   "name": "python",
   "nbconvert_exporter": "python",
   "pygments_lexer": "ipython3",
   "version": "3.12.1"
  }
 },
 "nbformat": 4,
 "nbformat_minor": 5
}
