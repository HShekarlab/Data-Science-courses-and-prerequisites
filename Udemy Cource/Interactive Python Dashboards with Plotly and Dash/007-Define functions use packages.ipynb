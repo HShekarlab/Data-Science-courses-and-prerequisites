{
 "cells": [
  {
   "cell_type": "code",
   "execution_count": 1,
   "id": "60fb569a-cfc6-470a-9f4b-182772605bb3",
   "metadata": {},
   "outputs": [],
   "source": [
    "def My_First_function():\n",
    "    print(\"Hello World\")"
   ]
  },
  {
   "cell_type": "code",
   "execution_count": 2,
   "id": "1603a279-dd5a-4a8b-bbda-9b9a643e8cb8",
   "metadata": {},
   "outputs": [
    {
     "name": "stdout",
     "output_type": "stream",
     "text": [
      "Hello World\n"
     ]
    }
   ],
   "source": [
    "My_First_function()"
   ]
  },
  {
   "cell_type": "code",
   "execution_count": 3,
   "id": "594bf89c-42e4-4cbb-9301-93c9740df6c2",
   "metadata": {},
   "outputs": [
    {
     "data": {
      "text/plain": [
       "<function __main__.My_First_function()>"
      ]
     },
     "execution_count": 3,
     "metadata": {},
     "output_type": "execute_result"
    }
   ],
   "source": [
    "My_First_function"
   ]
  },
  {
   "cell_type": "code",
   "execution_count": 4,
   "id": "26732934-9548-4541-9d3f-de346aede40c",
   "metadata": {},
   "outputs": [
    {
     "data": {
      "text/plain": [
       "\u001b[1;31mSignature:\u001b[0m \u001b[0mMy_First_function\u001b[0m\u001b[1;33m(\u001b[0m\u001b[1;33m)\u001b[0m\u001b[1;33m\u001b[0m\u001b[1;33m\u001b[0m\u001b[0m\n",
       "\u001b[1;31mDocstring:\u001b[0m <no docstring>\n",
       "\u001b[1;31mFile:\u001b[0m      c:\\users\\hediye\\appdata\\local\\temp\\ipykernel_5900\\2336080928.py\n",
       "\u001b[1;31mType:\u001b[0m      function"
      ]
     },
     "metadata": {},
     "output_type": "display_data"
    }
   ],
   "source": [
    "?My_First_function"
   ]
  },
  {
   "cell_type": "code",
   "execution_count": 5,
   "id": "3d533f6c-2cf7-43a7-ae0c-2d679bb0b105",
   "metadata": {},
   "outputs": [],
   "source": [
    "def My_function():\n",
    "    \n",
    "    '''\n",
    "    This is where we put the docstring\n",
    "    including input parameters and output\n",
    "    '''\n",
    "    \n",
    "    print(\"Hello World\")"
   ]
  },
  {
   "cell_type": "code",
   "execution_count": 6,
   "id": "595e2c68-8fa4-46ae-94d7-ee19b1395b31",
   "metadata": {},
   "outputs": [
    {
     "data": {
      "text/plain": [
       "\u001b[1;31mSignature:\u001b[0m \u001b[0mMy_function\u001b[0m\u001b[1;33m(\u001b[0m\u001b[1;33m)\u001b[0m\u001b[1;33m\u001b[0m\u001b[1;33m\u001b[0m\u001b[0m\n",
       "\u001b[1;31mDocstring:\u001b[0m\n",
       "This is where we put the docstring\n",
       "including input parameters and output\n",
       "\u001b[1;31mFile:\u001b[0m      c:\\users\\hediye\\appdata\\local\\temp\\ipykernel_5900\\2003975388.py\n",
       "\u001b[1;31mType:\u001b[0m      function"
      ]
     },
     "metadata": {},
     "output_type": "display_data"
    }
   ],
   "source": [
    "?My_function"
   ]
  },
  {
   "cell_type": "code",
   "execution_count": 7,
   "id": "35dea9f6-0353-4773-9f3c-b428c748f496",
   "metadata": {},
   "outputs": [
    {
     "data": {
      "text/plain": [
       "\u001b[1;31mSignature:\u001b[0m \u001b[0mlen\u001b[0m\u001b[1;33m(\u001b[0m\u001b[0mobj\u001b[0m\u001b[1;33m,\u001b[0m \u001b[1;33m/\u001b[0m\u001b[1;33m)\u001b[0m\u001b[1;33m\u001b[0m\u001b[1;33m\u001b[0m\u001b[0m\n",
       "\u001b[1;31mDocstring:\u001b[0m Return the number of items in a container.\n",
       "\u001b[1;31mType:\u001b[0m      builtin_function_or_method"
      ]
     },
     "metadata": {},
     "output_type": "display_data"
    }
   ],
   "source": [
    "?len"
   ]
  },
  {
   "cell_type": "code",
   "execution_count": 8,
   "id": "450d7b8e-88ce-4625-ab8a-c44558f884d9",
   "metadata": {},
   "outputs": [],
   "source": [
    "def sum_up(x, y):\n",
    "    print(x + y)"
   ]
  },
  {
   "cell_type": "code",
   "execution_count": 9,
   "id": "a83310c0-c896-4379-baa2-3caaeadbb957",
   "metadata": {},
   "outputs": [
    {
     "name": "stdout",
     "output_type": "stream",
     "text": [
      "12\n"
     ]
    }
   ],
   "source": [
    "sum_up(5, 7)"
   ]
  },
  {
   "cell_type": "code",
   "execution_count": 10,
   "id": "e0665dce-97f6-4759-8360-5049a9c3d43d",
   "metadata": {},
   "outputs": [
    {
     "name": "stdout",
     "output_type": "stream",
     "text": [
      "11\n"
     ]
    }
   ],
   "source": [
    "sum_up(x= 3, y= 8)"
   ]
  },
  {
   "cell_type": "code",
   "execution_count": 11,
   "id": "1e2f6455-58de-4351-9056-d79717e92f6e",
   "metadata": {},
   "outputs": [
    {
     "name": "stdout",
     "output_type": "stream",
     "text": [
      "21\n"
     ]
    }
   ],
   "source": [
    "sum_up(y= 15, x= 6)"
   ]
  },
  {
   "cell_type": "code",
   "execution_count": 12,
   "id": "f2e1cb41-1478-453b-ba01-694186528082",
   "metadata": {},
   "outputs": [],
   "source": [
    "def sum_up_1(x= 1, y= 1):\n",
    "    print(x + y)"
   ]
  },
  {
   "cell_type": "code",
   "execution_count": 13,
   "id": "9afbdf6b-2acb-45d8-912b-bf4cc2a3d0ad",
   "metadata": {},
   "outputs": [
    {
     "name": "stdout",
     "output_type": "stream",
     "text": [
      "2\n"
     ]
    }
   ],
   "source": [
    "sum_up_1()"
   ]
  },
  {
   "cell_type": "code",
   "execution_count": 14,
   "id": "53c3c764-0707-44ba-9b63-bfcebe5857ad",
   "metadata": {},
   "outputs": [
    {
     "name": "stdout",
     "output_type": "stream",
     "text": [
      "53\n"
     ]
    }
   ],
   "source": [
    "sum_up_1(19, 34)"
   ]
  },
  {
   "cell_type": "code",
   "execution_count": 15,
   "id": "67db6553-1788-4cd3-8cf6-e98845bba177",
   "metadata": {},
   "outputs": [],
   "source": [
    "def abs_values(k):\n",
    "    if k > 0:\n",
    "        return k\n",
    "    else:\n",
    "        return -k"
   ]
  },
  {
   "cell_type": "code",
   "execution_count": 16,
   "id": "f67945ed-f1d8-4652-b591-99efb406139b",
   "metadata": {},
   "outputs": [
    {
     "data": {
      "text/plain": [
       "7"
      ]
     },
     "execution_count": 16,
     "metadata": {},
     "output_type": "execute_result"
    }
   ],
   "source": [
    "abs_values(7)"
   ]
  },
  {
   "cell_type": "code",
   "execution_count": 17,
   "id": "809983da-f77c-4375-9774-86d442461821",
   "metadata": {},
   "outputs": [
    {
     "data": {
      "text/plain": [
       "7"
      ]
     },
     "execution_count": 17,
     "metadata": {},
     "output_type": "execute_result"
    }
   ],
   "source": [
    "abs_values(-7)"
   ]
  },
  {
   "cell_type": "markdown",
   "id": "47b04023-7ceb-40db-b3d2-03c2fa350a7e",
   "metadata": {},
   "source": [
    "**Numpy**"
   ]
  },
  {
   "cell_type": "code",
   "execution_count": 18,
   "id": "8f95e687-9f14-4853-9525-fdebed52603f",
   "metadata": {},
   "outputs": [],
   "source": [
    "import numpy as np"
   ]
  },
  {
   "cell_type": "code",
   "execution_count": 19,
   "id": "15370f68-3c17-4ba9-b88a-75a7d7b50e9f",
   "metadata": {},
   "outputs": [
    {
     "data": {
      "text/plain": [
       "array([0, 1, 2, 3, 4])"
      ]
     },
     "execution_count": 19,
     "metadata": {},
     "output_type": "execute_result"
    }
   ],
   "source": [
    "np.arange(5)"
   ]
  },
  {
   "cell_type": "code",
   "execution_count": 20,
   "id": "351bb973-c057-4da7-ba34-99527d9a053f",
   "metadata": {},
   "outputs": [],
   "source": [
    "from numpy import arange"
   ]
  },
  {
   "cell_type": "code",
   "execution_count": 21,
   "id": "13a33652-4abc-4a0f-95e1-6369f7af1a0f",
   "metadata": {},
   "outputs": [
    {
     "data": {
      "text/plain": [
       "array([0, 1, 2, 3, 4, 5])"
      ]
     },
     "execution_count": 21,
     "metadata": {},
     "output_type": "execute_result"
    }
   ],
   "source": [
    "arange(6)"
   ]
  }
 ],
 "metadata": {
  "kernelspec": {
   "display_name": "Python 3 (ipykernel)",
   "language": "python",
   "name": "python3"
  },
  "language_info": {
   "codemirror_mode": {
    "name": "ipython",
    "version": 3
   },
   "file_extension": ".py",
   "mimetype": "text/x-python",
   "name": "python",
   "nbconvert_exporter": "python",
   "pygments_lexer": "ipython3",
   "version": "3.12.1"
  }
 },
 "nbformat": 4,
 "nbformat_minor": 5
}
