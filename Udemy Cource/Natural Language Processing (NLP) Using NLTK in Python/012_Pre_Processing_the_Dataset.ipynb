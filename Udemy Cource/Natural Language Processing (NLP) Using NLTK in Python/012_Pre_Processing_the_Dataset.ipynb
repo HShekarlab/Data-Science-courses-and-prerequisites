{
  "nbformat": 4,
  "nbformat_minor": 0,
  "metadata": {
    "colab": {
      "provenance": []
    },
    "kernelspec": {
      "name": "python3",
      "display_name": "Python 3"
    },
    "language_info": {
      "name": "python"
    }
  },
  "cells": [
    {
      "cell_type": "code",
      "execution_count": 1,
      "metadata": {
        "id": "qVIz8V4oOi0N"
      },
      "outputs": [],
      "source": [
        "import keras\n",
        "from keras.datasets import imdb\n",
        "from keras.preprocessing import sequence\n",
        "from keras.models import Sequential\n",
        "from keras.layers import Dense, Flatten, Embedding\n",
        "from numpy import array"
      ]
    },
    {
      "cell_type": "code",
      "source": [
        "(X_train, y_train) , (X_test, y_test) = imdb.load_data(num_words= 5000)"
      ],
      "metadata": {
        "id": "MSt3MpA2Pexf"
      },
      "execution_count": 2,
      "outputs": []
    },
    {
      "cell_type": "code",
      "source": [
        "word_to_id = keras.datasets.imdb.get_word_index()\n",
        "word_to_id = {k: (v + 3) for k, v in word_to_id.items()}\n",
        "word_to_id[\"<PAD>\"] = 0\n",
        "word_to_id[\"<START>\"] = 1\n",
        "word_to_id[\"<UNK>\"] = 2"
      ],
      "metadata": {
        "id": "ld9jHWEgQqc0"
      },
      "execution_count": 3,
      "outputs": []
    },
    {
      "cell_type": "code",
      "source": [
        "X_train = sequence.pad_sequences(X_train, maxlen= 300)\n",
        "X_test = sequence.pad_sequences(X_test, maxlen= 300)"
      ],
      "metadata": {
        "id": "nFKte4ieTAO2"
      },
      "execution_count": 4,
      "outputs": []
    },
    {
      "cell_type": "code",
      "source": [
        "model = Sequential()\n",
        "\n",
        "model.add(Embedding(5000, 32, input_length= 300))\n",
        "model.add(Flatten())\n",
        "model.add(Dense(1, activation= \"sigmoid\"))\n",
        "\n",
        "model.summary()"
      ],
      "metadata": {
        "colab": {
          "base_uri": "https://localhost:8080/"
        },
        "id": "XfqpeiDnTXkT",
        "outputId": "f2178af2-8b8d-4754-cec1-e128815e0c5d"
      },
      "execution_count": 5,
      "outputs": [
        {
          "output_type": "stream",
          "name": "stdout",
          "text": [
            "Model: \"sequential\"\n",
            "_________________________________________________________________\n",
            " Layer (type)                Output Shape              Param #   \n",
            "=================================================================\n",
            " embedding (Embedding)       (None, 300, 32)           160000    \n",
            "                                                                 \n",
            " flatten (Flatten)           (None, 9600)              0         \n",
            "                                                                 \n",
            " dense (Dense)               (None, 1)                 9601      \n",
            "                                                                 \n",
            "=================================================================\n",
            "Total params: 169601 (662.50 KB)\n",
            "Trainable params: 169601 (662.50 KB)\n",
            "Non-trainable params: 0 (0.00 Byte)\n",
            "_________________________________________________________________\n"
          ]
        }
      ]
    },
    {
      "cell_type": "code",
      "source": [
        "model.compile(optimizer= \"adam\",\n",
        "              loss= \"binary_crossentropy\",\n",
        "              metrics= [\"accuracy\"])"
      ],
      "metadata": {
        "id": "l5VnvTvET4it"
      },
      "execution_count": 6,
      "outputs": []
    },
    {
      "cell_type": "code",
      "source": [
        "model.fit(X_train, y_train,\n",
        "          batch_size= 64,\n",
        "          epochs= 3,\n",
        "          validation_data= (X_test, y_test))"
      ],
      "metadata": {
        "colab": {
          "base_uri": "https://localhost:8080/"
        },
        "id": "HLw97r22UcT9",
        "outputId": "e705ab82-9085-46d3-b278-1b1e5e55055a"
      },
      "execution_count": 7,
      "outputs": [
        {
          "output_type": "stream",
          "name": "stdout",
          "text": [
            "Epoch 1/3\n",
            "391/391 [==============================] - 5s 10ms/step - loss: 0.5042 - accuracy: 0.7447 - val_loss: 0.3112 - val_accuracy: 0.8714\n",
            "Epoch 2/3\n",
            "391/391 [==============================] - 4s 9ms/step - loss: 0.2485 - accuracy: 0.9041 - val_loss: 0.2748 - val_accuracy: 0.8844\n",
            "Epoch 3/3\n",
            "391/391 [==============================] - 5s 14ms/step - loss: 0.1824 - accuracy: 0.9344 - val_loss: 0.2838 - val_accuracy: 0.8811\n"
          ]
        },
        {
          "output_type": "execute_result",
          "data": {
            "text/plain": [
              "<keras.src.callbacks.History at 0x7b7f2f071f00>"
            ]
          },
          "metadata": {},
          "execution_count": 7
        }
      ]
    }
  ]
}