{
 "cells": [
  {
   "cell_type": "code",
   "execution_count": 1,
   "id": "a7ef98b8-807f-4f49-85d7-22e3092d1bf2",
   "metadata": {},
   "outputs": [],
   "source": [
    "import numpy as np"
   ]
  },
  {
   "cell_type": "code",
   "execution_count": 2,
   "id": "9eb8d0af-271e-45e2-8213-042c9fc4feae",
   "metadata": {},
   "outputs": [
    {
     "data": {
      "text/plain": [
       "array([[11.7, 11.7],\n",
       "       [11.7, 11.7]])"
      ]
     },
     "execution_count": 2,
     "metadata": {},
     "output_type": "execute_result"
    }
   ],
   "source": [
    "np.full((2, 2), 11.7)"
   ]
  },
  {
   "cell_type": "code",
   "execution_count": 3,
   "id": "d072bc77-0434-4f59-bc68-10ed1f616331",
   "metadata": {},
   "outputs": [
    {
     "data": {
      "text/plain": [
       "array([[11, 11],\n",
       "       [11, 11]])"
      ]
     },
     "execution_count": 3,
     "metadata": {},
     "output_type": "execute_result"
    }
   ],
   "source": [
    "np.full((2, 2), 11.7, int)"
   ]
  }
 ],
 "metadata": {
  "kernelspec": {
   "display_name": "Python 3 (ipykernel)",
   "language": "python",
   "name": "python3"
  },
  "language_info": {
   "codemirror_mode": {
    "name": "ipython",
    "version": 3
   },
   "file_extension": ".py",
   "mimetype": "text/x-python",
   "name": "python",
   "nbconvert_exporter": "python",
   "pygments_lexer": "ipython3",
   "version": "3.10.7"
  }
 },
 "nbformat": 4,
 "nbformat_minor": 5
}
