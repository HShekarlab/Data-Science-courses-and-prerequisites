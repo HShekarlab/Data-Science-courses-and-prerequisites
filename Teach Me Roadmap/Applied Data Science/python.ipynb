{
 "cells": [
  {
   "cell_type": "code",
   "execution_count": 1,
   "id": "4b84fa54-7e18-4f1a-8009-06e11170afcf",
   "metadata": {},
   "outputs": [],
   "source": [
    "a = 3"
   ]
  },
  {
   "cell_type": "code",
   "execution_count": 2,
   "id": "f6c34071-4109-4eac-a4ec-a677177bfbda",
   "metadata": {},
   "outputs": [
    {
     "name": "stdout",
     "output_type": "stream",
     "text": [
      "3\n"
     ]
    }
   ],
   "source": [
    "print(a)"
   ]
  },
  {
   "cell_type": "code",
   "execution_count": 3,
   "id": "980a00b5-03dd-42a2-9225-1c8f836aad71",
   "metadata": {},
   "outputs": [
    {
     "data": {
      "text/plain": [
       "2"
      ]
     },
     "execution_count": 3,
     "metadata": {},
     "output_type": "execute_result"
    }
   ],
   "source": [
    "1 + 1"
   ]
  },
  {
   "cell_type": "code",
   "execution_count": 4,
   "id": "03c1489d-19c5-46d9-b14d-087f6fa41825",
   "metadata": {},
   "outputs": [
    {
     "data": {
      "text/plain": [
       "3"
      ]
     },
     "execution_count": 4,
     "metadata": {},
     "output_type": "execute_result"
    }
   ],
   "source": [
    "1 * 3"
   ]
  },
  {
   "cell_type": "code",
   "execution_count": 5,
   "id": "2a348411-ff98-430e-88bc-884c716ee0e3",
   "metadata": {},
   "outputs": [
    {
     "data": {
      "text/plain": [
       "0.5"
      ]
     },
     "execution_count": 5,
     "metadata": {},
     "output_type": "execute_result"
    }
   ],
   "source": [
    "1 / 2"
   ]
  },
  {
   "cell_type": "code",
   "execution_count": 6,
   "id": "27e3326b-d0ae-4ef1-9c4f-6586f6656d1f",
   "metadata": {},
   "outputs": [
    {
     "data": {
      "text/plain": [
       "16"
      ]
     },
     "execution_count": 6,
     "metadata": {},
     "output_type": "execute_result"
    }
   ],
   "source": [
    "2 ** 4"
   ]
  },
  {
   "cell_type": "code",
   "execution_count": 7,
   "id": "c1540f56-06ea-4f13-b0e0-dfb4602fab2e",
   "metadata": {},
   "outputs": [],
   "source": [
    "a = 30"
   ]
  },
  {
   "cell_type": "code",
   "execution_count": 8,
   "id": "3d936c78-38cb-4982-a210-ded491955e3a",
   "metadata": {},
   "outputs": [
    {
     "data": {
      "text/plain": [
       "30"
      ]
     },
     "execution_count": 8,
     "metadata": {},
     "output_type": "execute_result"
    }
   ],
   "source": [
    "a"
   ]
  },
  {
   "cell_type": "code",
   "execution_count": 9,
   "id": "77e9e9d3-8169-434d-afe3-88cb601c1393",
   "metadata": {},
   "outputs": [
    {
     "data": {
      "text/plain": [
       "0"
      ]
     },
     "execution_count": 9,
     "metadata": {},
     "output_type": "execute_result"
    }
   ],
   "source": [
    "4 % 2"
   ]
  },
  {
   "cell_type": "code",
   "execution_count": 10,
   "id": "ecce0924-0e4a-41d3-af30-3ea775d73465",
   "metadata": {},
   "outputs": [
    {
     "data": {
      "text/plain": [
       "1"
      ]
     },
     "execution_count": 10,
     "metadata": {},
     "output_type": "execute_result"
    }
   ],
   "source": [
    "5 % 2"
   ]
  },
  {
   "cell_type": "markdown",
   "id": "b2d0b8c9-6059-4239-bb41-67d064a5224b",
   "metadata": {},
   "source": [
    "5 % 2 = 1 ===> عدد 1 باقی مانده تقسیم 5 بر 2 است"
   ]
  },
  {
   "cell_type": "code",
   "execution_count": 11,
   "id": "05007749-9c80-4676-a82a-c4af044e636f",
   "metadata": {},
   "outputs": [
    {
     "data": {
      "text/plain": [
       "50"
      ]
     },
     "execution_count": 11,
     "metadata": {},
     "output_type": "execute_result"
    }
   ],
   "source": [
    "(2 + 3) * (5 + 5)"
   ]
  },
  {
   "cell_type": "code",
   "execution_count": 12,
   "id": "c148a0a0-23d4-4dac-bde4-a77b9dd30a58",
   "metadata": {},
   "outputs": [],
   "source": [
    "name_of_var = 2"
   ]
  },
  {
   "cell_type": "code",
   "execution_count": 13,
   "id": "e4d99b99-bc34-4f42-9ca1-375f1d680a41",
   "metadata": {},
   "outputs": [],
   "source": [
    "x = 2\n",
    "y = 3"
   ]
  },
  {
   "cell_type": "code",
   "execution_count": 14,
   "id": "720013ee-3d12-4664-b60a-32e53c712a99",
   "metadata": {},
   "outputs": [],
   "source": [
    "z = x + y"
   ]
  },
  {
   "cell_type": "code",
   "execution_count": 15,
   "id": "f1ee0cfd-39cd-4369-97c4-881fc4d5d27e",
   "metadata": {},
   "outputs": [
    {
     "data": {
      "text/plain": [
       "5"
      ]
     },
     "execution_count": 15,
     "metadata": {},
     "output_type": "execute_result"
    }
   ],
   "source": [
    "z"
   ]
  },
  {
   "cell_type": "code",
   "execution_count": 16,
   "id": "8faad12e-0c93-4861-81cd-d92557462fa2",
   "metadata": {},
   "outputs": [
    {
     "data": {
      "text/plain": [
       "'single quotes'"
      ]
     },
     "execution_count": 16,
     "metadata": {},
     "output_type": "execute_result"
    }
   ],
   "source": [
    "'single quotes'"
   ]
  },
  {
   "cell_type": "code",
   "execution_count": 17,
   "id": "3c906d2c-d913-49b0-8d49-bcd25df329fd",
   "metadata": {},
   "outputs": [
    {
     "data": {
      "text/plain": [
       "'double quotes'"
      ]
     },
     "execution_count": 17,
     "metadata": {},
     "output_type": "execute_result"
    }
   ],
   "source": [
    "\"double quotes\""
   ]
  },
  {
   "cell_type": "code",
   "execution_count": 18,
   "id": "c595d4aa-842f-4cbc-a759-9e1b6285225f",
   "metadata": {},
   "outputs": [
    {
     "data": {
      "text/plain": [
       "\" wrap lot's of other quotes\""
      ]
     },
     "execution_count": 18,
     "metadata": {},
     "output_type": "execute_result"
    }
   ],
   "source": [
    "\" wrap lot's of other quotes\""
   ]
  },
  {
   "cell_type": "code",
   "execution_count": 19,
   "id": "596b4ee3-c9cd-4195-b011-eecffcc3a3c1",
   "metadata": {},
   "outputs": [],
   "source": [
    "str = \"DataSc\""
   ]
  },
  {
   "cell_type": "code",
   "execution_count": 20,
   "id": "0cae4517-8ccf-4610-99e9-ce325f453f7c",
   "metadata": {},
   "outputs": [
    {
     "data": {
      "text/plain": [
       "'a'"
      ]
     },
     "execution_count": 20,
     "metadata": {},
     "output_type": "execute_result"
    }
   ],
   "source": [
    "str[3]"
   ]
  },
  {
   "cell_type": "code",
   "execution_count": 21,
   "id": "317f03e1-e97f-4907-857a-e6bfc356a3ba",
   "metadata": {},
   "outputs": [
    {
     "data": {
      "text/plain": [
       "'a'"
      ]
     },
     "execution_count": 21,
     "metadata": {},
     "output_type": "execute_result"
    }
   ],
   "source": [
    "str[-5]"
   ]
  },
  {
   "cell_type": "code",
   "execution_count": 22,
   "id": "20f7de41-366d-41e8-9529-dd389ee6951c",
   "metadata": {},
   "outputs": [
    {
     "data": {
      "text/plain": [
       "'Data'"
      ]
     },
     "execution_count": 22,
     "metadata": {},
     "output_type": "execute_result"
    }
   ],
   "source": [
    "str[:4]"
   ]
  },
  {
   "cell_type": "code",
   "execution_count": 23,
   "id": "55f5c16f-117a-4f6b-bb06-5e1bd000b628",
   "metadata": {},
   "outputs": [
    {
     "data": {
      "text/plain": [
       "'a'"
      ]
     },
     "execution_count": 23,
     "metadata": {},
     "output_type": "execute_result"
    }
   ],
   "source": [
    "str[-3]"
   ]
  },
  {
   "cell_type": "code",
   "execution_count": 24,
   "id": "7b275738-7742-4423-9675-8ce93f4e9f88",
   "metadata": {},
   "outputs": [
    {
     "data": {
      "text/plain": [
       "'aSc'"
      ]
     },
     "execution_count": 24,
     "metadata": {},
     "output_type": "execute_result"
    }
   ],
   "source": [
    "str[-3:]"
   ]
  },
  {
   "cell_type": "code",
   "execution_count": 25,
   "id": "c972f92a-c651-49c5-ac1d-4d836094baa8",
   "metadata": {},
   "outputs": [
    {
     "data": {
      "text/plain": [
       "'aSc'"
      ]
     },
     "execution_count": 25,
     "metadata": {},
     "output_type": "execute_result"
    }
   ],
   "source": [
    "str[3:]"
   ]
  },
  {
   "cell_type": "code",
   "execution_count": 26,
   "id": "5d35298d-1a3f-41ac-a52f-ed4d004f1f88",
   "metadata": {},
   "outputs": [],
   "source": [
    "a = \"dataro\""
   ]
  },
  {
   "cell_type": "code",
   "execution_count": 27,
   "id": "5c010f70-f487-4349-ab42-26cfc5d548cc",
   "metadata": {},
   "outputs": [
    {
     "data": {
      "text/plain": [
       "'a'"
      ]
     },
     "execution_count": 27,
     "metadata": {},
     "output_type": "execute_result"
    }
   ],
   "source": [
    "a[3]"
   ]
  },
  {
   "cell_type": "code",
   "execution_count": 28,
   "id": "8dad347b-aeda-4c4f-b97b-fd8bf25e6203",
   "metadata": {},
   "outputs": [
    {
     "data": {
      "text/plain": [
       "'a'"
      ]
     },
     "execution_count": 28,
     "metadata": {},
     "output_type": "execute_result"
    }
   ],
   "source": [
    "a[-5]"
   ]
  },
  {
   "cell_type": "code",
   "execution_count": 29,
   "id": "5385cdf5-fbba-4991-96f3-88b08df74945",
   "metadata": {},
   "outputs": [
    {
     "data": {
      "text/plain": [
       "'data'"
      ]
     },
     "execution_count": 29,
     "metadata": {},
     "output_type": "execute_result"
    }
   ],
   "source": [
    "a[:4]"
   ]
  },
  {
   "cell_type": "code",
   "execution_count": 30,
   "id": "a85496da-0bab-4f75-a969-36fea2ec7ce6",
   "metadata": {},
   "outputs": [],
   "source": [
    "data = \"1400-0105\""
   ]
  },
  {
   "cell_type": "code",
   "execution_count": 31,
   "id": "2829a6f5-2a8e-4915-879c-069e6ea09c1b",
   "metadata": {},
   "outputs": [
    {
     "data": {
      "text/plain": [
       "'05'"
      ]
     },
     "execution_count": 31,
     "metadata": {},
     "output_type": "execute_result"
    }
   ],
   "source": [
    "data[-2:]"
   ]
  },
  {
   "cell_type": "code",
   "execution_count": 32,
   "id": "09bbba35-7eb3-458a-a34b-36eaf8712c1e",
   "metadata": {},
   "outputs": [
    {
     "data": {
      "text/plain": [
       "'105'"
      ]
     },
     "execution_count": 32,
     "metadata": {},
     "output_type": "execute_result"
    }
   ],
   "source": [
    "data[6:]"
   ]
  },
  {
   "cell_type": "code",
   "execution_count": 33,
   "id": "3dca882b-8f41-4d4d-ae7e-6b6c3596bd4d",
   "metadata": {},
   "outputs": [
    {
     "data": {
      "text/plain": [
       "'taro'"
      ]
     },
     "execution_count": 33,
     "metadata": {},
     "output_type": "execute_result"
    }
   ],
   "source": [
    "a[2:]"
   ]
  },
  {
   "cell_type": "code",
   "execution_count": 34,
   "id": "05dbdfc6-f729-4b18-97d2-e904bffc39a7",
   "metadata": {},
   "outputs": [
    {
     "data": {
      "text/plain": [
       "'data'"
      ]
     },
     "execution_count": 34,
     "metadata": {},
     "output_type": "execute_result"
    }
   ],
   "source": [
    "a[:-2]"
   ]
  },
  {
   "cell_type": "code",
   "execution_count": 35,
   "id": "87687a13-6909-4189-b21e-da043788e001",
   "metadata": {},
   "outputs": [],
   "source": [
    "x = \"hello\""
   ]
  },
  {
   "cell_type": "code",
   "execution_count": 36,
   "id": "bd09b139-3b43-4f99-b6d5-866a9cc0d5dd",
   "metadata": {},
   "outputs": [
    {
     "data": {
      "text/plain": [
       "'hello'"
      ]
     },
     "execution_count": 36,
     "metadata": {},
     "output_type": "execute_result"
    }
   ],
   "source": [
    "x"
   ]
  },
  {
   "cell_type": "code",
   "execution_count": 37,
   "id": "14729b4b-1881-4465-a60f-7456112ea4e5",
   "metadata": {},
   "outputs": [
    {
     "name": "stdout",
     "output_type": "stream",
     "text": [
      "hello\n"
     ]
    }
   ],
   "source": [
    "print(x)"
   ]
  },
  {
   "cell_type": "code",
   "execution_count": 38,
   "id": "c1a1fd3f-039b-4e62-893c-a6b9978fa4cd",
   "metadata": {},
   "outputs": [],
   "source": [
    "num = 10\n",
    "name = \"dataroadmap\"\n",
    "new = \"monogram\""
   ]
  },
  {
   "cell_type": "code",
   "execution_count": 39,
   "id": "cf995900-2b83-4f8d-85cc-2bdc54b9dbf0",
   "metadata": {},
   "outputs": [
    {
     "name": "stdout",
     "output_type": "stream",
     "text": [
      "My number is this is monogram 1: 10, and my name is: dataroadmap , and my name is: monogram\n"
     ]
    }
   ],
   "source": [
    "print(\"My number is this is monogram 1: {}, and my name is: {} , and my name is: {}\".format(num, name, new))"
   ]
  },
  {
   "cell_type": "code",
   "execution_count": 40,
   "id": "cc67b3e1-9b33-4141-a3aa-c124142bbb60",
   "metadata": {},
   "outputs": [],
   "source": [
    "lst = [1, 2, 3]"
   ]
  },
  {
   "cell_type": "code",
   "execution_count": 41,
   "id": "1cbfdfd3-43dd-412a-914b-88d6965e3498",
   "metadata": {},
   "outputs": [
    {
     "data": {
      "text/plain": [
       "1"
      ]
     },
     "execution_count": 41,
     "metadata": {},
     "output_type": "execute_result"
    }
   ],
   "source": [
    "lst[0]"
   ]
  },
  {
   "cell_type": "code",
   "execution_count": 42,
   "id": "c4d710fa-721a-4cd8-8c12-540419212f86",
   "metadata": {},
   "outputs": [
    {
     "data": {
      "text/plain": [
       "3"
      ]
     },
     "execution_count": 42,
     "metadata": {},
     "output_type": "execute_result"
    }
   ],
   "source": [
    "len(lst)"
   ]
  },
  {
   "cell_type": "code",
   "execution_count": 43,
   "id": "9dbbc717-332e-47bd-998e-52960986a9ff",
   "metadata": {},
   "outputs": [],
   "source": [
    "lst.append(15)"
   ]
  },
  {
   "cell_type": "code",
   "execution_count": 44,
   "id": "83c846b3-a64c-4d48-9a83-ca70f1f0ead0",
   "metadata": {},
   "outputs": [
    {
     "data": {
      "text/plain": [
       "[1, 2, 3, 15]"
      ]
     },
     "execution_count": 44,
     "metadata": {},
     "output_type": "execute_result"
    }
   ],
   "source": [
    "lst"
   ]
  },
  {
   "cell_type": "code",
   "execution_count": 45,
   "id": "3ae2c89d-8de8-4877-ba15-32d0796323b3",
   "metadata": {},
   "outputs": [
    {
     "data": {
      "text/plain": [
       "4"
      ]
     },
     "execution_count": 45,
     "metadata": {},
     "output_type": "execute_result"
    }
   ],
   "source": [
    "len(lst)"
   ]
  },
  {
   "cell_type": "code",
   "execution_count": 46,
   "id": "9d306cc4-11ff-40a5-87b0-783570fe8d48",
   "metadata": {},
   "outputs": [
    {
     "data": {
      "text/plain": [
       "['hi', 1, [1, 2]]"
      ]
     },
     "execution_count": 46,
     "metadata": {},
     "output_type": "execute_result"
    }
   ],
   "source": [
    "[\"hi\", 1, [1, 2]]"
   ]
  },
  {
   "cell_type": "code",
   "execution_count": 47,
   "id": "e56dd836-bf2d-4907-8ec6-6f0d8db17ec9",
   "metadata": {},
   "outputs": [],
   "source": [
    "my_list = [\"a\", \"b\", \"c\"]"
   ]
  },
  {
   "cell_type": "code",
   "execution_count": 48,
   "id": "6dd93043-bd84-4b9f-a768-b14a7a017bf3",
   "metadata": {},
   "outputs": [],
   "source": [
    "my_list.append(\"Data\")"
   ]
  },
  {
   "cell_type": "code",
   "execution_count": 49,
   "id": "0ebec7b8-ce74-4f19-abac-1d560ce6f599",
   "metadata": {},
   "outputs": [
    {
     "data": {
      "text/plain": [
       "['a', 'b', 'c', 'Data']"
      ]
     },
     "execution_count": 49,
     "metadata": {},
     "output_type": "execute_result"
    }
   ],
   "source": [
    "my_list"
   ]
  },
  {
   "cell_type": "code",
   "execution_count": 50,
   "id": "e652b88b-180c-4d45-af13-45a6b841f180",
   "metadata": {},
   "outputs": [
    {
     "data": {
      "text/plain": [
       "4"
      ]
     },
     "execution_count": 50,
     "metadata": {},
     "output_type": "execute_result"
    }
   ],
   "source": [
    "len(my_list)"
   ]
  },
  {
   "cell_type": "code",
   "execution_count": 51,
   "id": "ac9c3344-067a-44d6-b0d2-955095a2f796",
   "metadata": {},
   "outputs": [
    {
     "data": {
      "text/plain": [
       "'Data'"
      ]
     },
     "execution_count": 51,
     "metadata": {},
     "output_type": "execute_result"
    }
   ],
   "source": [
    "my_list[-1]"
   ]
  },
  {
   "cell_type": "code",
   "execution_count": 52,
   "id": "4ec8006e-3e44-47de-addc-aeb9df1bdf03",
   "metadata": {},
   "outputs": [
    {
     "data": {
      "text/plain": [
       "'b'"
      ]
     },
     "execution_count": 52,
     "metadata": {},
     "output_type": "execute_result"
    }
   ],
   "source": [
    "my_list[1]"
   ]
  },
  {
   "cell_type": "code",
   "execution_count": 53,
   "id": "4b7b336b-2e0c-4dbc-968b-3f314290b608",
   "metadata": {},
   "outputs": [
    {
     "data": {
      "text/plain": [
       "['b', 'c', 'Data']"
      ]
     },
     "execution_count": 53,
     "metadata": {},
     "output_type": "execute_result"
    }
   ],
   "source": [
    "my_list[1:]"
   ]
  },
  {
   "cell_type": "code",
   "execution_count": 54,
   "id": "51511673-dbea-4ae8-8f53-8c0d42a4544c",
   "metadata": {},
   "outputs": [
    {
     "data": {
      "text/plain": [
       "['a']"
      ]
     },
     "execution_count": 54,
     "metadata": {},
     "output_type": "execute_result"
    }
   ],
   "source": [
    "my_list[:1]"
   ]
  },
  {
   "cell_type": "code",
   "execution_count": 55,
   "id": "29fe95a7-a64b-41c3-a495-16e96701b741",
   "metadata": {},
   "outputs": [],
   "source": [
    "my_list[2] = \"Science\""
   ]
  },
  {
   "cell_type": "code",
   "execution_count": 56,
   "id": "d71bc0d2-9671-4362-a151-a3378754e557",
   "metadata": {},
   "outputs": [
    {
     "data": {
      "text/plain": [
       "['a', 'b', 'Science', 'Data']"
      ]
     },
     "execution_count": 56,
     "metadata": {},
     "output_type": "execute_result"
    }
   ],
   "source": [
    "my_list"
   ]
  },
  {
   "cell_type": "code",
   "execution_count": 57,
   "id": "3ca6958a-49a7-4e97-81bb-a5dc396da95d",
   "metadata": {},
   "outputs": [],
   "source": [
    "nest = [1, 2, 3,[4, 5, [\"target\"]]]"
   ]
  },
  {
   "cell_type": "code",
   "execution_count": 58,
   "id": "3e23785d-990a-4f75-aff0-0bd9bbbfacec",
   "metadata": {},
   "outputs": [],
   "source": [
    "new_list = [2, 4, 6, 8, 10]"
   ]
  },
  {
   "cell_type": "code",
   "execution_count": 59,
   "id": "a7cbe8f0-0259-48e1-97d0-466c6977951b",
   "metadata": {},
   "outputs": [],
   "source": [
    "new_list[0] = \"NEW\""
   ]
  },
  {
   "cell_type": "code",
   "execution_count": 60,
   "id": "b3aafc49-c457-468a-ae29-9f7a5468b7a1",
   "metadata": {},
   "outputs": [
    {
     "data": {
      "text/plain": [
       "['NEW', 4, 6, 8, 10]"
      ]
     },
     "execution_count": 60,
     "metadata": {},
     "output_type": "execute_result"
    }
   ],
   "source": [
    "new_list"
   ]
  },
  {
   "cell_type": "code",
   "execution_count": 61,
   "id": "1be1311c-6f2d-4754-b8df-3df89866cec3",
   "metadata": {},
   "outputs": [],
   "source": [
    "new_list.insert(3, \"orange\")"
   ]
  },
  {
   "cell_type": "code",
   "execution_count": 62,
   "id": "8b654db2-c045-4fb7-857d-49ec1ea61ce1",
   "metadata": {},
   "outputs": [
    {
     "data": {
      "text/plain": [
       "['NEW', 4, 6, 'orange', 8, 10]"
      ]
     },
     "execution_count": 62,
     "metadata": {},
     "output_type": "execute_result"
    }
   ],
   "source": [
    "new_list"
   ]
  },
  {
   "cell_type": "code",
   "execution_count": 63,
   "id": "0d2e6c45-f270-452b-b84a-75678ca1c555",
   "metadata": {},
   "outputs": [],
   "source": [
    "lst_1 = [1, 2, 3, 4, 5, 6, 7]"
   ]
  },
  {
   "cell_type": "code",
   "execution_count": 64,
   "id": "2db6c5bc-8955-4e88-a3c3-7211f7e02133",
   "metadata": {},
   "outputs": [],
   "source": [
    "string = \"DataScience\""
   ]
  },
  {
   "cell_type": "code",
   "execution_count": 65,
   "id": "5d715e61-b76a-4f3c-afd8-83607cff5ce9",
   "metadata": {},
   "outputs": [
    {
     "data": {
      "text/plain": [
       "[4, 5, ['target']]"
      ]
     },
     "execution_count": 65,
     "metadata": {},
     "output_type": "execute_result"
    }
   ],
   "source": [
    "nest[3]"
   ]
  },
  {
   "cell_type": "code",
   "execution_count": 66,
   "id": "995db873-94fc-4bab-85fa-033c03bed055",
   "metadata": {},
   "outputs": [
    {
     "data": {
      "text/plain": [
       "[1, 2, 3, [4, 5, ['target']]]"
      ]
     },
     "execution_count": 66,
     "metadata": {},
     "output_type": "execute_result"
    }
   ],
   "source": [
    "nest"
   ]
  },
  {
   "cell_type": "code",
   "execution_count": 67,
   "id": "8060e934-cef4-42d3-b2b0-c550e49467cd",
   "metadata": {},
   "outputs": [
    {
     "data": {
      "text/plain": [
       "'r'"
      ]
     },
     "execution_count": 67,
     "metadata": {},
     "output_type": "execute_result"
    }
   ],
   "source": [
    "nest[3][2][0][2]"
   ]
  }
 ],
 "metadata": {
  "kernelspec": {
   "display_name": "Python 3 (ipykernel)",
   "language": "python",
   "name": "python3"
  },
  "language_info": {
   "codemirror_mode": {
    "name": "ipython",
    "version": 3
   },
   "file_extension": ".py",
   "mimetype": "text/x-python",
   "name": "python",
   "nbconvert_exporter": "python",
   "pygments_lexer": "ipython3",
   "version": "3.10.7"
  }
 },
 "nbformat": 4,
 "nbformat_minor": 5
}
