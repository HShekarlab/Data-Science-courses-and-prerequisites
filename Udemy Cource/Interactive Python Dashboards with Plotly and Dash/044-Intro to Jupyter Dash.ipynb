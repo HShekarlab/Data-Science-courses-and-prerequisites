{
 "cells": [
  {
   "cell_type": "markdown",
   "id": "43f47eda-1d90-449b-a0e5-8a424876acfc",
   "metadata": {},
   "source": [
    "## Import Libraries"
   ]
  },
  {
   "cell_type": "code",
   "execution_count": 1,
   "id": "cac5d92e-aa84-414a-b849-38b43e27b191",
   "metadata": {},
   "outputs": [],
   "source": [
    "import pandas as pd\n",
    "import plotly.express as px\n",
    "from dash import html, dcc, Input, Output\n",
    "from jupyter_dash import JupyterDash"
   ]
  },
  {
   "cell_type": "markdown",
   "id": "00472d8d-2296-4bca-a557-fc10a02fcef8",
   "metadata": {},
   "source": [
    "## Load Data"
   ]
  },
  {
   "cell_type": "code",
   "execution_count": 2,
   "id": "b2742e29-a052-4054-9983-e13bf7f34c0f",
   "metadata": {},
   "outputs": [
    {
     "data": {
      "text/html": [
       "<div>\n",
       "<style scoped>\n",
       "    .dataframe tbody tr th:only-of-type {\n",
       "        vertical-align: middle;\n",
       "    }\n",
       "\n",
       "    .dataframe tbody tr th {\n",
       "        vertical-align: top;\n",
       "    }\n",
       "\n",
       "    .dataframe thead th {\n",
       "        text-align: right;\n",
       "    }\n",
       "</style>\n",
       "<table border=\"1\" class=\"dataframe\">\n",
       "  <thead>\n",
       "    <tr style=\"text-align: right;\">\n",
       "      <th></th>\n",
       "      <th>country</th>\n",
       "      <th>region</th>\n",
       "      <th>happiness_rank</th>\n",
       "      <th>happiness_score</th>\n",
       "      <th>year</th>\n",
       "    </tr>\n",
       "  </thead>\n",
       "  <tbody>\n",
       "    <tr>\n",
       "      <th>0</th>\n",
       "      <td>Australia</td>\n",
       "      <td>Australia and New Zealand</td>\n",
       "      <td>10</td>\n",
       "      <td>7.284</td>\n",
       "      <td>2015</td>\n",
       "    </tr>\n",
       "    <tr>\n",
       "      <th>1</th>\n",
       "      <td>Australia</td>\n",
       "      <td>Australia and New Zealand</td>\n",
       "      <td>9</td>\n",
       "      <td>7.313</td>\n",
       "      <td>2016</td>\n",
       "    </tr>\n",
       "    <tr>\n",
       "      <th>2</th>\n",
       "      <td>Australia</td>\n",
       "      <td>Australia and New Zealand</td>\n",
       "      <td>10</td>\n",
       "      <td>7.284</td>\n",
       "      <td>2017</td>\n",
       "    </tr>\n",
       "  </tbody>\n",
       "</table>\n",
       "</div>"
      ],
      "text/plain": [
       "     country                     region  happiness_rank  happiness_score  year\n",
       "0  Australia  Australia and New Zealand              10            7.284  2015\n",
       "1  Australia  Australia and New Zealand               9            7.313  2016\n",
       "2  Australia  Australia and New Zealand              10            7.284  2017"
      ]
     },
     "execution_count": 2,
     "metadata": {},
     "output_type": "execute_result"
    }
   ],
   "source": [
    "happiness = pd.read_csv(\"world_happiness.csv\")\n",
    "happiness.head(3)"
   ]
  },
  {
   "cell_type": "code",
   "execution_count": 3,
   "id": "bc5b10e4-a587-4b33-b65b-c5e7844b1617",
   "metadata": {},
   "outputs": [
    {
     "name": "stdout",
     "output_type": "stream",
     "text": [
      "<class 'pandas.core.frame.DataFrame'>\n",
      "RangeIndex: 852 entries, 0 to 851\n",
      "Data columns (total 5 columns):\n",
      " #   Column           Non-Null Count  Dtype  \n",
      "---  ------           --------------  -----  \n",
      " 0   country          852 non-null    object \n",
      " 1   region           852 non-null    object \n",
      " 2   happiness_rank   852 non-null    int64  \n",
      " 3   happiness_score  852 non-null    float64\n",
      " 4   year             852 non-null    int64  \n",
      "dtypes: float64(1), int64(2), object(2)\n",
      "memory usage: 33.4+ KB\n"
     ]
    }
   ],
   "source": [
    "happiness.info()"
   ]
  },
  {
   "cell_type": "markdown",
   "id": "e9ce21e4-8786-485e-94ac-d84ed15daae3",
   "metadata": {},
   "source": [
    "## Build the app"
   ]
  },
  {
   "cell_type": "code",
   "execution_count": 4,
   "id": "8fde8895-31e4-445d-b020-81d165e5573a",
   "metadata": {},
   "outputs": [
    {
     "name": "stderr",
     "output_type": "stream",
     "text": [
      "C:\\Users\\Hediye\\AppData\\Local\\Programs\\Python\\Python312\\Lib\\site-packages\\dash\\dash.py:538: UserWarning:\n",
      "\n",
      "JupyterDash is deprecated, use Dash instead.\n",
      "See https://dash.plotly.com/dash-in-jupyter for more details.\n",
      "\n"
     ]
    }
   ],
   "source": [
    "app = JupyterDash()  # app = Dash()\n",
    "\n",
    "app.layout = html.Div([\n",
    "    html.H1(\"World Happiness Dashboard\"), \n",
    "    html.P([\"This dashboard shows the happiness score.\", \n",
    "            html.Br(), \n",
    "            html.A(\"World Happiness Report Data Source\", \n",
    "                   href= \"https://worldhappiness.report/\", \n",
    "                   target= \"_blank\")]), \n",
    "    dcc.Dropdown(id= \"country_dropdown\", \n",
    "                 options= happiness[\"country\"].unique(), \n",
    "                 value= \"United States\"),\n",
    "    dcc.Graph(id= \"happiness_graph\")\n",
    "])\n",
    "\n",
    "\n",
    "@app.callback(\n",
    "    Output(\"happiness_graph\", \"figure\"), \n",
    "    Input(\"country_dropdown\", \"value\")\n",
    ")\n",
    "\n",
    "\n",
    "def Update_Graph(selected_country):\n",
    "    filtered_happiness = happiness[happiness[\"country\"] == selected_country]\n",
    "    line_fig = px.line(filtered_happiness, \n",
    "                       x= \"year\", y= \"happiness_score\", \n",
    "                       title= f\"Happiness Score in {selected_country}\")\n",
    "    return line_fig"
   ]
  },
  {
   "cell_type": "code",
   "execution_count": 5,
   "id": "89bb33ad-04ab-46a8-855a-52857593a983",
   "metadata": {},
   "outputs": [
    {
     "data": {
      "text/html": [
       "\n",
       "        <iframe\n",
       "            width=\"100%\"\n",
       "            height=\"650\"\n",
       "            src=\"http://127.0.0.1:8050/\"\n",
       "            frameborder=\"0\"\n",
       "            allowfullscreen\n",
       "            \n",
       "        ></iframe>\n",
       "        "
      ],
      "text/plain": [
       "<IPython.lib.display.IFrame at 0x189ac092810>"
      ]
     },
     "metadata": {},
     "output_type": "display_data"
    },
    {
     "name": "stdout",
     "output_type": "stream",
     "text": [
      "Dash app running on http://127.0.0.1:8050/\n"
     ]
    }
   ],
   "source": [
    "app.run_server(mode= \"external\")"
   ]
  },
  {
   "cell_type": "code",
   "execution_count": 6,
   "id": "16d60b02-bdaa-4f32-97ff-e1ae413370c8",
   "metadata": {},
   "outputs": [],
   "source": [
    "# app.run_server(mode= \"inline\")"
   ]
  },
  {
   "cell_type": "code",
   "execution_count": 7,
   "id": "6de90f37-dbf4-4d01-9cbc-13257c922221",
   "metadata": {},
   "outputs": [],
   "source": [
    "# app.run_server(mode= \"jupyterlab\")\n",
    "# https://github.com/plotly/jupyter-dash # jupyterlab-support"
   ]
  }
 ],
 "metadata": {
  "kernelspec": {
   "display_name": "Python 3 (ipykernel)",
   "language": "python",
   "name": "python3"
  },
  "language_info": {
   "codemirror_mode": {
    "name": "ipython",
    "version": 3
   },
   "file_extension": ".py",
   "mimetype": "text/x-python",
   "name": "python",
   "nbconvert_exporter": "python",
   "pygments_lexer": "ipython3",
   "version": "3.12.1"
  }
 },
 "nbformat": 4,
 "nbformat_minor": 5
}
