{
 "cells": [
  {
   "cell_type": "code",
   "execution_count": 1,
   "id": "5a874dda-0010-4852-bbdf-737fd3ec260a",
   "metadata": {},
   "outputs": [],
   "source": [
    "import numpy as np"
   ]
  },
  {
   "cell_type": "code",
   "execution_count": 2,
   "id": "d411b699-3bd0-46bf-843a-7beece09d21d",
   "metadata": {},
   "outputs": [
    {
     "data": {
      "text/plain": [
       "[1, 2, 3, 4, 5]"
      ]
     },
     "execution_count": 2,
     "metadata": {},
     "output_type": "execute_result"
    }
   ],
   "source": [
    "lst_1 = [1, 2, 3, 4, 5]\n",
    "lst_1"
   ]
  },
  {
   "cell_type": "code",
   "execution_count": 3,
   "id": "8000ffb3-4f72-4259-bfc5-fa322f510859",
   "metadata": {},
   "outputs": [
    {
     "data": {
      "text/plain": [
       "array([1, 2, 3, 4, 5])"
      ]
     },
     "execution_count": 3,
     "metadata": {},
     "output_type": "execute_result"
    }
   ],
   "source": [
    "np.array(lst_1)"
   ]
  },
  {
   "cell_type": "code",
   "execution_count": 5,
   "id": "c8832c3f-7c4c-4e10-b6e6-8d3f2fbe1e3c",
   "metadata": {},
   "outputs": [
    {
     "data": {
      "text/plain": [
       "[[1, 2, 3], [4, 5, 6], [7, 8, 9]]"
      ]
     },
     "execution_count": 5,
     "metadata": {},
     "output_type": "execute_result"
    }
   ],
   "source": [
    "matrix_1 = [[1, 2, 3], [4, 5, 6], [7, 8, 9]]\n",
    "matrix_1"
   ]
  },
  {
   "cell_type": "code",
   "execution_count": 6,
   "id": "51104568-f1e3-4639-9518-2d0bfa8d2271",
   "metadata": {},
   "outputs": [
    {
     "data": {
      "text/plain": [
       "array([[1, 2, 3],\n",
       "       [4, 5, 6],\n",
       "       [7, 8, 9]])"
      ]
     },
     "execution_count": 6,
     "metadata": {},
     "output_type": "execute_result"
    }
   ],
   "source": [
    "np.array(matrix_1)"
   ]
  },
  {
   "cell_type": "code",
   "execution_count": 7,
   "id": "f48ad02e-bc92-409f-9bb8-8f94c861849b",
   "metadata": {},
   "outputs": [
    {
     "data": {
      "text/plain": [
       "array([0, 1, 2, 3, 4, 5, 6, 7, 8, 9])"
      ]
     },
     "execution_count": 7,
     "metadata": {},
     "output_type": "execute_result"
    }
   ],
   "source": [
    "np.arange(0, 10)"
   ]
  },
  {
   "cell_type": "code",
   "execution_count": 8,
   "id": "07074ee8-dc91-4c74-9ee3-e6fdd565f193",
   "metadata": {},
   "outputs": [
    {
     "data": {
      "text/plain": [
       "array([ 0,  2,  4,  6,  8, 10, 12, 14, 16, 18, 20])"
      ]
     },
     "execution_count": 8,
     "metadata": {},
     "output_type": "execute_result"
    }
   ],
   "source": [
    "np.arange(0, 21, 2)"
   ]
  },
  {
   "cell_type": "code",
   "execution_count": 9,
   "id": "bec66f8b-cec7-4eb2-ad02-84dffa1ae3be",
   "metadata": {},
   "outputs": [
    {
     "data": {
      "text/plain": [
       "array([0., 0., 0.])"
      ]
     },
     "execution_count": 9,
     "metadata": {},
     "output_type": "execute_result"
    }
   ],
   "source": [
    "np.zeros(3)"
   ]
  },
  {
   "cell_type": "code",
   "execution_count": 11,
   "id": "436ce317-e54a-48e7-af1f-cd09b46b546b",
   "metadata": {},
   "outputs": [
    {
     "data": {
      "text/plain": [
       "array([[0., 0., 0., 0.],\n",
       "       [0., 0., 0., 0.],\n",
       "       [0., 0., 0., 0.],\n",
       "       [0., 0., 0., 0.]])"
      ]
     },
     "execution_count": 11,
     "metadata": {},
     "output_type": "execute_result"
    }
   ],
   "source": [
    "np.zeros((4, 4))"
   ]
  },
  {
   "cell_type": "code",
   "execution_count": 12,
   "id": "336b78df-e7f7-4b1c-bbed-cba3adea81e9",
   "metadata": {},
   "outputs": [
    {
     "data": {
      "text/plain": [
       "array([1., 1., 1., 1., 1.])"
      ]
     },
     "execution_count": 12,
     "metadata": {},
     "output_type": "execute_result"
    }
   ],
   "source": [
    "np.ones(5)"
   ]
  },
  {
   "cell_type": "code",
   "execution_count": 13,
   "id": "e9f46d0a-23d6-43a8-8dc6-4dd72d55bbd4",
   "metadata": {},
   "outputs": [
    {
     "data": {
      "text/plain": [
       "array([[1., 1., 1.],\n",
       "       [1., 1., 1.],\n",
       "       [1., 1., 1.]])"
      ]
     },
     "execution_count": 13,
     "metadata": {},
     "output_type": "execute_result"
    }
   ],
   "source": [
    "np.ones((3, 3))"
   ]
  },
  {
   "cell_type": "code",
   "execution_count": 16,
   "id": "ceec60f8-fdb6-43c6-9068-7f5a57868002",
   "metadata": {},
   "outputs": [
    {
     "data": {
      "text/plain": [
       "array([ 0.,  4.,  8., 12., 16., 20.])"
      ]
     },
     "execution_count": 16,
     "metadata": {},
     "output_type": "execute_result"
    }
   ],
   "source": [
    "np.linspace(0, 20, 6)"
   ]
  },
  {
   "cell_type": "code",
   "execution_count": 17,
   "id": "51450174-35b5-4c3a-914b-26a2fab1ba46",
   "metadata": {},
   "outputs": [
    {
     "data": {
      "text/plain": [
       "array([ 4.        ,  7.10526316, 10.21052632, 13.31578947, 16.42105263,\n",
       "       19.52631579, 22.63157895, 25.73684211, 28.84210526, 31.94736842,\n",
       "       35.05263158, 38.15789474, 41.26315789, 44.36842105, 47.47368421,\n",
       "       50.57894737, 53.68421053, 56.78947368, 59.89473684, 63.        ])"
      ]
     },
     "execution_count": 17,
     "metadata": {},
     "output_type": "execute_result"
    }
   ],
   "source": [
    "np.linspace(4, 63, 20)"
   ]
  },
  {
   "cell_type": "code",
   "execution_count": 18,
   "id": "5c1a162f-43a1-4bb4-92d4-650b499fe8bb",
   "metadata": {},
   "outputs": [
    {
     "data": {
      "text/plain": [
       "array([[1., 0., 0.],\n",
       "       [0., 1., 0.],\n",
       "       [0., 0., 1.]])"
      ]
     },
     "execution_count": 18,
     "metadata": {},
     "output_type": "execute_result"
    }
   ],
   "source": [
    "np.eye(3)"
   ]
  },
  {
   "cell_type": "code",
   "execution_count": 20,
   "id": "443b040e-8a9f-4b83-9534-c25955b5159c",
   "metadata": {},
   "outputs": [
    {
     "data": {
      "text/plain": [
       "array([0.0065033 , 0.88486244, 0.62670588])"
      ]
     },
     "execution_count": 20,
     "metadata": {},
     "output_type": "execute_result"
    }
   ],
   "source": [
    "np.random.rand(3)"
   ]
  },
  {
   "cell_type": "code",
   "execution_count": 19,
   "id": "400d6a1f-d925-42df-b435-5c4dc865a5f4",
   "metadata": {},
   "outputs": [
    {
     "data": {
      "text/plain": [
       "array([0.88037305, 0.24539414, 0.06108571, 0.68504023, 0.67076982,\n",
       "       0.3032718 , 0.87978173, 0.91258253, 0.87896292, 0.35846034,\n",
       "       0.23941817, 0.13183685, 0.52455721, 0.75456153, 0.8117351 ,\n",
       "       0.6978592 , 0.62990466, 0.50551703, 0.76411833, 0.29882803,\n",
       "       0.18662878, 0.32948234, 0.63340282, 0.52766173, 0.01711371,\n",
       "       0.19809597, 0.00203132, 0.73824384, 0.85137029, 0.15175481,\n",
       "       0.09692099, 0.39631853, 0.45119669, 0.93775557, 0.19213595,\n",
       "       0.16488085, 0.70522972, 0.86510144, 0.44900875, 0.42222452,\n",
       "       0.65298457, 0.31710695, 0.32093655, 0.89129143, 0.21133865,\n",
       "       0.99521197, 0.57785512, 0.83434141, 0.98373652, 0.15176162])"
      ]
     },
     "execution_count": 19,
     "metadata": {},
     "output_type": "execute_result"
    }
   ],
   "source": [
    "np.random.rand(50)"
   ]
  },
  {
   "cell_type": "code",
   "execution_count": 22,
   "id": "5e445c02-1563-428d-aaaf-2c99b20abd64",
   "metadata": {},
   "outputs": [
    {
     "data": {
      "text/plain": [
       "array([[0.30983077, 0.22927354, 0.3775365 , 0.84353198, 0.68573331,\n",
       "        0.91076428, 0.04062073],\n",
       "       [0.94085898, 0.12991077, 0.11943691, 0.51047351, 0.63333702,\n",
       "        0.93648791, 0.89362894],\n",
       "       [0.67670049, 0.73093977, 0.55007629, 0.10204041, 0.97641536,\n",
       "        0.19103772, 0.10992385],\n",
       "       [0.75316658, 0.62267962, 0.24087388, 0.37558792, 0.34233842,\n",
       "        0.36247585, 0.26458288],\n",
       "       [0.79029447, 0.25249683, 0.18777914, 0.76345947, 0.03694479,\n",
       "        0.69993331, 0.48849984],\n",
       "       [0.16584419, 0.57171439, 0.73149289, 0.09503765, 0.39223142,\n",
       "        0.5328148 , 0.21461379],\n",
       "       [0.43447146, 0.87435533, 0.30750782, 0.7077698 , 0.86839029,\n",
       "        0.63113878, 0.09194574]])"
      ]
     },
     "execution_count": 22,
     "metadata": {},
     "output_type": "execute_result"
    }
   ],
   "source": [
    "np.random.rand(7, 7)"
   ]
  },
  {
   "cell_type": "code",
   "execution_count": 23,
   "id": "4d89225c-1fea-4113-a357-2f154248cd24",
   "metadata": {},
   "outputs": [
    {
     "data": {
      "text/plain": [
       "3465"
      ]
     },
     "execution_count": 23,
     "metadata": {},
     "output_type": "execute_result"
    }
   ],
   "source": [
    "np.random.randint(100, 3500)"
   ]
  },
  {
   "cell_type": "code",
   "execution_count": 24,
   "id": "28e630c5-d458-4600-85ce-a4b8467f95a1",
   "metadata": {},
   "outputs": [
    {
     "data": {
      "text/plain": [
       "array([343, 394, 403, 170, 532, 461, 491, 411, 242, 546, 569, 217, 426,\n",
       "       658, 611])"
      ]
     },
     "execution_count": 24,
     "metadata": {},
     "output_type": "execute_result"
    }
   ],
   "source": [
    "np.random.randint(100, 700, 15)"
   ]
  },
  {
   "cell_type": "code",
   "execution_count": 26,
   "id": "a3d85717-780c-4999-960d-873a75547695",
   "metadata": {},
   "outputs": [
    {
     "data": {
      "text/plain": [
       "array([ 0,  1,  2,  3,  4,  5,  6,  7,  8,  9, 10, 11, 12, 13, 14, 15, 16,\n",
       "       17, 18, 19, 20, 21, 22, 23, 24])"
      ]
     },
     "execution_count": 26,
     "metadata": {},
     "output_type": "execute_result"
    }
   ],
   "source": [
    "arang = np.arange(25)\n",
    "arang"
   ]
  },
  {
   "cell_type": "code",
   "execution_count": 27,
   "id": "69d0e3b5-5579-479e-bf91-1cd31eb40a29",
   "metadata": {},
   "outputs": [
    {
     "data": {
      "text/plain": [
       "array([[ 0,  1,  2,  3,  4],\n",
       "       [ 5,  6,  7,  8,  9],\n",
       "       [10, 11, 12, 13, 14],\n",
       "       [15, 16, 17, 18, 19],\n",
       "       [20, 21, 22, 23, 24]])"
      ]
     },
     "execution_count": 27,
     "metadata": {},
     "output_type": "execute_result"
    }
   ],
   "source": [
    "arang.reshape(5, 5)"
   ]
  },
  {
   "cell_type": "code",
   "execution_count": 35,
   "id": "7e835d61-b0ff-40ff-9bb0-e587ab6c5c0a",
   "metadata": {},
   "outputs": [
    {
     "data": {
      "text/plain": [
       "(25,)"
      ]
     },
     "execution_count": 35,
     "metadata": {},
     "output_type": "execute_result"
    }
   ],
   "source": [
    "arang.shape"
   ]
  },
  {
   "cell_type": "code",
   "execution_count": 36,
   "id": "64334d54-c160-4458-aa37-e3499878f1ca",
   "metadata": {},
   "outputs": [
    {
     "data": {
      "text/plain": [
       "dtype('int32')"
      ]
     },
     "execution_count": 36,
     "metadata": {},
     "output_type": "execute_result"
    }
   ],
   "source": [
    "arang.dtype"
   ]
  },
  {
   "cell_type": "code",
   "execution_count": 37,
   "id": "9ea56125-ae16-4f9a-99bc-a33e481ff0e1",
   "metadata": {},
   "outputs": [
    {
     "data": {
      "text/plain": [
       "numpy.ndarray"
      ]
     },
     "execution_count": 37,
     "metadata": {},
     "output_type": "execute_result"
    }
   ],
   "source": [
    "type(arang)"
   ]
  },
  {
   "cell_type": "code",
   "execution_count": 38,
   "id": "88fd7d94-bf73-40c6-a234-3e9436140649",
   "metadata": {},
   "outputs": [
    {
     "data": {
      "text/plain": [
       "array([[ 0,  1,  2,  3,  4,  5,  6,  7,  8,  9, 10, 11, 12, 13, 14, 15,\n",
       "        16, 17, 18, 19, 20, 21, 22, 23, 24]])"
      ]
     },
     "execution_count": 38,
     "metadata": {},
     "output_type": "execute_result"
    }
   ],
   "source": [
    "arang.reshape(1, 25)"
   ]
  },
  {
   "cell_type": "code",
   "execution_count": 40,
   "id": "a7a77e41-b0b6-48aa-b7ba-80d64601f269",
   "metadata": {},
   "outputs": [
    {
     "data": {
      "text/plain": [
       "(1, 25)"
      ]
     },
     "execution_count": 40,
     "metadata": {},
     "output_type": "execute_result"
    }
   ],
   "source": [
    "arang.reshape(1, 25).shape"
   ]
  },
  {
   "cell_type": "code",
   "execution_count": 39,
   "id": "093738b5-6478-413d-b25f-69fca11eb075",
   "metadata": {},
   "outputs": [
    {
     "data": {
      "text/plain": [
       "array([[ 0],\n",
       "       [ 1],\n",
       "       [ 2],\n",
       "       [ 3],\n",
       "       [ 4],\n",
       "       [ 5],\n",
       "       [ 6],\n",
       "       [ 7],\n",
       "       [ 8],\n",
       "       [ 9],\n",
       "       [10],\n",
       "       [11],\n",
       "       [12],\n",
       "       [13],\n",
       "       [14],\n",
       "       [15],\n",
       "       [16],\n",
       "       [17],\n",
       "       [18],\n",
       "       [19],\n",
       "       [20],\n",
       "       [21],\n",
       "       [22],\n",
       "       [23],\n",
       "       [24]])"
      ]
     },
     "execution_count": 39,
     "metadata": {},
     "output_type": "execute_result"
    }
   ],
   "source": [
    "arang.reshape(25, 1)"
   ]
  },
  {
   "cell_type": "code",
   "execution_count": 41,
   "id": "00a527a7-6230-4a10-b34b-7e32c25e2f06",
   "metadata": {},
   "outputs": [
    {
     "data": {
      "text/plain": [
       "(25, 1)"
      ]
     },
     "execution_count": 41,
     "metadata": {},
     "output_type": "execute_result"
    }
   ],
   "source": [
    "arang.reshape(25, 1).shape"
   ]
  },
  {
   "cell_type": "code",
   "execution_count": 28,
   "id": "1a2c71ed-83bf-4c7f-9a10-6e4a01cc57bc",
   "metadata": {},
   "outputs": [
    {
     "data": {
      "text/plain": [
       "array([26, 33, 48, 56,  2,  5, 17, 60, 11,  6])"
      ]
     },
     "execution_count": 28,
     "metadata": {},
     "output_type": "execute_result"
    }
   ],
   "source": [
    "rand = np.random.randint(0, 70, 10)\n",
    "rand"
   ]
  },
  {
   "cell_type": "code",
   "execution_count": 29,
   "id": "9895d95c-717d-481d-bc77-3786d2dff43c",
   "metadata": {},
   "outputs": [
    {
     "data": {
      "text/plain": [
       "60"
      ]
     },
     "execution_count": 29,
     "metadata": {},
     "output_type": "execute_result"
    }
   ],
   "source": [
    "rand.max()"
   ]
  },
  {
   "cell_type": "code",
   "execution_count": 30,
   "id": "9bb0f1db-1efb-4259-ad46-bb0a590385c3",
   "metadata": {},
   "outputs": [
    {
     "data": {
      "text/plain": [
       "7"
      ]
     },
     "execution_count": 30,
     "metadata": {},
     "output_type": "execute_result"
    }
   ],
   "source": [
    "rand.argmax()"
   ]
  },
  {
   "cell_type": "code",
   "execution_count": 31,
   "id": "c641eff1-7e1f-4851-be0f-4cd1e3c97315",
   "metadata": {},
   "outputs": [
    {
     "data": {
      "text/plain": [
       "2"
      ]
     },
     "execution_count": 31,
     "metadata": {},
     "output_type": "execute_result"
    }
   ],
   "source": [
    "rand.min()"
   ]
  },
  {
   "cell_type": "code",
   "execution_count": 32,
   "id": "318ef660-a906-4aac-b760-a7673dcf5dd0",
   "metadata": {},
   "outputs": [
    {
     "data": {
      "text/plain": [
       "4"
      ]
     },
     "execution_count": 32,
     "metadata": {},
     "output_type": "execute_result"
    }
   ],
   "source": [
    "rand.argmin()"
   ]
  }
 ],
 "metadata": {
  "kernelspec": {
   "display_name": "Python 3 (ipykernel)",
   "language": "python",
   "name": "python3"
  },
  "language_info": {
   "codemirror_mode": {
    "name": "ipython",
    "version": 3
   },
   "file_extension": ".py",
   "mimetype": "text/x-python",
   "name": "python",
   "nbconvert_exporter": "python",
   "pygments_lexer": "ipython3",
   "version": "3.10.7"
  }
 },
 "nbformat": 4,
 "nbformat_minor": 5
}
