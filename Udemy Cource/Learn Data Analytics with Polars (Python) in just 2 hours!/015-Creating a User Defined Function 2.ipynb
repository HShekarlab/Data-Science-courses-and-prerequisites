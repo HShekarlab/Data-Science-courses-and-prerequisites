{
 "cells": [
  {
   "cell_type": "code",
   "execution_count": 1,
   "id": "4c2604cc-7fa8-4277-905d-e12c5483a9e4",
   "metadata": {},
   "outputs": [],
   "source": [
    "import polars as pl"
   ]
  },
  {
   "cell_type": "code",
   "execution_count": 2,
   "id": "28f62856-2e88-4af4-8599-f0705a719f93",
   "metadata": {},
   "outputs": [],
   "source": [
    "df = pl.read_csv(\"weather.csv\", has_header= True)"
   ]
  },
  {
   "cell_type": "code",
   "execution_count": 3,
   "id": "2609d3a0-61e5-4f1f-b0c9-1a89e421d5e5",
   "metadata": {},
   "outputs": [],
   "source": [
    "def Max_Temp_F(row):\n",
    "    try:\n",
    "        temp = row[10]\n",
    "        max_temp = temp * 1.8 + 32\n",
    "\n",
    "        return nax_temp\n",
    "\n",
    "    except:\n",
    "        return 1"
   ]
  },
  {
   "cell_type": "code",
   "execution_count": 4,
   "id": "212ab11f-c2b8-4e22-8d8f-f0f96c46b772",
   "metadata": {},
   "outputs": [
    {
     "name": "stderr",
     "output_type": "stream",
     "text": [
      "C:\\Users\\Hediye\\AppData\\Local\\Temp\\ipykernel_11840\\2044250735.py:1: DeprecationWarning: `apply` is deprecated. It has been renamed to `map_rows`.\n",
      "  df.with_columns(df.apply(Max_Temp_F, return_dtype= pl.Float64)).head(5)\n"
     ]
    },
    {
     "data": {
      "text/html": [
       "<div><style>\n",
       ".dataframe > thead > tr,\n",
       ".dataframe > tbody > tr {\n",
       "  text-align: right;\n",
       "  white-space: pre-wrap;\n",
       "}\n",
       "</style>\n",
       "<small>shape: (5, 15)</small><table border=\"1\" class=\"dataframe\"><thead><tr><th>Data.Precipitation</th><th>Date.Full</th><th>Date.Month</th><th>Date.Week of</th><th>Date.Year</th><th>Station.City</th><th>Station.Code</th><th>Station.Location</th><th>Station.State</th><th>Data.Temperature.Avg Temp</th><th>Data.Temperature.Max Temp</th><th>Data.Temperature.Min Temp</th><th>Data.Wind.Direction</th><th>Data.Wind.Speed</th><th>map</th></tr><tr><td>f64</td><td>str</td><td>i64</td><td>i64</td><td>i64</td><td>str</td><td>str</td><td>str</td><td>str</td><td>i64</td><td>i64</td><td>i64</td><td>i64</td><td>f64</td><td>f64</td></tr></thead><tbody><tr><td>0.0</td><td>&quot;2016-01-03&quot;</td><td>1</td><td>3</td><td>2016</td><td>&quot;Birmingham&quot;</td><td>&quot;BHM&quot;</td><td>&quot;Birmingham, AL…</td><td>&quot;Alabama&quot;</td><td>39</td><td>46</td><td>32</td><td>33</td><td>4.33</td><td>1.0</td></tr><tr><td>0.0</td><td>&quot;2016-01-03&quot;</td><td>1</td><td>3</td><td>2016</td><td>&quot;Huntsville&quot;</td><td>&quot;HSV&quot;</td><td>&quot;Huntsville, AL…</td><td>&quot;Alabama&quot;</td><td>39</td><td>47</td><td>31</td><td>32</td><td>3.86</td><td>1.0</td></tr><tr><td>0.16</td><td>&quot;2016-01-03&quot;</td><td>1</td><td>3</td><td>2016</td><td>&quot;Mobile&quot;</td><td>&quot;MOB&quot;</td><td>&quot;Mobile, AL&quot;</td><td>&quot;Alabama&quot;</td><td>46</td><td>51</td><td>41</td><td>35</td><td>9.73</td><td>1.0</td></tr><tr><td>0.0</td><td>&quot;2016-01-03&quot;</td><td>1</td><td>3</td><td>2016</td><td>&quot;Montgomery&quot;</td><td>&quot;MGM&quot;</td><td>&quot;Montgomery, AL…</td><td>&quot;Alabama&quot;</td><td>45</td><td>52</td><td>38</td><td>32</td><td>6.86</td><td>1.0</td></tr><tr><td>0.01</td><td>&quot;2016-01-03&quot;</td><td>1</td><td>3</td><td>2016</td><td>&quot;Anchorage&quot;</td><td>&quot;ANC&quot;</td><td>&quot;Anchorage, AK&quot;</td><td>&quot;Alaska&quot;</td><td>34</td><td>38</td><td>29</td><td>19</td><td>7.8</td><td>1.0</td></tr></tbody></table></div>"
      ],
      "text/plain": [
       "shape: (5, 15)\n",
       "┌────────────────┬────────────┬────────────┬──────────────┬───┬────────────────┬────────────────┬────────────────┬─────┐\n",
       "│ Data.Precipita ┆ Date.Full  ┆ Date.Month ┆ Date.Week of ┆ … ┆ Data.Temperatu ┆ Data.Wind.Dire ┆ Data.Wind.Spee ┆ map │\n",
       "│ tion           ┆ ---        ┆ ---        ┆ ---          ┆   ┆ re.Min Temp    ┆ ction          ┆ d              ┆ --- │\n",
       "│ ---            ┆ str        ┆ i64        ┆ i64          ┆   ┆ ---            ┆ ---            ┆ ---            ┆ f64 │\n",
       "│ f64            ┆            ┆            ┆              ┆   ┆ i64            ┆ i64            ┆ f64            ┆     │\n",
       "╞════════════════╪════════════╪════════════╪══════════════╪═══╪════════════════╪════════════════╪════════════════╪═════╡\n",
       "│ 0.0            ┆ 2016-01-03 ┆ 1          ┆ 3            ┆ … ┆ 32             ┆ 33             ┆ 4.33           ┆ 1.0 │\n",
       "│ 0.0            ┆ 2016-01-03 ┆ 1          ┆ 3            ┆ … ┆ 31             ┆ 32             ┆ 3.86           ┆ 1.0 │\n",
       "│ 0.16           ┆ 2016-01-03 ┆ 1          ┆ 3            ┆ … ┆ 41             ┆ 35             ┆ 9.73           ┆ 1.0 │\n",
       "│ 0.0            ┆ 2016-01-03 ┆ 1          ┆ 3            ┆ … ┆ 38             ┆ 32             ┆ 6.86           ┆ 1.0 │\n",
       "│ 0.01           ┆ 2016-01-03 ┆ 1          ┆ 3            ┆ … ┆ 29             ┆ 19             ┆ 7.8            ┆ 1.0 │\n",
       "└────────────────┴────────────┴────────────┴──────────────┴───┴────────────────┴────────────────┴────────────────┴─────┘"
      ]
     },
     "execution_count": 4,
     "metadata": {},
     "output_type": "execute_result"
    }
   ],
   "source": [
    "df.with_columns(df.apply(Max_Temp_F, return_dtype= pl.Float64)).head(5)"
   ]
  },
  {
   "cell_type": "code",
   "execution_count": 5,
   "id": "e49c8655-cb7b-4f11-840d-1be2c4d5b541",
   "metadata": {},
   "outputs": [
    {
     "name": "stderr",
     "output_type": "stream",
     "text": [
      "C:\\Users\\Hediye\\AppData\\Local\\Temp\\ipykernel_11840\\4160249736.py:1: DeprecationWarning: `apply` is deprecated. It has been renamed to `map_rows`.\n",
      "  df.with_columns(df.apply(Max_Temp_F, return_dtype= pl.Float64)).rename({\"map\": \"Faren\"}).head(5)\n"
     ]
    },
    {
     "data": {
      "text/html": [
       "<div><style>\n",
       ".dataframe > thead > tr,\n",
       ".dataframe > tbody > tr {\n",
       "  text-align: right;\n",
       "  white-space: pre-wrap;\n",
       "}\n",
       "</style>\n",
       "<small>shape: (5, 15)</small><table border=\"1\" class=\"dataframe\"><thead><tr><th>Data.Precipitation</th><th>Date.Full</th><th>Date.Month</th><th>Date.Week of</th><th>Date.Year</th><th>Station.City</th><th>Station.Code</th><th>Station.Location</th><th>Station.State</th><th>Data.Temperature.Avg Temp</th><th>Data.Temperature.Max Temp</th><th>Data.Temperature.Min Temp</th><th>Data.Wind.Direction</th><th>Data.Wind.Speed</th><th>Faren</th></tr><tr><td>f64</td><td>str</td><td>i64</td><td>i64</td><td>i64</td><td>str</td><td>str</td><td>str</td><td>str</td><td>i64</td><td>i64</td><td>i64</td><td>i64</td><td>f64</td><td>f64</td></tr></thead><tbody><tr><td>0.0</td><td>&quot;2016-01-03&quot;</td><td>1</td><td>3</td><td>2016</td><td>&quot;Birmingham&quot;</td><td>&quot;BHM&quot;</td><td>&quot;Birmingham, AL…</td><td>&quot;Alabama&quot;</td><td>39</td><td>46</td><td>32</td><td>33</td><td>4.33</td><td>1.0</td></tr><tr><td>0.0</td><td>&quot;2016-01-03&quot;</td><td>1</td><td>3</td><td>2016</td><td>&quot;Huntsville&quot;</td><td>&quot;HSV&quot;</td><td>&quot;Huntsville, AL…</td><td>&quot;Alabama&quot;</td><td>39</td><td>47</td><td>31</td><td>32</td><td>3.86</td><td>1.0</td></tr><tr><td>0.16</td><td>&quot;2016-01-03&quot;</td><td>1</td><td>3</td><td>2016</td><td>&quot;Mobile&quot;</td><td>&quot;MOB&quot;</td><td>&quot;Mobile, AL&quot;</td><td>&quot;Alabama&quot;</td><td>46</td><td>51</td><td>41</td><td>35</td><td>9.73</td><td>1.0</td></tr><tr><td>0.0</td><td>&quot;2016-01-03&quot;</td><td>1</td><td>3</td><td>2016</td><td>&quot;Montgomery&quot;</td><td>&quot;MGM&quot;</td><td>&quot;Montgomery, AL…</td><td>&quot;Alabama&quot;</td><td>45</td><td>52</td><td>38</td><td>32</td><td>6.86</td><td>1.0</td></tr><tr><td>0.01</td><td>&quot;2016-01-03&quot;</td><td>1</td><td>3</td><td>2016</td><td>&quot;Anchorage&quot;</td><td>&quot;ANC&quot;</td><td>&quot;Anchorage, AK&quot;</td><td>&quot;Alaska&quot;</td><td>34</td><td>38</td><td>29</td><td>19</td><td>7.8</td><td>1.0</td></tr></tbody></table></div>"
      ],
      "text/plain": [
       "shape: (5, 15)\n",
       "┌────────────────┬────────────┬────────────┬──────────────┬───┬────────────────┬───────────────┬───────────────┬───────┐\n",
       "│ Data.Precipita ┆ Date.Full  ┆ Date.Month ┆ Date.Week of ┆ … ┆ Data.Temperatu ┆ Data.Wind.Dir ┆ Data.Wind.Spe ┆ Faren │\n",
       "│ tion           ┆ ---        ┆ ---        ┆ ---          ┆   ┆ re.Min Temp    ┆ ection        ┆ ed            ┆ ---   │\n",
       "│ ---            ┆ str        ┆ i64        ┆ i64          ┆   ┆ ---            ┆ ---           ┆ ---           ┆ f64   │\n",
       "│ f64            ┆            ┆            ┆              ┆   ┆ i64            ┆ i64           ┆ f64           ┆       │\n",
       "╞════════════════╪════════════╪════════════╪══════════════╪═══╪════════════════╪═══════════════╪═══════════════╪═══════╡\n",
       "│ 0.0            ┆ 2016-01-03 ┆ 1          ┆ 3            ┆ … ┆ 32             ┆ 33            ┆ 4.33          ┆ 1.0   │\n",
       "│ 0.0            ┆ 2016-01-03 ┆ 1          ┆ 3            ┆ … ┆ 31             ┆ 32            ┆ 3.86          ┆ 1.0   │\n",
       "│ 0.16           ┆ 2016-01-03 ┆ 1          ┆ 3            ┆ … ┆ 41             ┆ 35            ┆ 9.73          ┆ 1.0   │\n",
       "│ 0.0            ┆ 2016-01-03 ┆ 1          ┆ 3            ┆ … ┆ 38             ┆ 32            ┆ 6.86          ┆ 1.0   │\n",
       "│ 0.01           ┆ 2016-01-03 ┆ 1          ┆ 3            ┆ … ┆ 29             ┆ 19            ┆ 7.8           ┆ 1.0   │\n",
       "└────────────────┴────────────┴────────────┴──────────────┴───┴────────────────┴───────────────┴───────────────┴───────┘"
      ]
     },
     "execution_count": 5,
     "metadata": {},
     "output_type": "execute_result"
    }
   ],
   "source": [
    "df.with_columns(df.apply(Max_Temp_F, return_dtype= pl.Float64)).rename({\"map\": \"Faren\"}).head(5)"
   ]
  }
 ],
 "metadata": {
  "kernelspec": {
   "display_name": "Python 3 (ipykernel)",
   "language": "python",
   "name": "python3"
  },
  "language_info": {
   "codemirror_mode": {
    "name": "ipython",
    "version": 3
   },
   "file_extension": ".py",
   "mimetype": "text/x-python",
   "name": "python",
   "nbconvert_exporter": "python",
   "pygments_lexer": "ipython3",
   "version": "3.12.1"
  }
 },
 "nbformat": 4,
 "nbformat_minor": 5
}
