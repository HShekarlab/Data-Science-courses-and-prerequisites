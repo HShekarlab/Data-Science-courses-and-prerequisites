{
 "cells": [
  {
   "cell_type": "code",
   "execution_count": 1,
   "id": "f5e1dac2-c25c-4b69-a806-129461ec0158",
   "metadata": {},
   "outputs": [],
   "source": [
    "import polars as pl"
   ]
  },
  {
   "cell_type": "code",
   "execution_count": 2,
   "id": "ca6a452c-02e7-4fd3-92f0-4308bc2e622b",
   "metadata": {},
   "outputs": [],
   "source": [
    "df = pl.read_csv(\"weather.csv\", has_header= True)"
   ]
  },
  {
   "cell_type": "code",
   "execution_count": 3,
   "id": "79fcab98-0f42-4fe4-bea5-247c229e7259",
   "metadata": {},
   "outputs": [
    {
     "data": {
      "text/html": [
       "<div><style>\n",
       ".dataframe > thead > tr,\n",
       ".dataframe > tbody > tr {\n",
       "  text-align: right;\n",
       "  white-space: pre-wrap;\n",
       "}\n",
       "</style>\n",
       "<small>shape: (7, 2)</small><table border=\"1\" class=\"dataframe\"><thead><tr><th>Data.Wind.Direction</th><th>calculate_Data_Wind_Direction</th></tr><tr><td>i64</td><td>i64</td></tr></thead><tbody><tr><td>33</td><td>165</td></tr><tr><td>32</td><td>160</td></tr><tr><td>35</td><td>175</td></tr><tr><td>32</td><td>160</td></tr><tr><td>19</td><td>95</td></tr><tr><td>9</td><td>45</td></tr><tr><td>9</td><td>45</td></tr></tbody></table></div>"
      ],
      "text/plain": [
       "shape: (7, 2)\n",
       "┌─────────────────────┬───────────────────────────────┐\n",
       "│ Data.Wind.Direction ┆ calculate_Data_Wind_Direction │\n",
       "│ ---                 ┆ ---                           │\n",
       "│ i64                 ┆ i64                           │\n",
       "╞═════════════════════╪═══════════════════════════════╡\n",
       "│ 33                  ┆ 165                           │\n",
       "│ 32                  ┆ 160                           │\n",
       "│ 35                  ┆ 175                           │\n",
       "│ 32                  ┆ 160                           │\n",
       "│ 19                  ┆ 95                            │\n",
       "│ 9                   ┆ 45                            │\n",
       "│ 9                   ┆ 45                            │\n",
       "└─────────────────────┴───────────────────────────────┘"
      ]
     },
     "execution_count": 3,
     "metadata": {},
     "output_type": "execute_result"
    }
   ],
   "source": [
    "df.select(pl.col(\"Data.Wind.Direction\"), (pl.col(\"Data.Wind.Direction\") * 5).alias(\"calculate_Data_Wind_Direction\")).head(7)"
   ]
  },
  {
   "cell_type": "code",
   "execution_count": 4,
   "id": "82344a26-48e8-4ccc-8e6e-33bc9daa94b8",
   "metadata": {},
   "outputs": [
    {
     "data": {
      "text/html": [
       "<div><style>\n",
       ".dataframe > thead > tr,\n",
       ".dataframe > tbody > tr {\n",
       "  text-align: right;\n",
       "  white-space: pre-wrap;\n",
       "}\n",
       "</style>\n",
       "<small>shape: (5, 4)</small><table border=\"1\" class=\"dataframe\"><thead><tr><th>Data.Wind.Direction</th><th>Data.Temperature.Avg Temp</th><th>Calculate_Data_Wind_Direction</th><th>Calculate_Data_Temperature_Avg Temp</th></tr><tr><td>i64</td><td>i64</td><td>i64</td><td>i64</td></tr></thead><tbody><tr><td>33</td><td>39</td><td>165</td><td>273</td></tr><tr><td>32</td><td>39</td><td>160</td><td>273</td></tr><tr><td>35</td><td>46</td><td>175</td><td>322</td></tr><tr><td>32</td><td>45</td><td>160</td><td>315</td></tr><tr><td>19</td><td>34</td><td>95</td><td>238</td></tr></tbody></table></div>"
      ],
      "text/plain": [
       "shape: (5, 4)\n",
       "┌─────────────────────┬───────────────────────────┬───────────────────────────────┬───────────────────────────────────┐\n",
       "│ Data.Wind.Direction ┆ Data.Temperature.Avg Temp ┆ Calculate_Data_Wind_Direction ┆ Calculate_Data_Temperature_Avg T… │\n",
       "│ ---                 ┆ ---                       ┆ ---                           ┆ ---                               │\n",
       "│ i64                 ┆ i64                       ┆ i64                           ┆ i64                               │\n",
       "╞═════════════════════╪═══════════════════════════╪═══════════════════════════════╪═══════════════════════════════════╡\n",
       "│ 33                  ┆ 39                        ┆ 165                           ┆ 273                               │\n",
       "│ 32                  ┆ 39                        ┆ 160                           ┆ 273                               │\n",
       "│ 35                  ┆ 46                        ┆ 175                           ┆ 322                               │\n",
       "│ 32                  ┆ 45                        ┆ 160                           ┆ 315                               │\n",
       "│ 19                  ┆ 34                        ┆ 95                            ┆ 238                               │\n",
       "└─────────────────────┴───────────────────────────┴───────────────────────────────┴───────────────────────────────────┘"
      ]
     },
     "execution_count": 4,
     "metadata": {},
     "output_type": "execute_result"
    }
   ],
   "source": [
    "df.select(pl.col([\"Data.Wind.Direction\", \"Data.Temperature.Avg Temp\"]),\n",
    "         (pl.col(\"Data.Wind.Direction\") * 5).alias(\"Calculate_Data_Wind_Direction\"),\n",
    "         (pl.col(\"Data.Temperature.Avg Temp\") * 7).alias(\"Calculate_Data_Temperature_Avg Temp\")).head(5)"
   ]
  },
  {
   "cell_type": "code",
   "execution_count": 5,
   "id": "8e7743f9-2a28-4dc3-92a8-128f79b3169c",
   "metadata": {},
   "outputs": [
    {
     "data": {
      "text/html": [
       "<div><style>\n",
       ".dataframe > thead > tr,\n",
       ".dataframe > tbody > tr {\n",
       "  text-align: right;\n",
       "  white-space: pre-wrap;\n",
       "}\n",
       "</style>\n",
       "<small>shape: (5, 4)</small><table border=\"1\" class=\"dataframe\"><thead><tr><th>Data.Wind.Direction</th><th>Data.Temperature.Avg Temp</th><th>Calculate_Data_Wind_Direction</th><th>Calculate_Data_Temperature_Avg Temp</th></tr><tr><td>i64</td><td>i64</td><td>i64</td><td>f64</td></tr></thead><tbody><tr><td>33</td><td>39</td><td>165</td><td>13.0</td></tr><tr><td>32</td><td>39</td><td>160</td><td>13.0</td></tr><tr><td>35</td><td>46</td><td>175</td><td>15.333333</td></tr><tr><td>32</td><td>45</td><td>160</td><td>15.0</td></tr><tr><td>19</td><td>34</td><td>95</td><td>11.333333</td></tr></tbody></table></div>"
      ],
      "text/plain": [
       "shape: (5, 4)\n",
       "┌─────────────────────┬───────────────────────────┬───────────────────────────────┬───────────────────────────────────┐\n",
       "│ Data.Wind.Direction ┆ Data.Temperature.Avg Temp ┆ Calculate_Data_Wind_Direction ┆ Calculate_Data_Temperature_Avg T… │\n",
       "│ ---                 ┆ ---                       ┆ ---                           ┆ ---                               │\n",
       "│ i64                 ┆ i64                       ┆ i64                           ┆ f64                               │\n",
       "╞═════════════════════╪═══════════════════════════╪═══════════════════════════════╪═══════════════════════════════════╡\n",
       "│ 33                  ┆ 39                        ┆ 165                           ┆ 13.0                              │\n",
       "│ 32                  ┆ 39                        ┆ 160                           ┆ 13.0                              │\n",
       "│ 35                  ┆ 46                        ┆ 175                           ┆ 15.333333                         │\n",
       "│ 32                  ┆ 45                        ┆ 160                           ┆ 15.0                              │\n",
       "│ 19                  ┆ 34                        ┆ 95                            ┆ 11.333333                         │\n",
       "└─────────────────────┴───────────────────────────┴───────────────────────────────┴───────────────────────────────────┘"
      ]
     },
     "execution_count": 5,
     "metadata": {},
     "output_type": "execute_result"
    }
   ],
   "source": [
    "df.select(pl.col([\"Data.Wind.Direction\", \"Data.Temperature.Avg Temp\"]),\n",
    "         (pl.col(\"Data.Wind.Direction\") * 5).alias(\"Calculate_Data_Wind_Direction\"),\n",
    "         (pl.col(\"Data.Temperature.Avg Temp\") / 3).alias(\"Calculate_Data_Temperature_Avg Temp\")).head(5)"
   ]
  },
  {
   "cell_type": "code",
   "execution_count": 6,
   "id": "055a3228-56e3-4f9a-9082-75a800b38043",
   "metadata": {},
   "outputs": [
    {
     "data": {
      "text/html": [
       "<div><style>\n",
       ".dataframe > thead > tr,\n",
       ".dataframe > tbody > tr {\n",
       "  text-align: right;\n",
       "  white-space: pre-wrap;\n",
       "}\n",
       "</style>\n",
       "<small>shape: (5, 4)</small><table border=\"1\" class=\"dataframe\"><thead><tr><th>Data.Wind.Direction</th><th>Data.Temperature.Avg Temp</th><th>Calculate_Data_Wind_Direction</th><th>Calculate_Data_Temperature_Avg Temp</th></tr><tr><td>i64</td><td>i64</td><td>i64</td><td>f64</td></tr></thead><tbody><tr><td>33</td><td>39</td><td>165</td><td>12.0</td></tr><tr><td>32</td><td>39</td><td>160</td><td>12.0</td></tr><tr><td>35</td><td>46</td><td>175</td><td>14.153846</td></tr><tr><td>32</td><td>45</td><td>160</td><td>13.846154</td></tr><tr><td>19</td><td>34</td><td>95</td><td>10.461538</td></tr></tbody></table></div>"
      ],
      "text/plain": [
       "shape: (5, 4)\n",
       "┌─────────────────────┬───────────────────────────┬───────────────────────────────┬───────────────────────────────────┐\n",
       "│ Data.Wind.Direction ┆ Data.Temperature.Avg Temp ┆ Calculate_Data_Wind_Direction ┆ Calculate_Data_Temperature_Avg T… │\n",
       "│ ---                 ┆ ---                       ┆ ---                           ┆ ---                               │\n",
       "│ i64                 ┆ i64                       ┆ i64                           ┆ f64                               │\n",
       "╞═════════════════════╪═══════════════════════════╪═══════════════════════════════╪═══════════════════════════════════╡\n",
       "│ 33                  ┆ 39                        ┆ 165                           ┆ 12.0                              │\n",
       "│ 32                  ┆ 39                        ┆ 160                           ┆ 12.0                              │\n",
       "│ 35                  ┆ 46                        ┆ 175                           ┆ 14.153846                         │\n",
       "│ 32                  ┆ 45                        ┆ 160                           ┆ 13.846154                         │\n",
       "│ 19                  ┆ 34                        ┆ 95                            ┆ 10.461538                         │\n",
       "└─────────────────────┴───────────────────────────┴───────────────────────────────┴───────────────────────────────────┘"
      ]
     },
     "execution_count": 6,
     "metadata": {},
     "output_type": "execute_result"
    }
   ],
   "source": [
    "df.select(pl.col([\"Data.Wind.Direction\", \"Data.Temperature.Avg Temp\"]),\n",
    "         (pl.col(\"Data.Wind.Direction\") * 5).alias(\"Calculate_Data_Wind_Direction\"),\n",
    "         (pl.col(\"Data.Temperature.Avg Temp\") / 3.25).alias(\"Calculate_Data_Temperature_Avg Temp\")).head(5)"
   ]
  },
  {
   "cell_type": "code",
   "execution_count": 7,
   "id": "bfef2bae-84d2-416e-ac53-536d16ac868f",
   "metadata": {},
   "outputs": [
    {
     "data": {
      "text/html": [
       "<div><style>\n",
       ".dataframe > thead > tr,\n",
       ".dataframe > tbody > tr {\n",
       "  text-align: right;\n",
       "  white-space: pre-wrap;\n",
       "}\n",
       "</style>\n",
       "<small>shape: (5, 4)</small><table border=\"1\" class=\"dataframe\"><thead><tr><th>Data.Wind.Direction</th><th>Data.Temperature.Avg Temp</th><th>Calculate_Data_Wind_Direction</th><th>Calculate_Data_Temperature_Avg Temp</th></tr><tr><td>i64</td><td>i64</td><td>i64</td><td>f64</td></tr></thead><tbody><tr><td>33</td><td>39</td><td>165</td><td>12.0</td></tr><tr><td>32</td><td>39</td><td>160</td><td>12.0</td></tr><tr><td>35</td><td>46</td><td>175</td><td>14.0</td></tr><tr><td>32</td><td>45</td><td>160</td><td>14.0</td></tr><tr><td>19</td><td>34</td><td>95</td><td>10.0</td></tr></tbody></table></div>"
      ],
      "text/plain": [
       "shape: (5, 4)\n",
       "┌─────────────────────┬───────────────────────────┬───────────────────────────────┬───────────────────────────────────┐\n",
       "│ Data.Wind.Direction ┆ Data.Temperature.Avg Temp ┆ Calculate_Data_Wind_Direction ┆ Calculate_Data_Temperature_Avg T… │\n",
       "│ ---                 ┆ ---                       ┆ ---                           ┆ ---                               │\n",
       "│ i64                 ┆ i64                       ┆ i64                           ┆ f64                               │\n",
       "╞═════════════════════╪═══════════════════════════╪═══════════════════════════════╪═══════════════════════════════════╡\n",
       "│ 33                  ┆ 39                        ┆ 165                           ┆ 12.0                              │\n",
       "│ 32                  ┆ 39                        ┆ 160                           ┆ 12.0                              │\n",
       "│ 35                  ┆ 46                        ┆ 175                           ┆ 14.0                              │\n",
       "│ 32                  ┆ 45                        ┆ 160                           ┆ 14.0                              │\n",
       "│ 19                  ┆ 34                        ┆ 95                            ┆ 10.0                              │\n",
       "└─────────────────────┴───────────────────────────┴───────────────────────────────┴───────────────────────────────────┘"
      ]
     },
     "execution_count": 7,
     "metadata": {},
     "output_type": "execute_result"
    }
   ],
   "source": [
    "df.select(pl.col([\"Data.Wind.Direction\", \"Data.Temperature.Avg Temp\"]),\n",
    "         (pl.col(\"Data.Wind.Direction\") * 5).alias(\"Calculate_Data_Wind_Direction\"),\n",
    "         (pl.col(\"Data.Temperature.Avg Temp\") / 3.25).cast(pl.Float64).round().alias(\"Calculate_Data_Temperature_Avg Temp\")).head(5)"
   ]
  },
  {
   "cell_type": "code",
   "execution_count": 8,
   "id": "dbf2c23f-27ab-4a20-8186-86a16829f5db",
   "metadata": {},
   "outputs": [
    {
     "data": {
      "text/html": [
       "<div><style>\n",
       ".dataframe > thead > tr,\n",
       ".dataframe > tbody > tr {\n",
       "  text-align: right;\n",
       "  white-space: pre-wrap;\n",
       "}\n",
       "</style>\n",
       "<small>shape: (5, 4)</small><table border=\"1\" class=\"dataframe\"><thead><tr><th>Data.Wind.Direction</th><th>Data.Temperature.Avg Temp</th><th>Calculate_Data_Wind_Direction</th><th>Calculate_Data_Temperature_Avg Temp</th></tr><tr><td>i64</td><td>i64</td><td>i64</td><td>f64</td></tr></thead><tbody><tr><td>33</td><td>39</td><td>165</td><td>12.0</td></tr><tr><td>32</td><td>39</td><td>160</td><td>12.0</td></tr><tr><td>35</td><td>46</td><td>175</td><td>14.2</td></tr><tr><td>32</td><td>45</td><td>160</td><td>13.8</td></tr><tr><td>19</td><td>34</td><td>95</td><td>10.5</td></tr></tbody></table></div>"
      ],
      "text/plain": [
       "shape: (5, 4)\n",
       "┌─────────────────────┬───────────────────────────┬───────────────────────────────┬───────────────────────────────────┐\n",
       "│ Data.Wind.Direction ┆ Data.Temperature.Avg Temp ┆ Calculate_Data_Wind_Direction ┆ Calculate_Data_Temperature_Avg T… │\n",
       "│ ---                 ┆ ---                       ┆ ---                           ┆ ---                               │\n",
       "│ i64                 ┆ i64                       ┆ i64                           ┆ f64                               │\n",
       "╞═════════════════════╪═══════════════════════════╪═══════════════════════════════╪═══════════════════════════════════╡\n",
       "│ 33                  ┆ 39                        ┆ 165                           ┆ 12.0                              │\n",
       "│ 32                  ┆ 39                        ┆ 160                           ┆ 12.0                              │\n",
       "│ 35                  ┆ 46                        ┆ 175                           ┆ 14.2                              │\n",
       "│ 32                  ┆ 45                        ┆ 160                           ┆ 13.8                              │\n",
       "│ 19                  ┆ 34                        ┆ 95                            ┆ 10.5                              │\n",
       "└─────────────────────┴───────────────────────────┴───────────────────────────────┴───────────────────────────────────┘"
      ]
     },
     "execution_count": 8,
     "metadata": {},
     "output_type": "execute_result"
    }
   ],
   "source": [
    "df.select(pl.col([\"Data.Wind.Direction\", \"Data.Temperature.Avg Temp\"]),\n",
    "         (pl.col(\"Data.Wind.Direction\") * 5).alias(\"Calculate_Data_Wind_Direction\"),\n",
    "         (pl.col(\"Data.Temperature.Avg Temp\") / 3.25).cast(pl.Float64).round(1).alias(\"Calculate_Data_Temperature_Avg Temp\")).head(5)"
   ]
  },
  {
   "cell_type": "code",
   "execution_count": 9,
   "id": "be12aba3-8334-4e55-9c7f-c47d5b339d17",
   "metadata": {},
   "outputs": [
    {
     "data": {
      "text/html": [
       "<div><style>\n",
       ".dataframe > thead > tr,\n",
       ".dataframe > tbody > tr {\n",
       "  text-align: right;\n",
       "  white-space: pre-wrap;\n",
       "}\n",
       "</style>\n",
       "<small>shape: (5, 4)</small><table border=\"1\" class=\"dataframe\"><thead><tr><th>Data.Wind.Direction</th><th>Data.Temperature.Avg Temp</th><th>Calculate_Data_Wind_Direction</th><th>Calculate_Data_Temperature_Avg Temp</th></tr><tr><td>i64</td><td>i64</td><td>i64</td><td>f64</td></tr></thead><tbody><tr><td>33</td><td>39</td><td>165</td><td>12.0</td></tr><tr><td>32</td><td>39</td><td>160</td><td>12.0</td></tr><tr><td>35</td><td>46</td><td>175</td><td>14.15</td></tr><tr><td>32</td><td>45</td><td>160</td><td>13.85</td></tr><tr><td>19</td><td>34</td><td>95</td><td>10.46</td></tr></tbody></table></div>"
      ],
      "text/plain": [
       "shape: (5, 4)\n",
       "┌─────────────────────┬───────────────────────────┬───────────────────────────────┬───────────────────────────────────┐\n",
       "│ Data.Wind.Direction ┆ Data.Temperature.Avg Temp ┆ Calculate_Data_Wind_Direction ┆ Calculate_Data_Temperature_Avg T… │\n",
       "│ ---                 ┆ ---                       ┆ ---                           ┆ ---                               │\n",
       "│ i64                 ┆ i64                       ┆ i64                           ┆ f64                               │\n",
       "╞═════════════════════╪═══════════════════════════╪═══════════════════════════════╪═══════════════════════════════════╡\n",
       "│ 33                  ┆ 39                        ┆ 165                           ┆ 12.0                              │\n",
       "│ 32                  ┆ 39                        ┆ 160                           ┆ 12.0                              │\n",
       "│ 35                  ┆ 46                        ┆ 175                           ┆ 14.15                             │\n",
       "│ 32                  ┆ 45                        ┆ 160                           ┆ 13.85                             │\n",
       "│ 19                  ┆ 34                        ┆ 95                            ┆ 10.46                             │\n",
       "└─────────────────────┴───────────────────────────┴───────────────────────────────┴───────────────────────────────────┘"
      ]
     },
     "execution_count": 9,
     "metadata": {},
     "output_type": "execute_result"
    }
   ],
   "source": [
    "df.select(pl.col([\"Data.Wind.Direction\", \"Data.Temperature.Avg Temp\"]),\n",
    "         (pl.col(\"Data.Wind.Direction\") * 5).alias(\"Calculate_Data_Wind_Direction\"),\n",
    "         (pl.col(\"Data.Temperature.Avg Temp\") / 3.25).cast(pl.Float64).round(2).alias(\"Calculate_Data_Temperature_Avg Temp\")).head(5)"
   ]
  },
  {
   "cell_type": "code",
   "execution_count": 10,
   "id": "0de1dcb3-05eb-4ee4-a8eb-3ed3568e9ddf",
   "metadata": {},
   "outputs": [
    {
     "data": {
      "text/html": [
       "<div><style>\n",
       ".dataframe > thead > tr,\n",
       ".dataframe > tbody > tr {\n",
       "  text-align: right;\n",
       "  white-space: pre-wrap;\n",
       "}\n",
       "</style>\n",
       "<small>shape: (5, 4)</small><table border=\"1\" class=\"dataframe\"><thead><tr><th>Data.Wind.Direction</th><th>Data.Temperature.Avg Temp</th><th>Calculate_Data_Wind_Direction</th><th>Calculate_Data_Temperature_Avg Temp</th></tr><tr><td>i64</td><td>i64</td><td>i64</td><td>f64</td></tr></thead><tbody><tr><td>33</td><td>39</td><td>165</td><td>12.0</td></tr><tr><td>32</td><td>39</td><td>160</td><td>12.0</td></tr><tr><td>35</td><td>46</td><td>175</td><td>14.15</td></tr><tr><td>32</td><td>45</td><td>160</td><td>13.85</td></tr><tr><td>19</td><td>34</td><td>95</td><td>10.46</td></tr></tbody></table></div>"
      ],
      "text/plain": [
       "shape: (5, 4)\n",
       "┌─────────────────────┬───────────────────────────┬───────────────────────────────┬───────────────────────────────────┐\n",
       "│ Data.Wind.Direction ┆ Data.Temperature.Avg Temp ┆ Calculate_Data_Wind_Direction ┆ Calculate_Data_Temperature_Avg T… │\n",
       "│ ---                 ┆ ---                       ┆ ---                           ┆ ---                               │\n",
       "│ i64                 ┆ i64                       ┆ i64                           ┆ f64                               │\n",
       "╞═════════════════════╪═══════════════════════════╪═══════════════════════════════╪═══════════════════════════════════╡\n",
       "│ 33                  ┆ 39                        ┆ 165                           ┆ 12.0                              │\n",
       "│ 32                  ┆ 39                        ┆ 160                           ┆ 12.0                              │\n",
       "│ 35                  ┆ 46                        ┆ 175                           ┆ 14.15                             │\n",
       "│ 32                  ┆ 45                        ┆ 160                           ┆ 13.85                             │\n",
       "│ 19                  ┆ 34                        ┆ 95                            ┆ 10.46                             │\n",
       "└─────────────────────┴───────────────────────────┴───────────────────────────────┴───────────────────────────────────┘"
      ]
     },
     "execution_count": 10,
     "metadata": {},
     "output_type": "execute_result"
    }
   ],
   "source": [
    "df.select(pl.col([\"Data.Wind.Direction\", \"Data.Temperature.Avg Temp\"]),\n",
    "         (pl.col(\"Data.Wind.Direction\") * 5).alias(\"Calculate_Data_Wind_Direction\"),\n",
    "         (pl.col(\"Data.Temperature.Avg Temp\") / 3.25).cast(pl.Float64).round(2).alias(\"Calculate_Data_Temperature_Avg Temp\")).head(5)"
   ]
  }
 ],
 "metadata": {
  "kernelspec": {
   "display_name": "Python 3 (ipykernel)",
   "language": "python",
   "name": "python3"
  },
  "language_info": {
   "codemirror_mode": {
    "name": "ipython",
    "version": 3
   },
   "file_extension": ".py",
   "mimetype": "text/x-python",
   "name": "python",
   "nbconvert_exporter": "python",
   "pygments_lexer": "ipython3",
   "version": "3.12.1"
  }
 },
 "nbformat": 4,
 "nbformat_minor": 5
}
