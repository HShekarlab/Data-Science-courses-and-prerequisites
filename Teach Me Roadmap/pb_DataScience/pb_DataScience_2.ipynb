{
 "cells": [
  {
   "cell_type": "code",
   "execution_count": 1,
   "id": "97d7f78d-a9b2-4e75-9bd7-6a2930489e6b",
   "metadata": {},
   "outputs": [],
   "source": [
    "import pandas as pd"
   ]
  },
  {
   "cell_type": "code",
   "execution_count": 2,
   "id": "1f6a99be-1a59-4d11-ba00-41dad72b9694",
   "metadata": {},
   "outputs": [],
   "source": [
    "df = pd.read_csv(\"df.csv\")"
   ]
  },
  {
   "cell_type": "code",
   "execution_count": 3,
   "id": "33ee2f35-f550-43f7-b09b-44e2684acb81",
   "metadata": {},
   "outputs": [
    {
     "data": {
      "text/html": [
       "<div>\n",
       "<style scoped>\n",
       "    .dataframe tbody tr th:only-of-type {\n",
       "        vertical-align: middle;\n",
       "    }\n",
       "\n",
       "    .dataframe tbody tr th {\n",
       "        vertical-align: top;\n",
       "    }\n",
       "\n",
       "    .dataframe thead th {\n",
       "        text-align: right;\n",
       "    }\n",
       "</style>\n",
       "<table border=\"1\" class=\"dataframe\">\n",
       "  <thead>\n",
       "    <tr style=\"text-align: right;\">\n",
       "      <th></th>\n",
       "      <th>Job Title</th>\n",
       "      <th>Salary Estimate</th>\n",
       "      <th>Rating</th>\n",
       "      <th>Company Name</th>\n",
       "      <th>Location</th>\n",
       "      <th>Size</th>\n",
       "      <th>Founded</th>\n",
       "      <th>Type of ownership</th>\n",
       "      <th>Industry</th>\n",
       "      <th>Sector</th>\n",
       "      <th>Revenue</th>\n",
       "    </tr>\n",
       "  </thead>\n",
       "  <tbody>\n",
       "    <tr>\n",
       "      <th>0</th>\n",
       "      <td>Senior Data Scientist</td>\n",
       "      <td>$111K-$181K (Glassdoor est.)</td>\n",
       "      <td>3.5</td>\n",
       "      <td>Hopper\\n3.5</td>\n",
       "      <td>New York, NY</td>\n",
       "      <td>501 to 1000 employees</td>\n",
       "      <td>2007</td>\n",
       "      <td>Company - Private</td>\n",
       "      <td>Travel Agencies</td>\n",
       "      <td>Travel &amp; Tourism</td>\n",
       "      <td>Unknown / Non-Applicable</td>\n",
       "    </tr>\n",
       "    <tr>\n",
       "      <th>1</th>\n",
       "      <td>Data Scientist, Product Analytics</td>\n",
       "      <td>$111K-$181K (Glassdoor est.)</td>\n",
       "      <td>4.5</td>\n",
       "      <td>Noom US\\n4.5</td>\n",
       "      <td>New York, NY</td>\n",
       "      <td>1001 to 5000 employees</td>\n",
       "      <td>2008</td>\n",
       "      <td>Company - Private</td>\n",
       "      <td>Health, Beauty, &amp; Fitness</td>\n",
       "      <td>Consumer Services</td>\n",
       "      <td>Unknown / Non-Applicable</td>\n",
       "    </tr>\n",
       "    <tr>\n",
       "      <th>2</th>\n",
       "      <td>Data Science Manager</td>\n",
       "      <td>$111K-$181K (Glassdoor est.)</td>\n",
       "      <td>-1.0</td>\n",
       "      <td>Decode_M</td>\n",
       "      <td>New York, NY</td>\n",
       "      <td>1 to 50 employees</td>\n",
       "      <td>-1</td>\n",
       "      <td>Unknown</td>\n",
       "      <td>-1</td>\n",
       "      <td>-1</td>\n",
       "      <td>Unknown / Non-Applicable</td>\n",
       "    </tr>\n",
       "  </tbody>\n",
       "</table>\n",
       "</div>"
      ],
      "text/plain": [
       "                           Job Title               Salary Estimate  Rating  \\\n",
       "0              Senior Data Scientist  $111K-$181K (Glassdoor est.)     3.5   \n",
       "1  Data Scientist, Product Analytics  $111K-$181K (Glassdoor est.)     4.5   \n",
       "2               Data Science Manager  $111K-$181K (Glassdoor est.)    -1.0   \n",
       "\n",
       "   Company Name      Location                    Size Founded  \\\n",
       "0   Hopper\\n3.5  New York, NY   501 to 1000 employees    2007   \n",
       "1  Noom US\\n4.5  New York, NY  1001 to 5000 employees    2008   \n",
       "2      Decode_M  New York, NY       1 to 50 employees      -1   \n",
       "\n",
       "   Type of ownership                   Industry             Sector  \\\n",
       "0  Company - Private            Travel Agencies   Travel & Tourism   \n",
       "1  Company - Private  Health, Beauty, & Fitness  Consumer Services   \n",
       "2            Unknown                         -1                 -1   \n",
       "\n",
       "                    Revenue  \n",
       "0  Unknown / Non-Applicable  \n",
       "1  Unknown / Non-Applicable  \n",
       "2  Unknown / Non-Applicable  "
      ]
     },
     "execution_count": 3,
     "metadata": {},
     "output_type": "execute_result"
    }
   ],
   "source": [
    "df.head(3)"
   ]
  },
  {
   "cell_type": "code",
   "execution_count": 4,
   "id": "a3a3e543-fffc-4679-82f2-737ee96d5cdd",
   "metadata": {},
   "outputs": [
    {
     "name": "stdout",
     "output_type": "stream",
     "text": [
      "<class 'pandas.core.frame.DataFrame'>\n",
      "RangeIndex: 5892 entries, 0 to 5891\n",
      "Data columns (total 11 columns):\n",
      " #   Column             Non-Null Count  Dtype  \n",
      "---  ------             --------------  -----  \n",
      " 0   Job Title          5892 non-null   object \n",
      " 1   Salary Estimate    5892 non-null   object \n",
      " 2   Rating             5892 non-null   float64\n",
      " 3   Company Name       5892 non-null   object \n",
      " 4   Location           5892 non-null   object \n",
      " 5   Size               5892 non-null   object \n",
      " 6   Founded            5892 non-null   object \n",
      " 7   Type of ownership  5892 non-null   object \n",
      " 8   Industry           5892 non-null   object \n",
      " 9   Sector             5892 non-null   object \n",
      " 10  Revenue            5892 non-null   object \n",
      "dtypes: float64(1), object(10)\n",
      "memory usage: 506.5+ KB\n"
     ]
    }
   ],
   "source": [
    "df.info()"
   ]
  },
  {
   "cell_type": "code",
   "execution_count": 5,
   "id": "e3870a11-5d56-4344-8ac6-adace0dc4ad1",
   "metadata": {},
   "outputs": [
    {
     "data": {
      "text/plain": [
       "Job Title\n",
       "Data Scientist                              703\n",
       "Data Analyst                                362\n",
       "Data Engineer                               317\n",
       "Senior Data Scientist                       141\n",
       "Machine Learning Engineer                    72\n",
       "                                           ... \n",
       "Scientist Medical Laboratory II               1\n",
       "IT Data Science Analyst                       1\n",
       "Research Scientist Associate IV               1\n",
       "Laboratory Scientist II                       1\n",
       "Supply Chain Consultant - Data Scientist      1\n",
       "Name: count, Length: 2959, dtype: int64"
      ]
     },
     "execution_count": 5,
     "metadata": {},
     "output_type": "execute_result"
    }
   ],
   "source": [
    "df[\"Job Title\"].value_counts()"
   ]
  },
  {
   "cell_type": "code",
   "execution_count": 6,
   "id": "2a662324-4382-4e0a-8e32-75c48b9e270d",
   "metadata": {},
   "outputs": [
    {
     "data": {
      "text/plain": [
       "Rating\n",
       "-1.0    710\n",
       " 3.9    451\n",
       " 3.8    442\n",
       " 4.0    415\n",
       " 4.1    405\n",
       " 3.7    395\n",
       " 3.6    347\n",
       " 3.5    290\n",
       " 4.2    286\n",
       " 3.4    240\n",
       " 4.3    215\n",
       " 3.3    194\n",
       " 5.0    194\n",
       " 3.2    166\n",
       " 3.1    146\n",
       " 4.5    143\n",
       " 4.4    126\n",
       " 4.6    110\n",
       " 4.7     84\n",
       " 4.8     77\n",
       " 3.0     73\n",
       " 2.9     70\n",
       " 2.8     67\n",
       " 4.9     61\n",
       " 2.5     35\n",
       " 2.6     34\n",
       " 2.7     33\n",
       " 2.4     20\n",
       " 2.3     13\n",
       " 2.2     11\n",
       " 1.0     10\n",
       " 1.6      9\n",
       " 2.1      7\n",
       " 2.0      4\n",
       " 1.9      4\n",
       " 1.5      2\n",
       " 1.7      2\n",
       " 1.8      1\n",
       "Name: count, dtype: int64"
      ]
     },
     "execution_count": 6,
     "metadata": {},
     "output_type": "execute_result"
    }
   ],
   "source": [
    "df[\"Rating\"].value_counts()"
   ]
  },
  {
   "cell_type": "code",
   "execution_count": 7,
   "id": "88efd175-2a49-4653-892d-364c71875290",
   "metadata": {},
   "outputs": [
    {
     "data": {
      "text/plain": [
       "Location\n",
       "Austin, TX         345\n",
       "Chicago, IL        333\n",
       "San Diego, CA      331\n",
       "New York, NY       303\n",
       "Los Angeles, CA    234\n",
       "                  ... \n",
       "Redlands, CA         1\n",
       "Pittsburg, CA        1\n",
       "Elk Grove, CA        1\n",
       "Coronado, CA         1\n",
       "Wisconsin, WI        1\n",
       "Name: count, Length: 545, dtype: int64"
      ]
     },
     "execution_count": 7,
     "metadata": {},
     "output_type": "execute_result"
    }
   ],
   "source": [
    "df[\"Location\"].value_counts()"
   ]
  },
  {
   "cell_type": "markdown",
   "id": "39c0f89e-39e1-4a2d-8644-8005c21ad04d",
   "metadata": {},
   "source": [
    "*Remove instances without salary estimates*"
   ]
  },
  {
   "cell_type": "code",
   "execution_count": 8,
   "id": "3cca9ce8-c8f9-4f4f-b744-5ff4524c9f8c",
   "metadata": {},
   "outputs": [],
   "source": [
    "df = df[df[\"Salary Estimate\"] != \"-1\"]"
   ]
  },
  {
   "cell_type": "markdown",
   "id": "182cc4b7-08d0-433d-9f4b-f3754ce20893",
   "metadata": {},
   "source": [
    "*Remove K and $*"
   ]
  },
  {
   "cell_type": "code",
   "execution_count": 9,
   "id": "a7a53867-6662-4ec0-88a4-2090ed91d415",
   "metadata": {},
   "outputs": [],
   "source": [
    "df[\"Salary Estimate\"] = df[\"Salary Estimate\"].apply(lambda x: x.replace(\"K\", \"\").replace(\"$\", \"\"))"
   ]
  },
  {
   "cell_type": "markdown",
   "id": "3acb555a-4800-4d70-b8d5-839c3fbe0345",
   "metadata": {},
   "source": [
    "*Add hourly binary columns*"
   ]
  },
  {
   "cell_type": "code",
   "execution_count": 10,
   "id": "6954b1a1-1e4f-46fd-ae7e-2ea07bd17721",
   "metadata": {},
   "outputs": [],
   "source": [
    "df[\"Hourly\"] = df[\"Salary Estimate\"].apply(lambda x: 1 if \"per hour\" in x.lower() else 0)"
   ]
  },
  {
   "cell_type": "markdown",
   "id": "61935bdc-02fa-49cd-8b63-8c21ae8a9f90",
   "metadata": {},
   "source": [
    "*Add employer provided binary columns*"
   ]
  },
  {
   "cell_type": "code",
   "execution_count": 11,
   "id": "d75ac313-a033-4255-bd4c-ef6bbee08d20",
   "metadata": {},
   "outputs": [],
   "source": [
    "df[\"Emloyer_Provided\"] = df[\"Salary Estimate\"].apply(lambda x: 1 if \"employer est\" in x.lower() else 0)"
   ]
  },
  {
   "cell_type": "markdown",
   "id": "3ae388c5-1f6f-4602-99f1-5c54a55fe145",
   "metadata": {},
   "source": [
    "*Add min salary columns and cast them into integer type*"
   ]
  },
  {
   "cell_type": "code",
   "execution_count": 12,
   "id": "e261b35d-ab66-4b73-9a93-a51b5382915d",
   "metadata": {},
   "outputs": [],
   "source": [
    "df[\"Min_Salary\"] = df[\"Salary Estimate\"].apply(lambda x: int(x.split(\"-\")[0]))"
   ]
  },
  {
   "cell_type": "markdown",
   "id": "81f5db5f-c3fc-4069-be3d-6a5504a7495d",
   "metadata": {},
   "source": [
    "*Add max salary columns and cast them into integer type*"
   ]
  },
  {
   "cell_type": "code",
   "execution_count": 13,
   "id": "e2e2c963-8671-4286-ab03-863f33b05445",
   "metadata": {},
   "outputs": [],
   "source": [
    "df[\"Max_Salary\"] = df[\"Salary Estimate\"].apply(lambda x: x.split(\"-\")[1]).replace(\"[^0-9]\", \"\", regex= True)\n",
    "df[\"Max_Salary\"] = df[\"Max_Salary\"].apply(int)"
   ]
  },
  {
   "cell_type": "markdown",
   "id": "f8dc78e4-68e1-4f3b-9cf6-e75b368c77cb",
   "metadata": {},
   "source": [
    "*Convert hourly wages to annual*"
   ]
  },
  {
   "cell_type": "code",
   "execution_count": 14,
   "id": "40249824-a041-413d-8733-e19c33a2abde",
   "metadata": {},
   "outputs": [],
   "source": [
    "df[\"Min_Salary\"] = df.apply(lambda x: x.Min_Salary if x.Hourly == 0 else x.Min_Salary * 2.05, axis= 1)\n",
    "df[\"Max_Salary\"] = df.apply(lambda x: x.Max_Salary if x.Hourly == 0 else x.Max_Salary * 2.05, axis= 1)"
   ]
  },
  {
   "cell_type": "code",
   "execution_count": 15,
   "id": "d43ee3be-ca84-4653-89a5-c9f9d7b36d0b",
   "metadata": {},
   "outputs": [],
   "source": [
    "df[\"Average_Salary\"] = (df.Min_Salary + df.Max_Salary) / 2"
   ]
  },
  {
   "cell_type": "markdown",
   "id": "bdd4980a-bd22-4f05-a10b-88c50fc68bd6",
   "metadata": {},
   "source": [
    "*Remove the initial salary estimate column*"
   ]
  },
  {
   "cell_type": "code",
   "execution_count": 16,
   "id": "e10621bf-4d75-442d-b149-6f1b9997faf3",
   "metadata": {},
   "outputs": [],
   "source": [
    "df.drop(\"Salary Estimate\", axis= 1, inplace= True)"
   ]
  },
  {
   "cell_type": "markdown",
   "id": "313ce273-88d0-4d98-83d1-01fc755ba7ee",
   "metadata": {},
   "source": [
    "*Ensure ratings are float type*"
   ]
  },
  {
   "cell_type": "code",
   "execution_count": 17,
   "id": "8d657232-3508-437d-b54a-14657b7ced2b",
   "metadata": {},
   "outputs": [],
   "source": [
    "df[\"Rating\"] = df[\"Rating\"].apply(lambda x: float(x))"
   ]
  },
  {
   "cell_type": "markdown",
   "id": "ed5b2dd9-aa16-4c84-bd3a-9667e257eb02",
   "metadata": {},
   "source": [
    "*Remove rating from the end of company names*"
   ]
  },
  {
   "cell_type": "code",
   "execution_count": 18,
   "id": "372531dc-df8e-455e-8e1c-caac36eacc6a",
   "metadata": {},
   "outputs": [],
   "source": [
    "df[\"Company Name\"] = df[\"Company Name\"].apply(lambda x: x.split(\"\\n\")[0])"
   ]
  },
  {
   "cell_type": "markdown",
   "id": "ccc69274-f8b2-420c-93fa-6e8688e9b1a9",
   "metadata": {},
   "source": [
    "*State: what state is the job in*"
   ]
  },
  {
   "cell_type": "code",
   "execution_count": 19,
   "id": "d9ef1265-f0f5-4421-8e21-ae2d1fa33dda",
   "metadata": {},
   "outputs": [],
   "source": [
    "df[\"State\"] = df[\"Location\"].apply(lambda x: x.split()[-1]) "
   ]
  },
  {
   "cell_type": "code",
   "execution_count": 20,
   "id": "b433a0c2-b818-452b-ae9e-74505cd1b7fc",
   "metadata": {},
   "outputs": [],
   "source": [
    "df = df[df.State != \"Kingdom\"] \n",
    "df = df[df.State != \"States\"]"
   ]
  },
  {
   "cell_type": "markdown",
   "id": "52d5491b-3e8d-4dec-8bda-7fee55636c78",
   "metadata": {},
   "source": [
    "*Replace non-numeric cells in Founded column with -1*"
   ]
  },
  {
   "cell_type": "code",
   "execution_count": 21,
   "id": "46447e9d-f00d-4dc3-b88c-c566b6c9aca1",
   "metadata": {},
   "outputs": [],
   "source": [
    "df[\"Founded\"].replace(\"[^0-9]\", -1, regex= True, inplace= True)"
   ]
  },
  {
   "cell_type": "code",
   "execution_count": 22,
   "id": "93cb6da4-995b-40c6-b68a-86927f8193b5",
   "metadata": {},
   "outputs": [],
   "source": [
    "df[\"Company_age\"] = df[\"Founded\"].apply(lambda x: 2021-int(x) if int(x) > 0 else -1)"
   ]
  },
  {
   "cell_type": "markdown",
   "id": "d1ae9d79-133a-4cf3-9859-8646a852fa80",
   "metadata": {},
   "source": [
    "*Organize job titles*"
   ]
  },
  {
   "cell_type": "code",
   "execution_count": 23,
   "id": "8f1b3cf8-4890-4934-b452-65cb556616ea",
   "metadata": {},
   "outputs": [],
   "source": [
    "def title_organizer(x):\n",
    "    \n",
    "    x = x.lower()\n",
    "    \n",
    "    if (\"data scientist\" in x) or (\"data science\" in x):\n",
    "        return \"data scientist\"\n",
    "    elif \"data engineer\" in x:\n",
    "        return \"data engineer\"\n",
    "    elif \"deep learning\" in x:\n",
    "        return \"deep learning engineer\"\n",
    "    elif \"machine learning\" in x:\n",
    "        return \"machine learning engineer\"\n",
    "    elif \"director\" in x:\n",
    "        return \"director\"\n",
    "    elif \"manager\" in x:\n",
    "        return \"manager\"\n",
    "    elif \"analyst\" in x:\n",
    "        return \"analyst\"\n",
    "    elif \"researcher\" in x:\n",
    "        return \"researcher\"\n",
    "    else:\n",
    "        return \"other\"\n",
    "\n",
    "df[\"Title\"] = df[\"Job Title\"].apply(title_organizer)"
   ]
  },
  {
   "cell_type": "markdown",
   "id": "1ff2b71e-db25-4dfc-924e-15f657b7bb24",
   "metadata": {},
   "source": [
    "*Senior position*"
   ]
  },
  {
   "cell_type": "code",
   "execution_count": 24,
   "id": "c214c23d-080c-47a2-9993-d256b3b12237",
   "metadata": {},
   "outputs": [],
   "source": [
    "def senior_junior(x):\n",
    "    x = x.lower()\n",
    "    if \"sr\" in x or \"senior\" in x or \"sr.\" in x or \"lead\" in x or \"principal\" in x or \"vp\" in x or \"manager\" in x:\n",
    "        return \"senior\"\n",
    "    elif \"jr\" in x or \"junior\" in x or \"jr.\" in x:\n",
    "        return \"junior\"\n",
    "    else:\n",
    "        return \"other\"\n",
    "\n",
    "df[\"Seniority\"] = df[\"Job Title\"].apply(senior_junior)"
   ]
  },
  {
   "cell_type": "markdown",
   "id": "c42740ac-042b-4ba5-94ab-35b2493c771d",
   "metadata": {},
   "source": [
    "*Size*"
   ]
  },
  {
   "cell_type": "code",
   "execution_count": 25,
   "id": "6af07144-6cea-41f6-bf0d-fa264e6e7e8d",
   "metadata": {},
   "outputs": [],
   "source": [
    "df[\"Size\"].replace(\"Unknown\", \"-1\", regex= True, inplace= True)\n",
    "df[\"Size\"] = df[\"Size\"].str.lower()"
   ]
  },
  {
   "cell_type": "markdown",
   "id": "7d38acec-d2d6-404f-a0ae-ccef51442a60",
   "metadata": {},
   "source": [
    "*Type of ownership*"
   ]
  },
  {
   "cell_type": "code",
   "execution_count": 26,
   "id": "7aa6ebab-6eb6-4df5-a24d-129b33572501",
   "metadata": {},
   "outputs": [],
   "source": [
    "df[\"Type of ownership\"].replace(\"Unknown\", \"-1\", regex= True, inplace= True)"
   ]
  },
  {
   "cell_type": "markdown",
   "id": "922e0fa4-d649-46a2-9ee7-2c618f5008c4",
   "metadata": {},
   "source": [
    "*Drop unwanted columns, reorder the remining columns, and write the dataframe to csv format*"
   ]
  },
  {
   "cell_type": "code",
   "execution_count": 27,
   "id": "004d4d97-ba0c-4ba1-8425-aa23823b07aa",
   "metadata": {},
   "outputs": [],
   "source": [
    "df.drop([\"Company Name\", \"Location\", \"Founded\", \"Job Title\", \"Revenue\", \"Min_Salary\", \"Max_Salary\"], \n",
    "         inplace= True,\n",
    "         axis= 1)"
   ]
  },
  {
   "cell_type": "code",
   "execution_count": 28,
   "id": "deb8f8e8-2b59-4c96-a673-29e38868154d",
   "metadata": {},
   "outputs": [],
   "source": [
    "df = df.reindex(columns= [\"Average_Salary\", \"Title\",\"Seniority\", \"Rating\", \"Hourly\", \"Emloyer_Provided\",\n",
    "                          \"Company_age\", \"Industry\", \"Sector\", \"Type of ownership\", \"Size\", \"State\"]\n",
    "               )"
   ]
  },
  {
   "cell_type": "code",
   "execution_count": 29,
   "id": "30975fed-4d46-4a4e-8e2b-b07c9e0b0548",
   "metadata": {},
   "outputs": [
    {
     "data": {
      "text/html": [
       "<div>\n",
       "<style scoped>\n",
       "    .dataframe tbody tr th:only-of-type {\n",
       "        vertical-align: middle;\n",
       "    }\n",
       "\n",
       "    .dataframe tbody tr th {\n",
       "        vertical-align: top;\n",
       "    }\n",
       "\n",
       "    .dataframe thead th {\n",
       "        text-align: right;\n",
       "    }\n",
       "</style>\n",
       "<table border=\"1\" class=\"dataframe\">\n",
       "  <thead>\n",
       "    <tr style=\"text-align: right;\">\n",
       "      <th></th>\n",
       "      <th>Average_Salary</th>\n",
       "      <th>Title</th>\n",
       "      <th>Seniority</th>\n",
       "      <th>Rating</th>\n",
       "      <th>Hourly</th>\n",
       "      <th>Emloyer_Provided</th>\n",
       "      <th>Company_age</th>\n",
       "      <th>Industry</th>\n",
       "      <th>Sector</th>\n",
       "      <th>Type of ownership</th>\n",
       "      <th>Size</th>\n",
       "      <th>State</th>\n",
       "    </tr>\n",
       "  </thead>\n",
       "  <tbody>\n",
       "    <tr>\n",
       "      <th>0</th>\n",
       "      <td>146.000</td>\n",
       "      <td>data scientist</td>\n",
       "      <td>senior</td>\n",
       "      <td>3.5</td>\n",
       "      <td>0</td>\n",
       "      <td>0</td>\n",
       "      <td>14</td>\n",
       "      <td>Travel Agencies</td>\n",
       "      <td>Travel &amp; Tourism</td>\n",
       "      <td>Company - Private</td>\n",
       "      <td>501 to 1000 employees</td>\n",
       "      <td>NY</td>\n",
       "    </tr>\n",
       "    <tr>\n",
       "      <th>1</th>\n",
       "      <td>146.000</td>\n",
       "      <td>data scientist</td>\n",
       "      <td>other</td>\n",
       "      <td>4.5</td>\n",
       "      <td>0</td>\n",
       "      <td>0</td>\n",
       "      <td>13</td>\n",
       "      <td>Health, Beauty, &amp; Fitness</td>\n",
       "      <td>Consumer Services</td>\n",
       "      <td>Company - Private</td>\n",
       "      <td>1001 to 5000 employees</td>\n",
       "      <td>NY</td>\n",
       "    </tr>\n",
       "    <tr>\n",
       "      <th>2</th>\n",
       "      <td>146.000</td>\n",
       "      <td>data scientist</td>\n",
       "      <td>senior</td>\n",
       "      <td>-1.0</td>\n",
       "      <td>0</td>\n",
       "      <td>0</td>\n",
       "      <td>-1</td>\n",
       "      <td>-1</td>\n",
       "      <td>-1</td>\n",
       "      <td>-1</td>\n",
       "      <td>1 to 50 employees</td>\n",
       "      <td>NY</td>\n",
       "    </tr>\n",
       "    <tr>\n",
       "      <th>3</th>\n",
       "      <td>146.000</td>\n",
       "      <td>analyst</td>\n",
       "      <td>other</td>\n",
       "      <td>3.4</td>\n",
       "      <td>0</td>\n",
       "      <td>0</td>\n",
       "      <td>2</td>\n",
       "      <td>Internet</td>\n",
       "      <td>Information Technology</td>\n",
       "      <td>Company - Private</td>\n",
       "      <td>201 to 500 employees</td>\n",
       "      <td>NJ</td>\n",
       "    </tr>\n",
       "    <tr>\n",
       "      <th>4</th>\n",
       "      <td>146.000</td>\n",
       "      <td>data scientist</td>\n",
       "      <td>other</td>\n",
       "      <td>3.4</td>\n",
       "      <td>0</td>\n",
       "      <td>0</td>\n",
       "      <td>14</td>\n",
       "      <td>Advertising &amp; Marketing</td>\n",
       "      <td>Business Services</td>\n",
       "      <td>Company - Private</td>\n",
       "      <td>51 to 200 employees</td>\n",
       "      <td>NY</td>\n",
       "    </tr>\n",
       "    <tr>\n",
       "      <th>...</th>\n",
       "      <td>...</td>\n",
       "      <td>...</td>\n",
       "      <td>...</td>\n",
       "      <td>...</td>\n",
       "      <td>...</td>\n",
       "      <td>...</td>\n",
       "      <td>...</td>\n",
       "      <td>...</td>\n",
       "      <td>...</td>\n",
       "      <td>...</td>\n",
       "      <td>...</td>\n",
       "      <td>...</td>\n",
       "    </tr>\n",
       "    <tr>\n",
       "      <th>5882</th>\n",
       "      <td>68.000</td>\n",
       "      <td>other</td>\n",
       "      <td>other</td>\n",
       "      <td>4.2</td>\n",
       "      <td>0</td>\n",
       "      <td>0</td>\n",
       "      <td>75</td>\n",
       "      <td>Federal Agencies</td>\n",
       "      <td>Government</td>\n",
       "      <td>Government</td>\n",
       "      <td>10000+ employees</td>\n",
       "      <td>OH</td>\n",
       "    </tr>\n",
       "    <tr>\n",
       "      <th>5883</th>\n",
       "      <td>89.500</td>\n",
       "      <td>other</td>\n",
       "      <td>senior</td>\n",
       "      <td>4.0</td>\n",
       "      <td>0</td>\n",
       "      <td>0</td>\n",
       "      <td>13</td>\n",
       "      <td>Biotech &amp; Pharmaceuticals</td>\n",
       "      <td>Biotech &amp; Pharmaceuticals</td>\n",
       "      <td>Company - Public</td>\n",
       "      <td>501 to 1000 employees</td>\n",
       "      <td>OH</td>\n",
       "    </tr>\n",
       "    <tr>\n",
       "      <th>5886</th>\n",
       "      <td>89.000</td>\n",
       "      <td>analyst</td>\n",
       "      <td>senior</td>\n",
       "      <td>4.0</td>\n",
       "      <td>0</td>\n",
       "      <td>0</td>\n",
       "      <td>13</td>\n",
       "      <td>Computer Hardware &amp; Software</td>\n",
       "      <td>Information Technology</td>\n",
       "      <td>Company - Public</td>\n",
       "      <td>1001 to 5000 employees</td>\n",
       "      <td>OH</td>\n",
       "    </tr>\n",
       "    <tr>\n",
       "      <th>5887</th>\n",
       "      <td>59.000</td>\n",
       "      <td>analyst</td>\n",
       "      <td>other</td>\n",
       "      <td>3.6</td>\n",
       "      <td>0</td>\n",
       "      <td>0</td>\n",
       "      <td>39</td>\n",
       "      <td>Electrical &amp; Electronic Manufacturing</td>\n",
       "      <td>Manufacturing</td>\n",
       "      <td>Company - Private</td>\n",
       "      <td>201 to 500 employees</td>\n",
       "      <td>OH</td>\n",
       "    </tr>\n",
       "    <tr>\n",
       "      <th>5891</th>\n",
       "      <td>140.425</td>\n",
       "      <td>data scientist</td>\n",
       "      <td>other</td>\n",
       "      <td>3.7</td>\n",
       "      <td>1</td>\n",
       "      <td>0</td>\n",
       "      <td>43</td>\n",
       "      <td>Staffing &amp; Outsourcing</td>\n",
       "      <td>Business Services</td>\n",
       "      <td>Company - Private</td>\n",
       "      <td>1001 to 5000 employees</td>\n",
       "      <td>WI</td>\n",
       "    </tr>\n",
       "  </tbody>\n",
       "</table>\n",
       "<p>5522 rows × 12 columns</p>\n",
       "</div>"
      ],
      "text/plain": [
       "      Average_Salary           Title Seniority  Rating  Hourly  \\\n",
       "0            146.000  data scientist    senior     3.5       0   \n",
       "1            146.000  data scientist     other     4.5       0   \n",
       "2            146.000  data scientist    senior    -1.0       0   \n",
       "3            146.000         analyst     other     3.4       0   \n",
       "4            146.000  data scientist     other     3.4       0   \n",
       "...              ...             ...       ...     ...     ...   \n",
       "5882          68.000           other     other     4.2       0   \n",
       "5883          89.500           other    senior     4.0       0   \n",
       "5886          89.000         analyst    senior     4.0       0   \n",
       "5887          59.000         analyst     other     3.6       0   \n",
       "5891         140.425  data scientist     other     3.7       1   \n",
       "\n",
       "      Emloyer_Provided  Company_age                               Industry  \\\n",
       "0                    0           14                        Travel Agencies   \n",
       "1                    0           13              Health, Beauty, & Fitness   \n",
       "2                    0           -1                                     -1   \n",
       "3                    0            2                               Internet   \n",
       "4                    0           14                Advertising & Marketing   \n",
       "...                ...          ...                                    ...   \n",
       "5882                 0           75                       Federal Agencies   \n",
       "5883                 0           13              Biotech & Pharmaceuticals   \n",
       "5886                 0           13           Computer Hardware & Software   \n",
       "5887                 0           39  Electrical & Electronic Manufacturing   \n",
       "5891                 0           43                 Staffing & Outsourcing   \n",
       "\n",
       "                         Sector  Type of ownership                    Size  \\\n",
       "0              Travel & Tourism  Company - Private   501 to 1000 employees   \n",
       "1             Consumer Services  Company - Private  1001 to 5000 employees   \n",
       "2                            -1                 -1       1 to 50 employees   \n",
       "3        Information Technology  Company - Private    201 to 500 employees   \n",
       "4             Business Services  Company - Private     51 to 200 employees   \n",
       "...                         ...                ...                     ...   \n",
       "5882                 Government         Government        10000+ employees   \n",
       "5883  Biotech & Pharmaceuticals   Company - Public   501 to 1000 employees   \n",
       "5886     Information Technology   Company - Public  1001 to 5000 employees   \n",
       "5887              Manufacturing  Company - Private    201 to 500 employees   \n",
       "5891          Business Services  Company - Private  1001 to 5000 employees   \n",
       "\n",
       "     State  \n",
       "0       NY  \n",
       "1       NY  \n",
       "2       NY  \n",
       "3       NJ  \n",
       "4       NY  \n",
       "...    ...  \n",
       "5882    OH  \n",
       "5883    OH  \n",
       "5886    OH  \n",
       "5887    OH  \n",
       "5891    WI  \n",
       "\n",
       "[5522 rows x 12 columns]"
      ]
     },
     "execution_count": 29,
     "metadata": {},
     "output_type": "execute_result"
    }
   ],
   "source": [
    "df"
   ]
  },
  {
   "cell_type": "code",
   "execution_count": 30,
   "id": "087aa81a-9ace-4fff-92e5-0da4b5b1ed89",
   "metadata": {},
   "outputs": [
    {
     "name": "stdout",
     "output_type": "stream",
     "text": [
      "<class 'pandas.core.frame.DataFrame'>\n",
      "Index: 5522 entries, 0 to 5891\n",
      "Data columns (total 12 columns):\n",
      " #   Column             Non-Null Count  Dtype  \n",
      "---  ------             --------------  -----  \n",
      " 0   Average_Salary     5522 non-null   float64\n",
      " 1   Title              5522 non-null   object \n",
      " 2   Seniority          5522 non-null   object \n",
      " 3   Rating             5522 non-null   float64\n",
      " 4   Hourly             5522 non-null   int64  \n",
      " 5   Emloyer_Provided   5522 non-null   int64  \n",
      " 6   Company_age        5522 non-null   int64  \n",
      " 7   Industry           5522 non-null   object \n",
      " 8   Sector             5522 non-null   object \n",
      " 9   Type of ownership  5522 non-null   object \n",
      " 10  Size               5522 non-null   object \n",
      " 11  State              5522 non-null   object \n",
      "dtypes: float64(2), int64(3), object(7)\n",
      "memory usage: 560.8+ KB\n"
     ]
    }
   ],
   "source": [
    "df.info()"
   ]
  },
  {
   "cell_type": "code",
   "execution_count": 31,
   "id": "833ec62f-b764-47f9-a5b1-4a51118f01e4",
   "metadata": {},
   "outputs": [
    {
     "data": {
      "text/html": [
       "<div>\n",
       "<style scoped>\n",
       "    .dataframe tbody tr th:only-of-type {\n",
       "        vertical-align: middle;\n",
       "    }\n",
       "\n",
       "    .dataframe tbody tr th {\n",
       "        vertical-align: top;\n",
       "    }\n",
       "\n",
       "    .dataframe thead th {\n",
       "        text-align: right;\n",
       "    }\n",
       "</style>\n",
       "<table border=\"1\" class=\"dataframe\">\n",
       "  <thead>\n",
       "    <tr style=\"text-align: right;\">\n",
       "      <th></th>\n",
       "      <th>Average_Salary</th>\n",
       "      <th>Rating</th>\n",
       "      <th>Hourly</th>\n",
       "      <th>Emloyer_Provided</th>\n",
       "      <th>Company_age</th>\n",
       "    </tr>\n",
       "  </thead>\n",
       "  <tbody>\n",
       "    <tr>\n",
       "      <th>count</th>\n",
       "      <td>5522.000000</td>\n",
       "      <td>5522.000000</td>\n",
       "      <td>5522.000000</td>\n",
       "      <td>5522.000000</td>\n",
       "      <td>5522.000000</td>\n",
       "    </tr>\n",
       "    <tr>\n",
       "      <th>mean</th>\n",
       "      <td>105.474638</td>\n",
       "      <td>3.284951</td>\n",
       "      <td>0.004708</td>\n",
       "      <td>0.011409</td>\n",
       "      <td>39.924846</td>\n",
       "    </tr>\n",
       "    <tr>\n",
       "      <th>std</th>\n",
       "      <td>35.589310</td>\n",
       "      <td>1.603858</td>\n",
       "      <td>0.068463</td>\n",
       "      <td>0.106211</td>\n",
       "      <td>52.063773</td>\n",
       "    </tr>\n",
       "    <tr>\n",
       "      <th>min</th>\n",
       "      <td>30.750000</td>\n",
       "      <td>-1.000000</td>\n",
       "      <td>0.000000</td>\n",
       "      <td>0.000000</td>\n",
       "      <td>-1.000000</td>\n",
       "    </tr>\n",
       "    <tr>\n",
       "      <th>25%</th>\n",
       "      <td>76.500000</td>\n",
       "      <td>3.300000</td>\n",
       "      <td>0.000000</td>\n",
       "      <td>0.000000</td>\n",
       "      <td>5.000000</td>\n",
       "    </tr>\n",
       "    <tr>\n",
       "      <th>50%</th>\n",
       "      <td>101.500000</td>\n",
       "      <td>3.800000</td>\n",
       "      <td>0.000000</td>\n",
       "      <td>0.000000</td>\n",
       "      <td>21.000000</td>\n",
       "    </tr>\n",
       "    <tr>\n",
       "      <th>75%</th>\n",
       "      <td>129.500000</td>\n",
       "      <td>4.100000</td>\n",
       "      <td>0.000000</td>\n",
       "      <td>0.000000</td>\n",
       "      <td>52.000000</td>\n",
       "    </tr>\n",
       "    <tr>\n",
       "      <th>max</th>\n",
       "      <td>268.000000</td>\n",
       "      <td>5.000000</td>\n",
       "      <td>1.000000</td>\n",
       "      <td>1.000000</td>\n",
       "      <td>396.000000</td>\n",
       "    </tr>\n",
       "  </tbody>\n",
       "</table>\n",
       "</div>"
      ],
      "text/plain": [
       "       Average_Salary       Rating       Hourly  Emloyer_Provided  Company_age\n",
       "count     5522.000000  5522.000000  5522.000000       5522.000000  5522.000000\n",
       "mean       105.474638     3.284951     0.004708          0.011409    39.924846\n",
       "std         35.589310     1.603858     0.068463          0.106211    52.063773\n",
       "min         30.750000    -1.000000     0.000000          0.000000    -1.000000\n",
       "25%         76.500000     3.300000     0.000000          0.000000     5.000000\n",
       "50%        101.500000     3.800000     0.000000          0.000000    21.000000\n",
       "75%        129.500000     4.100000     0.000000          0.000000    52.000000\n",
       "max        268.000000     5.000000     1.000000          1.000000   396.000000"
      ]
     },
     "execution_count": 31,
     "metadata": {},
     "output_type": "execute_result"
    }
   ],
   "source": [
    "df.describe()"
   ]
  },
  {
   "cell_type": "code",
   "execution_count": 32,
   "id": "0711fbba-668f-4158-879b-48effd094d9a",
   "metadata": {},
   "outputs": [
    {
     "data": {
      "text/plain": [
       "<Axes: ylabel='Frequency'>"
      ]
     },
     "execution_count": 32,
     "metadata": {},
     "output_type": "execute_result"
    },
    {
     "data": {
      "image/png": "[encoded data removed]",
      "text/plain": [
       "<Figure size 640x480 with 1 Axes>"
      ]
     },
     "metadata": {},
     "output_type": "display_data"
    }
   ],
   "source": [
    "df[\"Average_Salary\"].plot.hist()"
   ]
  },
  {
   "cell_type": "code",
   "execution_count": 33,
   "id": "ed9ef4a9-27e0-442a-bb5b-641197f7eff4",
   "metadata": {},
   "outputs": [
    {
     "data": {
      "text/plain": [
       "<Axes: ylabel='Frequency'>"
      ]
     },
     "execution_count": 33,
     "metadata": {},
     "output_type": "execute_result"
    },
    {
     "data": {
      "image/png": "[encoded data removed]",
      "text/plain": [
       "<Figure size 640x480 with 1 Axes>"
      ]
     },
     "metadata": {},
     "output_type": "display_data"
    }
   ],
   "source": [
    "df[\"Average_Salary\"].plot.hist(bins= 5, color= \"c\", edgecolor= \"b\")"
   ]
  },
  {
   "cell_type": "code",
   "execution_count": 34,
   "id": "075b05b7-0b11-4738-97a4-5efcef8e4bea",
   "metadata": {},
   "outputs": [
    {
     "name": "stdout",
     "output_type": "stream",
     "text": [
      "State\n",
      "CA    1320\n",
      "TX    1257\n",
      "OH     409\n",
      "IL     368\n",
      "PA     324\n",
      "NY     313\n",
      "AZ     297\n",
      "FL     261\n",
      "MA     239\n",
      "NJ     233\n",
      "MI     203\n",
      "VA     131\n",
      "DC      85\n",
      "MD      61\n",
      "DE      10\n",
      "WI       4\n",
      "GA       1\n",
      "ME       1\n",
      "KY       1\n",
      "NM       1\n",
      "NH       1\n",
      "IN       1\n",
      "NC       1\n",
      "Name: count, dtype: int64\n"
     ]
    }
   ],
   "source": [
    "state = df[\"State\"].value_counts()\n",
    "print(state)"
   ]
  },
  {
   "cell_type": "code",
   "execution_count": 35,
   "id": "a3ad4dd1-8254-4eca-9a0c-1d8c20ac96f0",
   "metadata": {},
   "outputs": [
    {
     "data": {
      "text/plain": [
       "<Axes: xlabel='State'>"
      ]
     },
     "execution_count": 35,
     "metadata": {},
     "output_type": "execute_result"
    },
    {
     "data": {
      "image/png": "[encoded data removed]",
      "text/plain": [
       "<Figure size 640x480 with 1 Axes>"
      ]
     },
     "metadata": {},
     "output_type": "display_data"
    }
   ],
   "source": [
    "state.plot(kind= \"bar\", color = \"lime\")"
   ]
  }
 ],
 "metadata": {
  "kernelspec": {
   "display_name": "Python 3 (ipykernel)",
   "language": "python",
   "name": "python3"
  },
  "language_info": {
   "codemirror_mode": {
    "name": "ipython",
    "version": 3
   },
   "file_extension": ".py",
   "mimetype": "text/x-python",
   "name": "python",
   "nbconvert_exporter": "python",
   "pygments_lexer": "ipython3",
   "version": "3.12.1"
  }
 },
 "nbformat": 4,
 "nbformat_minor": 5
}
