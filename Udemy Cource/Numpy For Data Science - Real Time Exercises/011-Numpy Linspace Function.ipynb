{
 "cells": [
  {
   "cell_type": "markdown",
   "id": "e804f3a5-1bc3-44f3-abfd-ba0da35f6690",
   "metadata": {},
   "source": [
    "### Linspace Function returns evenly (linearly) spaced values within a given interval."
   ]
  },
  {
   "cell_type": "markdown",
   "id": "ad16b0e2-cd79-4d61-a27e-ea77b137cbbc",
   "metadata": {},
   "source": [
    "###### np.linspace(start_value, stop_value , num=50, endpoint=False, retstep=True, dtype=None)"
   ]
  },
  {
   "cell_type": "markdown",
   "id": "b0e2cef1-b7fc-4d59-8b8e-63489948200c",
   "metadata": {},
   "source": [
    "Note - By deafult it shows 50 values"
   ]
  },
  {
   "cell_type": "code",
   "execution_count": 1,
   "id": "3d522a04-a5c7-4d22-a07b-aaf0da8d4e92",
   "metadata": {},
   "outputs": [],
   "source": [
    "import numpy as np"
   ]
  },
  {
   "cell_type": "code",
   "execution_count": 2,
   "id": "060f1db6-64e2-4676-bbcc-1b5c6a5c5122",
   "metadata": {},
   "outputs": [
    {
     "data": {
      "text/plain": [
       "array([ 2.,  4.,  6.,  8., 10., 12., 14., 16., 18., 20.])"
      ]
     },
     "execution_count": 2,
     "metadata": {},
     "output_type": "execute_result"
    }
   ],
   "source": [
    "np.linspace(2, 20, num= 10)"
   ]
  },
  {
   "cell_type": "code",
   "execution_count": 3,
   "id": "1bc903ac-1553-44f8-af6b-6cc5dea0ee53",
   "metadata": {},
   "outputs": [
    {
     "data": {
      "text/plain": [
       "array([ 2.,  4.,  6.,  8., 10., 12., 14., 16., 18., 20.])"
      ]
     },
     "execution_count": 3,
     "metadata": {},
     "output_type": "execute_result"
    }
   ],
   "source": [
    "np.linspace(2, 20, num= 10, endpoint= True)"
   ]
  },
  {
   "cell_type": "code",
   "execution_count": 4,
   "id": "0a703126-661b-4324-80a1-c73ce21e7d42",
   "metadata": {},
   "outputs": [
    {
     "data": {
      "text/plain": [
       "array([ 2. ,  3.8,  5.6,  7.4,  9.2, 11. , 12.8, 14.6, 16.4, 18.2])"
      ]
     },
     "execution_count": 4,
     "metadata": {},
     "output_type": "execute_result"
    }
   ],
   "source": [
    "np.linspace(2, 20, num= 10, endpoint= False)"
   ]
  },
  {
   "cell_type": "code",
   "execution_count": 5,
   "id": "68237635-cf9d-4c78-b284-e8fb247b7ee8",
   "metadata": {},
   "outputs": [
    {
     "data": {
      "text/plain": [
       "(array([ 2.,  4.,  6.,  8., 10., 12., 14., 16., 18., 20.]), 2.0)"
      ]
     },
     "execution_count": 5,
     "metadata": {},
     "output_type": "execute_result"
    }
   ],
   "source": [
    "np.linspace(2, 20, num= 10, endpoint= True, retstep= True)"
   ]
  },
  {
   "cell_type": "code",
   "execution_count": 6,
   "id": "6f852af7-63ff-4260-85a6-57d5650df3a3",
   "metadata": {},
   "outputs": [
    {
     "data": {
      "text/plain": [
       "(array([ 2. ,  3.8,  5.6,  7.4,  9.2, 11. , 12.8, 14.6, 16.4, 18.2]), 1.8)"
      ]
     },
     "execution_count": 6,
     "metadata": {},
     "output_type": "execute_result"
    }
   ],
   "source": [
    "np.linspace(2, 20, num= 10, endpoint= False, retstep= True)"
   ]
  },
  {
   "cell_type": "code",
   "execution_count": 7,
   "id": "33bd6613-56ef-48c9-b231-15925602dbd2",
   "metadata": {},
   "outputs": [
    {
     "data": {
      "text/plain": [
       "array([ 2.,  4.,  6.,  8., 10., 12., 14., 16., 18., 20.])"
      ]
     },
     "execution_count": 7,
     "metadata": {},
     "output_type": "execute_result"
    }
   ],
   "source": [
    "np.linspace(2, 20, num= 10, endpoint= True, retstep= False)"
   ]
  },
  {
   "cell_type": "code",
   "execution_count": 8,
   "id": "af17ec88-8c67-4d65-951b-6fd76c1dc3a2",
   "metadata": {},
   "outputs": [
    {
     "data": {
      "text/plain": [
       "array([ 2,  4,  6,  8, 10, 12, 14, 16, 18, 20])"
      ]
     },
     "execution_count": 8,
     "metadata": {},
     "output_type": "execute_result"
    }
   ],
   "source": [
    "np.linspace(2, 20, num= 10, endpoint= True, retstep= False, dtype= int)"
   ]
  },
  {
   "cell_type": "code",
   "execution_count": 9,
   "id": "b613a4f0-b89a-408f-9487-4d18b23dba90",
   "metadata": {},
   "outputs": [
    {
     "data": {
      "text/plain": [
       "(array([ 2,  4,  6,  8, 10, 12, 14, 16, 18, 20]), 2.0)"
      ]
     },
     "execution_count": 9,
     "metadata": {},
     "output_type": "execute_result"
    }
   ],
   "source": [
    "np.linspace(2, 20, num= 10, endpoint= True, retstep= True, dtype= int)"
   ]
  },
  {
   "cell_type": "code",
   "execution_count": 10,
   "id": "3b2d32e0-7278-4ce7-92a7-d8d1dd1321df",
   "metadata": {},
   "outputs": [
    {
     "data": {
      "text/plain": [
       "(array(['2.0', '4.0', '6.0', '8.0', '10.0', '12.0', '14.0', '16.0', '18.0',\n",
       "        '20.0'], dtype='<U32'),\n",
       " 2.0)"
      ]
     },
     "execution_count": 10,
     "metadata": {},
     "output_type": "execute_result"
    }
   ],
   "source": [
    "np.linspace(2, 20, num= 10, endpoint= True, retstep= True, dtype= str)"
   ]
  },
  {
   "cell_type": "code",
   "execution_count": 11,
   "id": "2e640de2-413b-47eb-88bd-97883ff5eb22",
   "metadata": {},
   "outputs": [
    {
     "data": {
      "text/plain": [
       "(array(['2.0', '3.8', '5.6', '7.4', '9.2', '11.0', '12.8', '14.6', '16.4',\n",
       "        '18.2'], dtype='<U32'),\n",
       " 1.8)"
      ]
     },
     "execution_count": 11,
     "metadata": {},
     "output_type": "execute_result"
    }
   ],
   "source": [
    "np.linspace(2, 20, num= 10, endpoint= False, retstep= True, dtype= str)"
   ]
  },
  {
   "cell_type": "code",
   "execution_count": 12,
   "id": "4d2d62bb-542d-4fae-af39-50a0806dcde4",
   "metadata": {},
   "outputs": [
    {
     "data": {
      "text/plain": [
       "array([ 3.        ,  3.55102041,  4.10204082,  4.65306122,  5.20408163,\n",
       "        5.75510204,  6.30612245,  6.85714286,  7.40816327,  7.95918367,\n",
       "        8.51020408,  9.06122449,  9.6122449 , 10.16326531, 10.71428571,\n",
       "       11.26530612, 11.81632653, 12.36734694, 12.91836735, 13.46938776,\n",
       "       14.02040816, 14.57142857, 15.12244898, 15.67346939, 16.2244898 ,\n",
       "       16.7755102 , 17.32653061, 17.87755102, 18.42857143, 18.97959184,\n",
       "       19.53061224, 20.08163265, 20.63265306, 21.18367347, 21.73469388,\n",
       "       22.28571429, 22.83673469, 23.3877551 , 23.93877551, 24.48979592,\n",
       "       25.04081633, 25.59183673, 26.14285714, 26.69387755, 27.24489796,\n",
       "       27.79591837, 28.34693878, 28.89795918, 29.44897959, 30.        ])"
      ]
     },
     "execution_count": 12,
     "metadata": {},
     "output_type": "execute_result"
    }
   ],
   "source": [
    "A = np.linspace(3, 30)\n",
    "A"
   ]
  },
  {
   "cell_type": "code",
   "execution_count": 13,
   "id": "ade28c79-ee63-4f62-beb9-953b16f91e4d",
   "metadata": {},
   "outputs": [
    {
     "data": {
      "text/plain": [
       "50"
      ]
     },
     "execution_count": 13,
     "metadata": {},
     "output_type": "execute_result"
    }
   ],
   "source": [
    "len(A)"
   ]
  },
  {
   "cell_type": "code",
   "execution_count": 14,
   "id": "0a8eb5b4-aaa4-4a3f-a806-29326d21a18b",
   "metadata": {},
   "outputs": [
    {
     "data": {
      "text/plain": [
       "(array([ 3.        ,  4.22727273,  5.45454545,  6.68181818,  7.90909091,\n",
       "         9.13636364, 10.36363636, 11.59090909, 12.81818182, 14.04545455,\n",
       "        15.27272727, 16.5       , 17.72727273, 18.95454545, 20.18181818,\n",
       "        21.40909091, 22.63636364, 23.86363636, 25.09090909, 26.31818182,\n",
       "        27.54545455, 28.77272727, 30.        ]),\n",
       " 1.2272727272727273)"
      ]
     },
     "execution_count": 14,
     "metadata": {},
     "output_type": "execute_result"
    }
   ],
   "source": [
    "np.linspace(3, 30, num= 23, retstep= True)"
   ]
  }
 ],
 "metadata": {
  "kernelspec": {
   "display_name": "Python 3 (ipykernel)",
   "language": "python",
   "name": "python3"
  },
  "language_info": {
   "codemirror_mode": {
    "name": "ipython",
    "version": 3
   },
   "file_extension": ".py",
   "mimetype": "text/x-python",
   "name": "python",
   "nbconvert_exporter": "python",
   "pygments_lexer": "ipython3",
   "version": "3.10.7"
  }
 },
 "nbformat": 4,
 "nbformat_minor": 5
}
