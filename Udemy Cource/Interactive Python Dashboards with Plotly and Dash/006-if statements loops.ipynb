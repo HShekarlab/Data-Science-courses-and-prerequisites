{
 "cells": [
  {
   "cell_type": "markdown",
   "id": "c78522b3-a989-463e-bd74-558ae00cdbb1",
   "metadata": {},
   "source": [
    "**Conditional Sentences**"
   ]
  },
  {
   "cell_type": "code",
   "execution_count": 1,
   "id": "bad443c9-ed4d-497b-b7eb-e4952d745dac",
   "metadata": {},
   "outputs": [
    {
     "name": "stdout",
     "output_type": "stream",
     "text": [
      "This is True\n"
     ]
    }
   ],
   "source": [
    "if 2 == 2:\n",
    "    print(\"This is True\")"
   ]
  },
  {
   "cell_type": "code",
   "execution_count": 2,
   "id": "71d542d8-50f8-4990-af4c-e2471845a57d",
   "metadata": {},
   "outputs": [],
   "source": [
    "weather = \"rainy\"\n",
    "\n",
    "if weather == \"sunny\":\n",
    "    print(\"Let's go to the park.\")"
   ]
  },
  {
   "cell_type": "code",
   "execution_count": 3,
   "id": "9f6c16aa-6409-4121-9988-0ffcafdf3691",
   "metadata": {},
   "outputs": [
    {
     "name": "stdout",
     "output_type": "stream",
     "text": [
      "Let's stay at home.\n"
     ]
    }
   ],
   "source": [
    "weather = \"rainy\"\n",
    "\n",
    "if weather == \"sunny\":\n",
    "    print(\"Let's go to the park.\")\n",
    "else:\n",
    "    print(\"Let's stay at home.\")"
   ]
  },
  {
   "cell_type": "code",
   "execution_count": 4,
   "id": "fc011de9-e20b-4ea9-a401-26675bbe72a9",
   "metadata": {},
   "outputs": [
    {
     "name": "stdout",
     "output_type": "stream",
     "text": [
      "Let's go skiing.\n"
     ]
    }
   ],
   "source": [
    "weather = \"snowing\"\n",
    "\n",
    "if weather == \"sunny\":\n",
    "    print(\"Let's go to the park.\")\n",
    "elif weather == \"cloudy\":\n",
    "    print(\"maybe we can go to the park, what do you think?\")\n",
    "elif weather == \"snowing\":\n",
    "    print(\"Let's go skiing.\")\n",
    "else:\n",
    "    print(\"Let's stay at home.\")"
   ]
  },
  {
   "cell_type": "markdown",
   "id": "31f264b8-b51e-4a24-9e31-c20896a564d8",
   "metadata": {},
   "source": [
    "**Loops**"
   ]
  },
  {
   "cell_type": "code",
   "execution_count": 5,
   "id": "0710b4f8-dce5-495d-8dcd-672b28733a2b",
   "metadata": {},
   "outputs": [
    {
     "name": "stdout",
     "output_type": "stream",
     "text": [
      "1\n",
      "2\n",
      "3\n",
      "4\n",
      "5\n",
      "6\n",
      "7\n"
     ]
    }
   ],
   "source": [
    "lst_1 = [1, 2, 3, 4, 5, 6, 7]\n",
    "\n",
    "for i in lst_1:\n",
    "    print(i)"
   ]
  },
  {
   "cell_type": "code",
   "execution_count": 6,
   "id": "beb04cf3-1d11-4af8-874f-b420a61aa559",
   "metadata": {},
   "outputs": [
    {
     "name": "stdout",
     "output_type": "stream",
     "text": [
      "Data\n",
      "Data\n",
      "Data\n",
      "Data\n",
      "Data\n",
      "Data\n",
      "Data\n"
     ]
    }
   ],
   "source": [
    "for i in lst_1:\n",
    "    print(\"Data\")"
   ]
  },
  {
   "cell_type": "code",
   "execution_count": 7,
   "id": "171e2b57-fde7-4098-9103-a5a0ec82012b",
   "metadata": {},
   "outputs": [
    {
     "name": "stdout",
     "output_type": "stream",
     "text": [
      "2\n",
      "4\n",
      "6\n"
     ]
    }
   ],
   "source": [
    "for num in lst_1:\n",
    "    if num % 2 == 0:\n",
    "        print(num)"
   ]
  },
  {
   "cell_type": "code",
   "execution_count": 8,
   "id": "5aee6399-6330-426c-b3a2-2a9bb72bed68",
   "metadata": {},
   "outputs": [
    {
     "name": "stdout",
     "output_type": "stream",
     "text": [
      "1 is not an even number.\n",
      "2\n",
      "3 is not an even number.\n",
      "4\n",
      "5 is not an even number.\n",
      "6\n",
      "7 is not an even number.\n"
     ]
    }
   ],
   "source": [
    "for num in lst_1:\n",
    "    if num % 2 == 0:\n",
    "        print(num)\n",
    "    else:\n",
    "        print(f\"{num} is not an even number.\")"
   ]
  },
  {
   "cell_type": "code",
   "execution_count": 9,
   "id": "27d2f44f-f11b-4818-8af5-da8e0be2b08f",
   "metadata": {},
   "outputs": [],
   "source": [
    "sum_num = 0\n",
    "\n",
    "for i in lst_1:\n",
    "    sum_num += i"
   ]
  },
  {
   "cell_type": "code",
   "execution_count": 10,
   "id": "da493c1b-6f99-47cf-820b-4d3f1e2990c5",
   "metadata": {},
   "outputs": [
    {
     "data": {
      "text/plain": [
       "28"
      ]
     },
     "execution_count": 10,
     "metadata": {},
     "output_type": "execute_result"
    }
   ],
   "source": [
    "sum_num"
   ]
  },
  {
   "cell_type": "code",
   "execution_count": 11,
   "id": "b8f108c0-a75a-4ff9-b597-db4644c7d362",
   "metadata": {},
   "outputs": [
    {
     "name": "stdout",
     "output_type": "stream",
     "text": [
      "d\n",
      "a\n",
      "t\n",
      "a\n",
      " \n",
      "s\n",
      "c\n",
      "i\n",
      "e\n",
      "n\n",
      "c\n",
      "e\n"
     ]
    }
   ],
   "source": [
    "str_1 = \"data science\"\n",
    "\n",
    "for i in str_1:\n",
    "    print(i)"
   ]
  },
  {
   "cell_type": "code",
   "execution_count": 12,
   "id": "674ed0e1-2385-46cb-8be1-5f4740287917",
   "metadata": {},
   "outputs": [],
   "source": [
    "lst_2 = [(1, 2), (3, 4), (5, 6)]"
   ]
  },
  {
   "cell_type": "code",
   "execution_count": 13,
   "id": "b01836b0-5823-4c27-b285-a912725f5b21",
   "metadata": {},
   "outputs": [],
   "source": [
    "v_1, v_2 = 1, 2"
   ]
  },
  {
   "cell_type": "code",
   "execution_count": 14,
   "id": "adb1efd7-b12e-4d58-8e5c-858167e59671",
   "metadata": {},
   "outputs": [
    {
     "data": {
      "text/plain": [
       "1"
      ]
     },
     "execution_count": 14,
     "metadata": {},
     "output_type": "execute_result"
    }
   ],
   "source": [
    "v_1"
   ]
  },
  {
   "cell_type": "code",
   "execution_count": 15,
   "id": "b3a97279-552b-4cd2-87f9-24f0b404f1f7",
   "metadata": {},
   "outputs": [
    {
     "data": {
      "text/plain": [
       "2"
      ]
     },
     "execution_count": 15,
     "metadata": {},
     "output_type": "execute_result"
    }
   ],
   "source": [
    "v_2"
   ]
  },
  {
   "cell_type": "code",
   "execution_count": 16,
   "id": "651d9b95-cab3-44d9-8883-343dce25abde",
   "metadata": {},
   "outputs": [
    {
     "name": "stdout",
     "output_type": "stream",
     "text": [
      "3\n",
      "7\n",
      "11\n"
     ]
    }
   ],
   "source": [
    "for v_1, v_2 in lst_2:\n",
    "    print(v_1 + v_2)"
   ]
  },
  {
   "cell_type": "code",
   "execution_count": 17,
   "id": "73af6037-a88b-4277-a7d5-3a26d1bde7f9",
   "metadata": {},
   "outputs": [],
   "source": [
    "d_1 = {\"key_1\": 1,\n",
    "       \"key_2\": 2}"
   ]
  },
  {
   "cell_type": "code",
   "execution_count": 18,
   "id": "22933835-0e39-4b5a-9e39-aeab09e62e48",
   "metadata": {},
   "outputs": [
    {
     "name": "stdout",
     "output_type": "stream",
     "text": [
      "('key_1', 1)\n",
      "('key_2', 2)\n"
     ]
    }
   ],
   "source": [
    "for pair in d_1.items():\n",
    "    print(pair)"
   ]
  },
  {
   "cell_type": "code",
   "execution_count": 19,
   "id": "6075339a-7141-4c81-aaff-0108be718c09",
   "metadata": {},
   "outputs": [
    {
     "name": "stdout",
     "output_type": "stream",
     "text": [
      "key_1\n",
      "key_2\n"
     ]
    }
   ],
   "source": [
    "for key, value in d_1.items():\n",
    "    print(key)"
   ]
  },
  {
   "cell_type": "code",
   "execution_count": 20,
   "id": "5ee41594-bfbb-4846-aeb9-41648326379d",
   "metadata": {},
   "outputs": [
    {
     "name": "stdout",
     "output_type": "stream",
     "text": [
      "3\n",
      "5\n",
      "7\n",
      "9\n",
      "11\n"
     ]
    }
   ],
   "source": [
    "num = 1\n",
    "\n",
    "while num < 10:\n",
    "    num += 2  # num = num + 2\n",
    "    print(num)"
   ]
  },
  {
   "cell_type": "code",
   "execution_count": 21,
   "id": "0fb0711d-d8a9-40d9-85a1-9ac2f1aa2aaf",
   "metadata": {},
   "outputs": [
    {
     "name": "stdout",
     "output_type": "stream",
     "text": [
      "3\n",
      "5\n",
      "7\n",
      "9\n",
      "11\n",
      "num is larger than 10\n"
     ]
    }
   ],
   "source": [
    "num = 1\n",
    "\n",
    "while num < 10:\n",
    "    num += 2  # num = num + 2\n",
    "    print(num)\n",
    "else:\n",
    "    print(\"num is larger than 10\")"
   ]
  },
  {
   "cell_type": "markdown",
   "id": "1f4701bd-da7b-4a41-a0a7-37b1dfeb1792",
   "metadata": {},
   "source": [
    "**Range**"
   ]
  },
  {
   "cell_type": "code",
   "execution_count": 22,
   "id": "8b80e2a2-e022-4ee3-9f30-6e27adbf702c",
   "metadata": {},
   "outputs": [
    {
     "data": {
      "text/plain": [
       "range(0, 10)"
      ]
     },
     "execution_count": 22,
     "metadata": {},
     "output_type": "execute_result"
    }
   ],
   "source": [
    "range(10)"
   ]
  },
  {
   "cell_type": "code",
   "execution_count": 23,
   "id": "bf48b917-a149-4052-b3af-047ecd6f0489",
   "metadata": {},
   "outputs": [
    {
     "name": "stdout",
     "output_type": "stream",
     "text": [
      "0\n",
      "1\n",
      "2\n",
      "3\n",
      "4\n",
      "5\n",
      "6\n",
      "7\n",
      "8\n",
      "9\n"
     ]
    }
   ],
   "source": [
    "for i in range(10):\n",
    "    print(i)"
   ]
  },
  {
   "cell_type": "code",
   "execution_count": 24,
   "id": "6cd570d4-20ca-41a9-82ee-ce67674b8c55",
   "metadata": {},
   "outputs": [
    {
     "name": "stdout",
     "output_type": "stream",
     "text": [
      "10\n",
      "11\n",
      "12\n",
      "13\n",
      "14\n",
      "15\n",
      "16\n",
      "17\n",
      "18\n",
      "19\n"
     ]
    }
   ],
   "source": [
    "for i in range(10, 20):\n",
    "    print(i)"
   ]
  },
  {
   "cell_type": "code",
   "execution_count": 25,
   "id": "1cef1bc7-50fc-45d6-9a8f-80f394336a20",
   "metadata": {},
   "outputs": [
    {
     "name": "stdout",
     "output_type": "stream",
     "text": [
      "10\n",
      "12\n",
      "14\n",
      "16\n",
      "18\n"
     ]
    }
   ],
   "source": [
    "for i in range(10, 20, 2):\n",
    "    print(i)"
   ]
  },
  {
   "cell_type": "markdown",
   "id": "85fd5529-bbec-40e3-8e83-6e995aab7193",
   "metadata": {},
   "source": [
    "**enumerate**"
   ]
  },
  {
   "cell_type": "code",
   "execution_count": 26,
   "id": "f56d6da6-68a6-434d-afca-164b8e7e8821",
   "metadata": {},
   "outputs": [
    {
     "name": "stdout",
     "output_type": "stream",
     "text": [
      "a\n",
      "b\n",
      "c\n",
      "d\n",
      "4\n"
     ]
    }
   ],
   "source": [
    "cnt = 0\n",
    "lst_3 = [\"a\", \"b\", \"c\", \"d\"]\n",
    "\n",
    "for letter in lst_3:\n",
    "    print(letter)\n",
    "    cnt += 1\n",
    "\n",
    "print(cnt)"
   ]
  },
  {
   "cell_type": "code",
   "execution_count": 27,
   "id": "72442549-3ed1-4371-ac16-d952e517fd95",
   "metadata": {},
   "outputs": [
    {
     "name": "stdout",
     "output_type": "stream",
     "text": [
      "a\n",
      "b\n",
      "c\n",
      "d\n",
      "3\n"
     ]
    }
   ],
   "source": [
    "cnt = 0\n",
    "lst_3 = [\"a\", \"b\", \"c\", \"d\"]\n",
    "\n",
    "for cnt, letter in enumerate(lst_3):\n",
    "    print(letter)\n",
    "\n",
    "print(cnt)"
   ]
  },
  {
   "cell_type": "code",
   "execution_count": 28,
   "id": "fb835538-a4cd-4a42-ac03-10d5fb14189b",
   "metadata": {},
   "outputs": [
    {
     "name": "stdout",
     "output_type": "stream",
     "text": [
      "a\n",
      "b\n",
      "c\n",
      "d\n",
      "4\n"
     ]
    }
   ],
   "source": [
    "cnt = 0\n",
    "lst_3 = [\"a\", \"b\", \"c\", \"d\"]\n",
    "\n",
    "for cnt, letter in enumerate(lst_3):\n",
    "    print(letter)\n",
    "\n",
    "print(cnt + 1)"
   ]
  }
 ],
 "metadata": {
  "kernelspec": {
   "display_name": "Python 3 (ipykernel)",
   "language": "python",
   "name": "python3"
  },
  "language_info": {
   "codemirror_mode": {
    "name": "ipython",
    "version": 3
   },
   "file_extension": ".py",
   "mimetype": "text/x-python",
   "name": "python",
   "nbconvert_exporter": "python",
   "pygments_lexer": "ipython3",
   "version": "3.12.1"
  }
 },
 "nbformat": 4,
 "nbformat_minor": 5
}
