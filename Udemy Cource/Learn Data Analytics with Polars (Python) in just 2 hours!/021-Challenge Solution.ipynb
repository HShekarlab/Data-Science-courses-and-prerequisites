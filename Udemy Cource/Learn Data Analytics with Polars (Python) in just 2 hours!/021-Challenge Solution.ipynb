{
 "cells": [
  {
   "cell_type": "code",
   "execution_count": 1,
   "id": "7f58aca1-bb0c-4bf2-9af2-51ae21a38c47",
   "metadata": {},
   "outputs": [],
   "source": [
    "import polars as pl"
   ]
  },
  {
   "cell_type": "code",
   "execution_count": 2,
   "id": "d64ee1c0-fc03-4b55-9d37-80897432908d",
   "metadata": {},
   "outputs": [],
   "source": [
    "df = pl.read_csv(\"weather.csv\", has_header= True)"
   ]
  },
  {
   "cell_type": "code",
   "execution_count": 3,
   "id": "d57be8f9-6309-42ca-ad92-8adf8366068d",
   "metadata": {},
   "outputs": [
    {
     "data": {
      "text/html": [
       "<div><style>\n",
       ".dataframe > thead > tr,\n",
       ".dataframe > tbody > tr {\n",
       "  text-align: right;\n",
       "  white-space: pre-wrap;\n",
       "}\n",
       "</style>\n",
       "<small>shape: (5, 2)</small><table border=\"1\" class=\"dataframe\"><thead><tr><th>Station.State</th><th>Total max &amp; min</th></tr><tr><td>str</td><td>f64</td></tr></thead><tbody><tr><td>&quot;Puerto Rico&quot;</td><td>162.188679</td></tr><tr><td>&quot;Hawaii&quot;</td><td>152.320755</td></tr><tr><td>&quot;Florida&quot;</td><td>147.382075</td></tr><tr><td>&quot;Louisiana&quot;</td><td>138.467433</td></tr><tr><td>&quot;Texas&quot;</td><td>135.86478</td></tr></tbody></table></div>"
      ],
      "text/plain": [
       "shape: (5, 2)\n",
       "┌───────────────┬─────────────────┐\n",
       "│ Station.State ┆ Total max & min │\n",
       "│ ---           ┆ ---             │\n",
       "│ str           ┆ f64             │\n",
       "╞═══════════════╪═════════════════╡\n",
       "│ Puerto Rico   ┆ 162.188679      │\n",
       "│ Hawaii        ┆ 152.320755      │\n",
       "│ Florida       ┆ 147.382075      │\n",
       "│ Louisiana     ┆ 138.467433      │\n",
       "│ Texas         ┆ 135.86478       │\n",
       "└───────────────┴─────────────────┘"
      ]
     },
     "execution_count": 3,
     "metadata": {},
     "output_type": "execute_result"
    }
   ],
   "source": [
    "country = df.select(\n",
    "                    pl.col([\"Station.State\", \"Data.Temperature.Max Temp\", \"Data.Temperature.Min Temp\"]),\n",
    "                    (pl.col(\"Data.Temperature.Max Temp\") + pl.col(\"Data.Temperature.Min Temp\")).alias(\"Total max & min\"))\n",
    "\n",
    "q = (\n",
    "     country.lazy()\n",
    "     .group_by(\"Station.State\")\n",
    "     .agg(\n",
    "          pl.mean(\"Total max & min\").alias(\"Total max & min\")\n",
    "     )\n",
    "     .sort(\"Total max & min\", descending= True)\n",
    ")\n",
    "\n",
    "q.collect().head(5)"
   ]
  },
  {
   "cell_type": "code",
   "execution_count": 4,
   "id": "0ed00f3c-944f-4af8-a68c-5513b1776ccb",
   "metadata": {},
   "outputs": [
    {
     "data": {
      "text/html": [
       "<div><style>\n",
       ".dataframe > thead > tr,\n",
       ".dataframe > tbody > tr {\n",
       "  text-align: right;\n",
       "  white-space: pre-wrap;\n",
       "}\n",
       "</style>\n",
       "<small>shape: (5, 4)</small><table border=\"1\" class=\"dataframe\"><thead><tr><th>Station.State</th><th>Station.Location</th><th>Data.Temperature.Avg Temp</th><th>country avg temp</th></tr><tr><td>str</td><td>str</td><td>i64</td><td>i64</td></tr></thead><tbody><tr><td>&quot;Alabama&quot;</td><td>&quot;Birmingham, AL…</td><td>39</td><td>14104</td></tr><tr><td>&quot;Alabama&quot;</td><td>&quot;Huntsville, AL…</td><td>39</td><td>14104</td></tr><tr><td>&quot;Alabama&quot;</td><td>&quot;Mobile, AL&quot;</td><td>46</td><td>14104</td></tr><tr><td>&quot;Alabama&quot;</td><td>&quot;Montgomery, AL…</td><td>45</td><td>14104</td></tr><tr><td>&quot;Alaska&quot;</td><td>&quot;Anchorage, AK&quot;</td><td>34</td><td>70750</td></tr></tbody></table></div>"
      ],
      "text/plain": [
       "shape: (5, 4)\n",
       "┌───────────────┬──────────────────┬───────────────────────────┬──────────────────┐\n",
       "│ Station.State ┆ Station.Location ┆ Data.Temperature.Avg Temp ┆ country avg temp │\n",
       "│ ---           ┆ ---              ┆ ---                       ┆ ---              │\n",
       "│ str           ┆ str              ┆ i64                       ┆ i64              │\n",
       "╞═══════════════╪══════════════════╪═══════════════════════════╪══════════════════╡\n",
       "│ Alabama       ┆ Birmingham, AL   ┆ 39                        ┆ 14104            │\n",
       "│ Alabama       ┆ Huntsville, AL   ┆ 39                        ┆ 14104            │\n",
       "│ Alabama       ┆ Mobile, AL       ┆ 46                        ┆ 14104            │\n",
       "│ Alabama       ┆ Montgomery, AL   ┆ 45                        ┆ 14104            │\n",
       "│ Alaska        ┆ Anchorage, AK    ┆ 34                        ┆ 70750            │\n",
       "└───────────────┴──────────────────┴───────────────────────────┴──────────────────┘"
      ]
     },
     "execution_count": 4,
     "metadata": {},
     "output_type": "execute_result"
    }
   ],
   "source": [
    "df_2 = df.select(\n",
    "                 pl.col(\"Station.State\"),\n",
    "                 pl.col(\"Station.Location\"),\n",
    "                 pl.col(\"Data.Temperature.Avg Temp\"),\n",
    "                 pl.col(\"Data.Temperature.Avg Temp\").sum().over(\"Station.State\").alias(\"country avg temp\")\n",
    ")\n",
    "\n",
    "df_2.head(5)"
   ]
  },
  {
   "cell_type": "code",
   "execution_count": 5,
   "id": "87d0b1ed-cabc-4f45-9263-a7a70587ca61",
   "metadata": {},
   "outputs": [
    {
     "data": {
      "text/html": [
       "<div><style>\n",
       ".dataframe > thead > tr,\n",
       ".dataframe > tbody > tr {\n",
       "  text-align: right;\n",
       "  white-space: pre-wrap;\n",
       "}\n",
       "</style>\n",
       "<small>shape: (5, 3)</small><table border=\"1\" class=\"dataframe\"><thead><tr><th>Station.State</th><th>Data.Temperature.Avg Temp</th><th>avg</th></tr><tr><td>str</td><td>i64</td><td>f64</td></tr></thead><tbody><tr><td>&quot;Alabama&quot;</td><td>39</td><td>0.276517</td></tr><tr><td>&quot;Alabama&quot;</td><td>39</td><td>0.276517</td></tr><tr><td>&quot;Alabama&quot;</td><td>46</td><td>0.326149</td></tr><tr><td>&quot;Alabama&quot;</td><td>45</td><td>0.319058</td></tr><tr><td>&quot;Alaska&quot;</td><td>34</td><td>0.048057</td></tr></tbody></table></div>"
      ],
      "text/plain": [
       "shape: (5, 3)\n",
       "┌───────────────┬───────────────────────────┬──────────┐\n",
       "│ Station.State ┆ Data.Temperature.Avg Temp ┆ avg      │\n",
       "│ ---           ┆ ---                       ┆ ---      │\n",
       "│ str           ┆ i64                       ┆ f64      │\n",
       "╞═══════════════╪═══════════════════════════╪══════════╡\n",
       "│ Alabama       ┆ 39                        ┆ 0.276517 │\n",
       "│ Alabama       ┆ 39                        ┆ 0.276517 │\n",
       "│ Alabama       ┆ 46                        ┆ 0.326149 │\n",
       "│ Alabama       ┆ 45                        ┆ 0.319058 │\n",
       "│ Alaska        ┆ 34                        ┆ 0.048057 │\n",
       "└───────────────┴───────────────────────────┴──────────┘"
      ]
     },
     "execution_count": 5,
     "metadata": {},
     "output_type": "execute_result"
    }
   ],
   "source": [
    "df_2.select(pl.col([\"Station.State\", \"Data.Temperature.Avg Temp\"]),\n",
    "            ((pl.col(\"Data.Temperature.Avg Temp\") / pl.col(\"country avg temp\")) * 100).alias(\"avg\")\n",
    ").head(5)"
   ]
  }
 ],
 "metadata": {
  "kernelspec": {
   "display_name": "Python 3 (ipykernel)",
   "language": "python",
   "name": "python3"
  },
  "language_info": {
   "codemirror_mode": {
    "name": "ipython",
    "version": 3
   },
   "file_extension": ".py",
   "mimetype": "text/x-python",
   "name": "python",
   "nbconvert_exporter": "python",
   "pygments_lexer": "ipython3",
   "version": "3.12.1"
  }
 },
 "nbformat": 4,
 "nbformat_minor": 5
}
