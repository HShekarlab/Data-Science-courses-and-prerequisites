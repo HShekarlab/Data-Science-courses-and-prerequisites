{
  "cells": [
    {
      "cell_type": "markdown",
      "metadata": {
        "id": "nzOWjAWgw7Fv"
      },
      "source": [
        "# ***Python for Data Science***"
      ]
    },
    {
      "cell_type": "markdown",
      "metadata": {
        "id": "TABBYWNuxnJ8"
      },
      "source": [
        "**Variables and Data Structures**\n",
        "\n",
        "Number : Integer\n",
        "/ Float\n",
        "/ Complex\n",
        "\n",
        "\n",
        "Sequence Type :\n",
        "string / List / Tuple / Set\n",
        "\n",
        "\n",
        "Boolean : True\n",
        "/ False\n",
        "\n",
        "Dictionary : key / value"
      ]
    },
    {
      "cell_type": "markdown",
      "metadata": {
        "id": "QyIYNP-70Ry9"
      },
      "source": [
        "**Numbers**"
      ]
    },
    {
      "cell_type": "code",
      "execution_count": 1,
      "metadata": {
        "colab": {
          "base_uri": "https://localhost:8080/"
        },
        "id": "IgxP3VAR5IJu",
        "outputId": "2f0a4592-49f2-4f0e-b5f5-712982604752"
      },
      "outputs": [
        {
          "output_type": "execute_result",
          "data": {
            "text/plain": [
              "2"
            ]
          },
          "metadata": {},
          "execution_count": 1
        }
      ],
      "source": [
        "1 + 1"
      ]
    },
    {
      "cell_type": "code",
      "execution_count": 2,
      "metadata": {
        "colab": {
          "base_uri": "https://localhost:8080/"
        },
        "id": "-kG5e_UH5LUy",
        "outputId": "ff46ca78-93c6-45cc-dea6-d5d9dea52e7d"
      },
      "outputs": [
        {
          "output_type": "execute_result",
          "data": {
            "text/plain": [
              "6"
            ]
          },
          "metadata": {},
          "execution_count": 2
        }
      ],
      "source": [
        "3 * 2"
      ]
    },
    {
      "cell_type": "code",
      "execution_count": 3,
      "metadata": {
        "colab": {
          "base_uri": "https://localhost:8080/"
        },
        "id": "7So94YFs5PUw",
        "outputId": "b86a423e-51bc-4d6e-f766-e980ada255bb"
      },
      "outputs": [
        {
          "output_type": "execute_result",
          "data": {
            "text/plain": [
              "2"
            ]
          },
          "metadata": {},
          "execution_count": 3
        }
      ],
      "source": [
        "6 - 4"
      ]
    },
    {
      "cell_type": "code",
      "execution_count": 4,
      "metadata": {
        "colab": {
          "base_uri": "https://localhost:8080/"
        },
        "id": "0A1EfJq45SKj",
        "outputId": "929508f0-dd74-4f54-be3a-7448c827371c"
      },
      "outputs": [
        {
          "output_type": "execute_result",
          "data": {
            "text/plain": [
              "4.0"
            ]
          },
          "metadata": {},
          "execution_count": 4
        }
      ],
      "source": [
        "8 / 2"
      ]
    },
    {
      "cell_type": "code",
      "execution_count": 5,
      "metadata": {
        "colab": {
          "base_uri": "https://localhost:8080/"
        },
        "id": "aGN7Z1aF5VZO",
        "outputId": "2266d012-0ce2-459b-f6ee-ae10be5291aa"
      },
      "outputs": [
        {
          "output_type": "execute_result",
          "data": {
            "text/plain": [
              "0.25"
            ]
          },
          "metadata": {},
          "execution_count": 5
        }
      ],
      "source": [
        "2 / 8"
      ]
    },
    {
      "cell_type": "code",
      "execution_count": 6,
      "metadata": {
        "colab": {
          "base_uri": "https://localhost:8080/"
        },
        "id": "kp4I279I5Xbh",
        "outputId": "34b343ff-ba17-4f3b-cd5f-966daea608aa"
      },
      "outputs": [
        {
          "output_type": "execute_result",
          "data": {
            "text/plain": [
              "4"
            ]
          },
          "metadata": {},
          "execution_count": 6
        }
      ],
      "source": [
        "8 // 2"
      ]
    },
    {
      "cell_type": "code",
      "execution_count": 7,
      "metadata": {
        "colab": {
          "base_uri": "https://localhost:8080/"
        },
        "id": "fe9Di6Nm5ZLb",
        "outputId": "be385afd-df9e-4e21-a76f-02b05db16b16"
      },
      "outputs": [
        {
          "output_type": "execute_result",
          "data": {
            "text/plain": [
              "0"
            ]
          },
          "metadata": {},
          "execution_count": 7
        }
      ],
      "source": [
        "9 % 3"
      ]
    },
    {
      "cell_type": "code",
      "execution_count": 8,
      "metadata": {
        "colab": {
          "base_uri": "https://localhost:8080/"
        },
        "id": "wN2IkYSo5ifA",
        "outputId": "0a940b8f-5512-4ea9-8032-bc0f70e661fc"
      },
      "outputs": [
        {
          "output_type": "execute_result",
          "data": {
            "text/plain": [
              "25"
            ]
          },
          "metadata": {},
          "execution_count": 8
        }
      ],
      "source": [
        "5 ** 2"
      ]
    },
    {
      "cell_type": "code",
      "execution_count": 9,
      "metadata": {
        "colab": {
          "base_uri": "https://localhost:8080/"
        },
        "id": "UZaR755_0-Ys",
        "outputId": "80e7bdbc-c806-40d4-eb00-8cb8fbddf34d"
      },
      "outputs": [
        {
          "output_type": "execute_result",
          "data": {
            "text/plain": [
              "45"
            ]
          },
          "metadata": {},
          "execution_count": 9
        }
      ],
      "source": [
        "(2 + 3) * (4 + 5)"
      ]
    },
    {
      "cell_type": "code",
      "execution_count": 10,
      "metadata": {
        "colab": {
          "base_uri": "https://localhost:8080/"
        },
        "id": "efpbo_f61lQy",
        "outputId": "9641ea86-ddba-4990-de3b-d7a9cee9542a"
      },
      "outputs": [
        {
          "output_type": "execute_result",
          "data": {
            "text/plain": [
              "10.0"
            ]
          },
          "metadata": {},
          "execution_count": 10
        }
      ],
      "source": [
        "((2 * 3) / (1 + 1)) + 7"
      ]
    },
    {
      "cell_type": "code",
      "execution_count": 11,
      "metadata": {
        "colab": {
          "base_uri": "https://localhost:8080/"
        },
        "id": "nguAoHfa7O_h",
        "outputId": "a4d23a74-f689-445e-f139-e9eb19772ee4"
      },
      "outputs": [
        {
          "output_type": "execute_result",
          "data": {
            "text/plain": [
              "int"
            ]
          },
          "metadata": {},
          "execution_count": 11
        }
      ],
      "source": [
        "type(25)"
      ]
    },
    {
      "cell_type": "code",
      "execution_count": 12,
      "metadata": {
        "colab": {
          "base_uri": "https://localhost:8080/"
        },
        "id": "3AnEWB-E7RhW",
        "outputId": "ca2050c8-78ae-4683-9a09-1603070555f2"
      },
      "outputs": [
        {
          "output_type": "execute_result",
          "data": {
            "text/plain": [
              "float"
            ]
          },
          "metadata": {},
          "execution_count": 12
        }
      ],
      "source": [
        "type(3.58)"
      ]
    },
    {
      "cell_type": "markdown",
      "metadata": {
        "id": "Ri7jLIXA2DtV"
      },
      "source": [
        "Variable Assignment"
      ]
    },
    {
      "cell_type": "code",
      "execution_count": 13,
      "metadata": {
        "id": "V0qjkKSK4Mnh"
      },
      "outputs": [],
      "source": [
        "num_1 = 7\n",
        "num_2 = 5"
      ]
    },
    {
      "cell_type": "code",
      "execution_count": 14,
      "metadata": {
        "colab": {
          "base_uri": "https://localhost:8080/"
        },
        "id": "I3aha5DE5nw8",
        "outputId": "e4882cca-c818-41d1-e6f7-6b528cfef505"
      },
      "outputs": [
        {
          "output_type": "execute_result",
          "data": {
            "text/plain": [
              "7"
            ]
          },
          "metadata": {},
          "execution_count": 14
        }
      ],
      "source": [
        "num_1"
      ]
    },
    {
      "cell_type": "code",
      "execution_count": 15,
      "metadata": {
        "colab": {
          "base_uri": "https://localhost:8080/"
        },
        "id": "yNC8joVz5qB8",
        "outputId": "90461abb-83c8-4b6c-ac17-ccf22e6877b0"
      },
      "outputs": [
        {
          "output_type": "execute_result",
          "data": {
            "text/plain": [
              "5"
            ]
          },
          "metadata": {},
          "execution_count": 15
        }
      ],
      "source": [
        "num_2"
      ]
    },
    {
      "cell_type": "code",
      "execution_count": 16,
      "metadata": {
        "colab": {
          "base_uri": "https://localhost:8080/"
        },
        "id": "WrnYXvlYxJLl",
        "outputId": "4a391c49-b324-4a1b-eb0a-2afe3777bcc8"
      },
      "outputs": [
        {
          "output_type": "stream",
          "name": "stdout",
          "text": [
            "num_1 + num_2 = 12\n",
            "num_1 - num_2 = 2\n",
            "num_1 * num_2 = 35\n",
            "num_1 / num_2 = 1.4\n",
            "num_1 // num_2 = 1\n",
            "num_1 % num_2 = 2\n",
            "num_1 ** num_2 = 16807\n"
          ]
        }
      ],
      "source": [
        "print(f\"num_1 + num_2 = {num_1 + num_2}\")\n",
        "print(f\"num_1 - num_2 = {num_1 - num_2}\")\n",
        "print(f\"num_1 * num_2 = {num_1 * num_2}\")\n",
        "print(f\"num_1 / num_2 = {num_1 / num_2}\")\n",
        "print(f\"num_1 // num_2 = {num_1 // num_2}\")\n",
        "print(f\"num_1 % num_2 = {num_1 % num_2}\")\n",
        "print(f\"num_1 ** num_2 = {num_1 ** num_2}\")"
      ]
    },
    {
      "cell_type": "code",
      "execution_count": 17,
      "metadata": {
        "colab": {
          "base_uri": "https://localhost:8080/",
          "height": 184
        },
        "id": "PBi-g773609j",
        "outputId": "eacb4e3d-9fdf-4a94-95ce-b311f7672b96"
      },
      "outputs": [
        {
          "output_type": "error",
          "ename": "NameError",
          "evalue": "ignored",
          "traceback": [
            "\u001b[0;31m---------------------------------------------------------------------------\u001b[0m",
            "\u001b[0;31mNameError\u001b[0m                                 Traceback (most recent call last)",
            "\u001b[0;32m<ipython-input-17-0dec16894e48>\u001b[0m in \u001b[0;36m<cell line: 1>\u001b[0;34m()\u001b[0m\n\u001b[0;32m----> 1\u001b[0;31m \u001b[0mNum_1\u001b[0m\u001b[0;34m\u001b[0m\u001b[0;34m\u001b[0m\u001b[0m\n\u001b[0m",
            "\u001b[0;31mNameError\u001b[0m: name 'Num_1' is not defined"
          ]
        }
      ],
      "source": [
        "Num_1"
      ]
    },
    {
      "cell_type": "code",
      "execution_count": 18,
      "metadata": {
        "id": "0bBgwmxk2zs5"
      },
      "outputs": [],
      "source": [
        "num_3, num_4, num_5 = 6, 35, 24"
      ]
    },
    {
      "cell_type": "code",
      "execution_count": 19,
      "metadata": {
        "colab": {
          "base_uri": "https://localhost:8080/"
        },
        "id": "NupyXM0F29Gl",
        "outputId": "0cc0b372-9398-4155-cc2b-a2a3931e26f9"
      },
      "outputs": [
        {
          "output_type": "execute_result",
          "data": {
            "text/plain": [
              "6"
            ]
          },
          "metadata": {},
          "execution_count": 19
        }
      ],
      "source": [
        "num_3"
      ]
    },
    {
      "cell_type": "code",
      "execution_count": 20,
      "metadata": {
        "colab": {
          "base_uri": "https://localhost:8080/"
        },
        "id": "RmG4Wkw_2-51",
        "outputId": "18eba86a-b88f-48cd-9635-ed9a378e0ef7"
      },
      "outputs": [
        {
          "output_type": "execute_result",
          "data": {
            "text/plain": [
              "35"
            ]
          },
          "metadata": {},
          "execution_count": 20
        }
      ],
      "source": [
        "num_4"
      ]
    },
    {
      "cell_type": "code",
      "execution_count": 21,
      "metadata": {
        "colab": {
          "base_uri": "https://localhost:8080/"
        },
        "id": "4O6l4v4B3AOh",
        "outputId": "19a1d02a-2a55-4a98-a6fb-c21b1622ba3d"
      },
      "outputs": [
        {
          "output_type": "execute_result",
          "data": {
            "text/plain": [
              "24"
            ]
          },
          "metadata": {},
          "execution_count": 21
        }
      ],
      "source": [
        "num_5"
      ]
    },
    {
      "cell_type": "code",
      "execution_count": 22,
      "metadata": {
        "colab": {
          "base_uri": "https://localhost:8080/"
        },
        "id": "z2HnUsY27BAf",
        "outputId": "c94f9ec1-ce63-44f1-ddf3-1c035b183010"
      },
      "outputs": [
        {
          "output_type": "execute_result",
          "data": {
            "text/plain": [
              "int"
            ]
          },
          "metadata": {},
          "execution_count": 22
        }
      ],
      "source": [
        "type(num_1)"
      ]
    },
    {
      "cell_type": "code",
      "execution_count": 23,
      "metadata": {
        "colab": {
          "base_uri": "https://localhost:8080/"
        },
        "id": "wTR4O7rd7Iof",
        "outputId": "ef27bd3a-b279-4247-8791-eb700ac70466"
      },
      "outputs": [
        {
          "output_type": "execute_result",
          "data": {
            "text/plain": [
              "7.0"
            ]
          },
          "metadata": {},
          "execution_count": 23
        }
      ],
      "source": [
        "float(num_1)"
      ]
    },
    {
      "cell_type": "code",
      "execution_count": 24,
      "metadata": {
        "colab": {
          "base_uri": "https://localhost:8080/",
          "height": 35
        },
        "id": "fiW8Xkm57O9F",
        "outputId": "f3ca8b6f-e503-4981-b848-aa2c166ad05f"
      },
      "outputs": [
        {
          "output_type": "execute_result",
          "data": {
            "text/plain": [
              "'7'"
            ],
            "application/vnd.google.colaboratory.intrinsic+json": {
              "type": "string"
            }
          },
          "metadata": {},
          "execution_count": 24
        }
      ],
      "source": [
        "str(num_1)"
      ]
    },
    {
      "cell_type": "code",
      "execution_count": 25,
      "metadata": {
        "colab": {
          "base_uri": "https://localhost:8080/"
        },
        "id": "8pGgrTkW7hhV",
        "outputId": "ed2db9ff-ce2c-418d-a335-05eeabe7f4a1"
      },
      "outputs": [
        {
          "output_type": "execute_result",
          "data": {
            "text/plain": [
              "5"
            ]
          },
          "metadata": {},
          "execution_count": 25
        }
      ],
      "source": [
        "int(5.2)"
      ]
    },
    {
      "cell_type": "code",
      "execution_count": 26,
      "metadata": {
        "colab": {
          "base_uri": "https://localhost:8080/",
          "height": 35
        },
        "id": "tBLuafGV7rgS",
        "outputId": "68ab13b2-23a2-4ae7-e7ab-fbad100d70e5"
      },
      "outputs": [
        {
          "output_type": "execute_result",
          "data": {
            "text/plain": [
              "'5.2'"
            ],
            "application/vnd.google.colaboratory.intrinsic+json": {
              "type": "string"
            }
          },
          "metadata": {},
          "execution_count": 26
        }
      ],
      "source": [
        "str(5.2)"
      ]
    },
    {
      "cell_type": "code",
      "execution_count": 27,
      "metadata": {
        "colab": {
          "base_uri": "https://localhost:8080/"
        },
        "id": "Av7oD8m2R3oD",
        "outputId": "0aa1113c-5349-4ff7-a42a-47cb29a053d7"
      },
      "outputs": [
        {
          "output_type": "stream",
          "name": "stdout",
          "text": [
            "4\n"
          ]
        }
      ],
      "source": [
        "print(round(4.2))"
      ]
    },
    {
      "cell_type": "code",
      "execution_count": 28,
      "metadata": {
        "colab": {
          "base_uri": "https://localhost:8080/"
        },
        "id": "x01FTL-bR7cg",
        "outputId": "4e96008d-14fd-4ec2-ac30-be94a1aa5fd5"
      },
      "outputs": [
        {
          "output_type": "stream",
          "name": "stdout",
          "text": [
            "4\n"
          ]
        }
      ],
      "source": [
        "print(round(4.5))"
      ]
    },
    {
      "cell_type": "code",
      "execution_count": 29,
      "metadata": {
        "colab": {
          "base_uri": "https://localhost:8080/"
        },
        "id": "YEoSFja_R-rb",
        "outputId": "f6fac919-7cfb-43ee-a6c6-b0b31ea2c8a4"
      },
      "outputs": [
        {
          "output_type": "stream",
          "name": "stdout",
          "text": [
            "5\n"
          ]
        }
      ],
      "source": [
        "print(round(4.7))"
      ]
    },
    {
      "cell_type": "code",
      "execution_count": 30,
      "metadata": {
        "colab": {
          "base_uri": "https://localhost:8080/"
        },
        "id": "dA3jSsgmSU1J",
        "outputId": "7a4c58d9-bb21-428f-9b22-28fdcca082b8"
      },
      "outputs": [
        {
          "output_type": "stream",
          "name": "stdout",
          "text": [
            "8\n"
          ]
        }
      ],
      "source": [
        "print(round(7.5684128120415))"
      ]
    },
    {
      "cell_type": "code",
      "execution_count": 31,
      "metadata": {
        "colab": {
          "base_uri": "https://localhost:8080/"
        },
        "id": "HfXedN-sSPi1",
        "outputId": "328da6d1-7e16-4d5a-d648-c6e8a33096b3"
      },
      "outputs": [
        {
          "output_type": "stream",
          "name": "stdout",
          "text": [
            "7.6\n"
          ]
        }
      ],
      "source": [
        "print(round(7.5684128120415, 1))"
      ]
    },
    {
      "cell_type": "code",
      "execution_count": 32,
      "metadata": {
        "colab": {
          "base_uri": "https://localhost:8080/"
        },
        "id": "JMlJD8dbSFkp",
        "outputId": "2e6643a6-9de8-4740-f482-3d106c3355d7"
      },
      "outputs": [
        {
          "output_type": "stream",
          "name": "stdout",
          "text": [
            "7.57\n"
          ]
        }
      ],
      "source": [
        "print(round(7.5684128120415, 2))"
      ]
    },
    {
      "cell_type": "code",
      "execution_count": 33,
      "metadata": {
        "colab": {
          "base_uri": "https://localhost:8080/"
        },
        "id": "NLgxewYcSJ3D",
        "outputId": "0641d7fc-711f-4beb-bce7-d1d188fb55fe"
      },
      "outputs": [
        {
          "output_type": "stream",
          "name": "stdout",
          "text": [
            "7.5684\n"
          ]
        }
      ],
      "source": [
        "print(round(7.5684128120415, 4))"
      ]
    },
    {
      "cell_type": "markdown",
      "metadata": {
        "id": "bEd9tjAv2iW0"
      },
      "source": [
        "**String**"
      ]
    },
    {
      "cell_type": "code",
      "execution_count": 34,
      "metadata": {
        "colab": {
          "base_uri": "https://localhost:8080/",
          "height": 35
        },
        "id": "U_BjFSU32fad",
        "outputId": "068903d7-fad1-4d0e-9398-ac7e10f7ff6b"
      },
      "outputs": [
        {
          "output_type": "execute_result",
          "data": {
            "text/plain": [
              "'hello world python!'"
            ],
            "application/vnd.google.colaboratory.intrinsic+json": {
              "type": "string"
            }
          },
          "metadata": {},
          "execution_count": 34
        }
      ],
      "source": [
        "message = \"hello world python!\"\n",
        "message"
      ]
    },
    {
      "cell_type": "code",
      "execution_count": 35,
      "metadata": {
        "colab": {
          "base_uri": "https://localhost:8080/",
          "height": 35
        },
        "id": "bXIW4dsZ2vhn",
        "outputId": "3e8c67e5-aca9-4ef9-9d1e-5a432715a67f"
      },
      "outputs": [
        {
          "output_type": "execute_result",
          "data": {
            "text/plain": [
              "'HELLO WORLD PYTHON!'"
            ],
            "application/vnd.google.colaboratory.intrinsic+json": {
              "type": "string"
            }
          },
          "metadata": {},
          "execution_count": 35
        }
      ],
      "source": [
        "message.upper()"
      ]
    },
    {
      "cell_type": "code",
      "execution_count": 36,
      "metadata": {
        "colab": {
          "base_uri": "https://localhost:8080/",
          "height": 35
        },
        "id": "Xv0IiJ9u2yAt",
        "outputId": "432017fc-c828-46c7-a562-dc4229d98bd2"
      },
      "outputs": [
        {
          "output_type": "execute_result",
          "data": {
            "text/plain": [
              "'Hello World Python!'"
            ],
            "application/vnd.google.colaboratory.intrinsic+json": {
              "type": "string"
            }
          },
          "metadata": {},
          "execution_count": 36
        }
      ],
      "source": [
        "message.title()"
      ]
    },
    {
      "cell_type": "code",
      "execution_count": 37,
      "metadata": {
        "colab": {
          "base_uri": "https://localhost:8080/",
          "height": 35
        },
        "id": "MhCnHlda3Svv",
        "outputId": "de15206e-a3b2-44dd-fc83-93c456d56c12"
      },
      "outputs": [
        {
          "output_type": "execute_result",
          "data": {
            "text/plain": [
              "'hello world python!'"
            ],
            "application/vnd.google.colaboratory.intrinsic+json": {
              "type": "string"
            }
          },
          "metadata": {},
          "execution_count": 37
        }
      ],
      "source": [
        "message.lower()"
      ]
    },
    {
      "cell_type": "code",
      "execution_count": 38,
      "metadata": {
        "colab": {
          "base_uri": "https://localhost:8080/"
        },
        "id": "DRzrIque8p85",
        "outputId": "be6d90fa-3a20-4499-8acf-cc8c216c3c50"
      },
      "outputs": [
        {
          "output_type": "stream",
          "name": "stdout",
          "text": [
            "Python\n"
          ]
        }
      ],
      "source": [
        "print(\"Python\")"
      ]
    },
    {
      "cell_type": "code",
      "execution_count": 39,
      "metadata": {
        "colab": {
          "base_uri": "https://localhost:8080/"
        },
        "id": "YPKKngHx8c6t",
        "outputId": "2740ec54-e8be-4d70-adfa-e4a546581a6a"
      },
      "outputs": [
        {
          "output_type": "stream",
          "name": "stdout",
          "text": [
            "\tPython\n"
          ]
        }
      ],
      "source": [
        "print(\"\\tPython\")"
      ]
    },
    {
      "cell_type": "code",
      "execution_count": 40,
      "metadata": {
        "colab": {
          "base_uri": "https://localhost:8080/"
        },
        "id": "w_LztId48olB",
        "outputId": "94b75800-18f6-42d8-f179-69c7b0e45eb1"
      },
      "outputs": [
        {
          "output_type": "stream",
          "name": "stdout",
          "text": [
            "Language:\n",
            "\tPython\n",
            "\tR\n",
            "\tC\n",
            "\tC++\n",
            "\tjava\n"
          ]
        }
      ],
      "source": [
        "print(\"Language:\\n\\tPython\\n\\tR\\n\\tC\\n\\tC++\\n\\tjava\")"
      ]
    },
    {
      "cell_type": "markdown",
      "metadata": {
        "id": "qWChcQxCJfe5"
      },
      "source": [
        "\\t  ===>  Tab\n",
        "\n",
        "\\n  ===> Enter"
      ]
    },
    {
      "cell_type": "code",
      "execution_count": 41,
      "metadata": {
        "colab": {
          "base_uri": "https://localhost:8080/"
        },
        "id": "B-AWV1rr3ZFN",
        "outputId": "d02db5ec-4ee4-4e00-de6c-c569007fd1e1"
      },
      "outputs": [
        {
          "output_type": "stream",
          "name": "stdout",
          "text": [
            "data sciencs\n"
          ]
        }
      ],
      "source": [
        "msg_1 = \"data\"\n",
        "msg_2 = \"sciencs\"\n",
        "full_msg = f\"{msg_1} {msg_2}\"\n",
        "print(full_msg)"
      ]
    },
    {
      "cell_type": "code",
      "execution_count": 42,
      "metadata": {
        "colab": {
          "base_uri": "https://localhost:8080/"
        },
        "id": "tJX4dCNQ7-QI",
        "outputId": "fa516a25-ad47-46c4-aa50-0d53d8f730a4"
      },
      "outputs": [
        {
          "output_type": "stream",
          "name": "stdout",
          "text": [
            "Data Sciencs\n"
          ]
        }
      ],
      "source": [
        "print(f\"{full_msg.title()}\")"
      ]
    },
    {
      "cell_type": "code",
      "execution_count": 43,
      "metadata": {
        "colab": {
          "base_uri": "https://localhost:8080/"
        },
        "id": "REc2egEKH4mK",
        "outputId": "7a0977d2-c8bc-409c-ee33-47df6d4f76d0"
      },
      "outputs": [
        {
          "output_type": "execute_result",
          "data": {
            "text/plain": [
              "12"
            ]
          },
          "metadata": {},
          "execution_count": 43
        }
      ],
      "source": [
        "len(full_msg)"
      ]
    },
    {
      "cell_type": "code",
      "execution_count": 44,
      "metadata": {
        "colab": {
          "base_uri": "https://localhost:8080/",
          "height": 35
        },
        "id": "opmd_ZhxHjun",
        "outputId": "b9c02482-7f74-4d45-c2bb-6e4d338a4540"
      },
      "outputs": [
        {
          "output_type": "execute_result",
          "data": {
            "text/plain": [
              "'s'"
            ],
            "application/vnd.google.colaboratory.intrinsic+json": {
              "type": "string"
            }
          },
          "metadata": {},
          "execution_count": 44
        }
      ],
      "source": [
        "full_msg[5]"
      ]
    },
    {
      "cell_type": "code",
      "execution_count": 45,
      "metadata": {
        "colab": {
          "base_uri": "https://localhost:8080/",
          "height": 35
        },
        "id": "iPYyWUh3H0EO",
        "outputId": "f491ec99-1c08-45fe-db50-958d0d280dbd"
      },
      "outputs": [
        {
          "output_type": "execute_result",
          "data": {
            "text/plain": [
              "'ta sci'"
            ],
            "application/vnd.google.colaboratory.intrinsic+json": {
              "type": "string"
            }
          },
          "metadata": {},
          "execution_count": 45
        }
      ],
      "source": [
        "full_msg[2:8]"
      ]
    },
    {
      "cell_type": "code",
      "execution_count": 46,
      "metadata": {
        "colab": {
          "base_uri": "https://localhost:8080/",
          "height": 35
        },
        "id": "qJgx2LJnH_iT",
        "outputId": "f74c2296-4ed3-4558-855b-49099e87f0c9"
      },
      "outputs": [
        {
          "output_type": "execute_result",
          "data": {
            "text/plain": [
              "'a sciencs'"
            ],
            "application/vnd.google.colaboratory.intrinsic+json": {
              "type": "string"
            }
          },
          "metadata": {},
          "execution_count": 46
        }
      ],
      "source": [
        "full_msg[3:]"
      ]
    },
    {
      "cell_type": "code",
      "execution_count": 47,
      "metadata": {
        "colab": {
          "base_uri": "https://localhost:8080/",
          "height": 35
        },
        "id": "9qMMznZoIDBe",
        "outputId": "59cd07c7-2ce7-49bc-c445-d42d17d1872d"
      },
      "outputs": [
        {
          "output_type": "execute_result",
          "data": {
            "text/plain": [
              "'data scienc'"
            ],
            "application/vnd.google.colaboratory.intrinsic+json": {
              "type": "string"
            }
          },
          "metadata": {},
          "execution_count": 47
        }
      ],
      "source": [
        "full_msg[:11]"
      ]
    },
    {
      "cell_type": "code",
      "execution_count": 48,
      "metadata": {
        "colab": {
          "base_uri": "https://localhost:8080/",
          "height": 35
        },
        "id": "pBQ7KBwyIJPF",
        "outputId": "5ebc20ea-d18d-4bc7-dbf2-8e5672d80395"
      },
      "outputs": [
        {
          "output_type": "execute_result",
          "data": {
            "text/plain": [
              "'t'"
            ],
            "application/vnd.google.colaboratory.intrinsic+json": {
              "type": "string"
            }
          },
          "metadata": {},
          "execution_count": 48
        }
      ],
      "source": [
        "full_msg[-10]"
      ]
    },
    {
      "cell_type": "markdown",
      "metadata": {
        "id": "__sOXaXUHSQv"
      },
      "source": [
        "**List**"
      ]
    },
    {
      "cell_type": "code",
      "execution_count": 49,
      "metadata": {
        "colab": {
          "base_uri": "https://localhost:8080/"
        },
        "id": "aA5XWSd6G9YD",
        "outputId": "b121cd78-5716-4943-bcda-4dac92b69c31"
      },
      "outputs": [
        {
          "output_type": "execute_result",
          "data": {
            "text/plain": [
              "[1, 2, 3]"
            ]
          },
          "metadata": {},
          "execution_count": 49
        }
      ],
      "source": [
        "[1, 2, 3]"
      ]
    },
    {
      "cell_type": "code",
      "execution_count": 50,
      "metadata": {
        "id": "gUcoFWw8IUBo"
      },
      "outputs": [],
      "source": [
        "lst_1 = [1, 2, 3, 4, 5, 6, 7, 8]"
      ]
    },
    {
      "cell_type": "code",
      "execution_count": 51,
      "metadata": {
        "colab": {
          "base_uri": "https://localhost:8080/"
        },
        "id": "Wf2TLPHGIfCA",
        "outputId": "f949fad2-9f4a-4288-ec10-69b0b11de3ca"
      },
      "outputs": [
        {
          "output_type": "execute_result",
          "data": {
            "text/plain": [
              "list"
            ]
          },
          "metadata": {},
          "execution_count": 51
        }
      ],
      "source": [
        "type(lst_1)"
      ]
    },
    {
      "cell_type": "code",
      "execution_count": 52,
      "metadata": {
        "colab": {
          "base_uri": "https://localhost:8080/"
        },
        "id": "pDtgd2cVIrbr",
        "outputId": "a1bae3b2-cba6-4e67-8400-964b0c3ee4ee"
      },
      "outputs": [
        {
          "output_type": "execute_result",
          "data": {
            "text/plain": [
              "[1, 2, 3, 4, 5, 6, 7, 8, 11]"
            ]
          },
          "metadata": {},
          "execution_count": 52
        }
      ],
      "source": [
        "lst_1.append(11)\n",
        "lst_1"
      ]
    },
    {
      "cell_type": "code",
      "execution_count": 53,
      "metadata": {
        "colab": {
          "base_uri": "https://localhost:8080/"
        },
        "id": "rDoxSFTHJQDz",
        "outputId": "055f400e-aef9-4785-8428-520f29b6b10c"
      },
      "outputs": [
        {
          "output_type": "execute_result",
          "data": {
            "text/plain": [
              "9"
            ]
          },
          "metadata": {},
          "execution_count": 53
        }
      ],
      "source": [
        "len(lst_1)"
      ]
    },
    {
      "cell_type": "code",
      "execution_count": 54,
      "metadata": {
        "colab": {
          "base_uri": "https://localhost:8080/"
        },
        "id": "Ks8UR5DbIwkZ",
        "outputId": "a58d50d9-3ec6-46c9-9354-5b9d5653784b"
      },
      "outputs": [
        {
          "output_type": "execute_result",
          "data": {
            "text/plain": [
              "3"
            ]
          },
          "metadata": {},
          "execution_count": 54
        }
      ],
      "source": [
        "lst_1[2]"
      ]
    },
    {
      "cell_type": "code",
      "execution_count": 55,
      "metadata": {
        "colab": {
          "base_uri": "https://localhost:8080/"
        },
        "id": "P3-VmX0lJFbn",
        "outputId": "3561e7b9-3a9a-442c-eee1-117243b1b73b"
      },
      "outputs": [
        {
          "output_type": "execute_result",
          "data": {
            "text/plain": [
              "[6, 7, 8, 11]"
            ]
          },
          "metadata": {},
          "execution_count": 55
        }
      ],
      "source": [
        "lst_1[5:]"
      ]
    },
    {
      "cell_type": "code",
      "execution_count": 56,
      "metadata": {
        "colab": {
          "base_uri": "https://localhost:8080/"
        },
        "id": "c9x_xCC_JKMJ",
        "outputId": "87a20c8c-74a0-44aa-b568-b47397adc5ac"
      },
      "outputs": [
        {
          "output_type": "execute_result",
          "data": {
            "text/plain": [
              "[1, 2, 3, 4, 5, 6]"
            ]
          },
          "metadata": {},
          "execution_count": 56
        }
      ],
      "source": [
        "lst_1[:6]"
      ]
    },
    {
      "cell_type": "code",
      "execution_count": 57,
      "metadata": {
        "colab": {
          "base_uri": "https://localhost:8080/"
        },
        "id": "6wStVN4GJO7w",
        "outputId": "eb528a8d-0b77-400e-83c7-26d5d81907d8"
      },
      "outputs": [
        {
          "output_type": "execute_result",
          "data": {
            "text/plain": [
              "3"
            ]
          },
          "metadata": {},
          "execution_count": 57
        }
      ],
      "source": [
        "lst_1[-7]"
      ]
    },
    {
      "cell_type": "code",
      "execution_count": 58,
      "metadata": {
        "colab": {
          "base_uri": "https://localhost:8080/"
        },
        "id": "EVe-8BHmJUfQ",
        "outputId": "72c40c36-3753-4c8f-8bb8-15c426dd5c94"
      },
      "outputs": [
        {
          "output_type": "execute_result",
          "data": {
            "text/plain": [
              "[[1, 2, 3, 4, 5, 6, 7, 8, 11], 15, 23, 'python', [19, 35, 48]]"
            ]
          },
          "metadata": {},
          "execution_count": 58
        }
      ],
      "source": [
        "lst_2 = [lst_1, 15, 23, \"python\", [19, 35, 48]]\n",
        "lst_2"
      ]
    },
    {
      "cell_type": "code",
      "execution_count": 59,
      "metadata": {
        "colab": {
          "base_uri": "https://localhost:8080/"
        },
        "id": "dsF0VaEjJkAn",
        "outputId": "e12ee317-f030-4deb-f17a-9bed1b7218da"
      },
      "outputs": [
        {
          "output_type": "execute_result",
          "data": {
            "text/plain": [
              "[1, 2, 3, 4, 5, 6, 7, 8, 11]"
            ]
          },
          "metadata": {},
          "execution_count": 59
        }
      ],
      "source": [
        "lst_2[0]"
      ]
    },
    {
      "cell_type": "code",
      "execution_count": 60,
      "metadata": {
        "colab": {
          "base_uri": "https://localhost:8080/",
          "height": 35
        },
        "id": "-Eoha1vXJn9y",
        "outputId": "38ab0581-b0aa-426b-b484-4a665114e724"
      },
      "outputs": [
        {
          "output_type": "execute_result",
          "data": {
            "text/plain": [
              "'t'"
            ],
            "application/vnd.google.colaboratory.intrinsic+json": {
              "type": "string"
            }
          },
          "metadata": {},
          "execution_count": 60
        }
      ],
      "source": [
        "lst_2[3][2]"
      ]
    },
    {
      "cell_type": "code",
      "execution_count": 61,
      "metadata": {
        "colab": {
          "base_uri": "https://localhost:8080/",
          "height": 35
        },
        "id": "gHSwGuwOJxsw",
        "outputId": "81b9817b-cf02-450f-e03e-7ebaa0937b46"
      },
      "outputs": [
        {
          "output_type": "execute_result",
          "data": {
            "text/plain": [
              "'ytho'"
            ],
            "application/vnd.google.colaboratory.intrinsic+json": {
              "type": "string"
            }
          },
          "metadata": {},
          "execution_count": 61
        }
      ],
      "source": [
        "lst_2[3][1:5]"
      ]
    },
    {
      "cell_type": "code",
      "execution_count": 62,
      "metadata": {
        "colab": {
          "base_uri": "https://localhost:8080/"
        },
        "id": "_sjvYLFGJ5pl",
        "outputId": "56918b6f-4604-4ee7-dce6-ed27efe4267f"
      },
      "outputs": [
        {
          "output_type": "execute_result",
          "data": {
            "text/plain": [
              "['Python', 'C', 'C++', 'java', 'C#', 'php']"
            ]
          },
          "metadata": {},
          "execution_count": 62
        }
      ],
      "source": [
        "lst_3 = [\"Python\", \"C\", \"C++\", \"java\", \"C#\", \"php\"]\n",
        "lst_3"
      ]
    },
    {
      "cell_type": "code",
      "execution_count": 63,
      "metadata": {
        "colab": {
          "base_uri": "https://localhost:8080/",
          "height": 35
        },
        "id": "BhFa2sHeKZt6",
        "outputId": "676d3fce-79e4-4c73-89c3-a53ae66ecdf0"
      },
      "outputs": [
        {
          "output_type": "execute_result",
          "data": {
            "text/plain": [
              "'PYTHON'"
            ],
            "application/vnd.google.colaboratory.intrinsic+json": {
              "type": "string"
            }
          },
          "metadata": {},
          "execution_count": 63
        }
      ],
      "source": [
        "lst_3[0].upper()"
      ]
    },
    {
      "cell_type": "code",
      "execution_count": 64,
      "metadata": {
        "colab": {
          "base_uri": "https://localhost:8080/",
          "height": 35
        },
        "id": "CG1NgMbnKf3x",
        "outputId": "343585ed-380f-4b5b-dd9e-8a52696a4951"
      },
      "outputs": [
        {
          "output_type": "execute_result",
          "data": {
            "text/plain": [
              "'Python'"
            ],
            "application/vnd.google.colaboratory.intrinsic+json": {
              "type": "string"
            }
          },
          "metadata": {},
          "execution_count": 64
        }
      ],
      "source": [
        "lst_3[0].title()"
      ]
    },
    {
      "cell_type": "code",
      "execution_count": 65,
      "metadata": {
        "colab": {
          "base_uri": "https://localhost:8080/"
        },
        "id": "YEoAeCmDKmet",
        "outputId": "ccf7f6c0-9c8c-47af-8a5b-83fd11044500"
      },
      "outputs": [
        {
          "output_type": "execute_result",
          "data": {
            "text/plain": [
              "['R', 'Python', 'C', 'C++', 'java', 'C#', 'php']"
            ]
          },
          "metadata": {},
          "execution_count": 65
        }
      ],
      "source": [
        "lst_3.insert(0, \"R\")\n",
        "lst_3"
      ]
    },
    {
      "cell_type": "code",
      "execution_count": 66,
      "metadata": {
        "colab": {
          "base_uri": "https://localhost:8080/"
        },
        "id": "W4VUVh_GKzYB",
        "outputId": "b0a651b3-0776-499b-9c70-10715a88fdd0"
      },
      "outputs": [
        {
          "output_type": "execute_result",
          "data": {
            "text/plain": [
              "['C', 'C#', 'C++', 'Python', 'R', 'java', 'php']"
            ]
          },
          "metadata": {},
          "execution_count": 66
        }
      ],
      "source": [
        "lst_3.sort()\n",
        "lst_3"
      ]
    },
    {
      "cell_type": "code",
      "execution_count": 67,
      "metadata": {
        "colab": {
          "base_uri": "https://localhost:8080/"
        },
        "id": "LYlg18QWNByO",
        "outputId": "881a1e86-e61c-45e9-9ea3-472ddbf9c165"
      },
      "outputs": [
        {
          "output_type": "execute_result",
          "data": {
            "text/plain": [
              "['php', 'java', 'R', 'Python', 'C++', 'C#', 'C']"
            ]
          },
          "metadata": {},
          "execution_count": 67
        }
      ],
      "source": [
        "lst_3.reverse()\n",
        "lst_3"
      ]
    },
    {
      "cell_type": "code",
      "execution_count": 68,
      "metadata": {
        "colab": {
          "base_uri": "https://localhost:8080/",
          "height": 35
        },
        "id": "VNF7_TjlL0Jg",
        "outputId": "41b963b0-9e96-475a-c1ef-87d14de2f4e1"
      },
      "outputs": [
        {
          "output_type": "execute_result",
          "data": {
            "text/plain": [
              "'C'"
            ],
            "application/vnd.google.colaboratory.intrinsic+json": {
              "type": "string"
            }
          },
          "metadata": {},
          "execution_count": 68
        }
      ],
      "source": [
        "pop_lst_1 = lst_3.pop()\n",
        "pop_lst_1"
      ]
    },
    {
      "cell_type": "code",
      "execution_count": 69,
      "metadata": {
        "colab": {
          "base_uri": "https://localhost:8080/"
        },
        "id": "uaZAQIVOL9Bu",
        "outputId": "9b0076e4-4bf3-4560-f08f-01639b2d6dbc"
      },
      "outputs": [
        {
          "output_type": "execute_result",
          "data": {
            "text/plain": [
              "['php', 'java', 'R', 'Python', 'C++', 'C#']"
            ]
          },
          "metadata": {},
          "execution_count": 69
        }
      ],
      "source": [
        "lst_3"
      ]
    },
    {
      "cell_type": "code",
      "execution_count": 70,
      "metadata": {
        "colab": {
          "base_uri": "https://localhost:8080/"
        },
        "id": "9L9Ljf6xL-66",
        "outputId": "36bb4f04-6b15-449c-fcf5-7e69e97a94ed"
      },
      "outputs": [
        {
          "output_type": "execute_result",
          "data": {
            "text/plain": [
              "['php', 'java', 'Python', 'C++', 'C#']"
            ]
          },
          "metadata": {},
          "execution_count": 70
        }
      ],
      "source": [
        "lst_3.remove(\"R\")\n",
        "lst_3"
      ]
    },
    {
      "cell_type": "code",
      "execution_count": 71,
      "metadata": {
        "colab": {
          "base_uri": "https://localhost:8080/",
          "height": 35
        },
        "id": "-CPFz_GD47Kh",
        "outputId": "d269f2af-4f8b-4bdd-8398-bfb1c6b12a06"
      },
      "outputs": [
        {
          "output_type": "execute_result",
          "data": {
            "text/plain": [
              "'java'"
            ],
            "application/vnd.google.colaboratory.intrinsic+json": {
              "type": "string"
            }
          },
          "metadata": {},
          "execution_count": 71
        }
      ],
      "source": [
        "pop_lst_2 = lst_3.pop(1)\n",
        "pop_lst_2"
      ]
    },
    {
      "cell_type": "code",
      "execution_count": 72,
      "metadata": {
        "colab": {
          "base_uri": "https://localhost:8080/"
        },
        "id": "mBb-jPZL5HWE",
        "outputId": "e916103e-7448-4f0c-b1f9-bfd196de2094"
      },
      "outputs": [
        {
          "output_type": "execute_result",
          "data": {
            "text/plain": [
              "['php', 'Python', 'C++', 'C#']"
            ]
          },
          "metadata": {},
          "execution_count": 72
        }
      ],
      "source": [
        "lst_3"
      ]
    },
    {
      "cell_type": "code",
      "execution_count": 73,
      "metadata": {
        "colab": {
          "base_uri": "https://localhost:8080/"
        },
        "id": "nm31F6qD7hjr",
        "outputId": "b85db4ff-237a-47f1-ebcd-2633f5c0b288"
      },
      "outputs": [
        {
          "output_type": "execute_result",
          "data": {
            "text/plain": [
              "[2, 4, 6, 8]"
            ]
          },
          "metadata": {},
          "execution_count": 73
        }
      ],
      "source": [
        "lst_4 = [1, 2, 3, 4, 5, 6, 7, 8, 9, 10, 11]\n",
        "lst_4[1: 9: 2] # [start, end, step]"
      ]
    },
    {
      "cell_type": "markdown",
      "metadata": {
        "id": "YGEjyfi6NzE5"
      },
      "source": [
        "**Tuple**"
      ]
    },
    {
      "cell_type": "code",
      "execution_count": 74,
      "metadata": {
        "colab": {
          "base_uri": "https://localhost:8080/"
        },
        "id": "w9lNUxmuMahd",
        "outputId": "38f70292-5990-4af8-a1ca-98da73fb926e"
      },
      "outputs": [
        {
          "output_type": "execute_result",
          "data": {
            "text/plain": [
              "(1, 2, 3, 4, 5, 6, 7, 8, 9)"
            ]
          },
          "metadata": {},
          "execution_count": 74
        }
      ],
      "source": [
        "tp_1 = (1, 2, 3, 4, 5, 6, 7, 8, 9)\n",
        "tp_1"
      ]
    },
    {
      "cell_type": "code",
      "execution_count": 75,
      "metadata": {
        "colab": {
          "base_uri": "https://localhost:8080/"
        },
        "id": "yiWUBPP2OfVg",
        "outputId": "db97f327-4f07-4b8b-e227-b3cf62163cbb"
      },
      "outputs": [
        {
          "output_type": "execute_result",
          "data": {
            "text/plain": [
              "tuple"
            ]
          },
          "metadata": {},
          "execution_count": 75
        }
      ],
      "source": [
        "type(tp_1)"
      ]
    },
    {
      "cell_type": "code",
      "execution_count": 76,
      "metadata": {
        "colab": {
          "base_uri": "https://localhost:8080/"
        },
        "id": "hZCsQP68OkWg",
        "outputId": "7789cb7c-8e94-4df3-e0f7-4713312b503d"
      },
      "outputs": [
        {
          "output_type": "execute_result",
          "data": {
            "text/plain": [
              "1"
            ]
          },
          "metadata": {},
          "execution_count": 76
        }
      ],
      "source": [
        "tp_1[0]"
      ]
    },
    {
      "cell_type": "code",
      "execution_count": 77,
      "metadata": {
        "colab": {
          "base_uri": "https://localhost:8080/"
        },
        "id": "GGIjwvQM8sIr",
        "outputId": "fd89b8f4-570e-40a3-d879-c38cb3163a90"
      },
      "outputs": [
        {
          "output_type": "execute_result",
          "data": {
            "text/plain": [
              "2"
            ]
          },
          "metadata": {},
          "execution_count": 77
        }
      ],
      "source": [
        "tp_1.index(3)"
      ]
    },
    {
      "cell_type": "code",
      "execution_count": 78,
      "metadata": {
        "colab": {
          "base_uri": "https://localhost:8080/"
        },
        "id": "tVSU-ETX89P7",
        "outputId": "e08f2530-6a84-47e9-f056-af3b1e0cca89"
      },
      "outputs": [
        {
          "output_type": "execute_result",
          "data": {
            "text/plain": [
              "1"
            ]
          },
          "metadata": {},
          "execution_count": 78
        }
      ],
      "source": [
        "tp_1.count(4)"
      ]
    },
    {
      "cell_type": "code",
      "execution_count": 79,
      "metadata": {
        "colab": {
          "base_uri": "https://localhost:8080/",
          "height": 184
        },
        "id": "YilND1u4OosK",
        "outputId": "62fd6b9e-64ad-4e53-989e-4a4b583e5c4f"
      },
      "outputs": [
        {
          "output_type": "error",
          "ename": "AttributeError",
          "evalue": "ignored",
          "traceback": [
            "\u001b[0;31m---------------------------------------------------------------------------\u001b[0m",
            "\u001b[0;31mAttributeError\u001b[0m                            Traceback (most recent call last)",
            "\u001b[0;32m<ipython-input-79-f95493b76171>\u001b[0m in \u001b[0;36m<cell line: 1>\u001b[0;34m()\u001b[0m\n\u001b[0;32m----> 1\u001b[0;31m \u001b[0mtp_1\u001b[0m\u001b[0;34m.\u001b[0m\u001b[0mappend\u001b[0m\u001b[0;34m(\u001b[0m\u001b[0;36m65\u001b[0m\u001b[0;34m)\u001b[0m\u001b[0;34m\u001b[0m\u001b[0;34m\u001b[0m\u001b[0m\n\u001b[0m",
            "\u001b[0;31mAttributeError\u001b[0m: 'tuple' object has no attribute 'append'"
          ]
        }
      ],
      "source": [
        "tp_1.append(65)"
      ]
    },
    {
      "cell_type": "code",
      "execution_count": 80,
      "metadata": {
        "colab": {
          "base_uri": "https://localhost:8080/"
        },
        "id": "EtJooHPmOs1K",
        "outputId": "1400a39a-520e-41f5-8885-35c88f9a3479"
      },
      "outputs": [
        {
          "output_type": "execute_result",
          "data": {
            "text/plain": [
              "('python', 25, [1, 2, 3])"
            ]
          },
          "metadata": {},
          "execution_count": 80
        }
      ],
      "source": [
        "tp_2 = (\"python\", 25, [1, 2, 3])\n",
        "tp_2"
      ]
    },
    {
      "cell_type": "code",
      "execution_count": 81,
      "metadata": {
        "colab": {
          "base_uri": "https://localhost:8080/"
        },
        "id": "oXBQeoUcPBKQ",
        "outputId": "65fb3651-6a2d-4357-85ec-0b0e7553845c"
      },
      "outputs": [
        {
          "output_type": "execute_result",
          "data": {
            "text/plain": [
              "['python', 25, [1, 2, 3]]"
            ]
          },
          "metadata": {},
          "execution_count": 81
        }
      ],
      "source": [
        "tuple_to_list = list(tp_2)\n",
        "tuple_to_list"
      ]
    },
    {
      "cell_type": "code",
      "execution_count": 82,
      "metadata": {
        "colab": {
          "base_uri": "https://localhost:8080/"
        },
        "id": "sDGL6MltPIsk",
        "outputId": "dde99162-ad8a-4014-8ae7-4a483cda64b3"
      },
      "outputs": [
        {
          "output_type": "execute_result",
          "data": {
            "text/plain": [
              "list"
            ]
          },
          "metadata": {},
          "execution_count": 82
        }
      ],
      "source": [
        "type(tuple_to_list)"
      ]
    },
    {
      "cell_type": "code",
      "execution_count": 83,
      "metadata": {
        "colab": {
          "base_uri": "https://localhost:8080/"
        },
        "id": "PH26mOj-Pmzf",
        "outputId": "ec1d39b3-da21-4cab-f50d-a2bedbd9442f"
      },
      "outputs": [
        {
          "output_type": "execute_result",
          "data": {
            "text/plain": [
              "['python', 25, [1, 2, 3], 'ASP']"
            ]
          },
          "metadata": {},
          "execution_count": 83
        }
      ],
      "source": [
        "tuple_to_list.append(\"ASP\")\n",
        "tuple_to_list"
      ]
    },
    {
      "cell_type": "code",
      "execution_count": 84,
      "metadata": {
        "colab": {
          "base_uri": "https://localhost:8080/"
        },
        "id": "dchguwRdPRo4",
        "outputId": "6276c7ac-f712-4ff7-afe1-baea07e73a3e"
      },
      "outputs": [
        {
          "output_type": "execute_result",
          "data": {
            "text/plain": [
              "([1, 2, 3, 4, 5, 6, 7, 8, 11], 15, 23, 'python', [19, 35, 48])"
            ]
          },
          "metadata": {},
          "execution_count": 84
        }
      ],
      "source": [
        "list_to_tuple = tuple(lst_2)\n",
        "list_to_tuple"
      ]
    },
    {
      "cell_type": "code",
      "execution_count": 85,
      "metadata": {
        "colab": {
          "base_uri": "https://localhost:8080/"
        },
        "id": "gWbgOxFuPfgZ",
        "outputId": "f2b7c8cf-a799-451a-e762-087be0e59cb9"
      },
      "outputs": [
        {
          "output_type": "execute_result",
          "data": {
            "text/plain": [
              "tuple"
            ]
          },
          "metadata": {},
          "execution_count": 85
        }
      ],
      "source": [
        "type(list_to_tuple)"
      ]
    },
    {
      "cell_type": "code",
      "execution_count": 86,
      "metadata": {
        "colab": {
          "base_uri": "https://localhost:8080/",
          "height": 184
        },
        "id": "e_HvzCY9PjoG",
        "outputId": "f643c386-4797-443a-887d-ae4a3baee569"
      },
      "outputs": [
        {
          "output_type": "error",
          "ename": "AttributeError",
          "evalue": "ignored",
          "traceback": [
            "\u001b[0;31m---------------------------------------------------------------------------\u001b[0m",
            "\u001b[0;31mAttributeError\u001b[0m                            Traceback (most recent call last)",
            "\u001b[0;32m<ipython-input-86-f11d967423a1>\u001b[0m in \u001b[0;36m<cell line: 1>\u001b[0;34m()\u001b[0m\n\u001b[0;32m----> 1\u001b[0;31m \u001b[0mlist_to_tuple\u001b[0m\u001b[0;34m.\u001b[0m\u001b[0mappend\u001b[0m\u001b[0;34m(\u001b[0m\u001b[0;34m\"ASP\"\u001b[0m\u001b[0;34m)\u001b[0m\u001b[0;34m\u001b[0m\u001b[0;34m\u001b[0m\u001b[0m\n\u001b[0m",
            "\u001b[0;31mAttributeError\u001b[0m: 'tuple' object has no attribute 'append'"
          ]
        }
      ],
      "source": [
        "list_to_tuple.append(\"ASP\")"
      ]
    },
    {
      "cell_type": "markdown",
      "metadata": {
        "id": "VVQLCFutP-y1"
      },
      "source": [
        "**Set**"
      ]
    },
    {
      "cell_type": "code",
      "execution_count": 87,
      "metadata": {
        "colab": {
          "base_uri": "https://localhost:8080/"
        },
        "id": "D1k8MldkP1pc",
        "outputId": "d75ddbf0-17a7-4595-a609-2051b587a8a9"
      },
      "outputs": [
        {
          "output_type": "execute_result",
          "data": {
            "text/plain": [
              "{1, 2, 3, 4, 5, 6, 7}"
            ]
          },
          "metadata": {},
          "execution_count": 87
        }
      ],
      "source": [
        "set_1 = {1, 2, 1, 3, 4, 2, 1, 1, 2, 5, 3, 2, 6, 7, 5, 2, 1, 6, 3}\n",
        "set_1"
      ]
    },
    {
      "cell_type": "code",
      "execution_count": 88,
      "metadata": {
        "colab": {
          "base_uri": "https://localhost:8080/"
        },
        "id": "F5kQO2ZEQke8",
        "outputId": "c9b5d200-da4f-4f87-ae55-3a22924c4ae9"
      },
      "outputs": [
        {
          "output_type": "execute_result",
          "data": {
            "text/plain": [
              "7"
            ]
          },
          "metadata": {},
          "execution_count": 88
        }
      ],
      "source": [
        "len(set_1)"
      ]
    },
    {
      "cell_type": "code",
      "execution_count": 89,
      "metadata": {
        "colab": {
          "base_uri": "https://localhost:8080/"
        },
        "id": "B1seinov8JoV",
        "outputId": "e93a353d-7e79-4dbd-f041-8c0243520d69"
      },
      "outputs": [
        {
          "output_type": "execute_result",
          "data": {
            "text/plain": [
              "{1, 2, 3, 4, 5, 6, 7, 15}"
            ]
          },
          "metadata": {},
          "execution_count": 89
        }
      ],
      "source": [
        "set_1.add(15)\n",
        "set_1"
      ]
    },
    {
      "cell_type": "markdown",
      "metadata": {
        "id": "W2BHtoH2QtoE"
      },
      "source": [
        "**Dictionary**"
      ]
    },
    {
      "cell_type": "code",
      "execution_count": 90,
      "metadata": {
        "colab": {
          "base_uri": "https://localhost:8080/"
        },
        "id": "wMOvebIgQnaI",
        "outputId": "8df92535-ba91-42b2-e1a5-d356ec29f7b2"
      },
      "outputs": [
        {
          "output_type": "execute_result",
          "data": {
            "text/plain": [
              "{'key_1': 'value_1', 'key_2': 'value_2', 'key_3': 'value_3'}"
            ]
          },
          "metadata": {},
          "execution_count": 90
        }
      ],
      "source": [
        "dict_1 = {\n",
        "     \"key_1\": \"value_1\",\n",
        "     \"key_2\": \"value_2\",\n",
        "     \"key_3\": \"value_3\"\n",
        "}\n",
        "dict_1"
      ]
    },
    {
      "cell_type": "code",
      "execution_count": 91,
      "metadata": {
        "colab": {
          "base_uri": "https://localhost:8080/"
        },
        "id": "_FnMaFge5rOe",
        "outputId": "7b0913ca-9060-40ba-c661-7ebac7a8e943"
      },
      "outputs": [
        {
          "output_type": "execute_result",
          "data": {
            "text/plain": [
              "dict"
            ]
          },
          "metadata": {},
          "execution_count": 91
        }
      ],
      "source": [
        "type(dict_1)"
      ]
    },
    {
      "cell_type": "code",
      "execution_count": 92,
      "metadata": {
        "colab": {
          "base_uri": "https://localhost:8080/"
        },
        "id": "70SuX8Ap5x1l",
        "outputId": "87043e23-f136-4bea-c54e-143d13870050"
      },
      "outputs": [
        {
          "output_type": "execute_result",
          "data": {
            "text/plain": [
              "3"
            ]
          },
          "metadata": {},
          "execution_count": 92
        }
      ],
      "source": [
        "len(dict_1)"
      ]
    },
    {
      "cell_type": "code",
      "execution_count": 93,
      "metadata": {
        "colab": {
          "base_uri": "https://localhost:8080/",
          "height": 184
        },
        "id": "_18k_jZX50ab",
        "outputId": "3ca7ec35-f874-4579-bfb0-e53be1f076b0"
      },
      "outputs": [
        {
          "output_type": "error",
          "ename": "KeyError",
          "evalue": "ignored",
          "traceback": [
            "\u001b[0;31m---------------------------------------------------------------------------\u001b[0m",
            "\u001b[0;31mKeyError\u001b[0m                                  Traceback (most recent call last)",
            "\u001b[0;32m<ipython-input-93-e872587e1739>\u001b[0m in \u001b[0;36m<cell line: 1>\u001b[0;34m()\u001b[0m\n\u001b[0;32m----> 1\u001b[0;31m \u001b[0mdict_1\u001b[0m\u001b[0;34m[\u001b[0m\u001b[0;36m0\u001b[0m\u001b[0;34m]\u001b[0m\u001b[0;34m\u001b[0m\u001b[0;34m\u001b[0m\u001b[0m\n\u001b[0m",
            "\u001b[0;31mKeyError\u001b[0m: 0"
          ]
        }
      ],
      "source": [
        "dict_1[0]"
      ]
    },
    {
      "cell_type": "code",
      "execution_count": null,
      "metadata": {
        "id": "lcGqSYbm53Wd"
      },
      "outputs": [],
      "source": [
        "dict_1[\"key_1\"]"
      ]
    },
    {
      "cell_type": "code",
      "execution_count": null,
      "metadata": {
        "id": "2J1-ztoM6zSF"
      },
      "outputs": [],
      "source": [
        "dict_2 = dict(color= \"red\" , point= 7)\n",
        "dict_2"
      ]
    },
    {
      "cell_type": "code",
      "execution_count": null,
      "metadata": {
        "id": "dz9AJFqu6EXo"
      },
      "outputs": [],
      "source": [
        "dict_3 = {\n",
        "     \"A\": 25,\n",
        "     \"B\": \"data\",\n",
        "     \"C\": [1, 2, 3],\n",
        "     \"D\": (4, 5, 6),\n",
        "     \"E\": {7, 8, 9}\n",
        "}\n",
        "dict_3"
      ]
    },
    {
      "cell_type": "code",
      "execution_count": null,
      "metadata": {
        "id": "ME9qlMDA6en3"
      },
      "outputs": [],
      "source": [
        "type(dict_3)"
      ]
    },
    {
      "cell_type": "code",
      "execution_count": null,
      "metadata": {
        "id": "rHTTk6VOAXSH"
      },
      "outputs": [],
      "source": [
        "dict_3.keys()"
      ]
    },
    {
      "cell_type": "code",
      "execution_count": null,
      "metadata": {
        "id": "yQAPtkNzAcg9"
      },
      "outputs": [],
      "source": [
        "dict_3.values()"
      ]
    },
    {
      "cell_type": "code",
      "execution_count": null,
      "metadata": {
        "id": "i8h416IBBqso"
      },
      "outputs": [],
      "source": [
        "dict_3.items()"
      ]
    },
    {
      "cell_type": "code",
      "execution_count": null,
      "metadata": {
        "id": "-mzw8lUv6gwe"
      },
      "outputs": [],
      "source": [
        "dict_3[\"B\"]"
      ]
    },
    {
      "cell_type": "code",
      "execution_count": null,
      "metadata": {
        "id": "46tfLSue6kKv"
      },
      "outputs": [],
      "source": [
        "dict_3[\"C\"]"
      ]
    },
    {
      "cell_type": "code",
      "execution_count": null,
      "metadata": {
        "id": "CiuVHMyL6nDl"
      },
      "outputs": [],
      "source": [
        "dict_3[\"D\"]"
      ]
    },
    {
      "cell_type": "code",
      "execution_count": null,
      "metadata": {
        "id": "VXp6EPvf6xFw"
      },
      "outputs": [],
      "source": [
        "dict_3[\"E\"]"
      ]
    },
    {
      "cell_type": "code",
      "execution_count": 94,
      "metadata": {
        "colab": {
          "base_uri": "https://localhost:8080/",
          "height": 203
        },
        "id": "J2Ko8_ym8hQE",
        "outputId": "25147c7e-f61e-49c9-9c9d-445aa8a64542"
      },
      "outputs": [
        {
          "output_type": "error",
          "ename": "NameError",
          "evalue": "ignored",
          "traceback": [
            "\u001b[0;31m---------------------------------------------------------------------------\u001b[0m",
            "\u001b[0;31mNameError\u001b[0m                                 Traceback (most recent call last)",
            "\u001b[0;32m<ipython-input-94-3e685d33b27d>\u001b[0m in \u001b[0;36m<cell line: 1>\u001b[0;34m()\u001b[0m\n\u001b[0;32m----> 1\u001b[0;31m \u001b[0;32mdel\u001b[0m \u001b[0mdict_3\u001b[0m\u001b[0;34m[\u001b[0m\u001b[0;34m\"A\"\u001b[0m\u001b[0;34m]\u001b[0m\u001b[0;34m\u001b[0m\u001b[0;34m\u001b[0m\u001b[0m\n\u001b[0m\u001b[1;32m      2\u001b[0m \u001b[0mdict_3\u001b[0m\u001b[0;34m\u001b[0m\u001b[0;34m\u001b[0m\u001b[0m\n",
            "\u001b[0;31mNameError\u001b[0m: name 'dict_3' is not defined"
          ]
        }
      ],
      "source": [
        "del dict_3[\"A\"]\n",
        "dict_3"
      ]
    },
    {
      "cell_type": "code",
      "execution_count": null,
      "metadata": {
        "id": "Uj1hCLDcAJAg"
      },
      "outputs": [],
      "source": [
        "dict_3.update([(\"F\", 68)])"
      ]
    },
    {
      "cell_type": "code",
      "execution_count": null,
      "metadata": {
        "id": "xiqw7DB3BInp"
      },
      "outputs": [],
      "source": [
        "dict_3.update([(\"B\", \"data science\")])"
      ]
    },
    {
      "cell_type": "code",
      "execution_count": null,
      "metadata": {
        "id": "Kf5yU6nlBdws"
      },
      "outputs": [],
      "source": [
        "dict_3"
      ]
    },
    {
      "cell_type": "code",
      "execution_count": null,
      "metadata": {
        "id": "LIpH4DdyBxw2"
      },
      "outputs": [],
      "source": [
        "dict_3_copy = dict_3.copy()"
      ]
    },
    {
      "cell_type": "code",
      "execution_count": null,
      "metadata": {
        "id": "aNDWwp0BCE3d"
      },
      "outputs": [],
      "source": [
        "dict_3_copy"
      ]
    },
    {
      "cell_type": "code",
      "execution_count": 95,
      "metadata": {
        "colab": {
          "base_uri": "https://localhost:8080/",
          "height": 203
        },
        "id": "12csdZCgCGp4",
        "outputId": "83bfbc47-af7f-459e-9707-c6fe2c6780fd"
      },
      "outputs": [
        {
          "output_type": "error",
          "ename": "NameError",
          "evalue": "ignored",
          "traceback": [
            "\u001b[0;31m---------------------------------------------------------------------------\u001b[0m",
            "\u001b[0;31mNameError\u001b[0m                                 Traceback (most recent call last)",
            "\u001b[0;32m<ipython-input-95-6b5175dfef72>\u001b[0m in \u001b[0;36m<cell line: 1>\u001b[0;34m()\u001b[0m\n\u001b[0;32m----> 1\u001b[0;31m \u001b[0mdict_3_copy\u001b[0m\u001b[0;34m.\u001b[0m\u001b[0mclear\u001b[0m\u001b[0;34m(\u001b[0m\u001b[0;34m)\u001b[0m\u001b[0;34m\u001b[0m\u001b[0;34m\u001b[0m\u001b[0m\n\u001b[0m\u001b[1;32m      2\u001b[0m \u001b[0mdict_3_copy\u001b[0m\u001b[0;34m\u001b[0m\u001b[0;34m\u001b[0m\u001b[0m\n",
            "\u001b[0;31mNameError\u001b[0m: name 'dict_3_copy' is not defined"
          ]
        }
      ],
      "source": [
        "dict_3_copy.clear()\n",
        "dict_3_copy"
      ]
    },
    {
      "cell_type": "code",
      "execution_count": null,
      "metadata": {
        "id": "cKvOo0X0CVDP"
      },
      "outputs": [],
      "source": [
        "new_dict = dict.fromkeys([\"name\" , \"family\" , \"age\"] , \"Unknown\")\n",
        "new_dict"
      ]
    },
    {
      "cell_type": "markdown",
      "source": [
        "fromkeys() ====> generate default value"
      ],
      "metadata": {
        "id": "wWNVz9svZYTb"
      }
    },
    {
      "cell_type": "markdown",
      "metadata": {
        "id": "UmSy4XiyDWs0"
      },
      "source": [
        "**Boolean & Logic Operators**"
      ]
    },
    {
      "cell_type": "code",
      "execution_count": 96,
      "metadata": {
        "id": "vtAhu7SCC9HF"
      },
      "outputs": [],
      "source": [
        "T = True\n",
        "F = False"
      ]
    },
    {
      "cell_type": "code",
      "execution_count": 97,
      "metadata": {
        "colab": {
          "base_uri": "https://localhost:8080/"
        },
        "id": "Kk5kVLfnDlNs",
        "outputId": "da02d484-4289-42f3-83dd-895e0f3bb849"
      },
      "outputs": [
        {
          "output_type": "execute_result",
          "data": {
            "text/plain": [
              "False"
            ]
          },
          "metadata": {},
          "execution_count": 97
        }
      ],
      "source": [
        "T and F  # or T & F"
      ]
    },
    {
      "cell_type": "code",
      "execution_count": 98,
      "metadata": {
        "colab": {
          "base_uri": "https://localhost:8080/"
        },
        "id": "T4QY8v21DnTX",
        "outputId": "85755800-1452-452e-f58d-b477756fb53a"
      },
      "outputs": [
        {
          "output_type": "execute_result",
          "data": {
            "text/plain": [
              "True"
            ]
          },
          "metadata": {},
          "execution_count": 98
        }
      ],
      "source": [
        "T or F # or T | F"
      ]
    },
    {
      "cell_type": "code",
      "execution_count": 99,
      "metadata": {
        "colab": {
          "base_uri": "https://localhost:8080/"
        },
        "id": "JIBgg46_DqUc",
        "outputId": "9d176ae3-89af-4944-d6b1-037da3f6ec77"
      },
      "outputs": [
        {
          "output_type": "execute_result",
          "data": {
            "text/plain": [
              "True"
            ]
          },
          "metadata": {},
          "execution_count": 99
        }
      ],
      "source": [
        "T != F"
      ]
    },
    {
      "cell_type": "code",
      "execution_count": 100,
      "metadata": {
        "colab": {
          "base_uri": "https://localhost:8080/"
        },
        "id": "Rf0wZXNcDyV2",
        "outputId": "b986261b-ac07-47df-b2da-4963043962dd"
      },
      "outputs": [
        {
          "output_type": "execute_result",
          "data": {
            "text/plain": [
              "False"
            ]
          },
          "metadata": {},
          "execution_count": 100
        }
      ],
      "source": [
        "not T"
      ]
    },
    {
      "cell_type": "code",
      "execution_count": 101,
      "metadata": {
        "colab": {
          "base_uri": "https://localhost:8080/"
        },
        "id": "1dgPB1icD6_x",
        "outputId": "d43615b8-3bec-454f-ef06-004d0f2c070b"
      },
      "outputs": [
        {
          "output_type": "execute_result",
          "data": {
            "text/plain": [
              "True"
            ]
          },
          "metadata": {},
          "execution_count": 101
        }
      ],
      "source": [
        "5 < 14"
      ]
    },
    {
      "cell_type": "code",
      "execution_count": 102,
      "metadata": {
        "colab": {
          "base_uri": "https://localhost:8080/"
        },
        "id": "-8MMwyKrEAFy",
        "outputId": "3887f9b6-e480-412b-fad7-c1b6258f7b77"
      },
      "outputs": [
        {
          "output_type": "execute_result",
          "data": {
            "text/plain": [
              "True"
            ]
          },
          "metadata": {},
          "execution_count": 102
        }
      ],
      "source": [
        "11 > 3"
      ]
    },
    {
      "cell_type": "code",
      "execution_count": 103,
      "metadata": {
        "colab": {
          "base_uri": "https://localhost:8080/"
        },
        "id": "fArsBrEuEBYb",
        "outputId": "8f7dc83e-e458-407f-a577-5749f71b3c63"
      },
      "outputs": [
        {
          "output_type": "execute_result",
          "data": {
            "text/plain": [
              "False"
            ]
          },
          "metadata": {},
          "execution_count": 103
        }
      ],
      "source": [
        "\"A\" == \"a\""
      ]
    },
    {
      "cell_type": "code",
      "execution_count": 104,
      "metadata": {
        "colab": {
          "base_uri": "https://localhost:8080/"
        },
        "id": "o8yLUk7ZEP8M",
        "outputId": "d1c82fe9-00bc-43df-96ca-004726202bc4"
      },
      "outputs": [
        {
          "output_type": "execute_result",
          "data": {
            "text/plain": [
              "True"
            ]
          },
          "metadata": {},
          "execution_count": 104
        }
      ],
      "source": [
        "(2 < 3) and (5 < 7)"
      ]
    },
    {
      "cell_type": "code",
      "execution_count": 105,
      "metadata": {
        "colab": {
          "base_uri": "https://localhost:8080/"
        },
        "id": "ozJ9GhprEoMp",
        "outputId": "ae26ef85-0480-4440-f219-a2ffe8415af0"
      },
      "outputs": [
        {
          "output_type": "execute_result",
          "data": {
            "text/plain": [
              "False"
            ]
          },
          "metadata": {},
          "execution_count": 105
        }
      ],
      "source": [
        "(2 < 3) and (7 < 5)"
      ]
    },
    {
      "cell_type": "code",
      "execution_count": 106,
      "metadata": {
        "colab": {
          "base_uri": "https://localhost:8080/"
        },
        "id": "HE3oNJAxEskV",
        "outputId": "8099abb4-1e40-401f-9209-3e833f50e16d"
      },
      "outputs": [
        {
          "output_type": "execute_result",
          "data": {
            "text/plain": [
              "True"
            ]
          },
          "metadata": {},
          "execution_count": 106
        }
      ],
      "source": [
        "(2 < 3) or (7 < 5)"
      ]
    },
    {
      "cell_type": "code",
      "execution_count": 107,
      "metadata": {
        "colab": {
          "base_uri": "https://localhost:8080/"
        },
        "id": "tkQGSwmyE-xS",
        "outputId": "69231169-b273-4d2e-91d6-d9dffec4d01c"
      },
      "outputs": [
        {
          "output_type": "execute_result",
          "data": {
            "text/plain": [
              "False"
            ]
          },
          "metadata": {},
          "execution_count": 107
        }
      ],
      "source": [
        "(125 == 246) or (34 < 19) or (43 > 55)"
      ]
    },
    {
      "cell_type": "code",
      "execution_count": 108,
      "metadata": {
        "colab": {
          "base_uri": "https://localhost:8080/"
        },
        "id": "zpy1I3kBEvdL",
        "outputId": "4b2b8221-874f-47b1-86f5-c9ccd419441c"
      },
      "outputs": [
        {
          "output_type": "execute_result",
          "data": {
            "text/plain": [
              "True"
            ]
          },
          "metadata": {},
          "execution_count": 108
        }
      ],
      "source": [
        "(125 == 246) or (34 < 19) or (43 > 15)"
      ]
    },
    {
      "cell_type": "code",
      "execution_count": 109,
      "metadata": {
        "colab": {
          "base_uri": "https://localhost:8080/"
        },
        "id": "Wl2aARVJFBby",
        "outputId": "b4a7f52b-33af-4c2f-f4fa-355e9b1a22e7"
      },
      "outputs": [
        {
          "output_type": "execute_result",
          "data": {
            "text/plain": [
              "False"
            ]
          },
          "metadata": {},
          "execution_count": 109
        }
      ],
      "source": [
        "(125 == 246) and ((34 < 19) or (43 > 15))"
      ]
    },
    {
      "cell_type": "markdown",
      "metadata": {
        "id": "4LmBvXQ4FWTA"
      },
      "source": [
        "**if, elif, else Statements**"
      ]
    },
    {
      "cell_type": "code",
      "execution_count": 110,
      "metadata": {
        "colab": {
          "base_uri": "https://localhost:8080/"
        },
        "id": "sdscne9OFHaf",
        "outputId": "27f21235-046f-4908-8597-a50c68f6d3db"
      },
      "outputs": [
        {
          "output_type": "stream",
          "name": "stdout",
          "text": [
            "True\n"
          ]
        }
      ],
      "source": [
        "if 23 < 35:\n",
        "  print(\"True\")"
      ]
    },
    {
      "cell_type": "code",
      "execution_count": 111,
      "metadata": {
        "colab": {
          "base_uri": "https://localhost:8080/"
        },
        "id": "qYtSgt_B5Wiz",
        "outputId": "1adc48fe-fe3f-42a5-feeb-33e04e76a3c1"
      },
      "outputs": [
        {
          "output_type": "stream",
          "name": "stdout",
          "text": [
            "False\n"
          ]
        }
      ],
      "source": [
        "if 41 > 63:\n",
        "  print(\"True\")\n",
        "else:\n",
        "  print(\"False\")"
      ]
    },
    {
      "cell_type": "code",
      "execution_count": 112,
      "metadata": {
        "colab": {
          "base_uri": "https://localhost:8080/"
        },
        "id": "wbHiJ2uQ5oie",
        "outputId": "2789554a-34da-4e55-8774-8a861c6ec387"
      },
      "outputs": [
        {
          "output_type": "stream",
          "name": "stdout",
          "text": [
            "Your Cost Child is 25$!\n"
          ]
        }
      ],
      "source": [
        "age = 12\n",
        "\n",
        "if age < 5 :\n",
        "    print(\"Your Child is Free!\")\n",
        "elif age < 15 :\n",
        "    print(\"Your Cost Child is 25$!\")\n",
        "else :\n",
        "    print(\"Your Cost is 30$!\")"
      ]
    },
    {
      "cell_type": "markdown",
      "metadata": {
        "id": "DEi9uhgM9PYp"
      },
      "source": [
        "**for Loop**"
      ]
    },
    {
      "cell_type": "code",
      "execution_count": 113,
      "metadata": {
        "colab": {
          "base_uri": "https://localhost:8080/"
        },
        "id": "HsOZKZSv6ix2",
        "outputId": "25e11608-5daf-481a-cc5e-6da36b4a9c8c"
      },
      "outputs": [
        {
          "output_type": "execute_result",
          "data": {
            "text/plain": [
              "[1, 2, 3, 4, 5, 6, 7, 8, 9, 10, 11]"
            ]
          },
          "metadata": {},
          "execution_count": 113
        }
      ],
      "source": [
        "lst_4"
      ]
    },
    {
      "cell_type": "code",
      "execution_count": 114,
      "metadata": {
        "colab": {
          "base_uri": "https://localhost:8080/"
        },
        "id": "b5-lW7YFP-FK",
        "outputId": "3b97d7a2-817f-45c1-bf51-1693b069d277"
      },
      "outputs": [
        {
          "output_type": "stream",
          "name": "stdout",
          "text": [
            "1\n",
            "2\n",
            "3\n",
            "4\n",
            "5\n",
            "6\n",
            "7\n",
            "8\n",
            "9\n",
            "10\n",
            "11\n"
          ]
        }
      ],
      "source": [
        "for item in lst_4:\n",
        "  print(item)"
      ]
    },
    {
      "cell_type": "code",
      "execution_count": 115,
      "metadata": {
        "colab": {
          "base_uri": "https://localhost:8080/"
        },
        "id": "0oWcTIjJQL5X",
        "outputId": "331fa31f-3e3f-475e-e0e8-76b6e8cf8f7d"
      },
      "outputs": [
        {
          "output_type": "stream",
          "name": "stdout",
          "text": [
            "2\n",
            "4\n",
            "6\n",
            "8\n",
            "10\n",
            "12\n",
            "14\n",
            "16\n",
            "18\n",
            "20\n",
            "22\n"
          ]
        }
      ],
      "source": [
        "for item in lst_4:\n",
        "  print(item + item)"
      ]
    },
    {
      "cell_type": "code",
      "execution_count": 116,
      "metadata": {
        "colab": {
          "base_uri": "https://localhost:8080/"
        },
        "id": "zgEykhBsQRZr",
        "outputId": "a70d731a-2afc-4ef6-bf22-2beca9b4cfdd"
      },
      "outputs": [
        {
          "output_type": "stream",
          "name": "stdout",
          "text": [
            "3\n",
            "6\n",
            "9\n",
            "12\n",
            "15\n",
            "18\n",
            "21\n",
            "24\n",
            "27\n",
            "30\n",
            "33\n"
          ]
        }
      ],
      "source": [
        "for item in lst_4:\n",
        "  print(item * 3)"
      ]
    },
    {
      "cell_type": "code",
      "execution_count": 117,
      "metadata": {
        "colab": {
          "base_uri": "https://localhost:8080/"
        },
        "id": "5h91jLC2QDAp",
        "outputId": "337f75b6-1b33-41ba-d9a8-83b75264fdae"
      },
      "outputs": [
        {
          "output_type": "stream",
          "name": "stdout",
          "text": [
            "*\n",
            "**\n",
            "***\n",
            "****\n",
            "*****\n",
            "******\n",
            "*******\n",
            "********\n",
            "*********\n",
            "**********\n",
            "***********\n"
          ]
        }
      ],
      "source": [
        "for item in lst_4:\n",
        "  print(item * \"*\")"
      ]
    },
    {
      "cell_type": "code",
      "execution_count": 118,
      "metadata": {
        "colab": {
          "base_uri": "https://localhost:8080/",
          "height": 203
        },
        "id": "Hps0CbeRTa49",
        "outputId": "c95fc2ad-258f-4256-dedb-d4ec6662a9da"
      },
      "outputs": [
        {
          "output_type": "error",
          "ename": "NameError",
          "evalue": "ignored",
          "traceback": [
            "\u001b[0;31m---------------------------------------------------------------------------\u001b[0m",
            "\u001b[0;31mNameError\u001b[0m                                 Traceback (most recent call last)",
            "\u001b[0;32m<ipython-input-118-007860232f9e>\u001b[0m in \u001b[0;36m<cell line: 1>\u001b[0;34m()\u001b[0m\n\u001b[0;32m----> 1\u001b[0;31m \u001b[0;32mfor\u001b[0m \u001b[0mkey\u001b[0m \u001b[0;34m,\u001b[0m \u001b[0mvalue\u001b[0m \u001b[0;32min\u001b[0m \u001b[0mdict_3\u001b[0m\u001b[0;34m.\u001b[0m\u001b[0mitems\u001b[0m\u001b[0;34m(\u001b[0m\u001b[0;34m)\u001b[0m \u001b[0;34m:\u001b[0m\u001b[0;34m\u001b[0m\u001b[0;34m\u001b[0m\u001b[0m\n\u001b[0m\u001b[1;32m      2\u001b[0m     \u001b[0mprint\u001b[0m\u001b[0;34m(\u001b[0m\u001b[0;34mf\"Key : {key} , Value : {value}\"\u001b[0m\u001b[0;34m)\u001b[0m\u001b[0;34m\u001b[0m\u001b[0;34m\u001b[0m\u001b[0m\n",
            "\u001b[0;31mNameError\u001b[0m: name 'dict_3' is not defined"
          ]
        }
      ],
      "source": [
        "for key , value in dict_3.items() :\n",
        "    print(f\"Key : {key} , Value : {value}\")"
      ]
    },
    {
      "cell_type": "markdown",
      "metadata": {
        "id": "cbnTzZ8wQZ8a"
      },
      "source": [
        "**while Loop**"
      ]
    },
    {
      "cell_type": "code",
      "execution_count": null,
      "metadata": {
        "id": "LAZP9OoTQKA_"
      },
      "outputs": [],
      "source": [
        "i = 1\n",
        "while i <= len(lst_1):\n",
        "  print(i * \"*\")\n",
        "  i += 1"
      ]
    },
    {
      "cell_type": "code",
      "execution_count": null,
      "metadata": {
        "id": "15mbTei7Qn17"
      },
      "outputs": [],
      "source": [
        "counter_number = 1\n",
        "\n",
        "while counter_number <= 10 :\n",
        "    print(counter_number)\n",
        "    counter_number += 1"
      ]
    },
    {
      "cell_type": "code",
      "execution_count": null,
      "metadata": {
        "id": "cIZmU2OMRED4"
      },
      "outputs": [],
      "source": [
        "count_num = 0\n",
        "while count_num < 10 :\n",
        "    count_num += 1\n",
        "    if count_num % 2 == 0 :\n",
        "        continue\n",
        "    print(count_num)"
      ]
    },
    {
      "cell_type": "code",
      "execution_count": null,
      "metadata": {
        "id": "orGUUJ0fRLTN"
      },
      "outputs": [],
      "source": [
        "count_num = 0\n",
        "while count_num < 10 :\n",
        "    count_num += 1\n",
        "    if count_num % 2 == 1 :\n",
        "        continue\n",
        "    print(count_num)"
      ]
    },
    {
      "cell_type": "markdown",
      "metadata": {
        "id": "LdzaMqU5RVvk"
      },
      "source": [
        "**range()**"
      ]
    },
    {
      "cell_type": "code",
      "execution_count": null,
      "metadata": {
        "id": "loO2KibrRQnk"
      },
      "outputs": [],
      "source": [
        "for i in range(7):\n",
        "  print(i)"
      ]
    },
    {
      "cell_type": "markdown",
      "metadata": {
        "id": "agfZUHjTSJQc"
      },
      "source": [
        "**List Comprehension**"
      ]
    },
    {
      "cell_type": "code",
      "execution_count": 119,
      "metadata": {
        "id": "SFOTOjrhRz50",
        "colab": {
          "base_uri": "https://localhost:8080/"
        },
        "outputId": "17c465fe-1bea-4086-cd36-74905c9e6e0e"
      },
      "outputs": [
        {
          "output_type": "stream",
          "name": "stdout",
          "text": [
            "[5, 10, 15, 20, 25]\n"
          ]
        }
      ],
      "source": [
        "lst_input = [1, 2, 3, 4, 5]\n",
        "lst_out_1 = []\n",
        "\n",
        "for item in lst_input:\n",
        "  lst_out_1.append(item * 5)\n",
        "\n",
        "print(lst_out_1)"
      ]
    },
    {
      "cell_type": "code",
      "execution_count": 120,
      "metadata": {
        "id": "_B1PSH43S3jY",
        "colab": {
          "base_uri": "https://localhost:8080/"
        },
        "outputId": "658d5e85-1655-45d8-ff00-5361c77b3169"
      },
      "outputs": [
        {
          "output_type": "execute_result",
          "data": {
            "text/plain": [
              "[5, 10, 15, 20, 25]"
            ]
          },
          "metadata": {},
          "execution_count": 120
        }
      ],
      "source": [
        "lst_out_2 = [item * 5 for item in lst_input]\n",
        "lst_out_2"
      ]
    },
    {
      "cell_type": "code",
      "execution_count": 121,
      "metadata": {
        "id": "mIhVddr5TMKH",
        "colab": {
          "base_uri": "https://localhost:8080/"
        },
        "outputId": "98b2e005-9a6b-49ad-9a89-7db66e105676"
      },
      "outputs": [
        {
          "output_type": "execute_result",
          "data": {
            "text/plain": [
              "[0, 1, 8, 27, 64]"
            ]
          },
          "metadata": {},
          "execution_count": 121
        }
      ],
      "source": [
        "lst_5 = [x ** 3 for x in range(5)]\n",
        "lst_5"
      ]
    },
    {
      "cell_type": "code",
      "execution_count": 122,
      "metadata": {
        "id": "gawXPZ31UID4",
        "colab": {
          "base_uri": "https://localhost:8080/"
        },
        "outputId": "b5713592-eded-4ccc-9163-8d8efd57bf27"
      },
      "outputs": [
        {
          "output_type": "execute_result",
          "data": {
            "text/plain": [
              "['p', '*', 'y', '*', 't', '*', 'h', '*', 'o', '*', 'n']"
            ]
          },
          "metadata": {},
          "execution_count": 122
        }
      ],
      "source": [
        "lst_6 = [char for char in \"p*y*t*h*o*n\"]\n",
        "lst_6"
      ]
    },
    {
      "cell_type": "markdown",
      "metadata": {
        "id": "l4Jb6dI7Uuj0"
      },
      "source": [
        "**Function**"
      ]
    },
    {
      "cell_type": "code",
      "execution_count": 123,
      "metadata": {
        "id": "OOyu5f7RUXrF"
      },
      "outputs": [],
      "source": [
        "def name_function():\n",
        "  \"\"\"\n",
        "  orders\n",
        "\n",
        "  \"\"\"\n",
        "  return"
      ]
    },
    {
      "cell_type": "code",
      "execution_count": 124,
      "metadata": {
        "id": "Bucbx7ebVdW0"
      },
      "outputs": [],
      "source": [
        "def func_1(x, y):\n",
        "  \"\"\"\n",
        "  Add 2 numbers\n",
        "  \"\"\"\n",
        "  return(x + y)"
      ]
    },
    {
      "cell_type": "code",
      "execution_count": 125,
      "metadata": {
        "colab": {
          "base_uri": "https://localhost:8080/"
        },
        "id": "hIG65FlNVuWy",
        "outputId": "42772e49-dc0d-4245-9c15-247c4b54b6c2"
      },
      "outputs": [
        {
          "output_type": "execute_result",
          "data": {
            "text/plain": [
              "8"
            ]
          },
          "metadata": {},
          "execution_count": 125
        }
      ],
      "source": [
        "func_1(5, 3)"
      ]
    },
    {
      "cell_type": "code",
      "execution_count": 126,
      "metadata": {
        "id": "wadW75s-VzDE"
      },
      "outputs": [],
      "source": [
        "def func_2(x, y):\n",
        "  \"\"\"\n",
        "  Raise the first number to the power of the second number\n",
        "  \"\"\"\n",
        "  return(x ** y)"
      ]
    },
    {
      "cell_type": "code",
      "execution_count": 127,
      "metadata": {
        "colab": {
          "base_uri": "https://localhost:8080/"
        },
        "id": "EZE_t0ByV9AZ",
        "outputId": "3a9e065b-a9de-4c3d-c00c-652da1ce8e8c"
      },
      "outputs": [
        {
          "output_type": "execute_result",
          "data": {
            "text/plain": [
              "32"
            ]
          },
          "metadata": {},
          "execution_count": 127
        }
      ],
      "source": [
        "func_2(2, 5)"
      ]
    },
    {
      "cell_type": "code",
      "execution_count": 128,
      "metadata": {
        "colab": {
          "base_uri": "https://localhost:8080/"
        },
        "id": "3Q954SKCW8ZV",
        "outputId": "d86f1e54-5b11-445d-e38d-7e46bb7fad60"
      },
      "outputs": [
        {
          "output_type": "stream",
          "name": "stdout",
          "text": [
            "Help on function func_2 in module __main__:\n",
            "\n",
            "func_2(x, y)\n",
            "    Raise the first number to the power of the second number\n",
            "\n"
          ]
        }
      ],
      "source": [
        "help(func_2)"
      ]
    },
    {
      "cell_type": "code",
      "execution_count": 129,
      "metadata": {
        "id": "lKN0C2SdWBuN"
      },
      "outputs": [],
      "source": [
        "person = {\n",
        "          \"name\" : \"mahtab\",\n",
        "          \"family\" : \"zandi\"\n",
        "          }\n",
        "\n",
        "\n",
        "name = \"hediye\"\n",
        "family = \"shekarlab\"\n",
        "\n",
        "\n",
        "def show_fullname (first_name , last_name) :\n",
        "    return f\"{first_name.title()} {last_name.title()}\""
      ]
    },
    {
      "cell_type": "markdown",
      "metadata": {
        "id": "hHc7Hp50KTmH"
      },
      "source": [
        "Argoman ====> مقادیری که به عنوان ورودی می فرستیم\n",
        "\n",
        "Example for Argoman ====> name & family\n",
        "\n",
        "first_name , last_name ====>  متغیر و ورودی اصلی تابع هستند"
      ]
    },
    {
      "cell_type": "code",
      "execution_count": 130,
      "metadata": {
        "colab": {
          "base_uri": "https://localhost:8080/"
        },
        "id": "V5-s4tqCXm2y",
        "outputId": "974bbf05-5792-4541-efb6-6d32055e636b"
      },
      "outputs": [
        {
          "output_type": "stream",
          "name": "stdout",
          "text": [
            "Bahar Geravandi\n"
          ]
        }
      ],
      "source": [
        "print(show_fullname(\"bahar\", \"geravandi\"))"
      ]
    },
    {
      "cell_type": "code",
      "execution_count": 131,
      "metadata": {
        "colab": {
          "base_uri": "https://localhost:8080/"
        },
        "id": "W7gq7g4xXsIU",
        "outputId": "489721eb-b553-45a3-f91b-9dc60a8fa252"
      },
      "outputs": [
        {
          "output_type": "stream",
          "name": "stdout",
          "text": [
            "Mahtab Zandi\n"
          ]
        }
      ],
      "source": [
        "print(show_fullname(person[\"name\"], person[\"family\"]))"
      ]
    },
    {
      "cell_type": "code",
      "execution_count": 132,
      "metadata": {
        "colab": {
          "base_uri": "https://localhost:8080/"
        },
        "id": "nCkpMy9dXu8x",
        "outputId": "685ddc4d-b51c-4017-d4ae-641c8bcffa16"
      },
      "outputs": [
        {
          "output_type": "stream",
          "name": "stdout",
          "text": [
            "Hediye Shekarlab\n"
          ]
        }
      ],
      "source": [
        "print(show_fullname(name, family))"
      ]
    },
    {
      "cell_type": "code",
      "execution_count": 133,
      "metadata": {
        "colab": {
          "base_uri": "https://localhost:8080/"
        },
        "id": "8VaneUrOXxQS",
        "outputId": "e07e8680-8dc3-4d1d-8d49-4c6c4baae73f"
      },
      "outputs": [
        {
          "output_type": "stream",
          "name": "stdout",
          "text": [
            "Hamta Kiyani\n"
          ]
        }
      ],
      "source": [
        "print(show_fullname(last_name = \"kiyani\" , first_name = \"hamta\"))"
      ]
    },
    {
      "cell_type": "code",
      "execution_count": 134,
      "metadata": {
        "id": "MnIMJpL8XyK1"
      },
      "outputs": [],
      "source": [
        "my_numbers_1 = [1 , 2 , 3 , 4 , 5 , 6 , 7 , 8 , 9 , 10]\n",
        "\n",
        "def sum_odd_numbers (numbers) :\n",
        "    total = 0\n",
        "    for num in numbers :\n",
        "        if num % 2 != 0 :\n",
        "            total += num\n",
        "    return total"
      ]
    },
    {
      "cell_type": "code",
      "execution_count": 135,
      "metadata": {
        "colab": {
          "base_uri": "https://localhost:8080/"
        },
        "id": "YIygV1RHF1rv",
        "outputId": "507a240d-4303-457b-dd22-d7d6c5eb63f9"
      },
      "outputs": [
        {
          "output_type": "stream",
          "name": "stdout",
          "text": [
            "25\n"
          ]
        }
      ],
      "source": [
        "print(sum_odd_numbers(my_numbers_1))"
      ]
    },
    {
      "cell_type": "code",
      "execution_count": 136,
      "metadata": {
        "colab": {
          "base_uri": "https://localhost:8080/"
        },
        "id": "DzYyxEPLF6oF",
        "outputId": "124ca8f9-7134-4706-d27c-2f77eeccae47"
      },
      "outputs": [
        {
          "output_type": "stream",
          "name": "stdout",
          "text": [
            "225\n"
          ]
        }
      ],
      "source": [
        "print(sum_odd_numbers(range(30)))"
      ]
    },
    {
      "cell_type": "code",
      "execution_count": 137,
      "metadata": {
        "id": "7SrJRfPzF7is"
      },
      "outputs": [],
      "source": [
        "def is_even_number (number) :\n",
        "    if number % 2 == 0 :\n",
        "        return True\n",
        "    else :\n",
        "        return False"
      ]
    },
    {
      "cell_type": "code",
      "execution_count": 138,
      "metadata": {
        "colab": {
          "base_uri": "https://localhost:8080/"
        },
        "id": "nV0kAIwkGCTA",
        "outputId": "cbbfae7a-58ba-41a9-a431-1a836998cd23"
      },
      "outputs": [
        {
          "output_type": "stream",
          "name": "stdout",
          "text": [
            "False\n"
          ]
        }
      ],
      "source": [
        "print(is_even_number(7))"
      ]
    },
    {
      "cell_type": "code",
      "execution_count": 139,
      "metadata": {
        "colab": {
          "base_uri": "https://localhost:8080/"
        },
        "id": "S9D0qpglGEmY",
        "outputId": "569f227a-3133-4d76-f99e-8a9b8e62e2c7"
      },
      "outputs": [
        {
          "output_type": "stream",
          "name": "stdout",
          "text": [
            "True\n"
          ]
        }
      ],
      "source": [
        "print(is_even_number(12))"
      ]
    },
    {
      "cell_type": "code",
      "execution_count": 140,
      "metadata": {
        "id": "iLxNzCnLGFEX"
      },
      "outputs": [],
      "source": [
        "def power (number , power = 2) :\n",
        "    return number ** power"
      ]
    },
    {
      "cell_type": "code",
      "execution_count": 141,
      "metadata": {
        "colab": {
          "base_uri": "https://localhost:8080/"
        },
        "id": "sEOzum8SGMoo",
        "outputId": "d939ba87-4ec7-4538-a17d-2378c4efb1a9"
      },
      "outputs": [
        {
          "output_type": "stream",
          "name": "stdout",
          "text": [
            "32\n"
          ]
        }
      ],
      "source": [
        "print(power(2,5))"
      ]
    },
    {
      "cell_type": "code",
      "execution_count": 142,
      "metadata": {
        "colab": {
          "base_uri": "https://localhost:8080/"
        },
        "id": "3lLLnKUzGOKz",
        "outputId": "dc32a886-630e-495c-d5da-a920237e2e07"
      },
      "outputs": [
        {
          "output_type": "stream",
          "name": "stdout",
          "text": [
            "9\n"
          ]
        }
      ],
      "source": [
        "print(power(3))"
      ]
    },
    {
      "cell_type": "code",
      "execution_count": 143,
      "metadata": {
        "id": "b6mMXJ7kGOx5"
      },
      "outputs": [],
      "source": [
        "def sum_all_numbers (* args) : # or def sum_all_numbers (*numbers) :\n",
        "    total = 0\n",
        "    for num in args :\n",
        "        total += num\n",
        "    return total"
      ]
    },
    {
      "cell_type": "code",
      "execution_count": 144,
      "metadata": {
        "colab": {
          "base_uri": "https://localhost:8080/"
        },
        "id": "-6ZAIXGUHCpF",
        "outputId": "1ff54126-4c5e-45f1-eeb1-8057ccbfd8ab"
      },
      "outputs": [
        {
          "output_type": "execute_result",
          "data": {
            "text/plain": [
              "15"
            ]
          },
          "metadata": {},
          "execution_count": 144
        }
      ],
      "source": [
        "sum_all_numbers(5,7,3)"
      ]
    },
    {
      "cell_type": "code",
      "execution_count": 145,
      "metadata": {
        "colab": {
          "base_uri": "https://localhost:8080/"
        },
        "id": "wVU_HeyVHEes",
        "outputId": "785d0b58-301f-46e2-8c3b-a8d9c54acd7f"
      },
      "outputs": [
        {
          "output_type": "execute_result",
          "data": {
            "text/plain": [
              "37"
            ]
          },
          "metadata": {},
          "execution_count": 145
        }
      ],
      "source": [
        "sum_all_numbers(11,26)"
      ]
    },
    {
      "cell_type": "code",
      "execution_count": 146,
      "metadata": {
        "colab": {
          "base_uri": "https://localhost:8080/"
        },
        "id": "xlpKFuNsHGp3",
        "outputId": "2d3dd49f-81d7-4dbf-aece-0b7bb75b11fd"
      },
      "outputs": [
        {
          "output_type": "stream",
          "name": "stdout",
          "text": [
            "15\n"
          ]
        }
      ],
      "source": [
        "numbers2 = [1 , 2 , 3 , 4 , 5]\n",
        "print(sum_all_numbers(*numbers2))"
      ]
    },
    {
      "cell_type": "code",
      "execution_count": 147,
      "metadata": {
        "id": "b1EWPFalHJId"
      },
      "outputs": [],
      "source": [
        "def show_name_1 (**kwargs) :\n",
        "    print(kwargs)"
      ]
    },
    {
      "cell_type": "code",
      "execution_count": 148,
      "metadata": {
        "id": "Jmm8w_e2H6O2"
      },
      "outputs": [],
      "source": [
        "def show_name_2 (**kwargs) : # ** ====> key & value\n",
        "    for key , value in kwargs.items() :\n",
        "        print(f\"{key} : {value}\")"
      ]
    },
    {
      "cell_type": "code",
      "execution_count": 149,
      "metadata": {
        "colab": {
          "base_uri": "https://localhost:8080/"
        },
        "id": "S1l-MO_aHUb7",
        "outputId": "e4aa11af-213d-4edf-c904-47851fb8dd76"
      },
      "outputs": [
        {
          "output_type": "stream",
          "name": "stdout",
          "text": [
            "{'name': 'hamta', 'family': 'Kiyani', 'age': 27}\n"
          ]
        }
      ],
      "source": [
        "show_name_1(name = \"hamta\" , family = \"Kiyani\" , age = 27)"
      ]
    },
    {
      "cell_type": "code",
      "execution_count": 150,
      "metadata": {
        "colab": {
          "base_uri": "https://localhost:8080/"
        },
        "id": "Eh-qQ0sjIlze",
        "outputId": "75bee681-dd07-4beb-c816-a5c8a42a1d08"
      },
      "outputs": [
        {
          "output_type": "stream",
          "name": "stdout",
          "text": [
            "name : hamta\n",
            "family : kiyani\n",
            "age : 27\n"
          ]
        }
      ],
      "source": [
        "show_name_2(name = \"hamta\" , family = \"kiyani\" , age = 27)"
      ]
    },
    {
      "cell_type": "code",
      "execution_count": 151,
      "metadata": {
        "colab": {
          "base_uri": "https://localhost:8080/"
        },
        "id": "HhshzERSH4P3",
        "outputId": "eca5c008-8ca2-4b86-ae8c-eea7b803502c"
      },
      "outputs": [
        {
          "output_type": "stream",
          "name": "stdout",
          "text": [
            "{'name': 'bahar', 'family': 'geravandi', 'job': 'photographer'}\n"
          ]
        }
      ],
      "source": [
        "show_name_1(name = \"bahar\" , family = \"geravandi\" , job = \"photographer\")"
      ]
    },
    {
      "cell_type": "code",
      "execution_count": 152,
      "metadata": {
        "colab": {
          "base_uri": "https://localhost:8080/"
        },
        "id": "hQ5ZcNnWIn-e",
        "outputId": "d78efaed-16c1-490d-9d4b-0b4c6e0db62c"
      },
      "outputs": [
        {
          "output_type": "stream",
          "name": "stdout",
          "text": [
            "name : bahar\n",
            "family : geravandi\n",
            "job : photographer\n"
          ]
        }
      ],
      "source": [
        "show_name_2(name = \"bahar\" , family = \"geravandi\" , job = \"photographer\")"
      ]
    },
    {
      "cell_type": "code",
      "execution_count": 153,
      "metadata": {
        "colab": {
          "base_uri": "https://localhost:8080/"
        },
        "id": "AWXD9ae5H5wH",
        "outputId": "2d880eb0-ed01-4199-bde5-4ce20ffe6813"
      },
      "outputs": [
        {
          "output_type": "stream",
          "name": "stdout",
          "text": [
            "{'name': 'mina', 'family': 'alvandi', 'age': 26, 'mother': 'sara'}\n"
          ]
        }
      ],
      "source": [
        "show_name_1(name = \"mina\" , family = \"alvandi\" , age = 26 , mother = \"sara\")"
      ]
    },
    {
      "cell_type": "code",
      "execution_count": 154,
      "metadata": {
        "colab": {
          "base_uri": "https://localhost:8080/"
        },
        "id": "8dc9xz0oIb94",
        "outputId": "484a9272-b413-4ff2-e6e3-2bf9b8a04110"
      },
      "outputs": [
        {
          "output_type": "stream",
          "name": "stdout",
          "text": [
            "name : mina\n",
            "family : alvandi\n",
            "age : 26\n",
            "mother : sara\n"
          ]
        }
      ],
      "source": [
        "show_name_2(name = \"mina\" , family = \"alvandi\" , age = 26 , mother = \"sara\")"
      ]
    },
    {
      "cell_type": "markdown",
      "metadata": {
        "id": "w8s8ZdI8I8-f"
      },
      "source": [
        "1 : parameter\n",
        "\n",
        "2 : *args\n",
        "\n",
        "3 : default parameter\n",
        "\n",
        "4 : **kwargs\n",
        "\n",
        " اگر قرار باشد هر چهار نوع در یک تابع مورد استفاده قرار گیرند، به همین ترتیب می باشند."
      ]
    },
    {
      "cell_type": "code",
      "execution_count": 155,
      "metadata": {
        "id": "BmbU7_-EI0hE"
      },
      "outputs": [],
      "source": [
        "def display_info (name , family , *args , age = 20 , **kwargs) :\n",
        "    return [name , family , args , age , kwargs]"
      ]
    },
    {
      "cell_type": "code",
      "execution_count": 156,
      "metadata": {
        "colab": {
          "base_uri": "https://localhost:8080/"
        },
        "id": "6K4q9XiNJeSh",
        "outputId": "6ebe1c8f-9c00-4e31-b8a7-fbb5086d7148"
      },
      "outputs": [
        {
          "output_type": "stream",
          "name": "stdout",
          "text": [
            "['bahar', 'geravandi', ('photographer',), 27, {}]\n"
          ]
        }
      ],
      "source": [
        "print(display_info(\"bahar\", \"geravandi\", \"photographer\", age = 27))"
      ]
    },
    {
      "cell_type": "code",
      "execution_count": 157,
      "metadata": {
        "colab": {
          "base_uri": "https://localhost:8080/"
        },
        "id": "FU3HBo9PJsdn",
        "outputId": "7881b9b9-04ea-45fa-9ba9-5eb4bdd9f1be"
      },
      "outputs": [
        {
          "output_type": "stream",
          "name": "stdout",
          "text": [
            "['mahtab', 'zandi', ('Dentist',), 26, {'sister': 'mahya'}]\n"
          ]
        }
      ],
      "source": [
        "print(display_info(\"mahtab\", \"zandi\", \"Dentist\" , sister = \"mahya\", age = 26))"
      ]
    },
    {
      "cell_type": "code",
      "execution_count": 158,
      "metadata": {
        "id": "LvOjytWoKLG4"
      },
      "outputs": [],
      "source": [
        "def square (num) :\n",
        "    return num * num\n",
        "\n",
        "# or\n",
        "\n",
        "def square_1 (num) : return num * num"
      ]
    },
    {
      "cell_type": "code",
      "execution_count": 159,
      "metadata": {
        "colab": {
          "base_uri": "https://localhost:8080/"
        },
        "id": "o-msffppKqS8",
        "outputId": "69090e0a-f573-4259-bcc3-9e18cff4e48b"
      },
      "outputs": [
        {
          "output_type": "execute_result",
          "data": {
            "text/plain": [
              "9"
            ]
          },
          "metadata": {},
          "execution_count": 159
        }
      ],
      "source": [
        "square(3)"
      ]
    },
    {
      "cell_type": "code",
      "execution_count": 160,
      "metadata": {
        "colab": {
          "base_uri": "https://localhost:8080/"
        },
        "id": "dYsD4CIXKvfm",
        "outputId": "1d01a1bb-ab50-4e4a-e2c3-7c6ada78c71d"
      },
      "outputs": [
        {
          "output_type": "execute_result",
          "data": {
            "text/plain": [
              "9"
            ]
          },
          "metadata": {},
          "execution_count": 160
        }
      ],
      "source": [
        "square_1(3)"
      ]
    },
    {
      "cell_type": "markdown",
      "metadata": {
        "id": "7qppkY-hK2IY"
      },
      "source": [
        "**Lambda Expressions**"
      ]
    },
    {
      "cell_type": "code",
      "execution_count": 161,
      "metadata": {
        "colab": {
          "base_uri": "https://localhost:8080/"
        },
        "id": "Q5QNliU-Kx-D",
        "outputId": "44a25cb7-d6f9-4a05-b726-be94a5666452"
      },
      "outputs": [
        {
          "output_type": "stream",
          "name": "stdout",
          "text": [
            "25\n"
          ]
        }
      ],
      "source": [
        "new_func = lambda num : num * num\n",
        "print(new_func(5))"
      ]
    },
    {
      "cell_type": "code",
      "execution_count": 162,
      "metadata": {
        "colab": {
          "base_uri": "https://localhost:8080/"
        },
        "id": "zK9kG1e-NbRR",
        "outputId": "7dee8fb7-19f4-48fe-e09f-f3dc7ddbc70d"
      },
      "outputs": [
        {
          "output_type": "stream",
          "name": "stdout",
          "text": [
            "<lambda>\n"
          ]
        }
      ],
      "source": [
        "print(new_func.__name__)"
      ]
    },
    {
      "cell_type": "code",
      "execution_count": 163,
      "metadata": {
        "colab": {
          "base_uri": "https://localhost:8080/"
        },
        "id": "zR8_y8bFNJEs",
        "outputId": "c9529540-412e-4c82-a865-227f41ddcf9b"
      },
      "outputs": [
        {
          "output_type": "stream",
          "name": "stdout",
          "text": [
            "22\n"
          ]
        }
      ],
      "source": [
        "add_func = lambda first, second : first + second\n",
        "print(add_func(7, 15))"
      ]
    },
    {
      "cell_type": "code",
      "execution_count": 164,
      "metadata": {
        "colab": {
          "base_uri": "https://localhost:8080/"
        },
        "id": "uQubZRzJN3dP",
        "outputId": "a3a64146-f2f9-4802-815c-cabe5fa4d24f"
      },
      "outputs": [
        {
          "output_type": "stream",
          "name": "stdout",
          "text": [
            "[0, 1, 4, 9, 16, 25, 36]\n"
          ]
        }
      ],
      "source": [
        "doubles = list(map(lambda x : x ** 2, range(7)))\n",
        "print(doubles)"
      ]
    },
    {
      "cell_type": "code",
      "execution_count": 165,
      "metadata": {
        "colab": {
          "base_uri": "https://localhost:8080/"
        },
        "id": "2ZPsx2thOYSG",
        "outputId": "f648f5c4-343f-4d19-f4c8-8fa879690e15"
      },
      "outputs": [
        {
          "output_type": "stream",
          "name": "stdout",
          "text": [
            "['Python', 'C', 'C++', 'Java', 'C#', 'Php']\n"
          ]
        }
      ],
      "source": [
        "lst_language = [\"Python\", \"C\", \"C++\", \"java\", \"C#\", \"php\"]\n",
        "\n",
        "lst_language_title = list(map(lambda language : language.title(), lst_language))\n",
        "print(lst_language_title)"
      ]
    },
    {
      "cell_type": "code",
      "execution_count": 166,
      "metadata": {
        "colab": {
          "base_uri": "https://localhost:8080/"
        },
        "id": "3_qmpz4DPDQH",
        "outputId": "9d7d1acd-a5bb-40eb-a70d-e05339acb4db"
      },
      "outputs": [
        {
          "output_type": "stream",
          "name": "stdout",
          "text": [
            "['Kiyani', 'geravandi', 'zandi', 'miri']\n"
          ]
        }
      ],
      "source": [
        "dict_people = [\n",
        "    {\"name\": \"hamta\", \"family\": \"Kiyani\", \"age\":27},\n",
        "    {\"name\": \"bahar\", \"family\": \"geravandi\", \"age\":27},\n",
        "    {\"name\": \"mahtab\", \"family\": \"zandi\", \"age\":26},\n",
        "    {\"name\": \"golsa\", \"family\": \"miri\", \"age\":30},\n",
        "]\n",
        "\n",
        "families = list(map(lambda person : person[\"family\"], dict_people))\n",
        "print(families)"
      ]
    },
    {
      "cell_type": "code",
      "execution_count": 167,
      "metadata": {
        "colab": {
          "base_uri": "https://localhost:8080/"
        },
        "id": "IpQALbsEPx8d",
        "outputId": "4872ce99-3a0a-4af5-d157-fe340fef45a6"
      },
      "outputs": [
        {
          "output_type": "stream",
          "name": "stdout",
          "text": [
            "[0, 2, 4, 6, 8, 10, 12, 14, 16, 18, 20, 22, 24, 26, 28]\n"
          ]
        }
      ],
      "source": [
        "event_filter = list(filter(lambda num : num % 2 == 0, range(30)))\n",
        "print(event_filter)"
      ]
    },
    {
      "cell_type": "code",
      "execution_count": 168,
      "metadata": {
        "colab": {
          "base_uri": "https://localhost:8080/"
        },
        "id": "oKfc50kAQZCw",
        "outputId": "70314846-7522-49af-f92e-390b1f5c86a6"
      },
      "outputs": [
        {
          "output_type": "stream",
          "name": "stdout",
          "text": [
            "[{'name': 'bahar', 'shopcard': []}, {'name': 'hamta', 'shopcard': []}]\n"
          ]
        }
      ],
      "source": [
        "users = [\n",
        "         {\"name\" : \"mina\" , \"shopcard\" : [\"python\" , \"oracle\"]},\n",
        "         {\"name\" : \"bahar\" , \"shopcard\" : []},\n",
        "         {\"name\" : \"hamta\" , \"shopcard\" : []},\n",
        "         {\"name\" : \"golsa\" , \"shopcard\" : [\"network\"]}\n",
        "]\n",
        "\n",
        "user_filter_1 = list(filter(lambda user : not user[\"shopcard\"] , users))\n",
        "print(user_filter_1)"
      ]
    },
    {
      "cell_type": "code",
      "execution_count": 169,
      "metadata": {
        "colab": {
          "base_uri": "https://localhost:8080/"
        },
        "id": "DDwKYXPTQ3QM",
        "outputId": "d5d2abec-1204-4baf-b498-192ed33456c0"
      },
      "outputs": [
        {
          "output_type": "stream",
          "name": "stdout",
          "text": [
            "[{'name': 'mina', 'shopcard': ['python', 'oracle']}, {'name': 'golsa', 'shopcard': ['network']}]\n"
          ]
        }
      ],
      "source": [
        "user_filter_2 = list(filter(lambda user : user[\"shopcard\"] , users))\n",
        "print(user_filter_2)"
      ]
    },
    {
      "cell_type": "code",
      "execution_count": 170,
      "metadata": {
        "colab": {
          "base_uri": "https://localhost:8080/"
        },
        "id": "dWIx_bFDQ7bP",
        "outputId": "03b55d58-dce0-408a-cb29-88b8e13fe9c1"
      },
      "outputs": [
        {
          "output_type": "stream",
          "name": "stdout",
          "text": [
            "['mina', 'golsa']\n"
          ]
        }
      ],
      "source": [
        "user_filter_3 = list(map(lambda user : user[\"name\"],\n",
        "                     filter(lambda user : user[\"shopcard\"], users)))\n",
        "\n",
        "# or ===>   user_filter_3 = [user[\"name\"] for user in users if user[\"shopcard\"]]\n",
        "print(user_filter_3)"
      ]
    },
    {
      "cell_type": "code",
      "execution_count": 171,
      "metadata": {
        "id": "2k6klBMbRhdk"
      },
      "outputs": [],
      "source": [
        "set_number = [1, 2, 3, 4]\n",
        "set_char = [\"A\", \"B\", \"C\", \"D\", \"E\"]\n",
        "\n",
        "result = zip(set_number, set_char)"
      ]
    },
    {
      "cell_type": "code",
      "execution_count": 172,
      "metadata": {
        "colab": {
          "base_uri": "https://localhost:8080/"
        },
        "id": "3urGv3wkS-_1",
        "outputId": "60420510-f741-4310-a926-208b627e8737"
      },
      "outputs": [
        {
          "output_type": "stream",
          "name": "stdout",
          "text": [
            "[(1, 'A'), (2, 'B'), (3, 'C'), (4, 'D')]\n"
          ]
        }
      ],
      "source": [
        "print(list(result))"
      ]
    },
    {
      "cell_type": "code",
      "execution_count": 173,
      "metadata": {
        "id": "WeH7tOu-TSef"
      },
      "outputs": [],
      "source": [
        "result_1 = zip(set_char, set_number)"
      ]
    },
    {
      "cell_type": "code",
      "execution_count": 174,
      "metadata": {
        "colab": {
          "base_uri": "https://localhost:8080/"
        },
        "id": "e_y7il9JTCqd",
        "outputId": "259e9b55-8603-49bd-926e-b07218a07569"
      },
      "outputs": [
        {
          "output_type": "stream",
          "name": "stdout",
          "text": [
            "{'A': 1, 'B': 2, 'C': 3, 'D': 4}\n"
          ]
        }
      ],
      "source": [
        "print(dict(result_1))"
      ]
    },
    {
      "cell_type": "code",
      "execution_count": 175,
      "metadata": {
        "colab": {
          "base_uri": "https://localhost:8080/"
        },
        "id": "kbU2rKuwTqQ9",
        "outputId": "e39a6e3b-2fc3-40f8-a3f2-5e4215c3b154"
      },
      "outputs": [
        {
          "output_type": "stream",
          "name": "stdout",
          "text": [
            "[(1, 5, 23, 8), (3, 7, 9, 75)]\n"
          ]
        }
      ],
      "source": [
        "lst_pair = [(1,3) , (5,7) , (23,9) , (8,75)]\n",
        "\n",
        "print(list(zip(*lst_pair)))"
      ]
    },
    {
      "cell_type": "code",
      "execution_count": 176,
      "metadata": {
        "colab": {
          "base_uri": "https://localhost:8080/"
        },
        "id": "T1by7Qa_T6UB",
        "outputId": "a5f1953e-922c-4de7-910c-063aed95415a"
      },
      "outputs": [
        {
          "output_type": "stream",
          "name": "stdout",
          "text": [
            "[(84, 95), (92, 91), (78, 77), (80, 83)]\n"
          ]
        }
      ],
      "source": [
        "students = [\"mina\" , \"golsa\" , \"bahar\" , \"mahtab\"]\n",
        "midterm = [84 , 92 , 78 , 80]\n",
        "finalterm = [95 , 91 , 77 , 83]\n",
        "\n",
        "finalgrade_1 = [pair for pair in zip(midterm , finalterm)]\n",
        "print(finalgrade_1)"
      ]
    },
    {
      "cell_type": "code",
      "execution_count": 177,
      "metadata": {
        "colab": {
          "base_uri": "https://localhost:8080/"
        },
        "id": "FyBX0pKIUG-0",
        "outputId": "5c9051e5-f91c-4d9b-f7e5-05b48590c313"
      },
      "outputs": [
        {
          "output_type": "stream",
          "name": "stdout",
          "text": [
            "[('mina', 84, 95), ('golsa', 92, 91), ('bahar', 78, 77), ('mahtab', 80, 83)]\n"
          ]
        }
      ],
      "source": [
        "finalgrade_2 = [pair for pair in zip(students , midterm , finalterm)]\n",
        "print(finalgrade_2)"
      ]
    },
    {
      "cell_type": "code",
      "execution_count": 178,
      "metadata": {
        "colab": {
          "base_uri": "https://localhost:8080/"
        },
        "id": "uHND1eDfUKXz",
        "outputId": "58f8fc8d-3297-4348-8788-5fe4d7ef60b6"
      },
      "outputs": [
        {
          "output_type": "stream",
          "name": "stdout",
          "text": [
            "[95, 92, 78, 83]\n"
          ]
        }
      ],
      "source": [
        "finalgrade_3 = [max(pair) for pair in zip(midterm , finalterm)]\n",
        "print(finalgrade_3)"
      ]
    },
    {
      "cell_type": "code",
      "execution_count": 179,
      "metadata": {
        "colab": {
          "base_uri": "https://localhost:8080/"
        },
        "id": "ZQWxPrjEUQQ6",
        "outputId": "d678a9fa-cbda-4d8e-f946-2c7acc0809ea"
      },
      "outputs": [
        {
          "output_type": "stream",
          "name": "stdout",
          "text": [
            "{('mina', 84, 95), ('bahar', 78, 77), ('mahtab', 80, 83), ('golsa', 92, 91)}\n"
          ]
        }
      ],
      "source": [
        "finalgrade_4 = {pair for pair in zip(students , midterm , finalterm)}\n",
        "print(finalgrade_4)"
      ]
    },
    {
      "cell_type": "code",
      "execution_count": 180,
      "metadata": {
        "colab": {
          "base_uri": "https://localhost:8080/"
        },
        "id": "pyQ9xM5MUWL5",
        "outputId": "a7c923c4-d5dc-4015-89de-eaa44a40ad4f"
      },
      "outputs": [
        {
          "output_type": "stream",
          "name": "stdout",
          "text": [
            "{'mina': 95, 'golsa': 92, 'bahar': 78, 'mahtab': 83}\n"
          ]
        }
      ],
      "source": [
        "finalgrade = {x[0] : max(x[1],x[2]) for x in zip(students , midterm , finalterm)}\n",
        "print(finalgrade)"
      ]
    },
    {
      "cell_type": "markdown",
      "metadata": {
        "id": "U5_wUCpaUdaa"
      },
      "source": [
        "x[0] ====> students\n",
        "\n",
        "x[1] ====> midterm\n",
        "\n",
        "x[2] ====> finalterm"
      ]
    },
    {
      "cell_type": "code",
      "execution_count": 181,
      "metadata": {
        "colab": {
          "base_uri": "https://localhost:8080/"
        },
        "id": "bLSC7PcoUb0g",
        "outputId": "0caccc89-0ab7-4cb3-a2b3-e2f439334936"
      },
      "outputs": [
        {
          "output_type": "stream",
          "name": "stdout",
          "text": [
            "{'mina': 95, 'golsa': 92, 'bahar': 78, 'mahtab': 83}\n"
          ]
        }
      ],
      "source": [
        "final_grade = zip(students ,\n",
        "                  map(lambda pair : max(pair),\n",
        "                      zip(midterm , finalterm)\n",
        "                      )\n",
        "                  )\n",
        "\n",
        "print(dict(final_grade))"
      ]
    },
    {
      "cell_type": "markdown",
      "metadata": {
        "id": "tUyyoCYrUvxe"
      },
      "source": [
        "1- نمرات میان ترم و پایان ترم را با هم جفت می کند.\n",
        "\n",
        "2- در جفت بین تمرات میان ترم و پایان ترم بیشترین را پیدا می کند\n",
        "\n",
        "3- نام دانشجو و بیشترین نمره اش را با هم جفت می کند."
      ]
    },
    {
      "cell_type": "code",
      "execution_count": 182,
      "metadata": {
        "colab": {
          "base_uri": "https://localhost:8080/"
        },
        "id": "Dk_h5nyCUrVE",
        "outputId": "a4371045-8894-4fb8-f318-0ffb3414607e"
      },
      "outputs": [
        {
          "output_type": "stream",
          "name": "stdout",
          "text": [
            "{'mina': 131.5, 'golsa': 137.5, 'bahar': 116.5, 'mahtab': 121.5}\n"
          ]
        }
      ],
      "source": [
        "avg_grade = zip(students ,\n",
        "                  map(lambda pair : pair[0] + pair[1] / 2,\n",
        "                      zip(midterm , finalterm)\n",
        "                      )\n",
        "                  )\n",
        "\n",
        "print(dict(avg_grade))"
      ]
    }
  ],
  "metadata": {
    "colab": {
      "provenance": []
    },
    "kernelspec": {
      "display_name": "Python 3",
      "name": "python3"
    },
    "language_info": {
      "name": "python"
    }
  },
  "nbformat": 4,
  "nbformat_minor": 0
}