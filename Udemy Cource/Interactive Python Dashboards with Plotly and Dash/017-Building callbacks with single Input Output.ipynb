{
 "cells": [
  {
   "cell_type": "code",
   "execution_count": 1,
   "id": "2295c456-2ee4-4ceb-b9e3-fc5e84509314",
   "metadata": {},
   "outputs": [
    {
     "data": {
      "text/html": [
       "\n",
       "        <iframe\n",
       "            width=\"100%\"\n",
       "            height=\"650\"\n",
       "            src=\"http://127.0.0.1:8050/\"\n",
       "            frameborder=\"0\"\n",
       "            allowfullscreen\n",
       "            \n",
       "        ></iframe>\n",
       "        "
      ],
      "text/plain": [
       "<IPython.lib.display.IFrame at 0x23130db8e00>"
      ]
     },
     "metadata": {},
     "output_type": "display_data"
    }
   ],
   "source": [
    "from dash import Dash, html, dcc, Input, Output\n",
    "\n",
    "\n",
    "app = Dash()\n",
    "\n",
    "input_text = dcc.Input(id= \"input-text\", value= \"Change This Text\", type= \"text\")\n",
    "output_text = html.Div(children= \"\", id= \"output-text\")\n",
    "\n",
    "app.layout = html.Div([input_text, output_text])\n",
    "\n",
    "@app.callback(\n",
    "    Output(component_id= \"output-text\", component_property= \"children\"),\n",
    "    Input(component_id= \"input-text\", component_property= \"value\")\n",
    ")\n",
    "\n",
    "def update_output_div(input_text):\n",
    "    return f\"Text: {input_text}\"\n",
    "\n",
    "\n",
    "if __name__ == \"__main__\":\n",
    "    app.run_server(debug= True)"
   ]
  }
 ],
 "metadata": {
  "kernelspec": {
   "display_name": "Python 3 (ipykernel)",
   "language": "python",
   "name": "python3"
  },
  "language_info": {
   "codemirror_mode": {
    "name": "ipython",
    "version": 3
   },
   "file_extension": ".py",
   "mimetype": "text/x-python",
   "name": "python",
   "nbconvert_exporter": "python",
   "pygments_lexer": "ipython3",
   "version": "3.12.1"
  }
 },
 "nbformat": 4,
 "nbformat_minor": 5
}
