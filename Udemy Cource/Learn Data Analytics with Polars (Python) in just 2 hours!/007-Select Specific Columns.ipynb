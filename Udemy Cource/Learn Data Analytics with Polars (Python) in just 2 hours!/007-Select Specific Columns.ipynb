{
 "cells": [
  {
   "cell_type": "code",
   "execution_count": 1,
   "id": "5465e5e9-3853-4e48-8a63-860a953de0a6",
   "metadata": {},
   "outputs": [],
   "source": [
    "import polars as pl"
   ]
  },
  {
   "cell_type": "code",
   "execution_count": 2,
   "id": "68809e43-508e-4499-a000-c6f325f0300c",
   "metadata": {},
   "outputs": [],
   "source": [
    "df = pl.read_csv(\"weather.csv\", has_header= True)"
   ]
  },
  {
   "cell_type": "code",
   "execution_count": 3,
   "id": "02b22278-afce-4862-97a1-f75202aafac5",
   "metadata": {},
   "outputs": [
    {
     "data": {
      "text/html": [
       "<div><style>\n",
       ".dataframe > thead > tr,\n",
       ".dataframe > tbody > tr {\n",
       "  text-align: right;\n",
       "  white-space: pre-wrap;\n",
       "}\n",
       "</style>\n",
       "<small>shape: (5, 14)</small><table border=\"1\" class=\"dataframe\"><thead><tr><th>Data.Precipitation</th><th>Date.Full</th><th>Date.Month</th><th>Date.Week of</th><th>Date.Year</th><th>Station.City</th><th>Station.Code</th><th>Station.Location</th><th>Station.State</th><th>Data.Temperature.Avg Temp</th><th>Data.Temperature.Max Temp</th><th>Data.Temperature.Min Temp</th><th>Data.Wind.Direction</th><th>Data.Wind.Speed</th></tr><tr><td>f64</td><td>str</td><td>i64</td><td>i64</td><td>i64</td><td>str</td><td>str</td><td>str</td><td>str</td><td>i64</td><td>i64</td><td>i64</td><td>i64</td><td>f64</td></tr></thead><tbody><tr><td>0.0</td><td>&quot;2016-01-03&quot;</td><td>1</td><td>3</td><td>2016</td><td>&quot;Birmingham&quot;</td><td>&quot;BHM&quot;</td><td>&quot;Birmingham, AL…</td><td>&quot;Alabama&quot;</td><td>39</td><td>46</td><td>32</td><td>33</td><td>4.33</td></tr><tr><td>0.0</td><td>&quot;2016-01-03&quot;</td><td>1</td><td>3</td><td>2016</td><td>&quot;Huntsville&quot;</td><td>&quot;HSV&quot;</td><td>&quot;Huntsville, AL…</td><td>&quot;Alabama&quot;</td><td>39</td><td>47</td><td>31</td><td>32</td><td>3.86</td></tr><tr><td>0.16</td><td>&quot;2016-01-03&quot;</td><td>1</td><td>3</td><td>2016</td><td>&quot;Mobile&quot;</td><td>&quot;MOB&quot;</td><td>&quot;Mobile, AL&quot;</td><td>&quot;Alabama&quot;</td><td>46</td><td>51</td><td>41</td><td>35</td><td>9.73</td></tr><tr><td>0.0</td><td>&quot;2016-01-03&quot;</td><td>1</td><td>3</td><td>2016</td><td>&quot;Montgomery&quot;</td><td>&quot;MGM&quot;</td><td>&quot;Montgomery, AL…</td><td>&quot;Alabama&quot;</td><td>45</td><td>52</td><td>38</td><td>32</td><td>6.86</td></tr><tr><td>0.01</td><td>&quot;2016-01-03&quot;</td><td>1</td><td>3</td><td>2016</td><td>&quot;Anchorage&quot;</td><td>&quot;ANC&quot;</td><td>&quot;Anchorage, AK&quot;</td><td>&quot;Alaska&quot;</td><td>34</td><td>38</td><td>29</td><td>19</td><td>7.8</td></tr></tbody></table></div>"
      ],
      "text/plain": [
       "shape: (5, 14)\n",
       "┌──────────────┬────────────┬────────────┬──────────────┬───┬──────────────┬──────────────┬──────────────┬─────────────┐\n",
       "│ Data.Precipi ┆ Date.Full  ┆ Date.Month ┆ Date.Week of ┆ … ┆ Data.Tempera ┆ Data.Tempera ┆ Data.Wind.Di ┆ Data.Wind.S │\n",
       "│ tation       ┆ ---        ┆ ---        ┆ ---          ┆   ┆ ture.Max     ┆ ture.Min     ┆ rection      ┆ peed        │\n",
       "│ ---          ┆ str        ┆ i64        ┆ i64          ┆   ┆ Temp         ┆ Temp         ┆ ---          ┆ ---         │\n",
       "│ f64          ┆            ┆            ┆              ┆   ┆ ---          ┆ ---          ┆ i64          ┆ f64         │\n",
       "│              ┆            ┆            ┆              ┆   ┆ i64          ┆ i64          ┆              ┆             │\n",
       "╞══════════════╪════════════╪════════════╪══════════════╪═══╪══════════════╪══════════════╪══════════════╪═════════════╡\n",
       "│ 0.0          ┆ 2016-01-03 ┆ 1          ┆ 3            ┆ … ┆ 46           ┆ 32           ┆ 33           ┆ 4.33        │\n",
       "│ 0.0          ┆ 2016-01-03 ┆ 1          ┆ 3            ┆ … ┆ 47           ┆ 31           ┆ 32           ┆ 3.86        │\n",
       "│ 0.16         ┆ 2016-01-03 ┆ 1          ┆ 3            ┆ … ┆ 51           ┆ 41           ┆ 35           ┆ 9.73        │\n",
       "│ 0.0          ┆ 2016-01-03 ┆ 1          ┆ 3            ┆ … ┆ 52           ┆ 38           ┆ 32           ┆ 6.86        │\n",
       "│ 0.01         ┆ 2016-01-03 ┆ 1          ┆ 3            ┆ … ┆ 38           ┆ 29           ┆ 19           ┆ 7.8         │\n",
       "└──────────────┴────────────┴────────────┴──────────────┴───┴──────────────┴──────────────┴──────────────┴─────────────┘"
      ]
     },
     "execution_count": 3,
     "metadata": {},
     "output_type": "execute_result"
    }
   ],
   "source": [
    "df.select(pl.col(\"*\")).head()"
   ]
  },
  {
   "cell_type": "code",
   "execution_count": 4,
   "id": "a520cec6-d50f-4f78-a773-66609b7cc8ff",
   "metadata": {},
   "outputs": [
    {
     "data": {
      "text/html": [
       "<div><style>\n",
       ".dataframe > thead > tr,\n",
       ".dataframe > tbody > tr {\n",
       "  text-align: right;\n",
       "  white-space: pre-wrap;\n",
       "}\n",
       "</style>\n",
       "<small>shape: (3, 12)</small><table border=\"1\" class=\"dataframe\"><thead><tr><th>Date.Full</th><th>Date.Month</th><th>Date.Week of</th><th>Date.Year</th><th>Station.City</th><th>Station.Location</th><th>Station.State</th><th>Data.Temperature.Avg Temp</th><th>Data.Temperature.Max Temp</th><th>Data.Temperature.Min Temp</th><th>Data.Wind.Direction</th><th>Data.Wind.Speed</th></tr><tr><td>str</td><td>i64</td><td>i64</td><td>i64</td><td>str</td><td>str</td><td>str</td><td>i64</td><td>i64</td><td>i64</td><td>i64</td><td>f64</td></tr></thead><tbody><tr><td>&quot;2016-01-03&quot;</td><td>1</td><td>3</td><td>2016</td><td>&quot;Birmingham&quot;</td><td>&quot;Birmingham, AL…</td><td>&quot;Alabama&quot;</td><td>39</td><td>46</td><td>32</td><td>33</td><td>4.33</td></tr><tr><td>&quot;2016-01-03&quot;</td><td>1</td><td>3</td><td>2016</td><td>&quot;Huntsville&quot;</td><td>&quot;Huntsville, AL…</td><td>&quot;Alabama&quot;</td><td>39</td><td>47</td><td>31</td><td>32</td><td>3.86</td></tr><tr><td>&quot;2016-01-03&quot;</td><td>1</td><td>3</td><td>2016</td><td>&quot;Mobile&quot;</td><td>&quot;Mobile, AL&quot;</td><td>&quot;Alabama&quot;</td><td>46</td><td>51</td><td>41</td><td>35</td><td>9.73</td></tr></tbody></table></div>"
      ],
      "text/plain": [
       "shape: (3, 12)\n",
       "┌────────────┬────────────┬──────────────┬───────────┬───┬───────────────┬───────────────┬──────────────┬──────────────┐\n",
       "│ Date.Full  ┆ Date.Month ┆ Date.Week of ┆ Date.Year ┆ … ┆ Data.Temperat ┆ Data.Temperat ┆ Data.Wind.Di ┆ Data.Wind.Sp │\n",
       "│ ---        ┆ ---        ┆ ---          ┆ ---       ┆   ┆ ure.Max Temp  ┆ ure.Min Temp  ┆ rection      ┆ eed          │\n",
       "│ str        ┆ i64        ┆ i64          ┆ i64       ┆   ┆ ---           ┆ ---           ┆ ---          ┆ ---          │\n",
       "│            ┆            ┆              ┆           ┆   ┆ i64           ┆ i64           ┆ i64          ┆ f64          │\n",
       "╞════════════╪════════════╪══════════════╪═══════════╪═══╪═══════════════╪═══════════════╪══════════════╪══════════════╡\n",
       "│ 2016-01-03 ┆ 1          ┆ 3            ┆ 2016      ┆ … ┆ 46            ┆ 32            ┆ 33           ┆ 4.33         │\n",
       "│ 2016-01-03 ┆ 1          ┆ 3            ┆ 2016      ┆ … ┆ 47            ┆ 31            ┆ 32           ┆ 3.86         │\n",
       "│ 2016-01-03 ┆ 1          ┆ 3            ┆ 2016      ┆ … ┆ 51            ┆ 41            ┆ 35           ┆ 9.73         │\n",
       "└────────────┴────────────┴──────────────┴───────────┴───┴───────────────┴───────────────┴──────────────┴──────────────┘"
      ]
     },
     "execution_count": 4,
     "metadata": {},
     "output_type": "execute_result"
    }
   ],
   "source": [
    "df.select(pl.col(\"*\").exclude(\"Data.Precipitation\", \"Station.Code\")).head(3)"
   ]
  },
  {
   "cell_type": "code",
   "execution_count": 5,
   "id": "ae8700e9-fefd-440d-8707-6a1bb3de27af",
   "metadata": {},
   "outputs": [
    {
     "data": {
      "text/html": [
       "<div><style>\n",
       ".dataframe > thead > tr,\n",
       ".dataframe > tbody > tr {\n",
       "  text-align: right;\n",
       "  white-space: pre-wrap;\n",
       "}\n",
       "</style>\n",
       "<small>shape: (5, 3)</small><table border=\"1\" class=\"dataframe\"><thead><tr><th>Station.City</th><th>Data.Temperature.Avg Temp</th><th>Data.Wind.Speed</th></tr><tr><td>str</td><td>i64</td><td>f64</td></tr></thead><tbody><tr><td>&quot;Birmingham&quot;</td><td>39</td><td>4.33</td></tr><tr><td>&quot;Huntsville&quot;</td><td>39</td><td>3.86</td></tr><tr><td>&quot;Mobile&quot;</td><td>46</td><td>9.73</td></tr><tr><td>&quot;Montgomery&quot;</td><td>45</td><td>6.86</td></tr><tr><td>&quot;Anchorage&quot;</td><td>34</td><td>7.8</td></tr></tbody></table></div>"
      ],
      "text/plain": [
       "shape: (5, 3)\n",
       "┌──────────────┬───────────────────────────┬─────────────────┐\n",
       "│ Station.City ┆ Data.Temperature.Avg Temp ┆ Data.Wind.Speed │\n",
       "│ ---          ┆ ---                       ┆ ---             │\n",
       "│ str          ┆ i64                       ┆ f64             │\n",
       "╞══════════════╪═══════════════════════════╪═════════════════╡\n",
       "│ Birmingham   ┆ 39                        ┆ 4.33            │\n",
       "│ Huntsville   ┆ 39                        ┆ 3.86            │\n",
       "│ Mobile       ┆ 46                        ┆ 9.73            │\n",
       "│ Montgomery   ┆ 45                        ┆ 6.86            │\n",
       "│ Anchorage    ┆ 34                        ┆ 7.8             │\n",
       "└──────────────┴───────────────────────────┴─────────────────┘"
      ]
     },
     "execution_count": 5,
     "metadata": {},
     "output_type": "execute_result"
    }
   ],
   "source": [
    "df.select(pl.col(\"Station.City\"), pl.col(\"Data.Temperature.Avg Temp\"), pl.col(\"Data.Wind.Speed\")).head()"
   ]
  },
  {
   "cell_type": "code",
   "execution_count": 6,
   "id": "acf807d4-e773-488a-85ad-8ad24da38cf5",
   "metadata": {},
   "outputs": [
    {
     "data": {
      "text/html": [
       "<div><style>\n",
       ".dataframe > thead > tr,\n",
       ".dataframe > tbody > tr {\n",
       "  text-align: right;\n",
       "  white-space: pre-wrap;\n",
       "}\n",
       "</style>\n",
       "<small>shape: (5, 3)</small><table border=\"1\" class=\"dataframe\"><thead><tr><th>Station.City</th><th>Data.Temperature.Avg Temp</th><th>Data.Wind.Speed</th></tr><tr><td>str</td><td>i64</td><td>f64</td></tr></thead><tbody><tr><td>&quot;Birmingham&quot;</td><td>39</td><td>4.33</td></tr><tr><td>&quot;Huntsville&quot;</td><td>39</td><td>3.86</td></tr><tr><td>&quot;Mobile&quot;</td><td>46</td><td>9.73</td></tr><tr><td>&quot;Montgomery&quot;</td><td>45</td><td>6.86</td></tr><tr><td>&quot;Anchorage&quot;</td><td>34</td><td>7.8</td></tr></tbody></table></div>"
      ],
      "text/plain": [
       "shape: (5, 3)\n",
       "┌──────────────┬───────────────────────────┬─────────────────┐\n",
       "│ Station.City ┆ Data.Temperature.Avg Temp ┆ Data.Wind.Speed │\n",
       "│ ---          ┆ ---                       ┆ ---             │\n",
       "│ str          ┆ i64                       ┆ f64             │\n",
       "╞══════════════╪═══════════════════════════╪═════════════════╡\n",
       "│ Birmingham   ┆ 39                        ┆ 4.33            │\n",
       "│ Huntsville   ┆ 39                        ┆ 3.86            │\n",
       "│ Mobile       ┆ 46                        ┆ 9.73            │\n",
       "│ Montgomery   ┆ 45                        ┆ 6.86            │\n",
       "│ Anchorage    ┆ 34                        ┆ 7.8             │\n",
       "└──────────────┴───────────────────────────┴─────────────────┘"
      ]
     },
     "execution_count": 6,
     "metadata": {},
     "output_type": "execute_result"
    }
   ],
   "source": [
    "df.select(pl.col([\"Station.City\", \"Data.Temperature.Avg Temp\", \"Data.Wind.Speed\"])).head()"
   ]
  },
  {
   "cell_type": "code",
   "execution_count": 7,
   "id": "a1ba8ca9-2d69-44c6-b9a9-ef87b12d0cb7",
   "metadata": {},
   "outputs": [
    {
     "data": {
      "text/html": [
       "<div><style>\n",
       ".dataframe > thead > tr,\n",
       ".dataframe > tbody > tr {\n",
       "  text-align: right;\n",
       "  white-space: pre-wrap;\n",
       "}\n",
       "</style>\n",
       "<small>shape: (3, 14)</small><table border=\"1\" class=\"dataframe\"><thead><tr><th>Data.Precipitation</th><th>Date.Full</th><th>Date.Month</th><th>Date.Week of</th><th>Date.Year</th><th>Station.City</th><th>Station.Code</th><th>Station.Location</th><th>Station.State</th><th>Data.Temperature.Avg Temp</th><th>Data.Temperature.Max Temp</th><th>Data.Temperature.Min Temp</th><th>Data.Wind.Direction</th><th>Data.Wind.Speed</th></tr><tr><td>f64</td><td>str</td><td>i64</td><td>i64</td><td>i64</td><td>str</td><td>str</td><td>str</td><td>str</td><td>i64</td><td>i64</td><td>i64</td><td>i64</td><td>f64</td></tr></thead><tbody><tr><td>0.0</td><td>&quot;2016-01-03&quot;</td><td>1</td><td>3</td><td>2016</td><td>&quot;Birmingham&quot;</td><td>&quot;BHM&quot;</td><td>&quot;Birmingham, AL…</td><td>&quot;Alabama&quot;</td><td>39</td><td>46</td><td>32</td><td>33</td><td>4.33</td></tr><tr><td>0.0</td><td>&quot;2016-01-03&quot;</td><td>1</td><td>3</td><td>2016</td><td>&quot;Huntsville&quot;</td><td>&quot;HSV&quot;</td><td>&quot;Huntsville, AL…</td><td>&quot;Alabama&quot;</td><td>39</td><td>47</td><td>31</td><td>32</td><td>3.86</td></tr><tr><td>0.16</td><td>&quot;2016-01-03&quot;</td><td>1</td><td>3</td><td>2016</td><td>&quot;Mobile&quot;</td><td>&quot;MOB&quot;</td><td>&quot;Mobile, AL&quot;</td><td>&quot;Alabama&quot;</td><td>46</td><td>51</td><td>41</td><td>35</td><td>9.73</td></tr></tbody></table></div>"
      ],
      "text/plain": [
       "shape: (3, 14)\n",
       "┌──────────────┬────────────┬────────────┬──────────────┬───┬──────────────┬──────────────┬──────────────┬─────────────┐\n",
       "│ Data.Precipi ┆ Date.Full  ┆ Date.Month ┆ Date.Week of ┆ … ┆ Data.Tempera ┆ Data.Tempera ┆ Data.Wind.Di ┆ Data.Wind.S │\n",
       "│ tation       ┆ ---        ┆ ---        ┆ ---          ┆   ┆ ture.Max     ┆ ture.Min     ┆ rection      ┆ peed        │\n",
       "│ ---          ┆ str        ┆ i64        ┆ i64          ┆   ┆ Temp         ┆ Temp         ┆ ---          ┆ ---         │\n",
       "│ f64          ┆            ┆            ┆              ┆   ┆ ---          ┆ ---          ┆ i64          ┆ f64         │\n",
       "│              ┆            ┆            ┆              ┆   ┆ i64          ┆ i64          ┆              ┆             │\n",
       "╞══════════════╪════════════╪════════════╪══════════════╪═══╪══════════════╪══════════════╪══════════════╪═════════════╡\n",
       "│ 0.0          ┆ 2016-01-03 ┆ 1          ┆ 3            ┆ … ┆ 46           ┆ 32           ┆ 33           ┆ 4.33        │\n",
       "│ 0.0          ┆ 2016-01-03 ┆ 1          ┆ 3            ┆ … ┆ 47           ┆ 31           ┆ 32           ┆ 3.86        │\n",
       "│ 0.16         ┆ 2016-01-03 ┆ 1          ┆ 3            ┆ … ┆ 51           ┆ 41           ┆ 35           ┆ 9.73        │\n",
       "└──────────────┴────────────┴────────────┴──────────────┴───┴──────────────┴──────────────┴──────────────┴─────────────┘"
      ]
     },
     "execution_count": 7,
     "metadata": {},
     "output_type": "execute_result"
    }
   ],
   "source": [
    "df.select(pl.all()).head(3)"
   ]
  },
  {
   "cell_type": "code",
   "execution_count": 8,
   "id": "3db16e6c-2e72-4367-b60c-b72966ffe81f",
   "metadata": {},
   "outputs": [
    {
     "data": {
      "text/html": [
       "<div><style>\n",
       ".dataframe > thead > tr,\n",
       ".dataframe > tbody > tr {\n",
       "  text-align: right;\n",
       "  white-space: pre-wrap;\n",
       "}\n",
       "</style>\n",
       "<small>shape: (3, 14)</small><table border=\"1\" class=\"dataframe\"><thead><tr><th>Data.Precipitation</th><th>Date.Full</th><th>Date.Month</th><th>Date.Week of</th><th>Date.Year</th><th>Station.City</th><th>Station.Code</th><th>Station.Location</th><th>Station.State</th><th>Data.Temperature.Avg Temp</th><th>Data.Temperature.Max Temp</th><th>Data.Temperature.Min Temp</th><th>Data.Wind.Direction</th><th>Data.Wind.Speed</th></tr><tr><td>f64</td><td>str</td><td>i64</td><td>i64</td><td>i64</td><td>str</td><td>str</td><td>str</td><td>str</td><td>i64</td><td>i64</td><td>i64</td><td>i64</td><td>f64</td></tr></thead><tbody><tr><td>0.01</td><td>&quot;2016-01-03&quot;</td><td>1</td><td>3</td><td>2016</td><td>&quot;Anchorage&quot;</td><td>&quot;ANC&quot;</td><td>&quot;Anchorage, AK&quot;</td><td>&quot;Alaska&quot;</td><td>34</td><td>38</td><td>29</td><td>19</td><td>7.8</td></tr><tr><td>0.09</td><td>&quot;2016-01-03&quot;</td><td>1</td><td>3</td><td>2016</td><td>&quot;Annette&quot;</td><td>&quot;ANN&quot;</td><td>&quot;Annette, AK&quot;</td><td>&quot;Alaska&quot;</td><td>38</td><td>44</td><td>31</td><td>9</td><td>8.7</td></tr><tr><td>0.05</td><td>&quot;2016-01-03&quot;</td><td>1</td><td>3</td><td>2016</td><td>&quot;Bethel&quot;</td><td>&quot;BET&quot;</td><td>&quot;Bethel, AK&quot;</td><td>&quot;Alaska&quot;</td><td>30</td><td>36</td><td>24</td><td>9</td><td>16.46</td></tr></tbody></table></div>"
      ],
      "text/plain": [
       "shape: (3, 14)\n",
       "┌──────────────┬────────────┬────────────┬──────────────┬───┬──────────────┬──────────────┬──────────────┬─────────────┐\n",
       "│ Data.Precipi ┆ Date.Full  ┆ Date.Month ┆ Date.Week of ┆ … ┆ Data.Tempera ┆ Data.Tempera ┆ Data.Wind.Di ┆ Data.Wind.S │\n",
       "│ tation       ┆ ---        ┆ ---        ┆ ---          ┆   ┆ ture.Max     ┆ ture.Min     ┆ rection      ┆ peed        │\n",
       "│ ---          ┆ str        ┆ i64        ┆ i64          ┆   ┆ Temp         ┆ Temp         ┆ ---          ┆ ---         │\n",
       "│ f64          ┆            ┆            ┆              ┆   ┆ ---          ┆ ---          ┆ i64          ┆ f64         │\n",
       "│              ┆            ┆            ┆              ┆   ┆ i64          ┆ i64          ┆              ┆             │\n",
       "╞══════════════╪════════════╪════════════╪══════════════╪═══╪══════════════╪══════════════╪══════════════╪═════════════╡\n",
       "│ 0.01         ┆ 2016-01-03 ┆ 1          ┆ 3            ┆ … ┆ 38           ┆ 29           ┆ 19           ┆ 7.8         │\n",
       "│ 0.09         ┆ 2016-01-03 ┆ 1          ┆ 3            ┆ … ┆ 44           ┆ 31           ┆ 9            ┆ 8.7         │\n",
       "│ 0.05         ┆ 2016-01-03 ┆ 1          ┆ 3            ┆ … ┆ 36           ┆ 24           ┆ 9            ┆ 16.46       │\n",
       "└──────────────┴────────────┴────────────┴──────────────┴───┴──────────────┴──────────────┴──────────────┴─────────────┘"
      ]
     },
     "execution_count": 8,
     "metadata": {},
     "output_type": "execute_result"
    }
   ],
   "source": [
    "df.filter(pl.col(\"Station.State\") == \"Alaska\").head(3)"
   ]
  },
  {
   "cell_type": "code",
   "execution_count": 9,
   "id": "505fa7d3-57f5-4fec-a547-cf55c33e79a0",
   "metadata": {},
   "outputs": [
    {
     "data": {
      "text/html": [
       "<div><style>\n",
       ".dataframe > thead > tr,\n",
       ".dataframe > tbody > tr {\n",
       "  text-align: right;\n",
       "  white-space: pre-wrap;\n",
       "}\n",
       "</style>\n",
       "<small>shape: (3, 14)</small><table border=\"1\" class=\"dataframe\"><thead><tr><th>Data.Precipitation</th><th>Date.Full</th><th>Date.Month</th><th>Date.Week of</th><th>Date.Year</th><th>Station.City</th><th>Station.Code</th><th>Station.Location</th><th>Station.State</th><th>Data.Temperature.Avg Temp</th><th>Data.Temperature.Max Temp</th><th>Data.Temperature.Min Temp</th><th>Data.Wind.Direction</th><th>Data.Wind.Speed</th></tr><tr><td>f64</td><td>str</td><td>i64</td><td>i64</td><td>i64</td><td>str</td><td>str</td><td>str</td><td>str</td><td>i64</td><td>i64</td><td>i64</td><td>i64</td><td>f64</td></tr></thead><tbody><tr><td>0.09</td><td>&quot;2016-01-03&quot;</td><td>1</td><td>3</td><td>2016</td><td>&quot;Annette&quot;</td><td>&quot;ANN&quot;</td><td>&quot;Annette, AK&quot;</td><td>&quot;Alaska&quot;</td><td>38</td><td>44</td><td>31</td><td>9</td><td>8.7</td></tr><tr><td>0.48</td><td>&quot;2016-01-10&quot;</td><td>1</td><td>10</td><td>2016</td><td>&quot;Annette&quot;</td><td>&quot;ANN&quot;</td><td>&quot;Annette, AK&quot;</td><td>&quot;Alaska&quot;</td><td>36</td><td>43</td><td>27</td><td>24</td><td>5.42</td></tr><tr><td>2.59</td><td>&quot;2016-01-17&quot;</td><td>1</td><td>17</td><td>2016</td><td>&quot;Annette&quot;</td><td>&quot;ANN&quot;</td><td>&quot;Annette, AK&quot;</td><td>&quot;Alaska&quot;</td><td>43</td><td>46</td><td>38</td><td>10</td><td>8.68</td></tr></tbody></table></div>"
      ],
      "text/plain": [
       "shape: (3, 14)\n",
       "┌──────────────┬────────────┬────────────┬──────────────┬───┬──────────────┬──────────────┬──────────────┬─────────────┐\n",
       "│ Data.Precipi ┆ Date.Full  ┆ Date.Month ┆ Date.Week of ┆ … ┆ Data.Tempera ┆ Data.Tempera ┆ Data.Wind.Di ┆ Data.Wind.S │\n",
       "│ tation       ┆ ---        ┆ ---        ┆ ---          ┆   ┆ ture.Max     ┆ ture.Min     ┆ rection      ┆ peed        │\n",
       "│ ---          ┆ str        ┆ i64        ┆ i64          ┆   ┆ Temp         ┆ Temp         ┆ ---          ┆ ---         │\n",
       "│ f64          ┆            ┆            ┆              ┆   ┆ ---          ┆ ---          ┆ i64          ┆ f64         │\n",
       "│              ┆            ┆            ┆              ┆   ┆ i64          ┆ i64          ┆              ┆             │\n",
       "╞══════════════╪════════════╪════════════╪══════════════╪═══╪══════════════╪══════════════╪══════════════╪═════════════╡\n",
       "│ 0.09         ┆ 2016-01-03 ┆ 1          ┆ 3            ┆ … ┆ 44           ┆ 31           ┆ 9            ┆ 8.7         │\n",
       "│ 0.48         ┆ 2016-01-10 ┆ 1          ┆ 10           ┆ … ┆ 43           ┆ 27           ┆ 24           ┆ 5.42        │\n",
       "│ 2.59         ┆ 2016-01-17 ┆ 1          ┆ 17           ┆ … ┆ 46           ┆ 38           ┆ 10           ┆ 8.68        │\n",
       "└──────────────┴────────────┴────────────┴──────────────┴───┴──────────────┴──────────────┴──────────────┴─────────────┘"
      ]
     },
     "execution_count": 9,
     "metadata": {},
     "output_type": "execute_result"
    }
   ],
   "source": [
    "df.filter( (pl.col(\"Station.State\") == \"Alaska\") & (pl.col(\"Station.City\") == \"Annette\") ).head(3)"
   ]
  },
  {
   "cell_type": "code",
   "execution_count": 10,
   "id": "5ea2ce6f-2197-4d7d-800c-d6f97df670ea",
   "metadata": {},
   "outputs": [
    {
     "data": {
      "text/html": [
       "<div><style>\n",
       ".dataframe > thead > tr,\n",
       ".dataframe > tbody > tr {\n",
       "  text-align: right;\n",
       "  white-space: pre-wrap;\n",
       "}\n",
       "</style>\n",
       "<small>shape: (3, 14)</small><table border=\"1\" class=\"dataframe\"><thead><tr><th>Data.Precipitation</th><th>Date.Full</th><th>Date.Month</th><th>Date.Week of</th><th>Date.Year</th><th>Station.City</th><th>Station.Code</th><th>Station.Location</th><th>Station.State</th><th>Data.Temperature.Avg Temp</th><th>Data.Temperature.Max Temp</th><th>Data.Temperature.Min Temp</th><th>Data.Wind.Direction</th><th>Data.Wind.Speed</th></tr><tr><td>f64</td><td>str</td><td>i64</td><td>i64</td><td>i64</td><td>str</td><td>str</td><td>str</td><td>str</td><td>i64</td><td>i64</td><td>i64</td><td>i64</td><td>f64</td></tr></thead><tbody><tr><td>0.01</td><td>&quot;2016-01-03&quot;</td><td>1</td><td>3</td><td>2016</td><td>&quot;Anchorage&quot;</td><td>&quot;ANC&quot;</td><td>&quot;Anchorage, AK&quot;</td><td>&quot;Alaska&quot;</td><td>34</td><td>38</td><td>29</td><td>19</td><td>7.8</td></tr><tr><td>0.09</td><td>&quot;2016-01-03&quot;</td><td>1</td><td>3</td><td>2016</td><td>&quot;Annette&quot;</td><td>&quot;ANN&quot;</td><td>&quot;Annette, AK&quot;</td><td>&quot;Alaska&quot;</td><td>38</td><td>44</td><td>31</td><td>9</td><td>8.7</td></tr><tr><td>0.05</td><td>&quot;2016-01-03&quot;</td><td>1</td><td>3</td><td>2016</td><td>&quot;Bethel&quot;</td><td>&quot;BET&quot;</td><td>&quot;Bethel, AK&quot;</td><td>&quot;Alaska&quot;</td><td>30</td><td>36</td><td>24</td><td>9</td><td>16.46</td></tr></tbody></table></div>"
      ],
      "text/plain": [
       "shape: (3, 14)\n",
       "┌──────────────┬────────────┬────────────┬──────────────┬───┬──────────────┬──────────────┬──────────────┬─────────────┐\n",
       "│ Data.Precipi ┆ Date.Full  ┆ Date.Month ┆ Date.Week of ┆ … ┆ Data.Tempera ┆ Data.Tempera ┆ Data.Wind.Di ┆ Data.Wind.S │\n",
       "│ tation       ┆ ---        ┆ ---        ┆ ---          ┆   ┆ ture.Max     ┆ ture.Min     ┆ rection      ┆ peed        │\n",
       "│ ---          ┆ str        ┆ i64        ┆ i64          ┆   ┆ Temp         ┆ Temp         ┆ ---          ┆ ---         │\n",
       "│ f64          ┆            ┆            ┆              ┆   ┆ ---          ┆ ---          ┆ i64          ┆ f64         │\n",
       "│              ┆            ┆            ┆              ┆   ┆ i64          ┆ i64          ┆              ┆             │\n",
       "╞══════════════╪════════════╪════════════╪══════════════╪═══╪══════════════╪══════════════╪══════════════╪═════════════╡\n",
       "│ 0.01         ┆ 2016-01-03 ┆ 1          ┆ 3            ┆ … ┆ 38           ┆ 29           ┆ 19           ┆ 7.8         │\n",
       "│ 0.09         ┆ 2016-01-03 ┆ 1          ┆ 3            ┆ … ┆ 44           ┆ 31           ┆ 9            ┆ 8.7         │\n",
       "│ 0.05         ┆ 2016-01-03 ┆ 1          ┆ 3            ┆ … ┆ 36           ┆ 24           ┆ 9            ┆ 16.46       │\n",
       "└──────────────┴────────────┴────────────┴──────────────┴───┴──────────────┴──────────────┴──────────────┴─────────────┘"
      ]
     },
     "execution_count": 10,
     "metadata": {},
     "output_type": "execute_result"
    }
   ],
   "source": [
    "df.filter( (pl.col(\"Station.State\") == \"Alaska\") | (pl.col(\"Station.City\") == \"Annette\") ).head(3)"
   ]
  }
 ],
 "metadata": {
  "kernelspec": {
   "display_name": "Python 3 (ipykernel)",
   "language": "python",
   "name": "python3"
  },
  "language_info": {
   "codemirror_mode": {
    "name": "ipython",
    "version": 3
   },
   "file_extension": ".py",
   "mimetype": "text/x-python",
   "name": "python",
   "nbconvert_exporter": "python",
   "pygments_lexer": "ipython3",
   "version": "3.12.1"
  }
 },
 "nbformat": 4,
 "nbformat_minor": 5
}
