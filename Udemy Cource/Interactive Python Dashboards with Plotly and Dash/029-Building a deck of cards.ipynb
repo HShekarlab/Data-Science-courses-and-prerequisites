{
 "cells": [
  {
   "cell_type": "code",
   "execution_count": 1,
   "id": "fe768753-4171-44d0-af17-76f1669345e5",
   "metadata": {},
   "outputs": [
    {
     "data": {
      "text/html": [
       "\n",
       "        <iframe\n",
       "            width=\"100%\"\n",
       "            height=\"650\"\n",
       "            src=\"http://127.0.0.1:8050/\"\n",
       "            frameborder=\"0\"\n",
       "            allowfullscreen\n",
       "            \n",
       "        ></iframe>\n",
       "        "
      ],
      "text/plain": [
       "<IPython.lib.display.IFrame at 0x16f299c4a10>"
      ]
     },
     "metadata": {},
     "output_type": "display_data"
    }
   ],
   "source": [
    "import pandas as pd\n",
    "from dash import Dash, html\n",
    "import dash_bootstrap_components as dbc\n",
    "\n",
    "\n",
    "soccer = pd.read_csv(\"fifa_soccer_players.csv\")\n",
    "\n",
    "avg_age = soccer[\"age\"].mean()\n",
    "avg_height = soccer[\"height_cm\"].mean()\n",
    "avg_weight = soccer[\"weight_kg\"].mean()\n",
    "\n",
    "\n",
    "cards = dbc.Row([\n",
    "    dbc.Col(\n",
    "        dbc.Card([\n",
    "            html.H4(\"Avg Age\"),\n",
    "            html.H5(f\"{round(avg_age, 1)} year's\")\n",
    "        ],\n",
    "                body= True,\n",
    "                style= {\"textAlign\": \"center\", \"color\": \"white\"},\n",
    "                color= \"magenta\")\n",
    "    ),\n",
    "    dbc.Col(\n",
    "        dbc.Card([\n",
    "            html.H4(\"Avg Weight\"),\n",
    "            html.H5(f\"{round(avg_weight, 1)} kg\")\n",
    "        ],\n",
    "                body= True,\n",
    "                style= {\"textAlign\": \"center\", \"color\": \"white\"},\n",
    "                color= \"darkviolet\")),\n",
    "    dbc.Col(\n",
    "        dbc.Card([\n",
    "            html.H4(\"Avg Height\"),\n",
    "            html.H5(f\"{round(avg_height, 1)} cm\")\n",
    "        ],\n",
    "                body= True,\n",
    "                style= {\"textAlign\": \"center\", \"color\": \"white\"},\n",
    "                color= \"indigo\"))\n",
    "])\n",
    "\n",
    "\n",
    "navbar = dbc.NavbarSimple(\n",
    "    brand= \"Soccer Players Dashboard\", \n",
    "    children= [\n",
    "        html.Img(src= \"https://uptime.com/media/website_profiles/sofifa.com.png\", height= 20), \n",
    "        html.A(\"Data Source\", \n",
    "               href= \"https://sofifa.com\", \n",
    "               target= \"_blank\", \n",
    "               style= {\"color\": \"black\"})\n",
    "    ],\n",
    "    color= \"cyan\", \n",
    "    fluid= True\n",
    "    \n",
    ")\n",
    "\n",
    "\n",
    "app = Dash(external_stylesheets= [dbc.themes.BOOTSTRAP])\n",
    "\n",
    "app.layout = html.Div([navbar, html.Br(), cards])\n",
    "\n",
    "if __name__ == \"__main__\":\n",
    "    app.run_server(debug= True)"
   ]
  }
 ],
 "metadata": {
  "kernelspec": {
   "display_name": "Python 3 (ipykernel)",
   "language": "python",
   "name": "python3"
  },
  "language_info": {
   "codemirror_mode": {
    "name": "ipython",
    "version": 3
   },
   "file_extension": ".py",
   "mimetype": "text/x-python",
   "name": "python",
   "nbconvert_exporter": "python",
   "pygments_lexer": "ipython3",
   "version": "3.12.1"
  }
 },
 "nbformat": 4,
 "nbformat_minor": 5
}
