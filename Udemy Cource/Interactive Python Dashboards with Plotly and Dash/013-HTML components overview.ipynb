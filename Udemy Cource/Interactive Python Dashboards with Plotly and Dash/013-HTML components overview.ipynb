{
 "cells": [
  {
   "cell_type": "code",
   "execution_count": 1,
   "id": "a272aeaf-9794-423d-a4fb-43bb8c5e81ee",
   "metadata": {},
   "outputs": [
    {
     "data": {
      "text/html": [
       "\n",
       "        <iframe\n",
       "            width=\"100%\"\n",
       "            height=\"650\"\n",
       "            src=\"http://127.0.0.1:8050/\"\n",
       "            frameborder=\"0\"\n",
       "            allowfullscreen\n",
       "            \n",
       "        ></iframe>\n",
       "        "
      ],
      "text/plain": [
       "<IPython.lib.display.IFrame at 0x1a70d7d5ac0>"
      ]
     },
     "metadata": {},
     "output_type": "display_data"
    }
   ],
   "source": [
    "from dash import Dash, html\n",
    "\n",
    "# ************************************\n",
    "\n",
    "app = Dash()\n",
    "\n",
    "app.layout = html.Div([                    # children = [\n",
    "    html.H1(\"World Happiness Dashboard\"),  # html.H1(children = \"World Happiness Dashboard\")\n",
    "    html.P([\"This dashboard shows the happiness score.\",\n",
    "            html.Br(),\n",
    "            html.A(\"World Happiness Report Data Source\",\n",
    "                   href= \"https://worldhappiness.report\",\n",
    "                   target= \"_blank\")])\n",
    "])\n",
    "\n",
    "\n",
    "if __name__ == \"__main__\":\n",
    "    app.run_server(debug= True)"
   ]
  }
 ],
 "metadata": {
  "kernelspec": {
   "display_name": "Python 3 (ipykernel)",
   "language": "python",
   "name": "python3"
  },
  "language_info": {
   "codemirror_mode": {
    "name": "ipython",
    "version": 3
   },
   "file_extension": ".py",
   "mimetype": "text/x-python",
   "name": "python",
   "nbconvert_exporter": "python",
   "pygments_lexer": "ipython3",
   "version": "3.12.1"
  }
 },
 "nbformat": 4,
 "nbformat_minor": 5
}
