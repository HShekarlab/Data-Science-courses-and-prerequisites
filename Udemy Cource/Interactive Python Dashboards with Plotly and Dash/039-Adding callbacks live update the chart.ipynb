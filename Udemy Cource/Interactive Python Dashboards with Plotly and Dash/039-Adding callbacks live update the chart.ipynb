{
 "cells": [
  {
   "cell_type": "code",
   "execution_count": 1,
   "id": "eb7ef886-2818-4844-8cb1-808012c96c64",
   "metadata": {},
   "outputs": [
    {
     "data": {
      "text/html": [
       "\n",
       "        <iframe\n",
       "            width=\"100%\"\n",
       "            height=\"650\"\n",
       "            src=\"http://127.0.0.1:8050/\"\n",
       "            frameborder=\"0\"\n",
       "            allowfullscreen\n",
       "            \n",
       "        ></iframe>\n",
       "        "
      ],
      "text/plain": [
       "<IPython.lib.display.IFrame at 0x2785bc3b320>"
      ]
     },
     "metadata": {},
     "output_type": "display_data"
    }
   ],
   "source": [
    "from dash import Dash, html, dcc, dash_table, Input, Output, State\n",
    "import yfinance as yf\n",
    "import plotly.graph_objects as go\n",
    "\n",
    "\n",
    "price = yf.Ticker(\"AAPL\").history(period= \"1d\", interval= \"15m\").reset_index()\n",
    "\n",
    "\n",
    "app = Dash()\n",
    "\n",
    "app.layout = html.Div([\n",
    "    html.H1(\"My financial dashboard\"), \n",
    "    dcc.Input(id= \"ticker-input\", \n",
    "              placeholder= \"Search for symbols from Yahoo Finance\", \n",
    "              style= {\"width\": \"50%\"}), \n",
    "    html.Button(id= \"submit-button\", \n",
    "                children= \"Submit\"), \n",
    "    html.Br(), \n",
    "    html.Br(), \n",
    "    dcc.Tabs([\n",
    "        dcc.Tab(label= \"Candlestick Chart\", \n",
    "                children= dcc.Graph(id= \"stock-graph\")), \n",
    "        dcc.Tab(label= \"Recent Data\", \n",
    "                children= dash_table.DataTable(id= \"stock-data\", \n",
    "                                               data= price.tail(10).to_dict(\"records\")))\n",
    "    ]), \n",
    "    dcc.Interval(id= \"chart_interval\", interval= 1000 * 60 * 15, n_intervals= 0), \n",
    "    dcc.Interval(id= \"table_interval\", interval= 1000 * 60, n_intervals= 0)\n",
    "])\n",
    "\n",
    "\n",
    "@app.callback(\n",
    "    Output(\"stock-graph\", \"figure\"), \n",
    "    Input(\"submit-button\", \"n_clicks\"), \n",
    "    Input(\"chart_interval\", \"n_intervals\"), \n",
    "    State(\"ticker-input\", \"value\")\n",
    ")\n",
    "\n",
    "def Update_Chart(button_click, chart_interval, ticker):\n",
    "    if ticker is None:\n",
    "        return {}\n",
    "    else:\n",
    "        price= yf.Ticker(ticker).history(period= \"1d\", interval= \"15m\").reset_index()\n",
    "        if len(price) > 0:\n",
    "            fig = go.Figure(data= go.Candlestick(x= price[\"Datetime\"], \n",
    "                                                 open= price[\"Open\"], \n",
    "                                                 high= price[\"High\"], \n",
    "                                                 low= price[\"Low\"], \n",
    "                                                 close= price[\"Close\"]\n",
    "                                                ))\n",
    "            return fig\n",
    "        else:\n",
    "            return {}\n",
    "\n",
    "\n",
    "\n",
    "if __name__ == \"__main__\":\n",
    "    app.run_server(debug= True)"
   ]
  }
 ],
 "metadata": {
  "kernelspec": {
   "display_name": "Python 3 (ipykernel)",
   "language": "python",
   "name": "python3"
  },
  "language_info": {
   "codemirror_mode": {
    "name": "ipython",
    "version": 3
   },
   "file_extension": ".py",
   "mimetype": "text/x-python",
   "name": "python",
   "nbconvert_exporter": "python",
   "pygments_lexer": "ipython3",
   "version": "3.12.1"
  }
 },
 "nbformat": 4,
 "nbformat_minor": 5
}
