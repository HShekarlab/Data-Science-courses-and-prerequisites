{
 "cells": [
  {
   "cell_type": "code",
   "execution_count": 1,
   "id": "af2bafbc-574b-4d87-ab52-0d15a1dd8226",
   "metadata": {},
   "outputs": [],
   "source": [
    "import polars as pl"
   ]
  },
  {
   "cell_type": "code",
   "execution_count": 2,
   "id": "fa73300b-c5d4-42b4-8c4c-b5faa516dbf1",
   "metadata": {},
   "outputs": [],
   "source": [
    "df = pl.read_csv(\"weather.csv\", has_header= True)"
   ]
  },
  {
   "cell_type": "code",
   "execution_count": 3,
   "id": "eefc26d6-cccb-456f-aa5a-f930107df3a2",
   "metadata": {},
   "outputs": [
    {
     "data": {
      "text/html": [
       "<div><style>\n",
       ".dataframe > thead > tr,\n",
       ".dataframe > tbody > tr {\n",
       "  text-align: right;\n",
       "  white-space: pre-wrap;\n",
       "}\n",
       "</style>\n",
       "<small>shape: (6, 3)</small><table border=\"1\" class=\"dataframe\"><thead><tr><th>Station.City</th><th>Data.Temperature.Avg Temp</th><th>City &amp; Temperature</th></tr><tr><td>str</td><td>i64</td><td>i32</td></tr></thead><tbody><tr><td>&quot;Birmingham&quot;</td><td>39</td><td>1</td></tr><tr><td>&quot;Huntsville&quot;</td><td>39</td><td>0</td></tr><tr><td>&quot;Mobile&quot;</td><td>46</td><td>0</td></tr><tr><td>&quot;Montgomery&quot;</td><td>45</td><td>1</td></tr><tr><td>&quot;Anchorage&quot;</td><td>34</td><td>0</td></tr><tr><td>&quot;Annette&quot;</td><td>38</td><td>0</td></tr></tbody></table></div>"
      ],
      "text/plain": [
       "shape: (6, 3)\n",
       "┌──────────────┬───────────────────────────┬────────────────────┐\n",
       "│ Station.City ┆ Data.Temperature.Avg Temp ┆ City & Temperature │\n",
       "│ ---          ┆ ---                       ┆ ---                │\n",
       "│ str          ┆ i64                       ┆ i32                │\n",
       "╞══════════════╪═══════════════════════════╪════════════════════╡\n",
       "│ Birmingham   ┆ 39                        ┆ 1                  │\n",
       "│ Huntsville   ┆ 39                        ┆ 0                  │\n",
       "│ Mobile       ┆ 46                        ┆ 0                  │\n",
       "│ Montgomery   ┆ 45                        ┆ 1                  │\n",
       "│ Anchorage    ┆ 34                        ┆ 0                  │\n",
       "│ Annette      ┆ 38                        ┆ 0                  │\n",
       "└──────────────┴───────────────────────────┴────────────────────┘"
      ]
     },
     "execution_count": 3,
     "metadata": {},
     "output_type": "execute_result"
    }
   ],
   "source": [
    "city = [\"Montgomery\", \"Birmingham\"]\n",
    "\n",
    "df.select(\n",
    "          pl.col(\"Station.City\"), pl.col(\"Data.Temperature.Avg Temp\"),\n",
    "          pl.when( (pl.col(\"Station.City\").is_in(city)) & (pl.col(\"Data.Temperature.Avg Temp\") > 35) )\n",
    "            .then(pl.lit(1))\n",
    "            .otherwise(pl.lit(0))\n",
    "          .alias(\"City & Temperature\")\n",
    ").head(6)"
   ]
  },
  {
   "cell_type": "code",
   "execution_count": 4,
   "id": "a591928b-ce15-41aa-8520-af40d915b192",
   "metadata": {},
   "outputs": [
    {
     "data": {
      "text/html": [
       "<div><style>\n",
       ".dataframe > thead > tr,\n",
       ".dataframe > tbody > tr {\n",
       "  text-align: right;\n",
       "  white-space: pre-wrap;\n",
       "}\n",
       "</style>\n",
       "<small>shape: (6, 3)</small><table border=\"1\" class=\"dataframe\"><thead><tr><th>Station.City</th><th>Data.Temperature.Avg Temp</th><th>City &amp; Temperature</th></tr><tr><td>str</td><td>i64</td><td>i32</td></tr></thead><tbody><tr><td>&quot;Birmingham&quot;</td><td>39</td><td>1</td></tr><tr><td>&quot;Huntsville&quot;</td><td>39</td><td>1</td></tr><tr><td>&quot;Mobile&quot;</td><td>46</td><td>1</td></tr><tr><td>&quot;Montgomery&quot;</td><td>45</td><td>1</td></tr><tr><td>&quot;Anchorage&quot;</td><td>34</td><td>0</td></tr><tr><td>&quot;Annette&quot;</td><td>38</td><td>1</td></tr></tbody></table></div>"
      ],
      "text/plain": [
       "shape: (6, 3)\n",
       "┌──────────────┬───────────────────────────┬────────────────────┐\n",
       "│ Station.City ┆ Data.Temperature.Avg Temp ┆ City & Temperature │\n",
       "│ ---          ┆ ---                       ┆ ---                │\n",
       "│ str          ┆ i64                       ┆ i32                │\n",
       "╞══════════════╪═══════════════════════════╪════════════════════╡\n",
       "│ Birmingham   ┆ 39                        ┆ 1                  │\n",
       "│ Huntsville   ┆ 39                        ┆ 1                  │\n",
       "│ Mobile       ┆ 46                        ┆ 1                  │\n",
       "│ Montgomery   ┆ 45                        ┆ 1                  │\n",
       "│ Anchorage    ┆ 34                        ┆ 0                  │\n",
       "│ Annette      ┆ 38                        ┆ 1                  │\n",
       "└──────────────┴───────────────────────────┴────────────────────┘"
      ]
     },
     "execution_count": 4,
     "metadata": {},
     "output_type": "execute_result"
    }
   ],
   "source": [
    "city = [\"Montgomery\", \"Birmingham\"]\n",
    "\n",
    "df.select(\n",
    "          pl.col(\"Station.City\"), pl.col(\"Data.Temperature.Avg Temp\"),\n",
    "          pl.when( (pl.col(\"Station.City\").is_in(city)) | (pl.col(\"Data.Temperature.Avg Temp\") > 35) )\n",
    "            .then(pl.lit(1))\n",
    "            .otherwise(pl.lit(0))\n",
    "          .alias(\"City & Temperature\")\n",
    ").head(6)"
   ]
  }
 ],
 "metadata": {
  "kernelspec": {
   "display_name": "Python 3 (ipykernel)",
   "language": "python",
   "name": "python3"
  },
  "language_info": {
   "codemirror_mode": {
    "name": "ipython",
    "version": 3
   },
   "file_extension": ".py",
   "mimetype": "text/x-python",
   "name": "python",
   "nbconvert_exporter": "python",
   "pygments_lexer": "ipython3",
   "version": "3.12.1"
  }
 },
 "nbformat": 4,
 "nbformat_minor": 5
}
