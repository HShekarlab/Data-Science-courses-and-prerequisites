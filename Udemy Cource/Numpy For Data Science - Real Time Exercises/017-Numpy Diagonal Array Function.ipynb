{
 "cells": [
  {
   "cell_type": "markdown",
   "id": "c5a01f0a-c523-4df1-bbec-6b418f36436b",
   "metadata": {},
   "source": [
    "#### Diagonal Function - It is used to extract the diagonal elements of an array, or , used to construct a new diagonal array"
   ]
  },
  {
   "cell_type": "markdown",
   "id": "22761f25-2e2a-45c4-bfad-88cc09dcfeaf",
   "metadata": {},
   "source": [
    "#### Syntax :\n",
    "    np.diag(a, k)"
   ]
  },
  {
   "cell_type": "markdown",
   "id": "d37b1b96-e5d1-4eb7-94d6-ba4ea19d8346",
   "metadata": {},
   "source": [
    "#### Note :\n",
    "- If 'a' is a 2-D array, it extracts the diagonal elements. \n",
    "- If 'a' is a 1-D array, it constructs a 2-D array with elements of 'a' on diagonal.\n",
    "- By default, k is 0. Use k>0 for diagonals above the main diagonal. Use k<0 for diagonals below the main diagonal."
   ]
  },
  {
   "cell_type": "code",
   "execution_count": 1,
   "id": "69e80a31-ae93-4b36-94c4-ae25502d091c",
   "metadata": {},
   "outputs": [],
   "source": [
    "import numpy as np"
   ]
  },
  {
   "cell_type": "code",
   "execution_count": 2,
   "id": "9aa88e50-de9b-4612-9bf5-c17aeb52b250",
   "metadata": {},
   "outputs": [
    {
     "data": {
      "text/plain": [
       "array([[1, 2, 3],\n",
       "       [4, 5, 6],\n",
       "       [7, 8, 9]])"
      ]
     },
     "execution_count": 2,
     "metadata": {},
     "output_type": "execute_result"
    }
   ],
   "source": [
    "A = np.array([[1, 2, 3], [4, 5, 6], [7, 8, 9]])\n",
    "A"
   ]
  },
  {
   "cell_type": "code",
   "execution_count": 3,
   "id": "4f1f4275-2410-4ef3-bd49-3a51f5f92964",
   "metadata": {},
   "outputs": [
    {
     "data": {
      "text/plain": [
       "2"
      ]
     },
     "execution_count": 3,
     "metadata": {},
     "output_type": "execute_result"
    }
   ],
   "source": [
    "A.ndim"
   ]
  },
  {
   "cell_type": "code",
   "execution_count": 4,
   "id": "d75e6e8f-850c-4391-b5a0-f632c63372a6",
   "metadata": {},
   "outputs": [
    {
     "data": {
      "text/plain": [
       "array([1, 5, 9])"
      ]
     },
     "execution_count": 4,
     "metadata": {},
     "output_type": "execute_result"
    }
   ],
   "source": [
    "np.diag(A)"
   ]
  },
  {
   "cell_type": "code",
   "execution_count": 5,
   "id": "050ea1e3-6d32-419a-bf9b-775dff67ac7f",
   "metadata": {},
   "outputs": [
    {
     "data": {
      "text/plain": [
       "array([1, 5, 9])"
      ]
     },
     "execution_count": 5,
     "metadata": {},
     "output_type": "execute_result"
    }
   ],
   "source": [
    "np.diag(A, k= 0)"
   ]
  },
  {
   "cell_type": "code",
   "execution_count": 6,
   "id": "29034c39-7229-4aee-9597-2cce5cc6196d",
   "metadata": {},
   "outputs": [
    {
     "data": {
      "text/plain": [
       "array([2, 6])"
      ]
     },
     "execution_count": 6,
     "metadata": {},
     "output_type": "execute_result"
    }
   ],
   "source": [
    "np.diag(A, k= 1)"
   ]
  },
  {
   "cell_type": "code",
   "execution_count": 7,
   "id": "bc7ecbf5-9381-4824-a136-305cd638947d",
   "metadata": {},
   "outputs": [
    {
     "data": {
      "text/plain": [
       "array([3])"
      ]
     },
     "execution_count": 7,
     "metadata": {},
     "output_type": "execute_result"
    }
   ],
   "source": [
    "np.diag(A, k= 2)"
   ]
  },
  {
   "cell_type": "code",
   "execution_count": 8,
   "id": "333ce27f-3f0d-483e-a74d-3b80ee7ca77a",
   "metadata": {},
   "outputs": [
    {
     "data": {
      "text/plain": [
       "array([4, 8])"
      ]
     },
     "execution_count": 8,
     "metadata": {},
     "output_type": "execute_result"
    }
   ],
   "source": [
    "np.diag(A, k= -1)"
   ]
  },
  {
   "cell_type": "code",
   "execution_count": 9,
   "id": "a8a2a190-d04e-4dc9-a096-43030937336e",
   "metadata": {},
   "outputs": [
    {
     "data": {
      "text/plain": [
       "array([7])"
      ]
     },
     "execution_count": 9,
     "metadata": {},
     "output_type": "execute_result"
    }
   ],
   "source": [
    "np.diag(A, k= -2)"
   ]
  },
  {
   "cell_type": "code",
   "execution_count": 10,
   "id": "89621714-a7a2-415d-904c-989c55947dac",
   "metadata": {},
   "outputs": [
    {
     "data": {
      "text/plain": [
       "array([11, 22, 33, 44, 55])"
      ]
     },
     "execution_count": 10,
     "metadata": {},
     "output_type": "execute_result"
    }
   ],
   "source": [
    "B = np.array([11, 22, 33, 44, 55])\n",
    "B"
   ]
  },
  {
   "cell_type": "code",
   "execution_count": 11,
   "id": "fc1d6bc4-add5-4189-b4d3-b29661cb66a8",
   "metadata": {},
   "outputs": [
    {
     "data": {
      "text/plain": [
       "1"
      ]
     },
     "execution_count": 11,
     "metadata": {},
     "output_type": "execute_result"
    }
   ],
   "source": [
    "B.ndim"
   ]
  },
  {
   "cell_type": "code",
   "execution_count": 12,
   "id": "7b57de3b-1af3-40c9-ba0d-e9b78813611c",
   "metadata": {},
   "outputs": [
    {
     "data": {
      "text/plain": [
       "array([[11,  0,  0,  0,  0],\n",
       "       [ 0, 22,  0,  0,  0],\n",
       "       [ 0,  0, 33,  0,  0],\n",
       "       [ 0,  0,  0, 44,  0],\n",
       "       [ 0,  0,  0,  0, 55]])"
      ]
     },
     "execution_count": 12,
     "metadata": {},
     "output_type": "execute_result"
    }
   ],
   "source": [
    "np.diag(B)"
   ]
  },
  {
   "cell_type": "code",
   "execution_count": 13,
   "id": "67a7a8a3-ba04-489d-bd39-da1c675b5d08",
   "metadata": {},
   "outputs": [
    {
     "data": {
      "text/plain": [
       "array([[11,  0,  0,  0,  0],\n",
       "       [ 0, 22,  0,  0,  0],\n",
       "       [ 0,  0, 33,  0,  0],\n",
       "       [ 0,  0,  0, 44,  0],\n",
       "       [ 0,  0,  0,  0, 55]])"
      ]
     },
     "execution_count": 13,
     "metadata": {},
     "output_type": "execute_result"
    }
   ],
   "source": [
    "np.diag(B, k= 0)"
   ]
  },
  {
   "cell_type": "code",
   "execution_count": 14,
   "id": "46bbeec2-d67e-4e1d-8629-6acfd030ae0a",
   "metadata": {},
   "outputs": [
    {
     "data": {
      "text/plain": [
       "array([[ 0, 11,  0,  0,  0,  0],\n",
       "       [ 0,  0, 22,  0,  0,  0],\n",
       "       [ 0,  0,  0, 33,  0,  0],\n",
       "       [ 0,  0,  0,  0, 44,  0],\n",
       "       [ 0,  0,  0,  0,  0, 55],\n",
       "       [ 0,  0,  0,  0,  0,  0]])"
      ]
     },
     "execution_count": 14,
     "metadata": {},
     "output_type": "execute_result"
    }
   ],
   "source": [
    "np.diag(B, k= 1)"
   ]
  },
  {
   "cell_type": "code",
   "execution_count": 15,
   "id": "ef0147d8-79c4-48c6-b186-08faa308b159",
   "metadata": {},
   "outputs": [
    {
     "data": {
      "text/plain": [
       "array([[ 0,  0, 11,  0,  0,  0,  0],\n",
       "       [ 0,  0,  0, 22,  0,  0,  0],\n",
       "       [ 0,  0,  0,  0, 33,  0,  0],\n",
       "       [ 0,  0,  0,  0,  0, 44,  0],\n",
       "       [ 0,  0,  0,  0,  0,  0, 55],\n",
       "       [ 0,  0,  0,  0,  0,  0,  0],\n",
       "       [ 0,  0,  0,  0,  0,  0,  0]])"
      ]
     },
     "execution_count": 15,
     "metadata": {},
     "output_type": "execute_result"
    }
   ],
   "source": [
    "np.diag(B, k= 2)"
   ]
  },
  {
   "cell_type": "code",
   "execution_count": 16,
   "id": "3f3ea5b9-e044-4854-874a-b2bd2115cbbf",
   "metadata": {},
   "outputs": [
    {
     "data": {
      "text/plain": [
       "array([[ 0,  0,  0, 11,  0,  0,  0,  0],\n",
       "       [ 0,  0,  0,  0, 22,  0,  0,  0],\n",
       "       [ 0,  0,  0,  0,  0, 33,  0,  0],\n",
       "       [ 0,  0,  0,  0,  0,  0, 44,  0],\n",
       "       [ 0,  0,  0,  0,  0,  0,  0, 55],\n",
       "       [ 0,  0,  0,  0,  0,  0,  0,  0],\n",
       "       [ 0,  0,  0,  0,  0,  0,  0,  0],\n",
       "       [ 0,  0,  0,  0,  0,  0,  0,  0]])"
      ]
     },
     "execution_count": 16,
     "metadata": {},
     "output_type": "execute_result"
    }
   ],
   "source": [
    "np.diag(B, k= 3)"
   ]
  },
  {
   "cell_type": "code",
   "execution_count": 17,
   "id": "79c59aca-9c25-480a-a00f-b2c5017b7c70",
   "metadata": {},
   "outputs": [
    {
     "data": {
      "text/plain": [
       "array([[ 0,  0,  0,  0, 11,  0,  0,  0,  0],\n",
       "       [ 0,  0,  0,  0,  0, 22,  0,  0,  0],\n",
       "       [ 0,  0,  0,  0,  0,  0, 33,  0,  0],\n",
       "       [ 0,  0,  0,  0,  0,  0,  0, 44,  0],\n",
       "       [ 0,  0,  0,  0,  0,  0,  0,  0, 55],\n",
       "       [ 0,  0,  0,  0,  0,  0,  0,  0,  0],\n",
       "       [ 0,  0,  0,  0,  0,  0,  0,  0,  0],\n",
       "       [ 0,  0,  0,  0,  0,  0,  0,  0,  0],\n",
       "       [ 0,  0,  0,  0,  0,  0,  0,  0,  0]])"
      ]
     },
     "execution_count": 17,
     "metadata": {},
     "output_type": "execute_result"
    }
   ],
   "source": [
    "np.diag(B, k= 4)"
   ]
  },
  {
   "cell_type": "code",
   "execution_count": 18,
   "id": "81acfdc0-99a3-4e0a-a0cf-1ccd1a2b2b91",
   "metadata": {},
   "outputs": [
    {
     "data": {
      "text/plain": [
       "array([[ 0,  0,  0,  0,  0,  0],\n",
       "       [11,  0,  0,  0,  0,  0],\n",
       "       [ 0, 22,  0,  0,  0,  0],\n",
       "       [ 0,  0, 33,  0,  0,  0],\n",
       "       [ 0,  0,  0, 44,  0,  0],\n",
       "       [ 0,  0,  0,  0, 55,  0]])"
      ]
     },
     "execution_count": 18,
     "metadata": {},
     "output_type": "execute_result"
    }
   ],
   "source": [
    "np.diag(B, k= -1)"
   ]
  },
  {
   "cell_type": "code",
   "execution_count": 19,
   "id": "70950f32-835b-49d3-b90a-b09193d8a5b8",
   "metadata": {},
   "outputs": [
    {
     "data": {
      "text/plain": [
       "array([[ 0,  0,  0,  0,  0,  0,  0],\n",
       "       [ 0,  0,  0,  0,  0,  0,  0],\n",
       "       [11,  0,  0,  0,  0,  0,  0],\n",
       "       [ 0, 22,  0,  0,  0,  0,  0],\n",
       "       [ 0,  0, 33,  0,  0,  0,  0],\n",
       "       [ 0,  0,  0, 44,  0,  0,  0],\n",
       "       [ 0,  0,  0,  0, 55,  0,  0]])"
      ]
     },
     "execution_count": 19,
     "metadata": {},
     "output_type": "execute_result"
    }
   ],
   "source": [
    "np.diag(B, k= -2)"
   ]
  },
  {
   "cell_type": "code",
   "execution_count": 20,
   "id": "4612fd1b-b08f-4809-af03-910dfe453da2",
   "metadata": {},
   "outputs": [
    {
     "data": {
      "text/plain": [
       "array([[ 0,  0,  0,  0,  0,  0,  0,  0,  0,  0],\n",
       "       [ 0,  0,  0,  0,  0,  0,  0,  0,  0,  0],\n",
       "       [ 0,  0,  0,  0,  0,  0,  0,  0,  0,  0],\n",
       "       [ 0,  0,  0,  0,  0,  0,  0,  0,  0,  0],\n",
       "       [ 0,  0,  0,  0,  0,  0,  0,  0,  0,  0],\n",
       "       [11,  0,  0,  0,  0,  0,  0,  0,  0,  0],\n",
       "       [ 0, 22,  0,  0,  0,  0,  0,  0,  0,  0],\n",
       "       [ 0,  0, 33,  0,  0,  0,  0,  0,  0,  0],\n",
       "       [ 0,  0,  0, 44,  0,  0,  0,  0,  0,  0],\n",
       "       [ 0,  0,  0,  0, 55,  0,  0,  0,  0,  0]])"
      ]
     },
     "execution_count": 20,
     "metadata": {},
     "output_type": "execute_result"
    }
   ],
   "source": [
    "np.diag(B, k= -5)"
   ]
  },
  {
   "cell_type": "code",
   "execution_count": 21,
   "id": "de2e74cf-b910-4e2d-a9d1-e042771154c9",
   "metadata": {},
   "outputs": [
    {
     "data": {
      "text/plain": [
       "array([[[-1.17753035, -0.06305667, -0.8525808 , -1.00574451],\n",
       "        [-1.54274235, -0.58834659,  0.23034739, -4.05230341],\n",
       "        [ 0.71360226,  0.00446789, -0.1375678 ,  1.20356832]],\n",
       "\n",
       "       [[ 1.98737268, -0.46166593,  0.21732031,  1.65428942],\n",
       "        [ 0.09579511, -0.18113642,  0.7929917 , -1.43658724],\n",
       "        [-0.41736787,  0.53418146,  0.89902188,  1.68432671]]])"
      ]
     },
     "execution_count": 21,
     "metadata": {},
     "output_type": "execute_result"
    }
   ],
   "source": [
    "x = np.random.randn(2, 3, 4)\n",
    "x"
   ]
  },
  {
   "cell_type": "code",
   "execution_count": 22,
   "id": "12b8d792-091c-458d-80c1-c921a905e397",
   "metadata": {},
   "outputs": [
    {
     "ename": "ValueError",
     "evalue": "Input must be 1- or 2-d.",
     "output_type": "error",
     "traceback": [
      "\u001b[1;31m---------------------------------------------------------------------------\u001b[0m",
      "\u001b[1;31mValueError\u001b[0m                                Traceback (most recent call last)",
      "Cell \u001b[1;32mIn[22], line 1\u001b[0m\n\u001b[1;32m----> 1\u001b[0m \u001b[43mnp\u001b[49m\u001b[38;5;241;43m.\u001b[39;49m\u001b[43mdiag\u001b[49m\u001b[43m(\u001b[49m\u001b[43mx\u001b[49m\u001b[43m)\u001b[49m\n",
      "File \u001b[1;32m<__array_function__ internals>:200\u001b[0m, in \u001b[0;36mdiag\u001b[1;34m(*args, **kwargs)\u001b[0m\n",
      "File \u001b[1;32m~\\AppData\\Local\\Programs\\Python\\Python310\\lib\\site-packages\\numpy\\lib\\twodim_base.py:309\u001b[0m, in \u001b[0;36mdiag\u001b[1;34m(v, k)\u001b[0m\n\u001b[0;32m    307\u001b[0m     \u001b[38;5;28;01mreturn\u001b[39;00m diagonal(v, k)\n\u001b[0;32m    308\u001b[0m \u001b[38;5;28;01melse\u001b[39;00m:\n\u001b[1;32m--> 309\u001b[0m     \u001b[38;5;28;01mraise\u001b[39;00m \u001b[38;5;167;01mValueError\u001b[39;00m(\u001b[38;5;124m\"\u001b[39m\u001b[38;5;124mInput must be 1- or 2-d.\u001b[39m\u001b[38;5;124m\"\u001b[39m)\n",
      "\u001b[1;31mValueError\u001b[0m: Input must be 1- or 2-d."
     ]
    }
   ],
   "source": [
    "np.diag(x)"
   ]
  }
 ],
 "metadata": {
  "kernelspec": {
   "display_name": "Python 3 (ipykernel)",
   "language": "python",
   "name": "python3"
  },
  "language_info": {
   "codemirror_mode": {
    "name": "ipython",
    "version": 3
   },
   "file_extension": ".py",
   "mimetype": "text/x-python",
   "name": "python",
   "nbconvert_exporter": "python",
   "pygments_lexer": "ipython3",
   "version": "3.10.7"
  }
 },
 "nbformat": 4,
 "nbformat_minor": 5
}
