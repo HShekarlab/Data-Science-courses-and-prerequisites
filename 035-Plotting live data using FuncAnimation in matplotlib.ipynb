{
 "cells": [
  {
   "cell_type": "code",
   "execution_count": 1,
   "id": "305b8a36-7107-4a68-a2bb-f81c6c5fbf43",
   "metadata": {},
   "outputs": [],
   "source": [
    "import numpy as np\n",
    "import matplotlib.pyplot as plt\n",
    "import matplotlib.animation as animation\n",
    "from IPython.display import HTML\n",
    "%matplotlib inline"
   ]
  },
  {
   "cell_type": "code",
   "execution_count": 2,
   "id": "40e2f5bd-ab1d-4423-9506-f3123f757e14",
   "metadata": {},
   "outputs": [
    {
     "name": "stderr",
     "output_type": "stream",
     "text": [
      "C:\\Users\\H_PC\\AppData\\Local\\Temp\\ipykernel_7084\\1758609548.py:13: UserWarning: frames=None which we can infer the length of, did not pass an explicit *save_count* and passed cache_frame_data=True.  To avoid a possibly unbounded cache, frame data caching has been disabled. To suppress this warning either pass `cache_frame_data=False` or `save_count=MAX_FRAMES`.\n",
      "  anim = animation.FuncAnimation(fig, animate, interval= 1000)\n"
     ]
    },
    {
     "data": {
      "text/plain": [
       "<Figure size 500x500 with 0 Axes>"
      ]
     },
     "metadata": {},
     "output_type": "display_data"
    },
    {
     "data": {
      "image/png": "[encoded data removed]",
      "text/plain": [
       "<Figure size 640x480 with 1 Axes>"
      ]
     },
     "metadata": {},
     "output_type": "display_data"
    }
   ],
   "source": [
    "x_data = []\n",
    "y_data = []\n",
    "\n",
    "plt.figure(figsize= (5, 5))\n",
    "fig, ax = plt.subplots()\n",
    "\n",
    "def animate(i):\n",
    "    x_data.append(i)\n",
    "    y_data.append(np.random.randn())\n",
    "    ax.clear()\n",
    "    ax.plot(x_data, y_data)\n",
    "\n",
    "anim = animation.FuncAnimation(fig, animate, interval= 1000)"
   ]
  },
  {
   "cell_type": "code",
   "execution_count": 3,
   "id": "ffbd2556-ab0d-4437-a07a-ca9ec3b380e7",
   "metadata": {},
   "outputs": [],
   "source": [
    "x_data = []\n",
    "y_data = []\n",
    "\n",
    "plt.figure(figsize= (5, 5))\n",
    "fig, ax = plt.subplots()\n",
    "\n",
    "def animate(i):\n",
    "    x_data.append(i)\n",
    "    y_data.append(np.random.randn())\n",
    "    ax.clear()\n",
    "    ax.plot(x_data, y_data)\n",
    "\n",
    "anim = animation.FuncAnimation(fig, animate, interval= 5)\n",
    "HTML(anim.to_jshtml())"
   ]
  },
  {
   "cell_type": "code",
   "execution_count": 4,
   "id": "1d9d0f42-e7b7-4a97-917b-0cbc23a83df6",
   "metadata": {},
   "outputs": [],
   "source": [
    "x_data = []\n",
    "y_data = []\n",
    "\n",
    "plt.figure(figsize= (5, 5))\n",
    "fig, ax = plt.subplots()\n",
    "\n",
    "def animate(i):\n",
    "    x_data.append(i)\n",
    "    y_data.append(np.random.randn())\n",
    "    ax.clear()\n",
    "    ax.plot(x_data, y_data)\n",
    "\n",
    "anim = animation.FuncAnimation(fig, animate, interval= 5)\n",
    "plt.close()\n",
    "HTML(anim.to_jshtml())"
   ]
  }
 ],
 "metadata": {
  "kernelspec": {
   "display_name": "Python 3 (ipykernel)",
   "language": "python",
   "name": "python3"
  },
  "language_info": {
   "codemirror_mode": {
    "name": "ipython",
    "version": 3
   },
   "file_extension": ".py",
   "mimetype": "text/x-python",
   "name": "python",
   "nbconvert_exporter": "python",
   "pygments_lexer": "ipython3",
   "version": "3.10.7"
  }
 },
 "nbformat": 4,
 "nbformat_minor": 5
}
