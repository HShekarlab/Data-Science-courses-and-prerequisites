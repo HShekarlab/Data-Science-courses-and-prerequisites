{
 "cells": [
  {
   "cell_type": "markdown",
   "id": "2f300ddd-2937-4aae-a9ee-cf7dd76e6a74",
   "metadata": {},
   "source": [
    "Indexing is used to obtain particular element(s) or row(s) or column(s) from the numpy array(s)"
   ]
  },
  {
   "cell_type": "markdown",
   "id": "6c795fbf-f7e6-4e53-9bbd-1df62e23b2e2",
   "metadata": {},
   "source": [
    "Here, we pass the Index of the element to access it"
   ]
  },
  {
   "cell_type": "markdown",
   "id": "ca2652ce-2557-4214-adc8-883b2200ce14",
   "metadata": {},
   "source": [
    "The Index starts from 0, not from 1"
   ]
  },
  {
   "cell_type": "markdown",
   "id": "f8fcf935-f10a-4e70-9ef4-f916d53c2250",
   "metadata": {},
   "source": [
    "It returns elements till \"stop index - 1\" index"
   ]
  },
  {
   "cell_type": "code",
   "execution_count": 1,
   "id": "0fba41f7-f0c7-4819-8cfc-2c4d81fdae0d",
   "metadata": {},
   "outputs": [],
   "source": [
    "import numpy as np"
   ]
  },
  {
   "cell_type": "markdown",
   "id": "3b6ab718-837b-4caa-9f9a-6c30dddba1a6",
   "metadata": {},
   "source": [
    "#### Indexing in 1-D Array"
   ]
  },
  {
   "cell_type": "raw",
   "id": "0700e53b-1263-4a90-9852-8dc295ada8fd",
   "metadata": {},
   "source": [
    "Format : array[start index : stop index]"
   ]
  },
  {
   "cell_type": "code",
   "execution_count": 2,
   "id": "a2f54085-cb19-44fa-b282-005dbef4617e",
   "metadata": {},
   "outputs": [
    {
     "data": {
      "text/plain": [
       "array([ 5, 36, 11, 23, 98, 43,  9, 85])"
      ]
     },
     "execution_count": 2,
     "metadata": {},
     "output_type": "execute_result"
    }
   ],
   "source": [
    "A = np.array([5, 36, 11, 23, 98, 43, 9, 85])\n",
    "A"
   ]
  },
  {
   "cell_type": "code",
   "execution_count": 3,
   "id": "c311d9b0-4021-4615-9204-1355683e5229",
   "metadata": {},
   "outputs": [
    {
     "data": {
      "text/plain": [
       "5"
      ]
     },
     "execution_count": 3,
     "metadata": {},
     "output_type": "execute_result"
    }
   ],
   "source": [
    "A[0]"
   ]
  },
  {
   "cell_type": "code",
   "execution_count": 4,
   "id": "6606a647-4760-4805-82c8-56c9df549739",
   "metadata": {},
   "outputs": [
    {
     "data": {
      "text/plain": [
       "23"
      ]
     },
     "execution_count": 4,
     "metadata": {},
     "output_type": "execute_result"
    }
   ],
   "source": [
    "A[3]"
   ]
  },
  {
   "cell_type": "code",
   "execution_count": 5,
   "id": "003dd276-23f6-4287-8282-814f3bd1f973",
   "metadata": {},
   "outputs": [
    {
     "ename": "IndexError",
     "evalue": "index 15 is out of bounds for axis 0 with size 8",
     "output_type": "error",
     "traceback": [
      "\u001b[1;31m---------------------------------------------------------------------------\u001b[0m",
      "\u001b[1;31mIndexError\u001b[0m                                Traceback (most recent call last)",
      "Cell \u001b[1;32mIn[5], line 1\u001b[0m\n\u001b[1;32m----> 1\u001b[0m \u001b[43mA\u001b[49m\u001b[43m[\u001b[49m\u001b[38;5;241;43m15\u001b[39;49m\u001b[43m]\u001b[49m\n",
      "\u001b[1;31mIndexError\u001b[0m: index 15 is out of bounds for axis 0 with size 8"
     ]
    }
   ],
   "source": [
    "A[15]"
   ]
  },
  {
   "cell_type": "code",
   "execution_count": 6,
   "id": "5ef51a4b-b0c0-451e-a726-c8be2e4e392b",
   "metadata": {},
   "outputs": [
    {
     "data": {
      "text/plain": [
       "array([ 5, 36, 11, 23, 98, 43,  9, 85])"
      ]
     },
     "execution_count": 6,
     "metadata": {},
     "output_type": "execute_result"
    }
   ],
   "source": [
    "A[:]"
   ]
  },
  {
   "cell_type": "code",
   "execution_count": 7,
   "id": "cd132f42-6677-4e2a-8560-233919c2d22f",
   "metadata": {},
   "outputs": [
    {
     "data": {
      "text/plain": [
       "array([36, 11, 23, 98, 43,  9, 85])"
      ]
     },
     "execution_count": 7,
     "metadata": {},
     "output_type": "execute_result"
    }
   ],
   "source": [
    "A[1:]"
   ]
  },
  {
   "cell_type": "code",
   "execution_count": 8,
   "id": "536fa0f2-2341-495e-9597-ab2a76d4fffe",
   "metadata": {},
   "outputs": [
    {
     "data": {
      "text/plain": [
       "array([11, 23, 98, 43,  9, 85])"
      ]
     },
     "execution_count": 8,
     "metadata": {},
     "output_type": "execute_result"
    }
   ],
   "source": [
    "A[2:]"
   ]
  },
  {
   "cell_type": "code",
   "execution_count": 9,
   "id": "e0959ea5-36ee-4301-9945-64d20c1f7bec",
   "metadata": {},
   "outputs": [
    {
     "data": {
      "text/plain": [
       "array([5])"
      ]
     },
     "execution_count": 9,
     "metadata": {},
     "output_type": "execute_result"
    }
   ],
   "source": [
    "A[: 1]"
   ]
  },
  {
   "cell_type": "code",
   "execution_count": 10,
   "id": "227f5e80-453f-4866-96b8-b4f4b7852774",
   "metadata": {},
   "outputs": [
    {
     "data": {
      "text/plain": [
       "array([ 5, 36, 11, 23, 98, 43])"
      ]
     },
     "execution_count": 10,
     "metadata": {},
     "output_type": "execute_result"
    }
   ],
   "source": [
    "A[: 6]"
   ]
  },
  {
   "cell_type": "code",
   "execution_count": 11,
   "id": "28013f91-1894-4f20-91b4-136771adcb3f",
   "metadata": {},
   "outputs": [
    {
     "data": {
      "text/plain": [
       "array([ 5, 36, 11, 23])"
      ]
     },
     "execution_count": 11,
     "metadata": {},
     "output_type": "execute_result"
    }
   ],
   "source": [
    "A[: 4]"
   ]
  },
  {
   "cell_type": "code",
   "execution_count": 12,
   "id": "c39a55ea-4e56-4673-9c0b-2d6308fbc2c4",
   "metadata": {},
   "outputs": [
    {
     "data": {
      "text/plain": [
       "array([11])"
      ]
     },
     "execution_count": 12,
     "metadata": {},
     "output_type": "execute_result"
    }
   ],
   "source": [
    "A[2: 3]"
   ]
  },
  {
   "cell_type": "code",
   "execution_count": 13,
   "id": "e439ed3e-d2fd-4ffb-adfc-6a9700676b86",
   "metadata": {},
   "outputs": [
    {
     "data": {
      "text/plain": [
       "array([ 9, 85])"
      ]
     },
     "execution_count": 13,
     "metadata": {},
     "output_type": "execute_result"
    }
   ],
   "source": [
    "A[6: 8]"
   ]
  },
  {
   "cell_type": "markdown",
   "id": "a594a10e-cbd0-4010-a9b8-739365620d04",
   "metadata": {},
   "source": [
    "#### Indexing in 2-D Array"
   ]
  },
  {
   "cell_type": "raw",
   "id": "70738ef7-213a-4e5a-b949-a3a023cb5590",
   "metadata": {},
   "source": [
    "Format : array[row_indexing, column_indexing]"
   ]
  },
  {
   "cell_type": "code",
   "execution_count": 14,
   "id": "4bc0fe4d-f4d6-47fd-b8a1-d54b8677870f",
   "metadata": {},
   "outputs": [
    {
     "data": {
      "text/plain": [
       "array([[11, 12, 13, 14],\n",
       "       [15, 16, 17, 18]])"
      ]
     },
     "execution_count": 14,
     "metadata": {},
     "output_type": "execute_result"
    }
   ],
   "source": [
    "B = np.array([[11, 12, 13, 14], [15, 16, 17, 18]])\n",
    "B"
   ]
  },
  {
   "cell_type": "code",
   "execution_count": 15,
   "id": "65186caf-1658-4953-b405-a12c4a2702cc",
   "metadata": {},
   "outputs": [
    {
     "data": {
      "text/plain": [
       "array([11, 12, 13, 14])"
      ]
     },
     "execution_count": 15,
     "metadata": {},
     "output_type": "execute_result"
    }
   ],
   "source": [
    "B[0]"
   ]
  },
  {
   "cell_type": "code",
   "execution_count": 16,
   "id": "d697b990-b3ed-4ff3-8458-40270fc044cc",
   "metadata": {},
   "outputs": [
    {
     "data": {
      "text/plain": [
       "array([15, 16, 17, 18])"
      ]
     },
     "execution_count": 16,
     "metadata": {},
     "output_type": "execute_result"
    }
   ],
   "source": [
    "B[1]"
   ]
  },
  {
   "cell_type": "code",
   "execution_count": 17,
   "id": "4d946f64-3e72-46a0-8e70-39422c2bab96",
   "metadata": {},
   "outputs": [
    {
     "data": {
      "text/plain": [
       "array([[11, 12, 13, 14],\n",
       "       [15, 16, 17, 18]])"
      ]
     },
     "execution_count": 17,
     "metadata": {},
     "output_type": "execute_result"
    }
   ],
   "source": [
    "B[:]"
   ]
  },
  {
   "cell_type": "code",
   "execution_count": 18,
   "id": "0e0fab61-e422-4dd3-ad41-b8a558f24066",
   "metadata": {},
   "outputs": [
    {
     "data": {
      "text/plain": [
       "array([12])"
      ]
     },
     "execution_count": 18,
     "metadata": {},
     "output_type": "execute_result"
    }
   ],
   "source": [
    "B[0, 1: 2]"
   ]
  },
  {
   "cell_type": "code",
   "execution_count": 19,
   "id": "247338e3-2aee-40a0-8834-e321c9bd4e5c",
   "metadata": {},
   "outputs": [
    {
     "data": {
      "text/plain": [
       "array([13, 14])"
      ]
     },
     "execution_count": 19,
     "metadata": {},
     "output_type": "execute_result"
    }
   ],
   "source": [
    "B[0, 2: 4]"
   ]
  },
  {
   "cell_type": "code",
   "execution_count": 20,
   "id": "2ecb96f6-7483-454f-9d6f-0a13713f377e",
   "metadata": {},
   "outputs": [
    {
     "data": {
      "text/plain": [
       "array([17])"
      ]
     },
     "execution_count": 20,
     "metadata": {},
     "output_type": "execute_result"
    }
   ],
   "source": [
    "B[1, 2: 3]"
   ]
  },
  {
   "cell_type": "code",
   "execution_count": 21,
   "id": "e08d6d5c-1d34-4828-9762-65ea921f0260",
   "metadata": {},
   "outputs": [
    {
     "data": {
      "text/plain": [
       "array([15, 16, 17, 18])"
      ]
     },
     "execution_count": 21,
     "metadata": {},
     "output_type": "execute_result"
    }
   ],
   "source": [
    "B[B > 14]"
   ]
  },
  {
   "cell_type": "code",
   "execution_count": 22,
   "id": "2d4b2b78-5107-40ce-a910-d3c3ce8acd70",
   "metadata": {},
   "outputs": [
    {
     "data": {
      "text/plain": [
       "array([11, 12, 13, 14, 15])"
      ]
     },
     "execution_count": 22,
     "metadata": {},
     "output_type": "execute_result"
    }
   ],
   "source": [
    "B[B < 16]"
   ]
  },
  {
   "cell_type": "markdown",
   "id": "b7f1d157-9c9a-441f-af0f-6741db698a14",
   "metadata": {},
   "source": [
    "#### Indexing in 3-D Array"
   ]
  },
  {
   "cell_type": "raw",
   "id": "afc99d78-bdec-43cf-a6fb-ab99454a5518",
   "metadata": {},
   "source": [
    "Format : array[matrix_indexing, row_indexing, column_indexing]"
   ]
  },
  {
   "cell_type": "code",
   "execution_count": 23,
   "id": "be710198-83f7-42a8-9778-9c17c67b6fa2",
   "metadata": {},
   "outputs": [
    {
     "data": {
      "text/plain": [
       "array([[[11, 12, 13],\n",
       "        [14, 15, 16],\n",
       "        [17, 18, 19]],\n",
       "\n",
       "       [[20, 21, 22],\n",
       "        [23, 24, 25],\n",
       "        [26, 27, 28]]])"
      ]
     },
     "execution_count": 23,
     "metadata": {},
     "output_type": "execute_result"
    }
   ],
   "source": [
    "C = np.array([[ [11, 12, 13], [14, 15, 16], [17, 18, 19]], [[20, 21, 22], [23, 24, 25], [26, 27, 28] ]])\n",
    "C"
   ]
  },
  {
   "cell_type": "code",
   "execution_count": 24,
   "id": "a682d0dc-9059-436c-9305-aaa8e11a3ac5",
   "metadata": {},
   "outputs": [
    {
     "data": {
      "text/plain": [
       "array([[11, 12, 13],\n",
       "       [14, 15, 16],\n",
       "       [17, 18, 19]])"
      ]
     },
     "execution_count": 24,
     "metadata": {},
     "output_type": "execute_result"
    }
   ],
   "source": [
    "C[0]"
   ]
  },
  {
   "cell_type": "code",
   "execution_count": 25,
   "id": "eab1f0f7-8f90-4e5f-bce4-a9e4c399b9ec",
   "metadata": {},
   "outputs": [
    {
     "data": {
      "text/plain": [
       "array([[20, 21, 22],\n",
       "       [23, 24, 25],\n",
       "       [26, 27, 28]])"
      ]
     },
     "execution_count": 25,
     "metadata": {},
     "output_type": "execute_result"
    }
   ],
   "source": [
    "C[1]"
   ]
  },
  {
   "cell_type": "code",
   "execution_count": 26,
   "id": "5b5e1722-d7ae-4922-9434-8239c97862e5",
   "metadata": {},
   "outputs": [
    {
     "data": {
      "text/plain": [
       "array([[[11, 12, 13],\n",
       "        [14, 15, 16],\n",
       "        [17, 18, 19]],\n",
       "\n",
       "       [[20, 21, 22],\n",
       "        [23, 24, 25],\n",
       "        [26, 27, 28]]])"
      ]
     },
     "execution_count": 26,
     "metadata": {},
     "output_type": "execute_result"
    }
   ],
   "source": [
    "C[:]"
   ]
  },
  {
   "cell_type": "code",
   "execution_count": 27,
   "id": "6b461448-841d-435a-8eab-082d39b973c6",
   "metadata": {},
   "outputs": [
    {
     "data": {
      "text/plain": [
       "array([[14, 15, 16],\n",
       "       [17, 18, 19]])"
      ]
     },
     "execution_count": 27,
     "metadata": {},
     "output_type": "execute_result"
    }
   ],
   "source": [
    "C[0, 1: 3, :]"
   ]
  },
  {
   "cell_type": "code",
   "execution_count": 28,
   "id": "0b754124-d3f8-47b4-9114-d39ee79956ee",
   "metadata": {},
   "outputs": [
    {
     "data": {
      "text/plain": [
       "array([[21, 22],\n",
       "       [24, 25],\n",
       "       [27, 28]])"
      ]
     },
     "execution_count": 28,
     "metadata": {},
     "output_type": "execute_result"
    }
   ],
   "source": [
    "C[1, : , 1: 3]"
   ]
  },
  {
   "cell_type": "code",
   "execution_count": 29,
   "id": "2c316bfd-ff39-46ca-a6e5-d57a4932ed92",
   "metadata": {},
   "outputs": [
    {
     "data": {
      "text/plain": [
       "24"
      ]
     },
     "execution_count": 29,
     "metadata": {},
     "output_type": "execute_result"
    }
   ],
   "source": [
    "C[1, 1, 1]"
   ]
  },
  {
   "cell_type": "code",
   "execution_count": 30,
   "id": "5887e02f-eeda-4012-a2fc-1671cc44f47f",
   "metadata": {},
   "outputs": [
    {
     "data": {
      "text/plain": [
       "27"
      ]
     },
     "execution_count": 30,
     "metadata": {},
     "output_type": "execute_result"
    }
   ],
   "source": [
    "C[1, 2, 1]"
   ]
  }
 ],
 "metadata": {
  "kernelspec": {
   "display_name": "Python 3 (ipykernel)",
   "language": "python",
   "name": "python3"
  },
  "language_info": {
   "codemirror_mode": {
    "name": "ipython",
    "version": 3
   },
   "file_extension": ".py",
   "mimetype": "text/x-python",
   "name": "python",
   "nbconvert_exporter": "python",
   "pygments_lexer": "ipython3",
   "version": "3.10.7"
  }
 },
 "nbformat": 4,
 "nbformat_minor": 5
}
