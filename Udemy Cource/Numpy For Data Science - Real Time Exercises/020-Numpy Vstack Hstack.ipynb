{
 "cells": [
  {
   "cell_type": "markdown",
   "id": "b3cfee99-942d-4744-b042-249f145bce01",
   "metadata": {},
   "source": [
    "Vstack or Hstack is used to combine two or more arrays to form a new array."
   ]
  },
  {
   "cell_type": "markdown",
   "id": "ac88d958-c0e4-4fa5-abd0-24b3bff4741f",
   "metadata": {},
   "source": [
    "- Vstack - Combine the arrays vertically.\n",
    "- Hstack - Combine the arrays horizontally."
   ]
  },
  {
   "cell_type": "code",
   "execution_count": 1,
   "id": "24939b43-2738-4adf-b40d-3b0a1768fd95",
   "metadata": {},
   "outputs": [],
   "source": [
    "import numpy as np"
   ]
  },
  {
   "cell_type": "markdown",
   "id": "51ab88fa-d19b-4df0-a26e-6d4adbb769fb",
   "metadata": {},
   "source": [
    "##### In 1-D Array"
   ]
  },
  {
   "cell_type": "code",
   "execution_count": 2,
   "id": "eaa68058-a9fa-424a-97b8-f1aff48c1108",
   "metadata": {},
   "outputs": [
    {
     "name": "stdout",
     "output_type": "stream",
     "text": [
      "[1 2 3 4 5]\n"
     ]
    }
   ],
   "source": [
    "A = np.array([1, 2, 3, 4, 5])\n",
    "print(A)"
   ]
  },
  {
   "cell_type": "code",
   "execution_count": 3,
   "id": "5674d25a-911f-45e7-ad79-06cacea81dfd",
   "metadata": {},
   "outputs": [
    {
     "name": "stdout",
     "output_type": "stream",
     "text": [
      "[ 2  4  6  8 10]\n"
     ]
    }
   ],
   "source": [
    "B = np.array(A * 2)\n",
    "print(B)"
   ]
  },
  {
   "cell_type": "code",
   "execution_count": 4,
   "id": "435e031b-9013-404e-bf25-a87e26e6d25a",
   "metadata": {},
   "outputs": [
    {
     "name": "stdout",
     "output_type": "stream",
     "text": [
      "[ 3  6  9 12 15]\n"
     ]
    }
   ],
   "source": [
    "C = np.array(A * 3)\n",
    "print(C)"
   ]
  },
  {
   "cell_type": "code",
   "execution_count": 5,
   "id": "9e696f64-f9fd-423e-8416-676c7e8b4fd0",
   "metadata": {},
   "outputs": [
    {
     "data": {
      "text/plain": [
       "array([[ 1,  2,  3,  4,  5],\n",
       "       [ 2,  4,  6,  8, 10]])"
      ]
     },
     "execution_count": 5,
     "metadata": {},
     "output_type": "execute_result"
    }
   ],
   "source": [
    "V_1 = np.vstack((A, B))\n",
    "V_1"
   ]
  },
  {
   "cell_type": "code",
   "execution_count": 6,
   "id": "ea1e709f-1dac-42e2-a062-d96f1b6bf8b0",
   "metadata": {},
   "outputs": [
    {
     "data": {
      "text/plain": [
       "array([[ 1,  2,  3,  4,  5],\n",
       "       [ 2,  4,  6,  8, 10],\n",
       "       [ 3,  6,  9, 12, 15]])"
      ]
     },
     "execution_count": 6,
     "metadata": {},
     "output_type": "execute_result"
    }
   ],
   "source": [
    "V_1_1 = np.vstack((A, B, C))\n",
    "V_1_1"
   ]
  },
  {
   "cell_type": "code",
   "execution_count": 7,
   "id": "fdfc71c1-063c-4be8-874e-55d54151b98d",
   "metadata": {},
   "outputs": [
    {
     "data": {
      "text/plain": [
       "array([ 1,  2,  3,  4,  5,  2,  4,  6,  8, 10])"
      ]
     },
     "execution_count": 7,
     "metadata": {},
     "output_type": "execute_result"
    }
   ],
   "source": [
    "H_1 = np.hstack((A, B))\n",
    "H_1"
   ]
  },
  {
   "cell_type": "code",
   "execution_count": 8,
   "id": "4c6b7cdb-7d8c-4377-8fd4-0f27381633b5",
   "metadata": {},
   "outputs": [
    {
     "data": {
      "text/plain": [
       "array([ 1,  2,  3,  4,  5,  2,  4,  6,  8, 10,  3,  6,  9, 12, 15])"
      ]
     },
     "execution_count": 8,
     "metadata": {},
     "output_type": "execute_result"
    }
   ],
   "source": [
    "H_1_1 = np.hstack((A, B, C))\n",
    "H_1_1"
   ]
  },
  {
   "cell_type": "code",
   "execution_count": 9,
   "id": "83244054-a629-4a52-920c-636c3f4769b4",
   "metadata": {},
   "outputs": [
    {
     "data": {
      "text/plain": [
       "(5,)"
      ]
     },
     "execution_count": 9,
     "metadata": {},
     "output_type": "execute_result"
    }
   ],
   "source": [
    "A.shape"
   ]
  },
  {
   "cell_type": "code",
   "execution_count": 10,
   "id": "96efc409-7bc1-4bb6-9fe8-7c5c3ee1b74f",
   "metadata": {},
   "outputs": [
    {
     "data": {
      "text/plain": [
       "(5,)"
      ]
     },
     "execution_count": 10,
     "metadata": {},
     "output_type": "execute_result"
    }
   ],
   "source": [
    "B.shape"
   ]
  },
  {
   "cell_type": "code",
   "execution_count": 11,
   "id": "6b29fcd6-3d4b-4697-befd-a5b4b60633dc",
   "metadata": {},
   "outputs": [
    {
     "data": {
      "text/plain": [
       "(5,)"
      ]
     },
     "execution_count": 11,
     "metadata": {},
     "output_type": "execute_result"
    }
   ],
   "source": [
    "C.shape"
   ]
  },
  {
   "cell_type": "code",
   "execution_count": 12,
   "id": "c77b636c-1de5-46c1-95da-549c895915bb",
   "metadata": {},
   "outputs": [
    {
     "data": {
      "text/plain": [
       "(2, 5)"
      ]
     },
     "execution_count": 12,
     "metadata": {},
     "output_type": "execute_result"
    }
   ],
   "source": [
    "V_1.shape"
   ]
  },
  {
   "cell_type": "code",
   "execution_count": 13,
   "id": "eeddcf1a-44b7-4a50-a88a-d3485084bcc8",
   "metadata": {},
   "outputs": [
    {
     "data": {
      "text/plain": [
       "(3, 5)"
      ]
     },
     "execution_count": 13,
     "metadata": {},
     "output_type": "execute_result"
    }
   ],
   "source": [
    "V_1_1.shape"
   ]
  },
  {
   "cell_type": "code",
   "execution_count": 14,
   "id": "798a1054-b0d3-451c-8fc7-6fcb44fa4a8a",
   "metadata": {},
   "outputs": [
    {
     "data": {
      "text/plain": [
       "(10,)"
      ]
     },
     "execution_count": 14,
     "metadata": {},
     "output_type": "execute_result"
    }
   ],
   "source": [
    "H_1.shape"
   ]
  },
  {
   "cell_type": "code",
   "execution_count": 15,
   "id": "f1e3ea20-b5f5-4233-95fb-a6f919af8b9a",
   "metadata": {},
   "outputs": [
    {
     "data": {
      "text/plain": [
       "(15,)"
      ]
     },
     "execution_count": 15,
     "metadata": {},
     "output_type": "execute_result"
    }
   ],
   "source": [
    "H_1_1.shape"
   ]
  },
  {
   "cell_type": "markdown",
   "id": "567791a9-c713-4df6-a9d3-51e13287e1f9",
   "metadata": {},
   "source": [
    "##### In 2-D Array"
   ]
  },
  {
   "cell_type": "code",
   "execution_count": 16,
   "id": "10c8d825-0fb4-460f-aeac-dd9668df8b13",
   "metadata": {},
   "outputs": [
    {
     "name": "stdout",
     "output_type": "stream",
     "text": [
      "[[1 2 3 4]\n",
      " [5 6 7 8]]\n"
     ]
    }
   ],
   "source": [
    "P = np.array([[1, 2, 3, 4], [5, 6, 7, 8]])\n",
    "print(P)"
   ]
  },
  {
   "cell_type": "code",
   "execution_count": 17,
   "id": "d445a8a4-f1b3-4c2f-a55f-028b6c020d04",
   "metadata": {},
   "outputs": [
    {
     "name": "stdout",
     "output_type": "stream",
     "text": [
      "[[ 9 10 11 12]\n",
      " [13 14 15 16]]\n"
     ]
    }
   ],
   "source": [
    "Q = np.array([[9, 10, 11, 12], [13, 14, 15, 16]])\n",
    "print(Q)"
   ]
  },
  {
   "cell_type": "code",
   "execution_count": 18,
   "id": "09196fe2-0d35-49ac-aed0-8c45c447140f",
   "metadata": {},
   "outputs": [
    {
     "data": {
      "text/plain": [
       "array([[ 1,  2,  3,  4],\n",
       "       [ 5,  6,  7,  8],\n",
       "       [ 9, 10, 11, 12],\n",
       "       [13, 14, 15, 16]])"
      ]
     },
     "execution_count": 18,
     "metadata": {},
     "output_type": "execute_result"
    }
   ],
   "source": [
    "V_2 = np.vstack((P, Q))\n",
    "V_2"
   ]
  },
  {
   "cell_type": "code",
   "execution_count": 19,
   "id": "35b41296-1e3b-4210-97d0-32191b3e667d",
   "metadata": {},
   "outputs": [
    {
     "data": {
      "text/plain": [
       "array([[ 1,  2,  3,  4,  9, 10, 11, 12],\n",
       "       [ 5,  6,  7,  8, 13, 14, 15, 16]])"
      ]
     },
     "execution_count": 19,
     "metadata": {},
     "output_type": "execute_result"
    }
   ],
   "source": [
    "H_2 = np.hstack((P, Q))\n",
    "H_2"
   ]
  },
  {
   "cell_type": "code",
   "execution_count": 20,
   "id": "c4da645a-8604-4faf-8b33-a3d3081874fb",
   "metadata": {},
   "outputs": [
    {
     "data": {
      "text/plain": [
       "(2, 4)"
      ]
     },
     "execution_count": 20,
     "metadata": {},
     "output_type": "execute_result"
    }
   ],
   "source": [
    "P.shape"
   ]
  },
  {
   "cell_type": "code",
   "execution_count": 21,
   "id": "5d532bdb-9481-4908-b090-2470824c1d96",
   "metadata": {},
   "outputs": [
    {
     "data": {
      "text/plain": [
       "(2, 4)"
      ]
     },
     "execution_count": 21,
     "metadata": {},
     "output_type": "execute_result"
    }
   ],
   "source": [
    "Q.shape"
   ]
  },
  {
   "cell_type": "code",
   "execution_count": 22,
   "id": "35f18ad3-0baa-4750-ab26-f2a7eed1ca81",
   "metadata": {},
   "outputs": [
    {
     "data": {
      "text/plain": [
       "(4, 4)"
      ]
     },
     "execution_count": 22,
     "metadata": {},
     "output_type": "execute_result"
    }
   ],
   "source": [
    "V_2.shape"
   ]
  },
  {
   "cell_type": "code",
   "execution_count": 23,
   "id": "ea485c38-31c7-414f-be04-708b56e956a1",
   "metadata": {},
   "outputs": [
    {
     "data": {
      "text/plain": [
       "(2, 8)"
      ]
     },
     "execution_count": 23,
     "metadata": {},
     "output_type": "execute_result"
    }
   ],
   "source": [
    "H_2.shape"
   ]
  },
  {
   "cell_type": "markdown",
   "id": "a471011c-4461-47f0-a664-b7aceb350b0a",
   "metadata": {},
   "source": [
    "##### In 3-D Array"
   ]
  },
  {
   "cell_type": "code",
   "execution_count": 24,
   "id": "feb3bee1-ee3e-4513-bc06-9c0ed85e7b24",
   "metadata": {},
   "outputs": [
    {
     "data": {
      "text/plain": [
       "array([[[1, 2, 3],\n",
       "        [4, 5, 6],\n",
       "        [7, 8, 9]]])"
      ]
     },
     "execution_count": 24,
     "metadata": {},
     "output_type": "execute_result"
    }
   ],
   "source": [
    "X = np.array([[[1, 2, 3], [4, 5, 6], [7, 8, 9]]])\n",
    "X"
   ]
  },
  {
   "cell_type": "code",
   "execution_count": 25,
   "id": "01552f5c-2646-4d2e-b8ab-d51e34bedcba",
   "metadata": {},
   "outputs": [
    {
     "data": {
      "text/plain": [
       "array([[[10, 11, 12],\n",
       "        [13, 14, 15],\n",
       "        [16, 17, 18]]])"
      ]
     },
     "execution_count": 25,
     "metadata": {},
     "output_type": "execute_result"
    }
   ],
   "source": [
    "Y = np.array([[[10, 11, 12], [13, 14, 15], [16, 17, 18]]])\n",
    "Y"
   ]
  },
  {
   "cell_type": "code",
   "execution_count": 26,
   "id": "d1bfbf37-d83e-4478-a920-6a4c383fba9d",
   "metadata": {},
   "outputs": [
    {
     "data": {
      "text/plain": [
       "array([[[ 1,  2,  3],\n",
       "        [ 4,  5,  6],\n",
       "        [ 7,  8,  9]],\n",
       "\n",
       "       [[10, 11, 12],\n",
       "        [13, 14, 15],\n",
       "        [16, 17, 18]]])"
      ]
     },
     "execution_count": 26,
     "metadata": {},
     "output_type": "execute_result"
    }
   ],
   "source": [
    "V_3 = np.vstack((X, Y))\n",
    "V_3"
   ]
  },
  {
   "cell_type": "code",
   "execution_count": 27,
   "id": "2ddf46b6-7684-45d9-bb91-43d514fa07c1",
   "metadata": {},
   "outputs": [
    {
     "data": {
      "text/plain": [
       "array([[[ 1,  2,  3],\n",
       "        [ 4,  5,  6],\n",
       "        [ 7,  8,  9],\n",
       "        [10, 11, 12],\n",
       "        [13, 14, 15],\n",
       "        [16, 17, 18]]])"
      ]
     },
     "execution_count": 27,
     "metadata": {},
     "output_type": "execute_result"
    }
   ],
   "source": [
    "H_3 = np.hstack((X, Y))\n",
    "H_3"
   ]
  },
  {
   "cell_type": "code",
   "execution_count": 28,
   "id": "456e384a-713a-43a0-9ef7-97f9aff4c3d8",
   "metadata": {},
   "outputs": [
    {
     "data": {
      "text/plain": [
       "(1, 3, 3)"
      ]
     },
     "execution_count": 28,
     "metadata": {},
     "output_type": "execute_result"
    }
   ],
   "source": [
    "X.shape"
   ]
  },
  {
   "cell_type": "code",
   "execution_count": 29,
   "id": "e9316e1d-546c-4c2e-952e-9f361dc37523",
   "metadata": {},
   "outputs": [
    {
     "data": {
      "text/plain": [
       "(1, 3, 3)"
      ]
     },
     "execution_count": 29,
     "metadata": {},
     "output_type": "execute_result"
    }
   ],
   "source": [
    "Y.shape"
   ]
  },
  {
   "cell_type": "code",
   "execution_count": 30,
   "id": "25bf4b5e-ebb9-41e4-a514-2828eff5abb7",
   "metadata": {},
   "outputs": [
    {
     "data": {
      "text/plain": [
       "(2, 3, 3)"
      ]
     },
     "execution_count": 30,
     "metadata": {},
     "output_type": "execute_result"
    }
   ],
   "source": [
    "V_3.shape"
   ]
  },
  {
   "cell_type": "code",
   "execution_count": 31,
   "id": "4ba478fa-0d35-4b76-a4b7-9b58af1d5883",
   "metadata": {},
   "outputs": [
    {
     "data": {
      "text/plain": [
       "(1, 6, 3)"
      ]
     },
     "execution_count": 31,
     "metadata": {},
     "output_type": "execute_result"
    }
   ],
   "source": [
    "H_3.shape"
   ]
  }
 ],
 "metadata": {
  "kernelspec": {
   "display_name": "Python 3 (ipykernel)",
   "language": "python",
   "name": "python3"
  },
  "language_info": {
   "codemirror_mode": {
    "name": "ipython",
    "version": 3
   },
   "file_extension": ".py",
   "mimetype": "text/x-python",
   "name": "python",
   "nbconvert_exporter": "python",
   "pygments_lexer": "ipython3",
   "version": "3.10.7"
  }
 },
 "nbformat": 4,
 "nbformat_minor": 5
}
