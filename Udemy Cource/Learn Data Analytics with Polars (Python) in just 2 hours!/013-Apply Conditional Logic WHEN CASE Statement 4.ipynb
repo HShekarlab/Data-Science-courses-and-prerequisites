{
 "cells": [
  {
   "cell_type": "code",
   "execution_count": 1,
   "id": "a579d87b-451d-4a98-b31c-29a5a612717e",
   "metadata": {},
   "outputs": [],
   "source": [
    "import polars as pl"
   ]
  },
  {
   "cell_type": "code",
   "execution_count": 2,
   "id": "0374c0d3-a9ea-4bdf-8972-c615b3d816ba",
   "metadata": {},
   "outputs": [],
   "source": [
    "df = pl.read_csv(\"weather.csv\", has_header= True)"
   ]
  },
  {
   "cell_type": "code",
   "execution_count": 3,
   "id": "167687cc-0bff-4146-b689-fb460aecd7b0",
   "metadata": {},
   "outputs": [
    {
     "data": {
      "text/html": [
       "<div><style>\n",
       ".dataframe > thead > tr,\n",
       ".dataframe > tbody > tr {\n",
       "  text-align: right;\n",
       "  white-space: pre-wrap;\n",
       "}\n",
       "</style>\n",
       "<small>shape: (7, 3)</small><table border=\"1\" class=\"dataframe\"><thead><tr><th>Data.Temperature.Avg Temp</th><th>Data.Wind.Direction</th><th>Climate</th></tr><tr><td>i64</td><td>i64</td><td>str</td></tr></thead><tbody><tr><td>39</td><td>33</td><td>&quot;Warm&quot;</td></tr><tr><td>39</td><td>32</td><td>&quot;Warm&quot;</td></tr><tr><td>46</td><td>35</td><td>&quot;Hot&quot;</td></tr><tr><td>45</td><td>32</td><td>&quot;Hot&quot;</td></tr><tr><td>34</td><td>19</td><td>&quot;Warm&quot;</td></tr><tr><td>38</td><td>9</td><td>&quot;Warm&quot;</td></tr><tr><td>30</td><td>9</td><td>&quot;Mild&quot;</td></tr></tbody></table></div>"
      ],
      "text/plain": [
       "shape: (7, 3)\n",
       "┌───────────────────────────┬─────────────────────┬─────────┐\n",
       "│ Data.Temperature.Avg Temp ┆ Data.Wind.Direction ┆ Climate │\n",
       "│ ---                       ┆ ---                 ┆ ---     │\n",
       "│ i64                       ┆ i64                 ┆ str     │\n",
       "╞═══════════════════════════╪═════════════════════╪═════════╡\n",
       "│ 39                        ┆ 33                  ┆ Warm    │\n",
       "│ 39                        ┆ 32                  ┆ Warm    │\n",
       "│ 46                        ┆ 35                  ┆ Hot     │\n",
       "│ 45                        ┆ 32                  ┆ Hot     │\n",
       "│ 34                        ┆ 19                  ┆ Warm    │\n",
       "│ 38                        ┆ 9                   ┆ Warm    │\n",
       "│ 30                        ┆ 9                   ┆ Mild    │\n",
       "└───────────────────────────┴─────────────────────┴─────────┘"
      ]
     },
     "execution_count": 3,
     "metadata": {},
     "output_type": "execute_result"
    }
   ],
   "source": [
    "df.select(\n",
    "          pl.col(\"Data.Temperature.Avg Temp\"), pl.col(\"Data.Wind.Direction\"),\n",
    "          pl.when( (pl.col(\"Data.Temperature.Avg Temp\") > 40) & (pl.col(\"Data.Wind.Speed\") < 10) )\n",
    "            .then(pl.lit(\"Hot\"))\\\n",
    "            .when((pl.col(\"Data.Temperature.Avg Temp\") > 30) & (pl.col(\"Data.Wind.Speed\") < 10) )\n",
    "            .then(pl.lit(\"Warm\"))\\\n",
    "            .otherwise(pl.lit(\"Mild\"))\\\n",
    "          .alias(\"Climate\")\n",
    ").head(7)"
   ]
  }
 ],
 "metadata": {
  "kernelspec": {
   "display_name": "Python 3 (ipykernel)",
   "language": "python",
   "name": "python3"
  },
  "language_info": {
   "codemirror_mode": {
    "name": "ipython",
    "version": 3
   },
   "file_extension": ".py",
   "mimetype": "text/x-python",
   "name": "python",
   "nbconvert_exporter": "python",
   "pygments_lexer": "ipython3",
   "version": "3.12.1"
  }
 },
 "nbformat": 4,
 "nbformat_minor": 5
}
