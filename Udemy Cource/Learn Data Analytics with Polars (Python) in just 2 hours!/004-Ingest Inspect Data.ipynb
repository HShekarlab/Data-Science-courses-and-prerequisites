{
 "cells": [
  {
   "cell_type": "code",
   "execution_count": 1,
   "id": "68bda39f-58be-4b77-80de-a60e320f992d",
   "metadata": {},
   "outputs": [],
   "source": [
    "import polars as pl"
   ]
  },
  {
   "cell_type": "code",
   "execution_count": 2,
   "id": "25e8dfde-ef48-48b9-b622-52120b29c014",
   "metadata": {},
   "outputs": [],
   "source": [
    "df = pl.read_csv(\"weather.csv\", has_header= True)"
   ]
  },
  {
   "cell_type": "code",
   "execution_count": 3,
   "id": "1a6b68fc-7e72-4e2e-a557-e5740af61d8b",
   "metadata": {},
   "outputs": [
    {
     "data": {
      "text/html": [
       "<div><style>\n",
       ".dataframe > thead > tr,\n",
       ".dataframe > tbody > tr {\n",
       "  text-align: right;\n",
       "  white-space: pre-wrap;\n",
       "}\n",
       "</style>\n",
       "<small>shape: (5, 14)</small><table border=\"1\" class=\"dataframe\"><thead><tr><th>Data.Precipitation</th><th>Date.Full</th><th>Date.Month</th><th>Date.Week of</th><th>Date.Year</th><th>Station.City</th><th>Station.Code</th><th>Station.Location</th><th>Station.State</th><th>Data.Temperature.Avg Temp</th><th>Data.Temperature.Max Temp</th><th>Data.Temperature.Min Temp</th><th>Data.Wind.Direction</th><th>Data.Wind.Speed</th></tr><tr><td>f64</td><td>str</td><td>i64</td><td>i64</td><td>i64</td><td>str</td><td>str</td><td>str</td><td>str</td><td>i64</td><td>i64</td><td>i64</td><td>i64</td><td>f64</td></tr></thead><tbody><tr><td>0.0</td><td>&quot;2016-01-03&quot;</td><td>1</td><td>3</td><td>2016</td><td>&quot;Birmingham&quot;</td><td>&quot;BHM&quot;</td><td>&quot;Birmingham, AL…</td><td>&quot;Alabama&quot;</td><td>39</td><td>46</td><td>32</td><td>33</td><td>4.33</td></tr><tr><td>0.0</td><td>&quot;2016-01-03&quot;</td><td>1</td><td>3</td><td>2016</td><td>&quot;Huntsville&quot;</td><td>&quot;HSV&quot;</td><td>&quot;Huntsville, AL…</td><td>&quot;Alabama&quot;</td><td>39</td><td>47</td><td>31</td><td>32</td><td>3.86</td></tr><tr><td>0.16</td><td>&quot;2016-01-03&quot;</td><td>1</td><td>3</td><td>2016</td><td>&quot;Mobile&quot;</td><td>&quot;MOB&quot;</td><td>&quot;Mobile, AL&quot;</td><td>&quot;Alabama&quot;</td><td>46</td><td>51</td><td>41</td><td>35</td><td>9.73</td></tr><tr><td>0.0</td><td>&quot;2016-01-03&quot;</td><td>1</td><td>3</td><td>2016</td><td>&quot;Montgomery&quot;</td><td>&quot;MGM&quot;</td><td>&quot;Montgomery, AL…</td><td>&quot;Alabama&quot;</td><td>45</td><td>52</td><td>38</td><td>32</td><td>6.86</td></tr><tr><td>0.01</td><td>&quot;2016-01-03&quot;</td><td>1</td><td>3</td><td>2016</td><td>&quot;Anchorage&quot;</td><td>&quot;ANC&quot;</td><td>&quot;Anchorage, AK&quot;</td><td>&quot;Alaska&quot;</td><td>34</td><td>38</td><td>29</td><td>19</td><td>7.8</td></tr></tbody></table></div>"
      ],
      "text/plain": [
       "shape: (5, 14)\n",
       "┌──────────────┬────────────┬────────────┬──────────────┬───┬──────────────┬──────────────┬──────────────┬─────────────┐\n",
       "│ Data.Precipi ┆ Date.Full  ┆ Date.Month ┆ Date.Week of ┆ … ┆ Data.Tempera ┆ Data.Tempera ┆ Data.Wind.Di ┆ Data.Wind.S │\n",
       "│ tation       ┆ ---        ┆ ---        ┆ ---          ┆   ┆ ture.Max     ┆ ture.Min     ┆ rection      ┆ peed        │\n",
       "│ ---          ┆ str        ┆ i64        ┆ i64          ┆   ┆ Temp         ┆ Temp         ┆ ---          ┆ ---         │\n",
       "│ f64          ┆            ┆            ┆              ┆   ┆ ---          ┆ ---          ┆ i64          ┆ f64         │\n",
       "│              ┆            ┆            ┆              ┆   ┆ i64          ┆ i64          ┆              ┆             │\n",
       "╞══════════════╪════════════╪════════════╪══════════════╪═══╪══════════════╪══════════════╪══════════════╪═════════════╡\n",
       "│ 0.0          ┆ 2016-01-03 ┆ 1          ┆ 3            ┆ … ┆ 46           ┆ 32           ┆ 33           ┆ 4.33        │\n",
       "│ 0.0          ┆ 2016-01-03 ┆ 1          ┆ 3            ┆ … ┆ 47           ┆ 31           ┆ 32           ┆ 3.86        │\n",
       "│ 0.16         ┆ 2016-01-03 ┆ 1          ┆ 3            ┆ … ┆ 51           ┆ 41           ┆ 35           ┆ 9.73        │\n",
       "│ 0.0          ┆ 2016-01-03 ┆ 1          ┆ 3            ┆ … ┆ 52           ┆ 38           ┆ 32           ┆ 6.86        │\n",
       "│ 0.01         ┆ 2016-01-03 ┆ 1          ┆ 3            ┆ … ┆ 38           ┆ 29           ┆ 19           ┆ 7.8         │\n",
       "└──────────────┴────────────┴────────────┴──────────────┴───┴──────────────┴──────────────┴──────────────┴─────────────┘"
      ]
     },
     "execution_count": 3,
     "metadata": {},
     "output_type": "execute_result"
    }
   ],
   "source": [
    "df.head(5)"
   ]
  },
  {
   "cell_type": "code",
   "execution_count": 4,
   "id": "e44b1e76-54e4-472b-9cab-7f2ad1bf06e9",
   "metadata": {},
   "outputs": [
    {
     "data": {
      "text/html": [
       "<div><style>\n",
       ".dataframe > thead > tr,\n",
       ".dataframe > tbody > tr {\n",
       "  text-align: right;\n",
       "  white-space: pre-wrap;\n",
       "}\n",
       "</style>\n",
       "<small>shape: (3, 14)</small><table border=\"1\" class=\"dataframe\"><thead><tr><th>Data.Precipitation</th><th>Date.Full</th><th>Date.Month</th><th>Date.Week of</th><th>Date.Year</th><th>Station.City</th><th>Station.Code</th><th>Station.Location</th><th>Station.State</th><th>Data.Temperature.Avg Temp</th><th>Data.Temperature.Max Temp</th><th>Data.Temperature.Min Temp</th><th>Data.Wind.Direction</th><th>Data.Wind.Speed</th></tr><tr><td>f64</td><td>str</td><td>i64</td><td>i64</td><td>i64</td><td>str</td><td>str</td><td>str</td><td>str</td><td>i64</td><td>i64</td><td>i64</td><td>i64</td><td>f64</td></tr></thead><tbody><tr><td>0.0</td><td>&quot;2017-01-01&quot;</td><td>1</td><td>1</td><td>2017</td><td>&quot;Lander&quot;</td><td>&quot;LND&quot;</td><td>&quot;Lander, WY&quot;</td><td>&quot;Wyoming&quot;</td><td>17</td><td>29</td><td>4</td><td>26</td><td>1.65</td></tr><tr><td>0.06</td><td>&quot;2017-01-01&quot;</td><td>1</td><td>1</td><td>2017</td><td>&quot;Rawlins&quot;</td><td>&quot;RWL&quot;</td><td>&quot;Rawlins, WY&quot;</td><td>&quot;Wyoming&quot;</td><td>23</td><td>31</td><td>13</td><td>24</td><td>18.16</td></tr><tr><td>0.1</td><td>&quot;2017-01-01&quot;</td><td>1</td><td>1</td><td>2017</td><td>&quot;Sheridan&quot;</td><td>&quot;SHR&quot;</td><td>&quot;Sheridan, WY&quot;</td><td>&quot;Wyoming&quot;</td><td>21</td><td>34</td><td>8</td><td>23</td><td>7.51</td></tr></tbody></table></div>"
      ],
      "text/plain": [
       "shape: (3, 14)\n",
       "┌──────────────┬────────────┬────────────┬──────────────┬───┬──────────────┬──────────────┬──────────────┬─────────────┐\n",
       "│ Data.Precipi ┆ Date.Full  ┆ Date.Month ┆ Date.Week of ┆ … ┆ Data.Tempera ┆ Data.Tempera ┆ Data.Wind.Di ┆ Data.Wind.S │\n",
       "│ tation       ┆ ---        ┆ ---        ┆ ---          ┆   ┆ ture.Max     ┆ ture.Min     ┆ rection      ┆ peed        │\n",
       "│ ---          ┆ str        ┆ i64        ┆ i64          ┆   ┆ Temp         ┆ Temp         ┆ ---          ┆ ---         │\n",
       "│ f64          ┆            ┆            ┆              ┆   ┆ ---          ┆ ---          ┆ i64          ┆ f64         │\n",
       "│              ┆            ┆            ┆              ┆   ┆ i64          ┆ i64          ┆              ┆             │\n",
       "╞══════════════╪════════════╪════════════╪══════════════╪═══╪══════════════╪══════════════╪══════════════╪═════════════╡\n",
       "│ 0.0          ┆ 2017-01-01 ┆ 1          ┆ 1            ┆ … ┆ 29           ┆ 4            ┆ 26           ┆ 1.65        │\n",
       "│ 0.06         ┆ 2017-01-01 ┆ 1          ┆ 1            ┆ … ┆ 31           ┆ 13           ┆ 24           ┆ 18.16       │\n",
       "│ 0.1          ┆ 2017-01-01 ┆ 1          ┆ 1            ┆ … ┆ 34           ┆ 8            ┆ 23           ┆ 7.51        │\n",
       "└──────────────┴────────────┴────────────┴──────────────┴───┴──────────────┴──────────────┴──────────────┴─────────────┘"
      ]
     },
     "execution_count": 4,
     "metadata": {},
     "output_type": "execute_result"
    }
   ],
   "source": [
    "df.tail(3)"
   ]
  },
  {
   "cell_type": "code",
   "execution_count": 5,
   "id": "f720a5fd-526e-4646-8eb3-1c1d835e0323",
   "metadata": {},
   "outputs": [
    {
     "data": {
      "text/plain": [
       "16743"
      ]
     },
     "execution_count": 5,
     "metadata": {},
     "output_type": "execute_result"
    }
   ],
   "source": [
    "len(df)"
   ]
  },
  {
   "cell_type": "code",
   "execution_count": 6,
   "id": "027b7072-abbd-4257-a3e6-181ebfe2b103",
   "metadata": {},
   "outputs": [
    {
     "data": {
      "text/plain": [
       "(16743, 14)"
      ]
     },
     "execution_count": 6,
     "metadata": {},
     "output_type": "execute_result"
    }
   ],
   "source": [
    "df.shape"
   ]
  },
  {
   "cell_type": "code",
   "execution_count": 7,
   "id": "5a4999cf-75ba-43ac-b73d-1480f12446f7",
   "metadata": {},
   "outputs": [
    {
     "data": {
      "text/plain": [
       "['Data.Precipitation',\n",
       " 'Date.Full',\n",
       " 'Date.Month',\n",
       " 'Date.Week of',\n",
       " 'Date.Year',\n",
       " 'Station.City',\n",
       " 'Station.Code',\n",
       " 'Station.Location',\n",
       " 'Station.State',\n",
       " 'Data.Temperature.Avg Temp',\n",
       " 'Data.Temperature.Max Temp',\n",
       " 'Data.Temperature.Min Temp',\n",
       " 'Data.Wind.Direction',\n",
       " 'Data.Wind.Speed']"
      ]
     },
     "execution_count": 7,
     "metadata": {},
     "output_type": "execute_result"
    }
   ],
   "source": [
    "df.columns"
   ]
  },
  {
   "cell_type": "code",
   "execution_count": 8,
   "id": "2de56c47-eeef-4632-8d81-492dff906496",
   "metadata": {},
   "outputs": [
    {
     "data": {
      "text/plain": [
       "[Float64,\n",
       " String,\n",
       " Int64,\n",
       " Int64,\n",
       " Int64,\n",
       " String,\n",
       " String,\n",
       " String,\n",
       " String,\n",
       " Int64,\n",
       " Int64,\n",
       " Int64,\n",
       " Int64,\n",
       " Float64]"
      ]
     },
     "execution_count": 8,
     "metadata": {},
     "output_type": "execute_result"
    }
   ],
   "source": [
    "df.dtypes"
   ]
  },
  {
   "cell_type": "code",
   "execution_count": 9,
   "id": "1d2e55ff-cac3-4666-b53c-aac159068426",
   "metadata": {},
   "outputs": [
    {
     "data": {
      "text/plain": [
       "<bound method DataFrame.describe of shape: (16_743, 14)\n",
       "┌──────────────┬────────────┬────────────┬──────────────┬───┬──────────────┬──────────────┬──────────────┬─────────────┐\n",
       "│ Data.Precipi ┆ Date.Full  ┆ Date.Month ┆ Date.Week of ┆ … ┆ Data.Tempera ┆ Data.Tempera ┆ Data.Wind.Di ┆ Data.Wind.S │\n",
       "│ tation       ┆ ---        ┆ ---        ┆ ---          ┆   ┆ ture.Max     ┆ ture.Min     ┆ rection      ┆ peed        │\n",
       "│ ---          ┆ str        ┆ i64        ┆ i64          ┆   ┆ Temp         ┆ Temp         ┆ ---          ┆ ---         │\n",
       "│ f64          ┆            ┆            ┆              ┆   ┆ ---          ┆ ---          ┆ i64          ┆ f64         │\n",
       "│              ┆            ┆            ┆              ┆   ┆ i64          ┆ i64          ┆              ┆             │\n",
       "╞══════════════╪════════════╪════════════╪══════════════╪═══╪══════════════╪══════════════╪══════════════╪═════════════╡\n",
       "│ 0.0          ┆ 2016-01-03 ┆ 1          ┆ 3            ┆ … ┆ 46           ┆ 32           ┆ 33           ┆ 4.33        │\n",
       "│ 0.0          ┆ 2016-01-03 ┆ 1          ┆ 3            ┆ … ┆ 47           ┆ 31           ┆ 32           ┆ 3.86        │\n",
       "│ 0.16         ┆ 2016-01-03 ┆ 1          ┆ 3            ┆ … ┆ 51           ┆ 41           ┆ 35           ┆ 9.73        │\n",
       "│ 0.0          ┆ 2016-01-03 ┆ 1          ┆ 3            ┆ … ┆ 52           ┆ 38           ┆ 32           ┆ 6.86        │\n",
       "│ 0.01         ┆ 2016-01-03 ┆ 1          ┆ 3            ┆ … ┆ 38           ┆ 29           ┆ 19           ┆ 7.8         │\n",
       "│ …            ┆ …          ┆ …          ┆ …            ┆ … ┆ …            ┆ …            ┆ …            ┆ …           │\n",
       "│ 0.08         ┆ 2017-01-01 ┆ 1          ┆ 1            ┆ … ┆ 32           ┆ 15           ┆ 23           ┆ 19.98       │\n",
       "│ 0.0          ┆ 2017-01-01 ┆ 1          ┆ 1            ┆ … ┆ 42           ┆ 21           ┆ 26           ┆ 15.16       │\n",
       "│ 0.0          ┆ 2017-01-01 ┆ 1          ┆ 1            ┆ … ┆ 29           ┆ 4            ┆ 26           ┆ 1.65        │\n",
       "│ 0.06         ┆ 2017-01-01 ┆ 1          ┆ 1            ┆ … ┆ 31           ┆ 13           ┆ 24           ┆ 18.16       │\n",
       "│ 0.1          ┆ 2017-01-01 ┆ 1          ┆ 1            ┆ … ┆ 34           ┆ 8            ┆ 23           ┆ 7.51        │\n",
       "└──────────────┴────────────┴────────────┴──────────────┴───┴──────────────┴──────────────┴──────────────┴─────────────┘>"
      ]
     },
     "execution_count": 9,
     "metadata": {},
     "output_type": "execute_result"
    }
   ],
   "source": [
    "df.describe"
   ]
  },
  {
   "cell_type": "code",
   "execution_count": 10,
   "id": "60cc0144-ab36-4aec-b2d9-486ae519dc8c",
   "metadata": {},
   "outputs": [
    {
     "data": {
      "text/html": [
       "<div><style>\n",
       ".dataframe > thead > tr,\n",
       ".dataframe > tbody > tr {\n",
       "  text-align: right;\n",
       "  white-space: pre-wrap;\n",
       "}\n",
       "</style>\n",
       "<small>shape: (9, 15)</small><table border=\"1\" class=\"dataframe\"><thead><tr><th>statistic</th><th>Data.Precipitation</th><th>Date.Full</th><th>Date.Month</th><th>Date.Week of</th><th>Date.Year</th><th>Station.City</th><th>Station.Code</th><th>Station.Location</th><th>Station.State</th><th>Data.Temperature.Avg Temp</th><th>Data.Temperature.Max Temp</th><th>Data.Temperature.Min Temp</th><th>Data.Wind.Direction</th><th>Data.Wind.Speed</th></tr><tr><td>str</td><td>f64</td><td>str</td><td>f64</td><td>f64</td><td>f64</td><td>str</td><td>str</td><td>str</td><td>str</td><td>f64</td><td>f64</td><td>f64</td><td>f64</td><td>f64</td></tr></thead><tbody><tr><td>&quot;count&quot;</td><td>16743.0</td><td>&quot;16743&quot;</td><td>16743.0</td><td>16743.0</td><td>16743.0</td><td>&quot;16743&quot;</td><td>&quot;16743&quot;</td><td>&quot;16743&quot;</td><td>&quot;16743&quot;</td><td>16743.0</td><td>16743.0</td><td>16743.0</td><td>16743.0</td><td>16743.0</td></tr><tr><td>&quot;null_count&quot;</td><td>0.0</td><td>&quot;0&quot;</td><td>0.0</td><td>0.0</td><td>0.0</td><td>&quot;0&quot;</td><td>&quot;0&quot;</td><td>&quot;0&quot;</td><td>&quot;0&quot;</td><td>0.0</td><td>0.0</td><td>0.0</td><td>0.0</td><td>0.0</td></tr><tr><td>&quot;mean&quot;</td><td>0.57909</td><td>null</td><td>6.343128</td><td>15.650242</td><td>2016.018933</td><td>null</td><td>null</td><td>null</td><td>null</td><td>56.089112</td><td>66.042406</td><td>45.642716</td><td>18.791316</td><td>6.32982</td></tr><tr><td>&quot;std&quot;</td><td>0.988057</td><td>null</td><td>3.490723</td><td>8.923425</td><td>0.136294</td><td>null</td><td>null</td><td>null</td><td>null</td><td>18.798295</td><td>19.787954</td><td>18.559263</td><td>6.461527</td><td>3.494785</td></tr><tr><td>&quot;min&quot;</td><td>0.0</td><td>&quot;2016-01-03&quot;</td><td>1.0</td><td>1.0</td><td>2016.0</td><td>&quot;Aberdeen&quot;</td><td>&quot;ABE&quot;</td><td>&quot;Aberdeen, SD&quot;</td><td>&quot;Alabama&quot;</td><td>-27.0</td><td>-19.0</td><td>-35.0</td><td>0.0</td><td>0.0</td></tr><tr><td>&quot;25%&quot;</td><td>0.0</td><td>null</td><td>3.0</td><td>8.0</td><td>2016.0</td><td>null</td><td>null</td><td>null</td><td>null</td><td>44.0</td><td>53.0</td><td>33.0</td><td>15.0</td><td>4.04</td></tr><tr><td>&quot;50%&quot;</td><td>0.19</td><td>null</td><td>6.0</td><td>16.0</td><td>2016.0</td><td>null</td><td>null</td><td>null</td><td>null</td><td>58.0</td><td>68.0</td><td>47.0</td><td>19.0</td><td>5.94</td></tr><tr><td>&quot;75%&quot;</td><td>0.75</td><td>null</td><td>9.0</td><td>24.0</td><td>2016.0</td><td>null</td><td>null</td><td>null</td><td>null</td><td>71.0</td><td>82.0</td><td>60.0</td><td>23.0</td><td>8.08</td></tr><tr><td>&quot;max&quot;</td><td>20.89</td><td>&quot;2017-01-01&quot;</td><td>12.0</td><td>31.0</td><td>2017.0</td><td>&quot;Youngstown/War…</td><td>&quot;YNG&quot;</td><td>&quot;Youngstown/War…</td><td>&quot;Wyoming&quot;</td><td>100.0</td><td>111.0</td><td>88.0</td><td>36.0</td><td>61.1</td></tr></tbody></table></div>"
      ],
      "text/plain": [
       "shape: (9, 15)\n",
       "┌────────────┬───────────────┬────────────┬────────────┬───┬──────────────┬──────────────┬──────────────┬──────────────┐\n",
       "│ statistic  ┆ Data.Precipit ┆ Date.Full  ┆ Date.Month ┆ … ┆ Data.Tempera ┆ Data.Tempera ┆ Data.Wind.Di ┆ Data.Wind.Sp │\n",
       "│ ---        ┆ ation         ┆ ---        ┆ ---        ┆   ┆ ture.Max     ┆ ture.Min     ┆ rection      ┆ eed          │\n",
       "│ str        ┆ ---           ┆ str        ┆ f64        ┆   ┆ Temp         ┆ Temp         ┆ ---          ┆ ---          │\n",
       "│            ┆ f64           ┆            ┆            ┆   ┆ ---          ┆ ---          ┆ f64          ┆ f64          │\n",
       "│            ┆               ┆            ┆            ┆   ┆ f64          ┆ f64          ┆              ┆              │\n",
       "╞════════════╪═══════════════╪════════════╪════════════╪═══╪══════════════╪══════════════╪══════════════╪══════════════╡\n",
       "│ count      ┆ 16743.0       ┆ 16743      ┆ 16743.0    ┆ … ┆ 16743.0      ┆ 16743.0      ┆ 16743.0      ┆ 16743.0      │\n",
       "│ null_count ┆ 0.0           ┆ 0          ┆ 0.0        ┆ … ┆ 0.0          ┆ 0.0          ┆ 0.0          ┆ 0.0          │\n",
       "│ mean       ┆ 0.57909       ┆ null       ┆ 6.343128   ┆ … ┆ 66.042406    ┆ 45.642716    ┆ 18.791316    ┆ 6.32982      │\n",
       "│ std        ┆ 0.988057      ┆ null       ┆ 3.490723   ┆ … ┆ 19.787954    ┆ 18.559263    ┆ 6.461527     ┆ 3.494785     │\n",
       "│ min        ┆ 0.0           ┆ 2016-01-03 ┆ 1.0        ┆ … ┆ -19.0        ┆ -35.0        ┆ 0.0          ┆ 0.0          │\n",
       "│ 25%        ┆ 0.0           ┆ null       ┆ 3.0        ┆ … ┆ 53.0         ┆ 33.0         ┆ 15.0         ┆ 4.04         │\n",
       "│ 50%        ┆ 0.19          ┆ null       ┆ 6.0        ┆ … ┆ 68.0         ┆ 47.0         ┆ 19.0         ┆ 5.94         │\n",
       "│ 75%        ┆ 0.75          ┆ null       ┆ 9.0        ┆ … ┆ 82.0         ┆ 60.0         ┆ 23.0         ┆ 8.08         │\n",
       "│ max        ┆ 20.89         ┆ 2017-01-01 ┆ 12.0       ┆ … ┆ 111.0        ┆ 88.0         ┆ 36.0         ┆ 61.1         │\n",
       "└────────────┴───────────────┴────────────┴────────────┴───┴──────────────┴──────────────┴──────────────┴──────────────┘"
      ]
     },
     "execution_count": 10,
     "metadata": {},
     "output_type": "execute_result"
    }
   ],
   "source": [
    "df.describe()"
   ]
  }
 ],
 "metadata": {
  "kernelspec": {
   "display_name": "Python 3 (ipykernel)",
   "language": "python",
   "name": "python3"
  },
  "language_info": {
   "codemirror_mode": {
    "name": "ipython",
    "version": 3
   },
   "file_extension": ".py",
   "mimetype": "text/x-python",
   "name": "python",
   "nbconvert_exporter": "python",
   "pygments_lexer": "ipython3",
   "version": "3.12.1"
  }
 },
 "nbformat": 4,
 "nbformat_minor": 5
}
