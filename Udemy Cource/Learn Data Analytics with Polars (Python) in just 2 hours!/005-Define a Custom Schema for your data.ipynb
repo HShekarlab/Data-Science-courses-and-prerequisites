{
 "cells": [
  {
   "cell_type": "code",
   "execution_count": 1,
   "id": "f8dec268-25c4-4eaf-b4d7-e8489177e9a5",
   "metadata": {},
   "outputs": [],
   "source": [
    "import polars as pl"
   ]
  },
  {
   "cell_type": "code",
   "execution_count": 2,
   "id": "a75ebb23-206b-4d73-8b4e-43f388361fec",
   "metadata": {},
   "outputs": [],
   "source": [
    "df = pl.read_csv(\"weather.csv\", has_header= True)"
   ]
  },
  {
   "cell_type": "code",
   "execution_count": 3,
   "id": "39490bc1-4757-4670-99bc-af5a25507cc3",
   "metadata": {},
   "outputs": [],
   "source": [
    "custom_schema = {\"Data.Precipitation\": pl.Float64,\n",
    "                 \"Date.Full\": pl.Utf8,\n",
    "                 \"Date.Month\": pl.Float64,\n",
    "                 \"Date.Week of\": pl.Float64,\n",
    "                 \"Date.Year\": pl.Float64,\n",
    "                 \"Station.City\": pl.Utf8,\n",
    "                 \"Station.Code\": pl.Utf8,\n",
    "                 \"Station.Location\": pl.Utf8,\n",
    "                 \"Station.State\": pl.Utf8,\n",
    "                 \"Data.Temperature.Avg Temp\": pl.Float64,\n",
    "                 \"Data.Temperature.Max Temp\": pl.Float64,\n",
    "                 \"Data.Temperature.Min Temp\": pl.Float64,\n",
    "                 \"Data.Wind.Direction\": pl.Float64,\n",
    "                 \"Data.Wind.Speed\": pl.Float64}"
   ]
  },
  {
   "cell_type": "code",
   "execution_count": 4,
   "id": "ece873ab-d656-433b-91db-d3b1655a7047",
   "metadata": {},
   "outputs": [],
   "source": [
    "df = pl.read_csv(\"weather.csv\", has_header= True, dtypes= custom_schema)"
   ]
  },
  {
   "cell_type": "code",
   "execution_count": 5,
   "id": "98d94cdb-effc-4f7b-9f81-d2560d38b2a9",
   "metadata": {},
   "outputs": [
    {
     "data": {
      "text/html": [
       "<div><style>\n",
       ".dataframe > thead > tr,\n",
       ".dataframe > tbody > tr {\n",
       "  text-align: right;\n",
       "  white-space: pre-wrap;\n",
       "}\n",
       "</style>\n",
       "<small>shape: (3, 14)</small><table border=\"1\" class=\"dataframe\"><thead><tr><th>Data.Precipitation</th><th>Date.Full</th><th>Date.Month</th><th>Date.Week of</th><th>Date.Year</th><th>Station.City</th><th>Station.Code</th><th>Station.Location</th><th>Station.State</th><th>Data.Temperature.Avg Temp</th><th>Data.Temperature.Max Temp</th><th>Data.Temperature.Min Temp</th><th>Data.Wind.Direction</th><th>Data.Wind.Speed</th></tr><tr><td>f64</td><td>str</td><td>f64</td><td>f64</td><td>f64</td><td>str</td><td>str</td><td>str</td><td>str</td><td>f64</td><td>f64</td><td>f64</td><td>f64</td><td>f64</td></tr></thead><tbody><tr><td>0.0</td><td>&quot;2017-01-01&quot;</td><td>1.0</td><td>1.0</td><td>2017.0</td><td>&quot;Lander&quot;</td><td>&quot;LND&quot;</td><td>&quot;Lander, WY&quot;</td><td>&quot;Wyoming&quot;</td><td>17.0</td><td>29.0</td><td>4.0</td><td>26.0</td><td>1.65</td></tr><tr><td>0.06</td><td>&quot;2017-01-01&quot;</td><td>1.0</td><td>1.0</td><td>2017.0</td><td>&quot;Rawlins&quot;</td><td>&quot;RWL&quot;</td><td>&quot;Rawlins, WY&quot;</td><td>&quot;Wyoming&quot;</td><td>23.0</td><td>31.0</td><td>13.0</td><td>24.0</td><td>18.16</td></tr><tr><td>0.1</td><td>&quot;2017-01-01&quot;</td><td>1.0</td><td>1.0</td><td>2017.0</td><td>&quot;Sheridan&quot;</td><td>&quot;SHR&quot;</td><td>&quot;Sheridan, WY&quot;</td><td>&quot;Wyoming&quot;</td><td>21.0</td><td>34.0</td><td>8.0</td><td>23.0</td><td>7.51</td></tr></tbody></table></div>"
      ],
      "text/plain": [
       "shape: (3, 14)\n",
       "┌──────────────┬────────────┬────────────┬──────────────┬───┬──────────────┬──────────────┬──────────────┬─────────────┐\n",
       "│ Data.Precipi ┆ Date.Full  ┆ Date.Month ┆ Date.Week of ┆ … ┆ Data.Tempera ┆ Data.Tempera ┆ Data.Wind.Di ┆ Data.Wind.S │\n",
       "│ tation       ┆ ---        ┆ ---        ┆ ---          ┆   ┆ ture.Max     ┆ ture.Min     ┆ rection      ┆ peed        │\n",
       "│ ---          ┆ str        ┆ f64        ┆ f64          ┆   ┆ Temp         ┆ Temp         ┆ ---          ┆ ---         │\n",
       "│ f64          ┆            ┆            ┆              ┆   ┆ ---          ┆ ---          ┆ f64          ┆ f64         │\n",
       "│              ┆            ┆            ┆              ┆   ┆ f64          ┆ f64          ┆              ┆             │\n",
       "╞══════════════╪════════════╪════════════╪══════════════╪═══╪══════════════╪══════════════╪══════════════╪═════════════╡\n",
       "│ 0.0          ┆ 2017-01-01 ┆ 1.0        ┆ 1.0          ┆ … ┆ 29.0         ┆ 4.0          ┆ 26.0         ┆ 1.65        │\n",
       "│ 0.06         ┆ 2017-01-01 ┆ 1.0        ┆ 1.0          ┆ … ┆ 31.0         ┆ 13.0         ┆ 24.0         ┆ 18.16       │\n",
       "│ 0.1          ┆ 2017-01-01 ┆ 1.0        ┆ 1.0          ┆ … ┆ 34.0         ┆ 8.0          ┆ 23.0         ┆ 7.51        │\n",
       "└──────────────┴────────────┴────────────┴──────────────┴───┴──────────────┴──────────────┴──────────────┴─────────────┘"
      ]
     },
     "execution_count": 5,
     "metadata": {},
     "output_type": "execute_result"
    }
   ],
   "source": [
    "df.tail(3)"
   ]
  }
 ],
 "metadata": {
  "kernelspec": {
   "display_name": "Python 3 (ipykernel)",
   "language": "python",
   "name": "python3"
  },
  "language_info": {
   "codemirror_mode": {
    "name": "ipython",
    "version": 3
   },
   "file_extension": ".py",
   "mimetype": "text/x-python",
   "name": "python",
   "nbconvert_exporter": "python",
   "pygments_lexer": "ipython3",
   "version": "3.12.1"
  }
 },
 "nbformat": 4,
 "nbformat_minor": 5
}
