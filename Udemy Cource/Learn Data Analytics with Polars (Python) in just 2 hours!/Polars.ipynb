{
 "cells": [
  {
   "cell_type": "markdown",
   "metadata": {
    "id": "9Fn5r70kH8Vy"
   },
   "source": [
    "004-Ingest Inspect Data"
   ]
  },
  {
   "cell_type": "code",
   "execution_count": 1,
   "metadata": {
    "id": "9vtO-UJUGYBn"
   },
   "outputs": [],
   "source": [
    "import polars as pl"
   ]
  },
  {
   "cell_type": "code",
   "execution_count": 2,
   "metadata": {
    "id": "ktUtm3AFGyGP"
   },
   "outputs": [],
   "source": [
    "df = pl.read_csv(\"weather.csv\", has_header= True)"
   ]
  },
  {
   "cell_type": "code",
   "execution_count": 3,
   "metadata": {
    "colab": {
     "base_uri": "https://localhost:8080/",
     "height": 379
    },
    "id": "zZWXwHK1G_xM",
    "outputId": "68b37ab4-65fe-4311-b3f7-69922db32a72"
   },
   "outputs": [
    {
     "data": {
      "text/html": [
       "<div><style>\n",
       ".dataframe > thead > tr,\n",
       ".dataframe > tbody > tr {\n",
       "  text-align: right;\n",
       "  white-space: pre-wrap;\n",
       "}\n",
       "</style>\n",
       "<small>shape: (5, 14)</small><table border=\"1\" class=\"dataframe\"><thead><tr><th>Data.Precipitation</th><th>Date.Full</th><th>Date.Month</th><th>Date.Week of</th><th>Date.Year</th><th>Station.City</th><th>Station.Code</th><th>Station.Location</th><th>Station.State</th><th>Data.Temperature.Avg Temp</th><th>Data.Temperature.Max Temp</th><th>Data.Temperature.Min Temp</th><th>Data.Wind.Direction</th><th>Data.Wind.Speed</th></tr><tr><td>f64</td><td>str</td><td>i64</td><td>i64</td><td>i64</td><td>str</td><td>str</td><td>str</td><td>str</td><td>i64</td><td>i64</td><td>i64</td><td>i64</td><td>f64</td></tr></thead><tbody><tr><td>0.0</td><td>&quot;2016-01-03&quot;</td><td>1</td><td>3</td><td>2016</td><td>&quot;Birmingham&quot;</td><td>&quot;BHM&quot;</td><td>&quot;Birmingham, AL…</td><td>&quot;Alabama&quot;</td><td>39</td><td>46</td><td>32</td><td>33</td><td>4.33</td></tr><tr><td>0.0</td><td>&quot;2016-01-03&quot;</td><td>1</td><td>3</td><td>2016</td><td>&quot;Huntsville&quot;</td><td>&quot;HSV&quot;</td><td>&quot;Huntsville, AL…</td><td>&quot;Alabama&quot;</td><td>39</td><td>47</td><td>31</td><td>32</td><td>3.86</td></tr><tr><td>0.16</td><td>&quot;2016-01-03&quot;</td><td>1</td><td>3</td><td>2016</td><td>&quot;Mobile&quot;</td><td>&quot;MOB&quot;</td><td>&quot;Mobile, AL&quot;</td><td>&quot;Alabama&quot;</td><td>46</td><td>51</td><td>41</td><td>35</td><td>9.73</td></tr><tr><td>0.0</td><td>&quot;2016-01-03&quot;</td><td>1</td><td>3</td><td>2016</td><td>&quot;Montgomery&quot;</td><td>&quot;MGM&quot;</td><td>&quot;Montgomery, AL…</td><td>&quot;Alabama&quot;</td><td>45</td><td>52</td><td>38</td><td>32</td><td>6.86</td></tr><tr><td>0.01</td><td>&quot;2016-01-03&quot;</td><td>1</td><td>3</td><td>2016</td><td>&quot;Anchorage&quot;</td><td>&quot;ANC&quot;</td><td>&quot;Anchorage, AK&quot;</td><td>&quot;Alaska&quot;</td><td>34</td><td>38</td><td>29</td><td>19</td><td>7.8</td></tr></tbody></table></div>"
      ],
      "text/plain": [
       "shape: (5, 14)\n",
       "┌──────────────┬────────────┬────────────┬──────────────┬───┬──────────────┬──────────────┬──────────────┬─────────────┐\n",
       "│ Data.Precipi ┆ Date.Full  ┆ Date.Month ┆ Date.Week of ┆ … ┆ Data.Tempera ┆ Data.Tempera ┆ Data.Wind.Di ┆ Data.Wind.S │\n",
       "│ tation       ┆ ---        ┆ ---        ┆ ---          ┆   ┆ ture.Max     ┆ ture.Min     ┆ rection      ┆ peed        │\n",
       "│ ---          ┆ str        ┆ i64        ┆ i64          ┆   ┆ Temp         ┆ Temp         ┆ ---          ┆ ---         │\n",
       "│ f64          ┆            ┆            ┆              ┆   ┆ ---          ┆ ---          ┆ i64          ┆ f64         │\n",
       "│              ┆            ┆            ┆              ┆   ┆ i64          ┆ i64          ┆              ┆             │\n",
       "╞══════════════╪════════════╪════════════╪══════════════╪═══╪══════════════╪══════════════╪══════════════╪═════════════╡\n",
       "│ 0.0          ┆ 2016-01-03 ┆ 1          ┆ 3            ┆ … ┆ 46           ┆ 32           ┆ 33           ┆ 4.33        │\n",
       "│ 0.0          ┆ 2016-01-03 ┆ 1          ┆ 3            ┆ … ┆ 47           ┆ 31           ┆ 32           ┆ 3.86        │\n",
       "│ 0.16         ┆ 2016-01-03 ┆ 1          ┆ 3            ┆ … ┆ 51           ┆ 41           ┆ 35           ┆ 9.73        │\n",
       "│ 0.0          ┆ 2016-01-03 ┆ 1          ┆ 3            ┆ … ┆ 52           ┆ 38           ┆ 32           ┆ 6.86        │\n",
       "│ 0.01         ┆ 2016-01-03 ┆ 1          ┆ 3            ┆ … ┆ 38           ┆ 29           ┆ 19           ┆ 7.8         │\n",
       "└──────────────┴────────────┴────────────┴──────────────┴───┴──────────────┴──────────────┴──────────────┴─────────────┘"
      ]
     },
     "execution_count": 3,
     "metadata": {},
     "output_type": "execute_result"
    }
   ],
   "source": [
    "df.head(5)"
   ]
  },
  {
   "cell_type": "code",
   "execution_count": 4,
   "metadata": {
    "colab": {
     "base_uri": "https://localhost:8080/",
     "height": 282
    },
    "id": "yUhn_1xXHA59",
    "outputId": "eb35efa5-542b-455a-ea45-cc752450c0da"
   },
   "outputs": [
    {
     "data": {
      "text/html": [
       "<div><style>\n",
       ".dataframe > thead > tr,\n",
       ".dataframe > tbody > tr {\n",
       "  text-align: right;\n",
       "  white-space: pre-wrap;\n",
       "}\n",
       "</style>\n",
       "<small>shape: (3, 14)</small><table border=\"1\" class=\"dataframe\"><thead><tr><th>Data.Precipitation</th><th>Date.Full</th><th>Date.Month</th><th>Date.Week of</th><th>Date.Year</th><th>Station.City</th><th>Station.Code</th><th>Station.Location</th><th>Station.State</th><th>Data.Temperature.Avg Temp</th><th>Data.Temperature.Max Temp</th><th>Data.Temperature.Min Temp</th><th>Data.Wind.Direction</th><th>Data.Wind.Speed</th></tr><tr><td>f64</td><td>str</td><td>i64</td><td>i64</td><td>i64</td><td>str</td><td>str</td><td>str</td><td>str</td><td>i64</td><td>i64</td><td>i64</td><td>i64</td><td>f64</td></tr></thead><tbody><tr><td>0.0</td><td>&quot;2017-01-01&quot;</td><td>1</td><td>1</td><td>2017</td><td>&quot;Lander&quot;</td><td>&quot;LND&quot;</td><td>&quot;Lander, WY&quot;</td><td>&quot;Wyoming&quot;</td><td>17</td><td>29</td><td>4</td><td>26</td><td>1.65</td></tr><tr><td>0.06</td><td>&quot;2017-01-01&quot;</td><td>1</td><td>1</td><td>2017</td><td>&quot;Rawlins&quot;</td><td>&quot;RWL&quot;</td><td>&quot;Rawlins, WY&quot;</td><td>&quot;Wyoming&quot;</td><td>23</td><td>31</td><td>13</td><td>24</td><td>18.16</td></tr><tr><td>0.1</td><td>&quot;2017-01-01&quot;</td><td>1</td><td>1</td><td>2017</td><td>&quot;Sheridan&quot;</td><td>&quot;SHR&quot;</td><td>&quot;Sheridan, WY&quot;</td><td>&quot;Wyoming&quot;</td><td>21</td><td>34</td><td>8</td><td>23</td><td>7.51</td></tr></tbody></table></div>"
      ],
      "text/plain": [
       "shape: (3, 14)\n",
       "┌──────────────┬────────────┬────────────┬──────────────┬───┬──────────────┬──────────────┬──────────────┬─────────────┐\n",
       "│ Data.Precipi ┆ Date.Full  ┆ Date.Month ┆ Date.Week of ┆ … ┆ Data.Tempera ┆ Data.Tempera ┆ Data.Wind.Di ┆ Data.Wind.S │\n",
       "│ tation       ┆ ---        ┆ ---        ┆ ---          ┆   ┆ ture.Max     ┆ ture.Min     ┆ rection      ┆ peed        │\n",
       "│ ---          ┆ str        ┆ i64        ┆ i64          ┆   ┆ Temp         ┆ Temp         ┆ ---          ┆ ---         │\n",
       "│ f64          ┆            ┆            ┆              ┆   ┆ ---          ┆ ---          ┆ i64          ┆ f64         │\n",
       "│              ┆            ┆            ┆              ┆   ┆ i64          ┆ i64          ┆              ┆             │\n",
       "╞══════════════╪════════════╪════════════╪══════════════╪═══╪══════════════╪══════════════╪══════════════╪═════════════╡\n",
       "│ 0.0          ┆ 2017-01-01 ┆ 1          ┆ 1            ┆ … ┆ 29           ┆ 4            ┆ 26           ┆ 1.65        │\n",
       "│ 0.06         ┆ 2017-01-01 ┆ 1          ┆ 1            ┆ … ┆ 31           ┆ 13           ┆ 24           ┆ 18.16       │\n",
       "│ 0.1          ┆ 2017-01-01 ┆ 1          ┆ 1            ┆ … ┆ 34           ┆ 8            ┆ 23           ┆ 7.51        │\n",
       "└──────────────┴────────────┴────────────┴──────────────┴───┴──────────────┴──────────────┴──────────────┴─────────────┘"
      ]
     },
     "execution_count": 4,
     "metadata": {},
     "output_type": "execute_result"
    }
   ],
   "source": [
    "df.tail(3)"
   ]
  },
  {
   "cell_type": "code",
   "execution_count": 5,
   "metadata": {
    "colab": {
     "base_uri": "https://localhost:8080/"
    },
    "id": "412Jc4WvHPLE",
    "outputId": "b74786a6-27dc-4362-80e6-2f6a546d8100"
   },
   "outputs": [
    {
     "data": {
      "text/plain": [
       "16743"
      ]
     },
     "execution_count": 5,
     "metadata": {},
     "output_type": "execute_result"
    }
   ],
   "source": [
    "len(df)"
   ]
  },
  {
   "cell_type": "code",
   "execution_count": 6,
   "metadata": {
    "colab": {
     "base_uri": "https://localhost:8080/"
    },
    "id": "qIMT5a22HR42",
    "outputId": "fca5485d-bbab-4e2e-a929-30312846aa6c"
   },
   "outputs": [
    {
     "data": {
      "text/plain": [
       "(16743, 14)"
      ]
     },
     "execution_count": 6,
     "metadata": {},
     "output_type": "execute_result"
    }
   ],
   "source": [
    "df.shape"
   ]
  },
  {
   "cell_type": "code",
   "execution_count": 7,
   "metadata": {
    "colab": {
     "base_uri": "https://localhost:8080/"
    },
    "id": "6FxjPMd5HWWP",
    "outputId": "53f372d6-b69c-4e4a-e5e3-5044735ed7d5"
   },
   "outputs": [
    {
     "data": {
      "text/plain": [
       "['Data.Precipitation',\n",
       " 'Date.Full',\n",
       " 'Date.Month',\n",
       " 'Date.Week of',\n",
       " 'Date.Year',\n",
       " 'Station.City',\n",
       " 'Station.Code',\n",
       " 'Station.Location',\n",
       " 'Station.State',\n",
       " 'Data.Temperature.Avg Temp',\n",
       " 'Data.Temperature.Max Temp',\n",
       " 'Data.Temperature.Min Temp',\n",
       " 'Data.Wind.Direction',\n",
       " 'Data.Wind.Speed']"
      ]
     },
     "execution_count": 7,
     "metadata": {},
     "output_type": "execute_result"
    }
   ],
   "source": [
    "df.columns"
   ]
  },
  {
   "cell_type": "code",
   "execution_count": 8,
   "metadata": {
    "colab": {
     "base_uri": "https://localhost:8080/"
    },
    "id": "A-yuNxN_HYPd",
    "outputId": "453aa85e-d7bc-46b8-8849-51bd5608f75e"
   },
   "outputs": [
    {
     "data": {
      "text/plain": [
       "[Float64,\n",
       " String,\n",
       " Int64,\n",
       " Int64,\n",
       " Int64,\n",
       " String,\n",
       " String,\n",
       " String,\n",
       " String,\n",
       " Int64,\n",
       " Int64,\n",
       " Int64,\n",
       " Int64,\n",
       " Float64]"
      ]
     },
     "execution_count": 8,
     "metadata": {},
     "output_type": "execute_result"
    }
   ],
   "source": [
    "df.dtypes"
   ]
  },
  {
   "cell_type": "code",
   "execution_count": 9,
   "metadata": {
    "colab": {
     "base_uri": "https://localhost:8080/"
    },
    "id": "T9gBdGGLHf-s",
    "outputId": "02c58561-54c7-4e54-c3b8-1d2df4a7dab4"
   },
   "outputs": [
    {
     "data": {
      "text/plain": [
       "<bound method DataFrame.describe of shape: (16_743, 14)\n",
       "┌──────────────┬────────────┬────────────┬──────────────┬───┬──────────────┬──────────────┬──────────────┬─────────────┐\n",
       "│ Data.Precipi ┆ Date.Full  ┆ Date.Month ┆ Date.Week of ┆ … ┆ Data.Tempera ┆ Data.Tempera ┆ Data.Wind.Di ┆ Data.Wind.S │\n",
       "│ tation       ┆ ---        ┆ ---        ┆ ---          ┆   ┆ ture.Max     ┆ ture.Min     ┆ rection      ┆ peed        │\n",
       "│ ---          ┆ str        ┆ i64        ┆ i64          ┆   ┆ Temp         ┆ Temp         ┆ ---          ┆ ---         │\n",
       "│ f64          ┆            ┆            ┆              ┆   ┆ ---          ┆ ---          ┆ i64          ┆ f64         │\n",
       "│              ┆            ┆            ┆              ┆   ┆ i64          ┆ i64          ┆              ┆             │\n",
       "╞══════════════╪════════════╪════════════╪══════════════╪═══╪══════════════╪══════════════╪══════════════╪═════════════╡\n",
       "│ 0.0          ┆ 2016-01-03 ┆ 1          ┆ 3            ┆ … ┆ 46           ┆ 32           ┆ 33           ┆ 4.33        │\n",
       "│ 0.0          ┆ 2016-01-03 ┆ 1          ┆ 3            ┆ … ┆ 47           ┆ 31           ┆ 32           ┆ 3.86        │\n",
       "│ 0.16         ┆ 2016-01-03 ┆ 1          ┆ 3            ┆ … ┆ 51           ┆ 41           ┆ 35           ┆ 9.73        │\n",
       "│ 0.0          ┆ 2016-01-03 ┆ 1          ┆ 3            ┆ … ┆ 52           ┆ 38           ┆ 32           ┆ 6.86        │\n",
       "│ 0.01         ┆ 2016-01-03 ┆ 1          ┆ 3            ┆ … ┆ 38           ┆ 29           ┆ 19           ┆ 7.8         │\n",
       "│ …            ┆ …          ┆ …          ┆ …            ┆ … ┆ …            ┆ …            ┆ …            ┆ …           │\n",
       "│ 0.08         ┆ 2017-01-01 ┆ 1          ┆ 1            ┆ … ┆ 32           ┆ 15           ┆ 23           ┆ 19.98       │\n",
       "│ 0.0          ┆ 2017-01-01 ┆ 1          ┆ 1            ┆ … ┆ 42           ┆ 21           ┆ 26           ┆ 15.16       │\n",
       "│ 0.0          ┆ 2017-01-01 ┆ 1          ┆ 1            ┆ … ┆ 29           ┆ 4            ┆ 26           ┆ 1.65        │\n",
       "│ 0.06         ┆ 2017-01-01 ┆ 1          ┆ 1            ┆ … ┆ 31           ┆ 13           ┆ 24           ┆ 18.16       │\n",
       "│ 0.1          ┆ 2017-01-01 ┆ 1          ┆ 1            ┆ … ┆ 34           ┆ 8            ┆ 23           ┆ 7.51        │\n",
       "└──────────────┴────────────┴────────────┴──────────────┴───┴──────────────┴──────────────┴──────────────┴─────────────┘>"
      ]
     },
     "execution_count": 9,
     "metadata": {},
     "output_type": "execute_result"
    }
   ],
   "source": [
    "df.describe"
   ]
  },
  {
   "cell_type": "code",
   "execution_count": 10,
   "metadata": {
    "colab": {
     "base_uri": "https://localhost:8080/",
     "height": 452
    },
    "id": "t4OeDqHZHlQF",
    "outputId": "e58d1bbb-8d76-40af-8a45-b580709c4390"
   },
   "outputs": [
    {
     "data": {
      "text/html": [
       "<div><style>\n",
       ".dataframe > thead > tr,\n",
       ".dataframe > tbody > tr {\n",
       "  text-align: right;\n",
       "  white-space: pre-wrap;\n",
       "}\n",
       "</style>\n",
       "<small>shape: (9, 15)</small><table border=\"1\" class=\"dataframe\"><thead><tr><th>statistic</th><th>Data.Precipitation</th><th>Date.Full</th><th>Date.Month</th><th>Date.Week of</th><th>Date.Year</th><th>Station.City</th><th>Station.Code</th><th>Station.Location</th><th>Station.State</th><th>Data.Temperature.Avg Temp</th><th>Data.Temperature.Max Temp</th><th>Data.Temperature.Min Temp</th><th>Data.Wind.Direction</th><th>Data.Wind.Speed</th></tr><tr><td>str</td><td>f64</td><td>str</td><td>f64</td><td>f64</td><td>f64</td><td>str</td><td>str</td><td>str</td><td>str</td><td>f64</td><td>f64</td><td>f64</td><td>f64</td><td>f64</td></tr></thead><tbody><tr><td>&quot;count&quot;</td><td>16743.0</td><td>&quot;16743&quot;</td><td>16743.0</td><td>16743.0</td><td>16743.0</td><td>&quot;16743&quot;</td><td>&quot;16743&quot;</td><td>&quot;16743&quot;</td><td>&quot;16743&quot;</td><td>16743.0</td><td>16743.0</td><td>16743.0</td><td>16743.0</td><td>16743.0</td></tr><tr><td>&quot;null_count&quot;</td><td>0.0</td><td>&quot;0&quot;</td><td>0.0</td><td>0.0</td><td>0.0</td><td>&quot;0&quot;</td><td>&quot;0&quot;</td><td>&quot;0&quot;</td><td>&quot;0&quot;</td><td>0.0</td><td>0.0</td><td>0.0</td><td>0.0</td><td>0.0</td></tr><tr><td>&quot;mean&quot;</td><td>0.57909</td><td>null</td><td>6.343128</td><td>15.650242</td><td>2016.018933</td><td>null</td><td>null</td><td>null</td><td>null</td><td>56.089112</td><td>66.042406</td><td>45.642716</td><td>18.791316</td><td>6.32982</td></tr><tr><td>&quot;std&quot;</td><td>0.988057</td><td>null</td><td>3.490723</td><td>8.923425</td><td>0.136294</td><td>null</td><td>null</td><td>null</td><td>null</td><td>18.798295</td><td>19.787954</td><td>18.559263</td><td>6.461527</td><td>3.494785</td></tr><tr><td>&quot;min&quot;</td><td>0.0</td><td>&quot;2016-01-03&quot;</td><td>1.0</td><td>1.0</td><td>2016.0</td><td>&quot;Aberdeen&quot;</td><td>&quot;ABE&quot;</td><td>&quot;Aberdeen, SD&quot;</td><td>&quot;Alabama&quot;</td><td>-27.0</td><td>-19.0</td><td>-35.0</td><td>0.0</td><td>0.0</td></tr><tr><td>&quot;25%&quot;</td><td>0.0</td><td>null</td><td>3.0</td><td>8.0</td><td>2016.0</td><td>null</td><td>null</td><td>null</td><td>null</td><td>44.0</td><td>53.0</td><td>33.0</td><td>15.0</td><td>4.04</td></tr><tr><td>&quot;50%&quot;</td><td>0.19</td><td>null</td><td>6.0</td><td>16.0</td><td>2016.0</td><td>null</td><td>null</td><td>null</td><td>null</td><td>58.0</td><td>68.0</td><td>47.0</td><td>19.0</td><td>5.94</td></tr><tr><td>&quot;75%&quot;</td><td>0.75</td><td>null</td><td>9.0</td><td>24.0</td><td>2016.0</td><td>null</td><td>null</td><td>null</td><td>null</td><td>71.0</td><td>82.0</td><td>60.0</td><td>23.0</td><td>8.08</td></tr><tr><td>&quot;max&quot;</td><td>20.89</td><td>&quot;2017-01-01&quot;</td><td>12.0</td><td>31.0</td><td>2017.0</td><td>&quot;Youngstown/War…</td><td>&quot;YNG&quot;</td><td>&quot;Youngstown/War…</td><td>&quot;Wyoming&quot;</td><td>100.0</td><td>111.0</td><td>88.0</td><td>36.0</td><td>61.1</td></tr></tbody></table></div>"
      ],
      "text/plain": [
       "shape: (9, 15)\n",
       "┌────────────┬───────────────┬────────────┬────────────┬───┬──────────────┬──────────────┬──────────────┬──────────────┐\n",
       "│ statistic  ┆ Data.Precipit ┆ Date.Full  ┆ Date.Month ┆ … ┆ Data.Tempera ┆ Data.Tempera ┆ Data.Wind.Di ┆ Data.Wind.Sp │\n",
       "│ ---        ┆ ation         ┆ ---        ┆ ---        ┆   ┆ ture.Max     ┆ ture.Min     ┆ rection      ┆ eed          │\n",
       "│ str        ┆ ---           ┆ str        ┆ f64        ┆   ┆ Temp         ┆ Temp         ┆ ---          ┆ ---          │\n",
       "│            ┆ f64           ┆            ┆            ┆   ┆ ---          ┆ ---          ┆ f64          ┆ f64          │\n",
       "│            ┆               ┆            ┆            ┆   ┆ f64          ┆ f64          ┆              ┆              │\n",
       "╞════════════╪═══════════════╪════════════╪════════════╪═══╪══════════════╪══════════════╪══════════════╪══════════════╡\n",
       "│ count      ┆ 16743.0       ┆ 16743      ┆ 16743.0    ┆ … ┆ 16743.0      ┆ 16743.0      ┆ 16743.0      ┆ 16743.0      │\n",
       "│ null_count ┆ 0.0           ┆ 0          ┆ 0.0        ┆ … ┆ 0.0          ┆ 0.0          ┆ 0.0          ┆ 0.0          │\n",
       "│ mean       ┆ 0.57909       ┆ null       ┆ 6.343128   ┆ … ┆ 66.042406    ┆ 45.642716    ┆ 18.791316    ┆ 6.32982      │\n",
       "│ std        ┆ 0.988057      ┆ null       ┆ 3.490723   ┆ … ┆ 19.787954    ┆ 18.559263    ┆ 6.461527     ┆ 3.494785     │\n",
       "│ min        ┆ 0.0           ┆ 2016-01-03 ┆ 1.0        ┆ … ┆ -19.0        ┆ -35.0        ┆ 0.0          ┆ 0.0          │\n",
       "│ 25%        ┆ 0.0           ┆ null       ┆ 3.0        ┆ … ┆ 53.0         ┆ 33.0         ┆ 15.0         ┆ 4.04         │\n",
       "│ 50%        ┆ 0.19          ┆ null       ┆ 6.0        ┆ … ┆ 68.0         ┆ 47.0         ┆ 19.0         ┆ 5.94         │\n",
       "│ 75%        ┆ 0.75          ┆ null       ┆ 9.0        ┆ … ┆ 82.0         ┆ 60.0         ┆ 23.0         ┆ 8.08         │\n",
       "│ max        ┆ 20.89         ┆ 2017-01-01 ┆ 12.0       ┆ … ┆ 111.0        ┆ 88.0         ┆ 36.0         ┆ 61.1         │\n",
       "└────────────┴───────────────┴────────────┴────────────┴───┴──────────────┴──────────────┴──────────────┴──────────────┘"
      ]
     },
     "execution_count": 10,
     "metadata": {},
     "output_type": "execute_result"
    }
   ],
   "source": [
    "df.describe()"
   ]
  },
  {
   "cell_type": "markdown",
   "metadata": {
    "id": "fubTV_MsICFO"
   },
   "source": [
    "005-Define a Custom Schema for your data"
   ]
  },
  {
   "cell_type": "code",
   "execution_count": 11,
   "metadata": {
    "id": "tZhLGLX-H1jk"
   },
   "outputs": [],
   "source": [
    "custom_schema = {\"Data.Precipitation\": pl.Float64,\n",
    "                 \"Date.Full\": pl.Utf8,\n",
    "                 \"Date.Month\": pl.Float64,\n",
    "                 \"Date.Week of\": pl.Float64,\n",
    "                 \"Date.Year\": pl.Float64,\n",
    "                 \"Station.City\": pl.Utf8,\n",
    "                 \"Station.Code\": pl.Utf8,\n",
    "                 \"Station.Location\": pl.Utf8,\n",
    "                 \"Station.State\": pl.Utf8,\n",
    "                 \"Data.Temperature.Avg Temp\": pl.Float64,\n",
    "                 \"Data.Temperature.Max Temp\": pl.Float64,\n",
    "                 \"Data.Temperature.Min Temp\": pl.Float64,\n",
    "                 \"Data.Wind.Direction\": pl.Float64,\n",
    "                 \"Data.Wind.Speed\": pl.Float64}"
   ]
  },
  {
   "cell_type": "code",
   "execution_count": 12,
   "metadata": {
    "id": "wsa9OamKJ_J6"
   },
   "outputs": [],
   "source": [
    "df = pl.read_csv(\"weather.csv\", has_header= True, dtypes= custom_schema)"
   ]
  },
  {
   "cell_type": "code",
   "execution_count": 13,
   "metadata": {
    "colab": {
     "base_uri": "https://localhost:8080/",
     "height": 282
    },
    "id": "wO04MqnGKakl",
    "outputId": "0e54d49a-d2ea-4622-c854-d4c89cc74cf8"
   },
   "outputs": [
    {
     "data": {
      "text/html": [
       "<div><style>\n",
       ".dataframe > thead > tr,\n",
       ".dataframe > tbody > tr {\n",
       "  text-align: right;\n",
       "  white-space: pre-wrap;\n",
       "}\n",
       "</style>\n",
       "<small>shape: (3, 14)</small><table border=\"1\" class=\"dataframe\"><thead><tr><th>Data.Precipitation</th><th>Date.Full</th><th>Date.Month</th><th>Date.Week of</th><th>Date.Year</th><th>Station.City</th><th>Station.Code</th><th>Station.Location</th><th>Station.State</th><th>Data.Temperature.Avg Temp</th><th>Data.Temperature.Max Temp</th><th>Data.Temperature.Min Temp</th><th>Data.Wind.Direction</th><th>Data.Wind.Speed</th></tr><tr><td>f64</td><td>str</td><td>f64</td><td>f64</td><td>f64</td><td>str</td><td>str</td><td>str</td><td>str</td><td>f64</td><td>f64</td><td>f64</td><td>f64</td><td>f64</td></tr></thead><tbody><tr><td>0.0</td><td>&quot;2016-01-03&quot;</td><td>1.0</td><td>3.0</td><td>2016.0</td><td>&quot;Birmingham&quot;</td><td>&quot;BHM&quot;</td><td>&quot;Birmingham, AL…</td><td>&quot;Alabama&quot;</td><td>39.0</td><td>46.0</td><td>32.0</td><td>33.0</td><td>4.33</td></tr><tr><td>0.0</td><td>&quot;2016-01-03&quot;</td><td>1.0</td><td>3.0</td><td>2016.0</td><td>&quot;Huntsville&quot;</td><td>&quot;HSV&quot;</td><td>&quot;Huntsville, AL…</td><td>&quot;Alabama&quot;</td><td>39.0</td><td>47.0</td><td>31.0</td><td>32.0</td><td>3.86</td></tr><tr><td>0.16</td><td>&quot;2016-01-03&quot;</td><td>1.0</td><td>3.0</td><td>2016.0</td><td>&quot;Mobile&quot;</td><td>&quot;MOB&quot;</td><td>&quot;Mobile, AL&quot;</td><td>&quot;Alabama&quot;</td><td>46.0</td><td>51.0</td><td>41.0</td><td>35.0</td><td>9.73</td></tr></tbody></table></div>"
      ],
      "text/plain": [
       "shape: (3, 14)\n",
       "┌──────────────┬────────────┬────────────┬──────────────┬───┬──────────────┬──────────────┬──────────────┬─────────────┐\n",
       "│ Data.Precipi ┆ Date.Full  ┆ Date.Month ┆ Date.Week of ┆ … ┆ Data.Tempera ┆ Data.Tempera ┆ Data.Wind.Di ┆ Data.Wind.S │\n",
       "│ tation       ┆ ---        ┆ ---        ┆ ---          ┆   ┆ ture.Max     ┆ ture.Min     ┆ rection      ┆ peed        │\n",
       "│ ---          ┆ str        ┆ f64        ┆ f64          ┆   ┆ Temp         ┆ Temp         ┆ ---          ┆ ---         │\n",
       "│ f64          ┆            ┆            ┆              ┆   ┆ ---          ┆ ---          ┆ f64          ┆ f64         │\n",
       "│              ┆            ┆            ┆              ┆   ┆ f64          ┆ f64          ┆              ┆             │\n",
       "╞══════════════╪════════════╪════════════╪══════════════╪═══╪══════════════╪══════════════╪══════════════╪═════════════╡\n",
       "│ 0.0          ┆ 2016-01-03 ┆ 1.0        ┆ 3.0          ┆ … ┆ 46.0         ┆ 32.0         ┆ 33.0         ┆ 4.33        │\n",
       "│ 0.0          ┆ 2016-01-03 ┆ 1.0        ┆ 3.0          ┆ … ┆ 47.0         ┆ 31.0         ┆ 32.0         ┆ 3.86        │\n",
       "│ 0.16         ┆ 2016-01-03 ┆ 1.0        ┆ 3.0          ┆ … ┆ 51.0         ┆ 41.0         ┆ 35.0         ┆ 9.73        │\n",
       "└──────────────┴────────────┴────────────┴──────────────┴───┴──────────────┴──────────────┴──────────────┴─────────────┘"
      ]
     },
     "execution_count": 13,
     "metadata": {},
     "output_type": "execute_result"
    }
   ],
   "source": [
    "df.head(3)"
   ]
  },
  {
   "cell_type": "code",
   "execution_count": 14,
   "metadata": {
    "colab": {
     "base_uri": "https://localhost:8080/",
     "height": 282
    },
    "id": "F8qaaQGVKfQC",
    "outputId": "30413396-4542-4596-d9c8-ee349d66d48f"
   },
   "outputs": [
    {
     "data": {
      "text/html": [
       "<div><style>\n",
       ".dataframe > thead > tr,\n",
       ".dataframe > tbody > tr {\n",
       "  text-align: right;\n",
       "  white-space: pre-wrap;\n",
       "}\n",
       "</style>\n",
       "<small>shape: (3, 14)</small><table border=\"1\" class=\"dataframe\"><thead><tr><th>Data.Precipitation</th><th>Date.Full</th><th>Date.Month</th><th>Date.Week of</th><th>Date.Year</th><th>Station.City</th><th>Station.Code</th><th>Station.Location</th><th>Station.State</th><th>Data.Temperature.Avg Temp</th><th>Data.Temperature.Max Temp</th><th>Data.Temperature.Min Temp</th><th>Data.Wind.Direction</th><th>Data.Wind.Speed</th></tr><tr><td>f64</td><td>str</td><td>f64</td><td>f64</td><td>f64</td><td>str</td><td>str</td><td>str</td><td>str</td><td>f64</td><td>f64</td><td>f64</td><td>f64</td><td>f64</td></tr></thead><tbody><tr><td>0.0</td><td>&quot;2017-01-01&quot;</td><td>1.0</td><td>1.0</td><td>2017.0</td><td>&quot;Lander&quot;</td><td>&quot;LND&quot;</td><td>&quot;Lander, WY&quot;</td><td>&quot;Wyoming&quot;</td><td>17.0</td><td>29.0</td><td>4.0</td><td>26.0</td><td>1.65</td></tr><tr><td>0.06</td><td>&quot;2017-01-01&quot;</td><td>1.0</td><td>1.0</td><td>2017.0</td><td>&quot;Rawlins&quot;</td><td>&quot;RWL&quot;</td><td>&quot;Rawlins, WY&quot;</td><td>&quot;Wyoming&quot;</td><td>23.0</td><td>31.0</td><td>13.0</td><td>24.0</td><td>18.16</td></tr><tr><td>0.1</td><td>&quot;2017-01-01&quot;</td><td>1.0</td><td>1.0</td><td>2017.0</td><td>&quot;Sheridan&quot;</td><td>&quot;SHR&quot;</td><td>&quot;Sheridan, WY&quot;</td><td>&quot;Wyoming&quot;</td><td>21.0</td><td>34.0</td><td>8.0</td><td>23.0</td><td>7.51</td></tr></tbody></table></div>"
      ],
      "text/plain": [
       "shape: (3, 14)\n",
       "┌──────────────┬────────────┬────────────┬──────────────┬───┬──────────────┬──────────────┬──────────────┬─────────────┐\n",
       "│ Data.Precipi ┆ Date.Full  ┆ Date.Month ┆ Date.Week of ┆ … ┆ Data.Tempera ┆ Data.Tempera ┆ Data.Wind.Di ┆ Data.Wind.S │\n",
       "│ tation       ┆ ---        ┆ ---        ┆ ---          ┆   ┆ ture.Max     ┆ ture.Min     ┆ rection      ┆ peed        │\n",
       "│ ---          ┆ str        ┆ f64        ┆ f64          ┆   ┆ Temp         ┆ Temp         ┆ ---          ┆ ---         │\n",
       "│ f64          ┆            ┆            ┆              ┆   ┆ ---          ┆ ---          ┆ f64          ┆ f64         │\n",
       "│              ┆            ┆            ┆              ┆   ┆ f64          ┆ f64          ┆              ┆             │\n",
       "╞══════════════╪════════════╪════════════╪══════════════╪═══╪══════════════╪══════════════╪══════════════╪═════════════╡\n",
       "│ 0.0          ┆ 2017-01-01 ┆ 1.0        ┆ 1.0          ┆ … ┆ 29.0         ┆ 4.0          ┆ 26.0         ┆ 1.65        │\n",
       "│ 0.06         ┆ 2017-01-01 ┆ 1.0        ┆ 1.0          ┆ … ┆ 31.0         ┆ 13.0         ┆ 24.0         ┆ 18.16       │\n",
       "│ 0.1          ┆ 2017-01-01 ┆ 1.0        ┆ 1.0          ┆ … ┆ 34.0         ┆ 8.0          ┆ 23.0         ┆ 7.51        │\n",
       "└──────────────┴────────────┴────────────┴──────────────┴───┴──────────────┴──────────────┴──────────────┴─────────────┘"
      ]
     },
     "execution_count": 14,
     "metadata": {},
     "output_type": "execute_result"
    }
   ],
   "source": [
    "df.tail(3)"
   ]
  },
  {
   "cell_type": "markdown",
   "metadata": {
    "id": "nC9_5iMAKqc1"
   },
   "source": [
    "006-Handle Null Values in our Data"
   ]
  },
  {
   "cell_type": "code",
   "execution_count": 15,
   "metadata": {
    "colab": {
     "base_uri": "https://localhost:8080/"
    },
    "id": "u9Uuh8CeKkon",
    "outputId": "fc2b79ea-6f0b-4bb4-85c3-1ea8fc4ddbe0"
   },
   "outputs": [
    {
     "data": {
      "text/plain": [
       "16743"
      ]
     },
     "execution_count": 15,
     "metadata": {},
     "output_type": "execute_result"
    }
   ],
   "source": [
    "df_no_null = df.filter(df[\"Date.Full\"].is_not_null())\n",
    "len(df_no_null)"
   ]
  },
  {
   "cell_type": "code",
   "execution_count": 16,
   "metadata": {
    "colab": {
     "base_uri": "https://localhost:8080/"
    },
    "id": "ytviY0VRq0fM",
    "outputId": "4b238531-c23e-45b6-e808-1f7f77802dfa"
   },
   "outputs": [
    {
     "data": {
      "text/plain": [
       "16743"
      ]
     },
     "execution_count": 16,
     "metadata": {},
     "output_type": "execute_result"
    }
   ],
   "source": [
    "df_no_null = df.filter( (df[\"Date.Full\"].is_not_null()) & df[\"Station.State\"].is_not_null() )\n",
    "len(df_no_null)"
   ]
  },
  {
   "cell_type": "code",
   "execution_count": 17,
   "metadata": {
    "colab": {
     "base_uri": "https://localhost:8080/"
    },
    "id": "nXglEhMWsK3C",
    "outputId": "820e859c-a5ef-4edc-e84e-f454a175bbc6"
   },
   "outputs": [
    {
     "data": {
      "text/plain": [
       "16743"
      ]
     },
     "execution_count": 17,
     "metadata": {},
     "output_type": "execute_result"
    }
   ],
   "source": [
    "df_no_null = df.filter( (df[\"Date.Full\"].is_not_null()) | df[\"Station.State\"].is_not_null() )\n",
    "len(df_no_null)"
   ]
  },
  {
   "cell_type": "code",
   "execution_count": 18,
   "metadata": {
    "colab": {
     "base_uri": "https://localhost:8080/",
     "height": 282
    },
    "id": "VM3U_gV4tAt1",
    "outputId": "e3b25527-6f43-4abf-d383-6518d5c0e20c"
   },
   "outputs": [
    {
     "data": {
      "text/html": [
       "<div><style>\n",
       ".dataframe > thead > tr,\n",
       ".dataframe > tbody > tr {\n",
       "  text-align: right;\n",
       "  white-space: pre-wrap;\n",
       "}\n",
       "</style>\n",
       "<small>shape: (3, 14)</small><table border=\"1\" class=\"dataframe\"><thead><tr><th>Data.Precipitation</th><th>Date.Full</th><th>Date.Month</th><th>Date.Week of</th><th>Date.Year</th><th>Station.City</th><th>Station.Code</th><th>Station.Location</th><th>Station.State</th><th>Data.Temperature.Avg Temp</th><th>Data.Temperature.Max Temp</th><th>Data.Temperature.Min Temp</th><th>Data.Wind.Direction</th><th>Data.Wind.Speed</th></tr><tr><td>f64</td><td>str</td><td>f64</td><td>f64</td><td>f64</td><td>str</td><td>str</td><td>str</td><td>str</td><td>f64</td><td>f64</td><td>f64</td><td>f64</td><td>f64</td></tr></thead><tbody><tr><td>0.0</td><td>&quot;2016-01-03&quot;</td><td>1.0</td><td>3.0</td><td>2016.0</td><td>&quot;Birmingham&quot;</td><td>&quot;BHM&quot;</td><td>&quot;Birmingham, AL…</td><td>&quot;Alabama&quot;</td><td>39.0</td><td>46.0</td><td>32.0</td><td>33.0</td><td>4.33</td></tr><tr><td>0.0</td><td>&quot;2016-01-03&quot;</td><td>1.0</td><td>3.0</td><td>2016.0</td><td>&quot;Huntsville&quot;</td><td>&quot;HSV&quot;</td><td>&quot;Huntsville, AL…</td><td>&quot;Alabama&quot;</td><td>39.0</td><td>47.0</td><td>31.0</td><td>32.0</td><td>3.86</td></tr><tr><td>0.16</td><td>&quot;2016-01-03&quot;</td><td>1.0</td><td>3.0</td><td>2016.0</td><td>&quot;Mobile&quot;</td><td>&quot;MOB&quot;</td><td>&quot;Mobile, AL&quot;</td><td>&quot;Alabama&quot;</td><td>46.0</td><td>51.0</td><td>41.0</td><td>35.0</td><td>9.73</td></tr></tbody></table></div>"
      ],
      "text/plain": [
       "shape: (3, 14)\n",
       "┌──────────────┬────────────┬────────────┬──────────────┬───┬──────────────┬──────────────┬──────────────┬─────────────┐\n",
       "│ Data.Precipi ┆ Date.Full  ┆ Date.Month ┆ Date.Week of ┆ … ┆ Data.Tempera ┆ Data.Tempera ┆ Data.Wind.Di ┆ Data.Wind.S │\n",
       "│ tation       ┆ ---        ┆ ---        ┆ ---          ┆   ┆ ture.Max     ┆ ture.Min     ┆ rection      ┆ peed        │\n",
       "│ ---          ┆ str        ┆ f64        ┆ f64          ┆   ┆ Temp         ┆ Temp         ┆ ---          ┆ ---         │\n",
       "│ f64          ┆            ┆            ┆              ┆   ┆ ---          ┆ ---          ┆ f64          ┆ f64         │\n",
       "│              ┆            ┆            ┆              ┆   ┆ f64          ┆ f64          ┆              ┆             │\n",
       "╞══════════════╪════════════╪════════════╪══════════════╪═══╪══════════════╪══════════════╪══════════════╪═════════════╡\n",
       "│ 0.0          ┆ 2016-01-03 ┆ 1.0        ┆ 3.0          ┆ … ┆ 46.0         ┆ 32.0         ┆ 33.0         ┆ 4.33        │\n",
       "│ 0.0          ┆ 2016-01-03 ┆ 1.0        ┆ 3.0          ┆ … ┆ 47.0         ┆ 31.0         ┆ 32.0         ┆ 3.86        │\n",
       "│ 0.16         ┆ 2016-01-03 ┆ 1.0        ┆ 3.0          ┆ … ┆ 51.0         ┆ 41.0         ┆ 35.0         ┆ 9.73        │\n",
       "└──────────────┴────────────┴────────────┴──────────────┴───┴──────────────┴──────────────┴──────────────┴─────────────┘"
      ]
     },
     "execution_count": 18,
     "metadata": {},
     "output_type": "execute_result"
    }
   ],
   "source": [
    "df_no_null_2 = df.drop_nulls(subset= [\"Date.Full\", \"Station.State\", \"Station.City\", \"Station.Code\"])\n",
    "df_no_null_2.head(3)"
   ]
  },
  {
   "cell_type": "code",
   "execution_count": 19,
   "metadata": {
    "colab": {
     "base_uri": "https://localhost:8080/"
    },
    "id": "k81uEnsbt-tU",
    "outputId": "6ac96dad-7762-4e38-faac-f7c365d84480"
   },
   "outputs": [
    {
     "data": {
      "text/plain": [
       "16743"
      ]
     },
     "execution_count": 19,
     "metadata": {},
     "output_type": "execute_result"
    }
   ],
   "source": [
    "len(df_no_null_2)"
   ]
  },
  {
   "cell_type": "code",
   "execution_count": 20,
   "metadata": {
    "colab": {
     "base_uri": "https://localhost:8080/",
     "height": 282
    },
    "id": "EAicjUABuCQx",
    "outputId": "cfef7002-3489-4c46-9ff6-061701895445"
   },
   "outputs": [
    {
     "data": {
      "text/html": [
       "<div><style>\n",
       ".dataframe > thead > tr,\n",
       ".dataframe > tbody > tr {\n",
       "  text-align: right;\n",
       "  white-space: pre-wrap;\n",
       "}\n",
       "</style>\n",
       "<small>shape: (3, 14)</small><table border=\"1\" class=\"dataframe\"><thead><tr><th>Data.Precipitation</th><th>Date.Full</th><th>Date.Month</th><th>Date.Week of</th><th>Date.Year</th><th>Station.City</th><th>Station.Code</th><th>Station.Location</th><th>Station.State</th><th>Data.Temperature.Avg Temp</th><th>Data.Temperature.Max Temp</th><th>Data.Temperature.Min Temp</th><th>Data.Wind.Direction</th><th>Data.Wind.Speed</th></tr><tr><td>f64</td><td>str</td><td>f64</td><td>f64</td><td>f64</td><td>str</td><td>str</td><td>str</td><td>str</td><td>f64</td><td>f64</td><td>f64</td><td>f64</td><td>f64</td></tr></thead><tbody><tr><td>0.0</td><td>&quot;2016-01-03&quot;</td><td>1.0</td><td>3.0</td><td>2016.0</td><td>&quot;Birmingham&quot;</td><td>&quot;BHM&quot;</td><td>&quot;Birmingham, AL…</td><td>&quot;Alabama&quot;</td><td>39.0</td><td>46.0</td><td>32.0</td><td>33.0</td><td>4.33</td></tr><tr><td>0.0</td><td>&quot;2016-01-03&quot;</td><td>1.0</td><td>3.0</td><td>2016.0</td><td>&quot;Huntsville&quot;</td><td>&quot;HSV&quot;</td><td>&quot;Huntsville, AL…</td><td>&quot;Alabama&quot;</td><td>39.0</td><td>47.0</td><td>31.0</td><td>32.0</td><td>3.86</td></tr><tr><td>0.16</td><td>&quot;2016-01-03&quot;</td><td>1.0</td><td>3.0</td><td>2016.0</td><td>&quot;Mobile&quot;</td><td>&quot;MOB&quot;</td><td>&quot;Mobile, AL&quot;</td><td>&quot;Alabama&quot;</td><td>46.0</td><td>51.0</td><td>41.0</td><td>35.0</td><td>9.73</td></tr></tbody></table></div>"
      ],
      "text/plain": [
       "shape: (3, 14)\n",
       "┌──────────────┬────────────┬────────────┬──────────────┬───┬──────────────┬──────────────┬──────────────┬─────────────┐\n",
       "│ Data.Precipi ┆ Date.Full  ┆ Date.Month ┆ Date.Week of ┆ … ┆ Data.Tempera ┆ Data.Tempera ┆ Data.Wind.Di ┆ Data.Wind.S │\n",
       "│ tation       ┆ ---        ┆ ---        ┆ ---          ┆   ┆ ture.Max     ┆ ture.Min     ┆ rection      ┆ peed        │\n",
       "│ ---          ┆ str        ┆ f64        ┆ f64          ┆   ┆ Temp         ┆ Temp         ┆ ---          ┆ ---         │\n",
       "│ f64          ┆            ┆            ┆              ┆   ┆ ---          ┆ ---          ┆ f64          ┆ f64         │\n",
       "│              ┆            ┆            ┆              ┆   ┆ f64          ┆ f64          ┆              ┆             │\n",
       "╞══════════════╪════════════╪════════════╪══════════════╪═══╪══════════════╪══════════════╪══════════════╪═════════════╡\n",
       "│ 0.0          ┆ 2016-01-03 ┆ 1.0        ┆ 3.0          ┆ … ┆ 46.0         ┆ 32.0         ┆ 33.0         ┆ 4.33        │\n",
       "│ 0.0          ┆ 2016-01-03 ┆ 1.0        ┆ 3.0          ┆ … ┆ 47.0         ┆ 31.0         ┆ 32.0         ┆ 3.86        │\n",
       "│ 0.16         ┆ 2016-01-03 ┆ 1.0        ┆ 3.0          ┆ … ┆ 51.0         ┆ 41.0         ┆ 35.0         ┆ 9.73        │\n",
       "└──────────────┴────────────┴────────────┴──────────────┴───┴──────────────┴──────────────┴──────────────┴─────────────┘"
      ]
     },
     "execution_count": 20,
     "metadata": {},
     "output_type": "execute_result"
    }
   ],
   "source": [
    "df.with_columns(pl.col(\"Station.City\").fill_null(pl.lit(\"NO City\"))).head(3)"
   ]
  },
  {
   "cell_type": "code",
   "execution_count": 21,
   "metadata": {
    "colab": {
     "base_uri": "https://localhost:8080/",
     "height": 282
    },
    "id": "JcjyeiKauw1V",
    "outputId": "bd6d5ea6-8bb3-4a78-c682-34ee0e1b5966"
   },
   "outputs": [
    {
     "data": {
      "text/html": [
       "<div><style>\n",
       ".dataframe > thead > tr,\n",
       ".dataframe > tbody > tr {\n",
       "  text-align: right;\n",
       "  white-space: pre-wrap;\n",
       "}\n",
       "</style>\n",
       "<small>shape: (3, 14)</small><table border=\"1\" class=\"dataframe\"><thead><tr><th>Data.Precipitation</th><th>Date.Full</th><th>Date.Month</th><th>Date.Week of</th><th>Date.Year</th><th>Station.City</th><th>Station.Code</th><th>Station.Location</th><th>Station.State</th><th>Data.Temperature.Avg Temp</th><th>Data.Temperature.Max Temp</th><th>Data.Temperature.Min Temp</th><th>Data.Wind.Direction</th><th>Data.Wind.Speed</th></tr><tr><td>f64</td><td>str</td><td>f64</td><td>f64</td><td>f64</td><td>str</td><td>str</td><td>str</td><td>str</td><td>f64</td><td>f64</td><td>f64</td><td>f64</td><td>f64</td></tr></thead><tbody><tr><td>0.0</td><td>&quot;2016-01-03&quot;</td><td>1.0</td><td>3.0</td><td>2016.0</td><td>&quot;Birmingham&quot;</td><td>&quot;BHM&quot;</td><td>&quot;Birmingham, AL…</td><td>&quot;Alabama&quot;</td><td>39.0</td><td>46.0</td><td>32.0</td><td>33.0</td><td>4.33</td></tr><tr><td>0.0</td><td>&quot;2016-01-03&quot;</td><td>1.0</td><td>3.0</td><td>2016.0</td><td>&quot;Huntsville&quot;</td><td>&quot;HSV&quot;</td><td>&quot;Huntsville, AL…</td><td>&quot;Alabama&quot;</td><td>39.0</td><td>47.0</td><td>31.0</td><td>32.0</td><td>3.86</td></tr><tr><td>0.16</td><td>&quot;2016-01-03&quot;</td><td>1.0</td><td>3.0</td><td>2016.0</td><td>&quot;Mobile&quot;</td><td>&quot;MOB&quot;</td><td>&quot;Mobile, AL&quot;</td><td>&quot;Alabama&quot;</td><td>46.0</td><td>51.0</td><td>41.0</td><td>35.0</td><td>9.73</td></tr></tbody></table></div>"
      ],
      "text/plain": [
       "shape: (3, 14)\n",
       "┌──────────────┬────────────┬────────────┬──────────────┬───┬──────────────┬──────────────┬──────────────┬─────────────┐\n",
       "│ Data.Precipi ┆ Date.Full  ┆ Date.Month ┆ Date.Week of ┆ … ┆ Data.Tempera ┆ Data.Tempera ┆ Data.Wind.Di ┆ Data.Wind.S │\n",
       "│ tation       ┆ ---        ┆ ---        ┆ ---          ┆   ┆ ture.Max     ┆ ture.Min     ┆ rection      ┆ peed        │\n",
       "│ ---          ┆ str        ┆ f64        ┆ f64          ┆   ┆ Temp         ┆ Temp         ┆ ---          ┆ ---         │\n",
       "│ f64          ┆            ┆            ┆              ┆   ┆ ---          ┆ ---          ┆ f64          ┆ f64         │\n",
       "│              ┆            ┆            ┆              ┆   ┆ f64          ┆ f64          ┆              ┆             │\n",
       "╞══════════════╪════════════╪════════════╪══════════════╪═══╪══════════════╪══════════════╪══════════════╪═════════════╡\n",
       "│ 0.0          ┆ 2016-01-03 ┆ 1.0        ┆ 3.0          ┆ … ┆ 46.0         ┆ 32.0         ┆ 33.0         ┆ 4.33        │\n",
       "│ 0.0          ┆ 2016-01-03 ┆ 1.0        ┆ 3.0          ┆ … ┆ 47.0         ┆ 31.0         ┆ 32.0         ┆ 3.86        │\n",
       "│ 0.16         ┆ 2016-01-03 ┆ 1.0        ┆ 3.0          ┆ … ┆ 51.0         ┆ 41.0         ┆ 35.0         ┆ 9.73        │\n",
       "└──────────────┴────────────┴────────────┴──────────────┴───┴──────────────┴──────────────┴──────────────┴─────────────┘"
      ]
     },
     "execution_count": 21,
     "metadata": {},
     "output_type": "execute_result"
    }
   ],
   "source": [
    "df.with_columns(pl.col(\"Data.Temperature.Avg Temp\").fill_null(pl.median(\"Data.Temperature.Avg Temp\"))).head(3)"
   ]
  },
  {
   "cell_type": "code",
   "execution_count": 22,
   "metadata": {
    "colab": {
     "base_uri": "https://localhost:8080/",
     "height": 1000
    },
    "id": "0zMiXLggvPCI",
    "outputId": "69ec58fe-58bb-4d4a-d8b5-2eaa2f0e7986"
   },
   "outputs": [
    {
     "data": {
      "text/html": [
       "<div><style>\n",
       ".dataframe > thead > tr,\n",
       ".dataframe > tbody > tr {\n",
       "  text-align: right;\n",
       "  white-space: pre-wrap;\n",
       "}\n",
       "</style>\n",
       "<small>shape: (16_743, 14)</small><table border=\"1\" class=\"dataframe\"><thead><tr><th>Data.Precipitation</th><th>Date.Full</th><th>Date.Month</th><th>Date.Week of</th><th>Date.Year</th><th>Station.City</th><th>Station.Code</th><th>Station.Location</th><th>Station.State</th><th>Data.Temperature.Avg Temp</th><th>Data.Temperature.Max Temp</th><th>Data.Temperature.Min Temp</th><th>Data.Wind.Direction</th><th>Data.Wind.Speed</th></tr><tr><td>f64</td><td>str</td><td>f64</td><td>f64</td><td>f64</td><td>str</td><td>str</td><td>str</td><td>str</td><td>f64</td><td>f64</td><td>f64</td><td>f64</td><td>f64</td></tr></thead><tbody><tr><td>0.0</td><td>&quot;2016-01-03&quot;</td><td>1.0</td><td>3.0</td><td>2016.0</td><td>&quot;Birmingham&quot;</td><td>&quot;BHM&quot;</td><td>&quot;Birmingham, AL…</td><td>&quot;Alabama&quot;</td><td>39.0</td><td>46.0</td><td>32.0</td><td>33.0</td><td>4.33</td></tr><tr><td>0.0</td><td>&quot;2016-01-03&quot;</td><td>1.0</td><td>3.0</td><td>2016.0</td><td>&quot;Huntsville&quot;</td><td>&quot;HSV&quot;</td><td>&quot;Huntsville, AL…</td><td>&quot;Alabama&quot;</td><td>39.0</td><td>47.0</td><td>31.0</td><td>32.0</td><td>3.86</td></tr><tr><td>0.16</td><td>&quot;2016-01-03&quot;</td><td>1.0</td><td>3.0</td><td>2016.0</td><td>&quot;Mobile&quot;</td><td>&quot;MOB&quot;</td><td>&quot;Mobile, AL&quot;</td><td>&quot;Alabama&quot;</td><td>46.0</td><td>51.0</td><td>41.0</td><td>35.0</td><td>9.73</td></tr><tr><td>0.0</td><td>&quot;2016-01-03&quot;</td><td>1.0</td><td>3.0</td><td>2016.0</td><td>&quot;Montgomery&quot;</td><td>&quot;MGM&quot;</td><td>&quot;Montgomery, AL…</td><td>&quot;Alabama&quot;</td><td>45.0</td><td>52.0</td><td>38.0</td><td>32.0</td><td>6.86</td></tr><tr><td>0.01</td><td>&quot;2016-01-03&quot;</td><td>1.0</td><td>3.0</td><td>2016.0</td><td>&quot;Anchorage&quot;</td><td>&quot;ANC&quot;</td><td>&quot;Anchorage, AK&quot;</td><td>&quot;Alaska&quot;</td><td>34.0</td><td>38.0</td><td>29.0</td><td>19.0</td><td>7.8</td></tr><tr><td>0.09</td><td>&quot;2016-01-03&quot;</td><td>1.0</td><td>3.0</td><td>2016.0</td><td>&quot;Annette&quot;</td><td>&quot;ANN&quot;</td><td>&quot;Annette, AK&quot;</td><td>&quot;Alaska&quot;</td><td>38.0</td><td>44.0</td><td>31.0</td><td>9.0</td><td>8.7</td></tr><tr><td>0.05</td><td>&quot;2016-01-03&quot;</td><td>1.0</td><td>3.0</td><td>2016.0</td><td>&quot;Bethel&quot;</td><td>&quot;BET&quot;</td><td>&quot;Bethel, AK&quot;</td><td>&quot;Alaska&quot;</td><td>30.0</td><td>36.0</td><td>24.0</td><td>9.0</td><td>16.46</td></tr><tr><td>0.15</td><td>&quot;2016-01-03&quot;</td><td>1.0</td><td>3.0</td><td>2016.0</td><td>&quot;Bettles&quot;</td><td>&quot;BTT&quot;</td><td>&quot;Bettles, AK&quot;</td><td>&quot;Alaska&quot;</td><td>22.0</td><td>32.0</td><td>9.0</td><td>2.0</td><td>3.1</td></tr><tr><td>0.6</td><td>&quot;2016-01-03&quot;</td><td>1.0</td><td>3.0</td><td>2016.0</td><td>&quot;Cold Bay&quot;</td><td>&quot;CDB&quot;</td><td>&quot;Cold Bay, AK&quot;</td><td>&quot;Alaska&quot;</td><td>34.0</td><td>36.0</td><td>31.0</td><td>20.0</td><td>9.1</td></tr><tr><td>2.15</td><td>&quot;2016-01-03&quot;</td><td>1.0</td><td>3.0</td><td>2016.0</td><td>&quot;Cordova&quot;</td><td>&quot;CDV&quot;</td><td>&quot;Cordova, AK&quot;</td><td>&quot;Alaska&quot;</td><td>38.0</td><td>43.0</td><td>33.0</td><td>9.0</td><td>9.76</td></tr><tr><td>0.0</td><td>&quot;2016-01-03&quot;</td><td>1.0</td><td>3.0</td><td>2016.0</td><td>&quot;Delta Junction…</td><td>&quot;BIG&quot;</td><td>&quot;Delta Junction…</td><td>&quot;Alaska&quot;</td><td>31.0</td><td>39.0</td><td>23.0</td><td>14.0</td><td>17.9</td></tr><tr><td>0.0</td><td>&quot;2016-01-03&quot;</td><td>1.0</td><td>3.0</td><td>2016.0</td><td>&quot;Fairbanks&quot;</td><td>&quot;FAI&quot;</td><td>&quot;Fairbanks, AK&quot;</td><td>&quot;Alaska&quot;</td><td>14.0</td><td>30.0</td><td>4.0</td><td>2.0</td><td>2.2</td></tr><tr><td>&hellip;</td><td>&hellip;</td><td>&hellip;</td><td>&hellip;</td><td>&hellip;</td><td>&hellip;</td><td>&hellip;</td><td>&hellip;</td><td>&hellip;</td><td>&hellip;</td><td>&hellip;</td><td>&hellip;</td><td>&hellip;</td><td>&hellip;</td></tr><tr><td>1.03</td><td>&quot;2017-01-01&quot;</td><td>1.0</td><td>1.0</td><td>2017.0</td><td>&quot;Charleston&quot;</td><td>&quot;CRW&quot;</td><td>&quot;Charleston, WV…</td><td>&quot;West Virginia&quot;</td><td>44.0</td><td>53.0</td><td>34.0</td><td>23.0</td><td>6.9</td></tr><tr><td>1.15</td><td>&quot;2017-01-01&quot;</td><td>1.0</td><td>1.0</td><td>2017.0</td><td>&quot;Elkins&quot;</td><td>&quot;EKN&quot;</td><td>&quot;Elkins, WV&quot;</td><td>&quot;West Virginia&quot;</td><td>38.0</td><td>49.0</td><td>27.0</td><td>23.0</td><td>7.08</td></tr><tr><td>0.61</td><td>&quot;2017-01-01&quot;</td><td>1.0</td><td>1.0</td><td>2017.0</td><td>&quot;Huntington&quot;</td><td>&quot;HTS&quot;</td><td>&quot;Huntington, WV…</td><td>&quot;West Virginia&quot;</td><td>44.0</td><td>53.0</td><td>35.0</td><td>22.0</td><td>7.68</td></tr><tr><td>0.35</td><td>&quot;2017-01-01&quot;</td><td>1.0</td><td>1.0</td><td>2017.0</td><td>&quot;Green Bay&quot;</td><td>&quot;GRB&quot;</td><td>&quot;Green Bay, WI&quot;</td><td>&quot;Wisconsin&quot;</td><td>28.0</td><td>34.0</td><td>21.0</td><td>24.0</td><td>10.53</td></tr><tr><td>0.04</td><td>&quot;2017-01-01&quot;</td><td>1.0</td><td>1.0</td><td>2017.0</td><td>&quot;La Crosse&quot;</td><td>&quot;LSE&quot;</td><td>&quot;La Crosse, WI&quot;</td><td>&quot;Wisconsin&quot;</td><td>28.0</td><td>35.0</td><td>20.0</td><td>25.0</td><td>9.51</td></tr><tr><td>0.11</td><td>&quot;2017-01-01&quot;</td><td>1.0</td><td>1.0</td><td>2017.0</td><td>&quot;Madison&quot;</td><td>&quot;MSN&quot;</td><td>&quot;Madison, WI&quot;</td><td>&quot;Wisconsin&quot;</td><td>27.0</td><td>34.0</td><td>19.0</td><td>25.0</td><td>6.33</td></tr><tr><td>0.15</td><td>&quot;2017-01-01&quot;</td><td>1.0</td><td>1.0</td><td>2017.0</td><td>&quot;Milwaukee&quot;</td><td>&quot;MKE&quot;</td><td>&quot;Milwaukee, WI&quot;</td><td>&quot;Wisconsin&quot;</td><td>31.0</td><td>38.0</td><td>23.0</td><td>25.0</td><td>10.98</td></tr><tr><td>0.08</td><td>&quot;2017-01-01&quot;</td><td>1.0</td><td>1.0</td><td>2017.0</td><td>&quot;Casper&quot;</td><td>&quot;CPR&quot;</td><td>&quot;Casper, WY&quot;</td><td>&quot;Wyoming&quot;</td><td>23.0</td><td>32.0</td><td>15.0</td><td>23.0</td><td>19.98</td></tr><tr><td>0.0</td><td>&quot;2017-01-01&quot;</td><td>1.0</td><td>1.0</td><td>2017.0</td><td>&quot;Cheyenne&quot;</td><td>&quot;CYS&quot;</td><td>&quot;Cheyenne, WY&quot;</td><td>&quot;Wyoming&quot;</td><td>32.0</td><td>42.0</td><td>21.0</td><td>26.0</td><td>15.16</td></tr><tr><td>0.0</td><td>&quot;2017-01-01&quot;</td><td>1.0</td><td>1.0</td><td>2017.0</td><td>&quot;Lander&quot;</td><td>&quot;LND&quot;</td><td>&quot;Lander, WY&quot;</td><td>&quot;Wyoming&quot;</td><td>17.0</td><td>29.0</td><td>4.0</td><td>26.0</td><td>1.65</td></tr><tr><td>0.06</td><td>&quot;2017-01-01&quot;</td><td>1.0</td><td>1.0</td><td>2017.0</td><td>&quot;Rawlins&quot;</td><td>&quot;RWL&quot;</td><td>&quot;Rawlins, WY&quot;</td><td>&quot;Wyoming&quot;</td><td>23.0</td><td>31.0</td><td>13.0</td><td>24.0</td><td>18.16</td></tr><tr><td>0.1</td><td>&quot;2017-01-01&quot;</td><td>1.0</td><td>1.0</td><td>2017.0</td><td>&quot;Sheridan&quot;</td><td>&quot;SHR&quot;</td><td>&quot;Sheridan, WY&quot;</td><td>&quot;Wyoming&quot;</td><td>21.0</td><td>34.0</td><td>8.0</td><td>23.0</td><td>7.51</td></tr></tbody></table></div>"
      ],
      "text/plain": [
       "shape: (16_743, 14)\n",
       "┌──────────────┬────────────┬────────────┬──────────────┬───┬──────────────┬──────────────┬──────────────┬─────────────┐\n",
       "│ Data.Precipi ┆ Date.Full  ┆ Date.Month ┆ Date.Week of ┆ … ┆ Data.Tempera ┆ Data.Tempera ┆ Data.Wind.Di ┆ Data.Wind.S │\n",
       "│ tation       ┆ ---        ┆ ---        ┆ ---          ┆   ┆ ture.Max     ┆ ture.Min     ┆ rection      ┆ peed        │\n",
       "│ ---          ┆ str        ┆ f64        ┆ f64          ┆   ┆ Temp         ┆ Temp         ┆ ---          ┆ ---         │\n",
       "│ f64          ┆            ┆            ┆              ┆   ┆ ---          ┆ ---          ┆ f64          ┆ f64         │\n",
       "│              ┆            ┆            ┆              ┆   ┆ f64          ┆ f64          ┆              ┆             │\n",
       "╞══════════════╪════════════╪════════════╪══════════════╪═══╪══════════════╪══════════════╪══════════════╪═════════════╡\n",
       "│ 0.0          ┆ 2016-01-03 ┆ 1.0        ┆ 3.0          ┆ … ┆ 46.0         ┆ 32.0         ┆ 33.0         ┆ 4.33        │\n",
       "│ 0.0          ┆ 2016-01-03 ┆ 1.0        ┆ 3.0          ┆ … ┆ 47.0         ┆ 31.0         ┆ 32.0         ┆ 3.86        │\n",
       "│ 0.16         ┆ 2016-01-03 ┆ 1.0        ┆ 3.0          ┆ … ┆ 51.0         ┆ 41.0         ┆ 35.0         ┆ 9.73        │\n",
       "│ 0.0          ┆ 2016-01-03 ┆ 1.0        ┆ 3.0          ┆ … ┆ 52.0         ┆ 38.0         ┆ 32.0         ┆ 6.86        │\n",
       "│ 0.01         ┆ 2016-01-03 ┆ 1.0        ┆ 3.0          ┆ … ┆ 38.0         ┆ 29.0         ┆ 19.0         ┆ 7.8         │\n",
       "│ …            ┆ …          ┆ …          ┆ …            ┆ … ┆ …            ┆ …            ┆ …            ┆ …           │\n",
       "│ 0.08         ┆ 2017-01-01 ┆ 1.0        ┆ 1.0          ┆ … ┆ 32.0         ┆ 15.0         ┆ 23.0         ┆ 19.98       │\n",
       "│ 0.0          ┆ 2017-01-01 ┆ 1.0        ┆ 1.0          ┆ … ┆ 42.0         ┆ 21.0         ┆ 26.0         ┆ 15.16       │\n",
       "│ 0.0          ┆ 2017-01-01 ┆ 1.0        ┆ 1.0          ┆ … ┆ 29.0         ┆ 4.0          ┆ 26.0         ┆ 1.65        │\n",
       "│ 0.06         ┆ 2017-01-01 ┆ 1.0        ┆ 1.0          ┆ … ┆ 31.0         ┆ 13.0         ┆ 24.0         ┆ 18.16       │\n",
       "│ 0.1          ┆ 2017-01-01 ┆ 1.0        ┆ 1.0          ┆ … ┆ 34.0         ┆ 8.0          ┆ 23.0         ┆ 7.51        │\n",
       "└──────────────┴────────────┴────────────┴──────────────┴───┴──────────────┴──────────────┴──────────────┴─────────────┘"
      ]
     },
     "execution_count": 22,
     "metadata": {},
     "output_type": "execute_result"
    }
   ],
   "source": [
    "df.fill_nan(750)"
   ]
  },
  {
   "cell_type": "markdown",
   "metadata": {
    "id": "Gxl_z_GXvnAL"
   },
   "source": [
    "007-Select Specific Columns"
   ]
  },
  {
   "cell_type": "code",
   "execution_count": 23,
   "metadata": {
    "colab": {
     "base_uri": "https://localhost:8080/",
     "height": 379
    },
    "id": "qtHJh_zEvahq",
    "outputId": "7bfcfc6c-d6a4-419b-f823-b6edec1b1daf"
   },
   "outputs": [
    {
     "data": {
      "text/html": [
       "<div><style>\n",
       ".dataframe > thead > tr,\n",
       ".dataframe > tbody > tr {\n",
       "  text-align: right;\n",
       "  white-space: pre-wrap;\n",
       "}\n",
       "</style>\n",
       "<small>shape: (5, 14)</small><table border=\"1\" class=\"dataframe\"><thead><tr><th>Data.Precipitation</th><th>Date.Full</th><th>Date.Month</th><th>Date.Week of</th><th>Date.Year</th><th>Station.City</th><th>Station.Code</th><th>Station.Location</th><th>Station.State</th><th>Data.Temperature.Avg Temp</th><th>Data.Temperature.Max Temp</th><th>Data.Temperature.Min Temp</th><th>Data.Wind.Direction</th><th>Data.Wind.Speed</th></tr><tr><td>f64</td><td>str</td><td>f64</td><td>f64</td><td>f64</td><td>str</td><td>str</td><td>str</td><td>str</td><td>f64</td><td>f64</td><td>f64</td><td>f64</td><td>f64</td></tr></thead><tbody><tr><td>0.0</td><td>&quot;2016-01-03&quot;</td><td>1.0</td><td>3.0</td><td>2016.0</td><td>&quot;Birmingham&quot;</td><td>&quot;BHM&quot;</td><td>&quot;Birmingham, AL…</td><td>&quot;Alabama&quot;</td><td>39.0</td><td>46.0</td><td>32.0</td><td>33.0</td><td>4.33</td></tr><tr><td>0.0</td><td>&quot;2016-01-03&quot;</td><td>1.0</td><td>3.0</td><td>2016.0</td><td>&quot;Huntsville&quot;</td><td>&quot;HSV&quot;</td><td>&quot;Huntsville, AL…</td><td>&quot;Alabama&quot;</td><td>39.0</td><td>47.0</td><td>31.0</td><td>32.0</td><td>3.86</td></tr><tr><td>0.16</td><td>&quot;2016-01-03&quot;</td><td>1.0</td><td>3.0</td><td>2016.0</td><td>&quot;Mobile&quot;</td><td>&quot;MOB&quot;</td><td>&quot;Mobile, AL&quot;</td><td>&quot;Alabama&quot;</td><td>46.0</td><td>51.0</td><td>41.0</td><td>35.0</td><td>9.73</td></tr><tr><td>0.0</td><td>&quot;2016-01-03&quot;</td><td>1.0</td><td>3.0</td><td>2016.0</td><td>&quot;Montgomery&quot;</td><td>&quot;MGM&quot;</td><td>&quot;Montgomery, AL…</td><td>&quot;Alabama&quot;</td><td>45.0</td><td>52.0</td><td>38.0</td><td>32.0</td><td>6.86</td></tr><tr><td>0.01</td><td>&quot;2016-01-03&quot;</td><td>1.0</td><td>3.0</td><td>2016.0</td><td>&quot;Anchorage&quot;</td><td>&quot;ANC&quot;</td><td>&quot;Anchorage, AK&quot;</td><td>&quot;Alaska&quot;</td><td>34.0</td><td>38.0</td><td>29.0</td><td>19.0</td><td>7.8</td></tr></tbody></table></div>"
      ],
      "text/plain": [
       "shape: (5, 14)\n",
       "┌──────────────┬────────────┬────────────┬──────────────┬───┬──────────────┬──────────────┬──────────────┬─────────────┐\n",
       "│ Data.Precipi ┆ Date.Full  ┆ Date.Month ┆ Date.Week of ┆ … ┆ Data.Tempera ┆ Data.Tempera ┆ Data.Wind.Di ┆ Data.Wind.S │\n",
       "│ tation       ┆ ---        ┆ ---        ┆ ---          ┆   ┆ ture.Max     ┆ ture.Min     ┆ rection      ┆ peed        │\n",
       "│ ---          ┆ str        ┆ f64        ┆ f64          ┆   ┆ Temp         ┆ Temp         ┆ ---          ┆ ---         │\n",
       "│ f64          ┆            ┆            ┆              ┆   ┆ ---          ┆ ---          ┆ f64          ┆ f64         │\n",
       "│              ┆            ┆            ┆              ┆   ┆ f64          ┆ f64          ┆              ┆             │\n",
       "╞══════════════╪════════════╪════════════╪══════════════╪═══╪══════════════╪══════════════╪══════════════╪═════════════╡\n",
       "│ 0.0          ┆ 2016-01-03 ┆ 1.0        ┆ 3.0          ┆ … ┆ 46.0         ┆ 32.0         ┆ 33.0         ┆ 4.33        │\n",
       "│ 0.0          ┆ 2016-01-03 ┆ 1.0        ┆ 3.0          ┆ … ┆ 47.0         ┆ 31.0         ┆ 32.0         ┆ 3.86        │\n",
       "│ 0.16         ┆ 2016-01-03 ┆ 1.0        ┆ 3.0          ┆ … ┆ 51.0         ┆ 41.0         ┆ 35.0         ┆ 9.73        │\n",
       "│ 0.0          ┆ 2016-01-03 ┆ 1.0        ┆ 3.0          ┆ … ┆ 52.0         ┆ 38.0         ┆ 32.0         ┆ 6.86        │\n",
       "│ 0.01         ┆ 2016-01-03 ┆ 1.0        ┆ 3.0          ┆ … ┆ 38.0         ┆ 29.0         ┆ 19.0         ┆ 7.8         │\n",
       "└──────────────┴────────────┴────────────┴──────────────┴───┴──────────────┴──────────────┴──────────────┴─────────────┘"
      ]
     },
     "execution_count": 23,
     "metadata": {},
     "output_type": "execute_result"
    }
   ],
   "source": [
    "df.select(pl.col(\"*\")).head()"
   ]
  },
  {
   "cell_type": "code",
   "execution_count": 24,
   "metadata": {
    "colab": {
     "base_uri": "https://localhost:8080/",
     "height": 282
    },
    "id": "Tp3OR86ewM73",
    "outputId": "db526fad-e231-4684-a4ab-4012672a527f"
   },
   "outputs": [
    {
     "data": {
      "text/html": [
       "<div><style>\n",
       ".dataframe > thead > tr,\n",
       ".dataframe > tbody > tr {\n",
       "  text-align: right;\n",
       "  white-space: pre-wrap;\n",
       "}\n",
       "</style>\n",
       "<small>shape: (3, 12)</small><table border=\"1\" class=\"dataframe\"><thead><tr><th>Date.Full</th><th>Date.Month</th><th>Date.Week of</th><th>Date.Year</th><th>Station.City</th><th>Station.Location</th><th>Station.State</th><th>Data.Temperature.Avg Temp</th><th>Data.Temperature.Max Temp</th><th>Data.Temperature.Min Temp</th><th>Data.Wind.Direction</th><th>Data.Wind.Speed</th></tr><tr><td>str</td><td>f64</td><td>f64</td><td>f64</td><td>str</td><td>str</td><td>str</td><td>f64</td><td>f64</td><td>f64</td><td>f64</td><td>f64</td></tr></thead><tbody><tr><td>&quot;2016-01-03&quot;</td><td>1.0</td><td>3.0</td><td>2016.0</td><td>&quot;Birmingham&quot;</td><td>&quot;Birmingham, AL…</td><td>&quot;Alabama&quot;</td><td>39.0</td><td>46.0</td><td>32.0</td><td>33.0</td><td>4.33</td></tr><tr><td>&quot;2016-01-03&quot;</td><td>1.0</td><td>3.0</td><td>2016.0</td><td>&quot;Huntsville&quot;</td><td>&quot;Huntsville, AL…</td><td>&quot;Alabama&quot;</td><td>39.0</td><td>47.0</td><td>31.0</td><td>32.0</td><td>3.86</td></tr><tr><td>&quot;2016-01-03&quot;</td><td>1.0</td><td>3.0</td><td>2016.0</td><td>&quot;Mobile&quot;</td><td>&quot;Mobile, AL&quot;</td><td>&quot;Alabama&quot;</td><td>46.0</td><td>51.0</td><td>41.0</td><td>35.0</td><td>9.73</td></tr></tbody></table></div>"
      ],
      "text/plain": [
       "shape: (3, 12)\n",
       "┌────────────┬────────────┬──────────────┬───────────┬───┬───────────────┬───────────────┬──────────────┬──────────────┐\n",
       "│ Date.Full  ┆ Date.Month ┆ Date.Week of ┆ Date.Year ┆ … ┆ Data.Temperat ┆ Data.Temperat ┆ Data.Wind.Di ┆ Data.Wind.Sp │\n",
       "│ ---        ┆ ---        ┆ ---          ┆ ---       ┆   ┆ ure.Max Temp  ┆ ure.Min Temp  ┆ rection      ┆ eed          │\n",
       "│ str        ┆ f64        ┆ f64          ┆ f64       ┆   ┆ ---           ┆ ---           ┆ ---          ┆ ---          │\n",
       "│            ┆            ┆              ┆           ┆   ┆ f64           ┆ f64           ┆ f64          ┆ f64          │\n",
       "╞════════════╪════════════╪══════════════╪═══════════╪═══╪═══════════════╪═══════════════╪══════════════╪══════════════╡\n",
       "│ 2016-01-03 ┆ 1.0        ┆ 3.0          ┆ 2016.0    ┆ … ┆ 46.0          ┆ 32.0          ┆ 33.0         ┆ 4.33         │\n",
       "│ 2016-01-03 ┆ 1.0        ┆ 3.0          ┆ 2016.0    ┆ … ┆ 47.0          ┆ 31.0          ┆ 32.0         ┆ 3.86         │\n",
       "│ 2016-01-03 ┆ 1.0        ┆ 3.0          ┆ 2016.0    ┆ … ┆ 51.0          ┆ 41.0          ┆ 35.0         ┆ 9.73         │\n",
       "└────────────┴────────────┴──────────────┴───────────┴───┴───────────────┴───────────────┴──────────────┴──────────────┘"
      ]
     },
     "execution_count": 24,
     "metadata": {},
     "output_type": "execute_result"
    }
   ],
   "source": [
    "df.select(pl.col(\"*\").exclude(\"Data.Precipitation\", \"Station.Code\")).head(3)"
   ]
  },
  {
   "cell_type": "code",
   "execution_count": 25,
   "metadata": {
    "colab": {
     "base_uri": "https://localhost:8080/",
     "height": 255
    },
    "id": "GGJLqU7Kw2Hb",
    "outputId": "a7ad333e-defd-4923-d06c-d460f326851a"
   },
   "outputs": [
    {
     "data": {
      "text/html": [
       "<div><style>\n",
       ".dataframe > thead > tr,\n",
       ".dataframe > tbody > tr {\n",
       "  text-align: right;\n",
       "  white-space: pre-wrap;\n",
       "}\n",
       "</style>\n",
       "<small>shape: (5, 3)</small><table border=\"1\" class=\"dataframe\"><thead><tr><th>Station.City</th><th>Data.Temperature.Avg Temp</th><th>Data.Wind.Speed</th></tr><tr><td>str</td><td>f64</td><td>f64</td></tr></thead><tbody><tr><td>&quot;Birmingham&quot;</td><td>39.0</td><td>4.33</td></tr><tr><td>&quot;Huntsville&quot;</td><td>39.0</td><td>3.86</td></tr><tr><td>&quot;Mobile&quot;</td><td>46.0</td><td>9.73</td></tr><tr><td>&quot;Montgomery&quot;</td><td>45.0</td><td>6.86</td></tr><tr><td>&quot;Anchorage&quot;</td><td>34.0</td><td>7.8</td></tr></tbody></table></div>"
      ],
      "text/plain": [
       "shape: (5, 3)\n",
       "┌──────────────┬───────────────────────────┬─────────────────┐\n",
       "│ Station.City ┆ Data.Temperature.Avg Temp ┆ Data.Wind.Speed │\n",
       "│ ---          ┆ ---                       ┆ ---             │\n",
       "│ str          ┆ f64                       ┆ f64             │\n",
       "╞══════════════╪═══════════════════════════╪═════════════════╡\n",
       "│ Birmingham   ┆ 39.0                      ┆ 4.33            │\n",
       "│ Huntsville   ┆ 39.0                      ┆ 3.86            │\n",
       "│ Mobile       ┆ 46.0                      ┆ 9.73            │\n",
       "│ Montgomery   ┆ 45.0                      ┆ 6.86            │\n",
       "│ Anchorage    ┆ 34.0                      ┆ 7.8             │\n",
       "└──────────────┴───────────────────────────┴─────────────────┘"
      ]
     },
     "execution_count": 25,
     "metadata": {},
     "output_type": "execute_result"
    }
   ],
   "source": [
    "df.select(pl.col(\"Station.City\"), pl.col(\"Data.Temperature.Avg Temp\"), pl.col(\"Data.Wind.Speed\")).head()"
   ]
  },
  {
   "cell_type": "code",
   "execution_count": 26,
   "metadata": {
    "colab": {
     "base_uri": "https://localhost:8080/",
     "height": 255
    },
    "id": "pM-qgocJxU31",
    "outputId": "9084c3cc-437f-4cfb-fb4c-ecb8f55127b5"
   },
   "outputs": [
    {
     "data": {
      "text/html": [
       "<div><style>\n",
       ".dataframe > thead > tr,\n",
       ".dataframe > tbody > tr {\n",
       "  text-align: right;\n",
       "  white-space: pre-wrap;\n",
       "}\n",
       "</style>\n",
       "<small>shape: (5, 3)</small><table border=\"1\" class=\"dataframe\"><thead><tr><th>Station.City</th><th>Data.Temperature.Avg Temp</th><th>Data.Wind.Speed</th></tr><tr><td>str</td><td>f64</td><td>f64</td></tr></thead><tbody><tr><td>&quot;Birmingham&quot;</td><td>39.0</td><td>4.33</td></tr><tr><td>&quot;Huntsville&quot;</td><td>39.0</td><td>3.86</td></tr><tr><td>&quot;Mobile&quot;</td><td>46.0</td><td>9.73</td></tr><tr><td>&quot;Montgomery&quot;</td><td>45.0</td><td>6.86</td></tr><tr><td>&quot;Anchorage&quot;</td><td>34.0</td><td>7.8</td></tr></tbody></table></div>"
      ],
      "text/plain": [
       "shape: (5, 3)\n",
       "┌──────────────┬───────────────────────────┬─────────────────┐\n",
       "│ Station.City ┆ Data.Temperature.Avg Temp ┆ Data.Wind.Speed │\n",
       "│ ---          ┆ ---                       ┆ ---             │\n",
       "│ str          ┆ f64                       ┆ f64             │\n",
       "╞══════════════╪═══════════════════════════╪═════════════════╡\n",
       "│ Birmingham   ┆ 39.0                      ┆ 4.33            │\n",
       "│ Huntsville   ┆ 39.0                      ┆ 3.86            │\n",
       "│ Mobile       ┆ 46.0                      ┆ 9.73            │\n",
       "│ Montgomery   ┆ 45.0                      ┆ 6.86            │\n",
       "│ Anchorage    ┆ 34.0                      ┆ 7.8             │\n",
       "└──────────────┴───────────────────────────┴─────────────────┘"
      ]
     },
     "execution_count": 26,
     "metadata": {},
     "output_type": "execute_result"
    }
   ],
   "source": [
    "df.select(pl.col([\"Station.City\", \"Data.Temperature.Avg Temp\", \"Data.Wind.Speed\"])).head()"
   ]
  },
  {
   "cell_type": "code",
   "execution_count": 27,
   "metadata": {
    "colab": {
     "base_uri": "https://localhost:8080/",
     "height": 282
    },
    "id": "KXeyBf_2xiD3",
    "outputId": "a520c501-128d-47ea-d840-101f28ca8575"
   },
   "outputs": [
    {
     "data": {
      "text/html": [
       "<div><style>\n",
       ".dataframe > thead > tr,\n",
       ".dataframe > tbody > tr {\n",
       "  text-align: right;\n",
       "  white-space: pre-wrap;\n",
       "}\n",
       "</style>\n",
       "<small>shape: (3, 14)</small><table border=\"1\" class=\"dataframe\"><thead><tr><th>Data.Precipitation</th><th>Date.Full</th><th>Date.Month</th><th>Date.Week of</th><th>Date.Year</th><th>Station.City</th><th>Station.Code</th><th>Station.Location</th><th>Station.State</th><th>Data.Temperature.Avg Temp</th><th>Data.Temperature.Max Temp</th><th>Data.Temperature.Min Temp</th><th>Data.Wind.Direction</th><th>Data.Wind.Speed</th></tr><tr><td>f64</td><td>str</td><td>f64</td><td>f64</td><td>f64</td><td>str</td><td>str</td><td>str</td><td>str</td><td>f64</td><td>f64</td><td>f64</td><td>f64</td><td>f64</td></tr></thead><tbody><tr><td>0.0</td><td>&quot;2016-01-03&quot;</td><td>1.0</td><td>3.0</td><td>2016.0</td><td>&quot;Birmingham&quot;</td><td>&quot;BHM&quot;</td><td>&quot;Birmingham, AL…</td><td>&quot;Alabama&quot;</td><td>39.0</td><td>46.0</td><td>32.0</td><td>33.0</td><td>4.33</td></tr><tr><td>0.0</td><td>&quot;2016-01-03&quot;</td><td>1.0</td><td>3.0</td><td>2016.0</td><td>&quot;Huntsville&quot;</td><td>&quot;HSV&quot;</td><td>&quot;Huntsville, AL…</td><td>&quot;Alabama&quot;</td><td>39.0</td><td>47.0</td><td>31.0</td><td>32.0</td><td>3.86</td></tr><tr><td>0.16</td><td>&quot;2016-01-03&quot;</td><td>1.0</td><td>3.0</td><td>2016.0</td><td>&quot;Mobile&quot;</td><td>&quot;MOB&quot;</td><td>&quot;Mobile, AL&quot;</td><td>&quot;Alabama&quot;</td><td>46.0</td><td>51.0</td><td>41.0</td><td>35.0</td><td>9.73</td></tr></tbody></table></div>"
      ],
      "text/plain": [
       "shape: (3, 14)\n",
       "┌──────────────┬────────────┬────────────┬──────────────┬───┬──────────────┬──────────────┬──────────────┬─────────────┐\n",
       "│ Data.Precipi ┆ Date.Full  ┆ Date.Month ┆ Date.Week of ┆ … ┆ Data.Tempera ┆ Data.Tempera ┆ Data.Wind.Di ┆ Data.Wind.S │\n",
       "│ tation       ┆ ---        ┆ ---        ┆ ---          ┆   ┆ ture.Max     ┆ ture.Min     ┆ rection      ┆ peed        │\n",
       "│ ---          ┆ str        ┆ f64        ┆ f64          ┆   ┆ Temp         ┆ Temp         ┆ ---          ┆ ---         │\n",
       "│ f64          ┆            ┆            ┆              ┆   ┆ ---          ┆ ---          ┆ f64          ┆ f64         │\n",
       "│              ┆            ┆            ┆              ┆   ┆ f64          ┆ f64          ┆              ┆             │\n",
       "╞══════════════╪════════════╪════════════╪══════════════╪═══╪══════════════╪══════════════╪══════════════╪═════════════╡\n",
       "│ 0.0          ┆ 2016-01-03 ┆ 1.0        ┆ 3.0          ┆ … ┆ 46.0         ┆ 32.0         ┆ 33.0         ┆ 4.33        │\n",
       "│ 0.0          ┆ 2016-01-03 ┆ 1.0        ┆ 3.0          ┆ … ┆ 47.0         ┆ 31.0         ┆ 32.0         ┆ 3.86        │\n",
       "│ 0.16         ┆ 2016-01-03 ┆ 1.0        ┆ 3.0          ┆ … ┆ 51.0         ┆ 41.0         ┆ 35.0         ┆ 9.73        │\n",
       "└──────────────┴────────────┴────────────┴──────────────┴───┴──────────────┴──────────────┴──────────────┴─────────────┘"
      ]
     },
     "execution_count": 27,
     "metadata": {},
     "output_type": "execute_result"
    }
   ],
   "source": [
    "df.select(pl.all()).head(3)"
   ]
  },
  {
   "cell_type": "markdown",
   "metadata": {
    "id": "xYKyXOZDx_2d"
   },
   "source": [
    "008-Filtering our Dataframes"
   ]
  },
  {
   "cell_type": "code",
   "execution_count": 28,
   "metadata": {
    "colab": {
     "base_uri": "https://localhost:8080/",
     "height": 282
    },
    "id": "h8MXzxH3x0lz",
    "outputId": "db816590-1a1c-4d69-957b-dc707b0b232d"
   },
   "outputs": [
    {
     "data": {
      "text/html": [
       "<div><style>\n",
       ".dataframe > thead > tr,\n",
       ".dataframe > tbody > tr {\n",
       "  text-align: right;\n",
       "  white-space: pre-wrap;\n",
       "}\n",
       "</style>\n",
       "<small>shape: (3, 14)</small><table border=\"1\" class=\"dataframe\"><thead><tr><th>Data.Precipitation</th><th>Date.Full</th><th>Date.Month</th><th>Date.Week of</th><th>Date.Year</th><th>Station.City</th><th>Station.Code</th><th>Station.Location</th><th>Station.State</th><th>Data.Temperature.Avg Temp</th><th>Data.Temperature.Max Temp</th><th>Data.Temperature.Min Temp</th><th>Data.Wind.Direction</th><th>Data.Wind.Speed</th></tr><tr><td>f64</td><td>str</td><td>f64</td><td>f64</td><td>f64</td><td>str</td><td>str</td><td>str</td><td>str</td><td>f64</td><td>f64</td><td>f64</td><td>f64</td><td>f64</td></tr></thead><tbody><tr><td>0.01</td><td>&quot;2016-01-03&quot;</td><td>1.0</td><td>3.0</td><td>2016.0</td><td>&quot;Anchorage&quot;</td><td>&quot;ANC&quot;</td><td>&quot;Anchorage, AK&quot;</td><td>&quot;Alaska&quot;</td><td>34.0</td><td>38.0</td><td>29.0</td><td>19.0</td><td>7.8</td></tr><tr><td>0.09</td><td>&quot;2016-01-03&quot;</td><td>1.0</td><td>3.0</td><td>2016.0</td><td>&quot;Annette&quot;</td><td>&quot;ANN&quot;</td><td>&quot;Annette, AK&quot;</td><td>&quot;Alaska&quot;</td><td>38.0</td><td>44.0</td><td>31.0</td><td>9.0</td><td>8.7</td></tr><tr><td>0.05</td><td>&quot;2016-01-03&quot;</td><td>1.0</td><td>3.0</td><td>2016.0</td><td>&quot;Bethel&quot;</td><td>&quot;BET&quot;</td><td>&quot;Bethel, AK&quot;</td><td>&quot;Alaska&quot;</td><td>30.0</td><td>36.0</td><td>24.0</td><td>9.0</td><td>16.46</td></tr></tbody></table></div>"
      ],
      "text/plain": [
       "shape: (3, 14)\n",
       "┌──────────────┬────────────┬────────────┬──────────────┬───┬──────────────┬──────────────┬──────────────┬─────────────┐\n",
       "│ Data.Precipi ┆ Date.Full  ┆ Date.Month ┆ Date.Week of ┆ … ┆ Data.Tempera ┆ Data.Tempera ┆ Data.Wind.Di ┆ Data.Wind.S │\n",
       "│ tation       ┆ ---        ┆ ---        ┆ ---          ┆   ┆ ture.Max     ┆ ture.Min     ┆ rection      ┆ peed        │\n",
       "│ ---          ┆ str        ┆ f64        ┆ f64          ┆   ┆ Temp         ┆ Temp         ┆ ---          ┆ ---         │\n",
       "│ f64          ┆            ┆            ┆              ┆   ┆ ---          ┆ ---          ┆ f64          ┆ f64         │\n",
       "│              ┆            ┆            ┆              ┆   ┆ f64          ┆ f64          ┆              ┆             │\n",
       "╞══════════════╪════════════╪════════════╪══════════════╪═══╪══════════════╪══════════════╪══════════════╪═════════════╡\n",
       "│ 0.01         ┆ 2016-01-03 ┆ 1.0        ┆ 3.0          ┆ … ┆ 38.0         ┆ 29.0         ┆ 19.0         ┆ 7.8         │\n",
       "│ 0.09         ┆ 2016-01-03 ┆ 1.0        ┆ 3.0          ┆ … ┆ 44.0         ┆ 31.0         ┆ 9.0          ┆ 8.7         │\n",
       "│ 0.05         ┆ 2016-01-03 ┆ 1.0        ┆ 3.0          ┆ … ┆ 36.0         ┆ 24.0         ┆ 9.0          ┆ 16.46       │\n",
       "└──────────────┴────────────┴────────────┴──────────────┴───┴──────────────┴──────────────┴──────────────┴─────────────┘"
      ]
     },
     "execution_count": 28,
     "metadata": {},
     "output_type": "execute_result"
    }
   ],
   "source": [
    "df.filter(pl.col(\"Station.State\") == \"Alaska\").head(3)"
   ]
  },
  {
   "cell_type": "code",
   "execution_count": 29,
   "metadata": {
    "colab": {
     "base_uri": "https://localhost:8080/",
     "height": 282
    },
    "id": "-0-K2L8-yh-6",
    "outputId": "2c8e9832-867f-4c62-cdd8-6795f9e436a2"
   },
   "outputs": [
    {
     "data": {
      "text/html": [
       "<div><style>\n",
       ".dataframe > thead > tr,\n",
       ".dataframe > tbody > tr {\n",
       "  text-align: right;\n",
       "  white-space: pre-wrap;\n",
       "}\n",
       "</style>\n",
       "<small>shape: (3, 14)</small><table border=\"1\" class=\"dataframe\"><thead><tr><th>Data.Precipitation</th><th>Date.Full</th><th>Date.Month</th><th>Date.Week of</th><th>Date.Year</th><th>Station.City</th><th>Station.Code</th><th>Station.Location</th><th>Station.State</th><th>Data.Temperature.Avg Temp</th><th>Data.Temperature.Max Temp</th><th>Data.Temperature.Min Temp</th><th>Data.Wind.Direction</th><th>Data.Wind.Speed</th></tr><tr><td>f64</td><td>str</td><td>f64</td><td>f64</td><td>f64</td><td>str</td><td>str</td><td>str</td><td>str</td><td>f64</td><td>f64</td><td>f64</td><td>f64</td><td>f64</td></tr></thead><tbody><tr><td>0.09</td><td>&quot;2016-01-03&quot;</td><td>1.0</td><td>3.0</td><td>2016.0</td><td>&quot;Annette&quot;</td><td>&quot;ANN&quot;</td><td>&quot;Annette, AK&quot;</td><td>&quot;Alaska&quot;</td><td>38.0</td><td>44.0</td><td>31.0</td><td>9.0</td><td>8.7</td></tr><tr><td>0.48</td><td>&quot;2016-01-10&quot;</td><td>1.0</td><td>10.0</td><td>2016.0</td><td>&quot;Annette&quot;</td><td>&quot;ANN&quot;</td><td>&quot;Annette, AK&quot;</td><td>&quot;Alaska&quot;</td><td>36.0</td><td>43.0</td><td>27.0</td><td>24.0</td><td>5.42</td></tr><tr><td>2.59</td><td>&quot;2016-01-17&quot;</td><td>1.0</td><td>17.0</td><td>2016.0</td><td>&quot;Annette&quot;</td><td>&quot;ANN&quot;</td><td>&quot;Annette, AK&quot;</td><td>&quot;Alaska&quot;</td><td>43.0</td><td>46.0</td><td>38.0</td><td>10.0</td><td>8.68</td></tr></tbody></table></div>"
      ],
      "text/plain": [
       "shape: (3, 14)\n",
       "┌──────────────┬────────────┬────────────┬──────────────┬───┬──────────────┬──────────────┬──────────────┬─────────────┐\n",
       "│ Data.Precipi ┆ Date.Full  ┆ Date.Month ┆ Date.Week of ┆ … ┆ Data.Tempera ┆ Data.Tempera ┆ Data.Wind.Di ┆ Data.Wind.S │\n",
       "│ tation       ┆ ---        ┆ ---        ┆ ---          ┆   ┆ ture.Max     ┆ ture.Min     ┆ rection      ┆ peed        │\n",
       "│ ---          ┆ str        ┆ f64        ┆ f64          ┆   ┆ Temp         ┆ Temp         ┆ ---          ┆ ---         │\n",
       "│ f64          ┆            ┆            ┆              ┆   ┆ ---          ┆ ---          ┆ f64          ┆ f64         │\n",
       "│              ┆            ┆            ┆              ┆   ┆ f64          ┆ f64          ┆              ┆             │\n",
       "╞══════════════╪════════════╪════════════╪══════════════╪═══╪══════════════╪══════════════╪══════════════╪═════════════╡\n",
       "│ 0.09         ┆ 2016-01-03 ┆ 1.0        ┆ 3.0          ┆ … ┆ 44.0         ┆ 31.0         ┆ 9.0          ┆ 8.7         │\n",
       "│ 0.48         ┆ 2016-01-10 ┆ 1.0        ┆ 10.0         ┆ … ┆ 43.0         ┆ 27.0         ┆ 24.0         ┆ 5.42        │\n",
       "│ 2.59         ┆ 2016-01-17 ┆ 1.0        ┆ 17.0         ┆ … ┆ 46.0         ┆ 38.0         ┆ 10.0         ┆ 8.68        │\n",
       "└──────────────┴────────────┴────────────┴──────────────┴───┴──────────────┴──────────────┴──────────────┴─────────────┘"
      ]
     },
     "execution_count": 29,
     "metadata": {},
     "output_type": "execute_result"
    }
   ],
   "source": [
    "df.filter( (pl.col(\"Station.State\") == \"Alaska\") & (pl.col(\"Station.City\") == \"Annette\") ).head(3)"
   ]
  },
  {
   "cell_type": "code",
   "execution_count": 30,
   "metadata": {
    "colab": {
     "base_uri": "https://localhost:8080/",
     "height": 282
    },
    "id": "qv5rfyEjzDDT",
    "outputId": "946116dc-7168-4eb6-9e66-95c942613280"
   },
   "outputs": [
    {
     "data": {
      "text/html": [
       "<div><style>\n",
       ".dataframe > thead > tr,\n",
       ".dataframe > tbody > tr {\n",
       "  text-align: right;\n",
       "  white-space: pre-wrap;\n",
       "}\n",
       "</style>\n",
       "<small>shape: (3, 14)</small><table border=\"1\" class=\"dataframe\"><thead><tr><th>Data.Precipitation</th><th>Date.Full</th><th>Date.Month</th><th>Date.Week of</th><th>Date.Year</th><th>Station.City</th><th>Station.Code</th><th>Station.Location</th><th>Station.State</th><th>Data.Temperature.Avg Temp</th><th>Data.Temperature.Max Temp</th><th>Data.Temperature.Min Temp</th><th>Data.Wind.Direction</th><th>Data.Wind.Speed</th></tr><tr><td>f64</td><td>str</td><td>f64</td><td>f64</td><td>f64</td><td>str</td><td>str</td><td>str</td><td>str</td><td>f64</td><td>f64</td><td>f64</td><td>f64</td><td>f64</td></tr></thead><tbody><tr><td>0.01</td><td>&quot;2016-01-03&quot;</td><td>1.0</td><td>3.0</td><td>2016.0</td><td>&quot;Anchorage&quot;</td><td>&quot;ANC&quot;</td><td>&quot;Anchorage, AK&quot;</td><td>&quot;Alaska&quot;</td><td>34.0</td><td>38.0</td><td>29.0</td><td>19.0</td><td>7.8</td></tr><tr><td>0.09</td><td>&quot;2016-01-03&quot;</td><td>1.0</td><td>3.0</td><td>2016.0</td><td>&quot;Annette&quot;</td><td>&quot;ANN&quot;</td><td>&quot;Annette, AK&quot;</td><td>&quot;Alaska&quot;</td><td>38.0</td><td>44.0</td><td>31.0</td><td>9.0</td><td>8.7</td></tr><tr><td>0.05</td><td>&quot;2016-01-03&quot;</td><td>1.0</td><td>3.0</td><td>2016.0</td><td>&quot;Bethel&quot;</td><td>&quot;BET&quot;</td><td>&quot;Bethel, AK&quot;</td><td>&quot;Alaska&quot;</td><td>30.0</td><td>36.0</td><td>24.0</td><td>9.0</td><td>16.46</td></tr></tbody></table></div>"
      ],
      "text/plain": [
       "shape: (3, 14)\n",
       "┌──────────────┬────────────┬────────────┬──────────────┬───┬──────────────┬──────────────┬──────────────┬─────────────┐\n",
       "│ Data.Precipi ┆ Date.Full  ┆ Date.Month ┆ Date.Week of ┆ … ┆ Data.Tempera ┆ Data.Tempera ┆ Data.Wind.Di ┆ Data.Wind.S │\n",
       "│ tation       ┆ ---        ┆ ---        ┆ ---          ┆   ┆ ture.Max     ┆ ture.Min     ┆ rection      ┆ peed        │\n",
       "│ ---          ┆ str        ┆ f64        ┆ f64          ┆   ┆ Temp         ┆ Temp         ┆ ---          ┆ ---         │\n",
       "│ f64          ┆            ┆            ┆              ┆   ┆ ---          ┆ ---          ┆ f64          ┆ f64         │\n",
       "│              ┆            ┆            ┆              ┆   ┆ f64          ┆ f64          ┆              ┆             │\n",
       "╞══════════════╪════════════╪════════════╪══════════════╪═══╪══════════════╪══════════════╪══════════════╪═════════════╡\n",
       "│ 0.01         ┆ 2016-01-03 ┆ 1.0        ┆ 3.0          ┆ … ┆ 38.0         ┆ 29.0         ┆ 19.0         ┆ 7.8         │\n",
       "│ 0.09         ┆ 2016-01-03 ┆ 1.0        ┆ 3.0          ┆ … ┆ 44.0         ┆ 31.0         ┆ 9.0          ┆ 8.7         │\n",
       "│ 0.05         ┆ 2016-01-03 ┆ 1.0        ┆ 3.0          ┆ … ┆ 36.0         ┆ 24.0         ┆ 9.0          ┆ 16.46       │\n",
       "└──────────────┴────────────┴────────────┴──────────────┴───┴──────────────┴──────────────┴──────────────┴─────────────┘"
      ]
     },
     "execution_count": 30,
     "metadata": {},
     "output_type": "execute_result"
    }
   ],
   "source": [
    "df.filter( (pl.col(\"Station.State\") == \"Alaska\") | (pl.col(\"Station.City\") == \"Annette\") ).head(3)"
   ]
  },
  {
   "cell_type": "markdown",
   "metadata": {},
   "source": [
    "009-Create Calculated Columns"
   ]
  },
  {
   "cell_type": "code",
   "execution_count": 31,
   "metadata": {},
   "outputs": [
    {
     "data": {
      "text/html": [
       "<div><style>\n",
       ".dataframe > thead > tr,\n",
       ".dataframe > tbody > tr {\n",
       "  text-align: right;\n",
       "  white-space: pre-wrap;\n",
       "}\n",
       "</style>\n",
       "<small>shape: (7, 2)</small><table border=\"1\" class=\"dataframe\"><thead><tr><th>Data.Wind.Direction</th><th>calculate_Data_Wind_Direction</th></tr><tr><td>f64</td><td>f64</td></tr></thead><tbody><tr><td>33.0</td><td>165.0</td></tr><tr><td>32.0</td><td>160.0</td></tr><tr><td>35.0</td><td>175.0</td></tr><tr><td>32.0</td><td>160.0</td></tr><tr><td>19.0</td><td>95.0</td></tr><tr><td>9.0</td><td>45.0</td></tr><tr><td>9.0</td><td>45.0</td></tr></tbody></table></div>"
      ],
      "text/plain": [
       "shape: (7, 2)\n",
       "┌─────────────────────┬───────────────────────────────┐\n",
       "│ Data.Wind.Direction ┆ calculate_Data_Wind_Direction │\n",
       "│ ---                 ┆ ---                           │\n",
       "│ f64                 ┆ f64                           │\n",
       "╞═════════════════════╪═══════════════════════════════╡\n",
       "│ 33.0                ┆ 165.0                         │\n",
       "│ 32.0                ┆ 160.0                         │\n",
       "│ 35.0                ┆ 175.0                         │\n",
       "│ 32.0                ┆ 160.0                         │\n",
       "│ 19.0                ┆ 95.0                          │\n",
       "│ 9.0                 ┆ 45.0                          │\n",
       "│ 9.0                 ┆ 45.0                          │\n",
       "└─────────────────────┴───────────────────────────────┘"
      ]
     },
     "execution_count": 31,
     "metadata": {},
     "output_type": "execute_result"
    }
   ],
   "source": [
    "df.select(pl.col(\"Data.Wind.Direction\"), (pl.col(\"Data.Wind.Direction\") * 5).alias(\"calculate_Data_Wind_Direction\")).head(7)"
   ]
  },
  {
   "cell_type": "code",
   "execution_count": 32,
   "metadata": {},
   "outputs": [
    {
     "data": {
      "text/html": [
       "<div><style>\n",
       ".dataframe > thead > tr,\n",
       ".dataframe > tbody > tr {\n",
       "  text-align: right;\n",
       "  white-space: pre-wrap;\n",
       "}\n",
       "</style>\n",
       "<small>shape: (5, 4)</small><table border=\"1\" class=\"dataframe\"><thead><tr><th>Data.Wind.Direction</th><th>Data.Temperature.Avg Temp</th><th>Calculate_Data_Wind_Direction</th><th>Calculate_Data_Temperature_Avg Temp</th></tr><tr><td>f64</td><td>f64</td><td>f64</td><td>f64</td></tr></thead><tbody><tr><td>33.0</td><td>39.0</td><td>165.0</td><td>273.0</td></tr><tr><td>32.0</td><td>39.0</td><td>160.0</td><td>273.0</td></tr><tr><td>35.0</td><td>46.0</td><td>175.0</td><td>322.0</td></tr><tr><td>32.0</td><td>45.0</td><td>160.0</td><td>315.0</td></tr><tr><td>19.0</td><td>34.0</td><td>95.0</td><td>238.0</td></tr></tbody></table></div>"
      ],
      "text/plain": [
       "shape: (5, 4)\n",
       "┌─────────────────────┬───────────────────────────┬───────────────────────────────┬───────────────────────────────────┐\n",
       "│ Data.Wind.Direction ┆ Data.Temperature.Avg Temp ┆ Calculate_Data_Wind_Direction ┆ Calculate_Data_Temperature_Avg T… │\n",
       "│ ---                 ┆ ---                       ┆ ---                           ┆ ---                               │\n",
       "│ f64                 ┆ f64                       ┆ f64                           ┆ f64                               │\n",
       "╞═════════════════════╪═══════════════════════════╪═══════════════════════════════╪═══════════════════════════════════╡\n",
       "│ 33.0                ┆ 39.0                      ┆ 165.0                         ┆ 273.0                             │\n",
       "│ 32.0                ┆ 39.0                      ┆ 160.0                         ┆ 273.0                             │\n",
       "│ 35.0                ┆ 46.0                      ┆ 175.0                         ┆ 322.0                             │\n",
       "│ 32.0                ┆ 45.0                      ┆ 160.0                         ┆ 315.0                             │\n",
       "│ 19.0                ┆ 34.0                      ┆ 95.0                          ┆ 238.0                             │\n",
       "└─────────────────────┴───────────────────────────┴───────────────────────────────┴───────────────────────────────────┘"
      ]
     },
     "execution_count": 32,
     "metadata": {},
     "output_type": "execute_result"
    }
   ],
   "source": [
    "df.select(pl.col([\"Data.Wind.Direction\", \"Data.Temperature.Avg Temp\"]),\n",
    "         (pl.col(\"Data.Wind.Direction\") * 5).alias(\"Calculate_Data_Wind_Direction\"),\n",
    "         (pl.col(\"Data.Temperature.Avg Temp\") * 7).alias(\"Calculate_Data_Temperature_Avg Temp\")).head(5)"
   ]
  },
  {
   "cell_type": "code",
   "execution_count": 33,
   "metadata": {},
   "outputs": [
    {
     "data": {
      "text/html": [
       "<div><style>\n",
       ".dataframe > thead > tr,\n",
       ".dataframe > tbody > tr {\n",
       "  text-align: right;\n",
       "  white-space: pre-wrap;\n",
       "}\n",
       "</style>\n",
       "<small>shape: (5, 4)</small><table border=\"1\" class=\"dataframe\"><thead><tr><th>Data.Wind.Direction</th><th>Data.Temperature.Avg Temp</th><th>Calculate_Data_Wind_Direction</th><th>Calculate_Data_Temperature_Avg Temp</th></tr><tr><td>f64</td><td>f64</td><td>f64</td><td>f64</td></tr></thead><tbody><tr><td>33.0</td><td>39.0</td><td>165.0</td><td>13.0</td></tr><tr><td>32.0</td><td>39.0</td><td>160.0</td><td>13.0</td></tr><tr><td>35.0</td><td>46.0</td><td>175.0</td><td>15.333333</td></tr><tr><td>32.0</td><td>45.0</td><td>160.0</td><td>15.0</td></tr><tr><td>19.0</td><td>34.0</td><td>95.0</td><td>11.333333</td></tr></tbody></table></div>"
      ],
      "text/plain": [
       "shape: (5, 4)\n",
       "┌─────────────────────┬───────────────────────────┬───────────────────────────────┬───────────────────────────────────┐\n",
       "│ Data.Wind.Direction ┆ Data.Temperature.Avg Temp ┆ Calculate_Data_Wind_Direction ┆ Calculate_Data_Temperature_Avg T… │\n",
       "│ ---                 ┆ ---                       ┆ ---                           ┆ ---                               │\n",
       "│ f64                 ┆ f64                       ┆ f64                           ┆ f64                               │\n",
       "╞═════════════════════╪═══════════════════════════╪═══════════════════════════════╪═══════════════════════════════════╡\n",
       "│ 33.0                ┆ 39.0                      ┆ 165.0                         ┆ 13.0                              │\n",
       "│ 32.0                ┆ 39.0                      ┆ 160.0                         ┆ 13.0                              │\n",
       "│ 35.0                ┆ 46.0                      ┆ 175.0                         ┆ 15.333333                         │\n",
       "│ 32.0                ┆ 45.0                      ┆ 160.0                         ┆ 15.0                              │\n",
       "│ 19.0                ┆ 34.0                      ┆ 95.0                          ┆ 11.333333                         │\n",
       "└─────────────────────┴───────────────────────────┴───────────────────────────────┴───────────────────────────────────┘"
      ]
     },
     "execution_count": 33,
     "metadata": {},
     "output_type": "execute_result"
    }
   ],
   "source": [
    "df.select(pl.col([\"Data.Wind.Direction\", \"Data.Temperature.Avg Temp\"]),\n",
    "         (pl.col(\"Data.Wind.Direction\") * 5).alias(\"Calculate_Data_Wind_Direction\"),\n",
    "         (pl.col(\"Data.Temperature.Avg Temp\") / 3).alias(\"Calculate_Data_Temperature_Avg Temp\")).head(5)"
   ]
  },
  {
   "cell_type": "code",
   "execution_count": 34,
   "metadata": {},
   "outputs": [
    {
     "data": {
      "text/html": [
       "<div><style>\n",
       ".dataframe > thead > tr,\n",
       ".dataframe > tbody > tr {\n",
       "  text-align: right;\n",
       "  white-space: pre-wrap;\n",
       "}\n",
       "</style>\n",
       "<small>shape: (5, 4)</small><table border=\"1\" class=\"dataframe\"><thead><tr><th>Data.Wind.Direction</th><th>Data.Temperature.Avg Temp</th><th>Calculate_Data_Wind_Direction</th><th>Calculate_Data_Temperature_Avg Temp</th></tr><tr><td>f64</td><td>f64</td><td>f64</td><td>f64</td></tr></thead><tbody><tr><td>33.0</td><td>39.0</td><td>165.0</td><td>12.0</td></tr><tr><td>32.0</td><td>39.0</td><td>160.0</td><td>12.0</td></tr><tr><td>35.0</td><td>46.0</td><td>175.0</td><td>14.153846</td></tr><tr><td>32.0</td><td>45.0</td><td>160.0</td><td>13.846154</td></tr><tr><td>19.0</td><td>34.0</td><td>95.0</td><td>10.461538</td></tr></tbody></table></div>"
      ],
      "text/plain": [
       "shape: (5, 4)\n",
       "┌─────────────────────┬───────────────────────────┬───────────────────────────────┬───────────────────────────────────┐\n",
       "│ Data.Wind.Direction ┆ Data.Temperature.Avg Temp ┆ Calculate_Data_Wind_Direction ┆ Calculate_Data_Temperature_Avg T… │\n",
       "│ ---                 ┆ ---                       ┆ ---                           ┆ ---                               │\n",
       "│ f64                 ┆ f64                       ┆ f64                           ┆ f64                               │\n",
       "╞═════════════════════╪═══════════════════════════╪═══════════════════════════════╪═══════════════════════════════════╡\n",
       "│ 33.0                ┆ 39.0                      ┆ 165.0                         ┆ 12.0                              │\n",
       "│ 32.0                ┆ 39.0                      ┆ 160.0                         ┆ 12.0                              │\n",
       "│ 35.0                ┆ 46.0                      ┆ 175.0                         ┆ 14.153846                         │\n",
       "│ 32.0                ┆ 45.0                      ┆ 160.0                         ┆ 13.846154                         │\n",
       "│ 19.0                ┆ 34.0                      ┆ 95.0                          ┆ 10.461538                         │\n",
       "└─────────────────────┴───────────────────────────┴───────────────────────────────┴───────────────────────────────────┘"
      ]
     },
     "execution_count": 34,
     "metadata": {},
     "output_type": "execute_result"
    }
   ],
   "source": [
    "df.select(pl.col([\"Data.Wind.Direction\", \"Data.Temperature.Avg Temp\"]),\n",
    "         (pl.col(\"Data.Wind.Direction\") * 5).alias(\"Calculate_Data_Wind_Direction\"),\n",
    "         (pl.col(\"Data.Temperature.Avg Temp\") / 3.25).alias(\"Calculate_Data_Temperature_Avg Temp\")).head(5)"
   ]
  },
  {
   "cell_type": "code",
   "execution_count": 35,
   "metadata": {},
   "outputs": [
    {
     "data": {
      "text/html": [
       "<div><style>\n",
       ".dataframe > thead > tr,\n",
       ".dataframe > tbody > tr {\n",
       "  text-align: right;\n",
       "  white-space: pre-wrap;\n",
       "}\n",
       "</style>\n",
       "<small>shape: (5, 4)</small><table border=\"1\" class=\"dataframe\"><thead><tr><th>Data.Wind.Direction</th><th>Data.Temperature.Avg Temp</th><th>Calculate_Data_Wind_Direction</th><th>Calculate_Data_Temperature_Avg Temp</th></tr><tr><td>f64</td><td>f64</td><td>f64</td><td>f64</td></tr></thead><tbody><tr><td>33.0</td><td>39.0</td><td>165.0</td><td>12.0</td></tr><tr><td>32.0</td><td>39.0</td><td>160.0</td><td>12.0</td></tr><tr><td>35.0</td><td>46.0</td><td>175.0</td><td>14.0</td></tr><tr><td>32.0</td><td>45.0</td><td>160.0</td><td>14.0</td></tr><tr><td>19.0</td><td>34.0</td><td>95.0</td><td>10.0</td></tr></tbody></table></div>"
      ],
      "text/plain": [
       "shape: (5, 4)\n",
       "┌─────────────────────┬───────────────────────────┬───────────────────────────────┬───────────────────────────────────┐\n",
       "│ Data.Wind.Direction ┆ Data.Temperature.Avg Temp ┆ Calculate_Data_Wind_Direction ┆ Calculate_Data_Temperature_Avg T… │\n",
       "│ ---                 ┆ ---                       ┆ ---                           ┆ ---                               │\n",
       "│ f64                 ┆ f64                       ┆ f64                           ┆ f64                               │\n",
       "╞═════════════════════╪═══════════════════════════╪═══════════════════════════════╪═══════════════════════════════════╡\n",
       "│ 33.0                ┆ 39.0                      ┆ 165.0                         ┆ 12.0                              │\n",
       "│ 32.0                ┆ 39.0                      ┆ 160.0                         ┆ 12.0                              │\n",
       "│ 35.0                ┆ 46.0                      ┆ 175.0                         ┆ 14.0                              │\n",
       "│ 32.0                ┆ 45.0                      ┆ 160.0                         ┆ 14.0                              │\n",
       "│ 19.0                ┆ 34.0                      ┆ 95.0                          ┆ 10.0                              │\n",
       "└─────────────────────┴───────────────────────────┴───────────────────────────────┴───────────────────────────────────┘"
      ]
     },
     "execution_count": 35,
     "metadata": {},
     "output_type": "execute_result"
    }
   ],
   "source": [
    "df.select(pl.col([\"Data.Wind.Direction\", \"Data.Temperature.Avg Temp\"]),\n",
    "         (pl.col(\"Data.Wind.Direction\") * 5).alias(\"Calculate_Data_Wind_Direction\"),\n",
    "         (pl.col(\"Data.Temperature.Avg Temp\") / 3.25).cast(pl.Float64).round().alias(\"Calculate_Data_Temperature_Avg Temp\")).head(5)"
   ]
  },
  {
   "cell_type": "code",
   "execution_count": 36,
   "metadata": {},
   "outputs": [
    {
     "data": {
      "text/html": [
       "<div><style>\n",
       ".dataframe > thead > tr,\n",
       ".dataframe > tbody > tr {\n",
       "  text-align: right;\n",
       "  white-space: pre-wrap;\n",
       "}\n",
       "</style>\n",
       "<small>shape: (5, 4)</small><table border=\"1\" class=\"dataframe\"><thead><tr><th>Data.Wind.Direction</th><th>Data.Temperature.Avg Temp</th><th>Calculate_Data_Wind_Direction</th><th>Calculate_Data_Temperature_Avg Temp</th></tr><tr><td>f64</td><td>f64</td><td>f64</td><td>f64</td></tr></thead><tbody><tr><td>33.0</td><td>39.0</td><td>165.0</td><td>12.0</td></tr><tr><td>32.0</td><td>39.0</td><td>160.0</td><td>12.0</td></tr><tr><td>35.0</td><td>46.0</td><td>175.0</td><td>14.2</td></tr><tr><td>32.0</td><td>45.0</td><td>160.0</td><td>13.8</td></tr><tr><td>19.0</td><td>34.0</td><td>95.0</td><td>10.5</td></tr></tbody></table></div>"
      ],
      "text/plain": [
       "shape: (5, 4)\n",
       "┌─────────────────────┬───────────────────────────┬───────────────────────────────┬───────────────────────────────────┐\n",
       "│ Data.Wind.Direction ┆ Data.Temperature.Avg Temp ┆ Calculate_Data_Wind_Direction ┆ Calculate_Data_Temperature_Avg T… │\n",
       "│ ---                 ┆ ---                       ┆ ---                           ┆ ---                               │\n",
       "│ f64                 ┆ f64                       ┆ f64                           ┆ f64                               │\n",
       "╞═════════════════════╪═══════════════════════════╪═══════════════════════════════╪═══════════════════════════════════╡\n",
       "│ 33.0                ┆ 39.0                      ┆ 165.0                         ┆ 12.0                              │\n",
       "│ 32.0                ┆ 39.0                      ┆ 160.0                         ┆ 12.0                              │\n",
       "│ 35.0                ┆ 46.0                      ┆ 175.0                         ┆ 14.2                              │\n",
       "│ 32.0                ┆ 45.0                      ┆ 160.0                         ┆ 13.8                              │\n",
       "│ 19.0                ┆ 34.0                      ┆ 95.0                          ┆ 10.5                              │\n",
       "└─────────────────────┴───────────────────────────┴───────────────────────────────┴───────────────────────────────────┘"
      ]
     },
     "execution_count": 36,
     "metadata": {},
     "output_type": "execute_result"
    }
   ],
   "source": [
    "df.select(pl.col([\"Data.Wind.Direction\", \"Data.Temperature.Avg Temp\"]),\n",
    "         (pl.col(\"Data.Wind.Direction\") * 5).alias(\"Calculate_Data_Wind_Direction\"),\n",
    "         (pl.col(\"Data.Temperature.Avg Temp\") / 3.25).cast(pl.Float64).round(1).alias(\"Calculate_Data_Temperature_Avg Temp\")).head(5)"
   ]
  },
  {
   "cell_type": "code",
   "execution_count": 37,
   "metadata": {},
   "outputs": [
    {
     "data": {
      "text/html": [
       "<div><style>\n",
       ".dataframe > thead > tr,\n",
       ".dataframe > tbody > tr {\n",
       "  text-align: right;\n",
       "  white-space: pre-wrap;\n",
       "}\n",
       "</style>\n",
       "<small>shape: (5, 4)</small><table border=\"1\" class=\"dataframe\"><thead><tr><th>Data.Wind.Direction</th><th>Data.Temperature.Avg Temp</th><th>Calculate_Data_Wind_Direction</th><th>Calculate_Data_Temperature_Avg Temp</th></tr><tr><td>f64</td><td>f64</td><td>f64</td><td>f64</td></tr></thead><tbody><tr><td>33.0</td><td>39.0</td><td>165.0</td><td>12.0</td></tr><tr><td>32.0</td><td>39.0</td><td>160.0</td><td>12.0</td></tr><tr><td>35.0</td><td>46.0</td><td>175.0</td><td>14.15</td></tr><tr><td>32.0</td><td>45.0</td><td>160.0</td><td>13.85</td></tr><tr><td>19.0</td><td>34.0</td><td>95.0</td><td>10.46</td></tr></tbody></table></div>"
      ],
      "text/plain": [
       "shape: (5, 4)\n",
       "┌─────────────────────┬───────────────────────────┬───────────────────────────────┬───────────────────────────────────┐\n",
       "│ Data.Wind.Direction ┆ Data.Temperature.Avg Temp ┆ Calculate_Data_Wind_Direction ┆ Calculate_Data_Temperature_Avg T… │\n",
       "│ ---                 ┆ ---                       ┆ ---                           ┆ ---                               │\n",
       "│ f64                 ┆ f64                       ┆ f64                           ┆ f64                               │\n",
       "╞═════════════════════╪═══════════════════════════╪═══════════════════════════════╪═══════════════════════════════════╡\n",
       "│ 33.0                ┆ 39.0                      ┆ 165.0                         ┆ 12.0                              │\n",
       "│ 32.0                ┆ 39.0                      ┆ 160.0                         ┆ 12.0                              │\n",
       "│ 35.0                ┆ 46.0                      ┆ 175.0                         ┆ 14.15                             │\n",
       "│ 32.0                ┆ 45.0                      ┆ 160.0                         ┆ 13.85                             │\n",
       "│ 19.0                ┆ 34.0                      ┆ 95.0                          ┆ 10.46                             │\n",
       "└─────────────────────┴───────────────────────────┴───────────────────────────────┴───────────────────────────────────┘"
      ]
     },
     "execution_count": 37,
     "metadata": {},
     "output_type": "execute_result"
    }
   ],
   "source": [
    "df.select(pl.col([\"Data.Wind.Direction\", \"Data.Temperature.Avg Temp\"]),\n",
    "         (pl.col(\"Data.Wind.Direction\") * 5).alias(\"Calculate_Data_Wind_Direction\"),\n",
    "         (pl.col(\"Data.Temperature.Avg Temp\") / 3.25).cast(pl.Float64).round(2).alias(\"Calculate_Data_Temperature_Avg Temp\")).head(5)"
   ]
  },
  {
   "cell_type": "code",
   "execution_count": 38,
   "metadata": {},
   "outputs": [
    {
     "data": {
      "text/html": [
       "<div><style>\n",
       ".dataframe > thead > tr,\n",
       ".dataframe > tbody > tr {\n",
       "  text-align: right;\n",
       "  white-space: pre-wrap;\n",
       "}\n",
       "</style>\n",
       "<small>shape: (5, 4)</small><table border=\"1\" class=\"dataframe\"><thead><tr><th>Data.Wind.Direction</th><th>Data.Temperature.Avg Temp</th><th>Calculate_Data_Wind_Direction</th><th>Calculate_Data_Temperature_Avg Temp</th></tr><tr><td>f64</td><td>f64</td><td>f64</td><td>f64</td></tr></thead><tbody><tr><td>33.0</td><td>39.0</td><td>165.0</td><td>12.0</td></tr><tr><td>32.0</td><td>39.0</td><td>160.0</td><td>12.0</td></tr><tr><td>35.0</td><td>46.0</td><td>175.0</td><td>14.154</td></tr><tr><td>32.0</td><td>45.0</td><td>160.0</td><td>13.846</td></tr><tr><td>19.0</td><td>34.0</td><td>95.0</td><td>10.462</td></tr></tbody></table></div>"
      ],
      "text/plain": [
       "shape: (5, 4)\n",
       "┌─────────────────────┬───────────────────────────┬───────────────────────────────┬───────────────────────────────────┐\n",
       "│ Data.Wind.Direction ┆ Data.Temperature.Avg Temp ┆ Calculate_Data_Wind_Direction ┆ Calculate_Data_Temperature_Avg T… │\n",
       "│ ---                 ┆ ---                       ┆ ---                           ┆ ---                               │\n",
       "│ f64                 ┆ f64                       ┆ f64                           ┆ f64                               │\n",
       "╞═════════════════════╪═══════════════════════════╪═══════════════════════════════╪═══════════════════════════════════╡\n",
       "│ 33.0                ┆ 39.0                      ┆ 165.0                         ┆ 12.0                              │\n",
       "│ 32.0                ┆ 39.0                      ┆ 160.0                         ┆ 12.0                              │\n",
       "│ 35.0                ┆ 46.0                      ┆ 175.0                         ┆ 14.154                            │\n",
       "│ 32.0                ┆ 45.0                      ┆ 160.0                         ┆ 13.846                            │\n",
       "│ 19.0                ┆ 34.0                      ┆ 95.0                          ┆ 10.462                            │\n",
       "└─────────────────────┴───────────────────────────┴───────────────────────────────┴───────────────────────────────────┘"
      ]
     },
     "execution_count": 38,
     "metadata": {},
     "output_type": "execute_result"
    }
   ],
   "source": [
    "df.select(pl.col([\"Data.Wind.Direction\", \"Data.Temperature.Avg Temp\"]),\n",
    "         (pl.col(\"Data.Wind.Direction\") * 5).alias(\"Calculate_Data_Wind_Direction\"),\n",
    "         (pl.col(\"Data.Temperature.Avg Temp\") / 3.25).cast(pl.Float64).round(3).alias(\"Calculate_Data_Temperature_Avg Temp\")).head(5)"
   ]
  },
  {
   "cell_type": "markdown",
   "metadata": {},
   "source": [
    "010-Apply Conditional Logic WHEN CASE Statement"
   ]
  },
  {
   "cell_type": "code",
   "execution_count": 39,
   "metadata": {},
   "outputs": [
    {
     "data": {
      "text/html": [
       "<div><style>\n",
       ".dataframe > thead > tr,\n",
       ".dataframe > tbody > tr {\n",
       "  text-align: right;\n",
       "  white-space: pre-wrap;\n",
       "}\n",
       "</style>\n",
       "<small>shape: (5, 2)</small><table border=\"1\" class=\"dataframe\"><thead><tr><th>Data.Temperature.Avg Temp</th><th>Temperature</th></tr><tr><td>f64</td><td>str</td></tr></thead><tbody><tr><td>39.0</td><td>&quot;Warm&quot;</td></tr><tr><td>39.0</td><td>&quot;Warm&quot;</td></tr><tr><td>46.0</td><td>&quot;Hot&quot;</td></tr><tr><td>45.0</td><td>&quot;Hot&quot;</td></tr><tr><td>34.0</td><td>&quot;Warm&quot;</td></tr></tbody></table></div>"
      ],
      "text/plain": [
       "shape: (5, 2)\n",
       "┌───────────────────────────┬─────────────┐\n",
       "│ Data.Temperature.Avg Temp ┆ Temperature │\n",
       "│ ---                       ┆ ---         │\n",
       "│ f64                       ┆ str         │\n",
       "╞═══════════════════════════╪═════════════╡\n",
       "│ 39.0                      ┆ Warm        │\n",
       "│ 39.0                      ┆ Warm        │\n",
       "│ 46.0                      ┆ Hot         │\n",
       "│ 45.0                      ┆ Hot         │\n",
       "│ 34.0                      ┆ Warm        │\n",
       "└───────────────────────────┴─────────────┘"
      ]
     },
     "execution_count": 39,
     "metadata": {},
     "output_type": "execute_result"
    }
   ],
   "source": [
    "df.select(\n",
    "          pl.col(\"Data.Temperature.Avg Temp\"),\n",
    "          pl.when(pl.col(\"Data.Temperature.Avg Temp\") > 40)\n",
    "            .then(pl.lit(\"Hot\"))\n",
    "            .otherwise(pl.lit(\"Warm\"))\n",
    "          .alias(\"Temperature\")\n",
    ").head(5)"
   ]
  },
  {
   "cell_type": "markdown",
   "metadata": {},
   "source": [
    "011-Apply Conditional Logic WHEN CASE Statement 2"
   ]
  },
  {
   "cell_type": "code",
   "execution_count": 40,
   "metadata": {},
   "outputs": [
    {
     "data": {
      "text/html": [
       "<div><style>\n",
       ".dataframe > thead > tr,\n",
       ".dataframe > tbody > tr {\n",
       "  text-align: right;\n",
       "  white-space: pre-wrap;\n",
       "}\n",
       "</style>\n",
       "<small>shape: (5, 2)</small><table border=\"1\" class=\"dataframe\"><thead><tr><th>Station.State</th><th>Is_It_Alaska</th></tr><tr><td>str</td><td>bool</td></tr></thead><tbody><tr><td>&quot;Alabama&quot;</td><td>false</td></tr><tr><td>&quot;Alabama&quot;</td><td>false</td></tr><tr><td>&quot;Alabama&quot;</td><td>false</td></tr><tr><td>&quot;Alabama&quot;</td><td>false</td></tr><tr><td>&quot;Alaska&quot;</td><td>true</td></tr></tbody></table></div>"
      ],
      "text/plain": [
       "shape: (5, 2)\n",
       "┌───────────────┬──────────────┐\n",
       "│ Station.State ┆ Is_It_Alaska │\n",
       "│ ---           ┆ ---          │\n",
       "│ str           ┆ bool         │\n",
       "╞═══════════════╪══════════════╡\n",
       "│ Alabama       ┆ false        │\n",
       "│ Alabama       ┆ false        │\n",
       "│ Alabama       ┆ false        │\n",
       "│ Alabama       ┆ false        │\n",
       "│ Alaska        ┆ true         │\n",
       "└───────────────┴──────────────┘"
      ]
     },
     "execution_count": 40,
     "metadata": {},
     "output_type": "execute_result"
    }
   ],
   "source": [
    "df.select(\n",
    "          pl.col(\"Station.State\"),\n",
    "          pl.when(pl.col(\"Station.State\") == \"Alaska\")\n",
    "            .then(pl.lit(True))\n",
    "            .otherwise(pl.lit(False))\n",
    "          .alias(\"Is_It_Alaska\")\n",
    ").head(5)"
   ]
  },
  {
   "cell_type": "code",
   "execution_count": 41,
   "metadata": {},
   "outputs": [
    {
     "data": {
      "text/html": [
       "<div><style>\n",
       ".dataframe > thead > tr,\n",
       ".dataframe > tbody > tr {\n",
       "  text-align: right;\n",
       "  white-space: pre-wrap;\n",
       "}\n",
       "</style>\n",
       "<small>shape: (5, 2)</small><table border=\"1\" class=\"dataframe\"><thead><tr><th>Station.State</th><th>Is_It_Countries</th></tr><tr><td>str</td><td>bool</td></tr></thead><tbody><tr><td>&quot;Alabama&quot;</td><td>false</td></tr><tr><td>&quot;Alabama&quot;</td><td>false</td></tr><tr><td>&quot;Alabama&quot;</td><td>false</td></tr><tr><td>&quot;Alabama&quot;</td><td>false</td></tr><tr><td>&quot;Alaska&quot;</td><td>true</td></tr></tbody></table></div>"
      ],
      "text/plain": [
       "shape: (5, 2)\n",
       "┌───────────────┬─────────────────┐\n",
       "│ Station.State ┆ Is_It_Countries │\n",
       "│ ---           ┆ ---             │\n",
       "│ str           ┆ bool            │\n",
       "╞═══════════════╪═════════════════╡\n",
       "│ Alabama       ┆ false           │\n",
       "│ Alabama       ┆ false           │\n",
       "│ Alabama       ┆ false           │\n",
       "│ Alabama       ┆ false           │\n",
       "│ Alaska        ┆ true            │\n",
       "└───────────────┴─────────────────┘"
      ]
     },
     "execution_count": 41,
     "metadata": {},
     "output_type": "execute_result"
    }
   ],
   "source": [
    "countries = [\"Alaska\", \"Wyoming\"]\n",
    "\n",
    "df.select(\n",
    "          pl.col(\"Station.State\"),\n",
    "          pl.when(pl.col(\"Station.State\").is_in(countries))\n",
    "            .then(pl.lit(True))\n",
    "            .otherwise(pl.lit(False))\n",
    "          .alias(\"Is_It_Countries\")\n",
    ").head(5)"
   ]
  },
  {
   "cell_type": "markdown",
   "metadata": {},
   "source": [
    "012-Apply Conditional Logic WHEN CASE Statement 3"
   ]
  },
  {
   "cell_type": "code",
   "execution_count": 42,
   "metadata": {},
   "outputs": [
    {
     "data": {
      "text/html": [
       "<div><style>\n",
       ".dataframe > thead > tr,\n",
       ".dataframe > tbody > tr {\n",
       "  text-align: right;\n",
       "  white-space: pre-wrap;\n",
       "}\n",
       "</style>\n",
       "<small>shape: (6, 3)</small><table border=\"1\" class=\"dataframe\"><thead><tr><th>Station.City</th><th>Data.Temperature.Avg Temp</th><th>City &amp; Temperature</th></tr><tr><td>str</td><td>f64</td><td>i32</td></tr></thead><tbody><tr><td>&quot;Birmingham&quot;</td><td>39.0</td><td>1</td></tr><tr><td>&quot;Huntsville&quot;</td><td>39.0</td><td>0</td></tr><tr><td>&quot;Mobile&quot;</td><td>46.0</td><td>0</td></tr><tr><td>&quot;Montgomery&quot;</td><td>45.0</td><td>1</td></tr><tr><td>&quot;Anchorage&quot;</td><td>34.0</td><td>0</td></tr><tr><td>&quot;Annette&quot;</td><td>38.0</td><td>0</td></tr></tbody></table></div>"
      ],
      "text/plain": [
       "shape: (6, 3)\n",
       "┌──────────────┬───────────────────────────┬────────────────────┐\n",
       "│ Station.City ┆ Data.Temperature.Avg Temp ┆ City & Temperature │\n",
       "│ ---          ┆ ---                       ┆ ---                │\n",
       "│ str          ┆ f64                       ┆ i32                │\n",
       "╞══════════════╪═══════════════════════════╪════════════════════╡\n",
       "│ Birmingham   ┆ 39.0                      ┆ 1                  │\n",
       "│ Huntsville   ┆ 39.0                      ┆ 0                  │\n",
       "│ Mobile       ┆ 46.0                      ┆ 0                  │\n",
       "│ Montgomery   ┆ 45.0                      ┆ 1                  │\n",
       "│ Anchorage    ┆ 34.0                      ┆ 0                  │\n",
       "│ Annette      ┆ 38.0                      ┆ 0                  │\n",
       "└──────────────┴───────────────────────────┴────────────────────┘"
      ]
     },
     "execution_count": 42,
     "metadata": {},
     "output_type": "execute_result"
    }
   ],
   "source": [
    "city = [\"Montgomery\", \"Birmingham\"]\n",
    "\n",
    "df.select(\n",
    "          pl.col(\"Station.City\"), pl.col(\"Data.Temperature.Avg Temp\"),\n",
    "          pl.when( (pl.col(\"Station.City\").is_in(city)) & (pl.col(\"Data.Temperature.Avg Temp\") > 35) )\n",
    "            .then(pl.lit(1))\n",
    "            .otherwise(pl.lit(0))\n",
    "          .alias(\"City & Temperature\")\n",
    ").head(6)"
   ]
  },
  {
   "cell_type": "code",
   "execution_count": 43,
   "metadata": {},
   "outputs": [
    {
     "data": {
      "text/html": [
       "<div><style>\n",
       ".dataframe > thead > tr,\n",
       ".dataframe > tbody > tr {\n",
       "  text-align: right;\n",
       "  white-space: pre-wrap;\n",
       "}\n",
       "</style>\n",
       "<small>shape: (6, 3)</small><table border=\"1\" class=\"dataframe\"><thead><tr><th>Station.City</th><th>Data.Temperature.Avg Temp</th><th>City &amp; Temperature</th></tr><tr><td>str</td><td>f64</td><td>i32</td></tr></thead><tbody><tr><td>&quot;Birmingham&quot;</td><td>39.0</td><td>1</td></tr><tr><td>&quot;Huntsville&quot;</td><td>39.0</td><td>1</td></tr><tr><td>&quot;Mobile&quot;</td><td>46.0</td><td>1</td></tr><tr><td>&quot;Montgomery&quot;</td><td>45.0</td><td>1</td></tr><tr><td>&quot;Anchorage&quot;</td><td>34.0</td><td>0</td></tr><tr><td>&quot;Annette&quot;</td><td>38.0</td><td>1</td></tr></tbody></table></div>"
      ],
      "text/plain": [
       "shape: (6, 3)\n",
       "┌──────────────┬───────────────────────────┬────────────────────┐\n",
       "│ Station.City ┆ Data.Temperature.Avg Temp ┆ City & Temperature │\n",
       "│ ---          ┆ ---                       ┆ ---                │\n",
       "│ str          ┆ f64                       ┆ i32                │\n",
       "╞══════════════╪═══════════════════════════╪════════════════════╡\n",
       "│ Birmingham   ┆ 39.0                      ┆ 1                  │\n",
       "│ Huntsville   ┆ 39.0                      ┆ 1                  │\n",
       "│ Mobile       ┆ 46.0                      ┆ 1                  │\n",
       "│ Montgomery   ┆ 45.0                      ┆ 1                  │\n",
       "│ Anchorage    ┆ 34.0                      ┆ 0                  │\n",
       "│ Annette      ┆ 38.0                      ┆ 1                  │\n",
       "└──────────────┴───────────────────────────┴────────────────────┘"
      ]
     },
     "execution_count": 43,
     "metadata": {},
     "output_type": "execute_result"
    }
   ],
   "source": [
    "city = [\"Montgomery\", \"Birmingham\"]\n",
    "\n",
    "df.select(\n",
    "          pl.col(\"Station.City\"), pl.col(\"Data.Temperature.Avg Temp\"),\n",
    "          pl.when( (pl.col(\"Station.City\").is_in(city)) | (pl.col(\"Data.Temperature.Avg Temp\") > 35) )\n",
    "            .then(pl.lit(1))\n",
    "            .otherwise(pl.lit(0))\n",
    "          .alias(\"City & Temperature\")\n",
    ").head(6)"
   ]
  },
  {
   "cell_type": "markdown",
   "metadata": {},
   "source": [
    "013-Apply Conditional Logic WHEN CASE Statement 4"
   ]
  },
  {
   "cell_type": "code",
   "execution_count": 44,
   "metadata": {},
   "outputs": [
    {
     "data": {
      "text/html": [
       "<div><style>\n",
       ".dataframe > thead > tr,\n",
       ".dataframe > tbody > tr {\n",
       "  text-align: right;\n",
       "  white-space: pre-wrap;\n",
       "}\n",
       "</style>\n",
       "<small>shape: (7, 3)</small><table border=\"1\" class=\"dataframe\"><thead><tr><th>Data.Temperature.Avg Temp</th><th>Data.Wind.Direction</th><th>Climate</th></tr><tr><td>f64</td><td>f64</td><td>str</td></tr></thead><tbody><tr><td>39.0</td><td>33.0</td><td>&quot;Warm&quot;</td></tr><tr><td>39.0</td><td>32.0</td><td>&quot;Warm&quot;</td></tr><tr><td>46.0</td><td>35.0</td><td>&quot;Hot&quot;</td></tr><tr><td>45.0</td><td>32.0</td><td>&quot;Hot&quot;</td></tr><tr><td>34.0</td><td>19.0</td><td>&quot;Warm&quot;</td></tr><tr><td>38.0</td><td>9.0</td><td>&quot;Warm&quot;</td></tr><tr><td>30.0</td><td>9.0</td><td>&quot;Mild&quot;</td></tr></tbody></table></div>"
      ],
      "text/plain": [
       "shape: (7, 3)\n",
       "┌───────────────────────────┬─────────────────────┬─────────┐\n",
       "│ Data.Temperature.Avg Temp ┆ Data.Wind.Direction ┆ Climate │\n",
       "│ ---                       ┆ ---                 ┆ ---     │\n",
       "│ f64                       ┆ f64                 ┆ str     │\n",
       "╞═══════════════════════════╪═════════════════════╪═════════╡\n",
       "│ 39.0                      ┆ 33.0                ┆ Warm    │\n",
       "│ 39.0                      ┆ 32.0                ┆ Warm    │\n",
       "│ 46.0                      ┆ 35.0                ┆ Hot     │\n",
       "│ 45.0                      ┆ 32.0                ┆ Hot     │\n",
       "│ 34.0                      ┆ 19.0                ┆ Warm    │\n",
       "│ 38.0                      ┆ 9.0                 ┆ Warm    │\n",
       "│ 30.0                      ┆ 9.0                 ┆ Mild    │\n",
       "└───────────────────────────┴─────────────────────┴─────────┘"
      ]
     },
     "execution_count": 44,
     "metadata": {},
     "output_type": "execute_result"
    }
   ],
   "source": [
    "df.select(\n",
    "          pl.col(\"Data.Temperature.Avg Temp\"), pl.col(\"Data.Wind.Direction\"),\n",
    "          pl.when( (pl.col(\"Data.Temperature.Avg Temp\") > 40) & (pl.col(\"Data.Wind.Speed\") < 10) )\n",
    "            .then(pl.lit(\"Hot\"))\\\n",
    "            .when((pl.col(\"Data.Temperature.Avg Temp\") > 30) & (pl.col(\"Data.Wind.Speed\") < 10) )\n",
    "            .then(pl.lit(\"Warm\"))\\\n",
    "            .otherwise(pl.lit(\"Mild\"))\\\n",
    "          .alias(\"Climate\")\n",
    ").head(7)"
   ]
  },
  {
   "cell_type": "markdown",
   "metadata": {},
   "source": [
    "014-Creating a User Defined Function"
   ]
  },
  {
   "cell_type": "code",
   "execution_count": 45,
   "metadata": {},
   "outputs": [],
   "source": [
    "def Calculate_Temperature_Sum(row):\n",
    "    try:\n",
    "        temp_max = int(row[10])\n",
    "        temp_min = int(row[11])\n",
    "        \n",
    "        return temp_max + temp_min\n",
    "\n",
    "    except:\n",
    "        return 1"
   ]
  },
  {
   "cell_type": "code",
   "execution_count": 46,
   "metadata": {},
   "outputs": [
    {
     "name": "stderr",
     "output_type": "stream",
     "text": [
      "C:\\Users\\Hediye\\AppData\\Local\\Temp\\ipykernel_6380\\1859488921.py:1: DeprecationWarning: `apply` is deprecated. It has been renamed to `map_rows`.\n",
      "  df.with_columns(df.apply(Calculate_Temperature_Sum, return_dtype= pl.Int64)).head(3)\n"
     ]
    },
    {
     "data": {
      "text/html": [
       "<div><style>\n",
       ".dataframe > thead > tr,\n",
       ".dataframe > tbody > tr {\n",
       "  text-align: right;\n",
       "  white-space: pre-wrap;\n",
       "}\n",
       "</style>\n",
       "<small>shape: (3, 15)</small><table border=\"1\" class=\"dataframe\"><thead><tr><th>Data.Precipitation</th><th>Date.Full</th><th>Date.Month</th><th>Date.Week of</th><th>Date.Year</th><th>Station.City</th><th>Station.Code</th><th>Station.Location</th><th>Station.State</th><th>Data.Temperature.Avg Temp</th><th>Data.Temperature.Max Temp</th><th>Data.Temperature.Min Temp</th><th>Data.Wind.Direction</th><th>Data.Wind.Speed</th><th>map</th></tr><tr><td>f64</td><td>str</td><td>f64</td><td>f64</td><td>f64</td><td>str</td><td>str</td><td>str</td><td>str</td><td>f64</td><td>f64</td><td>f64</td><td>f64</td><td>f64</td><td>i64</td></tr></thead><tbody><tr><td>0.0</td><td>&quot;2016-01-03&quot;</td><td>1.0</td><td>3.0</td><td>2016.0</td><td>&quot;Birmingham&quot;</td><td>&quot;BHM&quot;</td><td>&quot;Birmingham, AL…</td><td>&quot;Alabama&quot;</td><td>39.0</td><td>46.0</td><td>32.0</td><td>33.0</td><td>4.33</td><td>78</td></tr><tr><td>0.0</td><td>&quot;2016-01-03&quot;</td><td>1.0</td><td>3.0</td><td>2016.0</td><td>&quot;Huntsville&quot;</td><td>&quot;HSV&quot;</td><td>&quot;Huntsville, AL…</td><td>&quot;Alabama&quot;</td><td>39.0</td><td>47.0</td><td>31.0</td><td>32.0</td><td>3.86</td><td>78</td></tr><tr><td>0.16</td><td>&quot;2016-01-03&quot;</td><td>1.0</td><td>3.0</td><td>2016.0</td><td>&quot;Mobile&quot;</td><td>&quot;MOB&quot;</td><td>&quot;Mobile, AL&quot;</td><td>&quot;Alabama&quot;</td><td>46.0</td><td>51.0</td><td>41.0</td><td>35.0</td><td>9.73</td><td>92</td></tr></tbody></table></div>"
      ],
      "text/plain": [
       "shape: (3, 15)\n",
       "┌────────────────┬────────────┬────────────┬──────────────┬───┬────────────────┬────────────────┬────────────────┬─────┐\n",
       "│ Data.Precipita ┆ Date.Full  ┆ Date.Month ┆ Date.Week of ┆ … ┆ Data.Temperatu ┆ Data.Wind.Dire ┆ Data.Wind.Spee ┆ map │\n",
       "│ tion           ┆ ---        ┆ ---        ┆ ---          ┆   ┆ re.Min Temp    ┆ ction          ┆ d              ┆ --- │\n",
       "│ ---            ┆ str        ┆ f64        ┆ f64          ┆   ┆ ---            ┆ ---            ┆ ---            ┆ i64 │\n",
       "│ f64            ┆            ┆            ┆              ┆   ┆ f64            ┆ f64            ┆ f64            ┆     │\n",
       "╞════════════════╪════════════╪════════════╪══════════════╪═══╪════════════════╪════════════════╪════════════════╪═════╡\n",
       "│ 0.0            ┆ 2016-01-03 ┆ 1.0        ┆ 3.0          ┆ … ┆ 32.0           ┆ 33.0           ┆ 4.33           ┆ 78  │\n",
       "│ 0.0            ┆ 2016-01-03 ┆ 1.0        ┆ 3.0          ┆ … ┆ 31.0           ┆ 32.0           ┆ 3.86           ┆ 78  │\n",
       "│ 0.16           ┆ 2016-01-03 ┆ 1.0        ┆ 3.0          ┆ … ┆ 41.0           ┆ 35.0           ┆ 9.73           ┆ 92  │\n",
       "└────────────────┴────────────┴────────────┴──────────────┴───┴────────────────┴────────────────┴────────────────┴─────┘"
      ]
     },
     "execution_count": 46,
     "metadata": {},
     "output_type": "execute_result"
    }
   ],
   "source": [
    "df.with_columns(df.apply(Calculate_Temperature_Sum, return_dtype= pl.Int64)).head(3)"
   ]
  },
  {
   "cell_type": "code",
   "execution_count": 47,
   "metadata": {},
   "outputs": [
    {
     "name": "stderr",
     "output_type": "stream",
     "text": [
      "C:\\Users\\Hediye\\AppData\\Local\\Temp\\ipykernel_6380\\2335937842.py:1: DeprecationWarning: `apply` is deprecated. It has been renamed to `map_rows`.\n",
      "  df.with_columns(df.apply(Calculate_Temperature_Sum, return_dtype= pl.Int64)).rename({\"map\": \"Sum_of_temp\"}).head(3)\n"
     ]
    },
    {
     "data": {
      "text/html": [
       "<div><style>\n",
       ".dataframe > thead > tr,\n",
       ".dataframe > tbody > tr {\n",
       "  text-align: right;\n",
       "  white-space: pre-wrap;\n",
       "}\n",
       "</style>\n",
       "<small>shape: (3, 15)</small><table border=\"1\" class=\"dataframe\"><thead><tr><th>Data.Precipitation</th><th>Date.Full</th><th>Date.Month</th><th>Date.Week of</th><th>Date.Year</th><th>Station.City</th><th>Station.Code</th><th>Station.Location</th><th>Station.State</th><th>Data.Temperature.Avg Temp</th><th>Data.Temperature.Max Temp</th><th>Data.Temperature.Min Temp</th><th>Data.Wind.Direction</th><th>Data.Wind.Speed</th><th>Sum_of_temp</th></tr><tr><td>f64</td><td>str</td><td>f64</td><td>f64</td><td>f64</td><td>str</td><td>str</td><td>str</td><td>str</td><td>f64</td><td>f64</td><td>f64</td><td>f64</td><td>f64</td><td>i64</td></tr></thead><tbody><tr><td>0.0</td><td>&quot;2016-01-03&quot;</td><td>1.0</td><td>3.0</td><td>2016.0</td><td>&quot;Birmingham&quot;</td><td>&quot;BHM&quot;</td><td>&quot;Birmingham, AL…</td><td>&quot;Alabama&quot;</td><td>39.0</td><td>46.0</td><td>32.0</td><td>33.0</td><td>4.33</td><td>78</td></tr><tr><td>0.0</td><td>&quot;2016-01-03&quot;</td><td>1.0</td><td>3.0</td><td>2016.0</td><td>&quot;Huntsville&quot;</td><td>&quot;HSV&quot;</td><td>&quot;Huntsville, AL…</td><td>&quot;Alabama&quot;</td><td>39.0</td><td>47.0</td><td>31.0</td><td>32.0</td><td>3.86</td><td>78</td></tr><tr><td>0.16</td><td>&quot;2016-01-03&quot;</td><td>1.0</td><td>3.0</td><td>2016.0</td><td>&quot;Mobile&quot;</td><td>&quot;MOB&quot;</td><td>&quot;Mobile, AL&quot;</td><td>&quot;Alabama&quot;</td><td>46.0</td><td>51.0</td><td>41.0</td><td>35.0</td><td>9.73</td><td>92</td></tr></tbody></table></div>"
      ],
      "text/plain": [
       "shape: (3, 15)\n",
       "┌──────────────┬────────────┬────────────┬──────────────┬───┬──────────────┬──────────────┬──────────────┬─────────────┐\n",
       "│ Data.Precipi ┆ Date.Full  ┆ Date.Month ┆ Date.Week of ┆ … ┆ Data.Tempera ┆ Data.Wind.Di ┆ Data.Wind.Sp ┆ Sum_of_temp │\n",
       "│ tation       ┆ ---        ┆ ---        ┆ ---          ┆   ┆ ture.Min     ┆ rection      ┆ eed          ┆ ---         │\n",
       "│ ---          ┆ str        ┆ f64        ┆ f64          ┆   ┆ Temp         ┆ ---          ┆ ---          ┆ i64         │\n",
       "│ f64          ┆            ┆            ┆              ┆   ┆ ---          ┆ f64          ┆ f64          ┆             │\n",
       "│              ┆            ┆            ┆              ┆   ┆ f64          ┆              ┆              ┆             │\n",
       "╞══════════════╪════════════╪════════════╪══════════════╪═══╪══════════════╪══════════════╪══════════════╪═════════════╡\n",
       "│ 0.0          ┆ 2016-01-03 ┆ 1.0        ┆ 3.0          ┆ … ┆ 32.0         ┆ 33.0         ┆ 4.33         ┆ 78          │\n",
       "│ 0.0          ┆ 2016-01-03 ┆ 1.0        ┆ 3.0          ┆ … ┆ 31.0         ┆ 32.0         ┆ 3.86         ┆ 78          │\n",
       "│ 0.16         ┆ 2016-01-03 ┆ 1.0        ┆ 3.0          ┆ … ┆ 41.0         ┆ 35.0         ┆ 9.73         ┆ 92          │\n",
       "└──────────────┴────────────┴────────────┴──────────────┴───┴──────────────┴──────────────┴──────────────┴─────────────┘"
      ]
     },
     "execution_count": 47,
     "metadata": {},
     "output_type": "execute_result"
    }
   ],
   "source": [
    "df.with_columns(df.apply(Calculate_Temperature_Sum, return_dtype= pl.Int64)).rename({\"map\": \"Sum_of_temp\"}).head(3)"
   ]
  },
  {
   "cell_type": "markdown",
   "metadata": {},
   "source": [
    "015-Creating a User Defined Function 2"
   ]
  },
  {
   "cell_type": "code",
   "execution_count": 48,
   "metadata": {},
   "outputs": [],
   "source": [
    "def Max_Temp_F(row):\n",
    "    try:\n",
    "        temp = row[10]\n",
    "        max_temp = temp * 1.8 + 32\n",
    "\n",
    "        return nax_temp\n",
    "\n",
    "    except:\n",
    "        return 1"
   ]
  },
  {
   "cell_type": "code",
   "execution_count": 49,
   "metadata": {},
   "outputs": [
    {
     "name": "stderr",
     "output_type": "stream",
     "text": [
      "C:\\Users\\Hediye\\AppData\\Local\\Temp\\ipykernel_6380\\2044250735.py:1: DeprecationWarning: `apply` is deprecated. It has been renamed to `map_rows`.\n",
      "  df.with_columns(df.apply(Max_Temp_F, return_dtype= pl.Float64)).head(5)\n"
     ]
    },
    {
     "data": {
      "text/html": [
       "<div><style>\n",
       ".dataframe > thead > tr,\n",
       ".dataframe > tbody > tr {\n",
       "  text-align: right;\n",
       "  white-space: pre-wrap;\n",
       "}\n",
       "</style>\n",
       "<small>shape: (5, 15)</small><table border=\"1\" class=\"dataframe\"><thead><tr><th>Data.Precipitation</th><th>Date.Full</th><th>Date.Month</th><th>Date.Week of</th><th>Date.Year</th><th>Station.City</th><th>Station.Code</th><th>Station.Location</th><th>Station.State</th><th>Data.Temperature.Avg Temp</th><th>Data.Temperature.Max Temp</th><th>Data.Temperature.Min Temp</th><th>Data.Wind.Direction</th><th>Data.Wind.Speed</th><th>map</th></tr><tr><td>f64</td><td>str</td><td>f64</td><td>f64</td><td>f64</td><td>str</td><td>str</td><td>str</td><td>str</td><td>f64</td><td>f64</td><td>f64</td><td>f64</td><td>f64</td><td>f64</td></tr></thead><tbody><tr><td>0.0</td><td>&quot;2016-01-03&quot;</td><td>1.0</td><td>3.0</td><td>2016.0</td><td>&quot;Birmingham&quot;</td><td>&quot;BHM&quot;</td><td>&quot;Birmingham, AL…</td><td>&quot;Alabama&quot;</td><td>39.0</td><td>46.0</td><td>32.0</td><td>33.0</td><td>4.33</td><td>1.0</td></tr><tr><td>0.0</td><td>&quot;2016-01-03&quot;</td><td>1.0</td><td>3.0</td><td>2016.0</td><td>&quot;Huntsville&quot;</td><td>&quot;HSV&quot;</td><td>&quot;Huntsville, AL…</td><td>&quot;Alabama&quot;</td><td>39.0</td><td>47.0</td><td>31.0</td><td>32.0</td><td>3.86</td><td>1.0</td></tr><tr><td>0.16</td><td>&quot;2016-01-03&quot;</td><td>1.0</td><td>3.0</td><td>2016.0</td><td>&quot;Mobile&quot;</td><td>&quot;MOB&quot;</td><td>&quot;Mobile, AL&quot;</td><td>&quot;Alabama&quot;</td><td>46.0</td><td>51.0</td><td>41.0</td><td>35.0</td><td>9.73</td><td>1.0</td></tr><tr><td>0.0</td><td>&quot;2016-01-03&quot;</td><td>1.0</td><td>3.0</td><td>2016.0</td><td>&quot;Montgomery&quot;</td><td>&quot;MGM&quot;</td><td>&quot;Montgomery, AL…</td><td>&quot;Alabama&quot;</td><td>45.0</td><td>52.0</td><td>38.0</td><td>32.0</td><td>6.86</td><td>1.0</td></tr><tr><td>0.01</td><td>&quot;2016-01-03&quot;</td><td>1.0</td><td>3.0</td><td>2016.0</td><td>&quot;Anchorage&quot;</td><td>&quot;ANC&quot;</td><td>&quot;Anchorage, AK&quot;</td><td>&quot;Alaska&quot;</td><td>34.0</td><td>38.0</td><td>29.0</td><td>19.0</td><td>7.8</td><td>1.0</td></tr></tbody></table></div>"
      ],
      "text/plain": [
       "shape: (5, 15)\n",
       "┌────────────────┬────────────┬────────────┬──────────────┬───┬────────────────┬────────────────┬────────────────┬─────┐\n",
       "│ Data.Precipita ┆ Date.Full  ┆ Date.Month ┆ Date.Week of ┆ … ┆ Data.Temperatu ┆ Data.Wind.Dire ┆ Data.Wind.Spee ┆ map │\n",
       "│ tion           ┆ ---        ┆ ---        ┆ ---          ┆   ┆ re.Min Temp    ┆ ction          ┆ d              ┆ --- │\n",
       "│ ---            ┆ str        ┆ f64        ┆ f64          ┆   ┆ ---            ┆ ---            ┆ ---            ┆ f64 │\n",
       "│ f64            ┆            ┆            ┆              ┆   ┆ f64            ┆ f64            ┆ f64            ┆     │\n",
       "╞════════════════╪════════════╪════════════╪══════════════╪═══╪════════════════╪════════════════╪════════════════╪═════╡\n",
       "│ 0.0            ┆ 2016-01-03 ┆ 1.0        ┆ 3.0          ┆ … ┆ 32.0           ┆ 33.0           ┆ 4.33           ┆ 1.0 │\n",
       "│ 0.0            ┆ 2016-01-03 ┆ 1.0        ┆ 3.0          ┆ … ┆ 31.0           ┆ 32.0           ┆ 3.86           ┆ 1.0 │\n",
       "│ 0.16           ┆ 2016-01-03 ┆ 1.0        ┆ 3.0          ┆ … ┆ 41.0           ┆ 35.0           ┆ 9.73           ┆ 1.0 │\n",
       "│ 0.0            ┆ 2016-01-03 ┆ 1.0        ┆ 3.0          ┆ … ┆ 38.0           ┆ 32.0           ┆ 6.86           ┆ 1.0 │\n",
       "│ 0.01           ┆ 2016-01-03 ┆ 1.0        ┆ 3.0          ┆ … ┆ 29.0           ┆ 19.0           ┆ 7.8            ┆ 1.0 │\n",
       "└────────────────┴────────────┴────────────┴──────────────┴───┴────────────────┴────────────────┴────────────────┴─────┘"
      ]
     },
     "execution_count": 49,
     "metadata": {},
     "output_type": "execute_result"
    }
   ],
   "source": [
    "df.with_columns(df.apply(Max_Temp_F, return_dtype= pl.Float64)).head(5)"
   ]
  },
  {
   "cell_type": "code",
   "execution_count": 50,
   "metadata": {},
   "outputs": [
    {
     "name": "stderr",
     "output_type": "stream",
     "text": [
      "C:\\Users\\Hediye\\AppData\\Local\\Temp\\ipykernel_6380\\4160249736.py:1: DeprecationWarning: `apply` is deprecated. It has been renamed to `map_rows`.\n",
      "  df.with_columns(df.apply(Max_Temp_F, return_dtype= pl.Float64)).rename({\"map\": \"Faren\"}).head(5)\n"
     ]
    },
    {
     "data": {
      "text/html": [
       "<div><style>\n",
       ".dataframe > thead > tr,\n",
       ".dataframe > tbody > tr {\n",
       "  text-align: right;\n",
       "  white-space: pre-wrap;\n",
       "}\n",
       "</style>\n",
       "<small>shape: (5, 15)</small><table border=\"1\" class=\"dataframe\"><thead><tr><th>Data.Precipitation</th><th>Date.Full</th><th>Date.Month</th><th>Date.Week of</th><th>Date.Year</th><th>Station.City</th><th>Station.Code</th><th>Station.Location</th><th>Station.State</th><th>Data.Temperature.Avg Temp</th><th>Data.Temperature.Max Temp</th><th>Data.Temperature.Min Temp</th><th>Data.Wind.Direction</th><th>Data.Wind.Speed</th><th>Faren</th></tr><tr><td>f64</td><td>str</td><td>f64</td><td>f64</td><td>f64</td><td>str</td><td>str</td><td>str</td><td>str</td><td>f64</td><td>f64</td><td>f64</td><td>f64</td><td>f64</td><td>f64</td></tr></thead><tbody><tr><td>0.0</td><td>&quot;2016-01-03&quot;</td><td>1.0</td><td>3.0</td><td>2016.0</td><td>&quot;Birmingham&quot;</td><td>&quot;BHM&quot;</td><td>&quot;Birmingham, AL…</td><td>&quot;Alabama&quot;</td><td>39.0</td><td>46.0</td><td>32.0</td><td>33.0</td><td>4.33</td><td>1.0</td></tr><tr><td>0.0</td><td>&quot;2016-01-03&quot;</td><td>1.0</td><td>3.0</td><td>2016.0</td><td>&quot;Huntsville&quot;</td><td>&quot;HSV&quot;</td><td>&quot;Huntsville, AL…</td><td>&quot;Alabama&quot;</td><td>39.0</td><td>47.0</td><td>31.0</td><td>32.0</td><td>3.86</td><td>1.0</td></tr><tr><td>0.16</td><td>&quot;2016-01-03&quot;</td><td>1.0</td><td>3.0</td><td>2016.0</td><td>&quot;Mobile&quot;</td><td>&quot;MOB&quot;</td><td>&quot;Mobile, AL&quot;</td><td>&quot;Alabama&quot;</td><td>46.0</td><td>51.0</td><td>41.0</td><td>35.0</td><td>9.73</td><td>1.0</td></tr><tr><td>0.0</td><td>&quot;2016-01-03&quot;</td><td>1.0</td><td>3.0</td><td>2016.0</td><td>&quot;Montgomery&quot;</td><td>&quot;MGM&quot;</td><td>&quot;Montgomery, AL…</td><td>&quot;Alabama&quot;</td><td>45.0</td><td>52.0</td><td>38.0</td><td>32.0</td><td>6.86</td><td>1.0</td></tr><tr><td>0.01</td><td>&quot;2016-01-03&quot;</td><td>1.0</td><td>3.0</td><td>2016.0</td><td>&quot;Anchorage&quot;</td><td>&quot;ANC&quot;</td><td>&quot;Anchorage, AK&quot;</td><td>&quot;Alaska&quot;</td><td>34.0</td><td>38.0</td><td>29.0</td><td>19.0</td><td>7.8</td><td>1.0</td></tr></tbody></table></div>"
      ],
      "text/plain": [
       "shape: (5, 15)\n",
       "┌────────────────┬────────────┬────────────┬──────────────┬───┬────────────────┬───────────────┬───────────────┬───────┐\n",
       "│ Data.Precipita ┆ Date.Full  ┆ Date.Month ┆ Date.Week of ┆ … ┆ Data.Temperatu ┆ Data.Wind.Dir ┆ Data.Wind.Spe ┆ Faren │\n",
       "│ tion           ┆ ---        ┆ ---        ┆ ---          ┆   ┆ re.Min Temp    ┆ ection        ┆ ed            ┆ ---   │\n",
       "│ ---            ┆ str        ┆ f64        ┆ f64          ┆   ┆ ---            ┆ ---           ┆ ---           ┆ f64   │\n",
       "│ f64            ┆            ┆            ┆              ┆   ┆ f64            ┆ f64           ┆ f64           ┆       │\n",
       "╞════════════════╪════════════╪════════════╪══════════════╪═══╪════════════════╪═══════════════╪═══════════════╪═══════╡\n",
       "│ 0.0            ┆ 2016-01-03 ┆ 1.0        ┆ 3.0          ┆ … ┆ 32.0           ┆ 33.0          ┆ 4.33          ┆ 1.0   │\n",
       "│ 0.0            ┆ 2016-01-03 ┆ 1.0        ┆ 3.0          ┆ … ┆ 31.0           ┆ 32.0          ┆ 3.86          ┆ 1.0   │\n",
       "│ 0.16           ┆ 2016-01-03 ┆ 1.0        ┆ 3.0          ┆ … ┆ 41.0           ┆ 35.0          ┆ 9.73          ┆ 1.0   │\n",
       "│ 0.0            ┆ 2016-01-03 ┆ 1.0        ┆ 3.0          ┆ … ┆ 38.0           ┆ 32.0          ┆ 6.86          ┆ 1.0   │\n",
       "│ 0.01           ┆ 2016-01-03 ┆ 1.0        ┆ 3.0          ┆ … ┆ 29.0           ┆ 19.0          ┆ 7.8           ┆ 1.0   │\n",
       "└────────────────┴────────────┴────────────┴──────────────┴───┴────────────────┴───────────────┴───────────────┴───────┘"
      ]
     },
     "execution_count": 50,
     "metadata": {},
     "output_type": "execute_result"
    }
   ],
   "source": [
    "df.with_columns(df.apply(Max_Temp_F, return_dtype= pl.Float64)).rename({\"map\": \"Faren\"}).head(5)"
   ]
  },
  {
   "cell_type": "markdown",
   "metadata": {},
   "source": [
    "016-Data Aggregation 1"
   ]
  },
  {
   "cell_type": "code",
   "execution_count": 51,
   "metadata": {},
   "outputs": [
    {
     "data": {
      "text/html": [
       "<div><style>\n",
       ".dataframe > thead > tr,\n",
       ".dataframe > tbody > tr {\n",
       "  text-align: right;\n",
       "  white-space: pre-wrap;\n",
       "}\n",
       "</style>\n",
       "<small>shape: (1, 1)</small><table border=\"1\" class=\"dataframe\"><thead><tr><th>Sum_Data_Temperature_Avg Temp</th></tr><tr><td>f64</td></tr></thead><tbody><tr><td>939100.0</td></tr></tbody></table></div>"
      ],
      "text/plain": [
       "shape: (1, 1)\n",
       "┌───────────────────────────────┐\n",
       "│ Sum_Data_Temperature_Avg Temp │\n",
       "│ ---                           │\n",
       "│ f64                           │\n",
       "╞═══════════════════════════════╡\n",
       "│ 939100.0                      │\n",
       "└───────────────────────────────┘"
      ]
     },
     "execution_count": 51,
     "metadata": {},
     "output_type": "execute_result"
    }
   ],
   "source": [
    "df.select(\n",
    "          pl.sum(\"Data.Temperature.Avg Temp\").alias(\"Sum_Data_Temperature_Avg Temp\")\n",
    ")"
   ]
  },
  {
   "cell_type": "code",
   "execution_count": 52,
   "metadata": {},
   "outputs": [
    {
     "data": {
      "text/html": [
       "<div><style>\n",
       ".dataframe > thead > tr,\n",
       ".dataframe > tbody > tr {\n",
       "  text-align: right;\n",
       "  white-space: pre-wrap;\n",
       "}\n",
       "</style>\n",
       "<small>shape: (1, 7)</small><table border=\"1\" class=\"dataframe\"><thead><tr><th>Sum_Temperature_Avg</th><th>max_Temperature_Avg</th><th>min_Temperature_Avg</th><th>std_Temperature_Avg</th><th>median_Temperature_Avg</th><th>mean_Temperature_Avg</th><th>first_Temperature_Avg</th></tr><tr><td>f64</td><td>f64</td><td>f64</td><td>f64</td><td>f64</td><td>f64</td><td>f64</td></tr></thead><tbody><tr><td>939100.0</td><td>100.0</td><td>-27.0</td><td>18.798295</td><td>58.0</td><td>56.089112</td><td>39.0</td></tr></tbody></table></div>"
      ],
      "text/plain": [
       "shape: (1, 7)\n",
       "┌────────────────┬────────────────┬────────────────┬────────────────┬────────────────┬────────────────┬────────────────┐\n",
       "│ Sum_Temperatur ┆ max_Temperatur ┆ min_Temperatur ┆ std_Temperatur ┆ median_Tempera ┆ mean_Temperatu ┆ first_Temperat │\n",
       "│ e_Avg          ┆ e_Avg          ┆ e_Avg          ┆ e_Avg          ┆ ture_Avg       ┆ re_Avg         ┆ ure_Avg        │\n",
       "│ ---            ┆ ---            ┆ ---            ┆ ---            ┆ ---            ┆ ---            ┆ ---            │\n",
       "│ f64            ┆ f64            ┆ f64            ┆ f64            ┆ f64            ┆ f64            ┆ f64            │\n",
       "╞════════════════╪════════════════╪════════════════╪════════════════╪════════════════╪════════════════╪════════════════╡\n",
       "│ 939100.0       ┆ 100.0          ┆ -27.0          ┆ 18.798295      ┆ 58.0           ┆ 56.089112      ┆ 39.0           │\n",
       "└────────────────┴────────────────┴────────────────┴────────────────┴────────────────┴────────────────┴────────────────┘"
      ]
     },
     "execution_count": 52,
     "metadata": {},
     "output_type": "execute_result"
    }
   ],
   "source": [
    "df.select(\n",
    "          pl.sum(\"Data.Temperature.Avg Temp\").alias(\"Sum_Temperature_Avg\"),\n",
    "          pl.max(\"Data.Temperature.Avg Temp\").alias(\"max_Temperature_Avg\"),\n",
    "          pl.min(\"Data.Temperature.Avg Temp\").alias(\"min_Temperature_Avg\"),\n",
    "          pl.std(\"Data.Temperature.Avg Temp\").alias(\"std_Temperature_Avg\"),\n",
    "          pl.median(\"Data.Temperature.Avg Temp\").alias(\"median_Temperature_Avg\"),\n",
    "          pl.mean(\"Data.Temperature.Avg Temp\").alias(\"mean_Temperature_Avg\"),\n",
    "          pl.first(\"Data.Temperature.Avg Temp\").alias(\"first_Temperature_Avg\")\n",
    ")"
   ]
  },
  {
   "cell_type": "code",
   "execution_count": 53,
   "metadata": {},
   "outputs": [
    {
     "data": {
      "text/html": [
       "<div><style>\n",
       ".dataframe > thead > tr,\n",
       ".dataframe > tbody > tr {\n",
       "  text-align: right;\n",
       "  white-space: pre-wrap;\n",
       "}\n",
       "</style>\n",
       "<small>shape: (53, 2)</small><table border=\"1\" class=\"dataframe\"><thead><tr><th>Station.State</th><th>Sum_Temp_Country</th></tr><tr><td>str</td><td>f64</td></tr></thead><tbody><tr><td>&quot;Nevada&quot;</td><td>55.628931</td></tr><tr><td>&quot;Pennsylvania&quot;</td><td>53.919137</td></tr><tr><td>&quot;Washington&quot;</td><td>51.366577</td></tr><tr><td>&quot;Maine&quot;</td><td>45.415094</td></tr><tr><td>&quot;Puerto Rico&quot;</td><td>81.358491</td></tr><tr><td>&quot;South Carolina…</td><td>65.188679</td></tr><tr><td>&quot;New York&quot;</td><td>51.040094</td></tr><tr><td>&quot;Louisiana&quot;</td><td>69.475096</td></tr><tr><td>&quot;South Dakota&quot;</td><td>48.415094</td></tr><tr><td>&quot;Wisconsin&quot;</td><td>49.165094</td></tr><tr><td>&quot;Alaska&quot;</td><td>41.15765</td></tr><tr><td>&quot;Michigan&quot;</td><td>48.002096</td></tr><tr><td>&hellip;</td><td>&hellip;</td></tr><tr><td>&quot;Rhode Island&quot;</td><td>53.037736</td></tr><tr><td>&quot;Tennessee&quot;</td><td>60.802381</td></tr><tr><td>&quot;VA&quot;</td><td>58.283019</td></tr><tr><td>&quot;Alabama&quot;</td><td>66.528302</td></tr><tr><td>&quot;Minnesota&quot;</td><td>44.675472</td></tr><tr><td>&quot;Hawaii&quot;</td><td>76.384906</td></tr><tr><td>&quot;Utah&quot;</td><td>55.698113</td></tr><tr><td>&quot;DE&quot;</td><td>56.056604</td></tr><tr><td>&quot;Nebraska&quot;</td><td>51.634434</td></tr><tr><td>&quot;New Mexico&quot;</td><td>58.622642</td></tr><tr><td>&quot;Massachusetts&quot;</td><td>53.261438</td></tr><tr><td>&quot;California&quot;</td><td>62.363363</td></tr></tbody></table></div>"
      ],
      "text/plain": [
       "shape: (53, 2)\n",
       "┌───────────────┬──────────────────┐\n",
       "│ Station.State ┆ Sum_Temp_Country │\n",
       "│ ---           ┆ ---              │\n",
       "│ str           ┆ f64              │\n",
       "╞═══════════════╪══════════════════╡\n",
       "│ Nevada        ┆ 55.628931        │\n",
       "│ Pennsylvania  ┆ 53.919137        │\n",
       "│ Washington    ┆ 51.366577        │\n",
       "│ Maine         ┆ 45.415094        │\n",
       "│ Puerto Rico   ┆ 81.358491        │\n",
       "│ …             ┆ …                │\n",
       "│ DE            ┆ 56.056604        │\n",
       "│ Nebraska      ┆ 51.634434        │\n",
       "│ New Mexico    ┆ 58.622642        │\n",
       "│ Massachusetts ┆ 53.261438        │\n",
       "│ California    ┆ 62.363363        │\n",
       "└───────────────┴──────────────────┘"
      ]
     },
     "execution_count": 53,
     "metadata": {},
     "output_type": "execute_result"
    }
   ],
   "source": [
    "q = (\n",
    "     df.lazy()\n",
    "     .group_by(\"Station.State\")\n",
    "     .agg(\n",
    "          pl.mean(\"Data.Temperature.Avg Temp\").alias(\"Sum_Temp_Country\")\n",
    "     )\n",
    ")\n",
    "\n",
    "q.collect()"
   ]
  },
  {
   "cell_type": "markdown",
   "metadata": {},
   "source": [
    "017-Data Aggregation 2"
   ]
  },
  {
   "cell_type": "code",
   "execution_count": 54,
   "metadata": {},
   "outputs": [
    {
     "name": "stderr",
     "output_type": "stream",
     "text": [
      "C:\\Users\\Hediye\\AppData\\Local\\Temp\\ipykernel_6380\\2722864873.py:5: DeprecationWarning: `pl.count()` is deprecated. Please use `pl.len()` instead.\n",
      "  pl.count().alias(\"row_count\"),\n"
     ]
    },
    {
     "data": {
      "text/html": [
       "<div><style>\n",
       ".dataframe > thead > tr,\n",
       ".dataframe > tbody > tr {\n",
       "  text-align: right;\n",
       "  white-space: pre-wrap;\n",
       "}\n",
       "</style>\n",
       "<small>shape: (307, 5)</small><table border=\"1\" class=\"dataframe\"><thead><tr><th>Station.City</th><th>row_count</th><th>Data.Temperature.Max Temp</th><th>Station.State</th><th>Station.Location</th></tr><tr><td>str</td><td>u32</td><td>f64</td><td>list[str]</td><td>str</td></tr></thead><tbody><tr><td>&quot;New York&quot;</td><td>53</td><td>93.0</td><td>[&quot;New York&quot;, &quot;New York&quot;, … &quot;New York&quot;]</td><td>&quot;New York, NY&quot;</td></tr><tr><td>&quot;Salt Lake City…</td><td>53</td><td>101.0</td><td>[&quot;Utah&quot;, &quot;Utah&quot;, … &quot;Utah&quot;]</td><td>&quot;Salt Lake City…</td></tr><tr><td>&quot;Sioux Falls&quot;</td><td>53</td><td>89.0</td><td>[&quot;South Dakota&quot;, &quot;South Dakota&quot;, … &quot;South Dakota&quot;]</td><td>&quot;Sioux Falls, S…</td></tr><tr><td>&quot;Duluth&quot;</td><td>53</td><td>83.0</td><td>[&quot;Minnesota&quot;, &quot;Minnesota&quot;, … &quot;Minnesota&quot;]</td><td>&quot;Duluth, MN&quot;</td></tr><tr><td>&quot;Santa Barbara&quot;</td><td>53</td><td>84.0</td><td>[&quot;California&quot;, &quot;California&quot;, … &quot;California&quot;]</td><td>&quot;Santa Barbara,…</td></tr><tr><td>&quot;Chattanooga&quot;</td><td>53</td><td>97.0</td><td>[&quot;Tennessee&quot;, &quot;Tennessee&quot;, … &quot;Tennessee&quot;]</td><td>&quot;Chattanooga, T…</td></tr><tr><td>&quot;Dalhart&quot;</td><td>53</td><td>101.0</td><td>[&quot;Texas&quot;, &quot;Texas&quot;, … &quot;Texas&quot;]</td><td>&quot;Dalhart, TX&quot;</td></tr><tr><td>&quot;Redmond&quot;</td><td>53</td><td>94.0</td><td>[&quot;Oregon&quot;, &quot;Oregon&quot;, … &quot;Oregon&quot;]</td><td>&quot;Redmond, OR&quot;</td></tr><tr><td>&quot;Bethel&quot;</td><td>53</td><td>75.0</td><td>[&quot;Alaska&quot;, &quot;Alaska&quot;, … &quot;Alaska&quot;]</td><td>&quot;Bethel, AK&quot;</td></tr><tr><td>&quot;Glens Falls&quot;</td><td>53</td><td>86.0</td><td>[&quot;New York&quot;, &quot;New York&quot;, … &quot;New York&quot;]</td><td>&quot;Glens Falls, N…</td></tr><tr><td>&quot;Alma&quot;</td><td>53</td><td>97.0</td><td>[&quot;Georgia&quot;, &quot;Georgia&quot;, … &quot;Georgia&quot;]</td><td>&quot;Alma, GA&quot;</td></tr><tr><td>&quot;Waco&quot;</td><td>53</td><td>101.0</td><td>[&quot;Texas&quot;, &quot;Texas&quot;, … &quot;Texas&quot;]</td><td>&quot;Waco, TX&quot;</td></tr><tr><td>&hellip;</td><td>&hellip;</td><td>&hellip;</td><td>&hellip;</td><td>&hellip;</td></tr><tr><td>&quot;North Platte&quot;</td><td>53</td><td>92.0</td><td>[&quot;Nebraska&quot;, &quot;Nebraska&quot;, … &quot;Nebraska&quot;]</td><td>&quot;North Platte, …</td></tr><tr><td>&quot;Moline&quot;</td><td>53</td><td>91.0</td><td>[&quot;Illinois&quot;, &quot;Illinois&quot;, … &quot;Illinois&quot;]</td><td>&quot;Moline, IL&quot;</td></tr><tr><td>&quot;Lexington&quot;</td><td>53</td><td>91.0</td><td>[&quot;Kentucky&quot;, &quot;Kentucky&quot;, … &quot;Kentucky&quot;]</td><td>&quot;Lexington, KY&quot;</td></tr><tr><td>&quot;Dodge City&quot;</td><td>53</td><td>97.0</td><td>[&quot;Kansas&quot;, &quot;Kansas&quot;, … &quot;Kansas&quot;]</td><td>&quot;Dodge City, KS…</td></tr><tr><td>&quot;Knoxville&quot;</td><td>53</td><td>95.0</td><td>[&quot;Tennessee&quot;, &quot;Tennessee&quot;, … &quot;Tennessee&quot;]</td><td>&quot;Knoxville, TN&quot;</td></tr><tr><td>&quot;Dickinson&quot;</td><td>53</td><td>89.0</td><td>[&quot;North Dakota&quot;, &quot;North Dakota&quot;, … &quot;North Dakota&quot;]</td><td>&quot;Dickinson, ND&quot;</td></tr><tr><td>&quot;Chicago&quot;</td><td>53</td><td>90.0</td><td>[&quot;Illinois&quot;, &quot;Illinois&quot;, … &quot;Illinois&quot;]</td><td>&quot;Chicago, IL&quot;</td></tr><tr><td>&quot;Wilkes-Barre/S…</td><td>53</td><td>90.0</td><td>[&quot;Pennsylvania&quot;, &quot;Pennsylvania&quot;, … &quot;Pennsylvania&quot;]</td><td>&quot;Wilkes-Barre/S…</td></tr><tr><td>&quot;Craig&quot;</td><td>53</td><td>93.0</td><td>[&quot;Colorado&quot;, &quot;Colorado&quot;, … &quot;Colorado&quot;]</td><td>&quot;Craig, CO&quot;</td></tr><tr><td>&quot;Athens&quot;</td><td>53</td><td>97.0</td><td>[&quot;Georgia&quot;, &quot;Georgia&quot;, … &quot;Georgia&quot;]</td><td>&quot;Athens, GA&quot;</td></tr><tr><td>&quot;Austin/Bergstr…</td><td>53</td><td>99.0</td><td>[&quot;Texas&quot;, &quot;Texas&quot;, … &quot;Texas&quot;]</td><td>&quot;Austin/Bergstr…</td></tr><tr><td>&quot;Vero Beach&quot;</td><td>53</td><td>92.0</td><td>[&quot;Florida&quot;, &quot;Florida&quot;, … &quot;Florida&quot;]</td><td>&quot;Vero Beach, FL…</td></tr></tbody></table></div>"
      ],
      "text/plain": [
       "shape: (307, 5)\n",
       "┌───────────────────────┬───────────┬──────────────────────┬─────────────────────────────┬─────────────────────────────┐\n",
       "│ Station.City          ┆ row_count ┆ Data.Temperature.Max ┆ Station.State               ┆ Station.Location            │\n",
       "│ ---                   ┆ ---       ┆ Temp                 ┆ ---                         ┆ ---                         │\n",
       "│ str                   ┆ u32       ┆ ---                  ┆ list[str]                   ┆ str                         │\n",
       "│                       ┆           ┆ f64                  ┆                             ┆                             │\n",
       "╞═══════════════════════╪═══════════╪══════════════════════╪═════════════════════════════╪═════════════════════════════╡\n",
       "│ New York              ┆ 53        ┆ 93.0                 ┆ [\"New York\", \"New York\", …  ┆ New York, NY                │\n",
       "│                       ┆           ┆                      ┆ \"New …                      ┆                             │\n",
       "│ Salt Lake City        ┆ 53        ┆ 101.0                ┆ [\"Utah\", \"Utah\", … \"Utah\"]  ┆ Salt Lake City, UT          │\n",
       "│ Sioux Falls           ┆ 53        ┆ 89.0                 ┆ [\"South Dakota\", \"South     ┆ Sioux Falls, SD             │\n",
       "│                       ┆           ┆                      ┆ Dakota\",…                   ┆                             │\n",
       "│ Duluth                ┆ 53        ┆ 83.0                 ┆ [\"Minnesota\", \"Minnesota\",  ┆ Duluth, MN                  │\n",
       "│                       ┆           ┆                      ┆ … \"Mi…                      ┆                             │\n",
       "│ Santa Barbara         ┆ 53        ┆ 84.0                 ┆ [\"California\",              ┆ Santa Barbara, CA           │\n",
       "│                       ┆           ┆                      ┆ \"California\", … \"…          ┆                             │\n",
       "│ …                     ┆ …         ┆ …                    ┆ …                           ┆ …                           │\n",
       "│ Wilkes-Barre/Scranton ┆ 53        ┆ 90.0                 ┆ [\"Pennsylvania\",            ┆ Wilkes-Barre/Scranton, PA   │\n",
       "│                       ┆           ┆                      ┆ \"Pennsylvania\",…            ┆                             │\n",
       "│ Craig                 ┆ 53        ┆ 93.0                 ┆ [\"Colorado\", \"Colorado\", …  ┆ Craig, CO                   │\n",
       "│                       ┆           ┆                      ┆ \"Colo…                      ┆                             │\n",
       "│ Athens                ┆ 53        ┆ 97.0                 ┆ [\"Georgia\", \"Georgia\", …    ┆ Athens, GA                  │\n",
       "│                       ┆           ┆                      ┆ \"Georgi…                    ┆                             │\n",
       "│ Austin/Bergstrom      ┆ 53        ┆ 99.0                 ┆ [\"Texas\", \"Texas\", …        ┆ Austin/Bergstrom, TX        │\n",
       "│                       ┆           ┆                      ┆ \"Texas\"]                    ┆                             │\n",
       "│ Vero Beach            ┆ 53        ┆ 92.0                 ┆ [\"Florida\", \"Florida\", …    ┆ Vero Beach, FL              │\n",
       "│                       ┆           ┆                      ┆ \"Florid…                    ┆                             │\n",
       "└───────────────────────┴───────────┴──────────────────────┴─────────────────────────────┴─────────────────────────────┘"
      ]
     },
     "execution_count": 54,
     "metadata": {},
     "output_type": "execute_result"
    }
   ],
   "source": [
    "q = (\n",
    "     df.lazy()\n",
    "     .group_by(\"Station.City\")\n",
    "     .agg(\n",
    "          pl.count().alias(\"row_count\"),\n",
    "          pl.max(\"Data.Temperature.Max Temp\"),\n",
    "          pl.col(\"Station.State\"),\n",
    "          pl.first(\"Station.Location\")\n",
    "     )\n",
    ")\n",
    "\n",
    "q.collect()"
   ]
  },
  {
   "cell_type": "code",
   "execution_count": 55,
   "metadata": {},
   "outputs": [
    {
     "name": "stderr",
     "output_type": "stream",
     "text": [
      "C:\\Users\\Hediye\\AppData\\Local\\Temp\\ipykernel_6380\\526533424.py:5: DeprecationWarning: `pl.count()` is deprecated. Please use `pl.len()` instead.\n",
      "  pl.count().alias(\"row_count\"),\n"
     ]
    },
    {
     "data": {
      "text/html": [
       "<div><style>\n",
       ".dataframe > thead > tr,\n",
       ".dataframe > tbody > tr {\n",
       "  text-align: right;\n",
       "  white-space: pre-wrap;\n",
       "}\n",
       "</style>\n",
       "<small>shape: (307, 5)</small><table border=\"1\" class=\"dataframe\"><thead><tr><th>Station.City</th><th>row_count</th><th>Data.Temperature.Max Temp</th><th>Station.State</th><th>Station.Location</th></tr><tr><td>str</td><td>u32</td><td>f64</td><td>list[str]</td><td>str</td></tr></thead><tbody><tr><td>&quot;Columbia&quot;</td><td>106</td><td>101.0</td><td>[&quot;Missouri&quot;, &quot;South Carolina&quot;, … &quot;South Carolina&quot;]</td><td>&quot;Columbia, MO&quot;</td></tr><tr><td>&quot;Rochester&quot;</td><td>106</td><td>91.0</td><td>[&quot;Minnesota&quot;, &quot;New York&quot;, … &quot;New York&quot;]</td><td>&quot;Rochester, MN&quot;</td></tr><tr><td>&quot;Wilmington&quot;</td><td>106</td><td>95.0</td><td>[&quot;Delaware&quot;, &quot;North Carolina&quot;, … &quot;North Carolina&quot;]</td><td>&quot;Wilmington, DE…</td></tr><tr><td>&quot;Concord&quot;</td><td>106</td><td>97.0</td><td>[&quot;California&quot;, &quot;New Hampshire&quot;, … &quot;New Hampshire&quot;]</td><td>&quot;Concord, CA&quot;</td></tr><tr><td>&quot;Norfolk&quot;</td><td>106</td><td>93.0</td><td>[&quot;Nebraska&quot;, &quot;Virginia&quot;, … &quot;Virginia&quot;]</td><td>&quot;Norfolk, NE&quot;</td></tr><tr><td>&quot;Charleston&quot;</td><td>106</td><td>96.0</td><td>[&quot;South Carolina&quot;, &quot;West Virginia&quot;, … &quot;West Virginia&quot;]</td><td>&quot;Charleston, SC…</td></tr><tr><td>&quot;Springfield&quot;</td><td>106</td><td>95.0</td><td>[&quot;Illinois&quot;, &quot;Missouri&quot;, … &quot;Missouri&quot;]</td><td>&quot;Springfield, I…</td></tr><tr><td>&quot;Jackson&quot;</td><td>106</td><td>96.0</td><td>[&quot;Kentucky&quot;, &quot;Mississippi&quot;, … &quot;Mississippi&quot;]</td><td>&quot;Jackson, KY&quot;</td></tr><tr><td>&quot;Eureka&quot;</td><td>106</td><td>98.0</td><td>[&quot;California&quot;, &quot;Nevada&quot;, … &quot;Nevada&quot;]</td><td>&quot;Eureka, CA&quot;</td></tr><tr><td>&quot;Newark&quot;</td><td>106</td><td>93.0</td><td>[&quot;DE&quot;, &quot;New Jersey&quot;, … &quot;New Jersey&quot;]</td><td>&quot;Newark, DE&quot;</td></tr><tr><td>&quot;Portland&quot;</td><td>106</td><td>90.0</td><td>[&quot;Maine&quot;, &quot;Oregon&quot;, … &quot;Oregon&quot;]</td><td>&quot;Portland, ME&quot;</td></tr><tr><td>&quot;Sheridan&quot;</td><td>53</td><td>96.0</td><td>[&quot;Wyoming&quot;, &quot;Wyoming&quot;, … &quot;Wyoming&quot;]</td><td>&quot;Sheridan, WY&quot;</td></tr><tr><td>&hellip;</td><td>&hellip;</td><td>&hellip;</td><td>&hellip;</td><td>&hellip;</td></tr><tr><td>&quot;Amarillo&quot;</td><td>53</td><td>101.0</td><td>[&quot;Texas&quot;, &quot;Texas&quot;, … &quot;Texas&quot;]</td><td>&quot;Amarillo, TX&quot;</td></tr><tr><td>&quot;Missoula&quot;</td><td>53</td><td>92.0</td><td>[&quot;Montana&quot;, &quot;Montana&quot;, … &quot;Montana&quot;]</td><td>&quot;Missoula, MT&quot;</td></tr><tr><td>&quot;Petersburg&quot;</td><td>50</td><td>60.0</td><td>[&quot;Alaska&quot;, &quot;Alaska&quot;, … &quot;Alaska&quot;]</td><td>&quot;Petersburg, AK…</td></tr><tr><td>&quot;Slidell&quot;</td><td>49</td><td>94.0</td><td>[&quot;Louisiana&quot;, &quot;Louisiana&quot;, … &quot;Louisiana&quot;]</td><td>&quot;Slidell, LA&quot;</td></tr><tr><td>&quot;Puntilla Lake&quot;</td><td>49</td><td>60.0</td><td>[&quot;Alaska&quot;, &quot;Alaska&quot;, … &quot;Alaska&quot;]</td><td>&quot;Puntilla Lake,…</td></tr><tr><td>&quot;Oak Ridge&quot;</td><td>49</td><td>93.0</td><td>[&quot;Tennessee&quot;, &quot;Tennessee&quot;, … &quot;Tennessee&quot;]</td><td>&quot;Oak Ridge, TN&quot;</td></tr><tr><td>&quot;Gustavus&quot;</td><td>48</td><td>60.0</td><td>[&quot;Alaska&quot;, &quot;Alaska&quot;, … &quot;Alaska&quot;]</td><td>&quot;Gustavus, AK&quot;</td></tr><tr><td>&quot;Milton&quot;</td><td>47</td><td>87.0</td><td>[&quot;Massachusetts&quot;, &quot;Massachusetts&quot;, … &quot;Massachusetts&quot;]</td><td>&quot;Milton, MA&quot;</td></tr><tr><td>&quot;Mt. Washington…</td><td>47</td><td>60.0</td><td>[&quot;New Hampshire&quot;, &quot;New Hampshire&quot;, … &quot;New Hampshire&quot;]</td><td>&quot;Mt. Washington…</td></tr><tr><td>&quot;China Lake&quot;</td><td>45</td><td>111.0</td><td>[&quot;California&quot;, &quot;California&quot;, … &quot;California&quot;]</td><td>&quot;China Lake, CA…</td></tr><tr><td>&quot;Wrangell&quot;</td><td>30</td><td>60.0</td><td>[&quot;Alaska&quot;, &quot;Alaska&quot;, … &quot;Alaska&quot;]</td><td>&quot;Wrangell, AK&quot;</td></tr><tr><td>&quot;Unalakleet&quot;</td><td>5</td><td>60.0</td><td>[&quot;Alaska&quot;, &quot;Alaska&quot;, … &quot;Alaska&quot;]</td><td>&quot;Unalakleet, AK…</td></tr></tbody></table></div>"
      ],
      "text/plain": [
       "shape: (307, 5)\n",
       "┌────────────────┬───────────┬───────────────────────────┬───────────────────────────────────┬────────────────────┐\n",
       "│ Station.City   ┆ row_count ┆ Data.Temperature.Max Temp ┆ Station.State                     ┆ Station.Location   │\n",
       "│ ---            ┆ ---       ┆ ---                       ┆ ---                               ┆ ---                │\n",
       "│ str            ┆ u32       ┆ f64                       ┆ list[str]                         ┆ str                │\n",
       "╞════════════════╪═══════════╪═══════════════════════════╪═══════════════════════════════════╪════════════════════╡\n",
       "│ Columbia       ┆ 106       ┆ 101.0                     ┆ [\"Missouri\", \"South Carolina\", …… ┆ Columbia, MO       │\n",
       "│ Rochester      ┆ 106       ┆ 91.0                      ┆ [\"Minnesota\", \"New York\", … \"New… ┆ Rochester, MN      │\n",
       "│ Wilmington     ┆ 106       ┆ 95.0                      ┆ [\"Delaware\", \"North Carolina\", …… ┆ Wilmington, DE     │\n",
       "│ Concord        ┆ 106       ┆ 97.0                      ┆ [\"California\", \"New Hampshire\", … ┆ Concord, CA        │\n",
       "│ Norfolk        ┆ 106       ┆ 93.0                      ┆ [\"Nebraska\", \"Virginia\", … \"Virg… ┆ Norfolk, NE        │\n",
       "│ …              ┆ …         ┆ …                         ┆ …                                 ┆ …                  │\n",
       "│ Milton         ┆ 47        ┆ 87.0                      ┆ [\"Massachusetts\", \"Massachusetts… ┆ Milton, MA         │\n",
       "│ Mt. Washington ┆ 47        ┆ 60.0                      ┆ [\"New Hampshire\", \"New Hampshire… ┆ Mt. Washington, NH │\n",
       "│ China Lake     ┆ 45        ┆ 111.0                     ┆ [\"California\", \"California\", … \"… ┆ China Lake, CA     │\n",
       "│ Wrangell       ┆ 30        ┆ 60.0                      ┆ [\"Alaska\", \"Alaska\", … \"Alaska\"]  ┆ Wrangell, AK       │\n",
       "│ Unalakleet     ┆ 5         ┆ 60.0                      ┆ [\"Alaska\", \"Alaska\", … \"Alaska\"]  ┆ Unalakleet, AK     │\n",
       "└────────────────┴───────────┴───────────────────────────┴───────────────────────────────────┴────────────────────┘"
      ]
     },
     "execution_count": 55,
     "metadata": {},
     "output_type": "execute_result"
    }
   ],
   "source": [
    "q = (\n",
    "     df.lazy()\n",
    "     .group_by(\"Station.City\")\n",
    "     .agg(\n",
    "          pl.count().alias(\"row_count\"),\n",
    "          pl.max(\"Data.Temperature.Max Temp\"),\n",
    "          pl.col(\"Station.State\"),\n",
    "          pl.first(\"Station.Location\")\n",
    "     )\n",
    "    .sort(\"row_count\", descending= True)\n",
    ")\n",
    "\n",
    "q.collect()"
   ]
  },
  {
   "cell_type": "markdown",
   "metadata": {},
   "source": [
    "018-Rolling Windowed Aggregation"
   ]
  },
  {
   "cell_type": "code",
   "execution_count": 56,
   "metadata": {},
   "outputs": [
    {
     "data": {
      "text/html": [
       "<div><style>\n",
       ".dataframe > thead > tr,\n",
       ".dataframe > tbody > tr {\n",
       "  text-align: right;\n",
       "  white-space: pre-wrap;\n",
       "}\n",
       "</style>\n",
       "<small>shape: (7, 3)</small><table border=\"1\" class=\"dataframe\"><thead><tr><th>Date.Full</th><th>Data.Temperature.Avg Temp</th><th>max</th></tr><tr><td>str</td><td>f64</td><td>f64</td></tr></thead><tbody><tr><td>&quot;2016-01-03&quot;</td><td>39.0</td><td>null</td></tr><tr><td>&quot;2016-01-03&quot;</td><td>39.0</td><td>39.0</td></tr><tr><td>&quot;2016-01-03&quot;</td><td>46.0</td><td>46.0</td></tr><tr><td>&quot;2016-01-03&quot;</td><td>45.0</td><td>46.0</td></tr><tr><td>&quot;2016-01-03&quot;</td><td>34.0</td><td>45.0</td></tr><tr><td>&quot;2016-01-03&quot;</td><td>38.0</td><td>38.0</td></tr><tr><td>&quot;2016-01-03&quot;</td><td>30.0</td><td>38.0</td></tr></tbody></table></div>"
      ],
      "text/plain": [
       "shape: (7, 3)\n",
       "┌────────────┬───────────────────────────┬──────┐\n",
       "│ Date.Full  ┆ Data.Temperature.Avg Temp ┆ max  │\n",
       "│ ---        ┆ ---                       ┆ ---  │\n",
       "│ str        ┆ f64                       ┆ f64  │\n",
       "╞════════════╪═══════════════════════════╪══════╡\n",
       "│ 2016-01-03 ┆ 39.0                      ┆ null │\n",
       "│ 2016-01-03 ┆ 39.0                      ┆ 39.0 │\n",
       "│ 2016-01-03 ┆ 46.0                      ┆ 46.0 │\n",
       "│ 2016-01-03 ┆ 45.0                      ┆ 46.0 │\n",
       "│ 2016-01-03 ┆ 34.0                      ┆ 45.0 │\n",
       "│ 2016-01-03 ┆ 38.0                      ┆ 38.0 │\n",
       "│ 2016-01-03 ┆ 30.0                      ┆ 38.0 │\n",
       "└────────────┴───────────────────────────┴──────┘"
      ]
     },
     "execution_count": 56,
     "metadata": {},
     "output_type": "execute_result"
    }
   ],
   "source": [
    "df.sort(\"Date.Full\", descending= False).select(\n",
    "                                               pl.col(\"Date.Full\"),\n",
    "                                               pl.col(\"Data.Temperature.Avg Temp\"),\n",
    "                                               pl.col(\"Data.Temperature.Avg Temp\").rolling_max(window_size= 2).alias(\"max\")).head(7)"
   ]
  },
  {
   "cell_type": "code",
   "execution_count": 57,
   "metadata": {},
   "outputs": [
    {
     "data": {
      "text/html": [
       "<div><style>\n",
       ".dataframe > thead > tr,\n",
       ".dataframe > tbody > tr {\n",
       "  text-align: right;\n",
       "  white-space: pre-wrap;\n",
       "}\n",
       "</style>\n",
       "<small>shape: (7, 3)</small><table border=\"1\" class=\"dataframe\"><thead><tr><th>Date.Full</th><th>Data.Temperature.Avg Temp</th><th>max</th></tr><tr><td>str</td><td>f64</td><td>f64</td></tr></thead><tbody><tr><td>&quot;2016-01-03&quot;</td><td>39.0</td><td>null</td></tr><tr><td>&quot;2016-01-03&quot;</td><td>39.0</td><td>null</td></tr><tr><td>&quot;2016-01-03&quot;</td><td>46.0</td><td>null</td></tr><tr><td>&quot;2016-01-03&quot;</td><td>45.0</td><td>null</td></tr><tr><td>&quot;2016-01-03&quot;</td><td>34.0</td><td>46.0</td></tr><tr><td>&quot;2016-01-03&quot;</td><td>38.0</td><td>46.0</td></tr><tr><td>&quot;2016-01-03&quot;</td><td>30.0</td><td>46.0</td></tr></tbody></table></div>"
      ],
      "text/plain": [
       "shape: (7, 3)\n",
       "┌────────────┬───────────────────────────┬──────┐\n",
       "│ Date.Full  ┆ Data.Temperature.Avg Temp ┆ max  │\n",
       "│ ---        ┆ ---                       ┆ ---  │\n",
       "│ str        ┆ f64                       ┆ f64  │\n",
       "╞════════════╪═══════════════════════════╪══════╡\n",
       "│ 2016-01-03 ┆ 39.0                      ┆ null │\n",
       "│ 2016-01-03 ┆ 39.0                      ┆ null │\n",
       "│ 2016-01-03 ┆ 46.0                      ┆ null │\n",
       "│ 2016-01-03 ┆ 45.0                      ┆ null │\n",
       "│ 2016-01-03 ┆ 34.0                      ┆ 46.0 │\n",
       "│ 2016-01-03 ┆ 38.0                      ┆ 46.0 │\n",
       "│ 2016-01-03 ┆ 30.0                      ┆ 46.0 │\n",
       "└────────────┴───────────────────────────┴──────┘"
      ]
     },
     "execution_count": 57,
     "metadata": {},
     "output_type": "execute_result"
    }
   ],
   "source": [
    "df.sort(\"Date.Full\", descending= False).select(\n",
    "                                               pl.col(\"Date.Full\"),\n",
    "                                               pl.col(\"Data.Temperature.Avg Temp\"),\n",
    "                                               pl.col(\"Data.Temperature.Avg Temp\").rolling_max(window_size= 5).alias(\"max\")).head(7)"
   ]
  },
  {
   "cell_type": "code",
   "execution_count": 58,
   "metadata": {},
   "outputs": [
    {
     "data": {
      "text/html": [
       "<div><style>\n",
       ".dataframe > thead > tr,\n",
       ".dataframe > tbody > tr {\n",
       "  text-align: right;\n",
       "  white-space: pre-wrap;\n",
       "}\n",
       "</style>\n",
       "<small>shape: (7, 9)</small><table border=\"1\" class=\"dataframe\"><thead><tr><th>Date.Full</th><th>Data.Temperature.Avg Temp</th><th>max</th><th>min</th><th>mean</th><th>median</th><th>std</th><th>sum</th><th>var</th></tr><tr><td>str</td><td>f64</td><td>f64</td><td>f64</td><td>f64</td><td>f64</td><td>f64</td><td>f64</td><td>f64</td></tr></thead><tbody><tr><td>&quot;2016-01-03&quot;</td><td>39.0</td><td>null</td><td>null</td><td>null</td><td>null</td><td>null</td><td>null</td><td>null</td></tr><tr><td>&quot;2016-01-03&quot;</td><td>39.0</td><td>39.0</td><td>39.0</td><td>39.0</td><td>39.0</td><td>0.0</td><td>78.0</td><td>0.0</td></tr><tr><td>&quot;2016-01-03&quot;</td><td>46.0</td><td>46.0</td><td>39.0</td><td>42.5</td><td>42.5</td><td>4.949747</td><td>85.0</td><td>24.5</td></tr><tr><td>&quot;2016-01-03&quot;</td><td>45.0</td><td>46.0</td><td>45.0</td><td>45.5</td><td>45.5</td><td>0.707107</td><td>91.0</td><td>0.5</td></tr><tr><td>&quot;2016-01-03&quot;</td><td>34.0</td><td>45.0</td><td>34.0</td><td>39.5</td><td>39.5</td><td>7.778175</td><td>79.0</td><td>60.5</td></tr><tr><td>&quot;2016-01-03&quot;</td><td>38.0</td><td>38.0</td><td>34.0</td><td>36.0</td><td>36.0</td><td>2.828427</td><td>72.0</td><td>8.0</td></tr><tr><td>&quot;2016-01-03&quot;</td><td>30.0</td><td>38.0</td><td>30.0</td><td>34.0</td><td>34.0</td><td>5.656854</td><td>68.0</td><td>32.0</td></tr></tbody></table></div>"
      ],
      "text/plain": [
       "shape: (7, 9)\n",
       "┌────────────┬───────────────────────────┬──────┬──────┬───┬────────┬──────────┬──────┬──────┐\n",
       "│ Date.Full  ┆ Data.Temperature.Avg Temp ┆ max  ┆ min  ┆ … ┆ median ┆ std      ┆ sum  ┆ var  │\n",
       "│ ---        ┆ ---                       ┆ ---  ┆ ---  ┆   ┆ ---    ┆ ---      ┆ ---  ┆ ---  │\n",
       "│ str        ┆ f64                       ┆ f64  ┆ f64  ┆   ┆ f64    ┆ f64      ┆ f64  ┆ f64  │\n",
       "╞════════════╪═══════════════════════════╪══════╪══════╪═══╪════════╪══════════╪══════╪══════╡\n",
       "│ 2016-01-03 ┆ 39.0                      ┆ null ┆ null ┆ … ┆ null   ┆ null     ┆ null ┆ null │\n",
       "│ 2016-01-03 ┆ 39.0                      ┆ 39.0 ┆ 39.0 ┆ … ┆ 39.0   ┆ 0.0      ┆ 78.0 ┆ 0.0  │\n",
       "│ 2016-01-03 ┆ 46.0                      ┆ 46.0 ┆ 39.0 ┆ … ┆ 42.5   ┆ 4.949747 ┆ 85.0 ┆ 24.5 │\n",
       "│ 2016-01-03 ┆ 45.0                      ┆ 46.0 ┆ 45.0 ┆ … ┆ 45.5   ┆ 0.707107 ┆ 91.0 ┆ 0.5  │\n",
       "│ 2016-01-03 ┆ 34.0                      ┆ 45.0 ┆ 34.0 ┆ … ┆ 39.5   ┆ 7.778175 ┆ 79.0 ┆ 60.5 │\n",
       "│ 2016-01-03 ┆ 38.0                      ┆ 38.0 ┆ 34.0 ┆ … ┆ 36.0   ┆ 2.828427 ┆ 72.0 ┆ 8.0  │\n",
       "│ 2016-01-03 ┆ 30.0                      ┆ 38.0 ┆ 30.0 ┆ … ┆ 34.0   ┆ 5.656854 ┆ 68.0 ┆ 32.0 │\n",
       "└────────────┴───────────────────────────┴──────┴──────┴───┴────────┴──────────┴──────┴──────┘"
      ]
     },
     "execution_count": 58,
     "metadata": {},
     "output_type": "execute_result"
    }
   ],
   "source": [
    "df.sort(\"Date.Full\", descending= False).select(\n",
    "                                               pl.col(\"Date.Full\"),\n",
    "                                               pl.col(\"Data.Temperature.Avg Temp\"),\n",
    "                                               pl.col(\"Data.Temperature.Avg Temp\").rolling_max(window_size= 2).alias(\"max\"),\n",
    "                                               pl.col(\"Data.Temperature.Avg Temp\").rolling_min(window_size= 2).alias(\"min\"),\n",
    "                                               pl.col(\"Data.Temperature.Avg Temp\").rolling_mean(window_size= 2).alias(\"mean\"),\n",
    "                                               pl.col(\"Data.Temperature.Avg Temp\").rolling_median(window_size= 2).alias(\"median\"),\n",
    "                                               pl.col(\"Data.Temperature.Avg Temp\").rolling_std(window_size= 2).alias(\"std\"),\n",
    "                                               pl.col(\"Data.Temperature.Avg Temp\").rolling_sum(window_size= 2).alias(\"sum\"),\n",
    "                                               pl.col(\"Data.Temperature.Avg Temp\").rolling_var(window_size= 2).alias(\"var\")).head(7)"
   ]
  },
  {
   "cell_type": "code",
   "execution_count": 59,
   "metadata": {},
   "outputs": [
    {
     "data": {
      "text/html": [
       "<div><style>\n",
       ".dataframe > thead > tr,\n",
       ".dataframe > tbody > tr {\n",
       "  text-align: right;\n",
       "  white-space: pre-wrap;\n",
       "}\n",
       "</style>\n",
       "<small>shape: (10, 9)</small><table border=\"1\" class=\"dataframe\"><thead><tr><th>Date.Full</th><th>Data.Temperature.Avg Temp</th><th>max</th><th>min</th><th>mean</th><th>median</th><th>std</th><th>sum</th><th>var</th></tr><tr><td>str</td><td>f64</td><td>f64</td><td>f64</td><td>f64</td><td>f64</td><td>f64</td><td>f64</td><td>f64</td></tr></thead><tbody><tr><td>&quot;2016-01-03&quot;</td><td>39.0</td><td>null</td><td>null</td><td>null</td><td>null</td><td>null</td><td>null</td><td>null</td></tr><tr><td>&quot;2016-01-03&quot;</td><td>39.0</td><td>39.0</td><td>null</td><td>null</td><td>null</td><td>null</td><td>78.0</td><td>null</td></tr><tr><td>&quot;2016-01-03&quot;</td><td>46.0</td><td>46.0</td><td>39.0</td><td>null</td><td>null</td><td>4.041452</td><td>85.0</td><td>null</td></tr><tr><td>&quot;2016-01-03&quot;</td><td>45.0</td><td>46.0</td><td>39.0</td><td>42.25</td><td>null</td><td>3.785939</td><td>91.0</td><td>14.25</td></tr><tr><td>&quot;2016-01-03&quot;</td><td>34.0</td><td>45.0</td><td>34.0</td><td>41.0</td><td>39.0</td><td>6.658328</td><td>79.0</td><td>31.333333</td></tr><tr><td>&quot;2016-01-03&quot;</td><td>38.0</td><td>38.0</td><td>34.0</td><td>40.75</td><td>39.0</td><td>5.567764</td><td>72.0</td><td>32.916667</td></tr><tr><td>&quot;2016-01-03&quot;</td><td>30.0</td><td>38.0</td><td>30.0</td><td>36.75</td><td>38.0</td><td>4.0</td><td>68.0</td><td>40.916667</td></tr><tr><td>&quot;2016-01-03&quot;</td><td>22.0</td><td>30.0</td><td>22.0</td><td>31.0</td><td>34.0</td><td>8.0</td><td>52.0</td><td>46.666667</td></tr><tr><td>&quot;2016-01-03&quot;</td><td>34.0</td><td>34.0</td><td>22.0</td><td>31.0</td><td>34.0</td><td>6.110101</td><td>56.0</td><td>46.666667</td></tr><tr><td>&quot;2016-01-03&quot;</td><td>38.0</td><td>38.0</td><td>22.0</td><td>31.0</td><td>34.0</td><td>8.326664</td><td>72.0</td><td>46.666667</td></tr></tbody></table></div>"
      ],
      "text/plain": [
       "shape: (10, 9)\n",
       "┌────────────┬───────────────────────────┬──────┬──────┬───┬────────┬──────────┬──────┬───────────┐\n",
       "│ Date.Full  ┆ Data.Temperature.Avg Temp ┆ max  ┆ min  ┆ … ┆ median ┆ std      ┆ sum  ┆ var       │\n",
       "│ ---        ┆ ---                       ┆ ---  ┆ ---  ┆   ┆ ---    ┆ ---      ┆ ---  ┆ ---       │\n",
       "│ str        ┆ f64                       ┆ f64  ┆ f64  ┆   ┆ f64    ┆ f64      ┆ f64  ┆ f64       │\n",
       "╞════════════╪═══════════════════════════╪══════╪══════╪═══╪════════╪══════════╪══════╪═══════════╡\n",
       "│ 2016-01-03 ┆ 39.0                      ┆ null ┆ null ┆ … ┆ null   ┆ null     ┆ null ┆ null      │\n",
       "│ 2016-01-03 ┆ 39.0                      ┆ 39.0 ┆ null ┆ … ┆ null   ┆ null     ┆ 78.0 ┆ null      │\n",
       "│ 2016-01-03 ┆ 46.0                      ┆ 46.0 ┆ 39.0 ┆ … ┆ null   ┆ 4.041452 ┆ 85.0 ┆ null      │\n",
       "│ 2016-01-03 ┆ 45.0                      ┆ 46.0 ┆ 39.0 ┆ … ┆ null   ┆ 3.785939 ┆ 91.0 ┆ 14.25     │\n",
       "│ 2016-01-03 ┆ 34.0                      ┆ 45.0 ┆ 34.0 ┆ … ┆ 39.0   ┆ 6.658328 ┆ 79.0 ┆ 31.333333 │\n",
       "│ 2016-01-03 ┆ 38.0                      ┆ 38.0 ┆ 34.0 ┆ … ┆ 39.0   ┆ 5.567764 ┆ 72.0 ┆ 32.916667 │\n",
       "│ 2016-01-03 ┆ 30.0                      ┆ 38.0 ┆ 30.0 ┆ … ┆ 38.0   ┆ 4.0      ┆ 68.0 ┆ 40.916667 │\n",
       "│ 2016-01-03 ┆ 22.0                      ┆ 30.0 ┆ 22.0 ┆ … ┆ 34.0   ┆ 8.0      ┆ 52.0 ┆ 46.666667 │\n",
       "│ 2016-01-03 ┆ 34.0                      ┆ 34.0 ┆ 22.0 ┆ … ┆ 34.0   ┆ 6.110101 ┆ 56.0 ┆ 46.666667 │\n",
       "│ 2016-01-03 ┆ 38.0                      ┆ 38.0 ┆ 22.0 ┆ … ┆ 34.0   ┆ 8.326664 ┆ 72.0 ┆ 46.666667 │\n",
       "└────────────┴───────────────────────────┴──────┴──────┴───┴────────┴──────────┴──────┴───────────┘"
      ]
     },
     "execution_count": 59,
     "metadata": {},
     "output_type": "execute_result"
    }
   ],
   "source": [
    "df.sort(\"Date.Full\", descending= False).select(\n",
    "                                               pl.col(\"Date.Full\"),\n",
    "                                               pl.col(\"Data.Temperature.Avg Temp\"),\n",
    "                                               pl.col(\"Data.Temperature.Avg Temp\").rolling_max(window_size= 2).alias(\"max\"),\n",
    "                                               pl.col(\"Data.Temperature.Avg Temp\").rolling_min(window_size= 3).alias(\"min\"),\n",
    "                                               pl.col(\"Data.Temperature.Avg Temp\").rolling_mean(window_size= 4).alias(\"mean\"),\n",
    "                                               pl.col(\"Data.Temperature.Avg Temp\").rolling_median(window_size= 5).alias(\"median\"),\n",
    "                                               pl.col(\"Data.Temperature.Avg Temp\").rolling_std(window_size= 3).alias(\"std\"),\n",
    "                                               pl.col(\"Data.Temperature.Avg Temp\").rolling_sum(window_size= 2).alias(\"sum\"),\n",
    "                                               pl.col(\"Data.Temperature.Avg Temp\").rolling_var(window_size= 4).alias(\"var\")).head(10)"
   ]
  },
  {
   "cell_type": "markdown",
   "metadata": {},
   "source": [
    "019-Applying Window Functions"
   ]
  },
  {
   "cell_type": "code",
   "execution_count": 60,
   "metadata": {},
   "outputs": [
    {
     "data": {
      "text/html": [
       "<div><style>\n",
       ".dataframe > thead > tr,\n",
       ".dataframe > tbody > tr {\n",
       "  text-align: right;\n",
       "  white-space: pre-wrap;\n",
       "}\n",
       "</style>\n",
       "<small>shape: (7, 3)</small><table border=\"1\" class=\"dataframe\"><thead><tr><th>Station.State</th><th>Station.Location</th><th>Data.Temperature.Avg Temp</th></tr><tr><td>str</td><td>str</td><td>f64</td></tr></thead><tbody><tr><td>&quot;Alabama&quot;</td><td>&quot;Birmingham, AL…</td><td>14104.0</td></tr><tr><td>&quot;Alabama&quot;</td><td>&quot;Huntsville, AL…</td><td>14104.0</td></tr><tr><td>&quot;Alabama&quot;</td><td>&quot;Mobile, AL&quot;</td><td>14104.0</td></tr><tr><td>&quot;Alabama&quot;</td><td>&quot;Montgomery, AL…</td><td>14104.0</td></tr><tr><td>&quot;Alaska&quot;</td><td>&quot;Anchorage, AK&quot;</td><td>70750.0</td></tr><tr><td>&quot;Alaska&quot;</td><td>&quot;Annette, AK&quot;</td><td>70750.0</td></tr><tr><td>&quot;Alaska&quot;</td><td>&quot;Bethel, AK&quot;</td><td>70750.0</td></tr></tbody></table></div>"
      ],
      "text/plain": [
       "shape: (7, 3)\n",
       "┌───────────────┬──────────────────┬───────────────────────────┐\n",
       "│ Station.State ┆ Station.Location ┆ Data.Temperature.Avg Temp │\n",
       "│ ---           ┆ ---              ┆ ---                       │\n",
       "│ str           ┆ str              ┆ f64                       │\n",
       "╞═══════════════╪══════════════════╪═══════════════════════════╡\n",
       "│ Alabama       ┆ Birmingham, AL   ┆ 14104.0                   │\n",
       "│ Alabama       ┆ Huntsville, AL   ┆ 14104.0                   │\n",
       "│ Alabama       ┆ Mobile, AL       ┆ 14104.0                   │\n",
       "│ Alabama       ┆ Montgomery, AL   ┆ 14104.0                   │\n",
       "│ Alaska        ┆ Anchorage, AK    ┆ 70750.0                   │\n",
       "│ Alaska        ┆ Annette, AK      ┆ 70750.0                   │\n",
       "│ Alaska        ┆ Bethel, AK       ┆ 70750.0                   │\n",
       "└───────────────┴──────────────────┴───────────────────────────┘"
      ]
     },
     "execution_count": 60,
     "metadata": {},
     "output_type": "execute_result"
    }
   ],
   "source": [
    "df.select(\n",
    "          pl.col(\"Station.State\"),\n",
    "          pl.col(\"Station.Location\"),\n",
    "          pl.col(\"Data.Temperature.Avg Temp\").sum().over(\"Station.State\")          \n",
    ").head(7)"
   ]
  },
  {
   "cell_type": "code",
   "execution_count": 61,
   "metadata": {},
   "outputs": [
    {
     "data": {
      "text/html": [
       "<div><style>\n",
       ".dataframe > thead > tr,\n",
       ".dataframe > tbody > tr {\n",
       "  text-align: right;\n",
       "  white-space: pre-wrap;\n",
       "}\n",
       "</style>\n",
       "<small>shape: (7, 4)</small><table border=\"1\" class=\"dataframe\"><thead><tr><th>Station.State</th><th>Station.Location</th><th>Data.Temperature.Avg Temp</th><th>window_temp_avg</th></tr><tr><td>str</td><td>str</td><td>f64</td><td>f64</td></tr></thead><tbody><tr><td>&quot;Alabama&quot;</td><td>&quot;Birmingham, AL…</td><td>39.0</td><td>14104.0</td></tr><tr><td>&quot;Alabama&quot;</td><td>&quot;Huntsville, AL…</td><td>39.0</td><td>14104.0</td></tr><tr><td>&quot;Alabama&quot;</td><td>&quot;Mobile, AL&quot;</td><td>46.0</td><td>14104.0</td></tr><tr><td>&quot;Alabama&quot;</td><td>&quot;Montgomery, AL…</td><td>45.0</td><td>14104.0</td></tr><tr><td>&quot;Alaska&quot;</td><td>&quot;Anchorage, AK&quot;</td><td>34.0</td><td>70750.0</td></tr><tr><td>&quot;Alaska&quot;</td><td>&quot;Annette, AK&quot;</td><td>38.0</td><td>70750.0</td></tr><tr><td>&quot;Alaska&quot;</td><td>&quot;Bethel, AK&quot;</td><td>30.0</td><td>70750.0</td></tr></tbody></table></div>"
      ],
      "text/plain": [
       "shape: (7, 4)\n",
       "┌───────────────┬──────────────────┬───────────────────────────┬─────────────────┐\n",
       "│ Station.State ┆ Station.Location ┆ Data.Temperature.Avg Temp ┆ window_temp_avg │\n",
       "│ ---           ┆ ---              ┆ ---                       ┆ ---             │\n",
       "│ str           ┆ str              ┆ f64                       ┆ f64             │\n",
       "╞═══════════════╪══════════════════╪═══════════════════════════╪═════════════════╡\n",
       "│ Alabama       ┆ Birmingham, AL   ┆ 39.0                      ┆ 14104.0         │\n",
       "│ Alabama       ┆ Huntsville, AL   ┆ 39.0                      ┆ 14104.0         │\n",
       "│ Alabama       ┆ Mobile, AL       ┆ 46.0                      ┆ 14104.0         │\n",
       "│ Alabama       ┆ Montgomery, AL   ┆ 45.0                      ┆ 14104.0         │\n",
       "│ Alaska        ┆ Anchorage, AK    ┆ 34.0                      ┆ 70750.0         │\n",
       "│ Alaska        ┆ Annette, AK      ┆ 38.0                      ┆ 70750.0         │\n",
       "│ Alaska        ┆ Bethel, AK       ┆ 30.0                      ┆ 70750.0         │\n",
       "└───────────────┴──────────────────┴───────────────────────────┴─────────────────┘"
      ]
     },
     "execution_count": 61,
     "metadata": {},
     "output_type": "execute_result"
    }
   ],
   "source": [
    "df.select(\n",
    "          pl.col(\"Station.State\"),\n",
    "          pl.col(\"Station.Location\"),\n",
    "          pl.col(\"Data.Temperature.Avg Temp\"),\n",
    "          pl.col(\"Data.Temperature.Avg Temp\").sum().over(\"Station.State\").alias(\"window_temp_avg\")        \n",
    ").head(7)"
   ]
  },
  {
   "cell_type": "code",
   "execution_count": 62,
   "metadata": {},
   "outputs": [
    {
     "data": {
      "text/html": [
       "<div><style>\n",
       ".dataframe > thead > tr,\n",
       ".dataframe > tbody > tr {\n",
       "  text-align: right;\n",
       "  white-space: pre-wrap;\n",
       "}\n",
       "</style>\n",
       "<small>shape: (7, 4)</small><table border=\"1\" class=\"dataframe\"><thead><tr><th>Station.State</th><th>Station.Location</th><th>Data.Temperature.Avg Temp</th><th>window_temp_avg</th></tr><tr><td>str</td><td>str</td><td>f64</td><td>f64</td></tr></thead><tbody><tr><td>&quot;Alabama&quot;</td><td>&quot;Birmingham, AL…</td><td>39.0</td><td>86.0</td></tr><tr><td>&quot;Alabama&quot;</td><td>&quot;Huntsville, AL…</td><td>39.0</td><td>86.0</td></tr><tr><td>&quot;Alabama&quot;</td><td>&quot;Mobile, AL&quot;</td><td>46.0</td><td>86.0</td></tr><tr><td>&quot;Alabama&quot;</td><td>&quot;Montgomery, AL…</td><td>45.0</td><td>86.0</td></tr><tr><td>&quot;Alaska&quot;</td><td>&quot;Anchorage, AK&quot;</td><td>34.0</td><td>69.0</td></tr><tr><td>&quot;Alaska&quot;</td><td>&quot;Annette, AK&quot;</td><td>38.0</td><td>69.0</td></tr><tr><td>&quot;Alaska&quot;</td><td>&quot;Bethel, AK&quot;</td><td>30.0</td><td>69.0</td></tr></tbody></table></div>"
      ],
      "text/plain": [
       "shape: (7, 4)\n",
       "┌───────────────┬──────────────────┬───────────────────────────┬─────────────────┐\n",
       "│ Station.State ┆ Station.Location ┆ Data.Temperature.Avg Temp ┆ window_temp_avg │\n",
       "│ ---           ┆ ---              ┆ ---                       ┆ ---             │\n",
       "│ str           ┆ str              ┆ f64                       ┆ f64             │\n",
       "╞═══════════════╪══════════════════╪═══════════════════════════╪═════════════════╡\n",
       "│ Alabama       ┆ Birmingham, AL   ┆ 39.0                      ┆ 86.0            │\n",
       "│ Alabama       ┆ Huntsville, AL   ┆ 39.0                      ┆ 86.0            │\n",
       "│ Alabama       ┆ Mobile, AL       ┆ 46.0                      ┆ 86.0            │\n",
       "│ Alabama       ┆ Montgomery, AL   ┆ 45.0                      ┆ 86.0            │\n",
       "│ Alaska        ┆ Anchorage, AK    ┆ 34.0                      ┆ 69.0            │\n",
       "│ Alaska        ┆ Annette, AK      ┆ 38.0                      ┆ 69.0            │\n",
       "│ Alaska        ┆ Bethel, AK       ┆ 30.0                      ┆ 69.0            │\n",
       "└───────────────┴──────────────────┴───────────────────────────┴─────────────────┘"
      ]
     },
     "execution_count": 62,
     "metadata": {},
     "output_type": "execute_result"
    }
   ],
   "source": [
    "df.select(\n",
    "          pl.col(\"Station.State\"),\n",
    "          pl.col(\"Station.Location\"),\n",
    "          pl.col(\"Data.Temperature.Avg Temp\"),\n",
    "          pl.col(\"Data.Temperature.Avg Temp\").max().over(\"Station.State\").alias(\"window_temp_avg\")        \n",
    ").head(7)"
   ]
  },
  {
   "cell_type": "code",
   "execution_count": 63,
   "metadata": {},
   "outputs": [
    {
     "data": {
      "text/html": [
       "<div><style>\n",
       ".dataframe > thead > tr,\n",
       ".dataframe > tbody > tr {\n",
       "  text-align: right;\n",
       "  white-space: pre-wrap;\n",
       "}\n",
       "</style>\n",
       "<small>shape: (7, 4)</small><table border=\"1\" class=\"dataframe\"><thead><tr><th>Station.State</th><th>Station.Location</th><th>Data.Temperature.Avg Temp</th><th>window_temp_avg</th></tr><tr><td>str</td><td>str</td><td>f64</td><td>f64</td></tr></thead><tbody><tr><td>&quot;Alabama&quot;</td><td>&quot;Birmingham, AL…</td><td>39.0</td><td>33.0</td></tr><tr><td>&quot;Alabama&quot;</td><td>&quot;Huntsville, AL…</td><td>39.0</td><td>33.0</td></tr><tr><td>&quot;Alabama&quot;</td><td>&quot;Mobile, AL&quot;</td><td>46.0</td><td>33.0</td></tr><tr><td>&quot;Alabama&quot;</td><td>&quot;Montgomery, AL…</td><td>45.0</td><td>33.0</td></tr><tr><td>&quot;Alaska&quot;</td><td>&quot;Anchorage, AK&quot;</td><td>34.0</td><td>-27.0</td></tr><tr><td>&quot;Alaska&quot;</td><td>&quot;Annette, AK&quot;</td><td>38.0</td><td>-27.0</td></tr><tr><td>&quot;Alaska&quot;</td><td>&quot;Bethel, AK&quot;</td><td>30.0</td><td>-27.0</td></tr></tbody></table></div>"
      ],
      "text/plain": [
       "shape: (7, 4)\n",
       "┌───────────────┬──────────────────┬───────────────────────────┬─────────────────┐\n",
       "│ Station.State ┆ Station.Location ┆ Data.Temperature.Avg Temp ┆ window_temp_avg │\n",
       "│ ---           ┆ ---              ┆ ---                       ┆ ---             │\n",
       "│ str           ┆ str              ┆ f64                       ┆ f64             │\n",
       "╞═══════════════╪══════════════════╪═══════════════════════════╪═════════════════╡\n",
       "│ Alabama       ┆ Birmingham, AL   ┆ 39.0                      ┆ 33.0            │\n",
       "│ Alabama       ┆ Huntsville, AL   ┆ 39.0                      ┆ 33.0            │\n",
       "│ Alabama       ┆ Mobile, AL       ┆ 46.0                      ┆ 33.0            │\n",
       "│ Alabama       ┆ Montgomery, AL   ┆ 45.0                      ┆ 33.0            │\n",
       "│ Alaska        ┆ Anchorage, AK    ┆ 34.0                      ┆ -27.0           │\n",
       "│ Alaska        ┆ Annette, AK      ┆ 38.0                      ┆ -27.0           │\n",
       "│ Alaska        ┆ Bethel, AK       ┆ 30.0                      ┆ -27.0           │\n",
       "└───────────────┴──────────────────┴───────────────────────────┴─────────────────┘"
      ]
     },
     "execution_count": 63,
     "metadata": {},
     "output_type": "execute_result"
    }
   ],
   "source": [
    "df.select(\n",
    "          pl.col(\"Station.State\"),\n",
    "          pl.col(\"Station.Location\"),\n",
    "          pl.col(\"Data.Temperature.Avg Temp\"),\n",
    "          pl.col(\"Data.Temperature.Avg Temp\").min().over(\"Station.State\").alias(\"window_temp_avg\")        \n",
    ").head(7)"
   ]
  },
  {
   "cell_type": "code",
   "execution_count": 64,
   "metadata": {},
   "outputs": [
    {
     "data": {
      "text/html": [
       "<div><style>\n",
       ".dataframe > thead > tr,\n",
       ".dataframe > tbody > tr {\n",
       "  text-align: right;\n",
       "  white-space: pre-wrap;\n",
       "}\n",
       "</style>\n",
       "<small>shape: (7, 4)</small><table border=\"1\" class=\"dataframe\"><thead><tr><th>Station.State</th><th>Station.Location</th><th>Data.Temperature.Avg Temp</th><th>window_temp_avg</th></tr><tr><td>str</td><td>str</td><td>f64</td><td>f64</td></tr></thead><tbody><tr><td>&quot;Alabama&quot;</td><td>&quot;Birmingham, AL…</td><td>39.0</td><td>66.528302</td></tr><tr><td>&quot;Alabama&quot;</td><td>&quot;Huntsville, AL…</td><td>39.0</td><td>66.528302</td></tr><tr><td>&quot;Alabama&quot;</td><td>&quot;Mobile, AL&quot;</td><td>46.0</td><td>66.528302</td></tr><tr><td>&quot;Alabama&quot;</td><td>&quot;Montgomery, AL…</td><td>45.0</td><td>66.528302</td></tr><tr><td>&quot;Alaska&quot;</td><td>&quot;Anchorage, AK&quot;</td><td>34.0</td><td>41.15765</td></tr><tr><td>&quot;Alaska&quot;</td><td>&quot;Annette, AK&quot;</td><td>38.0</td><td>41.15765</td></tr><tr><td>&quot;Alaska&quot;</td><td>&quot;Bethel, AK&quot;</td><td>30.0</td><td>41.15765</td></tr></tbody></table></div>"
      ],
      "text/plain": [
       "shape: (7, 4)\n",
       "┌───────────────┬──────────────────┬───────────────────────────┬─────────────────┐\n",
       "│ Station.State ┆ Station.Location ┆ Data.Temperature.Avg Temp ┆ window_temp_avg │\n",
       "│ ---           ┆ ---              ┆ ---                       ┆ ---             │\n",
       "│ str           ┆ str              ┆ f64                       ┆ f64             │\n",
       "╞═══════════════╪══════════════════╪═══════════════════════════╪═════════════════╡\n",
       "│ Alabama       ┆ Birmingham, AL   ┆ 39.0                      ┆ 66.528302       │\n",
       "│ Alabama       ┆ Huntsville, AL   ┆ 39.0                      ┆ 66.528302       │\n",
       "│ Alabama       ┆ Mobile, AL       ┆ 46.0                      ┆ 66.528302       │\n",
       "│ Alabama       ┆ Montgomery, AL   ┆ 45.0                      ┆ 66.528302       │\n",
       "│ Alaska        ┆ Anchorage, AK    ┆ 34.0                      ┆ 41.15765        │\n",
       "│ Alaska        ┆ Annette, AK      ┆ 38.0                      ┆ 41.15765        │\n",
       "│ Alaska        ┆ Bethel, AK       ┆ 30.0                      ┆ 41.15765        │\n",
       "└───────────────┴──────────────────┴───────────────────────────┴─────────────────┘"
      ]
     },
     "execution_count": 64,
     "metadata": {},
     "output_type": "execute_result"
    }
   ],
   "source": [
    "df.select(\n",
    "          pl.col(\"Station.State\"),\n",
    "          pl.col(\"Station.Location\"),\n",
    "          pl.col(\"Data.Temperature.Avg Temp\"),\n",
    "          pl.col(\"Data.Temperature.Avg Temp\").mean().over(\"Station.State\").alias(\"window_temp_avg\")        \n",
    ").head(7)"
   ]
  },
  {
   "cell_type": "markdown",
   "metadata": {},
   "source": [
    "021-Challenge Solution"
   ]
  },
  {
   "cell_type": "code",
   "execution_count": 65,
   "metadata": {},
   "outputs": [
    {
     "data": {
      "text/html": [
       "<div><style>\n",
       ".dataframe > thead > tr,\n",
       ".dataframe > tbody > tr {\n",
       "  text-align: right;\n",
       "  white-space: pre-wrap;\n",
       "}\n",
       "</style>\n",
       "<small>shape: (5, 2)</small><table border=\"1\" class=\"dataframe\"><thead><tr><th>Station.State</th><th>Total max &amp; min</th></tr><tr><td>str</td><td>f64</td></tr></thead><tbody><tr><td>&quot;Puerto Rico&quot;</td><td>162.188679</td></tr><tr><td>&quot;Hawaii&quot;</td><td>152.320755</td></tr><tr><td>&quot;Florida&quot;</td><td>147.382075</td></tr><tr><td>&quot;Louisiana&quot;</td><td>138.467433</td></tr><tr><td>&quot;Texas&quot;</td><td>135.86478</td></tr></tbody></table></div>"
      ],
      "text/plain": [
       "shape: (5, 2)\n",
       "┌───────────────┬─────────────────┐\n",
       "│ Station.State ┆ Total max & min │\n",
       "│ ---           ┆ ---             │\n",
       "│ str           ┆ f64             │\n",
       "╞═══════════════╪═════════════════╡\n",
       "│ Puerto Rico   ┆ 162.188679      │\n",
       "│ Hawaii        ┆ 152.320755      │\n",
       "│ Florida       ┆ 147.382075      │\n",
       "│ Louisiana     ┆ 138.467433      │\n",
       "│ Texas         ┆ 135.86478       │\n",
       "└───────────────┴─────────────────┘"
      ]
     },
     "execution_count": 65,
     "metadata": {},
     "output_type": "execute_result"
    }
   ],
   "source": [
    "country = df.select(\n",
    "                    pl.col([\"Station.State\", \"Data.Temperature.Max Temp\", \"Data.Temperature.Min Temp\"]),\n",
    "                    (pl.col(\"Data.Temperature.Max Temp\") + pl.col(\"Data.Temperature.Min Temp\")).alias(\"Total max & min\"))\n",
    "\n",
    "q = (\n",
    "     country.lazy()\n",
    "     .group_by(\"Station.State\")\n",
    "     .agg(\n",
    "          pl.mean(\"Total max & min\").alias(\"Total max & min\")\n",
    "     )\n",
    "     .sort(\"Total max & min\", descending= True)\n",
    ")\n",
    "\n",
    "q.collect().head(5)"
   ]
  },
  {
   "cell_type": "code",
   "execution_count": 66,
   "metadata": {},
   "outputs": [
    {
     "data": {
      "text/html": [
       "<div><style>\n",
       ".dataframe > thead > tr,\n",
       ".dataframe > tbody > tr {\n",
       "  text-align: right;\n",
       "  white-space: pre-wrap;\n",
       "}\n",
       "</style>\n",
       "<small>shape: (5, 4)</small><table border=\"1\" class=\"dataframe\"><thead><tr><th>Station.State</th><th>Station.Location</th><th>Data.Temperature.Avg Temp</th><th>country avg temp</th></tr><tr><td>str</td><td>str</td><td>f64</td><td>f64</td></tr></thead><tbody><tr><td>&quot;Alabama&quot;</td><td>&quot;Birmingham, AL…</td><td>39.0</td><td>14104.0</td></tr><tr><td>&quot;Alabama&quot;</td><td>&quot;Huntsville, AL…</td><td>39.0</td><td>14104.0</td></tr><tr><td>&quot;Alabama&quot;</td><td>&quot;Mobile, AL&quot;</td><td>46.0</td><td>14104.0</td></tr><tr><td>&quot;Alabama&quot;</td><td>&quot;Montgomery, AL…</td><td>45.0</td><td>14104.0</td></tr><tr><td>&quot;Alaska&quot;</td><td>&quot;Anchorage, AK&quot;</td><td>34.0</td><td>70750.0</td></tr></tbody></table></div>"
      ],
      "text/plain": [
       "shape: (5, 4)\n",
       "┌───────────────┬──────────────────┬───────────────────────────┬──────────────────┐\n",
       "│ Station.State ┆ Station.Location ┆ Data.Temperature.Avg Temp ┆ country avg temp │\n",
       "│ ---           ┆ ---              ┆ ---                       ┆ ---              │\n",
       "│ str           ┆ str              ┆ f64                       ┆ f64              │\n",
       "╞═══════════════╪══════════════════╪═══════════════════════════╪══════════════════╡\n",
       "│ Alabama       ┆ Birmingham, AL   ┆ 39.0                      ┆ 14104.0          │\n",
       "│ Alabama       ┆ Huntsville, AL   ┆ 39.0                      ┆ 14104.0          │\n",
       "│ Alabama       ┆ Mobile, AL       ┆ 46.0                      ┆ 14104.0          │\n",
       "│ Alabama       ┆ Montgomery, AL   ┆ 45.0                      ┆ 14104.0          │\n",
       "│ Alaska        ┆ Anchorage, AK    ┆ 34.0                      ┆ 70750.0          │\n",
       "└───────────────┴──────────────────┴───────────────────────────┴──────────────────┘"
      ]
     },
     "execution_count": 66,
     "metadata": {},
     "output_type": "execute_result"
    }
   ],
   "source": [
    "df_2 = df.select(\n",
    "                 pl.col(\"Station.State\"),\n",
    "                 pl.col(\"Station.Location\"),\n",
    "                 pl.col(\"Data.Temperature.Avg Temp\"),\n",
    "                 pl.col(\"Data.Temperature.Avg Temp\").sum().over(\"Station.State\").alias(\"country avg temp\")\n",
    ")\n",
    "\n",
    "df_2.head(5)"
   ]
  },
  {
   "cell_type": "code",
   "execution_count": 67,
   "metadata": {},
   "outputs": [
    {
     "data": {
      "text/html": [
       "<div><style>\n",
       ".dataframe > thead > tr,\n",
       ".dataframe > tbody > tr {\n",
       "  text-align: right;\n",
       "  white-space: pre-wrap;\n",
       "}\n",
       "</style>\n",
       "<small>shape: (5, 3)</small><table border=\"1\" class=\"dataframe\"><thead><tr><th>Station.State</th><th>Data.Temperature.Avg Temp</th><th>avg</th></tr><tr><td>str</td><td>f64</td><td>f64</td></tr></thead><tbody><tr><td>&quot;Alabama&quot;</td><td>39.0</td><td>0.276517</td></tr><tr><td>&quot;Alabama&quot;</td><td>39.0</td><td>0.276517</td></tr><tr><td>&quot;Alabama&quot;</td><td>46.0</td><td>0.326149</td></tr><tr><td>&quot;Alabama&quot;</td><td>45.0</td><td>0.319058</td></tr><tr><td>&quot;Alaska&quot;</td><td>34.0</td><td>0.048057</td></tr></tbody></table></div>"
      ],
      "text/plain": [
       "shape: (5, 3)\n",
       "┌───────────────┬───────────────────────────┬──────────┐\n",
       "│ Station.State ┆ Data.Temperature.Avg Temp ┆ avg      │\n",
       "│ ---           ┆ ---                       ┆ ---      │\n",
       "│ str           ┆ f64                       ┆ f64      │\n",
       "╞═══════════════╪═══════════════════════════╪══════════╡\n",
       "│ Alabama       ┆ 39.0                      ┆ 0.276517 │\n",
       "│ Alabama       ┆ 39.0                      ┆ 0.276517 │\n",
       "│ Alabama       ┆ 46.0                      ┆ 0.326149 │\n",
       "│ Alabama       ┆ 45.0                      ┆ 0.319058 │\n",
       "│ Alaska        ┆ 34.0                      ┆ 0.048057 │\n",
       "└───────────────┴───────────────────────────┴──────────┘"
      ]
     },
     "execution_count": 67,
     "metadata": {},
     "output_type": "execute_result"
    }
   ],
   "source": [
    "df_2.select(pl.col([\"Station.State\", \"Data.Temperature.Avg Temp\"]),\n",
    "            ((pl.col(\"Data.Temperature.Avg Temp\") / pl.col(\"country avg temp\")) * 100).alias(\"avg\")\n",
    ").head(5)"
   ]
  }
 ],
 "metadata": {
  "colab": {
   "provenance": []
  },
  "kernelspec": {
   "display_name": "Python 3 (ipykernel)",
   "language": "python",
   "name": "python3"
  },
  "language_info": {
   "codemirror_mode": {
    "name": "ipython",
    "version": 3
   },
   "file_extension": ".py",
   "mimetype": "text/x-python",
   "name": "python",
   "nbconvert_exporter": "python",
   "pygments_lexer": "ipython3",
   "version": "3.12.1"
  }
 },
 "nbformat": 4,
 "nbformat_minor": 4
}
