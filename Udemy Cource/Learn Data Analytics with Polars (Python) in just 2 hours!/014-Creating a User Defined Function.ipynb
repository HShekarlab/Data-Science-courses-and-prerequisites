{
 "cells": [
  {
   "cell_type": "code",
   "execution_count": 1,
   "id": "aefbd092-36c6-49c1-887b-7301a0cb0327",
   "metadata": {},
   "outputs": [],
   "source": [
    "import polars as pl"
   ]
  },
  {
   "cell_type": "code",
   "execution_count": 2,
   "id": "9c599725-a324-4cbd-bde9-13b1d070a807",
   "metadata": {},
   "outputs": [],
   "source": [
    "df = pl.read_csv(\"weather.csv\", has_header= True)"
   ]
  },
  {
   "cell_type": "code",
   "execution_count": 3,
   "id": "e595328e-7528-4e85-ac07-2b26f2d5049c",
   "metadata": {},
   "outputs": [],
   "source": [
    "def Calculate_Temperature_Sum(row):\n",
    "    try:\n",
    "        temp_max = int(row[10])\n",
    "        temp_min = int(row[11])\n",
    "        \n",
    "        return temp_max + temp_min\n",
    "\n",
    "    except:\n",
    "        return 1"
   ]
  },
  {
   "cell_type": "code",
   "execution_count": 4,
   "id": "00f1fbec-0cde-4cdc-9370-c28bc24b6155",
   "metadata": {},
   "outputs": [
    {
     "name": "stderr",
     "output_type": "stream",
     "text": [
      "C:\\Users\\Hediye\\AppData\\Local\\Temp\\ipykernel_2888\\1859488921.py:1: DeprecationWarning: `apply` is deprecated. It has been renamed to `map_rows`.\n",
      "  df.with_columns(df.apply(Calculate_Temperature_Sum, return_dtype= pl.Int64)).head(3)\n"
     ]
    },
    {
     "data": {
      "text/html": [
       "<div><style>\n",
       ".dataframe > thead > tr,\n",
       ".dataframe > tbody > tr {\n",
       "  text-align: right;\n",
       "  white-space: pre-wrap;\n",
       "}\n",
       "</style>\n",
       "<small>shape: (3, 15)</small><table border=\"1\" class=\"dataframe\"><thead><tr><th>Data.Precipitation</th><th>Date.Full</th><th>Date.Month</th><th>Date.Week of</th><th>Date.Year</th><th>Station.City</th><th>Station.Code</th><th>Station.Location</th><th>Station.State</th><th>Data.Temperature.Avg Temp</th><th>Data.Temperature.Max Temp</th><th>Data.Temperature.Min Temp</th><th>Data.Wind.Direction</th><th>Data.Wind.Speed</th><th>map</th></tr><tr><td>f64</td><td>str</td><td>i64</td><td>i64</td><td>i64</td><td>str</td><td>str</td><td>str</td><td>str</td><td>i64</td><td>i64</td><td>i64</td><td>i64</td><td>f64</td><td>i64</td></tr></thead><tbody><tr><td>0.0</td><td>&quot;2016-01-03&quot;</td><td>1</td><td>3</td><td>2016</td><td>&quot;Birmingham&quot;</td><td>&quot;BHM&quot;</td><td>&quot;Birmingham, AL…</td><td>&quot;Alabama&quot;</td><td>39</td><td>46</td><td>32</td><td>33</td><td>4.33</td><td>78</td></tr><tr><td>0.0</td><td>&quot;2016-01-03&quot;</td><td>1</td><td>3</td><td>2016</td><td>&quot;Huntsville&quot;</td><td>&quot;HSV&quot;</td><td>&quot;Huntsville, AL…</td><td>&quot;Alabama&quot;</td><td>39</td><td>47</td><td>31</td><td>32</td><td>3.86</td><td>78</td></tr><tr><td>0.16</td><td>&quot;2016-01-03&quot;</td><td>1</td><td>3</td><td>2016</td><td>&quot;Mobile&quot;</td><td>&quot;MOB&quot;</td><td>&quot;Mobile, AL&quot;</td><td>&quot;Alabama&quot;</td><td>46</td><td>51</td><td>41</td><td>35</td><td>9.73</td><td>92</td></tr></tbody></table></div>"
      ],
      "text/plain": [
       "shape: (3, 15)\n",
       "┌────────────────┬────────────┬────────────┬──────────────┬───┬────────────────┬────────────────┬────────────────┬─────┐\n",
       "│ Data.Precipita ┆ Date.Full  ┆ Date.Month ┆ Date.Week of ┆ … ┆ Data.Temperatu ┆ Data.Wind.Dire ┆ Data.Wind.Spee ┆ map │\n",
       "│ tion           ┆ ---        ┆ ---        ┆ ---          ┆   ┆ re.Min Temp    ┆ ction          ┆ d              ┆ --- │\n",
       "│ ---            ┆ str        ┆ i64        ┆ i64          ┆   ┆ ---            ┆ ---            ┆ ---            ┆ i64 │\n",
       "│ f64            ┆            ┆            ┆              ┆   ┆ i64            ┆ i64            ┆ f64            ┆     │\n",
       "╞════════════════╪════════════╪════════════╪══════════════╪═══╪════════════════╪════════════════╪════════════════╪═════╡\n",
       "│ 0.0            ┆ 2016-01-03 ┆ 1          ┆ 3            ┆ … ┆ 32             ┆ 33             ┆ 4.33           ┆ 78  │\n",
       "│ 0.0            ┆ 2016-01-03 ┆ 1          ┆ 3            ┆ … ┆ 31             ┆ 32             ┆ 3.86           ┆ 78  │\n",
       "│ 0.16           ┆ 2016-01-03 ┆ 1          ┆ 3            ┆ … ┆ 41             ┆ 35             ┆ 9.73           ┆ 92  │\n",
       "└────────────────┴────────────┴────────────┴──────────────┴───┴────────────────┴────────────────┴────────────────┴─────┘"
      ]
     },
     "execution_count": 4,
     "metadata": {},
     "output_type": "execute_result"
    }
   ],
   "source": [
    "df.with_columns(df.apply(Calculate_Temperature_Sum, return_dtype= pl.Int64)).head(3)"
   ]
  },
  {
   "cell_type": "code",
   "execution_count": 5,
   "id": "c1055fbc-6460-4252-846c-5e561461ff08",
   "metadata": {},
   "outputs": [
    {
     "name": "stderr",
     "output_type": "stream",
     "text": [
      "C:\\Users\\Hediye\\AppData\\Local\\Temp\\ipykernel_2888\\2335937842.py:1: DeprecationWarning: `apply` is deprecated. It has been renamed to `map_rows`.\n",
      "  df.with_columns(df.apply(Calculate_Temperature_Sum, return_dtype= pl.Int64)).rename({\"map\": \"Sum_of_temp\"}).head(3)\n"
     ]
    },
    {
     "data": {
      "text/html": [
       "<div><style>\n",
       ".dataframe > thead > tr,\n",
       ".dataframe > tbody > tr {\n",
       "  text-align: right;\n",
       "  white-space: pre-wrap;\n",
       "}\n",
       "</style>\n",
       "<small>shape: (3, 15)</small><table border=\"1\" class=\"dataframe\"><thead><tr><th>Data.Precipitation</th><th>Date.Full</th><th>Date.Month</th><th>Date.Week of</th><th>Date.Year</th><th>Station.City</th><th>Station.Code</th><th>Station.Location</th><th>Station.State</th><th>Data.Temperature.Avg Temp</th><th>Data.Temperature.Max Temp</th><th>Data.Temperature.Min Temp</th><th>Data.Wind.Direction</th><th>Data.Wind.Speed</th><th>Sum_of_temp</th></tr><tr><td>f64</td><td>str</td><td>i64</td><td>i64</td><td>i64</td><td>str</td><td>str</td><td>str</td><td>str</td><td>i64</td><td>i64</td><td>i64</td><td>i64</td><td>f64</td><td>i64</td></tr></thead><tbody><tr><td>0.0</td><td>&quot;2016-01-03&quot;</td><td>1</td><td>3</td><td>2016</td><td>&quot;Birmingham&quot;</td><td>&quot;BHM&quot;</td><td>&quot;Birmingham, AL…</td><td>&quot;Alabama&quot;</td><td>39</td><td>46</td><td>32</td><td>33</td><td>4.33</td><td>78</td></tr><tr><td>0.0</td><td>&quot;2016-01-03&quot;</td><td>1</td><td>3</td><td>2016</td><td>&quot;Huntsville&quot;</td><td>&quot;HSV&quot;</td><td>&quot;Huntsville, AL…</td><td>&quot;Alabama&quot;</td><td>39</td><td>47</td><td>31</td><td>32</td><td>3.86</td><td>78</td></tr><tr><td>0.16</td><td>&quot;2016-01-03&quot;</td><td>1</td><td>3</td><td>2016</td><td>&quot;Mobile&quot;</td><td>&quot;MOB&quot;</td><td>&quot;Mobile, AL&quot;</td><td>&quot;Alabama&quot;</td><td>46</td><td>51</td><td>41</td><td>35</td><td>9.73</td><td>92</td></tr></tbody></table></div>"
      ],
      "text/plain": [
       "shape: (3, 15)\n",
       "┌──────────────┬────────────┬────────────┬──────────────┬───┬──────────────┬──────────────┬──────────────┬─────────────┐\n",
       "│ Data.Precipi ┆ Date.Full  ┆ Date.Month ┆ Date.Week of ┆ … ┆ Data.Tempera ┆ Data.Wind.Di ┆ Data.Wind.Sp ┆ Sum_of_temp │\n",
       "│ tation       ┆ ---        ┆ ---        ┆ ---          ┆   ┆ ture.Min     ┆ rection      ┆ eed          ┆ ---         │\n",
       "│ ---          ┆ str        ┆ i64        ┆ i64          ┆   ┆ Temp         ┆ ---          ┆ ---          ┆ i64         │\n",
       "│ f64          ┆            ┆            ┆              ┆   ┆ ---          ┆ i64          ┆ f64          ┆             │\n",
       "│              ┆            ┆            ┆              ┆   ┆ i64          ┆              ┆              ┆             │\n",
       "╞══════════════╪════════════╪════════════╪══════════════╪═══╪══════════════╪══════════════╪══════════════╪═════════════╡\n",
       "│ 0.0          ┆ 2016-01-03 ┆ 1          ┆ 3            ┆ … ┆ 32           ┆ 33           ┆ 4.33         ┆ 78          │\n",
       "│ 0.0          ┆ 2016-01-03 ┆ 1          ┆ 3            ┆ … ┆ 31           ┆ 32           ┆ 3.86         ┆ 78          │\n",
       "│ 0.16         ┆ 2016-01-03 ┆ 1          ┆ 3            ┆ … ┆ 41           ┆ 35           ┆ 9.73         ┆ 92          │\n",
       "└──────────────┴────────────┴────────────┴──────────────┴───┴──────────────┴──────────────┴──────────────┴─────────────┘"
      ]
     },
     "execution_count": 5,
     "metadata": {},
     "output_type": "execute_result"
    }
   ],
   "source": [
    "df.with_columns(df.apply(Calculate_Temperature_Sum, return_dtype= pl.Int64)).rename({\"map\": \"Sum_of_temp\"}).head(3)"
   ]
  }
 ],
 "metadata": {
  "kernelspec": {
   "display_name": "Python 3 (ipykernel)",
   "language": "python",
   "name": "python3"
  },
  "language_info": {
   "codemirror_mode": {
    "name": "ipython",
    "version": 3
   },
   "file_extension": ".py",
   "mimetype": "text/x-python",
   "name": "python",
   "nbconvert_exporter": "python",
   "pygments_lexer": "ipython3",
   "version": "3.12.1"
  }
 },
 "nbformat": 4,
 "nbformat_minor": 5
}
