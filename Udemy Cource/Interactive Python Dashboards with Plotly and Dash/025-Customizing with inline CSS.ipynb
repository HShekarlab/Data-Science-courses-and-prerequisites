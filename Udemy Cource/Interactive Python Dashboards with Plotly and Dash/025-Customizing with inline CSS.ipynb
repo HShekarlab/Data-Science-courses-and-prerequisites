{
 "cells": [
  {
   "cell_type": "code",
   "execution_count": 1,
   "id": "e95adfee-af45-4018-93e7-a79d251d4ce3",
   "metadata": {},
   "outputs": [
    {
     "data": {
      "text/html": [
       "\n",
       "        <iframe\n",
       "            width=\"100%\"\n",
       "            height=\"650\"\n",
       "            src=\"http://127.0.0.1:8050/\"\n",
       "            frameborder=\"0\"\n",
       "            allowfullscreen\n",
       "            \n",
       "        ></iframe>\n",
       "        "
      ],
      "text/plain": [
       "<IPython.lib.display.IFrame at 0x161a60d1010>"
      ]
     },
     "metadata": {},
     "output_type": "display_data"
    }
   ],
   "source": [
    "import pandas as pd\n",
    "from dash import Dash, html, dcc\n",
    "\n",
    "soccer = pd.read_csv(\"fifa_soccer_players.csv\")\n",
    "\n",
    "app = Dash()\n",
    "\n",
    "app.layout = html.Div([\n",
    "    html.H1(\"Soccer Players Dashboard\", style= {\"textAlign\": \"center\", \n",
    "                                                \"fontFamily\": \"fantasy\", \n",
    "                                                \"fontSize\": 50,\n",
    "                                                \"color\": \"blue\"}),\n",
    "    html.P([\"Source: \", \n",
    "            html.A(\"Sofifa\", \n",
    "                   href= \"https://sofifa.com\", \n",
    "                   target= \"_blank\")],\n",
    "           style= {\"border\": \"solid\"}),\n",
    "    html.Label(\"Player Name: \"),\n",
    "    dcc.Dropdown(options= soccer[\"long_name\"].unique(),\n",
    "                 value= soccer[\"long_name\"].unique()[0],\n",
    "                 style= {\"backgroundColor\": \"lightblue\"})\n",
    "],\n",
    "style= {\"padding\": 100, \n",
    "        \"border\": \"solid\"})\n",
    "\n",
    "if __name__ == \"__main__\":\n",
    "    app.run_server(debug= True)"
   ]
  }
 ],
 "metadata": {
  "kernelspec": {
   "display_name": "Python 3 (ipykernel)",
   "language": "python",
   "name": "python3"
  },
  "language_info": {
   "codemirror_mode": {
    "name": "ipython",
    "version": 3
   },
   "file_extension": ".py",
   "mimetype": "text/x-python",
   "name": "python",
   "nbconvert_exporter": "python",
   "pygments_lexer": "ipython3",
   "version": "3.12.1"
  }
 },
 "nbformat": 4,
 "nbformat_minor": 5
}
