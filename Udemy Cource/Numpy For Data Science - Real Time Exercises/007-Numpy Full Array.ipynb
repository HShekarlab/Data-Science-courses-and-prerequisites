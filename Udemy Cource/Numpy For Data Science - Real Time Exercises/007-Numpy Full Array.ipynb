{
 "cells": [
  {
   "cell_type": "markdown",
   "id": "3023ad57-9028-4453-a2aa-07fa8c748b0d",
   "metadata": {},
   "source": [
    "### Full Array - An array in which all values are same (constant)"
   ]
  },
  {
   "cell_type": "markdown",
   "id": "966b80b9-2ceb-4378-8f13-80200ae44605",
   "metadata": {},
   "source": [
    "### F = np.full(shape, fill_value)"
   ]
  },
  {
   "cell_type": "markdown",
   "id": "0e8ebf4b-ece9-4268-9dde-5c9d388e0502",
   "metadata": {},
   "source": [
    "- We can define the shape, and pass the value to be filled in the 'Full Arrays'.\n",
    "- We can create 1-D, 2-D, as well as 3-D Full Array, with integer, float or string values.\n",
    "- The default data-type is Integer.\n",
    "\r\n"
   ]
  },
  {
   "cell_type": "markdown",
   "id": "30dad5af-bd46-4220-be78-f9bbd2a6ea87",
   "metadata": {},
   "source": [
    "* ndim - to check the dimension of the array\n",
    "* shape - to check the shape of the array\n",
    "* size - to check the size of the array"
   ]
  },
  {
   "cell_type": "code",
   "execution_count": 1,
   "id": "71c270ec-ee87-4bbc-81f6-7387165498be",
   "metadata": {},
   "outputs": [],
   "source": [
    "import numpy as np"
   ]
  },
  {
   "cell_type": "markdown",
   "id": "1b7a8e5a-7a3b-4a7f-a14f-6011fef41005",
   "metadata": {},
   "source": [
    "**1 D**"
   ]
  },
  {
   "cell_type": "code",
   "execution_count": 2,
   "id": "8116bab7-1655-466b-9510-3febf4b15178",
   "metadata": {},
   "outputs": [
    {
     "ename": "TypeError",
     "evalue": "full() missing 1 required positional argument: 'fill_value'",
     "output_type": "error",
     "traceback": [
      "\u001b[1;31m---------------------------------------------------------------------------\u001b[0m",
      "\u001b[1;31mTypeError\u001b[0m                                 Traceback (most recent call last)",
      "Cell \u001b[1;32mIn[2], line 1\u001b[0m\n\u001b[1;32m----> 1\u001b[0m f_1 \u001b[38;5;241m=\u001b[39m \u001b[43mnp\u001b[49m\u001b[38;5;241;43m.\u001b[39;49m\u001b[43mfull\u001b[49m\u001b[43m(\u001b[49m\u001b[38;5;241;43m3\u001b[39;49m\u001b[43m)\u001b[49m\n\u001b[0;32m      2\u001b[0m f_1\n",
      "\u001b[1;31mTypeError\u001b[0m: full() missing 1 required positional argument: 'fill_value'"
     ]
    }
   ],
   "source": [
    "f_1 = np.full(3)\n",
    "f_1"
   ]
  },
  {
   "cell_type": "code",
   "execution_count": 3,
   "id": "b8075aeb-e392-4f7a-b087-c9ff823499b7",
   "metadata": {},
   "outputs": [
    {
     "data": {
      "text/plain": [
       "array([45, 45, 45])"
      ]
     },
     "execution_count": 3,
     "metadata": {},
     "output_type": "execute_result"
    }
   ],
   "source": [
    "f_1 = np.full(3, 45)\n",
    "f_1"
   ]
  },
  {
   "cell_type": "code",
   "execution_count": 4,
   "id": "39fdd8db-c962-4fc6-81a5-80d2ea8c2b41",
   "metadata": {},
   "outputs": [
    {
     "data": {
      "text/plain": [
       "array([79., 79., 79., 79.])"
      ]
     },
     "execution_count": 4,
     "metadata": {},
     "output_type": "execute_result"
    }
   ],
   "source": [
    "f_1 = np.full(4, 79, dtype= float)\n",
    "f_1"
   ]
  },
  {
   "cell_type": "code",
   "execution_count": 5,
   "id": "cfe3e78a-29aa-42e7-8f16-ea51af1f942c",
   "metadata": {},
   "outputs": [
    {
     "data": {
      "text/plain": [
       "array([61.23, 61.23, 61.23, 61.23, 61.23])"
      ]
     },
     "execution_count": 5,
     "metadata": {},
     "output_type": "execute_result"
    }
   ],
   "source": [
    "f_1 = np.full(5, 61.23)\n",
    "f_1"
   ]
  },
  {
   "cell_type": "code",
   "execution_count": 6,
   "id": "cf2f70a8-65f9-47c6-8ba6-6cb48e16a135",
   "metadata": {},
   "outputs": [
    {
     "data": {
      "text/plain": [
       "numpy.ndarray"
      ]
     },
     "execution_count": 6,
     "metadata": {},
     "output_type": "execute_result"
    }
   ],
   "source": [
    "type(f_1)"
   ]
  },
  {
   "cell_type": "code",
   "execution_count": 7,
   "id": "b09515c8-ad90-45e3-b7f5-aac69a2eddf3",
   "metadata": {},
   "outputs": [
    {
     "data": {
      "text/plain": [
       "(5,)"
      ]
     },
     "execution_count": 7,
     "metadata": {},
     "output_type": "execute_result"
    }
   ],
   "source": [
    "f_1.shape"
   ]
  },
  {
   "cell_type": "code",
   "execution_count": 8,
   "id": "5ccc075b-0933-4892-910d-43f493a0e5c7",
   "metadata": {},
   "outputs": [
    {
     "data": {
      "text/plain": [
       "1"
      ]
     },
     "execution_count": 8,
     "metadata": {},
     "output_type": "execute_result"
    }
   ],
   "source": [
    "f_1.ndim"
   ]
  },
  {
   "cell_type": "markdown",
   "id": "23cd3fad-f31a-41ac-a0ea-66e89462983a",
   "metadata": {},
   "source": [
    "**2 D**"
   ]
  },
  {
   "cell_type": "code",
   "execution_count": 9,
   "id": "14bac6f5-571a-46d8-bf72-9f804bcd5e18",
   "metadata": {},
   "outputs": [
    {
     "data": {
      "text/plain": [
       "array([[91, 91, 91, 91],\n",
       "       [91, 91, 91, 91]])"
      ]
     },
     "execution_count": 9,
     "metadata": {},
     "output_type": "execute_result"
    }
   ],
   "source": [
    "f_2 = np.full((2, 4), 91)\n",
    "f_2"
   ]
  },
  {
   "cell_type": "code",
   "execution_count": 10,
   "id": "915fa7af-1eb4-474c-8472-a9ffb5526cc6",
   "metadata": {},
   "outputs": [
    {
     "data": {
      "text/plain": [
       "array([[26, 26, 26, 26],\n",
       "       [26, 26, 26, 26]])"
      ]
     },
     "execution_count": 10,
     "metadata": {},
     "output_type": "execute_result"
    }
   ],
   "source": [
    "f_2 = np.full((2, 4), 26.47, dtype= int)\n",
    "f_2"
   ]
  },
  {
   "cell_type": "code",
   "execution_count": 11,
   "id": "12f6641c-bd64-42e8-af8c-a929f7336b43",
   "metadata": {},
   "outputs": [
    {
     "data": {
      "text/plain": [
       "(2, 4)"
      ]
     },
     "execution_count": 11,
     "metadata": {},
     "output_type": "execute_result"
    }
   ],
   "source": [
    "f_2.shape"
   ]
  },
  {
   "cell_type": "code",
   "execution_count": 12,
   "id": "f4d0b129-21ab-484f-94f3-35adbbac240a",
   "metadata": {},
   "outputs": [
    {
     "data": {
      "text/plain": [
       "2"
      ]
     },
     "execution_count": 12,
     "metadata": {},
     "output_type": "execute_result"
    }
   ],
   "source": [
    "f_2.ndim"
   ]
  },
  {
   "cell_type": "code",
   "execution_count": 13,
   "id": "20fdfb89-5a2b-4463-bc24-56fff658622c",
   "metadata": {},
   "outputs": [
    {
     "data": {
      "text/plain": [
       "array([['4', '4', '4'],\n",
       "       ['4', '4', '4']], dtype='<U1')"
      ]
     },
     "execution_count": 13,
     "metadata": {},
     "output_type": "execute_result"
    }
   ],
   "source": [
    "np.full((2, 3), 46.11, dtype= str)"
   ]
  },
  {
   "cell_type": "code",
   "execution_count": 14,
   "id": "80972c11-ed6e-46ed-83c4-8305b0988384",
   "metadata": {},
   "outputs": [
    {
     "data": {
      "text/plain": [
       "array([['9', '9', '9', '9'],\n",
       "       ['9', '9', '9', '9']], dtype='<U1')"
      ]
     },
     "execution_count": 14,
     "metadata": {},
     "output_type": "execute_result"
    }
   ],
   "source": [
    "np.full((2, 4), 9539846.11, dtype= str)"
   ]
  },
  {
   "cell_type": "code",
   "execution_count": 15,
   "id": "69312477-d33d-4349-9403-4afb6f299713",
   "metadata": {},
   "outputs": [
    {
     "data": {
      "text/plain": [
       "array([['9', '9', '9', '9'],\n",
       "       ['9', '9', '9', '9']], dtype='<U1')"
      ]
     },
     "execution_count": 15,
     "metadata": {},
     "output_type": "execute_result"
    }
   ],
   "source": [
    "np.full((2, 4), \"9539846.11\", dtype= str)"
   ]
  },
  {
   "cell_type": "code",
   "execution_count": 16,
   "id": "c12cd6d9-ecce-4c27-89be-5725b2e631ee",
   "metadata": {},
   "outputs": [
    {
     "data": {
      "text/plain": [
       "array([['9539846.11', '9539846.11', '9539846.11', '9539846.11'],\n",
       "       ['9539846.11', '9539846.11', '9539846.11', '9539846.11']],\n",
       "      dtype='<U10')"
      ]
     },
     "execution_count": 16,
     "metadata": {},
     "output_type": "execute_result"
    }
   ],
   "source": [
    "np.full((2, 4), \"9539846.11\")"
   ]
  },
  {
   "cell_type": "markdown",
   "id": "8e13e351-b667-4521-9fee-bc8f604d4e1b",
   "metadata": {},
   "source": [
    "**3 D**"
   ]
  },
  {
   "cell_type": "code",
   "execution_count": 17,
   "id": "f1ccc6c1-2278-41e5-9764-7addee82d74b",
   "metadata": {},
   "outputs": [
    {
     "data": {
      "text/plain": [
       "array([[['Python', 'Python', 'Python', 'Python'],\n",
       "        ['Python', 'Python', 'Python', 'Python'],\n",
       "        ['Python', 'Python', 'Python', 'Python']],\n",
       "\n",
       "       [['Python', 'Python', 'Python', 'Python'],\n",
       "        ['Python', 'Python', 'Python', 'Python'],\n",
       "        ['Python', 'Python', 'Python', 'Python']]], dtype='<U6')"
      ]
     },
     "execution_count": 17,
     "metadata": {},
     "output_type": "execute_result"
    }
   ],
   "source": [
    "f_3 = np.full((2, 3, 4), \"Python\")\n",
    "f_3"
   ]
  },
  {
   "cell_type": "code",
   "execution_count": 18,
   "id": "af43ca85-64a2-4c20-b97c-e460268d0dc1",
   "metadata": {},
   "outputs": [
    {
     "data": {
      "text/plain": [
       "(2, 3, 4)"
      ]
     },
     "execution_count": 18,
     "metadata": {},
     "output_type": "execute_result"
    }
   ],
   "source": [
    "f_3.shape"
   ]
  },
  {
   "cell_type": "code",
   "execution_count": 19,
   "id": "d65b43d1-3470-4723-84d6-cf42904402b4",
   "metadata": {},
   "outputs": [
    {
     "data": {
      "text/plain": [
       "3"
      ]
     },
     "execution_count": 19,
     "metadata": {},
     "output_type": "execute_result"
    }
   ],
   "source": [
    "f_3.ndim"
   ]
  },
  {
   "cell_type": "code",
   "execution_count": 20,
   "id": "9b9219dc-c248-4d51-80f6-f7bd9cbae442",
   "metadata": {},
   "outputs": [
    {
     "data": {
      "text/plain": [
       "24"
      ]
     },
     "execution_count": 20,
     "metadata": {},
     "output_type": "execute_result"
    }
   ],
   "source": [
    "f_3.size"
   ]
  }
 ],
 "metadata": {
  "kernelspec": {
   "display_name": "Python 3 (ipykernel)",
   "language": "python",
   "name": "python3"
  },
  "language_info": {
   "codemirror_mode": {
    "name": "ipython",
    "version": 3
   },
   "file_extension": ".py",
   "mimetype": "text/x-python",
   "name": "python",
   "nbconvert_exporter": "python",
   "pygments_lexer": "ipython3",
   "version": "3.10.7"
  }
 },
 "nbformat": 4,
 "nbformat_minor": 5
}
