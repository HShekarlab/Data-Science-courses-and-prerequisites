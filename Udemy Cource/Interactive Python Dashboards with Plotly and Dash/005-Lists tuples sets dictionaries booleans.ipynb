{
 "cells": [
  {
   "cell_type": "markdown",
   "id": "11545b8d-96b3-4e1a-8cf4-caef2296bd17",
   "metadata": {},
   "source": [
    "**List**"
   ]
  },
  {
   "cell_type": "code",
   "execution_count": 1,
   "id": "a9e5a97a-646e-415c-97f1-81d3ab77ee58",
   "metadata": {},
   "outputs": [],
   "source": [
    "lst_1 = [1, 2, 3]\n",
    "lst_2 = [1, \"hello\", 2.6, \"test\"]"
   ]
  },
  {
   "cell_type": "code",
   "execution_count": 2,
   "id": "370d1859-5b40-427b-a6a1-71aaeac1e303",
   "metadata": {},
   "outputs": [
    {
     "data": {
      "text/plain": [
       "[1, 2, 3]"
      ]
     },
     "execution_count": 2,
     "metadata": {},
     "output_type": "execute_result"
    }
   ],
   "source": [
    "lst_1"
   ]
  },
  {
   "cell_type": "code",
   "execution_count": 3,
   "id": "8093ddd9-85b1-4fa3-8d98-f9106b255891",
   "metadata": {},
   "outputs": [
    {
     "data": {
      "text/plain": [
       "[1, 'hello', 2.6, 'test']"
      ]
     },
     "execution_count": 3,
     "metadata": {},
     "output_type": "execute_result"
    }
   ],
   "source": [
    "lst_2"
   ]
  },
  {
   "cell_type": "code",
   "execution_count": 4,
   "id": "25b84fcf-6ed2-4f4c-b3c4-52565ec5d391",
   "metadata": {},
   "outputs": [
    {
     "data": {
      "text/plain": [
       "1"
      ]
     },
     "execution_count": 4,
     "metadata": {},
     "output_type": "execute_result"
    }
   ],
   "source": [
    "lst_1[0]"
   ]
  },
  {
   "cell_type": "code",
   "execution_count": 5,
   "id": "099e38f2-a27b-4574-9347-e4051278e575",
   "metadata": {},
   "outputs": [
    {
     "data": {
      "text/plain": [
       "[2, 3]"
      ]
     },
     "execution_count": 5,
     "metadata": {},
     "output_type": "execute_result"
    }
   ],
   "source": [
    "lst_1[1:]"
   ]
  },
  {
   "cell_type": "code",
   "execution_count": 6,
   "id": "5ef63e10-dc7c-499a-abf1-df1271d4f85b",
   "metadata": {},
   "outputs": [
    {
     "data": {
      "text/plain": [
       "4"
      ]
     },
     "execution_count": 6,
     "metadata": {},
     "output_type": "execute_result"
    }
   ],
   "source": [
    "len(lst_2)"
   ]
  },
  {
   "cell_type": "code",
   "execution_count": 7,
   "id": "1d152bcd-c4d2-4843-9e6e-86dd6eaec5f2",
   "metadata": {},
   "outputs": [
    {
     "data": {
      "text/plain": [
       "[1, 2, 3, 1, 'hello', 2.6, 'test']"
      ]
     },
     "execution_count": 7,
     "metadata": {},
     "output_type": "execute_result"
    }
   ],
   "source": [
    "lst_1 + lst_2"
   ]
  },
  {
   "cell_type": "code",
   "execution_count": 8,
   "id": "f8ac3bb7-fe46-45e8-b4c8-b0c9c4c5c08c",
   "metadata": {},
   "outputs": [
    {
     "data": {
      "text/plain": [
       "'hello'"
      ]
     },
     "execution_count": 8,
     "metadata": {},
     "output_type": "execute_result"
    }
   ],
   "source": [
    "lst_2[1]"
   ]
  },
  {
   "cell_type": "code",
   "execution_count": 9,
   "id": "883b45c6-ed15-454e-aac7-bd944f1d8a66",
   "metadata": {},
   "outputs": [
    {
     "data": {
      "text/plain": [
       "5"
      ]
     },
     "execution_count": 9,
     "metadata": {},
     "output_type": "execute_result"
    }
   ],
   "source": [
    "len(lst_2[1])"
   ]
  },
  {
   "cell_type": "code",
   "execution_count": 10,
   "id": "30f0ef69-cadd-49ff-92d6-74384be62fd8",
   "metadata": {},
   "outputs": [],
   "source": [
    "lst_1.append(4)"
   ]
  },
  {
   "cell_type": "code",
   "execution_count": 11,
   "id": "2e989538-a3cf-4880-92e0-5c7fbb54b412",
   "metadata": {},
   "outputs": [
    {
     "data": {
      "text/plain": [
       "[1, 2, 3, 4]"
      ]
     },
     "execution_count": 11,
     "metadata": {},
     "output_type": "execute_result"
    }
   ],
   "source": [
    "lst_1"
   ]
  },
  {
   "cell_type": "code",
   "execution_count": 12,
   "id": "b4623715-1c2f-470a-874b-fce8a99b4606",
   "metadata": {},
   "outputs": [
    {
     "data": {
      "text/plain": [
       "4"
      ]
     },
     "execution_count": 12,
     "metadata": {},
     "output_type": "execute_result"
    }
   ],
   "source": [
    "lst_1.pop()"
   ]
  },
  {
   "cell_type": "code",
   "execution_count": 13,
   "id": "3d59362c-022e-43fc-a3d2-149f602c8db4",
   "metadata": {},
   "outputs": [
    {
     "data": {
      "text/plain": [
       "[1, 2, 3]"
      ]
     },
     "execution_count": 13,
     "metadata": {},
     "output_type": "execute_result"
    }
   ],
   "source": [
    "lst_1"
   ]
  },
  {
   "cell_type": "code",
   "execution_count": 14,
   "id": "636dceb9-59b6-428d-a386-67f2595d3ea8",
   "metadata": {},
   "outputs": [
    {
     "data": {
      "text/plain": [
       "1"
      ]
     },
     "execution_count": 14,
     "metadata": {},
     "output_type": "execute_result"
    }
   ],
   "source": [
    "lst_1.pop(0)"
   ]
  },
  {
   "cell_type": "code",
   "execution_count": 15,
   "id": "1e1d9405-c097-4fa9-b651-6b442350ada9",
   "metadata": {},
   "outputs": [
    {
     "data": {
      "text/plain": [
       "[2, 3]"
      ]
     },
     "execution_count": 15,
     "metadata": {},
     "output_type": "execute_result"
    }
   ],
   "source": [
    "lst_1"
   ]
  },
  {
   "cell_type": "code",
   "execution_count": 16,
   "id": "ca5a8f69-4f46-4d81-abf5-a7e85f29feb9",
   "metadata": {},
   "outputs": [],
   "source": [
    "lst_str = [\"a\", \"e\", \"x\", \"b\", \"c\"]\n",
    "lst_num = [2, 1, 5, 3]"
   ]
  },
  {
   "cell_type": "code",
   "execution_count": 17,
   "id": "68672c0e-4c50-4c41-978e-cfa90fd4e4fc",
   "metadata": {},
   "outputs": [],
   "source": [
    "lst_str.sort()\n",
    "lst_num.sort()"
   ]
  },
  {
   "cell_type": "code",
   "execution_count": 18,
   "id": "b43ca617-b03a-4d16-9f56-a845965a733a",
   "metadata": {},
   "outputs": [
    {
     "data": {
      "text/plain": [
       "1"
      ]
     },
     "execution_count": 18,
     "metadata": {},
     "output_type": "execute_result"
    }
   ],
   "source": [
    "min(lst_num)"
   ]
  },
  {
   "cell_type": "code",
   "execution_count": 19,
   "id": "3ba02169-329b-465f-bf66-07968d713e60",
   "metadata": {},
   "outputs": [
    {
     "data": {
      "text/plain": [
       "5"
      ]
     },
     "execution_count": 19,
     "metadata": {},
     "output_type": "execute_result"
    }
   ],
   "source": [
    "max(lst_num)"
   ]
  },
  {
   "cell_type": "markdown",
   "id": "15332f9a-e8db-4e38-8da2-81155ff66b06",
   "metadata": {},
   "source": [
    "**Tuple**"
   ]
  },
  {
   "cell_type": "code",
   "execution_count": 20,
   "id": "78abbef4-41f8-457b-a171-d6acdae54e18",
   "metadata": {},
   "outputs": [],
   "source": [
    "t_1 = (1, 2, 3)"
   ]
  },
  {
   "cell_type": "code",
   "execution_count": 21,
   "id": "bff3141c-2971-4e84-b90e-2b900c35d2ba",
   "metadata": {},
   "outputs": [
    {
     "data": {
      "text/plain": [
       "[2, 3]"
      ]
     },
     "execution_count": 21,
     "metadata": {},
     "output_type": "execute_result"
    }
   ],
   "source": [
    "lst_1"
   ]
  },
  {
   "cell_type": "code",
   "execution_count": 22,
   "id": "6366a040-537b-4924-a7fd-369051cc3fbc",
   "metadata": {},
   "outputs": [],
   "source": [
    "lst_1[0] = \"A5\""
   ]
  },
  {
   "cell_type": "code",
   "execution_count": 23,
   "id": "da682837-4a64-4c03-8f52-f1d3258cbc33",
   "metadata": {},
   "outputs": [
    {
     "data": {
      "text/plain": [
       "['A5', 3]"
      ]
     },
     "execution_count": 23,
     "metadata": {},
     "output_type": "execute_result"
    }
   ],
   "source": [
    "lst_1"
   ]
  },
  {
   "cell_type": "code",
   "execution_count": 24,
   "id": "cc61345d-31d4-4f08-a958-30e8d649af0e",
   "metadata": {},
   "outputs": [
    {
     "data": {
      "text/plain": [
       "1"
      ]
     },
     "execution_count": 24,
     "metadata": {},
     "output_type": "execute_result"
    }
   ],
   "source": [
    "t_1[0]"
   ]
  },
  {
   "cell_type": "code",
   "execution_count": 25,
   "id": "b1a3f00e-773b-42b6-9319-40b91380dda6",
   "metadata": {},
   "outputs": [
    {
     "ename": "TypeError",
     "evalue": "'tuple' object does not support item assignment",
     "output_type": "error",
     "traceback": [
      "\u001b[1;31m---------------------------------------------------------------------------\u001b[0m",
      "\u001b[1;31mTypeError\u001b[0m                                 Traceback (most recent call last)",
      "Cell \u001b[1;32mIn[25], line 1\u001b[0m\n\u001b[1;32m----> 1\u001b[0m \u001b[43mt_1\u001b[49m\u001b[43m[\u001b[49m\u001b[38;5;241;43m0\u001b[39;49m\u001b[43m]\u001b[49m \u001b[38;5;241m=\u001b[39m \u001b[38;5;124m\"\u001b[39m\u001b[38;5;124mB7\u001b[39m\u001b[38;5;124m\"\u001b[39m\n",
      "\u001b[1;31mTypeError\u001b[0m: 'tuple' object does not support item assignment"
     ]
    }
   ],
   "source": [
    "t_1[0] = \"B7\""
   ]
  },
  {
   "cell_type": "markdown",
   "id": "479271c5-210e-46f8-bc7b-ce048995cd23",
   "metadata": {},
   "source": [
    "**Set**"
   ]
  },
  {
   "cell_type": "code",
   "execution_count": 26,
   "id": "6d361e03-77f5-4d03-bd62-e05952a5caeb",
   "metadata": {},
   "outputs": [],
   "source": [
    "s_1 = {1, 2, 3}"
   ]
  },
  {
   "cell_type": "code",
   "execution_count": 27,
   "id": "2f4d9326-f173-4176-be61-39db2d71aad2",
   "metadata": {},
   "outputs": [
    {
     "data": {
      "text/plain": [
       "{1, 2, 3}"
      ]
     },
     "execution_count": 27,
     "metadata": {},
     "output_type": "execute_result"
    }
   ],
   "source": [
    "s_1"
   ]
  },
  {
   "cell_type": "code",
   "execution_count": 28,
   "id": "dde13a72-3818-47f0-9472-df31ada097c1",
   "metadata": {},
   "outputs": [],
   "source": [
    "s_2 = set([1, 2, 3])"
   ]
  },
  {
   "cell_type": "code",
   "execution_count": 29,
   "id": "8bbdbf44-98ff-412c-b033-621185d4e387",
   "metadata": {},
   "outputs": [
    {
     "data": {
      "text/plain": [
       "{1, 2, 3}"
      ]
     },
     "execution_count": 29,
     "metadata": {},
     "output_type": "execute_result"
    }
   ],
   "source": [
    "s_2"
   ]
  },
  {
   "cell_type": "code",
   "execution_count": 30,
   "id": "da8eedfa-7021-4eee-a843-9783fd767c4f",
   "metadata": {},
   "outputs": [
    {
     "data": {
      "text/plain": [
       "set"
      ]
     },
     "execution_count": 30,
     "metadata": {},
     "output_type": "execute_result"
    }
   ],
   "source": [
    "type(s_2)"
   ]
  },
  {
   "cell_type": "code",
   "execution_count": 31,
   "id": "9e78f9da-572a-4487-9a27-b3a8158891f4",
   "metadata": {},
   "outputs": [],
   "source": [
    "s_1.add(4)"
   ]
  },
  {
   "cell_type": "code",
   "execution_count": 32,
   "id": "37673e35-136f-4be0-bf86-f67d9bd64ae1",
   "metadata": {},
   "outputs": [
    {
     "data": {
      "text/plain": [
       "{1, 2, 3, 4}"
      ]
     },
     "execution_count": 32,
     "metadata": {},
     "output_type": "execute_result"
    }
   ],
   "source": [
    "s_1"
   ]
  },
  {
   "cell_type": "code",
   "execution_count": 33,
   "id": "6a8e4977-701a-4049-ba6a-116d6363d5d9",
   "metadata": {},
   "outputs": [],
   "source": [
    "s_1.add(2)"
   ]
  },
  {
   "cell_type": "code",
   "execution_count": 34,
   "id": "e291e1a2-a1b6-4311-ad61-8d513c6d01b1",
   "metadata": {},
   "outputs": [
    {
     "data": {
      "text/plain": [
       "{1, 2, 3, 4}"
      ]
     },
     "execution_count": 34,
     "metadata": {},
     "output_type": "execute_result"
    }
   ],
   "source": [
    "s_1"
   ]
  },
  {
   "cell_type": "code",
   "execution_count": 35,
   "id": "069a6c36-e8dc-4e71-bb0e-5665a8d0a485",
   "metadata": {},
   "outputs": [
    {
     "data": {
      "text/plain": [
       "{4}"
      ]
     },
     "execution_count": 35,
     "metadata": {},
     "output_type": "execute_result"
    }
   ],
   "source": [
    "s_1 - s_2"
   ]
  },
  {
   "cell_type": "code",
   "execution_count": 36,
   "id": "4867cf44-4237-47c6-92ec-e298e7686326",
   "metadata": {},
   "outputs": [
    {
     "data": {
      "text/plain": [
       "{1, 2, 3}"
      ]
     },
     "execution_count": 36,
     "metadata": {},
     "output_type": "execute_result"
    }
   ],
   "source": [
    "s_1 & s_2"
   ]
  },
  {
   "cell_type": "code",
   "execution_count": 37,
   "id": "ced6c8e5-907c-4b05-a186-a5ed30a1ba5f",
   "metadata": {},
   "outputs": [
    {
     "data": {
      "text/plain": [
       "{1, 2, 3, 4}"
      ]
     },
     "execution_count": 37,
     "metadata": {},
     "output_type": "execute_result"
    }
   ],
   "source": [
    "s_1 | s_2"
   ]
  },
  {
   "cell_type": "markdown",
   "id": "d47b8a97-8a82-4ec8-af95-cbd948d2a991",
   "metadata": {},
   "source": [
    "**Dictionary**"
   ]
  },
  {
   "cell_type": "code",
   "execution_count": 38,
   "id": "722f793b-9eb6-479c-8e9c-5a6a3b787e1b",
   "metadata": {},
   "outputs": [],
   "source": [
    "d_1 = {\"k_1\": \"value_1\",\n",
    "       \"k_2\": \"value_2\"}"
   ]
  },
  {
   "cell_type": "code",
   "execution_count": 39,
   "id": "acc47c67-7ea6-445b-9655-6b77c51f6d9a",
   "metadata": {},
   "outputs": [
    {
     "data": {
      "text/plain": [
       "{'k_1': 'value_1', 'k_2': 'value_2'}"
      ]
     },
     "execution_count": 39,
     "metadata": {},
     "output_type": "execute_result"
    }
   ],
   "source": [
    "d_1"
   ]
  },
  {
   "cell_type": "code",
   "execution_count": 40,
   "id": "e9694355-a5c6-492c-a3ac-5b2c7b40f68b",
   "metadata": {},
   "outputs": [
    {
     "data": {
      "text/plain": [
       "'value_1'"
      ]
     },
     "execution_count": 40,
     "metadata": {},
     "output_type": "execute_result"
    }
   ],
   "source": [
    "d_1[\"k_1\"]"
   ]
  },
  {
   "cell_type": "code",
   "execution_count": 41,
   "id": "af6d1ad7-236a-4bcc-add4-79dc9771f674",
   "metadata": {},
   "outputs": [],
   "source": [
    "d_2 = {\"k_1\": 123,\n",
    "       \"k_2\": [1, 2, 3],\n",
    "       \"k_3\": {\"price\": 100}\n",
    "      }"
   ]
  },
  {
   "cell_type": "code",
   "execution_count": 42,
   "id": "bf40d7a5-b18f-48f3-9d0e-fcadfd194f64",
   "metadata": {},
   "outputs": [
    {
     "data": {
      "text/plain": [
       "{'k_1': 123, 'k_2': [1, 2, 3], 'k_3': {'price': 100}}"
      ]
     },
     "execution_count": 42,
     "metadata": {},
     "output_type": "execute_result"
    }
   ],
   "source": [
    "d_2"
   ]
  },
  {
   "cell_type": "code",
   "execution_count": 43,
   "id": "00cc87ad-9272-42bc-92fe-5ffe7197bd6f",
   "metadata": {},
   "outputs": [
    {
     "data": {
      "text/plain": [
       "[1, 2, 3]"
      ]
     },
     "execution_count": 43,
     "metadata": {},
     "output_type": "execute_result"
    }
   ],
   "source": [
    "d_2[\"k_2\"]"
   ]
  },
  {
   "cell_type": "code",
   "execution_count": 44,
   "id": "6553ca18-04cc-4c5f-ae9b-4aa09848fdef",
   "metadata": {},
   "outputs": [
    {
     "data": {
      "text/plain": [
       "100"
      ]
     },
     "execution_count": 44,
     "metadata": {},
     "output_type": "execute_result"
    }
   ],
   "source": [
    "d_2[\"k_3\"][\"price\"]"
   ]
  },
  {
   "cell_type": "code",
   "execution_count": 45,
   "id": "54840124-7951-4b1c-96a0-7d7ee78a0661",
   "metadata": {},
   "outputs": [],
   "source": [
    "d_2[\"k_4\"] = 561"
   ]
  },
  {
   "cell_type": "code",
   "execution_count": 46,
   "id": "c2fffe82-ad59-4eda-8416-d1e84d49d098",
   "metadata": {},
   "outputs": [
    {
     "data": {
      "text/plain": [
       "{'k_1': 123, 'k_2': [1, 2, 3], 'k_3': {'price': 100}, 'k_4': 561}"
      ]
     },
     "execution_count": 46,
     "metadata": {},
     "output_type": "execute_result"
    }
   ],
   "source": [
    "d_2"
   ]
  },
  {
   "cell_type": "markdown",
   "id": "b6efd63d-ed68-430d-a144-4c42ae2fafa7",
   "metadata": {},
   "source": [
    "**Boolean**"
   ]
  },
  {
   "cell_type": "code",
   "execution_count": 47,
   "id": "91aef512-b8a0-4d63-95ed-20114256ef16",
   "metadata": {},
   "outputs": [
    {
     "data": {
      "text/plain": [
       "False"
      ]
     },
     "execution_count": 47,
     "metadata": {},
     "output_type": "execute_result"
    }
   ],
   "source": [
    "1 == 0"
   ]
  },
  {
   "cell_type": "code",
   "execution_count": 48,
   "id": "51dffa98-54df-425b-887c-8ae6713049bf",
   "metadata": {},
   "outputs": [
    {
     "data": {
      "text/plain": [
       "True"
      ]
     },
     "execution_count": 48,
     "metadata": {},
     "output_type": "execute_result"
    }
   ],
   "source": [
    "1 == 1"
   ]
  },
  {
   "cell_type": "code",
   "execution_count": 49,
   "id": "369b76f0-5898-4255-85bd-1f4a07bccb9c",
   "metadata": {},
   "outputs": [
    {
     "data": {
      "text/plain": [
       "False"
      ]
     },
     "execution_count": 49,
     "metadata": {},
     "output_type": "execute_result"
    }
   ],
   "source": [
    "\"Data\" == \"data\""
   ]
  },
  {
   "cell_type": "code",
   "execution_count": 50,
   "id": "2575346e-896f-4411-b32b-f5e62688b427",
   "metadata": {},
   "outputs": [
    {
     "data": {
      "text/plain": [
       "False"
      ]
     },
     "execution_count": 50,
     "metadata": {},
     "output_type": "execute_result"
    }
   ],
   "source": [
    "\"7\" == 7"
   ]
  },
  {
   "cell_type": "code",
   "execution_count": 51,
   "id": "735609aa-451c-4802-a395-74108408ddab",
   "metadata": {},
   "outputs": [
    {
     "data": {
      "text/plain": [
       "False"
      ]
     },
     "execution_count": 51,
     "metadata": {},
     "output_type": "execute_result"
    }
   ],
   "source": [
    "1 > 3"
   ]
  },
  {
   "cell_type": "code",
   "execution_count": 52,
   "id": "42a84101-7fde-4968-b111-64729630fa20",
   "metadata": {},
   "outputs": [
    {
     "data": {
      "text/plain": [
       "True"
      ]
     },
     "execution_count": 52,
     "metadata": {},
     "output_type": "execute_result"
    }
   ],
   "source": [
    "2 <= 2"
   ]
  },
  {
   "cell_type": "code",
   "execution_count": 53,
   "id": "5016835e-7a04-4028-b6d0-771ae0e4d244",
   "metadata": {},
   "outputs": [
    {
     "data": {
      "text/plain": [
       "True"
      ]
     },
     "execution_count": 53,
     "metadata": {},
     "output_type": "execute_result"
    }
   ],
   "source": [
    "6 != 66"
   ]
  },
  {
   "cell_type": "code",
   "execution_count": 54,
   "id": "09b1a6c6-c366-4a0b-b3b4-31c5eb85bda0",
   "metadata": {},
   "outputs": [
    {
     "data": {
      "text/plain": [
       "True"
      ]
     },
     "execution_count": 54,
     "metadata": {},
     "output_type": "execute_result"
    }
   ],
   "source": [
    "\"S\" == \"S\" and \"9\" == \"9\""
   ]
  },
  {
   "cell_type": "code",
   "execution_count": 55,
   "id": "ead015a5-1c67-4a31-84fd-72ec1d5aa4e6",
   "metadata": {},
   "outputs": [
    {
     "data": {
      "text/plain": [
       "True"
      ]
     },
     "execution_count": 55,
     "metadata": {},
     "output_type": "execute_result"
    }
   ],
   "source": [
    "1 == 1 or 2 == 6"
   ]
  },
  {
   "cell_type": "code",
   "execution_count": 56,
   "id": "235dc88d-68d4-41a2-981e-52a26d2f0666",
   "metadata": {},
   "outputs": [
    {
     "data": {
      "text/plain": [
       "True"
      ]
     },
     "execution_count": 56,
     "metadata": {},
     "output_type": "execute_result"
    }
   ],
   "source": [
    "1 == 1"
   ]
  },
  {
   "cell_type": "code",
   "execution_count": 57,
   "id": "186f34c1-619b-418d-beb8-fabc66cc7c75",
   "metadata": {},
   "outputs": [
    {
     "data": {
      "text/plain": [
       "False"
      ]
     },
     "execution_count": 57,
     "metadata": {},
     "output_type": "execute_result"
    }
   ],
   "source": [
    "not(1 == 1)"
   ]
  },
  {
   "cell_type": "code",
   "execution_count": 58,
   "id": "96706d95-8a45-4375-83a5-d62603e6a1b2",
   "metadata": {},
   "outputs": [
    {
     "data": {
      "text/plain": [
       "True"
      ]
     },
     "execution_count": 58,
     "metadata": {},
     "output_type": "execute_result"
    }
   ],
   "source": [
    "\"x\" in [\"x\", \"d\"]"
   ]
  },
  {
   "cell_type": "code",
   "execution_count": 59,
   "id": "2319580a-aa57-4708-8bbe-7650f2cd763a",
   "metadata": {},
   "outputs": [
    {
     "data": {
      "text/plain": [
       "False"
      ]
     },
     "execution_count": 59,
     "metadata": {},
     "output_type": "execute_result"
    }
   ],
   "source": [
    "\"data\" not in \"data science\""
   ]
  },
  {
   "cell_type": "code",
   "execution_count": 60,
   "id": "610fff78-0975-444a-8b7a-3df028df0b6b",
   "metadata": {},
   "outputs": [],
   "source": [
    "phone_dict = {\"mary\": 123456}"
   ]
  },
  {
   "cell_type": "code",
   "execution_count": 61,
   "id": "0512a36f-72a1-4a4e-838c-6318f9c930a8",
   "metadata": {},
   "outputs": [
    {
     "data": {
      "text/plain": [
       "True"
      ]
     },
     "execution_count": 61,
     "metadata": {},
     "output_type": "execute_result"
    }
   ],
   "source": [
    "\"mary\" in phone_dict"
   ]
  }
 ],
 "metadata": {
  "kernelspec": {
   "display_name": "Python 3 (ipykernel)",
   "language": "python",
   "name": "python3"
  },
  "language_info": {
   "codemirror_mode": {
    "name": "ipython",
    "version": 3
   },
   "file_extension": ".py",
   "mimetype": "text/x-python",
   "name": "python",
   "nbconvert_exporter": "python",
   "pygments_lexer": "ipython3",
   "version": "3.12.1"
  }
 },
 "nbformat": 4,
 "nbformat_minor": 5
}
