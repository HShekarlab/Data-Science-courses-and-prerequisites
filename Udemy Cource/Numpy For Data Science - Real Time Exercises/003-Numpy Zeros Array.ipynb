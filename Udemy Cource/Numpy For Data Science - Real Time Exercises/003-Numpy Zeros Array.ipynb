{
 "cells": [
  {
   "cell_type": "markdown",
   "id": "4134ee97-2b43-45ac-b655-077f9bd450d0",
   "metadata": {},
   "source": [
    "### Zeros Array - An array in which all values are 0."
   ]
  },
  {
   "cell_type": "markdown",
   "id": "d072edc0-71c8-49ad-a535-45e93f135191",
   "metadata": {},
   "source": [
    "### ZA = np.zeros(shape, dtype)"
   ]
  },
  {
   "cell_type": "markdown",
   "id": "aea093d2-f3c3-44ea-85a2-acc46e36609c",
   "metadata": {},
   "source": [
    "- We can define the shape and data-type of zeros array.\n",
    "- We can create 1-D, 2-D, as well 3-D zeros array.\n",
    "- The default data-type is float.."
   ]
  },
  {
   "cell_type": "markdown",
   "id": "fda2bd95-4325-43ee-a8dc-e1d027cac325",
   "metadata": {},
   "source": [
    "* ndim - to check the dimension of the array\n",
    "* shape - to check the shape of the array\n",
    "* size - to check the size of the array"
   ]
  },
  {
   "cell_type": "code",
   "execution_count": 1,
   "id": "34d337aa-cf22-4f69-b23e-decbfb7ec114",
   "metadata": {},
   "outputs": [],
   "source": [
    "import numpy as np"
   ]
  },
  {
   "cell_type": "code",
   "execution_count": 2,
   "id": "a5f968f7-a67f-44c7-92a9-55f47196e1df",
   "metadata": {},
   "outputs": [
    {
     "data": {
      "text/plain": [
       "array([0., 0., 0.])"
      ]
     },
     "execution_count": 2,
     "metadata": {},
     "output_type": "execute_result"
    }
   ],
   "source": [
    "z_1 = np.zeros(3)\n",
    "z_1"
   ]
  },
  {
   "cell_type": "code",
   "execution_count": 3,
   "id": "1d02eb14-2ecb-47fb-bf05-3570b4795da9",
   "metadata": {},
   "outputs": [
    {
     "data": {
      "text/plain": [
       "array([0, 0, 0])"
      ]
     },
     "execution_count": 3,
     "metadata": {},
     "output_type": "execute_result"
    }
   ],
   "source": [
    "z_1 = np.zeros(3, dtype= int)\n",
    "z_1"
   ]
  },
  {
   "cell_type": "code",
   "execution_count": 4,
   "id": "d0d5810b-6fb3-41e2-bb4a-2c91db7289c1",
   "metadata": {},
   "outputs": [
    {
     "data": {
      "text/plain": [
       "array([0, 0, 0, 0, 0, 0, 0, 0, 0, 0, 0, 0, 0, 0, 0])"
      ]
     },
     "execution_count": 4,
     "metadata": {},
     "output_type": "execute_result"
    }
   ],
   "source": [
    "z_1 = np.zeros(15, dtype= int)\n",
    "z_1"
   ]
  },
  {
   "cell_type": "code",
   "execution_count": 5,
   "id": "f3a0d8ae-4cce-41c3-b204-a40081b37fd6",
   "metadata": {},
   "outputs": [
    {
     "data": {
      "text/plain": [
       "numpy.ndarray"
      ]
     },
     "execution_count": 5,
     "metadata": {},
     "output_type": "execute_result"
    }
   ],
   "source": [
    "type(z_1)"
   ]
  },
  {
   "cell_type": "code",
   "execution_count": 6,
   "id": "06ac6569-d61f-4177-80c6-cbeb762ec5ae",
   "metadata": {},
   "outputs": [
    {
     "data": {
      "text/plain": [
       "1"
      ]
     },
     "execution_count": 6,
     "metadata": {},
     "output_type": "execute_result"
    }
   ],
   "source": [
    "z_1.ndim"
   ]
  },
  {
   "cell_type": "code",
   "execution_count": 7,
   "id": "8a78e85f-d25f-406c-8859-954af0a974d0",
   "metadata": {},
   "outputs": [
    {
     "data": {
      "text/plain": [
       "array([[0., 0., 0., 0.],\n",
       "       [0., 0., 0., 0.],\n",
       "       [0., 0., 0., 0.]])"
      ]
     },
     "execution_count": 7,
     "metadata": {},
     "output_type": "execute_result"
    }
   ],
   "source": [
    "z_2 = np.zeros((3, 4))\n",
    "z_2"
   ]
  },
  {
   "cell_type": "code",
   "execution_count": 8,
   "id": "13db6fda-6edd-4919-b05f-d919709cb336",
   "metadata": {},
   "outputs": [
    {
     "data": {
      "text/plain": [
       "array([[0, 0, 0, 0],\n",
       "       [0, 0, 0, 0],\n",
       "       [0, 0, 0, 0]])"
      ]
     },
     "execution_count": 8,
     "metadata": {},
     "output_type": "execute_result"
    }
   ],
   "source": [
    "z_2 = np.zeros((3, 4), dtype= int)\n",
    "z_2"
   ]
  },
  {
   "cell_type": "code",
   "execution_count": 9,
   "id": "58c9d8ae-5ea6-4cdf-a2c0-7186ae134a58",
   "metadata": {},
   "outputs": [
    {
     "data": {
      "text/plain": [
       "(3, 4)"
      ]
     },
     "execution_count": 9,
     "metadata": {},
     "output_type": "execute_result"
    }
   ],
   "source": [
    "z_2.shape"
   ]
  },
  {
   "cell_type": "code",
   "execution_count": 10,
   "id": "0cd61a5f-9e89-4819-b5b7-8189fee3f6db",
   "metadata": {},
   "outputs": [
    {
     "data": {
      "text/plain": [
       "12"
      ]
     },
     "execution_count": 10,
     "metadata": {},
     "output_type": "execute_result"
    }
   ],
   "source": [
    "z_2.size"
   ]
  },
  {
   "cell_type": "code",
   "execution_count": 11,
   "id": "9393d45d-1e7b-4dc3-b69e-55629358db3c",
   "metadata": {},
   "outputs": [
    {
     "data": {
      "text/plain": [
       "array([[[0., 0., 0., 0.],\n",
       "        [0., 0., 0., 0.],\n",
       "        [0., 0., 0., 0.]],\n",
       "\n",
       "       [[0., 0., 0., 0.],\n",
       "        [0., 0., 0., 0.],\n",
       "        [0., 0., 0., 0.]]])"
      ]
     },
     "execution_count": 11,
     "metadata": {},
     "output_type": "execute_result"
    }
   ],
   "source": [
    "z_3 = np.zeros((2, 3, 4))\n",
    "z_3"
   ]
  },
  {
   "cell_type": "code",
   "execution_count": 12,
   "id": "76804b3f-ef5c-4c0a-8a1a-084c5b2732a6",
   "metadata": {},
   "outputs": [
    {
     "data": {
      "text/plain": [
       "3"
      ]
     },
     "execution_count": 12,
     "metadata": {},
     "output_type": "execute_result"
    }
   ],
   "source": [
    "z_3.ndim"
   ]
  },
  {
   "cell_type": "code",
   "execution_count": 13,
   "id": "6562bd90-a6d4-4e4a-96e4-45220bb5a2c5",
   "metadata": {},
   "outputs": [
    {
     "data": {
      "text/plain": [
       "24"
      ]
     },
     "execution_count": 13,
     "metadata": {},
     "output_type": "execute_result"
    }
   ],
   "source": [
    "z_3.size"
   ]
  }
 ],
 "metadata": {
  "kernelspec": {
   "display_name": "Python 3 (ipykernel)",
   "language": "python",
   "name": "python3"
  },
  "language_info": {
   "codemirror_mode": {
    "name": "ipython",
    "version": 3
   },
   "file_extension": ".py",
   "mimetype": "text/x-python",
   "name": "python",
   "nbconvert_exporter": "python",
   "pygments_lexer": "ipython3",
   "version": "3.10.7"
  }
 },
 "nbformat": 4,
 "nbformat_minor": 5
}
