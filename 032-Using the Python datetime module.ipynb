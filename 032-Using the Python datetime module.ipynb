{
 "cells": [
  {
   "cell_type": "code",
   "execution_count": 1,
   "id": "9af1e492-ec61-459a-8535-4c28cd6cb177",
   "metadata": {},
   "outputs": [],
   "source": [
    "import datetime"
   ]
  },
  {
   "cell_type": "code",
   "execution_count": 2,
   "id": "460ccfae-9899-45aa-8ce5-bd0dda2ebd61",
   "metadata": {},
   "outputs": [
    {
     "name": "stdout",
     "output_type": "stream",
     "text": [
      "Current Date & Time :  2024-01-02 15:13:21.400524\n"
     ]
    }
   ],
   "source": [
    "now = datetime.datetime.now()\n",
    "print(\"Current Date & Time : \", now)"
   ]
  },
  {
   "cell_type": "code",
   "execution_count": 3,
   "id": "d4b4a801-fc89-4760-8568-cf4cc69a2135",
   "metadata": {},
   "outputs": [
    {
     "name": "stdout",
     "output_type": "stream",
     "text": [
      "Formatted Date & Time :  2024-01-02 15:13:21\n"
     ]
    }
   ],
   "source": [
    "now = datetime.datetime.now()\n",
    "formatted_date_time = now.strftime(\"%Y-%m-%d %H:%M:%S\")\n",
    "print(\"Formatted Date & Time : \", formatted_date_time)"
   ]
  },
  {
   "cell_type": "code",
   "execution_count": 4,
   "id": "4e1c3a3f-3629-4c70-b159-2692e4c69467",
   "metadata": {},
   "outputs": [
    {
     "name": "stdout",
     "output_type": "stream",
     "text": [
      "Formatted Date & Time :  2024 - 01 - 02 15 : 13 : 21\n"
     ]
    }
   ],
   "source": [
    "now = datetime.datetime.now()\n",
    "formatted_date_time = now.strftime(\"%Y - %m - %d %H : %M : %S\")\n",
    "print(\"Formatted Date & Time : \", formatted_date_time)"
   ]
  },
  {
   "cell_type": "code",
   "execution_count": 5,
   "id": "193dab76-c10e-42ab-9219-05737a7d12ef",
   "metadata": {},
   "outputs": [
    {
     "name": "stdout",
     "output_type": "stream",
     "text": [
      "Formatted Date & Time :  2024/01/02 15:13:21\n"
     ]
    }
   ],
   "source": [
    "now = datetime.datetime.now()\n",
    "formatted_date_time = now.strftime(\"%Y/%m/%d %H:%M:%S\")\n",
    "print(\"Formatted Date & Time : \", formatted_date_time)"
   ]
  },
  {
   "cell_type": "code",
   "execution_count": 6,
   "id": "6c3ae82c-86c8-41a9-95d1-df43216e3565",
   "metadata": {},
   "outputs": [
    {
     "name": "stdout",
     "output_type": "stream",
     "text": [
      "31 days, 0:00:00\n"
     ]
    }
   ],
   "source": [
    "date_1 = datetime.date(2023, 6, 1)\n",
    "date_2 = datetime.date(2023, 5, 1)\n",
    "\n",
    "difference = date_1 - date_2\n",
    "\n",
    "print(difference)"
   ]
  },
  {
   "cell_type": "code",
   "execution_count": 7,
   "id": "d8bb8431-a03a-46b1-b21b-826485232080",
   "metadata": {},
   "outputs": [
    {
     "name": "stdout",
     "output_type": "stream",
     "text": [
      "365 days, 0:00:00\n"
     ]
    }
   ],
   "source": [
    "date_1 = datetime.date(2023, 6, 1)\n",
    "date_2 = datetime.date(2022, 6, 1)\n",
    "\n",
    "difference = date_1 - date_2\n",
    "\n",
    "print(difference)"
   ]
  },
  {
   "cell_type": "code",
   "execution_count": 8,
   "id": "02bd3281-6d22-4561-83b6-c8de8cf5b886",
   "metadata": {},
   "outputs": [
    {
     "name": "stdout",
     "output_type": "stream",
     "text": [
      "31\n"
     ]
    }
   ],
   "source": [
    "date_1 = datetime.date(2023, 6, 1)\n",
    "date_2 = datetime.date(2023, 5, 1)\n",
    "\n",
    "difference = date_1 - date_2\n",
    "\n",
    "print(difference.days)"
   ]
  },
  {
   "cell_type": "markdown",
   "id": "ba8c4794-1f14-445e-9ffa-0942da918bea",
   "metadata": {},
   "source": [
    "***Changing format of dates***"
   ]
  },
  {
   "cell_type": "code",
   "execution_count": 9,
   "id": "47fc07bb-e904-4c35-9ea2-a7bd472b0309",
   "metadata": {},
   "outputs": [],
   "source": [
    "from datetime import datetime"
   ]
  },
  {
   "cell_type": "code",
   "execution_count": 10,
   "id": "fd8551ca-c3f7-40fa-a478-2c8cf3c838a3",
   "metadata": {},
   "outputs": [
    {
     "name": "stdout",
     "output_type": "stream",
     "text": [
      "July 25 2023\n"
     ]
    }
   ],
   "source": [
    "date_string = \"2023-07-25\"\n",
    "\n",
    "date_object = datetime.strptime(date_string, \"%Y-%m-%d\")\n",
    "new_date_string = date_object.strftime(\"%B %d %Y\")\n",
    "print(new_date_string)\n"
   ]
  },
  {
   "cell_type": "code",
   "execution_count": 11,
   "id": "31766db8-39db-4ac7-bf0e-891246fef6e5",
   "metadata": {},
   "outputs": [
    {
     "name": "stdout",
     "output_type": "stream",
     "text": [
      "Jul 25 2023\n"
     ]
    }
   ],
   "source": [
    "date_string = \"2023-07-25\"\n",
    "\n",
    "date_object = datetime.strptime(date_string, \"%Y-%m-%d\")\n",
    "new_date_string = date_object.strftime(\"%b %d %Y\")\n",
    "print(new_date_string)"
   ]
  },
  {
   "cell_type": "code",
   "execution_count": 12,
   "id": "e34b637c-ca48-43e7-9d6a-48b5f2b88a7b",
   "metadata": {},
   "outputs": [
    {
     "name": "stdout",
     "output_type": "stream",
     "text": [
      "July Tuesday 2023\n"
     ]
    }
   ],
   "source": [
    "date_string = \"2023-07-25\"\n",
    "\n",
    "date_object = datetime.strptime(date_string, \"%Y-%m-%d\")\n",
    "new_date_string = date_object.strftime(\"%B %A %Y\")\n",
    "print(new_date_string)"
   ]
  },
  {
   "cell_type": "code",
   "execution_count": 13,
   "id": "4f2de2e7-833e-43c9-9b4d-0a7e464bccb5",
   "metadata": {},
   "outputs": [
    {
     "name": "stdout",
     "output_type": "stream",
     "text": [
      "July/Tuesday/2023\n"
     ]
    }
   ],
   "source": [
    "date_string = \"2023-07-25\"\n",
    "\n",
    "date_object = datetime.strptime(date_string, \"%Y-%m-%d\")\n",
    "new_date_string = date_object.strftime(\"%B/%A/%Y\")\n",
    "print(new_date_string)"
   ]
  },
  {
   "cell_type": "code",
   "execution_count": 14,
   "id": "554bf7ac-3022-423a-90dd-2dc1279f3dc3",
   "metadata": {},
   "outputs": [
    {
     "name": "stdout",
     "output_type": "stream",
     "text": [
      "July - Tuesday - 2023\n"
     ]
    }
   ],
   "source": [
    "date_string = \"2023-07-25\"\n",
    "\n",
    "date_object = datetime.strptime(date_string, \"%Y-%m-%d\")\n",
    "new_date_string = date_object.strftime(\"%B - %A - %Y\")\n",
    "print(new_date_string)"
   ]
  }
 ],
 "metadata": {
  "kernelspec": {
   "display_name": "Python 3 (ipykernel)",
   "language": "python",
   "name": "python3"
  },
  "language_info": {
   "codemirror_mode": {
    "name": "ipython",
    "version": 3
   },
   "file_extension": ".py",
   "mimetype": "text/x-python",
   "name": "python",
   "nbconvert_exporter": "python",
   "pygments_lexer": "ipython3",
   "version": "3.10.7"
  }
 },
 "nbformat": 4,
 "nbformat_minor": 5
}
