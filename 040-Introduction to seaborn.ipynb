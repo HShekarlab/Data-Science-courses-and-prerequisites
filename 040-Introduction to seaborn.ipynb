{
 "cells": [
  {
   "cell_type": "markdown",
   "id": "3982b8b6-22dd-4b1a-ba6c-77d322f8760f",
   "metadata": {},
   "source": [
    "***Installation***"
   ]
  },
  {
   "cell_type": "code",
   "execution_count": 1,
   "id": "1d0f8e34-1b71-478b-9db8-14d73e19c386",
   "metadata": {},
   "outputs": [],
   "source": [
    "!pip install seaborn"
   ]
  }
 ],
 "metadata": {
  "kernelspec": {
   "display_name": "Python 3 (ipykernel)",
   "language": "python",
   "name": "python3"
  },
  "language_info": {
   "codemirror_mode": {
    "name": "ipython",
    "version": 3
   },
   "file_extension": ".py",
   "mimetype": "text/x-python",
   "name": "python",
   "nbconvert_exporter": "python",
   "pygments_lexer": "ipython3",
   "version": "3.10.7"
  }
 },
 "nbformat": 4,
 "nbformat_minor": 5
}
