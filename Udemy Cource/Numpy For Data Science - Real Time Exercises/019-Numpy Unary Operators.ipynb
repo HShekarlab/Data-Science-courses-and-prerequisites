{
 "cells": [
  {
   "cell_type": "markdown",
   "id": "fa9f9d4d-c679-4a41-b86a-6c7a8504c6eb",
   "metadata": {},
   "source": [
    "### Unary Operators - Those operators that require only one operand.\n",
    "\n",
    "These functions can be applied row-wise or column-wise by setting an 'axis' parameter"
   ]
  },
  {
   "cell_type": "raw",
   "id": "65fb47f2-08d7-4386-8743-d51e3c6e27a2",
   "metadata": {},
   "source": [
    "Suppose 'a' is an array\n",
    "\n",
    "a.max() ,  a.max(axis=1) , a.max(axis=0) , a.sum()\n",
    "a.min() ,  a.min(axis=1) , a.min(axis=0) , np.sum(a, axis=1)"
   ]
  },
  {
   "cell_type": "code",
   "execution_count": 1,
   "id": "66e89efe-273b-4879-8e10-352af6d462e3",
   "metadata": {},
   "outputs": [],
   "source": [
    "import numpy as np"
   ]
  },
  {
   "cell_type": "code",
   "execution_count": 2,
   "id": "950da198-ba01-4359-a74d-7e46aec67c41",
   "metadata": {},
   "outputs": [
    {
     "data": {
      "text/plain": [
       "array([ 5, 12, 48, 39, 51])"
      ]
     },
     "execution_count": 2,
     "metadata": {},
     "output_type": "execute_result"
    }
   ],
   "source": [
    "A = np.array([5, 12, 48, 39, 51])\n",
    "A"
   ]
  },
  {
   "cell_type": "code",
   "execution_count": 3,
   "id": "755fd0e3-c101-4c90-a4f1-b58de335f885",
   "metadata": {},
   "outputs": [
    {
     "name": "stdout",
     "output_type": "stream",
     "text": [
      "[ 5 12 48 39 51]\n"
     ]
    }
   ],
   "source": [
    "print(A)"
   ]
  },
  {
   "cell_type": "code",
   "execution_count": 4,
   "id": "bcdf171d-5754-44fd-82d6-4e39439e4f49",
   "metadata": {},
   "outputs": [
    {
     "data": {
      "text/plain": [
       "51"
      ]
     },
     "execution_count": 4,
     "metadata": {},
     "output_type": "execute_result"
    }
   ],
   "source": [
    "A.max()"
   ]
  },
  {
   "cell_type": "code",
   "execution_count": 5,
   "id": "0796f401-005f-4fb8-be00-ad9ee5802201",
   "metadata": {},
   "outputs": [
    {
     "data": {
      "text/plain": [
       "51"
      ]
     },
     "execution_count": 5,
     "metadata": {},
     "output_type": "execute_result"
    }
   ],
   "source": [
    "np.max(A)"
   ]
  },
  {
   "cell_type": "code",
   "execution_count": 6,
   "id": "bb1abdf1-9777-459b-8a07-1e9160043900",
   "metadata": {},
   "outputs": [
    {
     "data": {
      "text/plain": [
       "5"
      ]
     },
     "execution_count": 6,
     "metadata": {},
     "output_type": "execute_result"
    }
   ],
   "source": [
    "A.min()"
   ]
  },
  {
   "cell_type": "code",
   "execution_count": 7,
   "id": "7f25eb74-d18a-4948-8787-284e13e54ea1",
   "metadata": {},
   "outputs": [
    {
     "data": {
      "text/plain": [
       "5"
      ]
     },
     "execution_count": 7,
     "metadata": {},
     "output_type": "execute_result"
    }
   ],
   "source": [
    "np.min(A)"
   ]
  },
  {
   "cell_type": "code",
   "execution_count": 8,
   "id": "7997956e-a266-4930-9925-0637fb86c6e1",
   "metadata": {},
   "outputs": [
    {
     "data": {
      "text/plain": [
       "155"
      ]
     },
     "execution_count": 8,
     "metadata": {},
     "output_type": "execute_result"
    }
   ],
   "source": [
    "A.sum()"
   ]
  },
  {
   "cell_type": "code",
   "execution_count": 9,
   "id": "3663ef1a-79fe-4eab-8d57-6077c5a4bffd",
   "metadata": {},
   "outputs": [
    {
     "data": {
      "text/plain": [
       "155"
      ]
     },
     "execution_count": 9,
     "metadata": {},
     "output_type": "execute_result"
    }
   ],
   "source": [
    "np.sum(A)"
   ]
  },
  {
   "cell_type": "code",
   "execution_count": 10,
   "id": "8b5d9a29-83b9-4cc5-8df8-fc1657919b7c",
   "metadata": {},
   "outputs": [
    {
     "data": {
      "text/plain": [
       "array([[ 1, 25, 47],\n",
       "       [53, 90,  4]])"
      ]
     },
     "execution_count": 10,
     "metadata": {},
     "output_type": "execute_result"
    }
   ],
   "source": [
    "B = np.array([[1, 25, 47], [53, 90, 4]])\n",
    "B"
   ]
  },
  {
   "cell_type": "code",
   "execution_count": 11,
   "id": "be584217-3141-45ab-9e1f-28ee1de358e0",
   "metadata": {},
   "outputs": [
    {
     "name": "stdout",
     "output_type": "stream",
     "text": [
      "[[ 1 25 47]\n",
      " [53 90  4]]\n"
     ]
    }
   ],
   "source": [
    "print(B)"
   ]
  },
  {
   "cell_type": "code",
   "execution_count": 12,
   "id": "ade8b9b6-0033-466b-aa9b-5678027fd001",
   "metadata": {},
   "outputs": [
    {
     "data": {
      "text/plain": [
       "90"
      ]
     },
     "execution_count": 12,
     "metadata": {},
     "output_type": "execute_result"
    }
   ],
   "source": [
    "B.max()"
   ]
  },
  {
   "cell_type": "code",
   "execution_count": 13,
   "id": "0ddf5e77-c222-4d68-9223-28554ab36d1e",
   "metadata": {},
   "outputs": [
    {
     "data": {
      "text/plain": [
       "array([53, 90, 47])"
      ]
     },
     "execution_count": 13,
     "metadata": {},
     "output_type": "execute_result"
    }
   ],
   "source": [
    "B.max(axis= 0)"
   ]
  },
  {
   "cell_type": "code",
   "execution_count": 14,
   "id": "24d2f55c-9e01-4668-8ec2-741fc7acd68d",
   "metadata": {},
   "outputs": [
    {
     "data": {
      "text/plain": [
       "array([47, 90])"
      ]
     },
     "execution_count": 14,
     "metadata": {},
     "output_type": "execute_result"
    }
   ],
   "source": [
    "B.max(axis= 1)"
   ]
  },
  {
   "cell_type": "code",
   "execution_count": 15,
   "id": "462e071b-22bb-4ee7-9649-26fc87a570d2",
   "metadata": {},
   "outputs": [
    {
     "data": {
      "text/plain": [
       "1"
      ]
     },
     "execution_count": 15,
     "metadata": {},
     "output_type": "execute_result"
    }
   ],
   "source": [
    "B.min()"
   ]
  },
  {
   "cell_type": "code",
   "execution_count": 16,
   "id": "5668b838-f0f3-4374-93fa-81e0c73e6c23",
   "metadata": {},
   "outputs": [
    {
     "data": {
      "text/plain": [
       "array([ 1, 25,  4])"
      ]
     },
     "execution_count": 16,
     "metadata": {},
     "output_type": "execute_result"
    }
   ],
   "source": [
    "B.min(axis= 0)"
   ]
  },
  {
   "cell_type": "code",
   "execution_count": 17,
   "id": "993c57c2-7589-4ea2-bb28-0e9b4eac921b",
   "metadata": {},
   "outputs": [
    {
     "data": {
      "text/plain": [
       "array([1, 4])"
      ]
     },
     "execution_count": 17,
     "metadata": {},
     "output_type": "execute_result"
    }
   ],
   "source": [
    "B.min(axis= 1)"
   ]
  },
  {
   "cell_type": "code",
   "execution_count": 18,
   "id": "313a996a-c8b4-4a4d-a3f5-7a048ee45432",
   "metadata": {},
   "outputs": [
    {
     "data": {
      "text/plain": [
       "220"
      ]
     },
     "execution_count": 18,
     "metadata": {},
     "output_type": "execute_result"
    }
   ],
   "source": [
    "B.sum()"
   ]
  },
  {
   "cell_type": "code",
   "execution_count": 19,
   "id": "ce051c02-b56b-4a78-baab-20af9860a50d",
   "metadata": {},
   "outputs": [
    {
     "data": {
      "text/plain": [
       "array([ 54, 115,  51])"
      ]
     },
     "execution_count": 19,
     "metadata": {},
     "output_type": "execute_result"
    }
   ],
   "source": [
    "B.sum(axis= 0)"
   ]
  },
  {
   "cell_type": "code",
   "execution_count": 20,
   "id": "ff1e6e19-53dd-4d67-82d5-3de5ff7c0bd3",
   "metadata": {},
   "outputs": [
    {
     "data": {
      "text/plain": [
       "array([ 73, 147])"
      ]
     },
     "execution_count": 20,
     "metadata": {},
     "output_type": "execute_result"
    }
   ],
   "source": [
    "B.sum(axis= 1)"
   ]
  },
  {
   "cell_type": "code",
   "execution_count": 21,
   "id": "f8d32850-d076-4f99-8c34-0159fe93ce01",
   "metadata": {},
   "outputs": [
    {
     "data": {
      "text/plain": [
       "array([ 0,  1,  2,  3,  4,  5,  6,  7,  8,  9, 10, 11, 12, 13, 14, 15, 16,\n",
       "       17])"
      ]
     },
     "execution_count": 21,
     "metadata": {},
     "output_type": "execute_result"
    }
   ],
   "source": [
    "C = np.arange(18)\n",
    "C"
   ]
  },
  {
   "cell_type": "code",
   "execution_count": 22,
   "id": "46adae05-2acc-4e07-9f70-e514ce8cd75b",
   "metadata": {},
   "outputs": [
    {
     "data": {
      "text/plain": [
       "array([[[ 0,  1,  2],\n",
       "        [ 3,  4,  5],\n",
       "        [ 6,  7,  8]],\n",
       "\n",
       "       [[ 9, 10, 11],\n",
       "        [12, 13, 14],\n",
       "        [15, 16, 17]]])"
      ]
     },
     "execution_count": 22,
     "metadata": {},
     "output_type": "execute_result"
    }
   ],
   "source": [
    "D = np.arange(18).reshape(2, 3, 3)\n",
    "D"
   ]
  },
  {
   "cell_type": "code",
   "execution_count": 23,
   "id": "022809e0-8a1c-44f2-84da-8c976aa83a9c",
   "metadata": {},
   "outputs": [
    {
     "data": {
      "text/plain": [
       "17"
      ]
     },
     "execution_count": 23,
     "metadata": {},
     "output_type": "execute_result"
    }
   ],
   "source": [
    "D.max()"
   ]
  },
  {
   "cell_type": "code",
   "execution_count": 24,
   "id": "8c0f529f-1d6c-458d-996f-69466e94b25b",
   "metadata": {},
   "outputs": [
    {
     "data": {
      "text/plain": [
       "array([[ 9, 10, 11],\n",
       "       [12, 13, 14],\n",
       "       [15, 16, 17]])"
      ]
     },
     "execution_count": 24,
     "metadata": {},
     "output_type": "execute_result"
    }
   ],
   "source": [
    "D.max(axis= 0)"
   ]
  },
  {
   "cell_type": "code",
   "execution_count": 25,
   "id": "aacf98ff-9d69-4df6-8f02-134d5bf31ff7",
   "metadata": {},
   "outputs": [
    {
     "data": {
      "text/plain": [
       "array([[ 6,  7,  8],\n",
       "       [15, 16, 17]])"
      ]
     },
     "execution_count": 25,
     "metadata": {},
     "output_type": "execute_result"
    }
   ],
   "source": [
    "D.max(axis= 1)"
   ]
  },
  {
   "cell_type": "code",
   "execution_count": 26,
   "id": "b1629f91-6e79-4dc6-9938-647342766756",
   "metadata": {},
   "outputs": [
    {
     "data": {
      "text/plain": [
       "0"
      ]
     },
     "execution_count": 26,
     "metadata": {},
     "output_type": "execute_result"
    }
   ],
   "source": [
    "D.min()"
   ]
  },
  {
   "cell_type": "code",
   "execution_count": 27,
   "id": "213c406e-cbfb-4f95-af52-cb774ce02dcc",
   "metadata": {},
   "outputs": [
    {
     "data": {
      "text/plain": [
       "array([[0, 1, 2],\n",
       "       [3, 4, 5],\n",
       "       [6, 7, 8]])"
      ]
     },
     "execution_count": 27,
     "metadata": {},
     "output_type": "execute_result"
    }
   ],
   "source": [
    "D.min(axis= 0)"
   ]
  },
  {
   "cell_type": "code",
   "execution_count": 28,
   "id": "42dcbcbf-8ae7-4773-9d57-c6a739a17200",
   "metadata": {},
   "outputs": [
    {
     "data": {
      "text/plain": [
       "array([[ 0,  1,  2],\n",
       "       [ 9, 10, 11]])"
      ]
     },
     "execution_count": 28,
     "metadata": {},
     "output_type": "execute_result"
    }
   ],
   "source": [
    "D.min(axis= 1)"
   ]
  },
  {
   "cell_type": "code",
   "execution_count": 29,
   "id": "86b51d94-f0f0-4297-857d-140096857426",
   "metadata": {},
   "outputs": [
    {
     "data": {
      "text/plain": [
       "153"
      ]
     },
     "execution_count": 29,
     "metadata": {},
     "output_type": "execute_result"
    }
   ],
   "source": [
    "D.sum()"
   ]
  },
  {
   "cell_type": "code",
   "execution_count": 30,
   "id": "48a08db2-5244-4ee6-9c67-17d5a0561523",
   "metadata": {},
   "outputs": [
    {
     "data": {
      "text/plain": [
       "array([[ 9, 11, 13],\n",
       "       [15, 17, 19],\n",
       "       [21, 23, 25]])"
      ]
     },
     "execution_count": 30,
     "metadata": {},
     "output_type": "execute_result"
    }
   ],
   "source": [
    "D.sum(axis= 0)"
   ]
  },
  {
   "cell_type": "code",
   "execution_count": 31,
   "id": "129d65de-9302-4800-950b-3e6dd181408e",
   "metadata": {},
   "outputs": [
    {
     "data": {
      "text/plain": [
       "array([[ 9, 12, 15],\n",
       "       [36, 39, 42]])"
      ]
     },
     "execution_count": 31,
     "metadata": {},
     "output_type": "execute_result"
    }
   ],
   "source": [
    "D.sum(axis= 1)"
   ]
  }
 ],
 "metadata": {
  "kernelspec": {
   "display_name": "Python 3 (ipykernel)",
   "language": "python",
   "name": "python3"
  },
  "language_info": {
   "codemirror_mode": {
    "name": "ipython",
    "version": 3
   },
   "file_extension": ".py",
   "mimetype": "text/x-python",
   "name": "python",
   "nbconvert_exporter": "python",
   "pygments_lexer": "ipython3",
   "version": "3.10.7"
  }
 },
 "nbformat": 4,
 "nbformat_minor": 5
}
