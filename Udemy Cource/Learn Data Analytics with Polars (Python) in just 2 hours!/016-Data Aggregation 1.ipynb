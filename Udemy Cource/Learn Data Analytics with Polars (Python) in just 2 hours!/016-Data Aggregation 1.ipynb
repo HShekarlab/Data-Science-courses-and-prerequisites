{
 "cells": [
  {
   "cell_type": "code",
   "execution_count": 1,
   "id": "ff643006-b0c2-464e-9875-7e975377686b",
   "metadata": {},
   "outputs": [],
   "source": [
    "import polars as pl"
   ]
  },
  {
   "cell_type": "code",
   "execution_count": 2,
   "id": "b8b7029c-e882-4e6f-9fdf-3cd8846f641e",
   "metadata": {},
   "outputs": [],
   "source": [
    "df = pl.read_csv(\"weather.csv\", has_header= True)"
   ]
  },
  {
   "cell_type": "code",
   "execution_count": 3,
   "id": "6b438495-6fcd-48e8-9d95-898dbe3da172",
   "metadata": {},
   "outputs": [
    {
     "data": {
      "text/html": [
       "<div><style>\n",
       ".dataframe > thead > tr,\n",
       ".dataframe > tbody > tr {\n",
       "  text-align: right;\n",
       "  white-space: pre-wrap;\n",
       "}\n",
       "</style>\n",
       "<small>shape: (1, 1)</small><table border=\"1\" class=\"dataframe\"><thead><tr><th>Sum_Data_Temperature_Avg Temp</th></tr><tr><td>i64</td></tr></thead><tbody><tr><td>939100</td></tr></tbody></table></div>"
      ],
      "text/plain": [
       "shape: (1, 1)\n",
       "┌───────────────────────────────┐\n",
       "│ Sum_Data_Temperature_Avg Temp │\n",
       "│ ---                           │\n",
       "│ i64                           │\n",
       "╞═══════════════════════════════╡\n",
       "│ 939100                        │\n",
       "└───────────────────────────────┘"
      ]
     },
     "execution_count": 3,
     "metadata": {},
     "output_type": "execute_result"
    }
   ],
   "source": [
    "df.select(\n",
    "          pl.sum(\"Data.Temperature.Avg Temp\").alias(\"Sum_Data_Temperature_Avg Temp\")\n",
    ")"
   ]
  },
  {
   "cell_type": "code",
   "execution_count": 4,
   "id": "f64615c5-a08f-4955-a65f-16ee50d1412f",
   "metadata": {},
   "outputs": [
    {
     "data": {
      "text/html": [
       "<div><style>\n",
       ".dataframe > thead > tr,\n",
       ".dataframe > tbody > tr {\n",
       "  text-align: right;\n",
       "  white-space: pre-wrap;\n",
       "}\n",
       "</style>\n",
       "<small>shape: (1, 7)</small><table border=\"1\" class=\"dataframe\"><thead><tr><th>Sum_Temperature_Avg</th><th>max_Temperature_Avg</th><th>min_Temperature_Avg</th><th>std_Temperature_Avg</th><th>median_Temperature_Avg</th><th>mean_Temperature_Avg</th><th>first_Temperature_Avg</th></tr><tr><td>i64</td><td>i64</td><td>i64</td><td>f64</td><td>f64</td><td>f64</td><td>i64</td></tr></thead><tbody><tr><td>939100</td><td>100</td><td>-27</td><td>18.798295</td><td>58.0</td><td>56.089112</td><td>39</td></tr></tbody></table></div>"
      ],
      "text/plain": [
       "shape: (1, 7)\n",
       "┌────────────────┬────────────────┬────────────────┬────────────────┬────────────────┬────────────────┬────────────────┐\n",
       "│ Sum_Temperatur ┆ max_Temperatur ┆ min_Temperatur ┆ std_Temperatur ┆ median_Tempera ┆ mean_Temperatu ┆ first_Temperat │\n",
       "│ e_Avg          ┆ e_Avg          ┆ e_Avg          ┆ e_Avg          ┆ ture_Avg       ┆ re_Avg         ┆ ure_Avg        │\n",
       "│ ---            ┆ ---            ┆ ---            ┆ ---            ┆ ---            ┆ ---            ┆ ---            │\n",
       "│ i64            ┆ i64            ┆ i64            ┆ f64            ┆ f64            ┆ f64            ┆ i64            │\n",
       "╞════════════════╪════════════════╪════════════════╪════════════════╪════════════════╪════════════════╪════════════════╡\n",
       "│ 939100         ┆ 100            ┆ -27            ┆ 18.798295      ┆ 58.0           ┆ 56.089112      ┆ 39             │\n",
       "└────────────────┴────────────────┴────────────────┴────────────────┴────────────────┴────────────────┴────────────────┘"
      ]
     },
     "execution_count": 4,
     "metadata": {},
     "output_type": "execute_result"
    }
   ],
   "source": [
    "df.select(\n",
    "          pl.sum(\"Data.Temperature.Avg Temp\").alias(\"Sum_Temperature_Avg\"),\n",
    "          pl.max(\"Data.Temperature.Avg Temp\").alias(\"max_Temperature_Avg\"),\n",
    "          pl.min(\"Data.Temperature.Avg Temp\").alias(\"min_Temperature_Avg\"),\n",
    "          pl.std(\"Data.Temperature.Avg Temp\").alias(\"std_Temperature_Avg\"),\n",
    "          pl.median(\"Data.Temperature.Avg Temp\").alias(\"median_Temperature_Avg\"),\n",
    "          pl.mean(\"Data.Temperature.Avg Temp\").alias(\"mean_Temperature_Avg\"),\n",
    "          pl.first(\"Data.Temperature.Avg Temp\").alias(\"first_Temperature_Avg\")\n",
    ")"
   ]
  },
  {
   "cell_type": "code",
   "execution_count": 5,
   "id": "d88df118-b386-4b44-be5c-ce525dffa70e",
   "metadata": {},
   "outputs": [
    {
     "data": {
      "text/html": [
       "<div><style>\n",
       ".dataframe > thead > tr,\n",
       ".dataframe > tbody > tr {\n",
       "  text-align: right;\n",
       "  white-space: pre-wrap;\n",
       "}\n",
       "</style>\n",
       "<small>shape: (53, 2)</small><table border=\"1\" class=\"dataframe\"><thead><tr><th>Station.State</th><th>Sum_Temp_Country</th></tr><tr><td>str</td><td>f64</td></tr></thead><tbody><tr><td>&quot;Illinois&quot;</td><td>53.377358</td></tr><tr><td>&quot;Kentucky&quot;</td><td>58.286792</td></tr><tr><td>&quot;Florida&quot;</td><td>73.926101</td></tr><tr><td>&quot;Ohio&quot;</td><td>52.665768</td></tr><tr><td>&quot;Louisiana&quot;</td><td>69.475096</td></tr><tr><td>&quot;Missouri&quot;</td><td>57.423181</td></tr><tr><td>&quot;Iowa&quot;</td><td>50.796226</td></tr><tr><td>&quot;DE&quot;</td><td>56.056604</td></tr><tr><td>&quot;North Carolina…</td><td>61.770889</td></tr><tr><td>&quot;Pennsylvania&quot;</td><td>53.919137</td></tr><tr><td>&quot;New Hampshire&quot;</td><td>51.11</td></tr><tr><td>&quot;Delaware&quot;</td><td>56.056604</td></tr><tr><td>&hellip;</td><td>&hellip;</td></tr><tr><td>&quot;Colorado&quot;</td><td>49.273585</td></tr><tr><td>&quot;Texas&quot;</td><td>68.181604</td></tr><tr><td>&quot;Vermont&quot;</td><td>48.773585</td></tr><tr><td>&quot;Indiana&quot;</td><td>53.976415</td></tr><tr><td>&quot;Georgia&quot;</td><td>66.220126</td></tr><tr><td>&quot;Virginia&quot;</td><td>58.974843</td></tr><tr><td>&quot;Utah&quot;</td><td>55.698113</td></tr><tr><td>&quot;Nevada&quot;</td><td>55.628931</td></tr><tr><td>&quot;Puerto Rico&quot;</td><td>81.358491</td></tr><tr><td>&quot;Idaho&quot;</td><td>51.698113</td></tr><tr><td>&quot;Montana&quot;</td><td>45.627787</td></tr><tr><td>&quot;Rhode Island&quot;</td><td>53.037736</td></tr></tbody></table></div>"
      ],
      "text/plain": [
       "shape: (53, 2)\n",
       "┌───────────────┬──────────────────┐\n",
       "│ Station.State ┆ Sum_Temp_Country │\n",
       "│ ---           ┆ ---              │\n",
       "│ str           ┆ f64              │\n",
       "╞═══════════════╪══════════════════╡\n",
       "│ Illinois      ┆ 53.377358        │\n",
       "│ Kentucky      ┆ 58.286792        │\n",
       "│ Florida       ┆ 73.926101        │\n",
       "│ Ohio          ┆ 52.665768        │\n",
       "│ Louisiana     ┆ 69.475096        │\n",
       "│ …             ┆ …                │\n",
       "│ Nevada        ┆ 55.628931        │\n",
       "│ Puerto Rico   ┆ 81.358491        │\n",
       "│ Idaho         ┆ 51.698113        │\n",
       "│ Montana       ┆ 45.627787        │\n",
       "│ Rhode Island  ┆ 53.037736        │\n",
       "└───────────────┴──────────────────┘"
      ]
     },
     "execution_count": 5,
     "metadata": {},
     "output_type": "execute_result"
    }
   ],
   "source": [
    "q = (\n",
    "     df.lazy()\n",
    "     .group_by(\"Station.State\")\n",
    "     .agg(\n",
    "          pl.mean(\"Data.Temperature.Avg Temp\").alias(\"Sum_Temp_Country\")\n",
    "     )\n",
    ")\n",
    "\n",
    "q.collect()"
   ]
  }
 ],
 "metadata": {
  "kernelspec": {
   "display_name": "Python 3 (ipykernel)",
   "language": "python",
   "name": "python3"
  },
  "language_info": {
   "codemirror_mode": {
    "name": "ipython",
    "version": 3
   },
   "file_extension": ".py",
   "mimetype": "text/x-python",
   "name": "python",
   "nbconvert_exporter": "python",
   "pygments_lexer": "ipython3",
   "version": "3.12.1"
  }
 },
 "nbformat": 4,
 "nbformat_minor": 5
}
