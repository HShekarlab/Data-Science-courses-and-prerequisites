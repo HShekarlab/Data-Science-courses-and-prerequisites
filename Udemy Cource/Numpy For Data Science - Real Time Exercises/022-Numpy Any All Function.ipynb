{
 "cells": [
  {
   "cell_type": "markdown",
   "id": "a5f29d75-b5a6-4422-8082-f961fda3f39b",
   "metadata": {},
   "source": [
    "Any & All functions are built-in functions."
   ]
  },
  {
   "cell_type": "markdown",
   "id": "9589fdcd-7bbc-40b0-af17-acf62e689d65",
   "metadata": {},
   "source": [
    "These functions works on comparision basis."
   ]
  },
  {
   "cell_type": "markdown",
   "id": "e092cb33-84d8-4d3c-87dc-26c2a7da4602",
   "metadata": {},
   "source": [
    "Any function - It returns True, if any element satisfy the given condition. It uses logical OR operator."
   ]
  },
  {
   "cell_type": "markdown",
   "id": "a52fa223-b75c-45a9-9ca1-5bc1eb569749",
   "metadata": {},
   "source": [
    "Syntax : np.any( condition )"
   ]
  },
  {
   "cell_type": "markdown",
   "id": "18bc515d-d16c-40bf-b4a9-69e27e3b0b6d",
   "metadata": {},
   "source": [
    "All function - It returns True, if all elements satisfy the given condition. It uses logical AND operator."
   ]
  },
  {
   "cell_type": "markdown",
   "id": "b94477fa-de14-4bd8-a683-5a4eb39d6d3f",
   "metadata": {},
   "source": [
    "Syntax : np.all( condition )"
   ]
  },
  {
   "cell_type": "code",
   "execution_count": 1,
   "id": "c47758bd-4c37-4bf9-bc80-7254009be90f",
   "metadata": {},
   "outputs": [],
   "source": [
    "import numpy as np\n",
    "from numpy import random"
   ]
  },
  {
   "cell_type": "code",
   "execution_count": 2,
   "id": "151a3458-162f-4ffe-a049-8a37bce6c65e",
   "metadata": {},
   "outputs": [
    {
     "data": {
      "text/plain": [
       "array([971, 480, 319, 760, 569, 904, 347, 922, 239, 733, 244, 897, 401,\n",
       "       601, 498, 996, 920, 556, 852, 866])"
      ]
     },
     "execution_count": 2,
     "metadata": {},
     "output_type": "execute_result"
    }
   ],
   "source": [
    "x = np.random.randint(10, 1000, 20)\n",
    "x"
   ]
  },
  {
   "cell_type": "code",
   "execution_count": 3,
   "id": "8e7f72a6-9d4e-4a05-9df7-e92bbde59db3",
   "metadata": {},
   "outputs": [
    {
     "data": {
      "text/plain": [
       "False"
      ]
     },
     "execution_count": 3,
     "metadata": {},
     "output_type": "execute_result"
    }
   ],
   "source": [
    "np.any(x == 500)"
   ]
  },
  {
   "cell_type": "code",
   "execution_count": 4,
   "id": "e6e7f409-6ab2-4906-a8b9-ea85b1e6a1f1",
   "metadata": {},
   "outputs": [
    {
     "data": {
      "text/plain": [
       "False"
      ]
     },
     "execution_count": 4,
     "metadata": {},
     "output_type": "execute_result"
    }
   ],
   "source": [
    "np.any(x < 100)"
   ]
  },
  {
   "cell_type": "code",
   "execution_count": 5,
   "id": "2736d2f7-efc1-4a0d-aaa8-8812fb450cbc",
   "metadata": {},
   "outputs": [
    {
     "data": {
      "text/plain": [
       "True"
      ]
     },
     "execution_count": 5,
     "metadata": {},
     "output_type": "execute_result"
    }
   ],
   "source": [
    "np.any(x < 1000)"
   ]
  },
  {
   "cell_type": "code",
   "execution_count": 6,
   "id": "9ec76a5b-f462-413d-ad48-c48aa2725a6b",
   "metadata": {},
   "outputs": [
    {
     "data": {
      "text/plain": [
       "False"
      ]
     },
     "execution_count": 6,
     "metadata": {},
     "output_type": "execute_result"
    }
   ],
   "source": [
    "np.any(x > 1000)"
   ]
  },
  {
   "cell_type": "code",
   "execution_count": 7,
   "id": "03202a74",
   "metadata": {},
   "outputs": [
    {
     "data": {
      "text/plain": [
       "True"
      ]
     },
     "execution_count": 7,
     "metadata": {},
     "output_type": "execute_result"
    }
   ],
   "source": [
    "np.any(x > 500)"
   ]
  },
  {
   "cell_type": "code",
   "execution_count": 8,
   "id": "7216ddbd-f91c-4025-a467-bf987ce03e29",
   "metadata": {},
   "outputs": [
    {
     "data": {
      "text/plain": [
       "False"
      ]
     },
     "execution_count": 8,
     "metadata": {},
     "output_type": "execute_result"
    }
   ],
   "source": [
    "np.all(x == 500)"
   ]
  },
  {
   "cell_type": "code",
   "execution_count": 9,
   "id": "d5c7b061-cdef-4b07-850c-6f07d38ad65e",
   "metadata": {},
   "outputs": [
    {
     "data": {
      "text/plain": [
       "True"
      ]
     },
     "execution_count": 9,
     "metadata": {},
     "output_type": "execute_result"
    }
   ],
   "source": [
    "np.all(x < 1000)"
   ]
  },
  {
   "cell_type": "code",
   "execution_count": 10,
   "id": "edd770fd-2949-48d0-b80e-0aece13a73f0",
   "metadata": {},
   "outputs": [
    {
     "data": {
      "text/plain": [
       "False"
      ]
     },
     "execution_count": 10,
     "metadata": {},
     "output_type": "execute_result"
    }
   ],
   "source": [
    "np.all(x < 500)"
   ]
  },
  {
   "cell_type": "code",
   "execution_count": 11,
   "id": "fb8499d9-bdfb-4969-b0d6-09b17beb6934",
   "metadata": {},
   "outputs": [
    {
     "data": {
      "text/plain": [
       "False"
      ]
     },
     "execution_count": 11,
     "metadata": {},
     "output_type": "execute_result"
    }
   ],
   "source": [
    "np.all(x > 300)"
   ]
  }
 ],
 "metadata": {
  "kernelspec": {
   "display_name": "Python 3 (ipykernel)",
   "language": "python",
   "name": "python3"
  },
  "language_info": {
   "codemirror_mode": {
    "name": "ipython",
    "version": 3
   },
   "file_extension": ".py",
   "mimetype": "text/x-python",
   "name": "python",
   "nbconvert_exporter": "python",
   "pygments_lexer": "ipython3",
   "version": "3.10.7"
  }
 },
 "nbformat": 4,
 "nbformat_minor": 5
}
