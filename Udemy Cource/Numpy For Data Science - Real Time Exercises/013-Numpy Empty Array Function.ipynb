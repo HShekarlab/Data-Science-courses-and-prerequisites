{
 "cells": [
  {
   "cell_type": "markdown",
   "id": "486db2b5-d76b-4dfc-8adf-487595a3c07d",
   "metadata": {},
   "source": [
    "##### Empty Function is used to create an array of arbitrary values, of given shape and datatype, without intializing the entries"
   ]
  },
  {
   "cell_type": "markdown",
   "id": "434e6008-d148-4954-9b45-9602f436f0d1",
   "metadata": {},
   "source": [
    "###### Syntax :\n",
    "    np.empty(shape, dtype)\n",
    "\n",
    "- Shape can given in list or tuple from.\n",
    "- The default datatype is float."
   ]
  },
  {
   "cell_type": "code",
   "execution_count": 1,
   "id": "b7694665-4ef1-4ea0-a312-6d3f63693c5b",
   "metadata": {},
   "outputs": [],
   "source": [
    "import numpy as np"
   ]
  },
  {
   "cell_type": "code",
   "execution_count": 2,
   "id": "2617ae3b-5746-4dc5-8536-8b0ba2a581c3",
   "metadata": {},
   "outputs": [
    {
     "ename": "TypeError",
     "evalue": "empty() missing required argument 'shape' (pos 0)",
     "output_type": "error",
     "traceback": [
      "\u001b[1;31m---------------------------------------------------------------------------\u001b[0m",
      "\u001b[1;31mTypeError\u001b[0m                                 Traceback (most recent call last)",
      "Cell \u001b[1;32mIn[2], line 1\u001b[0m\n\u001b[1;32m----> 1\u001b[0m \u001b[43mnp\u001b[49m\u001b[38;5;241;43m.\u001b[39;49m\u001b[43mempty\u001b[49m\u001b[43m(\u001b[49m\u001b[43m)\u001b[49m\n",
      "\u001b[1;31mTypeError\u001b[0m: empty() missing required argument 'shape' (pos 0)"
     ]
    }
   ],
   "source": [
    "np.empty()"
   ]
  },
  {
   "cell_type": "code",
   "execution_count": 3,
   "id": "630d0a6d-ce5e-4a5d-b601-debb25a9db2d",
   "metadata": {},
   "outputs": [
    {
     "data": {
      "text/plain": [
       "array([0., 0., 0., 0., 0., 0., 0.])"
      ]
     },
     "execution_count": 3,
     "metadata": {},
     "output_type": "execute_result"
    }
   ],
   "source": [
    "np.empty(7)"
   ]
  },
  {
   "cell_type": "code",
   "execution_count": 4,
   "id": "0445e613-82bf-4fc0-a6d2-59a940a474d2",
   "metadata": {},
   "outputs": [
    {
     "data": {
      "text/plain": [
       "array([1612738420,  779120224, 1851880052, 1936683123, 1702045797,\n",
       "       1613325932])"
      ]
     },
     "execution_count": 4,
     "metadata": {},
     "output_type": "execute_result"
    }
   ],
   "source": [
    "np.empty(6, dtype= int)"
   ]
  },
  {
   "cell_type": "code",
   "execution_count": 5,
   "id": "1f460ca7-e8d6-46fa-a45d-e934fa3ecf17",
   "metadata": {},
   "outputs": [
    {
     "data": {
      "text/plain": [
       "array([None, None, None, None, None], dtype=object)"
      ]
     },
     "execution_count": 5,
     "metadata": {},
     "output_type": "execute_result"
    }
   ],
   "source": [
    "np.empty(5, dtype= object)"
   ]
  },
  {
   "cell_type": "code",
   "execution_count": 6,
   "id": "ff76b658-5bb6-4ec5-b3fb-439ffe6078cc",
   "metadata": {},
   "outputs": [
    {
     "data": {
      "text/plain": [
       "array([[0., 0., 0.],\n",
       "       [0., 0., 0.],\n",
       "       [0., 0., 0.],\n",
       "       [0., 0., 0.],\n",
       "       [0., 0., 0.]])"
      ]
     },
     "execution_count": 6,
     "metadata": {},
     "output_type": "execute_result"
    }
   ],
   "source": [
    "np.empty((5, 3))"
   ]
  },
  {
   "cell_type": "code",
   "execution_count": 7,
   "id": "7ce8871a-7681-4756-a411-43b007d82557",
   "metadata": {},
   "outputs": [
    {
     "data": {
      "text/plain": [
       "array([[3801155, 5570652, 6619251],\n",
       "       [7536754, 4718684, 5242975],\n",
       "       [6029379, 7340097, 4456560],\n",
       "       [7602273, 6029409, 7274572],\n",
       "       [6357091, 6029420, 6619220]])"
      ]
     },
     "execution_count": 7,
     "metadata": {},
     "output_type": "execute_result"
    }
   ],
   "source": [
    "np.empty((5, 3), dtype= int)"
   ]
  },
  {
   "cell_type": "code",
   "execution_count": 8,
   "id": "c17110f2-1dcd-4d64-83e0-b8393b7771cd",
   "metadata": {},
   "outputs": [
    {
     "data": {
      "text/plain": [
       "array([[None, None, None, None],\n",
       "       [None, None, None, None],\n",
       "       [None, None, None, None],\n",
       "       [None, None, None, None]], dtype=object)"
      ]
     },
     "execution_count": 8,
     "metadata": {},
     "output_type": "execute_result"
    }
   ],
   "source": [
    "np.empty((4, 4), dtype= object)"
   ]
  },
  {
   "cell_type": "code",
   "execution_count": 9,
   "id": "485795a9-4545-4b29-a56c-44ddcc3973f0",
   "metadata": {},
   "outputs": [
    {
     "data": {
      "text/plain": [
       "array([[[1.35220322e-311, 1.01777523e-321, 0.00000000e+000,\n",
       "         0.00000000e+000, 1.42413554e-306],\n",
       "        [5.02034658e+175, 1.43602341e-051, 6.38269950e-067,\n",
       "         4.19318689e+175, 2.17570700e-076],\n",
       "        [1.32284373e-071, 1.04915136e-153, 6.32299154e+233,\n",
       "         2.87505047e+161, 1.70098498e+256]],\n",
       "\n",
       "       [[5.49109388e-143, 1.06396443e+224, 3.96041428e+246,\n",
       "         1.16318408e-028, 4.46979726e-033],\n",
       "        [9.95305904e-043, 1.53618564e-051, 3.92070426e+179,\n",
       "         2.24151504e+174, 3.36163259e-067],\n",
       "        [8.26108324e-072, 2.29569732e-028, 3.69908966e-057,\n",
       "         5.74015544e+180, 1.94919988e-153]]])"
      ]
     },
     "execution_count": 9,
     "metadata": {},
     "output_type": "execute_result"
    }
   ],
   "source": [
    "np.empty([2, 3, 5])"
   ]
  },
  {
   "cell_type": "code",
   "execution_count": 10,
   "id": "6ef32d1b-a171-41a1-bfcf-cd91409b7c66",
   "metadata": {},
   "outputs": [
    {
     "data": {
      "text/plain": [
       "array([[[1.35220322e-311, 1.01777523e-321, 0.00000000e+000,\n",
       "         0.00000000e+000, 1.42413554e-306],\n",
       "        [5.02034658e+175, 1.43602341e-051, 6.38269950e-067,\n",
       "         4.19318689e+175, 2.17570700e-076],\n",
       "        [1.32284373e-071, 1.04915136e-153, 6.32299154e+233,\n",
       "         2.87505047e+161, 1.70098498e+256]],\n",
       "\n",
       "       [[5.49109388e-143, 1.06396443e+224, 3.96041428e+246,\n",
       "         1.16318408e-028, 4.46979726e-033],\n",
       "        [9.95305904e-043, 1.53618564e-051, 3.92070426e+179,\n",
       "         2.24151504e+174, 3.36163259e-067],\n",
       "        [8.26108324e-072, 2.29569732e-028, 3.69908966e-057,\n",
       "         5.74015544e+180, 1.94919988e-153]]])"
      ]
     },
     "execution_count": 10,
     "metadata": {},
     "output_type": "execute_result"
    }
   ],
   "source": [
    "np.empty((2, 3, 5))"
   ]
  },
  {
   "cell_type": "code",
   "execution_count": 11,
   "id": "22d73f73-f21d-41c3-abbb-4d12d9634651",
   "metadata": {},
   "outputs": [
    {
     "data": {
      "text/plain": [
       "array([[[0, 0, 0, 0, 0],\n",
       "        [0, 0, 0, 0, 0],\n",
       "        [0, 0, 0, 0, 0]],\n",
       "\n",
       "       [[0, 0, 0, 0, 0],\n",
       "        [0, 0, 0, 0, 0],\n",
       "        [0, 0, 0, 0, 0]]])"
      ]
     },
     "execution_count": 11,
     "metadata": {},
     "output_type": "execute_result"
    }
   ],
   "source": [
    "np.empty((2, 3, 5), dtype= int)"
   ]
  },
  {
   "cell_type": "code",
   "execution_count": 12,
   "id": "64a045df-a29c-4fce-bcca-50c472c08f94",
   "metadata": {},
   "outputs": [
    {
     "data": {
      "text/plain": [
       "array([[[None, None, None, None, None],\n",
       "        [None, None, None, None, None],\n",
       "        [None, None, None, None, None]],\n",
       "\n",
       "       [[None, None, None, None, None],\n",
       "        [None, None, None, None, None],\n",
       "        [None, None, None, None, None]]], dtype=object)"
      ]
     },
     "execution_count": 12,
     "metadata": {},
     "output_type": "execute_result"
    }
   ],
   "source": [
    "np.empty((2, 3, 5), dtype= object)"
   ]
  }
 ],
 "metadata": {
  "kernelspec": {
   "display_name": "Python 3 (ipykernel)",
   "language": "python",
   "name": "python3"
  },
  "language_info": {
   "codemirror_mode": {
    "name": "ipython",
    "version": 3
   },
   "file_extension": ".py",
   "mimetype": "text/x-python",
   "name": "python",
   "nbconvert_exporter": "python",
   "pygments_lexer": "ipython3",
   "version": "3.10.7"
  }
 },
 "nbformat": 4,
 "nbformat_minor": 5
}
