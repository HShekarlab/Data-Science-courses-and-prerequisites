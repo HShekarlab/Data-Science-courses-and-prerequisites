{
 "cells": [
  {
   "cell_type": "code",
   "execution_count": 1,
   "id": "eb7ef886-2818-4844-8cb1-808012c96c64",
   "metadata": {},
   "outputs": [
    {
     "data": {
      "text/html": [
       "\n",
       "        <iframe\n",
       "            width=\"100%\"\n",
       "            height=\"650\"\n",
       "            src=\"http://127.0.0.1:8050/\"\n",
       "            frameborder=\"0\"\n",
       "            allowfullscreen\n",
       "            \n",
       "        ></iframe>\n",
       "        "
      ],
      "text/plain": [
       "<IPython.lib.display.IFrame at 0x1ed99f07d70>"
      ]
     },
     "metadata": {},
     "output_type": "display_data"
    }
   ],
   "source": [
    "from dash import Dash, html, dcc, dash_table, Input, Output, State\n",
    "import yfinance as yf\n",
    "import plotly.graph_objects as go\n",
    "\n",
    "\n",
    "app = Dash()\n",
    "\n",
    "app.layout = html.Div([\n",
    "    html.H1(\"My financial dashboard\"), \n",
    "    dcc.Input(id= \"ticker-input\", \n",
    "              placeholder= \"Search for symbols from Yahoo Finance\", \n",
    "              style= {\"width\": \"50%\"}), \n",
    "    html.Button(id= \"submit-button\", \n",
    "                children= \"Submit\"), \n",
    "    html.Br(), \n",
    "    html.Br(), \n",
    "    dcc.Tabs([\n",
    "        dcc.Tab(label= \"Candlestick Chart\", \n",
    "                children= dcc.Graph(id= \"stock-graph\")), \n",
    "        dcc.Tab(label= \"Recent Data\", \n",
    "                children= [html.Div(id= \"latest-price-div\"), \n",
    "                           dash_table.DataTable(id= \"stock-data\")])\n",
    "    ]), \n",
    "    dcc.Interval(id= \"chart_interval\", interval= 1000 * 60 * 15, n_intervals= 0), \n",
    "    dcc.Interval(id= \"table_interval\", interval= 1000 * 60, n_intervals= 0)\n",
    "])\n",
    "\n",
    "\n",
    "@app.callback(\n",
    "    Output(\"stock-graph\", \"figure\"), \n",
    "    Input(\"submit-button\", \"n_clicks\"), \n",
    "    Input(\"chart_interval\", \"n_intervals\"), \n",
    "    State(\"ticker-input\", \"value\")\n",
    ")\n",
    "\n",
    "def Update_Chart(button_click, chart_interval, ticker):\n",
    "    if ticker is None:\n",
    "        return {}\n",
    "    else:\n",
    "        price= yf.Ticker(ticker).history(period= \"1d\", interval= \"15m\").reset_index()\n",
    "        if len(price) > 0:\n",
    "            fig = go.Figure(data= go.Candlestick(x= price[\"Datetime\"], \n",
    "                                                 open= price[\"Open\"], \n",
    "                                                 high= price[\"High\"], \n",
    "                                                 low= price[\"Low\"], \n",
    "                                                 close= price[\"Close\"]\n",
    "                                                ))\n",
    "            return fig\n",
    "        else:\n",
    "            return {}\n",
    "\n",
    "\n",
    "\n",
    "@app.callback(\n",
    "    Output(\"latest-price-div\", \"children\"), \n",
    "    Output(\"stock-data\", \"data\"), \n",
    "    Input(\"submit-button\", \"n_clicks\"), \n",
    "    Input(\"table_interval\", \"n_intervals\"), \n",
    "    State(\"ticker-input\", \"value\")\n",
    ")\n",
    "\n",
    "def Update_Table(button_click, tabel_interval, ticker):\n",
    "    if ticker is None:\n",
    "        return \"\", []\n",
    "    else:\n",
    "        price= yf.Ticker(ticker).history(period= \"1d\", interval= \"1m\").reset_index().tail(10)\n",
    "        if len(price) > 0:\n",
    "            latest_price = price[\"Close\"].iloc[-1]\n",
    "            latest_time = price[\"Datetime\"].max().strftime(\"%b %d %Y %I: %M %S %p\")\n",
    "            return f\"The latest price is {latest_price} at the time of {latest_time}\", price.to_dict(\"records\")\n",
    "        else:\n",
    "            return f\"No data for ticker {ticker} on Yahoo Finance\", []\n",
    "\n",
    "\n",
    "\n",
    "if __name__ == \"__main__\":\n",
    "    app.run_server(debug= True)"
   ]
  }
 ],
 "metadata": {
  "kernelspec": {
   "display_name": "Python 3 (ipykernel)",
   "language": "python",
   "name": "python3"
  },
  "language_info": {
   "codemirror_mode": {
    "name": "ipython",
    "version": 3
   },
   "file_extension": ".py",
   "mimetype": "text/x-python",
   "name": "python",
   "nbconvert_exporter": "python",
   "pygments_lexer": "ipython3",
   "version": "3.12.1"
  }
 },
 "nbformat": 4,
 "nbformat_minor": 5
}
