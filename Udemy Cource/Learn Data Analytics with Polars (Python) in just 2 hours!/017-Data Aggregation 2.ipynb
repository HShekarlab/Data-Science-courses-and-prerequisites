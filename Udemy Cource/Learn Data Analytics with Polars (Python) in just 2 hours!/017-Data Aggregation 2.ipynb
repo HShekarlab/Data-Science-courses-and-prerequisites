{
 "cells": [
  {
   "cell_type": "code",
   "execution_count": 1,
   "id": "410e89a0-89fb-4b34-843e-8652147a92a2",
   "metadata": {},
   "outputs": [],
   "source": [
    "import polars as pl"
   ]
  },
  {
   "cell_type": "code",
   "execution_count": 2,
   "id": "5f51f9c4-261e-481b-98b8-135acc7c74a1",
   "metadata": {},
   "outputs": [],
   "source": [
    "df = pl.read_csv(\"weather.csv\", has_header= True)"
   ]
  },
  {
   "cell_type": "code",
   "execution_count": 3,
   "id": "c9f4de1b-a08d-4769-b50c-58535a42dffe",
   "metadata": {},
   "outputs": [
    {
     "name": "stderr",
     "output_type": "stream",
     "text": [
      "C:\\Users\\Hediye\\AppData\\Local\\Temp\\ipykernel_9960\\2722864873.py:5: DeprecationWarning: `pl.count()` is deprecated. Please use `pl.len()` instead.\n",
      "  pl.count().alias(\"row_count\"),\n"
     ]
    },
    {
     "data": {
      "text/html": [
       "<div><style>\n",
       ".dataframe > thead > tr,\n",
       ".dataframe > tbody > tr {\n",
       "  text-align: right;\n",
       "  white-space: pre-wrap;\n",
       "}\n",
       "</style>\n",
       "<small>shape: (307, 5)</small><table border=\"1\" class=\"dataframe\"><thead><tr><th>Station.City</th><th>row_count</th><th>Data.Temperature.Max Temp</th><th>Station.State</th><th>Station.Location</th></tr><tr><td>str</td><td>u32</td><td>i64</td><td>list[str]</td><td>str</td></tr></thead><tbody><tr><td>&quot;King Salmon&quot;</td><td>53</td><td>74</td><td>[&quot;Alaska&quot;, &quot;Alaska&quot;, … &quot;Alaska&quot;]</td><td>&quot;King Salmon, A…</td></tr><tr><td>&quot;Iliamna&quot;</td><td>53</td><td>72</td><td>[&quot;Alaska&quot;, &quot;Alaska&quot;, … &quot;Alaska&quot;]</td><td>&quot;Iliamna, AK&quot;</td></tr><tr><td>&quot;Concordia&quot;</td><td>53</td><td>96</td><td>[&quot;Kansas&quot;, &quot;Kansas&quot;, … &quot;Kansas&quot;]</td><td>&quot;Concordia, KS&quot;</td></tr><tr><td>&quot;Hilo&quot;</td><td>53</td><td>86</td><td>[&quot;Hawaii&quot;, &quot;Hawaii&quot;, … &quot;Hawaii&quot;]</td><td>&quot;Hilo, HI&quot;</td></tr><tr><td>&quot;Alamosa&quot;</td><td>53</td><td>87</td><td>[&quot;Colorado&quot;, &quot;Colorado&quot;, … &quot;Colorado&quot;]</td><td>&quot;Alamosa, CO&quot;</td></tr><tr><td>&quot;Winslow&quot;</td><td>53</td><td>102</td><td>[&quot;Arizona&quot;, &quot;Arizona&quot;, … &quot;Arizona&quot;]</td><td>&quot;Winslow, AZ&quot;</td></tr><tr><td>&quot;Bakersfield&quot;</td><td>53</td><td>107</td><td>[&quot;California&quot;, &quot;California&quot;, … &quot;California&quot;]</td><td>&quot;Bakersfield, C…</td></tr><tr><td>&quot;Blacksburg&quot;</td><td>53</td><td>93</td><td>[&quot;VA&quot;, &quot;VA&quot;, … &quot;VA&quot;]</td><td>&quot;Blacksburg, VA…</td></tr><tr><td>&quot;Rockford&quot;</td><td>53</td><td>88</td><td>[&quot;Illinois&quot;, &quot;Illinois&quot;, … &quot;Illinois&quot;]</td><td>&quot;Rockford, IL&quot;</td></tr><tr><td>&quot;Fort Wayne&quot;</td><td>53</td><td>89</td><td>[&quot;Indiana&quot;, &quot;Indiana&quot;, … &quot;Indiana&quot;]</td><td>&quot;Fort Wayne, IN…</td></tr><tr><td>&quot;Syracuse&quot;</td><td>53</td><td>88</td><td>[&quot;New York&quot;, &quot;New York&quot;, … &quot;New York&quot;]</td><td>&quot;Syracuse, NY&quot;</td></tr><tr><td>&quot;Craig&quot;</td><td>53</td><td>93</td><td>[&quot;Colorado&quot;, &quot;Colorado&quot;, … &quot;Colorado&quot;]</td><td>&quot;Craig, CO&quot;</td></tr><tr><td>&hellip;</td><td>&hellip;</td><td>&hellip;</td><td>&hellip;</td><td>&hellip;</td></tr><tr><td>&quot;Columbus&quot;</td><td>53</td><td>89</td><td>[&quot;Ohio&quot;, &quot;Ohio&quot;, … &quot;Ohio&quot;]</td><td>&quot;Columbus, OH&quot;</td></tr><tr><td>&quot;Fort Lauderdal…</td><td>53</td><td>91</td><td>[&quot;Florida&quot;, &quot;Florida&quot;, … &quot;Florida&quot;]</td><td>&quot;Fort Lauderdal…</td></tr><tr><td>&quot;Austin/City&quot;</td><td>53</td><td>100</td><td>[&quot;Texas&quot;, &quot;Texas&quot;, … &quot;Texas&quot;]</td><td>&quot;Austin/City, T…</td></tr><tr><td>&quot;Pendleton&quot;</td><td>53</td><td>96</td><td>[&quot;Oregon&quot;, &quot;Oregon&quot;, … &quot;Oregon&quot;]</td><td>&quot;Pendleton, OR&quot;</td></tr><tr><td>&quot;Rolla/Vichy&quot;</td><td>53</td><td>93</td><td>[&quot;Missouri&quot;, &quot;Missouri&quot;, … &quot;Missouri&quot;]</td><td>&quot;Rolla/Vichy, M…</td></tr><tr><td>&quot;Atlantic City&quot;</td><td>53</td><td>92</td><td>[&quot;New Jersey&quot;, &quot;New Jersey&quot;, … &quot;New Jersey&quot;]</td><td>&quot;Atlantic City,…</td></tr><tr><td>&quot;St Paul Island…</td><td>53</td><td>60</td><td>[&quot;Alaska&quot;, &quot;Alaska&quot;, … &quot;Alaska&quot;]</td><td>&quot;St Paul Island…</td></tr><tr><td>&quot;Fargo&quot;</td><td>53</td><td>87</td><td>[&quot;North Dakota&quot;, &quot;North Dakota&quot;, … &quot;North Dakota&quot;]</td><td>&quot;Fargo, ND&quot;</td></tr><tr><td>&quot;Redmond&quot;</td><td>53</td><td>94</td><td>[&quot;Oregon&quot;, &quot;Oregon&quot;, … &quot;Oregon&quot;]</td><td>&quot;Redmond, OR&quot;</td></tr><tr><td>&quot;Helena&quot;</td><td>53</td><td>92</td><td>[&quot;Montana&quot;, &quot;Montana&quot;, … &quot;Montana&quot;]</td><td>&quot;Helena, MT&quot;</td></tr><tr><td>&quot;Lewiston&quot;</td><td>53</td><td>98</td><td>[&quot;Idaho&quot;, &quot;Idaho&quot;, … &quot;Idaho&quot;]</td><td>&quot;Lewiston, ID&quot;</td></tr><tr><td>&quot;Los Angeles&quot;</td><td>53</td><td>84</td><td>[&quot;California&quot;, &quot;California&quot;, … &quot;California&quot;]</td><td>&quot;Los Angeles, C…</td></tr></tbody></table></div>"
      ],
      "text/plain": [
       "shape: (307, 5)\n",
       "┌──────────────┬───────────┬───────────────────────────┬───────────────────────────────────┬──────────────────┐\n",
       "│ Station.City ┆ row_count ┆ Data.Temperature.Max Temp ┆ Station.State                     ┆ Station.Location │\n",
       "│ ---          ┆ ---       ┆ ---                       ┆ ---                               ┆ ---              │\n",
       "│ str          ┆ u32       ┆ i64                       ┆ list[str]                         ┆ str              │\n",
       "╞══════════════╪═══════════╪═══════════════════════════╪═══════════════════════════════════╪══════════════════╡\n",
       "│ King Salmon  ┆ 53        ┆ 74                        ┆ [\"Alaska\", \"Alaska\", … \"Alaska\"]  ┆ King Salmon, AK  │\n",
       "│ Iliamna      ┆ 53        ┆ 72                        ┆ [\"Alaska\", \"Alaska\", … \"Alaska\"]  ┆ Iliamna, AK      │\n",
       "│ Concordia    ┆ 53        ┆ 96                        ┆ [\"Kansas\", \"Kansas\", … \"Kansas\"]  ┆ Concordia, KS    │\n",
       "│ Hilo         ┆ 53        ┆ 86                        ┆ [\"Hawaii\", \"Hawaii\", … \"Hawaii\"]  ┆ Hilo, HI         │\n",
       "│ Alamosa      ┆ 53        ┆ 87                        ┆ [\"Colorado\", \"Colorado\", … \"Colo… ┆ Alamosa, CO      │\n",
       "│ …            ┆ …         ┆ …                         ┆ …                                 ┆ …                │\n",
       "│ Fargo        ┆ 53        ┆ 87                        ┆ [\"North Dakota\", \"North Dakota\",… ┆ Fargo, ND        │\n",
       "│ Redmond      ┆ 53        ┆ 94                        ┆ [\"Oregon\", \"Oregon\", … \"Oregon\"]  ┆ Redmond, OR      │\n",
       "│ Helena       ┆ 53        ┆ 92                        ┆ [\"Montana\", \"Montana\", … \"Montan… ┆ Helena, MT       │\n",
       "│ Lewiston     ┆ 53        ┆ 98                        ┆ [\"Idaho\", \"Idaho\", … \"Idaho\"]     ┆ Lewiston, ID     │\n",
       "│ Los Angeles  ┆ 53        ┆ 84                        ┆ [\"California\", \"California\", … \"… ┆ Los Angeles, CA  │\n",
       "└──────────────┴───────────┴───────────────────────────┴───────────────────────────────────┴──────────────────┘"
      ]
     },
     "execution_count": 3,
     "metadata": {},
     "output_type": "execute_result"
    }
   ],
   "source": [
    "q = (\n",
    "     df.lazy()\n",
    "     .group_by(\"Station.City\")\n",
    "     .agg(\n",
    "          pl.count().alias(\"row_count\"),\n",
    "          pl.max(\"Data.Temperature.Max Temp\"),\n",
    "          pl.col(\"Station.State\"),\n",
    "          pl.first(\"Station.Location\")\n",
    "     )\n",
    ")\n",
    "\n",
    "q.collect()"
   ]
  },
  {
   "cell_type": "code",
   "execution_count": 4,
   "id": "5742ceb7-39d5-4018-8343-882ab50430a7",
   "metadata": {},
   "outputs": [
    {
     "name": "stderr",
     "output_type": "stream",
     "text": [
      "C:\\Users\\Hediye\\AppData\\Local\\Temp\\ipykernel_9960\\526533424.py:5: DeprecationWarning: `pl.count()` is deprecated. Please use `pl.len()` instead.\n",
      "  pl.count().alias(\"row_count\"),\n"
     ]
    },
    {
     "data": {
      "text/html": [
       "<div><style>\n",
       ".dataframe > thead > tr,\n",
       ".dataframe > tbody > tr {\n",
       "  text-align: right;\n",
       "  white-space: pre-wrap;\n",
       "}\n",
       "</style>\n",
       "<small>shape: (307, 5)</small><table border=\"1\" class=\"dataframe\"><thead><tr><th>Station.City</th><th>row_count</th><th>Data.Temperature.Max Temp</th><th>Station.State</th><th>Station.Location</th></tr><tr><td>str</td><td>u32</td><td>i64</td><td>list[str]</td><td>str</td></tr></thead><tbody><tr><td>&quot;Columbia&quot;</td><td>106</td><td>101</td><td>[&quot;Missouri&quot;, &quot;South Carolina&quot;, … &quot;South Carolina&quot;]</td><td>&quot;Columbia, MO&quot;</td></tr><tr><td>&quot;Rochester&quot;</td><td>106</td><td>91</td><td>[&quot;Minnesota&quot;, &quot;New York&quot;, … &quot;New York&quot;]</td><td>&quot;Rochester, MN&quot;</td></tr><tr><td>&quot;Concord&quot;</td><td>106</td><td>97</td><td>[&quot;California&quot;, &quot;New Hampshire&quot;, … &quot;New Hampshire&quot;]</td><td>&quot;Concord, CA&quot;</td></tr><tr><td>&quot;Jackson&quot;</td><td>106</td><td>96</td><td>[&quot;Kentucky&quot;, &quot;Mississippi&quot;, … &quot;Mississippi&quot;]</td><td>&quot;Jackson, KY&quot;</td></tr><tr><td>&quot;Wilmington&quot;</td><td>106</td><td>95</td><td>[&quot;Delaware&quot;, &quot;North Carolina&quot;, … &quot;North Carolina&quot;]</td><td>&quot;Wilmington, DE…</td></tr><tr><td>&quot;Portland&quot;</td><td>106</td><td>90</td><td>[&quot;Maine&quot;, &quot;Oregon&quot;, … &quot;Oregon&quot;]</td><td>&quot;Portland, ME&quot;</td></tr><tr><td>&quot;Newark&quot;</td><td>106</td><td>93</td><td>[&quot;DE&quot;, &quot;New Jersey&quot;, … &quot;New Jersey&quot;]</td><td>&quot;Newark, DE&quot;</td></tr><tr><td>&quot;Charleston&quot;</td><td>106</td><td>96</td><td>[&quot;South Carolina&quot;, &quot;West Virginia&quot;, … &quot;West Virginia&quot;]</td><td>&quot;Charleston, SC…</td></tr><tr><td>&quot;Springfield&quot;</td><td>106</td><td>95</td><td>[&quot;Illinois&quot;, &quot;Missouri&quot;, … &quot;Missouri&quot;]</td><td>&quot;Springfield, I…</td></tr><tr><td>&quot;Eureka&quot;</td><td>106</td><td>98</td><td>[&quot;California&quot;, &quot;Nevada&quot;, … &quot;Nevada&quot;]</td><td>&quot;Eureka, CA&quot;</td></tr><tr><td>&quot;Norfolk&quot;</td><td>106</td><td>93</td><td>[&quot;Nebraska&quot;, &quot;Virginia&quot;, … &quot;Virginia&quot;]</td><td>&quot;Norfolk, NE&quot;</td></tr><tr><td>&quot;Richmond&quot;</td><td>53</td><td>93</td><td>[&quot;Virginia&quot;, &quot;Virginia&quot;, … &quot;Virginia&quot;]</td><td>&quot;Richmond, VA&quot;</td></tr><tr><td>&hellip;</td><td>&hellip;</td><td>&hellip;</td><td>&hellip;</td><td>&hellip;</td></tr><tr><td>&quot;Austin/Bergstr…</td><td>53</td><td>99</td><td>[&quot;Texas&quot;, &quot;Texas&quot;, … &quot;Texas&quot;]</td><td>&quot;Austin/Bergstr…</td></tr><tr><td>&quot;Flint&quot;</td><td>53</td><td>92</td><td>[&quot;Michigan&quot;, &quot;Michigan&quot;, … &quot;Michigan&quot;]</td><td>&quot;Flint, MI&quot;</td></tr><tr><td>&quot;Petersburg&quot;</td><td>50</td><td>60</td><td>[&quot;Alaska&quot;, &quot;Alaska&quot;, … &quot;Alaska&quot;]</td><td>&quot;Petersburg, AK…</td></tr><tr><td>&quot;Oak Ridge&quot;</td><td>49</td><td>93</td><td>[&quot;Tennessee&quot;, &quot;Tennessee&quot;, … &quot;Tennessee&quot;]</td><td>&quot;Oak Ridge, TN&quot;</td></tr><tr><td>&quot;Slidell&quot;</td><td>49</td><td>94</td><td>[&quot;Louisiana&quot;, &quot;Louisiana&quot;, … &quot;Louisiana&quot;]</td><td>&quot;Slidell, LA&quot;</td></tr><tr><td>&quot;Puntilla Lake&quot;</td><td>49</td><td>60</td><td>[&quot;Alaska&quot;, &quot;Alaska&quot;, … &quot;Alaska&quot;]</td><td>&quot;Puntilla Lake,…</td></tr><tr><td>&quot;Gustavus&quot;</td><td>48</td><td>60</td><td>[&quot;Alaska&quot;, &quot;Alaska&quot;, … &quot;Alaska&quot;]</td><td>&quot;Gustavus, AK&quot;</td></tr><tr><td>&quot;Mt. Washington…</td><td>47</td><td>60</td><td>[&quot;New Hampshire&quot;, &quot;New Hampshire&quot;, … &quot;New Hampshire&quot;]</td><td>&quot;Mt. Washington…</td></tr><tr><td>&quot;Milton&quot;</td><td>47</td><td>87</td><td>[&quot;Massachusetts&quot;, &quot;Massachusetts&quot;, … &quot;Massachusetts&quot;]</td><td>&quot;Milton, MA&quot;</td></tr><tr><td>&quot;China Lake&quot;</td><td>45</td><td>111</td><td>[&quot;California&quot;, &quot;California&quot;, … &quot;California&quot;]</td><td>&quot;China Lake, CA…</td></tr><tr><td>&quot;Wrangell&quot;</td><td>30</td><td>60</td><td>[&quot;Alaska&quot;, &quot;Alaska&quot;, … &quot;Alaska&quot;]</td><td>&quot;Wrangell, AK&quot;</td></tr><tr><td>&quot;Unalakleet&quot;</td><td>5</td><td>60</td><td>[&quot;Alaska&quot;, &quot;Alaska&quot;, … &quot;Alaska&quot;]</td><td>&quot;Unalakleet, AK…</td></tr></tbody></table></div>"
      ],
      "text/plain": [
       "shape: (307, 5)\n",
       "┌────────────────┬───────────┬───────────────────────────┬───────────────────────────────────┬────────────────────┐\n",
       "│ Station.City   ┆ row_count ┆ Data.Temperature.Max Temp ┆ Station.State                     ┆ Station.Location   │\n",
       "│ ---            ┆ ---       ┆ ---                       ┆ ---                               ┆ ---                │\n",
       "│ str            ┆ u32       ┆ i64                       ┆ list[str]                         ┆ str                │\n",
       "╞════════════════╪═══════════╪═══════════════════════════╪═══════════════════════════════════╪════════════════════╡\n",
       "│ Columbia       ┆ 106       ┆ 101                       ┆ [\"Missouri\", \"South Carolina\", …… ┆ Columbia, MO       │\n",
       "│ Rochester      ┆ 106       ┆ 91                        ┆ [\"Minnesota\", \"New York\", … \"New… ┆ Rochester, MN      │\n",
       "│ Concord        ┆ 106       ┆ 97                        ┆ [\"California\", \"New Hampshire\", … ┆ Concord, CA        │\n",
       "│ Jackson        ┆ 106       ┆ 96                        ┆ [\"Kentucky\", \"Mississippi\", … \"M… ┆ Jackson, KY        │\n",
       "│ Wilmington     ┆ 106       ┆ 95                        ┆ [\"Delaware\", \"North Carolina\", …… ┆ Wilmington, DE     │\n",
       "│ …              ┆ …         ┆ …                         ┆ …                                 ┆ …                  │\n",
       "│ Mt. Washington ┆ 47        ┆ 60                        ┆ [\"New Hampshire\", \"New Hampshire… ┆ Mt. Washington, NH │\n",
       "│ Milton         ┆ 47        ┆ 87                        ┆ [\"Massachusetts\", \"Massachusetts… ┆ Milton, MA         │\n",
       "│ China Lake     ┆ 45        ┆ 111                       ┆ [\"California\", \"California\", … \"… ┆ China Lake, CA     │\n",
       "│ Wrangell       ┆ 30        ┆ 60                        ┆ [\"Alaska\", \"Alaska\", … \"Alaska\"]  ┆ Wrangell, AK       │\n",
       "│ Unalakleet     ┆ 5         ┆ 60                        ┆ [\"Alaska\", \"Alaska\", … \"Alaska\"]  ┆ Unalakleet, AK     │\n",
       "└────────────────┴───────────┴───────────────────────────┴───────────────────────────────────┴────────────────────┘"
      ]
     },
     "execution_count": 4,
     "metadata": {},
     "output_type": "execute_result"
    }
   ],
   "source": [
    "q = (\n",
    "     df.lazy()\n",
    "     .group_by(\"Station.City\")\n",
    "     .agg(\n",
    "          pl.count().alias(\"row_count\"),\n",
    "          pl.max(\"Data.Temperature.Max Temp\"),\n",
    "          pl.col(\"Station.State\"),\n",
    "          pl.first(\"Station.Location\")\n",
    "     )\n",
    "    .sort(\"row_count\", descending= True)\n",
    ")\n",
    "\n",
    "q.collect()"
   ]
  }
 ],
 "metadata": {
  "kernelspec": {
   "display_name": "Python 3 (ipykernel)",
   "language": "python",
   "name": "python3"
  },
  "language_info": {
   "codemirror_mode": {
    "name": "ipython",
    "version": 3
   },
   "file_extension": ".py",
   "mimetype": "text/x-python",
   "name": "python",
   "nbconvert_exporter": "python",
   "pygments_lexer": "ipython3",
   "version": "3.12.1"
  }
 },
 "nbformat": 4,
 "nbformat_minor": 5
}
