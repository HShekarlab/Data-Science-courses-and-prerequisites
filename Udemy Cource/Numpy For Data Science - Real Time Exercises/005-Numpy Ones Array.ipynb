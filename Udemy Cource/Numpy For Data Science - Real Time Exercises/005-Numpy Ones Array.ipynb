{
 "cells": [
  {
   "cell_type": "markdown",
   "id": "86211dc0-e90b-48f0-b641-f5e19f4a74a2",
   "metadata": {},
   "source": [
    "### Ones Array - An array in which all values are 1."
   ]
  },
  {
   "cell_type": "markdown",
   "id": "958d042c-8fc7-422f-a512-82e2e11bdaaa",
   "metadata": {},
   "source": [
    "### O = np.ones(shape, dtype)"
   ]
  },
  {
   "cell_type": "markdown",
   "id": "8a546ec5-c101-45ac-b99c-da3bdc3568b1",
   "metadata": {},
   "source": [
    "- We can define the shape and data-type of ones array.\n",
    "- We can create 1-D, 2-D, as well 3-D ones array.\n",
    "- The default data-type is float.\n",
    "\r\n"
   ]
  },
  {
   "cell_type": "markdown",
   "id": "8cf9b9ee-87bc-495a-b5f9-1a16f31f2887",
   "metadata": {},
   "source": [
    "* ndim - to check the dimension of the array\n",
    "* shape - to check the shape of the array\n",
    "* size - to check the size of the array\n",
    "\r\n"
   ]
  },
  {
   "cell_type": "code",
   "execution_count": 1,
   "id": "3409fc57-e8b0-4907-b476-9e05d7d89e8a",
   "metadata": {},
   "outputs": [],
   "source": [
    "import numpy as np"
   ]
  },
  {
   "cell_type": "markdown",
   "id": "024975b6-0603-43d0-bb7e-bfecbd6c1d04",
   "metadata": {},
   "source": [
    "**1 D**"
   ]
  },
  {
   "cell_type": "code",
   "execution_count": 2,
   "id": "5f9d7e4e-3d11-4b3e-9bf8-e139eaedd00b",
   "metadata": {},
   "outputs": [
    {
     "data": {
      "text/plain": [
       "array([1., 1., 1.])"
      ]
     },
     "execution_count": 2,
     "metadata": {},
     "output_type": "execute_result"
    }
   ],
   "source": [
    "o_1 = np.ones(3)\n",
    "o_1"
   ]
  },
  {
   "cell_type": "code",
   "execution_count": 3,
   "id": "4b8e03b9-c08e-490f-9803-76f1a08af8ee",
   "metadata": {},
   "outputs": [
    {
     "data": {
      "text/plain": [
       "array([1, 1, 1])"
      ]
     },
     "execution_count": 3,
     "metadata": {},
     "output_type": "execute_result"
    }
   ],
   "source": [
    "o_1 = np.ones(3, dtype= int)\n",
    "o_1"
   ]
  },
  {
   "cell_type": "code",
   "execution_count": 4,
   "id": "62d8cb06-0485-4c9f-8151-181e9d16edf9",
   "metadata": {},
   "outputs": [
    {
     "data": {
      "text/plain": [
       "numpy.ndarray"
      ]
     },
     "execution_count": 4,
     "metadata": {},
     "output_type": "execute_result"
    }
   ],
   "source": [
    "type(o_1)"
   ]
  },
  {
   "cell_type": "code",
   "execution_count": 5,
   "id": "c5559003-01c8-4054-ba57-619dbf412633",
   "metadata": {},
   "outputs": [
    {
     "data": {
      "text/plain": [
       "(3,)"
      ]
     },
     "execution_count": 5,
     "metadata": {},
     "output_type": "execute_result"
    }
   ],
   "source": [
    "o_1.shape"
   ]
  },
  {
   "cell_type": "code",
   "execution_count": 6,
   "id": "84c4afec-d3e8-45ab-9b43-3a72b0cd21c1",
   "metadata": {},
   "outputs": [
    {
     "data": {
      "text/plain": [
       "1"
      ]
     },
     "execution_count": 6,
     "metadata": {},
     "output_type": "execute_result"
    }
   ],
   "source": [
    "o_1.ndim"
   ]
  },
  {
   "cell_type": "code",
   "execution_count": 7,
   "id": "9b6c6d68-8de4-41a0-b02e-a395582bb564",
   "metadata": {},
   "outputs": [
    {
     "data": {
      "text/plain": [
       "3"
      ]
     },
     "execution_count": 7,
     "metadata": {},
     "output_type": "execute_result"
    }
   ],
   "source": [
    "o_1.size"
   ]
  },
  {
   "cell_type": "markdown",
   "id": "113f40ae-6cd2-4520-bbc4-f46425ac445d",
   "metadata": {},
   "source": [
    "**2 D**"
   ]
  },
  {
   "cell_type": "code",
   "execution_count": 8,
   "id": "f0627951-8072-4454-9b78-d863792cca3f",
   "metadata": {},
   "outputs": [
    {
     "data": {
      "text/plain": [
       "array([[1., 1., 1.],\n",
       "       [1., 1., 1.]])"
      ]
     },
     "execution_count": 8,
     "metadata": {},
     "output_type": "execute_result"
    }
   ],
   "source": [
    "o_2 = np.ones((2, 3))\n",
    "o_2"
   ]
  },
  {
   "cell_type": "code",
   "execution_count": 9,
   "id": "e10d4e35-3cc3-4b12-be2f-0668bb588010",
   "metadata": {},
   "outputs": [
    {
     "data": {
      "text/plain": [
       "array([[1, 1, 1],\n",
       "       [1, 1, 1]])"
      ]
     },
     "execution_count": 9,
     "metadata": {},
     "output_type": "execute_result"
    }
   ],
   "source": [
    "o_2 = np.ones((2, 3), dtype= int)\n",
    "o_2"
   ]
  },
  {
   "cell_type": "code",
   "execution_count": 10,
   "id": "757e4949-0ecd-4f1c-8b35-be710deb5ca2",
   "metadata": {},
   "outputs": [
    {
     "data": {
      "text/plain": [
       "numpy.ndarray"
      ]
     },
     "execution_count": 10,
     "metadata": {},
     "output_type": "execute_result"
    }
   ],
   "source": [
    "type(o_2)"
   ]
  },
  {
   "cell_type": "code",
   "execution_count": 11,
   "id": "d2dcd0c1-1097-42e8-adb1-dcb0c1fc8212",
   "metadata": {},
   "outputs": [
    {
     "data": {
      "text/plain": [
       "(2, 3)"
      ]
     },
     "execution_count": 11,
     "metadata": {},
     "output_type": "execute_result"
    }
   ],
   "source": [
    "o_2.shape"
   ]
  },
  {
   "cell_type": "code",
   "execution_count": 12,
   "id": "cee13122-d737-43ca-964a-55455784dc5c",
   "metadata": {},
   "outputs": [
    {
     "data": {
      "text/plain": [
       "2"
      ]
     },
     "execution_count": 12,
     "metadata": {},
     "output_type": "execute_result"
    }
   ],
   "source": [
    "o_2.ndim"
   ]
  },
  {
   "cell_type": "code",
   "execution_count": 13,
   "id": "d2e12e97-2965-4239-80ef-d322b13971f4",
   "metadata": {},
   "outputs": [
    {
     "data": {
      "text/plain": [
       "6"
      ]
     },
     "execution_count": 13,
     "metadata": {},
     "output_type": "execute_result"
    }
   ],
   "source": [
    "o_2.size"
   ]
  },
  {
   "cell_type": "markdown",
   "id": "a5ced3ac-55a9-4b32-8817-a49bb4c33559",
   "metadata": {},
   "source": [
    "**3 D**"
   ]
  },
  {
   "cell_type": "code",
   "execution_count": 14,
   "id": "db15b070-0e55-4c32-9011-6cf8bc61c377",
   "metadata": {},
   "outputs": [
    {
     "data": {
      "text/plain": [
       "array([[[1., 1., 1., 1.],\n",
       "        [1., 1., 1., 1.],\n",
       "        [1., 1., 1., 1.]],\n",
       "\n",
       "       [[1., 1., 1., 1.],\n",
       "        [1., 1., 1., 1.],\n",
       "        [1., 1., 1., 1.]]])"
      ]
     },
     "execution_count": 14,
     "metadata": {},
     "output_type": "execute_result"
    }
   ],
   "source": [
    "o_3 = np.ones((2, 3, 4))\n",
    "o_3"
   ]
  },
  {
   "cell_type": "code",
   "execution_count": 15,
   "id": "04fd7943-f6f3-48ef-882b-1af848a92a49",
   "metadata": {},
   "outputs": [
    {
     "data": {
      "text/plain": [
       "array([[[1, 1, 1, 1],\n",
       "        [1, 1, 1, 1],\n",
       "        [1, 1, 1, 1]],\n",
       "\n",
       "       [[1, 1, 1, 1],\n",
       "        [1, 1, 1, 1],\n",
       "        [1, 1, 1, 1]]])"
      ]
     },
     "execution_count": 15,
     "metadata": {},
     "output_type": "execute_result"
    }
   ],
   "source": [
    "o_3 = np.ones((2, 3, 4), dtype= int)\n",
    "o_3"
   ]
  },
  {
   "cell_type": "code",
   "execution_count": 16,
   "id": "82cae4f3-6594-4d8f-b42b-820f458d480d",
   "metadata": {},
   "outputs": [
    {
     "data": {
      "text/plain": [
       "numpy.ndarray"
      ]
     },
     "execution_count": 16,
     "metadata": {},
     "output_type": "execute_result"
    }
   ],
   "source": [
    "type(o_3)"
   ]
  },
  {
   "cell_type": "code",
   "execution_count": 17,
   "id": "ddf810ed-e80d-4e7a-8b60-ad5ec944f9fd",
   "metadata": {},
   "outputs": [
    {
     "data": {
      "text/plain": [
       "(2, 3, 4)"
      ]
     },
     "execution_count": 17,
     "metadata": {},
     "output_type": "execute_result"
    }
   ],
   "source": [
    "# o_3.shape\n",
    "np.shape(o_3)"
   ]
  },
  {
   "cell_type": "code",
   "execution_count": 18,
   "id": "2aee8b26-fbf4-4a69-9f08-fce3318e64a5",
   "metadata": {},
   "outputs": [
    {
     "data": {
      "text/plain": [
       "3"
      ]
     },
     "execution_count": 18,
     "metadata": {},
     "output_type": "execute_result"
    }
   ],
   "source": [
    "# o_3.ndim\n",
    "np.ndim(o_3)"
   ]
  },
  {
   "cell_type": "code",
   "execution_count": 19,
   "id": "eff33aae-e1b5-4576-81c3-ab13ac98fa21",
   "metadata": {},
   "outputs": [
    {
     "data": {
      "text/plain": [
       "24"
      ]
     },
     "execution_count": 19,
     "metadata": {},
     "output_type": "execute_result"
    }
   ],
   "source": [
    "# o_3.size\n",
    "np.size(o_3)"
   ]
  }
 ],
 "metadata": {
  "kernelspec": {
   "display_name": "Python 3 (ipykernel)",
   "language": "python",
   "name": "python3"
  },
  "language_info": {
   "codemirror_mode": {
    "name": "ipython",
    "version": 3
   },
   "file_extension": ".py",
   "mimetype": "text/x-python",
   "name": "python",
   "nbconvert_exporter": "python",
   "pygments_lexer": "ipython3",
   "version": "3.10.7"
  }
 },
 "nbformat": 4,
 "nbformat_minor": 5
}
